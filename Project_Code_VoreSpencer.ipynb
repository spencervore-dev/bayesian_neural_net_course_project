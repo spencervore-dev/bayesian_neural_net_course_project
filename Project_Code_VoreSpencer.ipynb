{
 "cells": [
  {
   "cell_type": "markdown",
   "id": "982a100f-0d65-4ecd-aa7d-6aa22a57c19c",
   "metadata": {},
   "source": [
    "# Georgia Tech ISYE6420 Course Project"
   ]
  },
  {
   "cell_type": "markdown",
   "id": "e953394c-a314-497f-9ebd-979b2e625688",
   "metadata": {},
   "source": [
    "**Fall 2023  \n",
    "Spencer Vore**"
   ]
  },
  {
   "cell_type": "code",
   "execution_count": 1,
   "id": "14dfbfb6-7a56-45f1-86ec-1509e9ecf0fb",
   "metadata": {},
   "outputs": [],
   "source": [
    "import pymc as pm\n",
    "import pandas as pd\n",
    "from pandas.api.types import is_numeric_dtype\n",
    "\n",
    "import arviz as az\n",
    "from collections.abc import Sequence\n",
    "from typing import Optional\n",
    "\n",
    "from sklearn.model_selection import train_test_split\n",
    "from sklearn.metrics import mean_squared_error\n",
    "\n",
    "import seaborn as sns"
   ]
  },
  {
   "cell_type": "markdown",
   "id": "29c6b737-be5c-4ce9-b77c-efcd2824b3fa",
   "metadata": {
    "tags": []
   },
   "source": [
    "### Define adjustable Constants / Settings  \n",
    "Use this to adjust script settings / MCMC run. Sorry, didn't add it to a .env file or something fancier. Works for purpose of demo / tinkering."
   ]
  },
  {
   "cell_type": "code",
   "execution_count": 2,
   "id": "620e860d-e953-4e3f-8ac3-4266669a89fb",
   "metadata": {},
   "outputs": [],
   "source": [
    "n_all = 3500 # Size of data we want for MCMC. Randomly sample this many points from full dataset. Includes train and test sample size.\n",
    "n_seed = 42 # Random seed for down sampling n datapoints from full dataset\n",
    "\n",
    "n_test = 2500 # Size of test set we want to saomple from n_all.\n",
    "split_seed = 43 # Random seed used for train / test split\n",
    "\n",
    "path_to_datafile = \"abalone/abalone.data\"\n",
    "\n",
    "standardize = True # Controls whether to standardize numerical columns"
   ]
  },
  {
   "cell_type": "markdown",
   "id": "17dacb81-6181-4d5b-aa22-09c5f6e011b4",
   "metadata": {},
   "source": [
    "### Prepare Dataset"
   ]
  },
  {
   "cell_type": "markdown",
   "id": "a0ad572e-fa93-4b6f-b61a-ad4d9ca80ead",
   "metadata": {},
   "source": [
    "**Load Dataset**"
   ]
  },
  {
   "cell_type": "code",
   "execution_count": 3,
   "id": "e5726059-0095-4165-b2a8-6f716d505115",
   "metadata": {},
   "outputs": [],
   "source": [
    "data = pd.read_csv(path_to_datafile, header=None)"
   ]
  },
  {
   "cell_type": "code",
   "execution_count": 4,
   "id": "8abb4b7a-fdfe-4ac8-a82b-e89ef2b7a074",
   "metadata": {},
   "outputs": [
    {
     "data": {
      "text/html": [
       "<div>\n",
       "<style scoped>\n",
       "    .dataframe tbody tr th:only-of-type {\n",
       "        vertical-align: middle;\n",
       "    }\n",
       "\n",
       "    .dataframe tbody tr th {\n",
       "        vertical-align: top;\n",
       "    }\n",
       "\n",
       "    .dataframe thead th {\n",
       "        text-align: right;\n",
       "    }\n",
       "</style>\n",
       "<table border=\"1\" class=\"dataframe\">\n",
       "  <thead>\n",
       "    <tr style=\"text-align: right;\">\n",
       "      <th></th>\n",
       "      <th>0</th>\n",
       "      <th>1</th>\n",
       "      <th>2</th>\n",
       "      <th>3</th>\n",
       "      <th>4</th>\n",
       "      <th>5</th>\n",
       "      <th>6</th>\n",
       "      <th>7</th>\n",
       "      <th>8</th>\n",
       "    </tr>\n",
       "  </thead>\n",
       "  <tbody>\n",
       "    <tr>\n",
       "      <th>0</th>\n",
       "      <td>M</td>\n",
       "      <td>0.455</td>\n",
       "      <td>0.365</td>\n",
       "      <td>0.095</td>\n",
       "      <td>0.5140</td>\n",
       "      <td>0.2245</td>\n",
       "      <td>0.1010</td>\n",
       "      <td>0.150</td>\n",
       "      <td>15</td>\n",
       "    </tr>\n",
       "    <tr>\n",
       "      <th>1</th>\n",
       "      <td>M</td>\n",
       "      <td>0.350</td>\n",
       "      <td>0.265</td>\n",
       "      <td>0.090</td>\n",
       "      <td>0.2255</td>\n",
       "      <td>0.0995</td>\n",
       "      <td>0.0485</td>\n",
       "      <td>0.070</td>\n",
       "      <td>7</td>\n",
       "    </tr>\n",
       "    <tr>\n",
       "      <th>2</th>\n",
       "      <td>F</td>\n",
       "      <td>0.530</td>\n",
       "      <td>0.420</td>\n",
       "      <td>0.135</td>\n",
       "      <td>0.6770</td>\n",
       "      <td>0.2565</td>\n",
       "      <td>0.1415</td>\n",
       "      <td>0.210</td>\n",
       "      <td>9</td>\n",
       "    </tr>\n",
       "    <tr>\n",
       "      <th>3</th>\n",
       "      <td>M</td>\n",
       "      <td>0.440</td>\n",
       "      <td>0.365</td>\n",
       "      <td>0.125</td>\n",
       "      <td>0.5160</td>\n",
       "      <td>0.2155</td>\n",
       "      <td>0.1140</td>\n",
       "      <td>0.155</td>\n",
       "      <td>10</td>\n",
       "    </tr>\n",
       "    <tr>\n",
       "      <th>4</th>\n",
       "      <td>I</td>\n",
       "      <td>0.330</td>\n",
       "      <td>0.255</td>\n",
       "      <td>0.080</td>\n",
       "      <td>0.2050</td>\n",
       "      <td>0.0895</td>\n",
       "      <td>0.0395</td>\n",
       "      <td>0.055</td>\n",
       "      <td>7</td>\n",
       "    </tr>\n",
       "  </tbody>\n",
       "</table>\n",
       "</div>"
      ],
      "text/plain": [
       "   0      1      2      3       4       5       6      7   8\n",
       "0  M  0.455  0.365  0.095  0.5140  0.2245  0.1010  0.150  15\n",
       "1  M  0.350  0.265  0.090  0.2255  0.0995  0.0485  0.070   7\n",
       "2  F  0.530  0.420  0.135  0.6770  0.2565  0.1415  0.210   9\n",
       "3  M  0.440  0.365  0.125  0.5160  0.2155  0.1140  0.155  10\n",
       "4  I  0.330  0.255  0.080  0.2050  0.0895  0.0395  0.055   7"
      ]
     },
     "execution_count": 4,
     "metadata": {},
     "output_type": "execute_result"
    }
   ],
   "source": [
    "data.head()"
   ]
  },
  {
   "cell_type": "code",
   "execution_count": 5,
   "id": "60bf06f2-17bd-4521-99bc-be01a8a6aad0",
   "metadata": {},
   "outputs": [
    {
     "data": {
      "text/plain": [
       "(4177, 9)"
      ]
     },
     "execution_count": 5,
     "metadata": {},
     "output_type": "execute_result"
    }
   ],
   "source": [
    "data.shape"
   ]
  },
  {
   "cell_type": "markdown",
   "id": "cb05078b-2a98-4603-a18f-df97c4abedb0",
   "metadata": {},
   "source": [
    "**Downsample dataset**  \n",
    "This will help the MCMC algorithm run faster... can adjust upward for better prediction accuracy, or downward for faster computation. Take random sample of data."
   ]
  },
  {
   "cell_type": "code",
   "execution_count": 6,
   "id": "688c2494-0a52-4937-9aa3-d83519774f1e",
   "metadata": {},
   "outputs": [],
   "source": [
    "# Uncomment this line to use full datasize\n",
    "# n = data.shape[0]"
   ]
  },
  {
   "cell_type": "code",
   "execution_count": 7,
   "id": "81ebf77f-1224-42e2-a7ef-73c78a33ceb4",
   "metadata": {},
   "outputs": [],
   "source": [
    "n = n_all\n",
    "assert n <= data.shape[0] # Can't chose more samples than size of data\n",
    "data = data.sample(n, random_state=n_seed)"
   ]
  },
  {
   "cell_type": "markdown",
   "id": "f5aa2a6d-f7d1-424f-af80-10958704e42a",
   "metadata": {},
   "source": [
    "**Split data into training and test sets**"
   ]
  },
  {
   "cell_type": "code",
   "execution_count": 8,
   "id": "fb54e041-bbb3-4ca1-b2a4-8ef6ca05e8f1",
   "metadata": {},
   "outputs": [
    {
     "data": {
      "text/plain": [
       "(3500, 9)"
      ]
     },
     "execution_count": 8,
     "metadata": {},
     "output_type": "execute_result"
    }
   ],
   "source": [
    "data.shape"
   ]
  },
  {
   "cell_type": "code",
   "execution_count": 9,
   "id": "b74d7e01-ee4b-4ac9-8486-ea15127c1d0c",
   "metadata": {},
   "outputs": [],
   "source": [
    "assert n_test < n_all # Test size should be smaller than full size\n",
    "train_data, test_data = train_test_split(data, test_size=n_test, random_state=split_seed)"
   ]
  },
  {
   "cell_type": "code",
   "execution_count": 10,
   "id": "72d15c10-55cc-4201-ac07-abb3a460e497",
   "metadata": {},
   "outputs": [
    {
     "data": {
      "text/plain": [
       "(1000, 9)"
      ]
     },
     "execution_count": 10,
     "metadata": {},
     "output_type": "execute_result"
    }
   ],
   "source": [
    "train_data.shape"
   ]
  },
  {
   "cell_type": "code",
   "execution_count": 11,
   "id": "69f2908b-83d5-4feb-8ae2-b741f208a770",
   "metadata": {},
   "outputs": [
    {
     "data": {
      "text/plain": [
       "(2500, 9)"
      ]
     },
     "execution_count": 11,
     "metadata": {},
     "output_type": "execute_result"
    }
   ],
   "source": [
    "test_data.shape"
   ]
  },
  {
   "cell_type": "markdown",
   "id": "2756917e-ea1e-4923-891d-8e47350eef18",
   "metadata": {},
   "source": [
    "**Standardize train dataset**  \n",
    "Not sure if this is nessecary, but doesn't hurt and could help."
   ]
  },
  {
   "cell_type": "code",
   "execution_count": 12,
   "id": "38cb434e-e16b-43c6-9d2d-2d9fda5f4872",
   "metadata": {},
   "outputs": [],
   "source": [
    "class DataPrep:\n",
    "    '''\n",
    "    Standardize the data. By writing this as an object, we can save the statistics calculated for the standardization\n",
    "    so we can use them later to predict new datapoints in our model.\n",
    "    '''\n",
    "    def __init__(self):\n",
    "        self.means = dict()\n",
    "        self.stdevs = dict()\n",
    "        \n",
    "    def prep(self, X_df: pd.DataFrame, X_df_all: Optional[pd.DataFrame] = None, \n",
    "             use_prev_standardization=False, standardize=True) -> pd.DataFrame:\n",
    "        \"\"\"\n",
    "        This takes a dataset, and prepares it. Numerical columns are standardized. Categorical columns \n",
    "        are one hot encoded so we can fit a numerical regression with a coefficient for each category.\n",
    "        \n",
    "        From TA's example github for numerical standardization\n",
    "        Standardize input variables by 2 std dev.\n",
    "\n",
    "        For standardization, see:\n",
    "        https://stat.columbia.edu/~gelman/research/published/standardizing7.pdf\n",
    "        https://areding.github.io/6420-pymc/unit7/Unit7-arrhythmia.html\n",
    "        \n",
    "        INPUTS:\n",
    "        X_df - The train or test dataset you want to standardize and one hot encode\n",
    "        X_df_all - The full dataset you sampled X_df from. Used to check that all categorical values in X_df_all are also in X_df. Otherwise,\n",
    "            you will get an output dataset that doesn't fully one hot encode the full dataset and your dimensions will be off. If this fails,\n",
    "            you will need to add more logic to this function to handle the edge case. Right now, it just throws and exception.\n",
    "        use_prev_standardization - Set this to true is X_df is a test set. This will use previously saved means and stdevs from training set \n",
    "            (saved in the object) to standardize the test dataset in the same way. If fasle, will recalculate the means and stdev from X_df.\n",
    "        \n",
    "        RETURNS:\n",
    "        Standardized and one hot encoded dataframe based on X_df input\n",
    "        \"\"\"\n",
    "        \n",
    "        X_standardized = pd.DataFrame()\n",
    "            \n",
    "        for colname in X_df.columns:\n",
    "            col = X_df[colname]\n",
    "            if is_numeric_dtype(col):\n",
    "                if standardize:\n",
    "                    if not use_prev_standardization:\n",
    "                        self.means[colname] = col.mean()\n",
    "                        self.stdevs[colname] = col.std()\n",
    "                    X_standardized[colname] = (col - self.means[colname]) / (2 * self.stdevs[colname])\n",
    "                else:\n",
    "                    if not use_prev_standardization:\n",
    "                        self.means[colname] = None\n",
    "                        self.stdevs[colname] = None\n",
    "                    X_standardized[colname] = col\n",
    "            else:\n",
    "                X_onehot = pd.get_dummies(X_df[colname], prefix=colname, dtype=int)\n",
    "                \n",
    "                # Make sure all categorical values are in subsample. If this breaks,\n",
    "                # add logic to handle this edge case, such as inserting missing column where \n",
    "                # everything is False\n",
    "                X_onehot_all = pd.get_dummies(X_df_all[colname], prefix=colname, dtype=int)\n",
    "                assert set(X_onehot.columns) == set(X_onehot_all.columns)\n",
    "                    \n",
    "                if X_standardized.empty:\n",
    "                    X_standardized = X_onehot\n",
    "                else:\n",
    "                    X_standardized = X_standardized.join(X_onehot)\n",
    "                if not use_prev_standardization:\n",
    "                    onehot_colnames = X_onehot.columns\n",
    "                    for o_colname in onehot_colnames:\n",
    "                        self.means[o_colname] = None\n",
    "                        self.stdevs[o_colname] = None\n",
    "\n",
    "        return X_standardized\n"
   ]
  },
  {
   "cell_type": "code",
   "execution_count": 13,
   "id": "cf25228b-7bc0-4fdb-bb62-a81cbe0c963b",
   "metadata": {},
   "outputs": [],
   "source": [
    "data_preper = DataPrep()\n",
    "train_data_std = data_preper.prep(X_df = train_data, X_df_all = data, standardize=standardize)"
   ]
  },
  {
   "cell_type": "code",
   "execution_count": 14,
   "id": "bfb78427-ef2a-4990-8533-cdcb22a78d68",
   "metadata": {},
   "outputs": [
    {
     "data": {
      "text/html": [
       "<div>\n",
       "<style scoped>\n",
       "    .dataframe tbody tr th:only-of-type {\n",
       "        vertical-align: middle;\n",
       "    }\n",
       "\n",
       "    .dataframe tbody tr th {\n",
       "        vertical-align: top;\n",
       "    }\n",
       "\n",
       "    .dataframe thead th {\n",
       "        text-align: right;\n",
       "    }\n",
       "</style>\n",
       "<table border=\"1\" class=\"dataframe\">\n",
       "  <thead>\n",
       "    <tr style=\"text-align: right;\">\n",
       "      <th></th>\n",
       "      <th>0_F</th>\n",
       "      <th>0_I</th>\n",
       "      <th>0_M</th>\n",
       "      <th>1</th>\n",
       "      <th>2</th>\n",
       "      <th>3</th>\n",
       "      <th>4</th>\n",
       "      <th>5</th>\n",
       "      <th>6</th>\n",
       "      <th>7</th>\n",
       "      <th>8</th>\n",
       "    </tr>\n",
       "  </thead>\n",
       "  <tbody>\n",
       "    <tr>\n",
       "      <th>2413</th>\n",
       "      <td>1</td>\n",
       "      <td>0</td>\n",
       "      <td>0</td>\n",
       "      <td>-0.069544</td>\n",
       "      <td>-0.132712</td>\n",
       "      <td>0.080855</td>\n",
       "      <td>-0.176550</td>\n",
       "      <td>-0.143699</td>\n",
       "      <td>0.046827</td>\n",
       "      <td>-0.238583</td>\n",
       "      <td>0.314353</td>\n",
       "    </tr>\n",
       "    <tr>\n",
       "      <th>476</th>\n",
       "      <td>1</td>\n",
       "      <td>0</td>\n",
       "      <td>0</td>\n",
       "      <td>-0.234437</td>\n",
       "      <td>-0.283264</td>\n",
       "      <td>-0.306318</td>\n",
       "      <td>-0.408903</td>\n",
       "      <td>-0.451068</td>\n",
       "      <td>-0.405808</td>\n",
       "      <td>-0.366290</td>\n",
       "      <td>-0.148839</td>\n",
       "    </tr>\n",
       "    <tr>\n",
       "      <th>3877</th>\n",
       "      <td>1</td>\n",
       "      <td>0</td>\n",
       "      <td>0</td>\n",
       "      <td>0.507583</td>\n",
       "      <td>0.469497</td>\n",
       "      <td>1.113314</td>\n",
       "      <td>0.808427</td>\n",
       "      <td>0.514787</td>\n",
       "      <td>1.032108</td>\n",
       "      <td>0.624787</td>\n",
       "      <td>0.777546</td>\n",
       "    </tr>\n",
       "    <tr>\n",
       "      <th>3828</th>\n",
       "      <td>0</td>\n",
       "      <td>0</td>\n",
       "      <td>1</td>\n",
       "      <td>0.651865</td>\n",
       "      <td>0.569866</td>\n",
       "      <td>0.468027</td>\n",
       "      <td>0.724578</td>\n",
       "      <td>0.886097</td>\n",
       "      <td>0.782930</td>\n",
       "      <td>0.495281</td>\n",
       "      <td>0.159956</td>\n",
       "    </tr>\n",
       "    <tr>\n",
       "      <th>579</th>\n",
       "      <td>1</td>\n",
       "      <td>0</td>\n",
       "      <td>0</td>\n",
       "      <td>0.445748</td>\n",
       "      <td>0.369129</td>\n",
       "      <td>0.468027</td>\n",
       "      <td>0.547282</td>\n",
       "      <td>0.322962</td>\n",
       "      <td>0.565757</td>\n",
       "      <td>1.002512</td>\n",
       "      <td>1.086341</td>\n",
       "    </tr>\n",
       "  </tbody>\n",
       "</table>\n",
       "</div>"
      ],
      "text/plain": [
       "      0_F  0_I  0_M         1         2         3         4         5  \\\n",
       "2413    1    0    0 -0.069544 -0.132712  0.080855 -0.176550 -0.143699   \n",
       "476     1    0    0 -0.234437 -0.283264 -0.306318 -0.408903 -0.451068   \n",
       "3877    1    0    0  0.507583  0.469497  1.113314  0.808427  0.514787   \n",
       "3828    0    0    1  0.651865  0.569866  0.468027  0.724578  0.886097   \n",
       "579     1    0    0  0.445748  0.369129  0.468027  0.547282  0.322962   \n",
       "\n",
       "             6         7         8  \n",
       "2413  0.046827 -0.238583  0.314353  \n",
       "476  -0.405808 -0.366290 -0.148839  \n",
       "3877  1.032108  0.624787  0.777546  \n",
       "3828  0.782930  0.495281  0.159956  \n",
       "579   0.565757  1.002512  1.086341  "
      ]
     },
     "execution_count": 14,
     "metadata": {},
     "output_type": "execute_result"
    }
   ],
   "source": [
    "train_data_std.head()"
   ]
  },
  {
   "cell_type": "code",
   "execution_count": 15,
   "id": "c462f0bd-fca5-494d-a9b2-cfde83e43a79",
   "metadata": {},
   "outputs": [
    {
     "data": {
      "text/plain": [
       "(1000, 11)"
      ]
     },
     "execution_count": 15,
     "metadata": {},
     "output_type": "execute_result"
    }
   ],
   "source": [
    "train_data_std.shape"
   ]
  },
  {
   "cell_type": "code",
   "execution_count": 16,
   "id": "cccb3f63-aa3f-4044-adfa-076dc2d84df5",
   "metadata": {},
   "outputs": [
    {
     "data": {
      "text/plain": [
       "{'0_F': None,\n",
       " '0_I': None,\n",
       " '0_M': None,\n",
       " 1: 0.52187,\n",
       " 2: 0.406445,\n",
       " 3: 0.13873500000000002,\n",
       " 4: 0.8257615,\n",
       " 5: 0.35754949999999996,\n",
       " 6: 0.179758,\n",
       " 7: 0.23632150000000002,\n",
       " 8: 9.964}"
      ]
     },
     "execution_count": 16,
     "metadata": {},
     "output_type": "execute_result"
    }
   ],
   "source": [
    "data_preper.means"
   ]
  },
  {
   "cell_type": "code",
   "execution_count": 17,
   "id": "ef06a4cf-93d6-4981-ad0e-660633a0d611",
   "metadata": {},
   "outputs": [
    {
     "data": {
      "text/plain": [
       "{'0_F': None,\n",
       " '0_I': None,\n",
       " '0_M': None,\n",
       " 1: 0.12129041373688385,\n",
       " 2: 0.09963314578361329,\n",
       " 3: 0.038742428302195396,\n",
       " 4: 0.4949355933950996,\n",
       " 5: 0.22285951777838525,\n",
       " 6: 0.10935971599946429,\n",
       " 7: 0.13899015847138926,\n",
       " 8: 3.2383933039689903}"
      ]
     },
     "execution_count": 17,
     "metadata": {},
     "output_type": "execute_result"
    }
   ],
   "source": [
    "data_preper.stdevs"
   ]
  },
  {
   "cell_type": "code",
   "execution_count": 18,
   "id": "92b47480-2f70-4028-b06d-c5045ddbfe1e",
   "metadata": {},
   "outputs": [],
   "source": [
    "X_train = train_data_std.drop(8, axis=1).to_numpy()\n",
    "y_train = train_data_std[8].to_numpy()"
   ]
  },
  {
   "cell_type": "code",
   "execution_count": 19,
   "id": "ae95b51e-ed5e-4d8e-8014-536cef232e10",
   "metadata": {},
   "outputs": [
    {
     "data": {
      "text/plain": [
       "array([[ 1.        ,  0.        ,  0.        , ..., -0.14369927,\n",
       "         0.04682712, -0.23858344],\n",
       "       [ 1.        ,  0.        ,  0.        , ..., -0.45106779,\n",
       "        -0.40580756, -0.36629032],\n",
       "       [ 1.        ,  0.        ,  0.        , ...,  0.5147873 ,\n",
       "         1.03210765,  0.62478704],\n",
       "       ...,\n",
       "       [ 1.        ,  0.        ,  0.        , ..., -0.48696484,\n",
       "        -0.37151706, -0.49039983],\n",
       "       [ 0.        ,  1.        ,  0.        , ..., -0.75955809,\n",
       "        -0.77157296, -0.80337163],\n",
       "       [ 0.        ,  1.        ,  0.        , ..., -0.6081174 ,\n",
       "        -0.62983887, -0.59832114]])"
      ]
     },
     "execution_count": 19,
     "metadata": {},
     "output_type": "execute_result"
    }
   ],
   "source": [
    "X_train"
   ]
  },
  {
   "cell_type": "markdown",
   "id": "bab08c31-35f9-417c-8ce9-b066783830cf",
   "metadata": {},
   "source": [
    "**Apply standardization to test dataset**"
   ]
  },
  {
   "cell_type": "code",
   "execution_count": 20,
   "id": "1ddfbd5e-d893-4de5-b907-fc1c8c2cd725",
   "metadata": {},
   "outputs": [],
   "source": [
    "test_data_std = data_preper.prep(X_df = test_data, X_df_all = data, use_prev_standardization=True, standardize=standardize)"
   ]
  },
  {
   "cell_type": "code",
   "execution_count": 21,
   "id": "4e492b6a-e6d8-464c-9891-a2eb49ecf7aa",
   "metadata": {},
   "outputs": [
    {
     "data": {
      "text/html": [
       "<div>\n",
       "<style scoped>\n",
       "    .dataframe tbody tr th:only-of-type {\n",
       "        vertical-align: middle;\n",
       "    }\n",
       "\n",
       "    .dataframe tbody tr th {\n",
       "        vertical-align: top;\n",
       "    }\n",
       "\n",
       "    .dataframe thead th {\n",
       "        text-align: right;\n",
       "    }\n",
       "</style>\n",
       "<table border=\"1\" class=\"dataframe\">\n",
       "  <thead>\n",
       "    <tr style=\"text-align: right;\">\n",
       "      <th></th>\n",
       "      <th>0_F</th>\n",
       "      <th>0_I</th>\n",
       "      <th>0_M</th>\n",
       "      <th>1</th>\n",
       "      <th>2</th>\n",
       "      <th>3</th>\n",
       "      <th>4</th>\n",
       "      <th>5</th>\n",
       "      <th>6</th>\n",
       "      <th>7</th>\n",
       "      <th>8</th>\n",
       "    </tr>\n",
       "  </thead>\n",
       "  <tbody>\n",
       "    <tr>\n",
       "      <th>1481</th>\n",
       "      <td>1</td>\n",
       "      <td>0</td>\n",
       "      <td>0</td>\n",
       "      <td>0.239631</td>\n",
       "      <td>0.143301</td>\n",
       "      <td>0.016326</td>\n",
       "      <td>0.128540</td>\n",
       "      <td>0.263508</td>\n",
       "      <td>0.167987</td>\n",
       "      <td>-0.096487</td>\n",
       "      <td>-0.148839</td>\n",
       "    </tr>\n",
       "    <tr>\n",
       "      <th>3926</th>\n",
       "      <td>0</td>\n",
       "      <td>1</td>\n",
       "      <td>0</td>\n",
       "      <td>0.239631</td>\n",
       "      <td>0.068025</td>\n",
       "      <td>0.274441</td>\n",
       "      <td>-0.098762</td>\n",
       "      <td>-0.190814</td>\n",
       "      <td>0.046827</td>\n",
       "      <td>-0.166636</td>\n",
       "      <td>0.623149</td>\n",
       "    </tr>\n",
       "    <tr>\n",
       "      <th>2339</th>\n",
       "      <td>0</td>\n",
       "      <td>0</td>\n",
       "      <td>1</td>\n",
       "      <td>0.486972</td>\n",
       "      <td>0.569866</td>\n",
       "      <td>0.790671</td>\n",
       "      <td>0.587186</td>\n",
       "      <td>0.467672</td>\n",
       "      <td>0.568043</td>\n",
       "      <td>0.786669</td>\n",
       "      <td>1.086341</td>\n",
       "    </tr>\n",
       "    <tr>\n",
       "      <th>2795</th>\n",
       "      <td>0</td>\n",
       "      <td>0</td>\n",
       "      <td>1</td>\n",
       "      <td>0.445748</td>\n",
       "      <td>0.318945</td>\n",
       "      <td>0.145383</td>\n",
       "      <td>0.312908</td>\n",
       "      <td>0.407096</td>\n",
       "      <td>0.241140</td>\n",
       "      <td>0.270445</td>\n",
       "      <td>0.314353</td>\n",
       "    </tr>\n",
       "    <tr>\n",
       "      <th>3949</th>\n",
       "      <td>1</td>\n",
       "      <td>0</td>\n",
       "      <td>0</td>\n",
       "      <td>0.012903</td>\n",
       "      <td>0.042932</td>\n",
       "      <td>0.145383</td>\n",
       "      <td>-0.111390</td>\n",
       "      <td>-0.273826</td>\n",
       "      <td>-0.040042</td>\n",
       "      <td>0.121154</td>\n",
       "      <td>0.468751</td>\n",
       "    </tr>\n",
       "  </tbody>\n",
       "</table>\n",
       "</div>"
      ],
      "text/plain": [
       "      0_F  0_I  0_M         1         2         3         4         5  \\\n",
       "1481    1    0    0  0.239631  0.143301  0.016326  0.128540  0.263508   \n",
       "3926    0    1    0  0.239631  0.068025  0.274441 -0.098762 -0.190814   \n",
       "2339    0    0    1  0.486972  0.569866  0.790671  0.587186  0.467672   \n",
       "2795    0    0    1  0.445748  0.318945  0.145383  0.312908  0.407096   \n",
       "3949    1    0    0  0.012903  0.042932  0.145383 -0.111390 -0.273826   \n",
       "\n",
       "             6         7         8  \n",
       "1481  0.167987 -0.096487 -0.148839  \n",
       "3926  0.046827 -0.166636  0.623149  \n",
       "2339  0.568043  0.786669  1.086341  \n",
       "2795  0.241140  0.270445  0.314353  \n",
       "3949 -0.040042  0.121154  0.468751  "
      ]
     },
     "execution_count": 21,
     "metadata": {},
     "output_type": "execute_result"
    }
   ],
   "source": [
    "test_data_std.head()"
   ]
  },
  {
   "cell_type": "code",
   "execution_count": 22,
   "id": "a7ab3786-45de-4950-944b-f00c15b2b9e8",
   "metadata": {},
   "outputs": [
    {
     "data": {
      "text/plain": [
       "(2500, 11)"
      ]
     },
     "execution_count": 22,
     "metadata": {},
     "output_type": "execute_result"
    }
   ],
   "source": [
    "test_data_std.shape"
   ]
  },
  {
   "cell_type": "code",
   "execution_count": 23,
   "id": "b4d7e268-107d-4dbb-a8d2-8d776aee03e6",
   "metadata": {},
   "outputs": [],
   "source": [
    "X_test = test_data_std.drop(8, axis=1).to_numpy()\n",
    "y_test = test_data_std[8].to_numpy()"
   ]
  },
  {
   "cell_type": "code",
   "execution_count": 24,
   "id": "81f382f4-faf9-4578-9735-e0ce18c4cb22",
   "metadata": {},
   "outputs": [
    {
     "data": {
      "text/plain": [
       "array([-0.14883924,  0.62314852,  1.08634118,  0.31435342,  0.46875097,\n",
       "        0.15995586,  0.00555831,  0.00555831,  0.31435342,  0.15995586,\n",
       "        2.01272649, -0.30323679, -0.6120319 , -0.14883924, -0.30323679,\n",
       "       -1.07522456,  0.15995586, -0.30323679,  0.00555831,  0.00555831,\n",
       "        0.15995586, -0.45763435,  0.77754607, -0.14883924,  1.08634118,\n",
       "        0.15995586, -0.30323679, -0.6120319 , -0.30323679, -0.920827  ,\n",
       "        0.00555831, -0.14883924, -0.6120319 ,  0.31435342,  0.00555831,\n",
       "        0.31435342,  0.62314852, -0.30323679,  1.54953384,  1.08634118])"
      ]
     },
     "execution_count": 24,
     "metadata": {},
     "output_type": "execute_result"
    }
   ],
   "source": [
    "y_test[:40]"
   ]
  },
  {
   "cell_type": "markdown",
   "id": "6f34cf85-173c-43a6-bb7a-69ae0af16fee",
   "metadata": {},
   "source": [
    "### Fit linear regression model"
   ]
  },
  {
   "cell_type": "code",
   "execution_count": 25,
   "id": "1cdee0e0-6a89-4154-98df-1c80150d263b",
   "metadata": {},
   "outputs": [
    {
     "name": "stderr",
     "output_type": "stream",
     "text": [
      "Auto-assigning NUTS sampler...\n",
      "Initializing NUTS using jitter+adapt_diag...\n",
      "Multiprocess sampling (4 chains in 4 jobs)\n",
      "NUTS: [intercept, coeffs, sigma]\n"
     ]
    },
    {
     "data": {
      "text/html": [
       "\n",
       "<style>\n",
       "    /* Turns off some styling */\n",
       "    progress {\n",
       "        /* gets rid of default border in Firefox and Opera. */\n",
       "        border: none;\n",
       "        /* Needs to be in here for Safari polyfill so background images work as expected. */\n",
       "        background-size: auto;\n",
       "    }\n",
       "    progress:not([value]), progress:not([value])::-webkit-progress-bar {\n",
       "        background: repeating-linear-gradient(45deg, #7e7e7e, #7e7e7e 10px, #5c5c5c 10px, #5c5c5c 20px);\n",
       "    }\n",
       "    .progress-bar-interrupted, .progress-bar-interrupted::-webkit-progress-bar {\n",
       "        background: #F44336;\n",
       "    }\n",
       "</style>\n"
      ],
      "text/plain": [
       "<IPython.core.display.HTML object>"
      ]
     },
     "metadata": {},
     "output_type": "display_data"
    },
    {
     "data": {
      "text/html": [
       "\n",
       "    <div>\n",
       "      <progress value='24000' class='' max='24000' style='width:300px; height:20px; vertical-align: middle;'></progress>\n",
       "      100.00% [24000/24000 11:50&lt;00:00 Sampling 4 chains, 0 divergences]\n",
       "    </div>\n",
       "    "
      ],
      "text/plain": [
       "<IPython.core.display.HTML object>"
      ]
     },
     "metadata": {},
     "output_type": "display_data"
    },
    {
     "name": "stderr",
     "output_type": "stream",
     "text": [
      "Sampling 4 chains for 1_000 tune and 5_000 draw iterations (4_000 + 20_000 draws total) took 710 seconds.\n",
      "Sampling: [age_of_tree]\n"
     ]
    },
    {
     "data": {
      "text/html": [
       "\n",
       "<style>\n",
       "    /* Turns off some styling */\n",
       "    progress {\n",
       "        /* gets rid of default border in Firefox and Opera. */\n",
       "        border: none;\n",
       "        /* Needs to be in here for Safari polyfill so background images work as expected. */\n",
       "        background-size: auto;\n",
       "    }\n",
       "    progress:not([value]), progress:not([value])::-webkit-progress-bar {\n",
       "        background: repeating-linear-gradient(45deg, #7e7e7e, #7e7e7e 10px, #5c5c5c 10px, #5c5c5c 20px);\n",
       "    }\n",
       "    .progress-bar-interrupted, .progress-bar-interrupted::-webkit-progress-bar {\n",
       "        background: #F44336;\n",
       "    }\n",
       "</style>\n"
      ],
      "text/plain": [
       "<IPython.core.display.HTML object>"
      ]
     },
     "metadata": {},
     "output_type": "display_data"
    },
    {
     "data": {
      "text/html": [
       "\n",
       "    <div>\n",
       "      <progress value='20000' class='' max='20000' style='width:300px; height:20px; vertical-align: middle;'></progress>\n",
       "      100.00% [20000/20000 00:01&lt;00:00]\n",
       "    </div>\n",
       "    "
      ],
      "text/plain": [
       "<IPython.core.display.HTML object>"
      ]
     },
     "metadata": {},
     "output_type": "display_data"
    }
   ],
   "source": [
    "with pm.Model() as m_linear:\n",
    "    # associate data with model (this makes prediction easier)\n",
    "    X_data = pm.Data(\"X\", X_train, mutable=True)\n",
    "    y_data = pm.Data(\"y\", y_train, mutable=True)\n",
    "\n",
    "    # priors\n",
    "    intercept = pm.Normal(\"intercept\", mu=0, sigma=5)\n",
    "    coeffs = pm.Normal(\"coeffs\", mu=0, sigma=5, shape=X_data.shape[1])\n",
    "    sigma = pm.HalfNormal(\"sigma\", sigma=1)\n",
    "\n",
    "    mu = intercept + pm.math.dot(X_data, coeffs)\n",
    "\n",
    "    # likelihood\n",
    "    pm.Normal(\"age_of_tree\", mu=mu, sigma=sigma, observed=y_data)\n",
    "\n",
    "    # start sampling\n",
    "    trace_linear = pm.sample(5000)\n",
    "    ppc = pm.sample_posterior_predictive(trace_linear)\n",
    "    \n",
    "    y_pred = ppc.posterior_predictive.stack(sample=(\"chain\", \"draw\"))[\"age_of_tree\"].values.T.mean(axis=0)"
   ]
  },
  {
   "cell_type": "code",
   "execution_count": 26,
   "id": "2521611d-0dfb-43a5-8c21-9353d52eea8b",
   "metadata": {},
   "outputs": [
    {
     "data": {
      "text/plain": [
       "(1000,)"
      ]
     },
     "execution_count": 26,
     "metadata": {},
     "output_type": "execute_result"
    }
   ],
   "source": [
    "y_pred.shape"
   ]
  },
  {
   "cell_type": "code",
   "execution_count": 41,
   "id": "6ac19b0e-2698-45b1-990a-16fc6bb96cad",
   "metadata": {},
   "outputs": [
    {
     "data": {
      "text/html": [
       "<div>\n",
       "<style scoped>\n",
       "    .dataframe tbody tr th:only-of-type {\n",
       "        vertical-align: middle;\n",
       "    }\n",
       "\n",
       "    .dataframe tbody tr th {\n",
       "        vertical-align: top;\n",
       "    }\n",
       "\n",
       "    .dataframe thead th {\n",
       "        text-align: right;\n",
       "    }\n",
       "</style>\n",
       "<table border=\"1\" class=\"dataframe\">\n",
       "  <thead>\n",
       "    <tr style=\"text-align: right;\">\n",
       "      <th></th>\n",
       "      <th>mean</th>\n",
       "      <th>sd</th>\n",
       "      <th>hdi_2.5%</th>\n",
       "      <th>hdi_97.5%</th>\n",
       "      <th>mcse_mean</th>\n",
       "      <th>mcse_sd</th>\n",
       "      <th>ess_bulk</th>\n",
       "      <th>ess_tail</th>\n",
       "      <th>r_hat</th>\n",
       "    </tr>\n",
       "  </thead>\n",
       "  <tbody>\n",
       "    <tr>\n",
       "      <th>intercept</th>\n",
       "      <td>0.051</td>\n",
       "      <td>2.506</td>\n",
       "      <td>-4.830</td>\n",
       "      <td>5.020</td>\n",
       "      <td>0.028</td>\n",
       "      <td>0.020</td>\n",
       "      <td>7942.0</td>\n",
       "      <td>9817.0</td>\n",
       "      <td>1.0</td>\n",
       "    </tr>\n",
       "    <tr>\n",
       "      <th>coeffs[0]</th>\n",
       "      <td>-0.026</td>\n",
       "      <td>2.506</td>\n",
       "      <td>-4.890</td>\n",
       "      <td>4.956</td>\n",
       "      <td>0.028</td>\n",
       "      <td>0.020</td>\n",
       "      <td>7941.0</td>\n",
       "      <td>9868.0</td>\n",
       "      <td>1.0</td>\n",
       "    </tr>\n",
       "    <tr>\n",
       "      <th>coeffs[1]</th>\n",
       "      <td>-0.118</td>\n",
       "      <td>2.506</td>\n",
       "      <td>-5.110</td>\n",
       "      <td>4.738</td>\n",
       "      <td>0.028</td>\n",
       "      <td>0.020</td>\n",
       "      <td>7940.0</td>\n",
       "      <td>9726.0</td>\n",
       "      <td>1.0</td>\n",
       "    </tr>\n",
       "    <tr>\n",
       "      <th>coeffs[2]</th>\n",
       "      <td>-0.009</td>\n",
       "      <td>2.506</td>\n",
       "      <td>-4.994</td>\n",
       "      <td>4.859</td>\n",
       "      <td>0.028</td>\n",
       "      <td>0.020</td>\n",
       "      <td>7947.0</td>\n",
       "      <td>9797.0</td>\n",
       "      <td>1.0</td>\n",
       "    </tr>\n",
       "    <tr>\n",
       "      <th>coeffs[3]</th>\n",
       "      <td>-0.103</td>\n",
       "      <td>0.140</td>\n",
       "      <td>-0.381</td>\n",
       "      <td>0.163</td>\n",
       "      <td>0.001</td>\n",
       "      <td>0.001</td>\n",
       "      <td>13047.0</td>\n",
       "      <td>13246.0</td>\n",
       "      <td>1.0</td>\n",
       "    </tr>\n",
       "    <tr>\n",
       "      <th>coeffs[4]</th>\n",
       "      <td>0.300</td>\n",
       "      <td>0.143</td>\n",
       "      <td>0.017</td>\n",
       "      <td>0.577</td>\n",
       "      <td>0.001</td>\n",
       "      <td>0.001</td>\n",
       "      <td>12838.0</td>\n",
       "      <td>13179.0</td>\n",
       "      <td>1.0</td>\n",
       "    </tr>\n",
       "    <tr>\n",
       "      <th>coeffs[5]</th>\n",
       "      <td>0.265</td>\n",
       "      <td>0.055</td>\n",
       "      <td>0.157</td>\n",
       "      <td>0.373</td>\n",
       "      <td>0.000</td>\n",
       "      <td>0.000</td>\n",
       "      <td>18458.0</td>\n",
       "      <td>13535.0</td>\n",
       "      <td>1.0</td>\n",
       "    </tr>\n",
       "    <tr>\n",
       "      <th>coeffs[6]</th>\n",
       "      <td>1.556</td>\n",
       "      <td>0.217</td>\n",
       "      <td>1.143</td>\n",
       "      <td>1.990</td>\n",
       "      <td>0.002</td>\n",
       "      <td>0.001</td>\n",
       "      <td>10752.0</td>\n",
       "      <td>11786.0</td>\n",
       "      <td>1.0</td>\n",
       "    </tr>\n",
       "    <tr>\n",
       "      <th>coeffs[7]</th>\n",
       "      <td>-1.445</td>\n",
       "      <td>0.110</td>\n",
       "      <td>-1.665</td>\n",
       "      <td>-1.233</td>\n",
       "      <td>0.001</td>\n",
       "      <td>0.001</td>\n",
       "      <td>13112.0</td>\n",
       "      <td>12993.0</td>\n",
       "      <td>1.0</td>\n",
       "    </tr>\n",
       "    <tr>\n",
       "      <th>coeffs[8]</th>\n",
       "      <td>-0.279</td>\n",
       "      <td>0.091</td>\n",
       "      <td>-0.457</td>\n",
       "      <td>-0.104</td>\n",
       "      <td>0.001</td>\n",
       "      <td>0.001</td>\n",
       "      <td>15550.0</td>\n",
       "      <td>13942.0</td>\n",
       "      <td>1.0</td>\n",
       "    </tr>\n",
       "    <tr>\n",
       "      <th>coeffs[9]</th>\n",
       "      <td>0.217</td>\n",
       "      <td>0.098</td>\n",
       "      <td>0.029</td>\n",
       "      <td>0.412</td>\n",
       "      <td>0.001</td>\n",
       "      <td>0.001</td>\n",
       "      <td>12439.0</td>\n",
       "      <td>13938.0</td>\n",
       "      <td>1.0</td>\n",
       "    </tr>\n",
       "    <tr>\n",
       "      <th>sigma</th>\n",
       "      <td>0.336</td>\n",
       "      <td>0.008</td>\n",
       "      <td>0.321</td>\n",
       "      <td>0.351</td>\n",
       "      <td>0.000</td>\n",
       "      <td>0.000</td>\n",
       "      <td>20560.0</td>\n",
       "      <td>12684.0</td>\n",
       "      <td>1.0</td>\n",
       "    </tr>\n",
       "  </tbody>\n",
       "</table>\n",
       "</div>"
      ],
      "text/plain": [
       "            mean     sd  hdi_2.5%  hdi_97.5%  mcse_mean  mcse_sd  ess_bulk  \\\n",
       "intercept  0.051  2.506    -4.830      5.020      0.028    0.020    7942.0   \n",
       "coeffs[0] -0.026  2.506    -4.890      4.956      0.028    0.020    7941.0   \n",
       "coeffs[1] -0.118  2.506    -5.110      4.738      0.028    0.020    7940.0   \n",
       "coeffs[2] -0.009  2.506    -4.994      4.859      0.028    0.020    7947.0   \n",
       "coeffs[3] -0.103  0.140    -0.381      0.163      0.001    0.001   13047.0   \n",
       "coeffs[4]  0.300  0.143     0.017      0.577      0.001    0.001   12838.0   \n",
       "coeffs[5]  0.265  0.055     0.157      0.373      0.000    0.000   18458.0   \n",
       "coeffs[6]  1.556  0.217     1.143      1.990      0.002    0.001   10752.0   \n",
       "coeffs[7] -1.445  0.110    -1.665     -1.233      0.001    0.001   13112.0   \n",
       "coeffs[8] -0.279  0.091    -0.457     -0.104      0.001    0.001   15550.0   \n",
       "coeffs[9]  0.217  0.098     0.029      0.412      0.001    0.001   12439.0   \n",
       "sigma      0.336  0.008     0.321      0.351      0.000    0.000   20560.0   \n",
       "\n",
       "           ess_tail  r_hat  \n",
       "intercept    9817.0    1.0  \n",
       "coeffs[0]    9868.0    1.0  \n",
       "coeffs[1]    9726.0    1.0  \n",
       "coeffs[2]    9797.0    1.0  \n",
       "coeffs[3]   13246.0    1.0  \n",
       "coeffs[4]   13179.0    1.0  \n",
       "coeffs[5]   13535.0    1.0  \n",
       "coeffs[6]   11786.0    1.0  \n",
       "coeffs[7]   12993.0    1.0  \n",
       "coeffs[8]   13942.0    1.0  \n",
       "coeffs[9]   13938.0    1.0  \n",
       "sigma       12684.0    1.0  "
      ]
     },
     "execution_count": 41,
     "metadata": {},
     "output_type": "execute_result"
    }
   ],
   "source": [
    "az.summary(trace_linear, hdi_prob=0.95)"
   ]
  },
  {
   "cell_type": "markdown",
   "id": "fc428473-bfed-4297-8e32-28661ab6c747",
   "metadata": {},
   "source": [
    "Above, coefficients 4, 5, 6, 7, 8, and 9 appear statistically significant as their CS doesn't contain zero. Maybe retry regression and drop these other variables."
   ]
  },
  {
   "cell_type": "code",
   "execution_count": 28,
   "id": "2b2a9ebd-986e-4f47-9ca3-ceec3d920c29",
   "metadata": {},
   "outputs": [
    {
     "data": {
      "image/svg+xml": [
       "<?xml version=\"1.0\" encoding=\"UTF-8\" standalone=\"no\"?>\n",
       "<!DOCTYPE svg PUBLIC \"-//W3C//DTD SVG 1.1//EN\"\n",
       " \"http://www.w3.org/Graphics/SVG/1.1/DTD/svg11.dtd\">\n",
       "<!-- Generated by graphviz version 9.0.0 (20231125.0833)\n",
       " -->\n",
       "<!-- Pages: 1 -->\n",
       "<svg width=\"470pt\" height=\"369pt\"\n",
       " viewBox=\"0.00 0.00 470.00 369.13\" xmlns=\"http://www.w3.org/2000/svg\" xmlns:xlink=\"http://www.w3.org/1999/xlink\">\n",
       "<g id=\"graph0\" class=\"graph\" transform=\"scale(1 1) rotate(0) translate(4 365.13)\">\n",
       "<polygon fill=\"white\" stroke=\"none\" points=\"-4,4 -4,-365.13 466,-365.13 466,4 -4,4\"/>\n",
       "<g id=\"clust1\" class=\"cluster\">\n",
       "<title>cluster1000 x 10</title>\n",
       "<path fill=\"none\" stroke=\"black\" d=\"M20,-243.23C20,-243.23 100,-243.23 100,-243.23 106,-243.23 112,-249.23 112,-255.23 112,-255.23 112,-329.23 112,-329.23 112,-335.23 106,-341.23 100,-341.23 100,-341.23 20,-341.23 20,-341.23 14,-341.23 8,-335.23 8,-329.23 8,-329.23 8,-255.23 8,-255.23 8,-249.23 14,-243.23 20,-243.23\"/>\n",
       "<text text-anchor=\"middle\" x=\"76.62\" y=\"-250.43\" font-family=\"Times,serif\" font-size=\"14.00\">1000 x 10</text>\n",
       "</g>\n",
       "<g id=\"clust2\" class=\"cluster\">\n",
       "<title>cluster1000</title>\n",
       "<path fill=\"none\" stroke=\"black\" d=\"M188,-8C188,-8 292,-8 292,-8 298,-8 304,-14 304,-20 304,-20 304,-211.32 304,-211.32 304,-217.32 298,-223.32 292,-223.32 292,-223.32 188,-223.32 188,-223.32 182,-223.32 176,-217.32 176,-211.32 176,-211.32 176,-20 176,-20 176,-14 182,-8 188,-8\"/>\n",
       "<text text-anchor=\"middle\" x=\"282.5\" y=\"-15.2\" font-family=\"Times,serif\" font-size=\"14.00\">1000</text>\n",
       "</g>\n",
       "<g id=\"clust3\" class=\"cluster\">\n",
       "<title>cluster10</title>\n",
       "<path fill=\"none\" stroke=\"black\" d=\"M368,-231.32C368,-231.32 442,-231.32 442,-231.32 448,-231.32 454,-237.32 454,-243.32 454,-243.32 454,-341.13 454,-341.13 454,-347.13 448,-353.13 442,-353.13 442,-353.13 368,-353.13 368,-353.13 362,-353.13 356,-347.13 356,-341.13 356,-341.13 356,-243.32 356,-243.32 356,-237.32 362,-231.32 368,-231.32\"/>\n",
       "<text text-anchor=\"middle\" x=\"439.25\" y=\"-238.52\" font-family=\"Times,serif\" font-size=\"14.00\">10</text>\n",
       "</g>\n",
       "<!-- X -->\n",
       "<g id=\"node1\" class=\"node\">\n",
       "<title>X</title>\n",
       "<path fill=\"lightgrey\" stroke=\"black\" d=\"M91.62,-333.23C91.62,-333.23 28.38,-333.23 28.38,-333.23 22.38,-333.23 16.38,-327.23 16.38,-321.23 16.38,-321.23 16.38,-287.73 16.38,-287.73 16.38,-281.73 22.38,-275.73 28.38,-275.73 28.38,-275.73 91.62,-275.73 91.62,-275.73 97.62,-275.73 103.62,-281.73 103.62,-287.73 103.62,-287.73 103.62,-321.23 103.62,-321.23 103.62,-327.23 97.62,-333.23 91.62,-333.23\"/>\n",
       "<text text-anchor=\"middle\" x=\"60\" y=\"-315.93\" font-family=\"Times,serif\" font-size=\"14.00\">X</text>\n",
       "<text text-anchor=\"middle\" x=\"60\" y=\"-299.43\" font-family=\"Times,serif\" font-size=\"14.00\">~</text>\n",
       "<text text-anchor=\"middle\" x=\"60\" y=\"-282.93\" font-family=\"Times,serif\" font-size=\"14.00\">MutableData</text>\n",
       "</g>\n",
       "<!-- age_of_tree -->\n",
       "<g id=\"node2\" class=\"node\">\n",
       "<title>age_of_tree</title>\n",
       "<ellipse fill=\"lightgrey\" stroke=\"black\" cx=\"240\" cy=\"-174.66\" rx=\"56.39\" ry=\"40.66\"/>\n",
       "<text text-anchor=\"middle\" x=\"240\" y=\"-186.11\" font-family=\"Times,serif\" font-size=\"14.00\">age_of_tree</text>\n",
       "<text text-anchor=\"middle\" x=\"240\" y=\"-169.61\" font-family=\"Times,serif\" font-size=\"14.00\">~</text>\n",
       "<text text-anchor=\"middle\" x=\"240\" y=\"-153.11\" font-family=\"Times,serif\" font-size=\"14.00\">Normal</text>\n",
       "</g>\n",
       "<!-- X&#45;&gt;age_of_tree -->\n",
       "<g id=\"edge4\" class=\"edge\">\n",
       "<title>X&#45;&gt;age_of_tree</title>\n",
       "<path fill=\"none\" stroke=\"black\" d=\"M75.74,-275.31C85.05,-260.67 97.95,-243.36 113,-231.32 131.97,-216.12 155.74,-204.26 177.56,-195.46\"/>\n",
       "<polygon fill=\"black\" stroke=\"black\" points=\"178.62,-198.8 186.68,-191.93 176.09,-192.27 178.62,-198.8\"/>\n",
       "</g>\n",
       "<!-- y -->\n",
       "<g id=\"node3\" class=\"node\">\n",
       "<title>y</title>\n",
       "<path fill=\"lightgrey\" stroke=\"black\" d=\"M271.62,-98C271.62,-98 208.38,-98 208.38,-98 202.38,-98 196.38,-92 196.38,-86 196.38,-86 196.38,-52.5 196.38,-52.5 196.38,-46.5 202.38,-40.5 208.38,-40.5 208.38,-40.5 271.62,-40.5 271.62,-40.5 277.62,-40.5 283.62,-46.5 283.62,-52.5 283.62,-52.5 283.62,-86 283.62,-86 283.62,-92 277.62,-98 271.62,-98\"/>\n",
       "<text text-anchor=\"middle\" x=\"240\" y=\"-80.7\" font-family=\"Times,serif\" font-size=\"14.00\">y</text>\n",
       "<text text-anchor=\"middle\" x=\"240\" y=\"-64.2\" font-family=\"Times,serif\" font-size=\"14.00\">~</text>\n",
       "<text text-anchor=\"middle\" x=\"240\" y=\"-47.7\" font-family=\"Times,serif\" font-size=\"14.00\">MutableData</text>\n",
       "</g>\n",
       "<!-- age_of_tree&#45;&gt;y -->\n",
       "<g id=\"edge1\" class=\"edge\">\n",
       "<title>age_of_tree&#45;&gt;y</title>\n",
       "<path fill=\"none\" stroke=\"black\" d=\"M240,-133.68C240,-125.83 240,-117.6 240,-109.76\"/>\n",
       "<polygon fill=\"black\" stroke=\"black\" points=\"243.5,-109.79 240,-99.79 236.5,-109.79 243.5,-109.79\"/>\n",
       "</g>\n",
       "<!-- sigma -->\n",
       "<g id=\"node4\" class=\"node\">\n",
       "<title>sigma</title>\n",
       "<ellipse fill=\"none\" stroke=\"black\" cx=\"180\" cy=\"-304.48\" rx=\"57.98\" ry=\"40.66\"/>\n",
       "<text text-anchor=\"middle\" x=\"180\" y=\"-315.93\" font-family=\"Times,serif\" font-size=\"14.00\">sigma</text>\n",
       "<text text-anchor=\"middle\" x=\"180\" y=\"-299.43\" font-family=\"Times,serif\" font-size=\"14.00\">~</text>\n",
       "<text text-anchor=\"middle\" x=\"180\" y=\"-282.93\" font-family=\"Times,serif\" font-size=\"14.00\">HalfNormal</text>\n",
       "</g>\n",
       "<!-- sigma&#45;&gt;age_of_tree -->\n",
       "<g id=\"edge3\" class=\"edge\">\n",
       "<title>sigma&#45;&gt;age_of_tree</title>\n",
       "<path fill=\"none\" stroke=\"black\" d=\"M197.84,-265.47C204.01,-252.34 211,-237.44 217.49,-223.62\"/>\n",
       "<polygon fill=\"black\" stroke=\"black\" points=\"220.61,-225.2 221.69,-214.67 214.27,-222.23 220.61,-225.2\"/>\n",
       "</g>\n",
       "<!-- intercept -->\n",
       "<g id=\"node5\" class=\"node\">\n",
       "<title>intercept</title>\n",
       "<ellipse fill=\"none\" stroke=\"black\" cx=\"301\" cy=\"-304.48\" rx=\"44.72\" ry=\"40.66\"/>\n",
       "<text text-anchor=\"middle\" x=\"301\" y=\"-315.93\" font-family=\"Times,serif\" font-size=\"14.00\">intercept</text>\n",
       "<text text-anchor=\"middle\" x=\"301\" y=\"-299.43\" font-family=\"Times,serif\" font-size=\"14.00\">~</text>\n",
       "<text text-anchor=\"middle\" x=\"301\" y=\"-282.93\" font-family=\"Times,serif\" font-size=\"14.00\">Normal</text>\n",
       "</g>\n",
       "<!-- intercept&#45;&gt;age_of_tree -->\n",
       "<g id=\"edge5\" class=\"edge\">\n",
       "<title>intercept&#45;&gt;age_of_tree</title>\n",
       "<path fill=\"none\" stroke=\"black\" d=\"M283.52,-266.85C277.12,-253.43 269.77,-238.04 262.96,-223.77\"/>\n",
       "<polygon fill=\"black\" stroke=\"black\" points=\"266.24,-222.51 258.77,-214.99 259.92,-225.52 266.24,-222.51\"/>\n",
       "</g>\n",
       "<!-- coeffs -->\n",
       "<g id=\"node6\" class=\"node\">\n",
       "<title>coeffs</title>\n",
       "<ellipse fill=\"none\" stroke=\"black\" cx=\"405\" cy=\"-304.48\" rx=\"41.01\" ry=\"40.66\"/>\n",
       "<text text-anchor=\"middle\" x=\"405\" y=\"-315.93\" font-family=\"Times,serif\" font-size=\"14.00\">coeffs</text>\n",
       "<text text-anchor=\"middle\" x=\"405\" y=\"-299.43\" font-family=\"Times,serif\" font-size=\"14.00\">~</text>\n",
       "<text text-anchor=\"middle\" x=\"405\" y=\"-282.93\" font-family=\"Times,serif\" font-size=\"14.00\">Normal</text>\n",
       "</g>\n",
       "<!-- coeffs&#45;&gt;age_of_tree -->\n",
       "<g id=\"edge2\" class=\"edge\">\n",
       "<title>coeffs&#45;&gt;age_of_tree</title>\n",
       "<path fill=\"none\" stroke=\"black\" d=\"M385.79,-268.27C377.55,-255.46 367.04,-241.62 355,-231.32 339.22,-217.81 319.6,-206.74 301.05,-198.13\"/>\n",
       "<polygon fill=\"black\" stroke=\"black\" points=\"302.54,-194.96 291.98,-194.09 299.69,-201.35 302.54,-194.96\"/>\n",
       "</g>\n",
       "</g>\n",
       "</svg>\n"
      ],
      "text/plain": [
       "<graphviz.graphs.Digraph at 0x7fbeb1082e90>"
      ]
     },
     "execution_count": 28,
     "metadata": {},
     "output_type": "execute_result"
    }
   ],
   "source": [
    "pm.model_to_graphviz(m_linear)"
   ]
  },
  {
   "cell_type": "code",
   "execution_count": 29,
   "id": "d7b5b1f1-5a54-4344-ba6b-631f4e8232ee",
   "metadata": {},
   "outputs": [
    {
     "data": {
      "text/plain": [
       "r2        0.55445\n",
       "r2_std    0.00000\n",
       "dtype: float64"
      ]
     },
     "execution_count": 29,
     "metadata": {},
     "output_type": "execute_result"
    }
   ],
   "source": [
    "az.r2_score(y_train, y_pred)"
   ]
  },
  {
   "cell_type": "code",
   "execution_count": 30,
   "id": "d0199330-3213-47e0-90ab-754ee7bcd807",
   "metadata": {},
   "outputs": [
    {
     "data": {
      "text/plain": [
       "0.1112"
      ]
     },
     "execution_count": 30,
     "metadata": {},
     "output_type": "execute_result"
    }
   ],
   "source": [
    "round(mean_squared_error(y_train, y_pred), 4)"
   ]
  },
  {
   "cell_type": "code",
   "execution_count": 31,
   "id": "023a2444-4933-4ee1-907c-39da18a64892",
   "metadata": {},
   "outputs": [
    {
     "data": {
      "text/plain": [
       "[Text(0.5, 0, 'predicted'), Text(0, 0.5, 'actual')]"
      ]
     },
     "execution_count": 31,
     "metadata": {},
     "output_type": "execute_result"
    },
    {
     "data": {
      "image/png": "[encoded data removed]",
      "text/plain": [
       "<Figure size 640x480 with 1 Axes>"
      ]
     },
     "metadata": {},
     "output_type": "display_data"
    }
   ],
   "source": [
    "plot = sns.regplot(x=y_pred, y=y_train)\n",
    "plot.set(xlabel=\"predicted\", ylabel=\"actual\")"
   ]
  },
  {
   "cell_type": "markdown",
   "id": "416d8299-6aae-450f-9d41-d99169e2785f",
   "metadata": {},
   "source": [
    "**Now lets predict the test set**"
   ]
  },
  {
   "cell_type": "markdown",
   "id": "e8379d12-6808-4e82-991e-64ca8557f188",
   "metadata": {},
   "source": [
    "First prediction without sampling... just use coefficients"
   ]
  },
  {
   "cell_type": "code",
   "execution_count": 32,
   "id": "9d9739b4-4e51-400c-a3e2-b4c1c669b647",
   "metadata": {},
   "outputs": [],
   "source": [
    "pred_intercept = trace_linear.posterior.intercept.mean().values.item()\n",
    "pred_coeffs = trace_linear.posterior.coeffs.mean([\"chain\", \"draw\"]).values\n",
    "y_pred_test_nosample = X_test @  pred_coeffs + pred_intercept"
   ]
  },
  {
   "cell_type": "code",
   "execution_count": 33,
   "id": "fb2f194a-d815-457e-aa41-95eaf69b603c",
   "metadata": {},
   "outputs": [
    {
     "data": {
      "text/plain": [
       "0.1237"
      ]
     },
     "execution_count": 33,
     "metadata": {},
     "output_type": "execute_result"
    }
   ],
   "source": [
    "round(mean_squared_error(y_test, y_pred_test_nosample), 4)"
   ]
  },
  {
   "cell_type": "code",
   "execution_count": 34,
   "id": "5400b1cc-420d-4d07-97f7-d5187f26f2aa",
   "metadata": {},
   "outputs": [
    {
     "data": {
      "text/plain": [
       "[Text(0.5, 0, 'predicted'), Text(0, 0.5, 'actual')]"
      ]
     },
     "execution_count": 34,
     "metadata": {},
     "output_type": "execute_result"
    },
    {
     "data": {
      "image/png": "[encoded data removed]",
      "text/plain": [
       "<Figure size 640x480 with 1 Axes>"
      ]
     },
     "metadata": {},
     "output_type": "display_data"
    }
   ],
   "source": [
    "plot = sns.regplot(x=y_pred_test_nosample, y=y_test)\n",
    "plot.set(xlabel=\"predicted\", ylabel=\"actual\")"
   ]
  },
  {
   "cell_type": "markdown",
   "id": "d5099b57-6dd8-45c8-9a44-7ac4c25a1a66",
   "metadata": {},
   "source": [
    "Now predict using sampling"
   ]
  },
  {
   "cell_type": "code",
   "execution_count": 35,
   "id": "18104f41-47cb-43b6-bef5-2789cfe669d8",
   "metadata": {},
   "outputs": [
    {
     "name": "stderr",
     "output_type": "stream",
     "text": [
      "Sampling: [age_of_tree, coeffs]\n"
     ]
    },
    {
     "data": {
      "text/html": [
       "\n",
       "<style>\n",
       "    /* Turns off some styling */\n",
       "    progress {\n",
       "        /* gets rid of default border in Firefox and Opera. */\n",
       "        border: none;\n",
       "        /* Needs to be in here for Safari polyfill so background images work as expected. */\n",
       "        background-size: auto;\n",
       "    }\n",
       "    progress:not([value]), progress:not([value])::-webkit-progress-bar {\n",
       "        background: repeating-linear-gradient(45deg, #7e7e7e, #7e7e7e 10px, #5c5c5c 10px, #5c5c5c 20px);\n",
       "    }\n",
       "    .progress-bar-interrupted, .progress-bar-interrupted::-webkit-progress-bar {\n",
       "        background: #F44336;\n",
       "    }\n",
       "</style>\n"
      ],
      "text/plain": [
       "<IPython.core.display.HTML object>"
      ]
     },
     "metadata": {},
     "output_type": "display_data"
    },
    {
     "data": {
      "text/html": [
       "\n",
       "    <div>\n",
       "      <progress value='20000' class='' max='20000' style='width:300px; height:20px; vertical-align: middle;'></progress>\n",
       "      100.00% [20000/20000 00:02&lt;00:00]\n",
       "    </div>\n",
       "    "
      ],
      "text/plain": [
       "<IPython.core.display.HTML object>"
      ]
     },
     "metadata": {},
     "output_type": "display_data"
    }
   ],
   "source": [
    "with m_linear:\n",
    "    pm.set_data({\"X\": X_test, \"y\": y_test})\n",
    "    ppc_test = pm.sample_posterior_predictive(trace_linear) #, predictions=True)\n",
    "    y_pred_test = ppc_test.posterior_predictive.stack(sample=(\"chain\", \"draw\"))[\"age_of_tree\"].values.T.mean(axis=0)"
   ]
  },
  {
   "cell_type": "code",
   "execution_count": 36,
   "id": "27a9e122-6df0-47f5-8f46-4ad8c5282eb9",
   "metadata": {},
   "outputs": [
    {
     "data": {
      "text/plain": [
       "0.2665"
      ]
     },
     "execution_count": 36,
     "metadata": {},
     "output_type": "execute_result"
    }
   ],
   "source": [
    "round(mean_squared_error(y_test, y_pred_test), 4)"
   ]
  },
  {
   "cell_type": "code",
   "execution_count": 37,
   "id": "c24e28d3-0ef6-4c00-aa8f-d4532d9e8aa3",
   "metadata": {},
   "outputs": [
    {
     "data": {
      "text/plain": [
       "[Text(0.5, 0, 'predicted'), Text(0, 0.5, 'actual')]"
      ]
     },
     "execution_count": 37,
     "metadata": {},
     "output_type": "execute_result"
    },
    {
     "data": {
      "image/png": "[encoded data removed]",
      "text/plain": [
       "<Figure size 640x480 with 1 Axes>"
      ]
     },
     "metadata": {},
     "output_type": "display_data"
    }
   ],
   "source": [
    "plot = sns.regplot(x=y_pred_test, y=y_test)\n",
    "plot.set(xlabel=\"predicted\", ylabel=\"actual\")"
   ]
  },
  {
   "cell_type": "markdown",
   "id": "3cd35384-fd0b-42c5-8742-9b7f908fd194",
   "metadata": {},
   "source": [
    "# --------------------------------"
   ]
  },
  {
   "cell_type": "code",
   "execution_count": 38,
   "id": "07ced715-e452-40b0-8cb1-6cfbbdae7fff",
   "metadata": {},
   "outputs": [
    {
     "data": {
      "image/svg+xml": [
       "<?xml version=\"1.0\" encoding=\"UTF-8\" standalone=\"no\"?>\n",
       "<!DOCTYPE svg PUBLIC \"-//W3C//DTD SVG 1.1//EN\"\n",
       " \"http://www.w3.org/Graphics/SVG/1.1/DTD/svg11.dtd\">\n",
       "<!-- Generated by graphviz version 9.0.0 (20231125.0833)\n",
       " -->\n",
       "<!-- Pages: 1 -->\n",
       "<svg width=\"470pt\" height=\"369pt\"\n",
       " viewBox=\"0.00 0.00 470.00 369.13\" xmlns=\"http://www.w3.org/2000/svg\" xmlns:xlink=\"http://www.w3.org/1999/xlink\">\n",
       "<g id=\"graph0\" class=\"graph\" transform=\"scale(1 1) rotate(0) translate(4 365.13)\">\n",
       "<polygon fill=\"white\" stroke=\"none\" points=\"-4,4 -4,-365.13 466,-365.13 466,4 -4,4\"/>\n",
       "<g id=\"clust1\" class=\"cluster\">\n",
       "<title>cluster2500 x 10</title>\n",
       "<path fill=\"none\" stroke=\"black\" d=\"M20,-243.23C20,-243.23 100,-243.23 100,-243.23 106,-243.23 112,-249.23 112,-255.23 112,-255.23 112,-329.23 112,-329.23 112,-335.23 106,-341.23 100,-341.23 100,-341.23 20,-341.23 20,-341.23 14,-341.23 8,-335.23 8,-329.23 8,-329.23 8,-255.23 8,-255.23 8,-249.23 14,-243.23 20,-243.23\"/>\n",
       "<text text-anchor=\"middle\" x=\"76.62\" y=\"-250.43\" font-family=\"Times,serif\" font-size=\"14.00\">2500 x 10</text>\n",
       "</g>\n",
       "<g id=\"clust2\" class=\"cluster\">\n",
       "<title>cluster2500</title>\n",
       "<path fill=\"none\" stroke=\"black\" d=\"M188,-8C188,-8 292,-8 292,-8 298,-8 304,-14 304,-20 304,-20 304,-211.32 304,-211.32 304,-217.32 298,-223.32 292,-223.32 292,-223.32 188,-223.32 188,-223.32 182,-223.32 176,-217.32 176,-211.32 176,-211.32 176,-20 176,-20 176,-14 182,-8 188,-8\"/>\n",
       "<text text-anchor=\"middle\" x=\"282.5\" y=\"-15.2\" font-family=\"Times,serif\" font-size=\"14.00\">2500</text>\n",
       "</g>\n",
       "<g id=\"clust3\" class=\"cluster\">\n",
       "<title>cluster10</title>\n",
       "<path fill=\"none\" stroke=\"black\" d=\"M368,-231.32C368,-231.32 442,-231.32 442,-231.32 448,-231.32 454,-237.32 454,-243.32 454,-243.32 454,-341.13 454,-341.13 454,-347.13 448,-353.13 442,-353.13 442,-353.13 368,-353.13 368,-353.13 362,-353.13 356,-347.13 356,-341.13 356,-341.13 356,-243.32 356,-243.32 356,-237.32 362,-231.32 368,-231.32\"/>\n",
       "<text text-anchor=\"middle\" x=\"439.25\" y=\"-238.52\" font-family=\"Times,serif\" font-size=\"14.00\">10</text>\n",
       "</g>\n",
       "<!-- X -->\n",
       "<g id=\"node1\" class=\"node\">\n",
       "<title>X</title>\n",
       "<path fill=\"lightgrey\" stroke=\"black\" d=\"M91.62,-333.23C91.62,-333.23 28.38,-333.23 28.38,-333.23 22.38,-333.23 16.38,-327.23 16.38,-321.23 16.38,-321.23 16.38,-287.73 16.38,-287.73 16.38,-281.73 22.38,-275.73 28.38,-275.73 28.38,-275.73 91.62,-275.73 91.62,-275.73 97.62,-275.73 103.62,-281.73 103.62,-287.73 103.62,-287.73 103.62,-321.23 103.62,-321.23 103.62,-327.23 97.62,-333.23 91.62,-333.23\"/>\n",
       "<text text-anchor=\"middle\" x=\"60\" y=\"-315.93\" font-family=\"Times,serif\" font-size=\"14.00\">X</text>\n",
       "<text text-anchor=\"middle\" x=\"60\" y=\"-299.43\" font-family=\"Times,serif\" font-size=\"14.00\">~</text>\n",
       "<text text-anchor=\"middle\" x=\"60\" y=\"-282.93\" font-family=\"Times,serif\" font-size=\"14.00\">MutableData</text>\n",
       "</g>\n",
       "<!-- age_of_tree -->\n",
       "<g id=\"node2\" class=\"node\">\n",
       "<title>age_of_tree</title>\n",
       "<ellipse fill=\"lightgrey\" stroke=\"black\" cx=\"240\" cy=\"-174.66\" rx=\"56.39\" ry=\"40.66\"/>\n",
       "<text text-anchor=\"middle\" x=\"240\" y=\"-186.11\" font-family=\"Times,serif\" font-size=\"14.00\">age_of_tree</text>\n",
       "<text text-anchor=\"middle\" x=\"240\" y=\"-169.61\" font-family=\"Times,serif\" font-size=\"14.00\">~</text>\n",
       "<text text-anchor=\"middle\" x=\"240\" y=\"-153.11\" font-family=\"Times,serif\" font-size=\"14.00\">Normal</text>\n",
       "</g>\n",
       "<!-- X&#45;&gt;age_of_tree -->\n",
       "<g id=\"edge4\" class=\"edge\">\n",
       "<title>X&#45;&gt;age_of_tree</title>\n",
       "<path fill=\"none\" stroke=\"black\" d=\"M75.74,-275.31C85.05,-260.67 97.95,-243.36 113,-231.32 131.97,-216.12 155.74,-204.26 177.56,-195.46\"/>\n",
       "<polygon fill=\"black\" stroke=\"black\" points=\"178.62,-198.8 186.68,-191.93 176.09,-192.27 178.62,-198.8\"/>\n",
       "</g>\n",
       "<!-- y -->\n",
       "<g id=\"node3\" class=\"node\">\n",
       "<title>y</title>\n",
       "<path fill=\"lightgrey\" stroke=\"black\" d=\"M271.62,-98C271.62,-98 208.38,-98 208.38,-98 202.38,-98 196.38,-92 196.38,-86 196.38,-86 196.38,-52.5 196.38,-52.5 196.38,-46.5 202.38,-40.5 208.38,-40.5 208.38,-40.5 271.62,-40.5 271.62,-40.5 277.62,-40.5 283.62,-46.5 283.62,-52.5 283.62,-52.5 283.62,-86 283.62,-86 283.62,-92 277.62,-98 271.62,-98\"/>\n",
       "<text text-anchor=\"middle\" x=\"240\" y=\"-80.7\" font-family=\"Times,serif\" font-size=\"14.00\">y</text>\n",
       "<text text-anchor=\"middle\" x=\"240\" y=\"-64.2\" font-family=\"Times,serif\" font-size=\"14.00\">~</text>\n",
       "<text text-anchor=\"middle\" x=\"240\" y=\"-47.7\" font-family=\"Times,serif\" font-size=\"14.00\">MutableData</text>\n",
       "</g>\n",
       "<!-- age_of_tree&#45;&gt;y -->\n",
       "<g id=\"edge1\" class=\"edge\">\n",
       "<title>age_of_tree&#45;&gt;y</title>\n",
       "<path fill=\"none\" stroke=\"black\" d=\"M240,-133.68C240,-125.83 240,-117.6 240,-109.76\"/>\n",
       "<polygon fill=\"black\" stroke=\"black\" points=\"243.5,-109.79 240,-99.79 236.5,-109.79 243.5,-109.79\"/>\n",
       "</g>\n",
       "<!-- sigma -->\n",
       "<g id=\"node4\" class=\"node\">\n",
       "<title>sigma</title>\n",
       "<ellipse fill=\"none\" stroke=\"black\" cx=\"180\" cy=\"-304.48\" rx=\"57.98\" ry=\"40.66\"/>\n",
       "<text text-anchor=\"middle\" x=\"180\" y=\"-315.93\" font-family=\"Times,serif\" font-size=\"14.00\">sigma</text>\n",
       "<text text-anchor=\"middle\" x=\"180\" y=\"-299.43\" font-family=\"Times,serif\" font-size=\"14.00\">~</text>\n",
       "<text text-anchor=\"middle\" x=\"180\" y=\"-282.93\" font-family=\"Times,serif\" font-size=\"14.00\">HalfNormal</text>\n",
       "</g>\n",
       "<!-- sigma&#45;&gt;age_of_tree -->\n",
       "<g id=\"edge3\" class=\"edge\">\n",
       "<title>sigma&#45;&gt;age_of_tree</title>\n",
       "<path fill=\"none\" stroke=\"black\" d=\"M197.84,-265.47C204.01,-252.34 211,-237.44 217.49,-223.62\"/>\n",
       "<polygon fill=\"black\" stroke=\"black\" points=\"220.61,-225.2 221.69,-214.67 214.27,-222.23 220.61,-225.2\"/>\n",
       "</g>\n",
       "<!-- intercept -->\n",
       "<g id=\"node5\" class=\"node\">\n",
       "<title>intercept</title>\n",
       "<ellipse fill=\"none\" stroke=\"black\" cx=\"301\" cy=\"-304.48\" rx=\"44.72\" ry=\"40.66\"/>\n",
       "<text text-anchor=\"middle\" x=\"301\" y=\"-315.93\" font-family=\"Times,serif\" font-size=\"14.00\">intercept</text>\n",
       "<text text-anchor=\"middle\" x=\"301\" y=\"-299.43\" font-family=\"Times,serif\" font-size=\"14.00\">~</text>\n",
       "<text text-anchor=\"middle\" x=\"301\" y=\"-282.93\" font-family=\"Times,serif\" font-size=\"14.00\">Normal</text>\n",
       "</g>\n",
       "<!-- intercept&#45;&gt;age_of_tree -->\n",
       "<g id=\"edge5\" class=\"edge\">\n",
       "<title>intercept&#45;&gt;age_of_tree</title>\n",
       "<path fill=\"none\" stroke=\"black\" d=\"M283.52,-266.85C277.12,-253.43 269.77,-238.04 262.96,-223.77\"/>\n",
       "<polygon fill=\"black\" stroke=\"black\" points=\"266.24,-222.51 258.77,-214.99 259.92,-225.52 266.24,-222.51\"/>\n",
       "</g>\n",
       "<!-- coeffs -->\n",
       "<g id=\"node6\" class=\"node\">\n",
       "<title>coeffs</title>\n",
       "<ellipse fill=\"none\" stroke=\"black\" cx=\"405\" cy=\"-304.48\" rx=\"41.01\" ry=\"40.66\"/>\n",
       "<text text-anchor=\"middle\" x=\"405\" y=\"-315.93\" font-family=\"Times,serif\" font-size=\"14.00\">coeffs</text>\n",
       "<text text-anchor=\"middle\" x=\"405\" y=\"-299.43\" font-family=\"Times,serif\" font-size=\"14.00\">~</text>\n",
       "<text text-anchor=\"middle\" x=\"405\" y=\"-282.93\" font-family=\"Times,serif\" font-size=\"14.00\">Normal</text>\n",
       "</g>\n",
       "<!-- coeffs&#45;&gt;age_of_tree -->\n",
       "<g id=\"edge2\" class=\"edge\">\n",
       "<title>coeffs&#45;&gt;age_of_tree</title>\n",
       "<path fill=\"none\" stroke=\"black\" d=\"M385.79,-268.27C377.55,-255.46 367.04,-241.62 355,-231.32 339.22,-217.81 319.6,-206.74 301.05,-198.13\"/>\n",
       "<polygon fill=\"black\" stroke=\"black\" points=\"302.54,-194.96 291.98,-194.09 299.69,-201.35 302.54,-194.96\"/>\n",
       "</g>\n",
       "</g>\n",
       "</svg>\n"
      ],
      "text/plain": [
       "<graphviz.graphs.Digraph at 0x7fbeb0fbbe50>"
      ]
     },
     "execution_count": 38,
     "metadata": {},
     "output_type": "execute_result"
    }
   ],
   "source": [
    "pm.model_to_graphviz(m_linear)"
   ]
  },
  {
   "cell_type": "code",
   "execution_count": 39,
   "id": "9f23c503-0d42-461b-9d94-6d2d7f57b7a5",
   "metadata": {},
   "outputs": [
    {
     "data": {
      "text/html": [
       "<div>\n",
       "<style scoped>\n",
       "    .dataframe tbody tr th:only-of-type {\n",
       "        vertical-align: middle;\n",
       "    }\n",
       "\n",
       "    .dataframe tbody tr th {\n",
       "        vertical-align: top;\n",
       "    }\n",
       "\n",
       "    .dataframe thead th {\n",
       "        text-align: right;\n",
       "    }\n",
       "</style>\n",
       "<table border=\"1\" class=\"dataframe\">\n",
       "  <thead>\n",
       "    <tr style=\"text-align: right;\">\n",
       "      <th></th>\n",
       "      <th>mean</th>\n",
       "      <th>sd</th>\n",
       "      <th>hdi_2.5%</th>\n",
       "      <th>hdi_97.5%</th>\n",
       "      <th>mcse_mean</th>\n",
       "      <th>mcse_sd</th>\n",
       "      <th>ess_bulk</th>\n",
       "      <th>ess_tail</th>\n",
       "      <th>r_hat</th>\n",
       "    </tr>\n",
       "  </thead>\n",
       "  <tbody>\n",
       "    <tr>\n",
       "      <th>intercept</th>\n",
       "      <td>0.051</td>\n",
       "      <td>2.506</td>\n",
       "      <td>-4.830</td>\n",
       "      <td>5.020</td>\n",
       "      <td>0.028</td>\n",
       "      <td>0.020</td>\n",
       "      <td>7942.0</td>\n",
       "      <td>9817.0</td>\n",
       "      <td>1.0</td>\n",
       "    </tr>\n",
       "    <tr>\n",
       "      <th>coeffs[0]</th>\n",
       "      <td>-0.026</td>\n",
       "      <td>2.506</td>\n",
       "      <td>-4.890</td>\n",
       "      <td>4.956</td>\n",
       "      <td>0.028</td>\n",
       "      <td>0.020</td>\n",
       "      <td>7941.0</td>\n",
       "      <td>9868.0</td>\n",
       "      <td>1.0</td>\n",
       "    </tr>\n",
       "    <tr>\n",
       "      <th>coeffs[1]</th>\n",
       "      <td>-0.118</td>\n",
       "      <td>2.506</td>\n",
       "      <td>-5.110</td>\n",
       "      <td>4.738</td>\n",
       "      <td>0.028</td>\n",
       "      <td>0.020</td>\n",
       "      <td>7940.0</td>\n",
       "      <td>9726.0</td>\n",
       "      <td>1.0</td>\n",
       "    </tr>\n",
       "    <tr>\n",
       "      <th>coeffs[2]</th>\n",
       "      <td>-0.009</td>\n",
       "      <td>2.506</td>\n",
       "      <td>-4.994</td>\n",
       "      <td>4.859</td>\n",
       "      <td>0.028</td>\n",
       "      <td>0.020</td>\n",
       "      <td>7947.0</td>\n",
       "      <td>9797.0</td>\n",
       "      <td>1.0</td>\n",
       "    </tr>\n",
       "    <tr>\n",
       "      <th>coeffs[3]</th>\n",
       "      <td>-0.103</td>\n",
       "      <td>0.140</td>\n",
       "      <td>-0.381</td>\n",
       "      <td>0.163</td>\n",
       "      <td>0.001</td>\n",
       "      <td>0.001</td>\n",
       "      <td>13047.0</td>\n",
       "      <td>13246.0</td>\n",
       "      <td>1.0</td>\n",
       "    </tr>\n",
       "    <tr>\n",
       "      <th>coeffs[4]</th>\n",
       "      <td>0.300</td>\n",
       "      <td>0.143</td>\n",
       "      <td>0.017</td>\n",
       "      <td>0.577</td>\n",
       "      <td>0.001</td>\n",
       "      <td>0.001</td>\n",
       "      <td>12838.0</td>\n",
       "      <td>13179.0</td>\n",
       "      <td>1.0</td>\n",
       "    </tr>\n",
       "    <tr>\n",
       "      <th>coeffs[5]</th>\n",
       "      <td>0.265</td>\n",
       "      <td>0.055</td>\n",
       "      <td>0.157</td>\n",
       "      <td>0.373</td>\n",
       "      <td>0.000</td>\n",
       "      <td>0.000</td>\n",
       "      <td>18458.0</td>\n",
       "      <td>13535.0</td>\n",
       "      <td>1.0</td>\n",
       "    </tr>\n",
       "    <tr>\n",
       "      <th>coeffs[6]</th>\n",
       "      <td>1.556</td>\n",
       "      <td>0.217</td>\n",
       "      <td>1.143</td>\n",
       "      <td>1.990</td>\n",
       "      <td>0.002</td>\n",
       "      <td>0.001</td>\n",
       "      <td>10752.0</td>\n",
       "      <td>11786.0</td>\n",
       "      <td>1.0</td>\n",
       "    </tr>\n",
       "    <tr>\n",
       "      <th>coeffs[7]</th>\n",
       "      <td>-1.445</td>\n",
       "      <td>0.110</td>\n",
       "      <td>-1.665</td>\n",
       "      <td>-1.233</td>\n",
       "      <td>0.001</td>\n",
       "      <td>0.001</td>\n",
       "      <td>13112.0</td>\n",
       "      <td>12993.0</td>\n",
       "      <td>1.0</td>\n",
       "    </tr>\n",
       "    <tr>\n",
       "      <th>coeffs[8]</th>\n",
       "      <td>-0.279</td>\n",
       "      <td>0.091</td>\n",
       "      <td>-0.457</td>\n",
       "      <td>-0.104</td>\n",
       "      <td>0.001</td>\n",
       "      <td>0.001</td>\n",
       "      <td>15550.0</td>\n",
       "      <td>13942.0</td>\n",
       "      <td>1.0</td>\n",
       "    </tr>\n",
       "    <tr>\n",
       "      <th>coeffs[9]</th>\n",
       "      <td>0.217</td>\n",
       "      <td>0.098</td>\n",
       "      <td>0.029</td>\n",
       "      <td>0.412</td>\n",
       "      <td>0.001</td>\n",
       "      <td>0.001</td>\n",
       "      <td>12439.0</td>\n",
       "      <td>13938.0</td>\n",
       "      <td>1.0</td>\n",
       "    </tr>\n",
       "    <tr>\n",
       "      <th>sigma</th>\n",
       "      <td>0.336</td>\n",
       "      <td>0.008</td>\n",
       "      <td>0.321</td>\n",
       "      <td>0.351</td>\n",
       "      <td>0.000</td>\n",
       "      <td>0.000</td>\n",
       "      <td>20560.0</td>\n",
       "      <td>12684.0</td>\n",
       "      <td>1.0</td>\n",
       "    </tr>\n",
       "  </tbody>\n",
       "</table>\n",
       "</div>"
      ],
      "text/plain": [
       "            mean     sd  hdi_2.5%  hdi_97.5%  mcse_mean  mcse_sd  ess_bulk  \\\n",
       "intercept  0.051  2.506    -4.830      5.020      0.028    0.020    7942.0   \n",
       "coeffs[0] -0.026  2.506    -4.890      4.956      0.028    0.020    7941.0   \n",
       "coeffs[1] -0.118  2.506    -5.110      4.738      0.028    0.020    7940.0   \n",
       "coeffs[2] -0.009  2.506    -4.994      4.859      0.028    0.020    7947.0   \n",
       "coeffs[3] -0.103  0.140    -0.381      0.163      0.001    0.001   13047.0   \n",
       "coeffs[4]  0.300  0.143     0.017      0.577      0.001    0.001   12838.0   \n",
       "coeffs[5]  0.265  0.055     0.157      0.373      0.000    0.000   18458.0   \n",
       "coeffs[6]  1.556  0.217     1.143      1.990      0.002    0.001   10752.0   \n",
       "coeffs[7] -1.445  0.110    -1.665     -1.233      0.001    0.001   13112.0   \n",
       "coeffs[8] -0.279  0.091    -0.457     -0.104      0.001    0.001   15550.0   \n",
       "coeffs[9]  0.217  0.098     0.029      0.412      0.001    0.001   12439.0   \n",
       "sigma      0.336  0.008     0.321      0.351      0.000    0.000   20560.0   \n",
       "\n",
       "           ess_tail  r_hat  \n",
       "intercept    9817.0    1.0  \n",
       "coeffs[0]    9868.0    1.0  \n",
       "coeffs[1]    9726.0    1.0  \n",
       "coeffs[2]    9797.0    1.0  \n",
       "coeffs[3]   13246.0    1.0  \n",
       "coeffs[4]   13179.0    1.0  \n",
       "coeffs[5]   13535.0    1.0  \n",
       "coeffs[6]   11786.0    1.0  \n",
       "coeffs[7]   12993.0    1.0  \n",
       "coeffs[8]   13942.0    1.0  \n",
       "coeffs[9]   13938.0    1.0  \n",
       "sigma       12684.0    1.0  "
      ]
     },
     "execution_count": 39,
     "metadata": {},
     "output_type": "execute_result"
    }
   ],
   "source": [
    "az.summary(trace_linear, hdi_prob=0.95)"
   ]
  },
  {
   "cell_type": "code",
   "execution_count": 40,
   "id": "84681c96-7b6b-4c17-9447-8a06b7a740f1",
   "metadata": {},
   "outputs": [
    {
     "ename": "AttributeError",
     "evalue": "'InferenceData' object has no attribute 'posterior_predictive'",
     "output_type": "error",
     "traceback": [
      "\u001b[0;31m---------------------------------------------------------------------------\u001b[0m",
      "\u001b[0;31mAttributeError\u001b[0m                            Traceback (most recent call last)",
      "Cell \u001b[0;32mIn[40], line 1\u001b[0m\n\u001b[0;32m----> 1\u001b[0m y_pred \u001b[38;5;241m=\u001b[39m trace_linear\u001b[38;5;241m.\u001b[39mposterior_predictive\u001b[38;5;241m.\u001b[39mstack(sample\u001b[38;5;241m=\u001b[39m(\u001b[38;5;124m\"\u001b[39m\u001b[38;5;124mchain\u001b[39m\u001b[38;5;124m\"\u001b[39m, \u001b[38;5;124m\"\u001b[39m\u001b[38;5;124mdraw\u001b[39m\u001b[38;5;124m\"\u001b[39m))[\n\u001b[1;32m      2\u001b[0m     \u001b[38;5;124m\"\u001b[39m\u001b[38;5;124mage_of_tree\u001b[39m\u001b[38;5;124m\"\u001b[39m\n\u001b[1;32m      3\u001b[0m ]\u001b[38;5;241m.\u001b[39mvalues\u001b[38;5;241m.\u001b[39mT\n\u001b[1;32m      4\u001b[0m az\u001b[38;5;241m.\u001b[39mr2_score(y_train, y_pred)\n",
      "\u001b[0;31mAttributeError\u001b[0m: 'InferenceData' object has no attribute 'posterior_predictive'"
     ]
    }
   ],
   "source": [
    "y_pred = trace_linear.posterior_predictive.stack(sample=(\"chain\", \"draw\"))[\n",
    "    \"age_of_tree\"\n",
    "].values.T\n",
    "az.r2_score(y_train, y_pred)"
   ]
  },
  {
   "cell_type": "code",
   "execution_count": null,
   "id": "b3c1ca51-1e4d-42c4-9176-2bc9df17258a",
   "metadata": {},
   "outputs": [],
   "source": [
    "y_pred"
   ]
  },
  {
   "cell_type": "code",
   "execution_count": null,
   "id": "8bbc2b63-71f3-4cbd-af96-d17cd384d543",
   "metadata": {},
   "outputs": [],
   "source": [
    "y_pred.shape"
   ]
  },
  {
   "cell_type": "markdown",
   "id": "059f4725-eaa8-4622-a95a-a14d397fa169",
   "metadata": {},
   "source": [
    "Now predict test data, and compare MSE to actual.\n",
    "See example in PyMC docs: https://www.pymc.io/projects/examples/en/latest/generalized_linear_models/GLM-out-of-sample-predictions.html"
   ]
  },
  {
   "cell_type": "code",
   "execution_count": null,
   "id": "164a80c2-12e5-4972-a4cd-b5a411ec056d",
   "metadata": {},
   "outputs": [],
   "source": [
    "with m_linear:\n",
    "    pm.set_data({\"X\": X_test, \"y\": y_test})\n",
    "    ppc = pm.sample_posterior_predictive(trace_linear, predictions=True)"
   ]
  },
  {
   "cell_type": "code",
   "execution_count": null,
   "id": "d740f88b-e38f-4367-b029-bfef81151961",
   "metadata": {},
   "outputs": [],
   "source": [
    "az.summary(ppc.predictions).mean()"
   ]
  },
  {
   "cell_type": "markdown",
   "id": "44380593-e141-404b-b931-74598ae7e5cc",
   "metadata": {},
   "source": [
    "When I add in the y_test dataset to get the dimensions matching, I get values that are way off. Let's try predicting one at a time... not as efficient, but maybe effective and accurate"
   ]
  },
  {
   "cell_type": "code",
   "execution_count": null,
   "id": "400a861e-4967-439e-baf8-6b7d2071866d",
   "metadata": {},
   "outputs": [],
   "source": [
    "X_test[:5, :]"
   ]
  },
  {
   "cell_type": "code",
   "execution_count": null,
   "id": "78023349-6bd5-4c6a-a0bf-e9af576a1149",
   "metadata": {},
   "outputs": [],
   "source": [
    "output = []\n",
    "\n",
    "for x_pt_test in X_test:\n",
    "    # print(x_pt_test.shape)\n",
    "    # print(type(x_pt_test))\n",
    "    # print(x_pt_test.reshape((1, -1)))\n",
    "    with m_linear:\n",
    "        pm.set_data({\"X\": x_pt_test.reshape((1, -1)) })\n",
    "        ppc_i = pm.sample_posterior_predictive(trace_linear, predictions=True)\n",
    "    output.append(ppc_i.predictions.mean().values)\n"
   ]
  },
  {
   "cell_type": "code",
   "execution_count": null,
   "id": "97c26bb3-0b18-441f-beb7-cd1877fd7726",
   "metadata": {},
   "outputs": [],
   "source": [
    "output[:5]"
   ]
  },
  {
   "cell_type": "code",
   "execution_count": null,
   "id": "fb82fde9-2ec1-449b-89ef-14efd8cdad8c",
   "metadata": {},
   "outputs": [],
   "source": [
    "ppc.predictions.isel(age_of_tree_dim_2=0, chain=0).values"
   ]
  },
  {
   "cell_type": "code",
   "execution_count": null,
   "id": "4c12d4d2-e65f-4e5c-afda-19f6f30cbe6b",
   "metadata": {},
   "outputs": [],
   "source": [
    "y_pred_test = ppc.predictions[\"age_of_tree\"].mean(dim=[\"chain\", \"draw\"]).values"
   ]
  },
  {
   "cell_type": "code",
   "execution_count": null,
   "id": "41b0201b-6165-492a-8600-02d9bb229758",
   "metadata": {},
   "outputs": [],
   "source": [
    "y_pred_test[:50]"
   ]
  },
  {
   "cell_type": "code",
   "execution_count": null,
   "id": "3663c153-bf63-4481-b5ac-cbe508435467",
   "metadata": {},
   "outputs": [],
   "source": []
  },
  {
   "cell_type": "code",
   "execution_count": null,
   "id": "627e7549-9131-4164-b732-a2dc048a91db",
   "metadata": {},
   "outputs": [],
   "source": [
    "y_pred_test.shape"
   ]
  },
  {
   "cell_type": "code",
   "execution_count": null,
   "id": "45ee97e7-c83c-4e9a-98ca-259d3db42eb9",
   "metadata": {},
   "outputs": [],
   "source": [
    "y_pred2 = trace_linear.posterior_predictive.stack(sample=(\"chain\", \"draw\"))[\n",
    "    \"age_of_tree\"\n",
    "].values.T\n",
    "y_pred2"
   ]
  },
  {
   "cell_type": "code",
   "execution_count": null,
   "id": "12171f2b-c294-4256-b0c3-5be1bc8d892c",
   "metadata": {},
   "outputs": [],
   "source": [
    "y_pred2.shape"
   ]
  },
  {
   "cell_type": "code",
   "execution_count": null,
   "id": "5ce4e67a-0bf5-4169-af01-20afeda37442",
   "metadata": {},
   "outputs": [],
   "source": [
    "y_test[:50]"
   ]
  },
  {
   "cell_type": "code",
   "execution_count": null,
   "id": "419a7521-56d3-4e7e-9729-949dda6ed967",
   "metadata": {},
   "outputs": [],
   "source": [
    "y_train[:50]"
   ]
  },
  {
   "cell_type": "code",
   "execution_count": null,
   "id": "c576e99b-0434-423f-b81e-771c82938736",
   "metadata": {},
   "outputs": [],
   "source": [
    "y_pred = trace_linear.posterior_predictive.stack(sample=(\"chain\", \"draw\"))[\n",
    "    \"age_of_tree\"\n",
    "].values.T\n",
    "az.r2_score(y_test, y_pred_test)"
   ]
  },
  {
   "cell_type": "code",
   "execution_count": null,
   "id": "c8e262ad-f161-498a-825b-f08c49f05127",
   "metadata": {},
   "outputs": [],
   "source": [
    "y_pred.shape"
   ]
  },
  {
   "cell_type": "markdown",
   "id": "ce4b4296-687e-4728-85a1-02b322347897",
   "metadata": {},
   "source": [
    "**Calculate test set mean squared error. This is a better comparison than R2 once we start using non-linear models.**"
   ]
  },
  {
   "cell_type": "code",
   "execution_count": null,
   "id": "f9bb83bc-dae3-47a2-84cf-39813f690026",
   "metadata": {},
   "outputs": [],
   "source": [
    "round(mean_squared_error(y_test, y_pred_test), 2)"
   ]
  },
  {
   "cell_type": "markdown",
   "id": "632c2d3b-7582-4b42-a17a-3676549a6fac",
   "metadata": {},
   "source": [
    "The below plot shows there's a large discrepency between the predicted and actual known values. These should be somewhat similar."
   ]
  },
  {
   "cell_type": "code",
   "execution_count": null,
   "id": "9acf426b-663a-418a-a82e-ede56506978f",
   "metadata": {},
   "outputs": [],
   "source": [
    "plot = sns.regplot(x=y_pred_test, y=y_test)\n",
    "plot.set(xlabel=\"predicted\", ylabel=\"actual\")"
   ]
  },
  {
   "cell_type": "code",
   "execution_count": null,
   "id": "a8e3ea30-d829-47fd-8972-7a1ccf69703f",
   "metadata": {},
   "outputs": [],
   "source": [
    "pred_intercept = trace_linear.posterior.intercept.mean().values.item()"
   ]
  },
  {
   "cell_type": "code",
   "execution_count": null,
   "id": "b8ce93e5-05a9-47e5-ab50-c162e13d6068",
   "metadata": {},
   "outputs": [],
   "source": [
    "pred_coeffs = trace_linear.posterior.coeffs.mean([\"chain\", \"draw\"]).values"
   ]
  },
  {
   "cell_type": "code",
   "execution_count": null,
   "id": "752860ee-9199-46e1-85fb-9f474d156fd5",
   "metadata": {},
   "outputs": [],
   "source": [
    "pred_coeffs.shape"
   ]
  },
  {
   "cell_type": "code",
   "execution_count": null,
   "id": "4b38bfcb-3d40-4bbe-ad28-e4e2602ffaca",
   "metadata": {},
   "outputs": [],
   "source": [
    "X_test.shape"
   ]
  },
  {
   "cell_type": "code",
   "execution_count": null,
   "id": "cf72e9a6-e305-44c7-8546-e52a1b2acc92",
   "metadata": {},
   "outputs": [],
   "source": [
    "y_pred3 = X_test @  pred_coeffs + pred_intercept"
   ]
  },
  {
   "cell_type": "code",
   "execution_count": null,
   "id": "d1ae3caf-436c-445e-a2b3-8e8bbee9ae78",
   "metadata": {},
   "outputs": [],
   "source": [
    "y_pred3"
   ]
  },
  {
   "cell_type": "code",
   "execution_count": null,
   "id": "317d51de-d3d9-4622-a3f8-ecf4a7d6619a",
   "metadata": {},
   "outputs": [],
   "source": [
    "round(mean_squared_error(y_test, y_pred3), 2)"
   ]
  },
  {
   "cell_type": "code",
   "execution_count": null,
   "id": "2603a437-9373-48ee-9a15-d9cd8b450be7",
   "metadata": {},
   "outputs": [],
   "source": [
    "plot = sns.regplot(x=y_pred3, y=y_test)\n",
    "plot.set(xlabel=\"predicted\", ylabel=\"actual\")"
   ]
  },
  {
   "cell_type": "code",
   "execution_count": null,
   "id": "4dcbad1a-976d-4e33-9a12-8bdfd32cc454",
   "metadata": {},
   "outputs": [],
   "source": [
    "%load_ext watermark\n",
    "%watermark -n -u -v -iv -p pytensor"
   ]
  },
  {
   "cell_type": "code",
   "execution_count": null,
   "id": "5e5b3712-9d11-4e75-b670-d56ee689edc8",
   "metadata": {},
   "outputs": [],
   "source": []
  },
  {
   "cell_type": "code",
   "execution_count": null,
   "id": "c66bd8ec-8975-45cf-806f-e1e06472edc8",
   "metadata": {},
   "outputs": [],
   "source": []
  },
  {
   "cell_type": "code",
   "execution_count": null,
   "id": "c48f1b58-bd9e-4cda-bcab-d75e71540ad9",
   "metadata": {},
   "outputs": [],
   "source": []
  }
 ],
 "metadata": {
  "kernelspec": {
   "display_name": "Python 3 (ipykernel)",
   "language": "python",
   "name": "python3"
  },
  "language_info": {
   "codemirror_mode": {
    "name": "ipython",
    "version": 3
   },
   "file_extension": ".py",
   "mimetype": "text/x-python",
   "name": "python",
   "nbconvert_exporter": "python",
   "pygments_lexer": "ipython3",
   "version": "3.11.6"
  }
 },
 "nbformat": 4,
 "nbformat_minor": 5
}
