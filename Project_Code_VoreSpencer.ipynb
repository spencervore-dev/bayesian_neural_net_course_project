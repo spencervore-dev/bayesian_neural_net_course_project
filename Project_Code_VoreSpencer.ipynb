{
 "cells": [
  {
   "cell_type": "markdown",
   "id": "982a100f-0d65-4ecd-aa7d-6aa22a57c19c",
   "metadata": {},
   "source": [
    "# Georgia Tech ISYE6420 Course Project"
   ]
  },
  {
   "cell_type": "markdown",
   "id": "e953394c-a314-497f-9ebd-979b2e625688",
   "metadata": {},
   "source": [
    "### Fall 2023  \n",
    "### Spencer Vore"
   ]
  },
  {
   "cell_type": "code",
   "execution_count": 1,
   "id": "14dfbfb6-7a56-45f1-86ec-1509e9ecf0fb",
   "metadata": {},
   "outputs": [],
   "source": [
    "import pymc as pm\n",
    "import pandas as pd\n",
    "from pandas.api.types import is_numeric_dtype\n",
    "import numpy as np\n",
    "\n",
    "import arviz as az\n",
    "from collections.abc import Sequence\n",
    "from typing import Optional\n",
    "\n",
    "from sklearn.model_selection import train_test_split\n",
    "from sklearn.metrics import mean_squared_error\n",
    "\n",
    "import seaborn as sns\n",
    "import time"
   ]
  },
  {
   "cell_type": "markdown",
   "id": "29c6b737-be5c-4ce9-b77c-efcd2824b3fa",
   "metadata": {
    "tags": []
   },
   "source": [
    "## Define adjustable Constants / Settings  \n",
    "Use this to adjust script settings / MCMC run. I know, I didn't add it to a .env file or something fancier. Works for purpose of demo / tinkering."
   ]
  },
  {
   "cell_type": "code",
   "execution_count": 2,
   "id": "620e860d-e953-4e3f-8ac3-4266669a89fb",
   "metadata": {},
   "outputs": [],
   "source": [
    "n_all = 4000 # Size of data we want for MCMC. Randomly sample this many points from full dataset. Includes train and test sample size.\n",
    "n_seed = 42 # Random seed for down sampling n datapoints from full dataset\n",
    "\n",
    "n_test = 2500 # Size of test set we want to saomple from n_all.\n",
    "split_seed = 43 # Random seed used for train / test split\n",
    "\n",
    "path_to_datafile = \"abalone/abalone.data\"\n",
    "\n",
    "standardize = True # Controls whether to standardize numerical columns\n",
    "\n",
    "linear_model_n_samples = 5000 # how many samples to draw from MCMC for linear model. Set lower for testing. Set higher for official results.\n",
    "neural_model_n_samples = 5000 # how many samples to draw from MCMC for neural model.\n",
    "d_neural_model_n_samples = 5000 # how many samples to draw from MCMC for the deep neural model"
   ]
  },
  {
   "cell_type": "markdown",
   "id": "6f5b9490-1da3-489e-9202-7f8c7ea8f92b",
   "metadata": {},
   "source": [
    "Notes:  \n",
    "1) If the training set is greater than around 1500, PyMC will not start sampling. I beleive it exceeds the capability of my hardware.  \n",
    "2) Since we have around 4100 samples, and we can't use them all for training, might as well use a large test set."
   ]
  },
  {
   "cell_type": "markdown",
   "id": "17dacb81-6181-4d5b-aa22-09c5f6e011b4",
   "metadata": {},
   "source": [
    "## Prepare Dataset"
   ]
  },
  {
   "cell_type": "markdown",
   "id": "a0ad572e-fa93-4b6f-b61a-ad4d9ca80ead",
   "metadata": {},
   "source": [
    "**Load Dataset**"
   ]
  },
  {
   "cell_type": "code",
   "execution_count": 3,
   "id": "e5726059-0095-4165-b2a8-6f716d505115",
   "metadata": {},
   "outputs": [],
   "source": [
    "data = pd.read_csv(path_to_datafile, header=None)"
   ]
  },
  {
   "cell_type": "markdown",
   "id": "ccff05c2-3757-41bd-ace6-e8f14eeecd11",
   "metadata": {},
   "source": [
    "Below, see that there are both numeric and categorical variables to deal with"
   ]
  },
  {
   "cell_type": "code",
   "execution_count": 4,
   "id": "8abb4b7a-fdfe-4ac8-a82b-e89ef2b7a074",
   "metadata": {},
   "outputs": [
    {
     "data": {
      "text/html": [
       "<div>\n",
       "<style scoped>\n",
       "    .dataframe tbody tr th:only-of-type {\n",
       "        vertical-align: middle;\n",
       "    }\n",
       "\n",
       "    .dataframe tbody tr th {\n",
       "        vertical-align: top;\n",
       "    }\n",
       "\n",
       "    .dataframe thead th {\n",
       "        text-align: right;\n",
       "    }\n",
       "</style>\n",
       "<table border=\"1\" class=\"dataframe\">\n",
       "  <thead>\n",
       "    <tr style=\"text-align: right;\">\n",
       "      <th></th>\n",
       "      <th>0</th>\n",
       "      <th>1</th>\n",
       "      <th>2</th>\n",
       "      <th>3</th>\n",
       "      <th>4</th>\n",
       "      <th>5</th>\n",
       "      <th>6</th>\n",
       "      <th>7</th>\n",
       "      <th>8</th>\n",
       "    </tr>\n",
       "  </thead>\n",
       "  <tbody>\n",
       "    <tr>\n",
       "      <th>0</th>\n",
       "      <td>M</td>\n",
       "      <td>0.455</td>\n",
       "      <td>0.365</td>\n",
       "      <td>0.095</td>\n",
       "      <td>0.5140</td>\n",
       "      <td>0.2245</td>\n",
       "      <td>0.1010</td>\n",
       "      <td>0.150</td>\n",
       "      <td>15</td>\n",
       "    </tr>\n",
       "    <tr>\n",
       "      <th>1</th>\n",
       "      <td>M</td>\n",
       "      <td>0.350</td>\n",
       "      <td>0.265</td>\n",
       "      <td>0.090</td>\n",
       "      <td>0.2255</td>\n",
       "      <td>0.0995</td>\n",
       "      <td>0.0485</td>\n",
       "      <td>0.070</td>\n",
       "      <td>7</td>\n",
       "    </tr>\n",
       "    <tr>\n",
       "      <th>2</th>\n",
       "      <td>F</td>\n",
       "      <td>0.530</td>\n",
       "      <td>0.420</td>\n",
       "      <td>0.135</td>\n",
       "      <td>0.6770</td>\n",
       "      <td>0.2565</td>\n",
       "      <td>0.1415</td>\n",
       "      <td>0.210</td>\n",
       "      <td>9</td>\n",
       "    </tr>\n",
       "    <tr>\n",
       "      <th>3</th>\n",
       "      <td>M</td>\n",
       "      <td>0.440</td>\n",
       "      <td>0.365</td>\n",
       "      <td>0.125</td>\n",
       "      <td>0.5160</td>\n",
       "      <td>0.2155</td>\n",
       "      <td>0.1140</td>\n",
       "      <td>0.155</td>\n",
       "      <td>10</td>\n",
       "    </tr>\n",
       "    <tr>\n",
       "      <th>4</th>\n",
       "      <td>I</td>\n",
       "      <td>0.330</td>\n",
       "      <td>0.255</td>\n",
       "      <td>0.080</td>\n",
       "      <td>0.2050</td>\n",
       "      <td>0.0895</td>\n",
       "      <td>0.0395</td>\n",
       "      <td>0.055</td>\n",
       "      <td>7</td>\n",
       "    </tr>\n",
       "  </tbody>\n",
       "</table>\n",
       "</div>"
      ],
      "text/plain": [
       "   0      1      2      3       4       5       6      7   8\n",
       "0  M  0.455  0.365  0.095  0.5140  0.2245  0.1010  0.150  15\n",
       "1  M  0.350  0.265  0.090  0.2255  0.0995  0.0485  0.070   7\n",
       "2  F  0.530  0.420  0.135  0.6770  0.2565  0.1415  0.210   9\n",
       "3  M  0.440  0.365  0.125  0.5160  0.2155  0.1140  0.155  10\n",
       "4  I  0.330  0.255  0.080  0.2050  0.0895  0.0395  0.055   7"
      ]
     },
     "execution_count": 4,
     "metadata": {},
     "output_type": "execute_result"
    }
   ],
   "source": [
    "data.head()"
   ]
  },
  {
   "cell_type": "code",
   "execution_count": 5,
   "id": "60bf06f2-17bd-4521-99bc-be01a8a6aad0",
   "metadata": {},
   "outputs": [
    {
     "data": {
      "text/plain": [
       "(4177, 9)"
      ]
     },
     "execution_count": 5,
     "metadata": {},
     "output_type": "execute_result"
    }
   ],
   "source": [
    "data.shape"
   ]
  },
  {
   "cell_type": "markdown",
   "id": "cb05078b-2a98-4603-a18f-df97c4abedb0",
   "metadata": {},
   "source": [
    "**Downsample dataset**  \n",
    "This will help the MCMC algorithm run faster... can adjust upward for better prediction accuracy, or downward for faster computation. Take random sample of data."
   ]
  },
  {
   "cell_type": "code",
   "execution_count": 6,
   "id": "688c2494-0a52-4937-9aa3-d83519774f1e",
   "metadata": {},
   "outputs": [],
   "source": [
    "# Uncomment this line to use full datasize\n",
    "# n = data.shape[0]"
   ]
  },
  {
   "cell_type": "code",
   "execution_count": 7,
   "id": "81ebf77f-1224-42e2-a7ef-73c78a33ceb4",
   "metadata": {},
   "outputs": [],
   "source": [
    "n = n_all\n",
    "assert n <= data.shape[0] # Can't chose more samples than size of data\n",
    "data = data.sample(n, random_state=n_seed)"
   ]
  },
  {
   "cell_type": "markdown",
   "id": "f5aa2a6d-f7d1-424f-af80-10958704e42a",
   "metadata": {},
   "source": [
    "**Split data into training and test sets**"
   ]
  },
  {
   "cell_type": "code",
   "execution_count": 8,
   "id": "fb54e041-bbb3-4ca1-b2a4-8ef6ca05e8f1",
   "metadata": {},
   "outputs": [
    {
     "data": {
      "text/plain": [
       "(4000, 9)"
      ]
     },
     "execution_count": 8,
     "metadata": {},
     "output_type": "execute_result"
    }
   ],
   "source": [
    "data.shape"
   ]
  },
  {
   "cell_type": "code",
   "execution_count": 9,
   "id": "b74d7e01-ee4b-4ac9-8486-ea15127c1d0c",
   "metadata": {},
   "outputs": [],
   "source": [
    "assert n_test < n_all # Test size should be smaller than full size\n",
    "train_data, test_data = train_test_split(data, test_size=n_test, random_state=split_seed)"
   ]
  },
  {
   "cell_type": "code",
   "execution_count": 10,
   "id": "72d15c10-55cc-4201-ac07-abb3a460e497",
   "metadata": {},
   "outputs": [
    {
     "data": {
      "text/plain": [
       "(1500, 9)"
      ]
     },
     "execution_count": 10,
     "metadata": {},
     "output_type": "execute_result"
    }
   ],
   "source": [
    "train_data.shape"
   ]
  },
  {
   "cell_type": "code",
   "execution_count": 11,
   "id": "69f2908b-83d5-4feb-8ae2-b741f208a770",
   "metadata": {},
   "outputs": [
    {
     "data": {
      "text/plain": [
       "(2500, 9)"
      ]
     },
     "execution_count": 11,
     "metadata": {},
     "output_type": "execute_result"
    }
   ],
   "source": [
    "test_data.shape"
   ]
  },
  {
   "cell_type": "markdown",
   "id": "2756917e-ea1e-4923-891d-8e47350eef18",
   "metadata": {},
   "source": [
    "**Standardize and one hot encode train dataset**  \n"
   ]
  },
  {
   "cell_type": "code",
   "execution_count": 12,
   "id": "38cb434e-e16b-43c6-9d2d-2d9fda5f4872",
   "metadata": {},
   "outputs": [],
   "source": [
    "class DataPrep:\n",
    "    \"\"\"\n",
    "    Standardize and one hot encode the data. By writing this as an object, we can save the statistics calculated for the standardization\n",
    "    so we can use them later to predict new datapoints in our model.\n",
    "    \"\"\"\n",
    "    def __init__(self):\n",
    "        self.means = dict()\n",
    "        self.stdevs = dict()\n",
    "        \n",
    "    def prep(self, X_df: pd.DataFrame, X_df_all: Optional[pd.DataFrame] = None, \n",
    "             use_prev_standardization=False, standardize=True) -> pd.DataFrame:\n",
    "        \"\"\"\n",
    "        This takes a dataset, and prepares it. Numerical columns are standardized. Categorical columns \n",
    "        are one hot encoded so we can fit a numerical regression with a coefficient for each category.\n",
    "        \n",
    "        From TA's example github for numerical standardization\n",
    "        Standardize input variables by 2 std dev.\n",
    "\n",
    "        For standardization, see:\n",
    "        https://stat.columbia.edu/~gelman/research/published/standardizing7.pdf\n",
    "        https://areding.github.io/6420-pymc/unit7/Unit7-arrhythmia.html\n",
    "        \n",
    "        INPUTS:\n",
    "        X_df - The train or test dataset you want to standardize and one hot encode\n",
    "        X_df_all - The full dataset you sampled X_df from. Used to check that all categorical values in X_df_all are also in X_df. Otherwise,\n",
    "            you will get an output dataset that doesn't fully one hot encode the full dataset and your dimensions will be off. If this fails,\n",
    "            you will need to add more logic to this function to handle the edge case. Right now, it just throws and exception.\n",
    "        use_prev_standardization - Set this to true is X_df is a test set. This will use previously saved means and stdevs from training set \n",
    "            (saved in the object) to standardize the test dataset in the same way. If fasle, will recalculate the means and stdev from X_df.\n",
    "        \n",
    "        RETURNS:\n",
    "        Standardized and one hot encoded dataframe based on X_df input\n",
    "        \"\"\"\n",
    "        \n",
    "        X_standardized = pd.DataFrame()\n",
    "            \n",
    "        for colname in X_df.columns:\n",
    "            col = X_df[colname]\n",
    "            if is_numeric_dtype(col):\n",
    "                if standardize:\n",
    "                    if not use_prev_standardization:\n",
    "                        self.means[colname] = col.mean()\n",
    "                        self.stdevs[colname] = col.std()\n",
    "                    X_standardized[colname] = (col - self.means[colname]) / (2 * self.stdevs[colname])\n",
    "                else:\n",
    "                    if not use_prev_standardization:\n",
    "                        self.means[colname] = None\n",
    "                        self.stdevs[colname] = None\n",
    "                    X_standardized[colname] = col\n",
    "            else:\n",
    "                X_onehot = pd.get_dummies(X_df[colname], prefix=colname, dtype=int)\n",
    "                \n",
    "                # Make sure all categorical values are in subsample. If this breaks,\n",
    "                # add logic to handle this edge case, such as inserting missing column where \n",
    "                # everything is False\n",
    "                X_onehot_all = pd.get_dummies(X_df_all[colname], prefix=colname, dtype=int)\n",
    "                assert set(X_onehot.columns) == set(X_onehot_all.columns)\n",
    "                    \n",
    "                if X_standardized.empty:\n",
    "                    X_standardized = X_onehot\n",
    "                else:\n",
    "                    X_standardized = X_standardized.join(X_onehot)\n",
    "                if not use_prev_standardization:\n",
    "                    onehot_colnames = X_onehot.columns\n",
    "                    for o_colname in onehot_colnames:\n",
    "                        self.means[o_colname] = None\n",
    "                        self.stdevs[o_colname] = None\n",
    "\n",
    "        return X_standardized\n"
   ]
  },
  {
   "cell_type": "code",
   "execution_count": 13,
   "id": "cf25228b-7bc0-4fdb-bb62-a81cbe0c963b",
   "metadata": {},
   "outputs": [],
   "source": [
    "data_preper = DataPrep()\n",
    "train_data_std = data_preper.prep(X_df = train_data, X_df_all = data, standardize=standardize)"
   ]
  },
  {
   "cell_type": "code",
   "execution_count": 14,
   "id": "bfb78427-ef2a-4990-8533-cdcb22a78d68",
   "metadata": {},
   "outputs": [
    {
     "data": {
      "text/html": [
       "<div>\n",
       "<style scoped>\n",
       "    .dataframe tbody tr th:only-of-type {\n",
       "        vertical-align: middle;\n",
       "    }\n",
       "\n",
       "    .dataframe tbody tr th {\n",
       "        vertical-align: top;\n",
       "    }\n",
       "\n",
       "    .dataframe thead th {\n",
       "        text-align: right;\n",
       "    }\n",
       "</style>\n",
       "<table border=\"1\" class=\"dataframe\">\n",
       "  <thead>\n",
       "    <tr style=\"text-align: right;\">\n",
       "      <th></th>\n",
       "      <th>0_F</th>\n",
       "      <th>0_I</th>\n",
       "      <th>0_M</th>\n",
       "      <th>1</th>\n",
       "      <th>2</th>\n",
       "      <th>3</th>\n",
       "      <th>4</th>\n",
       "      <th>5</th>\n",
       "      <th>6</th>\n",
       "      <th>7</th>\n",
       "      <th>8</th>\n",
       "    </tr>\n",
       "  </thead>\n",
       "  <tbody>\n",
       "    <tr>\n",
       "      <th>1335</th>\n",
       "      <td>1</td>\n",
       "      <td>0</td>\n",
       "      <td>0</td>\n",
       "      <td>0.200543</td>\n",
       "      <td>0.349441</td>\n",
       "      <td>0.317187</td>\n",
       "      <td>0.234926</td>\n",
       "      <td>0.322179</td>\n",
       "      <td>0.113948</td>\n",
       "      <td>0.227865</td>\n",
       "      <td>-0.147831</td>\n",
       "    </tr>\n",
       "    <tr>\n",
       "      <th>2944</th>\n",
       "      <td>0</td>\n",
       "      <td>0</td>\n",
       "      <td>1</td>\n",
       "      <td>0.425458</td>\n",
       "      <td>0.498294</td>\n",
       "      <td>0.380956</td>\n",
       "      <td>0.346071</td>\n",
       "      <td>0.278599</td>\n",
       "      <td>0.552176</td>\n",
       "      <td>0.377577</td>\n",
       "      <td>-0.458618</td>\n",
       "    </tr>\n",
       "    <tr>\n",
       "      <th>542</th>\n",
       "      <td>0</td>\n",
       "      <td>0</td>\n",
       "      <td>1</td>\n",
       "      <td>-0.433309</td>\n",
       "      <td>-0.419634</td>\n",
       "      <td>-0.320503</td>\n",
       "      <td>-0.559187</td>\n",
       "      <td>-0.596337</td>\n",
       "      <td>-0.575018</td>\n",
       "      <td>-0.458314</td>\n",
       "      <td>0.784530</td>\n",
       "    </tr>\n",
       "    <tr>\n",
       "      <th>1128</th>\n",
       "      <td>1</td>\n",
       "      <td>0</td>\n",
       "      <td>0</td>\n",
       "      <td>0.139202</td>\n",
       "      <td>0.150970</td>\n",
       "      <td>0.189649</td>\n",
       "      <td>-0.205130</td>\n",
       "      <td>-0.068917</td>\n",
       "      <td>-0.035140</td>\n",
       "      <td>0.010426</td>\n",
       "      <td>-0.303224</td>\n",
       "    </tr>\n",
       "    <tr>\n",
       "      <th>1870</th>\n",
       "      <td>0</td>\n",
       "      <td>1</td>\n",
       "      <td>0</td>\n",
       "      <td>0.016521</td>\n",
       "      <td>0.101352</td>\n",
       "      <td>-0.001658</td>\n",
       "      <td>-0.168417</td>\n",
       "      <td>-0.153841</td>\n",
       "      <td>-0.396564</td>\n",
       "      <td>-0.043042</td>\n",
       "      <td>-0.303224</td>\n",
       "    </tr>\n",
       "  </tbody>\n",
       "</table>\n",
       "</div>"
      ],
      "text/plain": [
       "      0_F  0_I  0_M         1         2         3         4         5  \\\n",
       "1335    1    0    0  0.200543  0.349441  0.317187  0.234926  0.322179   \n",
       "2944    0    0    1  0.425458  0.498294  0.380956  0.346071  0.278599   \n",
       "542     0    0    1 -0.433309 -0.419634 -0.320503 -0.559187 -0.596337   \n",
       "1128    1    0    0  0.139202  0.150970  0.189649 -0.205130 -0.068917   \n",
       "1870    0    1    0  0.016521  0.101352 -0.001658 -0.168417 -0.153841   \n",
       "\n",
       "             6         7         8  \n",
       "1335  0.113948  0.227865 -0.147831  \n",
       "2944  0.552176  0.377577 -0.458618  \n",
       "542  -0.575018 -0.458314  0.784530  \n",
       "1128 -0.035140  0.010426 -0.303224  \n",
       "1870 -0.396564 -0.043042 -0.303224  "
      ]
     },
     "execution_count": 14,
     "metadata": {},
     "output_type": "execute_result"
    }
   ],
   "source": [
    "train_data_std.head()"
   ]
  },
  {
   "cell_type": "code",
   "execution_count": 15,
   "id": "c462f0bd-fca5-494d-a9b2-cfde83e43a79",
   "metadata": {},
   "outputs": [
    {
     "data": {
      "text/plain": [
       "(1500, 11)"
      ]
     },
     "execution_count": 15,
     "metadata": {},
     "output_type": "execute_result"
    }
   ],
   "source": [
    "train_data_std.shape"
   ]
  },
  {
   "cell_type": "code",
   "execution_count": 16,
   "id": "cccb3f63-aa3f-4044-adfa-076dc2d84df5",
   "metadata": {},
   "outputs": [
    {
     "data": {
      "text/plain": [
       "{'0_F': None,\n",
       " '0_I': None,\n",
       " '0_M': None,\n",
       " 1: 0.52596,\n",
       " 2: 0.4095733333333333,\n",
       " 3: 0.14013,\n",
       " 4: 0.8444386666666666,\n",
       " 5: 0.3668376666666666,\n",
       " 6: 0.18427800000000003,\n",
       " 7: 0.24207499999999996,\n",
       " 8: 9.951333333333332}"
      ]
     },
     "execution_count": 16,
     "metadata": {},
     "output_type": "execute_result"
    }
   ],
   "source": [
    "data_preper.means"
   ]
  },
  {
   "cell_type": "code",
   "execution_count": 17,
   "id": "ef06a4cf-93d6-4981-ad0e-660633a0d611",
   "metadata": {},
   "outputs": [
    {
     "data": {
      "text/plain": [
       "{'0_F': None,\n",
       " '0_I': None,\n",
       " '0_M': None,\n",
       " 1: 0.12226833099038954,\n",
       " 2: 0.10077047061211507,\n",
       " 3: 0.039204052577410005,\n",
       " 4: 0.49709575103329184,\n",
       " 5: 0.22373050315036502,\n",
       " 6: 0.1106730759300738,\n",
       " 7: 0.14026943674558362,\n",
       " 8: 3.217638941179192}"
      ]
     },
     "execution_count": 17,
     "metadata": {},
     "output_type": "execute_result"
    }
   ],
   "source": [
    "data_preper.stdevs"
   ]
  },
  {
   "cell_type": "code",
   "execution_count": 18,
   "id": "92b47480-2f70-4028-b06d-c5045ddbfe1e",
   "metadata": {},
   "outputs": [],
   "source": [
    "X_train = train_data_std.drop(8, axis=1).to_numpy()\n",
    "y_train = train_data_std[8].to_numpy()"
   ]
  },
  {
   "cell_type": "code",
   "execution_count": 19,
   "id": "ae95b51e-ed5e-4d8e-8014-536cef232e10",
   "metadata": {},
   "outputs": [
    {
     "data": {
      "text/plain": [
       "array([[ 1.        ,  0.        ,  0.        , ...,  0.32217854,\n",
       "         0.11394822,  0.22786503],\n",
       "       [ 0.        ,  0.        ,  1.        , ...,  0.27859932,\n",
       "         0.55217585,  0.37757691],\n",
       "       [ 0.        ,  0.        ,  1.        , ..., -0.59633725,\n",
       "        -0.5750179 , -0.45831438],\n",
       "       ...,\n",
       "       [ 1.        ,  0.        ,  0.        , ..., -0.50582657,\n",
       "        -0.38752876, -0.50643605],\n",
       "       [ 0.        ,  1.        ,  0.        , ..., -0.77735861,\n",
       "        -0.78283719, -0.8165535 ],\n",
       "       [ 0.        ,  1.        ,  0.        , ..., -0.62650748,\n",
       "        -0.64278506, -0.61337311]])"
      ]
     },
     "execution_count": 19,
     "metadata": {},
     "output_type": "execute_result"
    }
   ],
   "source": [
    "X_train"
   ]
  },
  {
   "cell_type": "markdown",
   "id": "bab08c31-35f9-417c-8ce9-b066783830cf",
   "metadata": {},
   "source": [
    "**Apply standardization to test dataset**"
   ]
  },
  {
   "cell_type": "markdown",
   "id": "1bc99d81-344d-4206-8663-b5be389da16e",
   "metadata": {},
   "source": [
    "Use means and standard deviations from training dataset, so test has exact same standardization."
   ]
  },
  {
   "cell_type": "code",
   "execution_count": 20,
   "id": "1ddfbd5e-d893-4de5-b907-fc1c8c2cd725",
   "metadata": {},
   "outputs": [],
   "source": [
    "test_data_std = data_preper.prep(X_df = test_data, X_df_all = data, use_prev_standardization=True, standardize=standardize)"
   ]
  },
  {
   "cell_type": "code",
   "execution_count": 21,
   "id": "4e492b6a-e6d8-464c-9891-a2eb49ecf7aa",
   "metadata": {},
   "outputs": [
    {
     "data": {
      "text/html": [
       "<div>\n",
       "<style scoped>\n",
       "    .dataframe tbody tr th:only-of-type {\n",
       "        vertical-align: middle;\n",
       "    }\n",
       "\n",
       "    .dataframe tbody tr th {\n",
       "        vertical-align: top;\n",
       "    }\n",
       "\n",
       "    .dataframe thead th {\n",
       "        text-align: right;\n",
       "    }\n",
       "</style>\n",
       "<table border=\"1\" class=\"dataframe\">\n",
       "  <thead>\n",
       "    <tr style=\"text-align: right;\">\n",
       "      <th></th>\n",
       "      <th>0_F</th>\n",
       "      <th>0_I</th>\n",
       "      <th>0_M</th>\n",
       "      <th>1</th>\n",
       "      <th>2</th>\n",
       "      <th>3</th>\n",
       "      <th>4</th>\n",
       "      <th>5</th>\n",
       "      <th>6</th>\n",
       "      <th>7</th>\n",
       "      <th>8</th>\n",
       "    </tr>\n",
       "  </thead>\n",
       "  <tbody>\n",
       "    <tr>\n",
       "      <th>2194</th>\n",
       "      <td>0</td>\n",
       "      <td>1</td>\n",
       "      <td>0</td>\n",
       "      <td>-0.392416</td>\n",
       "      <td>-0.419634</td>\n",
       "      <td>-0.384271</td>\n",
       "      <td>-0.479725</td>\n",
       "      <td>-0.517001</td>\n",
       "      <td>-0.410118</td>\n",
       "      <td>-0.435145</td>\n",
       "      <td>0.473743</td>\n",
       "    </tr>\n",
       "    <tr>\n",
       "      <th>2879</th>\n",
       "      <td>0</td>\n",
       "      <td>1</td>\n",
       "      <td>0</td>\n",
       "      <td>-0.228841</td>\n",
       "      <td>-0.121927</td>\n",
       "      <td>-0.129196</td>\n",
       "      <td>-0.258943</td>\n",
       "      <td>-0.229825</td>\n",
       "      <td>-0.303949</td>\n",
       "      <td>-0.242658</td>\n",
       "      <td>-0.303224</td>\n",
       "    </tr>\n",
       "    <tr>\n",
       "      <th>3320</th>\n",
       "      <td>1</td>\n",
       "      <td>0</td>\n",
       "      <td>0</td>\n",
       "      <td>0.036968</td>\n",
       "      <td>0.076544</td>\n",
       "      <td>0.189649</td>\n",
       "      <td>-0.068336</td>\n",
       "      <td>-0.144901</td>\n",
       "      <td>-0.125496</td>\n",
       "      <td>0.028249</td>\n",
       "      <td>0.939923</td>\n",
       "    </tr>\n",
       "    <tr>\n",
       "      <th>691</th>\n",
       "      <td>0</td>\n",
       "      <td>1</td>\n",
       "      <td>0</td>\n",
       "      <td>-1.108055</td>\n",
       "      <td>-1.089473</td>\n",
       "      <td>-0.830654</td>\n",
       "      <td>-0.762367</td>\n",
       "      <td>-0.742719</td>\n",
       "      <td>-0.739918</td>\n",
       "      <td>-0.773779</td>\n",
       "      <td>-0.769405</td>\n",
       "    </tr>\n",
       "    <tr>\n",
       "      <th>3415</th>\n",
       "      <td>1</td>\n",
       "      <td>0</td>\n",
       "      <td>0</td>\n",
       "      <td>0.139202</td>\n",
       "      <td>0.275014</td>\n",
       "      <td>0.253418</td>\n",
       "      <td>0.188154</td>\n",
       "      <td>0.145627</td>\n",
       "      <td>0.082324</td>\n",
       "      <td>0.338367</td>\n",
       "      <td>-0.147831</td>\n",
       "    </tr>\n",
       "  </tbody>\n",
       "</table>\n",
       "</div>"
      ],
      "text/plain": [
       "      0_F  0_I  0_M         1         2         3         4         5  \\\n",
       "2194    0    1    0 -0.392416 -0.419634 -0.384271 -0.479725 -0.517001   \n",
       "2879    0    1    0 -0.228841 -0.121927 -0.129196 -0.258943 -0.229825   \n",
       "3320    1    0    0  0.036968  0.076544  0.189649 -0.068336 -0.144901   \n",
       "691     0    1    0 -1.108055 -1.089473 -0.830654 -0.762367 -0.742719   \n",
       "3415    1    0    0  0.139202  0.275014  0.253418  0.188154  0.145627   \n",
       "\n",
       "             6         7         8  \n",
       "2194 -0.410118 -0.435145  0.473743  \n",
       "2879 -0.303949 -0.242658 -0.303224  \n",
       "3320 -0.125496  0.028249  0.939923  \n",
       "691  -0.739918 -0.773779 -0.769405  \n",
       "3415  0.082324  0.338367 -0.147831  "
      ]
     },
     "execution_count": 21,
     "metadata": {},
     "output_type": "execute_result"
    }
   ],
   "source": [
    "test_data_std.head()"
   ]
  },
  {
   "cell_type": "code",
   "execution_count": 22,
   "id": "a7ab3786-45de-4950-944b-f00c15b2b9e8",
   "metadata": {},
   "outputs": [
    {
     "data": {
      "text/plain": [
       "(2500, 11)"
      ]
     },
     "execution_count": 22,
     "metadata": {},
     "output_type": "execute_result"
    }
   ],
   "source": [
    "test_data_std.shape"
   ]
  },
  {
   "cell_type": "code",
   "execution_count": 23,
   "id": "b4d7e268-107d-4dbb-a8d2-8d776aee03e6",
   "metadata": {},
   "outputs": [],
   "source": [
    "X_test = test_data_std.drop(8, axis=1).to_numpy()\n",
    "y_test = test_data_std[8].to_numpy()"
   ]
  },
  {
   "cell_type": "code",
   "execution_count": 24,
   "id": "81f382f4-faf9-4578-9735-e0ce18c4cb22",
   "metadata": {},
   "outputs": [
    {
     "data": {
      "text/plain": [
       "array([ 0.47374282, -0.30322441,  0.93992315, -0.76940474, -0.14783096,\n",
       "        0.00756248, -0.14783096,  1.56149693, -0.14783096, -0.14783096,\n",
       "       -0.14783096, -0.14783096,  0.31834937,  0.16295593,  0.16295593,\n",
       "        0.00756248, -0.45861785, -0.45861785,  0.16295593,  0.31834937,\n",
       "        0.00756248, -0.6140113 ,  0.00756248,  0.00756248, -0.45861785,\n",
       "       -0.14783096,  0.00756248,  0.16295593, -0.14783096, -0.14783096,\n",
       "        0.00756248, -0.6140113 , -0.76940474,  0.16295593,  0.93992315,\n",
       "        0.31834937, -0.45861785, -0.30322441,  0.00756248,  0.16295593])"
      ]
     },
     "execution_count": 24,
     "metadata": {},
     "output_type": "execute_result"
    }
   ],
   "source": [
    "y_test[:40]"
   ]
  },
  {
   "cell_type": "markdown",
   "id": "6f34cf85-173c-43a6-bb7a-69ae0af16fee",
   "metadata": {},
   "source": [
    "## Fit linear regression model"
   ]
  },
  {
   "cell_type": "markdown",
   "id": "77c3bf09-d4f3-4536-8f9a-d16794a68435",
   "metadata": {},
   "source": [
    "Some examples that were referenced:  \n",
    "https://www.pymc.io/projects/examples/en/latest/generalized_linear_models/GLM-robust.html  \n",
    "https://www.pymc.io/projects/examples/en/latest/generalized_linear_models/GLM-out-of-sample-predictions.html  \n",
    "\n",
    "Notes about linear regression model:  \n",
    "1) Through tinkering, it seems to provide better predictions with more informative priors. mu=0 and sigma=5 seem to be best.  \n",
    "2) Using the robust GLM example, it was found the predictons seemed to work better after replacing pm.Normal with pm.StudentT, and replacing HalfNormal with HalfCauchy."
   ]
  },
  {
   "cell_type": "code",
   "execution_count": 25,
   "id": "fe8c0368-3d24-46fe-a6b0-431eda3bd3cf",
   "metadata": {},
   "outputs": [],
   "source": [
    "linear_start = time.time()"
   ]
  },
  {
   "cell_type": "code",
   "execution_count": 26,
   "id": "1cdee0e0-6a89-4154-98df-1c80150d263b",
   "metadata": {},
   "outputs": [
    {
     "name": "stderr",
     "output_type": "stream",
     "text": [
      "Auto-assigning NUTS sampler...\n",
      "Initializing NUTS using jitter+adapt_diag...\n",
      "Multiprocess sampling (4 chains in 4 jobs)\n",
      "NUTS: [intercept, coeffs, sigma]\n"
     ]
    },
    {
     "data": {
      "text/html": [
       "\n",
       "<style>\n",
       "    /* Turns off some styling */\n",
       "    progress {\n",
       "        /* gets rid of default border in Firefox and Opera. */\n",
       "        border: none;\n",
       "        /* Needs to be in here for Safari polyfill so background images work as expected. */\n",
       "        background-size: auto;\n",
       "    }\n",
       "    progress:not([value]), progress:not([value])::-webkit-progress-bar {\n",
       "        background: repeating-linear-gradient(45deg, #7e7e7e, #7e7e7e 10px, #5c5c5c 10px, #5c5c5c 20px);\n",
       "    }\n",
       "    .progress-bar-interrupted, .progress-bar-interrupted::-webkit-progress-bar {\n",
       "        background: #F44336;\n",
       "    }\n",
       "</style>\n"
      ],
      "text/plain": [
       "<IPython.core.display.HTML object>"
      ]
     },
     "metadata": {},
     "output_type": "display_data"
    },
    {
     "data": {
      "text/html": [
       "\n",
       "    <div>\n",
       "      <progress value='24000' class='' max='24000' style='width:300px; height:20px; vertical-align: middle;'></progress>\n",
       "      100.00% [24000/24000 15:12&lt;00:00 Sampling 4 chains, 0 divergences]\n",
       "    </div>\n",
       "    "
      ],
      "text/plain": [
       "<IPython.core.display.HTML object>"
      ]
     },
     "metadata": {},
     "output_type": "display_data"
    },
    {
     "name": "stderr",
     "output_type": "stream",
     "text": [
      "Sampling 4 chains for 1_000 tune and 5_000 draw iterations (4_000 + 20_000 draws total) took 913 seconds.\n",
      "Chain 0 reached the maximum tree depth. Increase `max_treedepth`, increase `target_accept` or reparameterize.\n",
      "Chain 1 reached the maximum tree depth. Increase `max_treedepth`, increase `target_accept` or reparameterize.\n",
      "Chain 2 reached the maximum tree depth. Increase `max_treedepth`, increase `target_accept` or reparameterize.\n",
      "Chain 3 reached the maximum tree depth. Increase `max_treedepth`, increase `target_accept` or reparameterize.\n",
      "Sampling: [age_of_tree]\n"
     ]
    },
    {
     "data": {
      "text/html": [
       "\n",
       "<style>\n",
       "    /* Turns off some styling */\n",
       "    progress {\n",
       "        /* gets rid of default border in Firefox and Opera. */\n",
       "        border: none;\n",
       "        /* Needs to be in here for Safari polyfill so background images work as expected. */\n",
       "        background-size: auto;\n",
       "    }\n",
       "    progress:not([value]), progress:not([value])::-webkit-progress-bar {\n",
       "        background: repeating-linear-gradient(45deg, #7e7e7e, #7e7e7e 10px, #5c5c5c 10px, #5c5c5c 20px);\n",
       "    }\n",
       "    .progress-bar-interrupted, .progress-bar-interrupted::-webkit-progress-bar {\n",
       "        background: #F44336;\n",
       "    }\n",
       "</style>\n"
      ],
      "text/plain": [
       "<IPython.core.display.HTML object>"
      ]
     },
     "metadata": {},
     "output_type": "display_data"
    },
    {
     "data": {
      "text/html": [
       "\n",
       "    <div>\n",
       "      <progress value='20000' class='' max='20000' style='width:300px; height:20px; vertical-align: middle;'></progress>\n",
       "      100.00% [20000/20000 00:03&lt;00:00]\n",
       "    </div>\n",
       "    "
      ],
      "text/plain": [
       "<IPython.core.display.HTML object>"
      ]
     },
     "metadata": {},
     "output_type": "display_data"
    }
   ],
   "source": [
    "with pm.Model() as m_linear:\n",
    "    # associate data with model (this makes prediction easier)\n",
    "    X_data = pm.Data(\"X\", X_train, mutable=True)\n",
    "    y_data = pm.Data(\"y\", y_train, mutable=True)\n",
    "    \n",
    "    intercept = pm.StudentT(\"intercept\", mu=0, sigma=5, nu=3)\n",
    "    coeffs = pm.StudentT(\"coeffs\", mu=0, sigma=5, nu=3, shape=X_data.shape[1])\n",
    "    sigma = pm.HalfCauchy(\"sigma\", beta=10)\n",
    "\n",
    "    mu = intercept + pm.math.dot(X_data, coeffs)\n",
    "\n",
    "    # likelihood\n",
    "    pm.StudentT(\"age_of_tree\", mu=mu, sigma=sigma, nu=3, observed=y_data)\n",
    "\n",
    "    # start sampling\n",
    "    trace_linear = pm.sample(linear_model_n_samples)\n",
    "    ppc = pm.sample_posterior_predictive(trace_linear)\n",
    "    \n",
    "    y_pred = ppc.posterior_predictive.stack(sample=(\"chain\", \"draw\"))[\"age_of_tree\"].values.T.mean(axis=0)"
   ]
  },
  {
   "cell_type": "code",
   "execution_count": 27,
   "id": "2521611d-0dfb-43a5-8c21-9353d52eea8b",
   "metadata": {},
   "outputs": [
    {
     "data": {
      "text/plain": [
       "(1500,)"
      ]
     },
     "execution_count": 27,
     "metadata": {},
     "output_type": "execute_result"
    }
   ],
   "source": [
    "y_pred.shape"
   ]
  },
  {
   "cell_type": "code",
   "execution_count": 28,
   "id": "6ac19b0e-2698-45b1-990a-16fc6bb96cad",
   "metadata": {},
   "outputs": [
    {
     "data": {
      "text/html": [
       "<div>\n",
       "<style scoped>\n",
       "    .dataframe tbody tr th:only-of-type {\n",
       "        vertical-align: middle;\n",
       "    }\n",
       "\n",
       "    .dataframe tbody tr th {\n",
       "        vertical-align: top;\n",
       "    }\n",
       "\n",
       "    .dataframe thead th {\n",
       "        text-align: right;\n",
       "    }\n",
       "</style>\n",
       "<table border=\"1\" class=\"dataframe\">\n",
       "  <thead>\n",
       "    <tr style=\"text-align: right;\">\n",
       "      <th></th>\n",
       "      <th>mean</th>\n",
       "      <th>sd</th>\n",
       "      <th>hdi_2.5%</th>\n",
       "      <th>hdi_97.5%</th>\n",
       "      <th>mcse_mean</th>\n",
       "      <th>mcse_sd</th>\n",
       "      <th>ess_bulk</th>\n",
       "      <th>ess_tail</th>\n",
       "      <th>r_hat</th>\n",
       "    </tr>\n",
       "  </thead>\n",
       "  <tbody>\n",
       "    <tr>\n",
       "      <th>intercept</th>\n",
       "      <td>-0.052</td>\n",
       "      <td>2.430</td>\n",
       "      <td>-4.957</td>\n",
       "      <td>4.660</td>\n",
       "      <td>0.034</td>\n",
       "      <td>0.024</td>\n",
       "      <td>5099.0</td>\n",
       "      <td>6705.0</td>\n",
       "      <td>1.0</td>\n",
       "    </tr>\n",
       "    <tr>\n",
       "      <th>coeffs[0]</th>\n",
       "      <td>0.012</td>\n",
       "      <td>2.430</td>\n",
       "      <td>-4.717</td>\n",
       "      <td>4.906</td>\n",
       "      <td>0.034</td>\n",
       "      <td>0.024</td>\n",
       "      <td>5100.0</td>\n",
       "      <td>6750.0</td>\n",
       "      <td>1.0</td>\n",
       "    </tr>\n",
       "    <tr>\n",
       "      <th>coeffs[1]</th>\n",
       "      <td>-0.060</td>\n",
       "      <td>2.430</td>\n",
       "      <td>-4.754</td>\n",
       "      <td>4.873</td>\n",
       "      <td>0.034</td>\n",
       "      <td>0.024</td>\n",
       "      <td>5100.0</td>\n",
       "      <td>6693.0</td>\n",
       "      <td>1.0</td>\n",
       "    </tr>\n",
       "    <tr>\n",
       "      <th>coeffs[2]</th>\n",
       "      <td>0.047</td>\n",
       "      <td>2.430</td>\n",
       "      <td>-4.663</td>\n",
       "      <td>4.957</td>\n",
       "      <td>0.034</td>\n",
       "      <td>0.024</td>\n",
       "      <td>5096.0</td>\n",
       "      <td>6737.0</td>\n",
       "      <td>1.0</td>\n",
       "    </tr>\n",
       "    <tr>\n",
       "      <th>coeffs[3]</th>\n",
       "      <td>0.013</td>\n",
       "      <td>0.101</td>\n",
       "      <td>-0.185</td>\n",
       "      <td>0.210</td>\n",
       "      <td>0.001</td>\n",
       "      <td>0.001</td>\n",
       "      <td>11359.0</td>\n",
       "      <td>12576.0</td>\n",
       "      <td>1.0</td>\n",
       "    </tr>\n",
       "    <tr>\n",
       "      <th>coeffs[4]</th>\n",
       "      <td>0.290</td>\n",
       "      <td>0.104</td>\n",
       "      <td>0.085</td>\n",
       "      <td>0.491</td>\n",
       "      <td>0.001</td>\n",
       "      <td>0.001</td>\n",
       "      <td>11185.0</td>\n",
       "      <td>13487.0</td>\n",
       "      <td>1.0</td>\n",
       "    </tr>\n",
       "    <tr>\n",
       "      <th>coeffs[5]</th>\n",
       "      <td>0.208</td>\n",
       "      <td>0.042</td>\n",
       "      <td>0.129</td>\n",
       "      <td>0.292</td>\n",
       "      <td>0.000</td>\n",
       "      <td>0.000</td>\n",
       "      <td>20811.0</td>\n",
       "      <td>14079.0</td>\n",
       "      <td>1.0</td>\n",
       "    </tr>\n",
       "    <tr>\n",
       "      <th>coeffs[6]</th>\n",
       "      <td>1.452</td>\n",
       "      <td>0.203</td>\n",
       "      <td>1.064</td>\n",
       "      <td>1.851</td>\n",
       "      <td>0.002</td>\n",
       "      <td>0.002</td>\n",
       "      <td>8100.0</td>\n",
       "      <td>10657.0</td>\n",
       "      <td>1.0</td>\n",
       "    </tr>\n",
       "    <tr>\n",
       "      <th>coeffs[7]</th>\n",
       "      <td>-1.292</td>\n",
       "      <td>0.107</td>\n",
       "      <td>-1.501</td>\n",
       "      <td>-1.085</td>\n",
       "      <td>0.001</td>\n",
       "      <td>0.001</td>\n",
       "      <td>9795.0</td>\n",
       "      <td>11952.0</td>\n",
       "      <td>1.0</td>\n",
       "    </tr>\n",
       "    <tr>\n",
       "      <th>coeffs[8]</th>\n",
       "      <td>-0.372</td>\n",
       "      <td>0.068</td>\n",
       "      <td>-0.508</td>\n",
       "      <td>-0.240</td>\n",
       "      <td>0.001</td>\n",
       "      <td>0.000</td>\n",
       "      <td>12404.0</td>\n",
       "      <td>13252.0</td>\n",
       "      <td>1.0</td>\n",
       "    </tr>\n",
       "    <tr>\n",
       "      <th>coeffs[9]</th>\n",
       "      <td>0.201</td>\n",
       "      <td>0.085</td>\n",
       "      <td>0.035</td>\n",
       "      <td>0.367</td>\n",
       "      <td>0.001</td>\n",
       "      <td>0.001</td>\n",
       "      <td>10430.0</td>\n",
       "      <td>12517.0</td>\n",
       "      <td>1.0</td>\n",
       "    </tr>\n",
       "    <tr>\n",
       "      <th>sigma</th>\n",
       "      <td>0.225</td>\n",
       "      <td>0.006</td>\n",
       "      <td>0.213</td>\n",
       "      <td>0.236</td>\n",
       "      <td>0.000</td>\n",
       "      <td>0.000</td>\n",
       "      <td>22544.0</td>\n",
       "      <td>12969.0</td>\n",
       "      <td>1.0</td>\n",
       "    </tr>\n",
       "  </tbody>\n",
       "</table>\n",
       "</div>"
      ],
      "text/plain": [
       "            mean     sd  hdi_2.5%  hdi_97.5%  mcse_mean  mcse_sd  ess_bulk  \\\n",
       "intercept -0.052  2.430    -4.957      4.660      0.034    0.024    5099.0   \n",
       "coeffs[0]  0.012  2.430    -4.717      4.906      0.034    0.024    5100.0   \n",
       "coeffs[1] -0.060  2.430    -4.754      4.873      0.034    0.024    5100.0   \n",
       "coeffs[2]  0.047  2.430    -4.663      4.957      0.034    0.024    5096.0   \n",
       "coeffs[3]  0.013  0.101    -0.185      0.210      0.001    0.001   11359.0   \n",
       "coeffs[4]  0.290  0.104     0.085      0.491      0.001    0.001   11185.0   \n",
       "coeffs[5]  0.208  0.042     0.129      0.292      0.000    0.000   20811.0   \n",
       "coeffs[6]  1.452  0.203     1.064      1.851      0.002    0.002    8100.0   \n",
       "coeffs[7] -1.292  0.107    -1.501     -1.085      0.001    0.001    9795.0   \n",
       "coeffs[8] -0.372  0.068    -0.508     -0.240      0.001    0.000   12404.0   \n",
       "coeffs[9]  0.201  0.085     0.035      0.367      0.001    0.001   10430.0   \n",
       "sigma      0.225  0.006     0.213      0.236      0.000    0.000   22544.0   \n",
       "\n",
       "           ess_tail  r_hat  \n",
       "intercept    6705.0    1.0  \n",
       "coeffs[0]    6750.0    1.0  \n",
       "coeffs[1]    6693.0    1.0  \n",
       "coeffs[2]    6737.0    1.0  \n",
       "coeffs[3]   12576.0    1.0  \n",
       "coeffs[4]   13487.0    1.0  \n",
       "coeffs[5]   14079.0    1.0  \n",
       "coeffs[6]   10657.0    1.0  \n",
       "coeffs[7]   11952.0    1.0  \n",
       "coeffs[8]   13252.0    1.0  \n",
       "coeffs[9]   12517.0    1.0  \n",
       "sigma       12969.0    1.0  "
      ]
     },
     "execution_count": 28,
     "metadata": {},
     "output_type": "execute_result"
    }
   ],
   "source": [
    "az.summary(trace_linear, hdi_prob=0.95)"
   ]
  },
  {
   "cell_type": "markdown",
   "id": "fc428473-bfed-4297-8e32-28661ab6c747",
   "metadata": {},
   "source": [
    "Above, coefficients 4, 5, 6, 7, 8, and 9 appear statistically significant as their CS doesn't contain zero. One could retry the regression and drop these other variables to see if it improves the linear prediction / fit.."
   ]
  },
  {
   "cell_type": "markdown",
   "id": "7da4d488-f0c0-4dd4-a004-2dcb13a1fe1c",
   "metadata": {},
   "source": [
    "Below, we can visualize the Markov Chain for this mode. Later, we can use this diagram when it gets more complex to try and understand it's flow:"
   ]
  },
  {
   "cell_type": "code",
   "execution_count": 29,
   "id": "2b2a9ebd-986e-4f47-9ca3-ceec3d920c29",
   "metadata": {},
   "outputs": [
    {
     "data": {
      "image/svg+xml": [
       "<?xml version=\"1.0\" encoding=\"UTF-8\" standalone=\"no\"?>\n",
       "<!DOCTYPE svg PUBLIC \"-//W3C//DTD SVG 1.1//EN\"\n",
       " \"http://www.w3.org/Graphics/SVG/1.1/DTD/svg11.dtd\">\n",
       "<!-- Generated by graphviz version 9.0.0 (20231125.0833)\n",
       " -->\n",
       "<!-- Pages: 1 -->\n",
       "<svg width=\"482pt\" height=\"369pt\"\n",
       " viewBox=\"0.00 0.00 482.00 369.13\" xmlns=\"http://www.w3.org/2000/svg\" xmlns:xlink=\"http://www.w3.org/1999/xlink\">\n",
       "<g id=\"graph0\" class=\"graph\" transform=\"scale(1 1) rotate(0) translate(4 365.13)\">\n",
       "<polygon fill=\"white\" stroke=\"none\" points=\"-4,4 -4,-365.13 478,-365.13 478,4 -4,4\"/>\n",
       "<g id=\"clust1\" class=\"cluster\">\n",
       "<title>cluster1500 x 10</title>\n",
       "<path fill=\"none\" stroke=\"black\" d=\"M20,-243.23C20,-243.23 100,-243.23 100,-243.23 106,-243.23 112,-249.23 112,-255.23 112,-255.23 112,-329.23 112,-329.23 112,-335.23 106,-341.23 100,-341.23 100,-341.23 20,-341.23 20,-341.23 14,-341.23 8,-335.23 8,-329.23 8,-329.23 8,-255.23 8,-255.23 8,-249.23 14,-243.23 20,-243.23\"/>\n",
       "<text text-anchor=\"middle\" x=\"76.62\" y=\"-250.43\" font-family=\"Times,serif\" font-size=\"14.00\">1500 x 10</text>\n",
       "</g>\n",
       "<g id=\"clust2\" class=\"cluster\">\n",
       "<title>cluster1500</title>\n",
       "<path fill=\"none\" stroke=\"black\" d=\"M188,-8C188,-8 292,-8 292,-8 298,-8 304,-14 304,-20 304,-20 304,-211.32 304,-211.32 304,-217.32 298,-223.32 292,-223.32 292,-223.32 188,-223.32 188,-223.32 182,-223.32 176,-217.32 176,-211.32 176,-211.32 176,-20 176,-20 176,-14 182,-8 188,-8\"/>\n",
       "<text text-anchor=\"middle\" x=\"282.5\" y=\"-15.2\" font-family=\"Times,serif\" font-size=\"14.00\">1500</text>\n",
       "</g>\n",
       "<g id=\"clust3\" class=\"cluster\">\n",
       "<title>cluster10</title>\n",
       "<path fill=\"none\" stroke=\"black\" d=\"M370,-231.32C370,-231.32 454,-231.32 454,-231.32 460,-231.32 466,-237.32 466,-243.32 466,-243.32 466,-341.13 466,-341.13 466,-347.13 460,-353.13 454,-353.13 454,-353.13 370,-353.13 370,-353.13 364,-353.13 358,-347.13 358,-341.13 358,-341.13 358,-243.32 358,-243.32 358,-237.32 364,-231.32 370,-231.32\"/>\n",
       "<text text-anchor=\"middle\" x=\"451.25\" y=\"-238.52\" font-family=\"Times,serif\" font-size=\"14.00\">10</text>\n",
       "</g>\n",
       "<!-- X -->\n",
       "<g id=\"node1\" class=\"node\">\n",
       "<title>X</title>\n",
       "<path fill=\"lightgrey\" stroke=\"black\" d=\"M91.62,-333.23C91.62,-333.23 28.38,-333.23 28.38,-333.23 22.38,-333.23 16.38,-327.23 16.38,-321.23 16.38,-321.23 16.38,-287.73 16.38,-287.73 16.38,-281.73 22.38,-275.73 28.38,-275.73 28.38,-275.73 91.62,-275.73 91.62,-275.73 97.62,-275.73 103.62,-281.73 103.62,-287.73 103.62,-287.73 103.62,-321.23 103.62,-321.23 103.62,-327.23 97.62,-333.23 91.62,-333.23\"/>\n",
       "<text text-anchor=\"middle\" x=\"60\" y=\"-315.93\" font-family=\"Times,serif\" font-size=\"14.00\">X</text>\n",
       "<text text-anchor=\"middle\" x=\"60\" y=\"-299.43\" font-family=\"Times,serif\" font-size=\"14.00\">~</text>\n",
       "<text text-anchor=\"middle\" x=\"60\" y=\"-282.93\" font-family=\"Times,serif\" font-size=\"14.00\">MutableData</text>\n",
       "</g>\n",
       "<!-- age_of_tree -->\n",
       "<g id=\"node2\" class=\"node\">\n",
       "<title>age_of_tree</title>\n",
       "<ellipse fill=\"lightgrey\" stroke=\"black\" cx=\"240\" cy=\"-174.66\" rx=\"56.39\" ry=\"40.66\"/>\n",
       "<text text-anchor=\"middle\" x=\"240\" y=\"-186.11\" font-family=\"Times,serif\" font-size=\"14.00\">age_of_tree</text>\n",
       "<text text-anchor=\"middle\" x=\"240\" y=\"-169.61\" font-family=\"Times,serif\" font-size=\"14.00\">~</text>\n",
       "<text text-anchor=\"middle\" x=\"240\" y=\"-153.11\" font-family=\"Times,serif\" font-size=\"14.00\">StudentT</text>\n",
       "</g>\n",
       "<!-- X&#45;&gt;age_of_tree -->\n",
       "<g id=\"edge4\" class=\"edge\">\n",
       "<title>X&#45;&gt;age_of_tree</title>\n",
       "<path fill=\"none\" stroke=\"black\" d=\"M75.74,-275.31C85.05,-260.67 97.95,-243.36 113,-231.32 131.97,-216.12 155.74,-204.26 177.56,-195.46\"/>\n",
       "<polygon fill=\"black\" stroke=\"black\" points=\"178.62,-198.8 186.68,-191.93 176.09,-192.27 178.62,-198.8\"/>\n",
       "</g>\n",
       "<!-- y -->\n",
       "<g id=\"node3\" class=\"node\">\n",
       "<title>y</title>\n",
       "<path fill=\"lightgrey\" stroke=\"black\" d=\"M271.62,-98C271.62,-98 208.38,-98 208.38,-98 202.38,-98 196.38,-92 196.38,-86 196.38,-86 196.38,-52.5 196.38,-52.5 196.38,-46.5 202.38,-40.5 208.38,-40.5 208.38,-40.5 271.62,-40.5 271.62,-40.5 277.62,-40.5 283.62,-46.5 283.62,-52.5 283.62,-52.5 283.62,-86 283.62,-86 283.62,-92 277.62,-98 271.62,-98\"/>\n",
       "<text text-anchor=\"middle\" x=\"240\" y=\"-80.7\" font-family=\"Times,serif\" font-size=\"14.00\">y</text>\n",
       "<text text-anchor=\"middle\" x=\"240\" y=\"-64.2\" font-family=\"Times,serif\" font-size=\"14.00\">~</text>\n",
       "<text text-anchor=\"middle\" x=\"240\" y=\"-47.7\" font-family=\"Times,serif\" font-size=\"14.00\">MutableData</text>\n",
       "</g>\n",
       "<!-- age_of_tree&#45;&gt;y -->\n",
       "<g id=\"edge1\" class=\"edge\">\n",
       "<title>age_of_tree&#45;&gt;y</title>\n",
       "<path fill=\"none\" stroke=\"black\" d=\"M240,-133.68C240,-125.83 240,-117.6 240,-109.76\"/>\n",
       "<polygon fill=\"black\" stroke=\"black\" points=\"243.5,-109.79 240,-99.79 236.5,-109.79 243.5,-109.79\"/>\n",
       "</g>\n",
       "<!-- sigma -->\n",
       "<g id=\"node4\" class=\"node\">\n",
       "<title>sigma</title>\n",
       "<ellipse fill=\"none\" stroke=\"black\" cx=\"179\" cy=\"-304.48\" rx=\"57.45\" ry=\"40.66\"/>\n",
       "<text text-anchor=\"middle\" x=\"179\" y=\"-315.93\" font-family=\"Times,serif\" font-size=\"14.00\">sigma</text>\n",
       "<text text-anchor=\"middle\" x=\"179\" y=\"-299.43\" font-family=\"Times,serif\" font-size=\"14.00\">~</text>\n",
       "<text text-anchor=\"middle\" x=\"179\" y=\"-282.93\" font-family=\"Times,serif\" font-size=\"14.00\">HalfCauchy</text>\n",
       "</g>\n",
       "<!-- sigma&#45;&gt;age_of_tree -->\n",
       "<g id=\"edge2\" class=\"edge\">\n",
       "<title>sigma&#45;&gt;age_of_tree</title>\n",
       "<path fill=\"none\" stroke=\"black\" d=\"M197.14,-265.47C203.41,-252.34 210.51,-237.44 217.11,-223.62\"/>\n",
       "<polygon fill=\"black\" stroke=\"black\" points=\"220.24,-225.19 221.39,-214.66 213.92,-222.18 220.24,-225.19\"/>\n",
       "</g>\n",
       "<!-- intercept -->\n",
       "<g id=\"node5\" class=\"node\">\n",
       "<title>intercept</title>\n",
       "<ellipse fill=\"none\" stroke=\"black\" cx=\"301\" cy=\"-304.48\" rx=\"46.32\" ry=\"40.66\"/>\n",
       "<text text-anchor=\"middle\" x=\"301\" y=\"-315.93\" font-family=\"Times,serif\" font-size=\"14.00\">intercept</text>\n",
       "<text text-anchor=\"middle\" x=\"301\" y=\"-299.43\" font-family=\"Times,serif\" font-size=\"14.00\">~</text>\n",
       "<text text-anchor=\"middle\" x=\"301\" y=\"-282.93\" font-family=\"Times,serif\" font-size=\"14.00\">StudentT</text>\n",
       "</g>\n",
       "<!-- intercept&#45;&gt;age_of_tree -->\n",
       "<g id=\"edge3\" class=\"edge\">\n",
       "<title>intercept&#45;&gt;age_of_tree</title>\n",
       "<path fill=\"none\" stroke=\"black\" d=\"M283.36,-266.51C276.96,-253.1 269.63,-237.75 262.85,-223.54\"/>\n",
       "<polygon fill=\"black\" stroke=\"black\" points=\"266.15,-222.32 258.68,-214.8 259.83,-225.33 266.15,-222.32\"/>\n",
       "</g>\n",
       "<!-- coeffs -->\n",
       "<g id=\"node6\" class=\"node\">\n",
       "<title>coeffs</title>\n",
       "<ellipse fill=\"none\" stroke=\"black\" cx=\"412\" cy=\"-304.48\" rx=\"46.32\" ry=\"40.66\"/>\n",
       "<text text-anchor=\"middle\" x=\"412\" y=\"-315.93\" font-family=\"Times,serif\" font-size=\"14.00\">coeffs</text>\n",
       "<text text-anchor=\"middle\" x=\"412\" y=\"-299.43\" font-family=\"Times,serif\" font-size=\"14.00\">~</text>\n",
       "<text text-anchor=\"middle\" x=\"412\" y=\"-282.93\" font-family=\"Times,serif\" font-size=\"14.00\">StudentT</text>\n",
       "</g>\n",
       "<!-- coeffs&#45;&gt;age_of_tree -->\n",
       "<g id=\"edge5\" class=\"edge\">\n",
       "<title>coeffs&#45;&gt;age_of_tree</title>\n",
       "<path fill=\"none\" stroke=\"black\" d=\"M389.79,-268.32C380.48,-255.53 368.83,-241.68 356,-231.32 339.57,-218.06 319.47,-207.01 300.64,-198.33\"/>\n",
       "<polygon fill=\"black\" stroke=\"black\" points=\"302.28,-195.24 291.72,-194.38 299.44,-201.63 302.28,-195.24\"/>\n",
       "</g>\n",
       "</g>\n",
       "</svg>\n"
      ],
      "text/plain": [
       "<graphviz.graphs.Digraph at 0x7f32edf9a510>"
      ]
     },
     "execution_count": 29,
     "metadata": {},
     "output_type": "execute_result"
    }
   ],
   "source": [
    "pm.model_to_graphviz(m_linear)"
   ]
  },
  {
   "cell_type": "markdown",
   "id": "61125ea0-67fa-4cdc-af55-7a00ab166aca",
   "metadata": {},
   "source": [
    "Compute the R2 score of the regression:"
   ]
  },
  {
   "cell_type": "code",
   "execution_count": 30,
   "id": "d7b5b1f1-5a54-4344-ba6b-631f4e8232ee",
   "metadata": {},
   "outputs": [
    {
     "data": {
      "text/plain": [
       "r2        0.51971\n",
       "r2_std    0.00000\n",
       "dtype: float64"
      ]
     },
     "execution_count": 30,
     "metadata": {},
     "output_type": "execute_result"
    }
   ],
   "source": [
    "az.r2_score(y_train, y_pred)"
   ]
  },
  {
   "cell_type": "markdown",
   "id": "485ee551-f3f8-4c1e-8005-944cf7588ae4",
   "metadata": {},
   "source": [
    "Compute the mean squared error of the regression. This is a better metric to compare this to the non-linear models later, as it doesn't have any assumptions of linearity."
   ]
  },
  {
   "cell_type": "code",
   "execution_count": 31,
   "id": "d0199330-3213-47e0-90ab-754ee7bcd807",
   "metadata": {},
   "outputs": [
    {
     "data": {
      "text/plain": [
       "0.1146"
      ]
     },
     "execution_count": 31,
     "metadata": {},
     "output_type": "execute_result"
    }
   ],
   "source": [
    "round(mean_squared_error(y_train, y_pred), 4)"
   ]
  },
  {
   "cell_type": "markdown",
   "id": "88a091a9-31d6-454d-b034-88961bfa1605",
   "metadata": {},
   "source": [
    "The plot below is a way to evaluate how well predicted values correlate to actual response values. The below graph should ideally have a slope of 1 and pass through 0."
   ]
  },
  {
   "cell_type": "code",
   "execution_count": 32,
   "id": "023a2444-4933-4ee1-907c-39da18a64892",
   "metadata": {},
   "outputs": [
    {
     "data": {
      "text/plain": [
       "[Text(0.5, 0, 'predicted'), Text(0, 0.5, 'actual')]"
      ]
     },
     "execution_count": 32,
     "metadata": {},
     "output_type": "execute_result"
    },
    {
     "data": {
      "image/png": "[encoded data removed]",
      "text/plain": [
       "<Figure size 640x480 with 1 Axes>"
      ]
     },
     "metadata": {},
     "output_type": "display_data"
    }
   ],
   "source": [
    "plot = sns.regplot(x=y_pred, y=y_train)\n",
    "plot.set(xlabel=\"predicted\", ylabel=\"actual\")"
   ]
  },
  {
   "cell_type": "markdown",
   "id": "416d8299-6aae-450f-9d41-d99169e2785f",
   "metadata": {},
   "source": [
    "**Now lets predict the test set**"
   ]
  },
  {
   "cell_type": "markdown",
   "id": "e8379d12-6808-4e82-991e-64ca8557f188",
   "metadata": {},
   "source": [
    "First prediction without sampling... just extract the coefficients, and multiply the test datapoints through them to get a predicted y value. Then, we will compare the predicted y to the known, actual y value."
   ]
  },
  {
   "cell_type": "code",
   "execution_count": 33,
   "id": "9d9739b4-4e51-400c-a3e2-b4c1c669b647",
   "metadata": {},
   "outputs": [],
   "source": [
    "pred_intercept = trace_linear.posterior.intercept.mean().values.item()\n",
    "pred_coeffs = trace_linear.posterior.coeffs.mean([\"chain\", \"draw\"]).values\n",
    "y_pred_test_nosample = X_test @  pred_coeffs + pred_intercept"
   ]
  },
  {
   "cell_type": "markdown",
   "id": "23ddc35c-363d-4bbc-9776-3a1850be2168",
   "metadata": {},
   "source": [
    "Take Mean Squared error on test set. We get a fairly low number, but slightly larger than training. This prediction method seems to be working well."
   ]
  },
  {
   "cell_type": "code",
   "execution_count": 34,
   "id": "fb2f194a-d815-457e-aa41-95eaf69b603c",
   "metadata": {},
   "outputs": [
    {
     "data": {
      "text/plain": [
       "0.1244"
      ]
     },
     "execution_count": 34,
     "metadata": {},
     "output_type": "execute_result"
    }
   ],
   "source": [
    "round(mean_squared_error(y_test, y_pred_test_nosample), 4)"
   ]
  },
  {
   "cell_type": "markdown",
   "id": "ba21b8e8-de10-45e7-899e-f09b37a4e008",
   "metadata": {},
   "source": [
    "Same plot. We can see the regression line between prediction and actual response values is at a positive 45 degree angle, which means predictions are on average similar to actual response values."
   ]
  },
  {
   "cell_type": "code",
   "execution_count": 35,
   "id": "5400b1cc-420d-4d07-97f7-d5187f26f2aa",
   "metadata": {},
   "outputs": [
    {
     "data": {
      "text/plain": [
       "[Text(0.5, 0, 'predicted'), Text(0, 0.5, 'actual')]"
      ]
     },
     "execution_count": 35,
     "metadata": {},
     "output_type": "execute_result"
    },
    {
     "data": {
      "image/png": "[encoded data removed]",
      "text/plain": [
       "<Figure size 640x480 with 1 Axes>"
      ]
     },
     "metadata": {},
     "output_type": "display_data"
    }
   ],
   "source": [
    "plot = sns.regplot(x=y_pred_test_nosample, y=y_test)\n",
    "plot.set(xlabel=\"predicted\", ylabel=\"actual\")"
   ]
  },
  {
   "cell_type": "markdown",
   "id": "d5099b57-6dd8-45c8-9a44-7ac4c25a1a66",
   "metadata": {},
   "source": [
    "Now predict using sampling"
   ]
  },
  {
   "cell_type": "code",
   "execution_count": 36,
   "id": "18104f41-47cb-43b6-bef5-2789cfe669d8",
   "metadata": {},
   "outputs": [
    {
     "name": "stderr",
     "output_type": "stream",
     "text": [
      "Sampling: [age_of_tree, coeffs]\n"
     ]
    },
    {
     "data": {
      "text/html": [
       "\n",
       "<style>\n",
       "    /* Turns off some styling */\n",
       "    progress {\n",
       "        /* gets rid of default border in Firefox and Opera. */\n",
       "        border: none;\n",
       "        /* Needs to be in here for Safari polyfill so background images work as expected. */\n",
       "        background-size: auto;\n",
       "    }\n",
       "    progress:not([value]), progress:not([value])::-webkit-progress-bar {\n",
       "        background: repeating-linear-gradient(45deg, #7e7e7e, #7e7e7e 10px, #5c5c5c 10px, #5c5c5c 20px);\n",
       "    }\n",
       "    .progress-bar-interrupted, .progress-bar-interrupted::-webkit-progress-bar {\n",
       "        background: #F44336;\n",
       "    }\n",
       "</style>\n"
      ],
      "text/plain": [
       "<IPython.core.display.HTML object>"
      ]
     },
     "metadata": {},
     "output_type": "display_data"
    },
    {
     "data": {
      "text/html": [
       "\n",
       "    <div>\n",
       "      <progress value='20000' class='' max='20000' style='width:300px; height:20px; vertical-align: middle;'></progress>\n",
       "      100.00% [20000/20000 00:06&lt;00:00]\n",
       "    </div>\n",
       "    "
      ],
      "text/plain": [
       "<IPython.core.display.HTML object>"
      ]
     },
     "metadata": {},
     "output_type": "display_data"
    }
   ],
   "source": [
    "with m_linear:\n",
    "    pm.set_data({\"X\": X_test, \"y\": y_test})\n",
    "    ppc_test = pm.sample_posterior_predictive(trace_linear) #, predictions=True)\n",
    "    y_pred_test = ppc_test.posterior_predictive.stack(sample=(\"chain\", \"draw\"))[\"age_of_tree\"].values.T.mean(axis=0)"
   ]
  },
  {
   "cell_type": "markdown",
   "id": "a3231f9c-1bc0-44a1-879e-4bd6086a54e1",
   "metadata": {},
   "source": [
    "Again, get the MSE. We get a much larger value... so sampling appears to be a much less reliable method. Considerable time was spent trying to improve sampling prediction, to no avail.  "
   ]
  },
  {
   "cell_type": "code",
   "execution_count": 37,
   "id": "27a9e122-6df0-47f5-8f46-4ad8c5282eb9",
   "metadata": {
    "tags": []
   },
   "outputs": [
    {
     "data": {
      "text/plain": [
       "0.2538"
      ]
     },
     "execution_count": 37,
     "metadata": {},
     "output_type": "execute_result"
    }
   ],
   "source": [
    "round(mean_squared_error(y_test, y_pred_test), 4)"
   ]
  },
  {
   "cell_type": "markdown",
   "id": "ca56da79-1ca1-40b7-97ba-4476606fac25",
   "metadata": {},
   "source": [
    "This plot does seem very sensitive to the priors in the model. The priors being used here produced the least bad plot below."
   ]
  },
  {
   "cell_type": "code",
   "execution_count": 38,
   "id": "c24e28d3-0ef6-4c00-aa8f-d4532d9e8aa3",
   "metadata": {
    "tags": []
   },
   "outputs": [
    {
     "data": {
      "text/plain": [
       "[Text(0.5, 0, 'predicted'), Text(0, 0.5, 'actual')]"
      ]
     },
     "execution_count": 38,
     "metadata": {},
     "output_type": "execute_result"
    },
    {
     "data": {
      "image/png": "[encoded data removed]",
      "text/plain": [
       "<Figure size 640x480 with 1 Axes>"
      ]
     },
     "metadata": {},
     "output_type": "display_data"
    }
   ],
   "source": [
    "plot = sns.regplot(x=y_pred_test, y=y_test)\n",
    "plot.set(xlabel=\"predicted\", ylabel=\"actual\")"
   ]
  },
  {
   "cell_type": "markdown",
   "id": "da358330-0fd9-4485-9788-01825e3ccc2e",
   "metadata": {},
   "source": [
    "The sampling on the test set seems very unstable. Note how we can get two very different results when we redraw the samples using the same method."
   ]
  },
  {
   "cell_type": "code",
   "execution_count": 39,
   "id": "d3bc5921-3510-4a7a-8b2a-421c89b33ee8",
   "metadata": {},
   "outputs": [
    {
     "name": "stderr",
     "output_type": "stream",
     "text": [
      "Sampling: [age_of_tree, coeffs]\n"
     ]
    },
    {
     "data": {
      "text/html": [
       "\n",
       "<style>\n",
       "    /* Turns off some styling */\n",
       "    progress {\n",
       "        /* gets rid of default border in Firefox and Opera. */\n",
       "        border: none;\n",
       "        /* Needs to be in here for Safari polyfill so background images work as expected. */\n",
       "        background-size: auto;\n",
       "    }\n",
       "    progress:not([value]), progress:not([value])::-webkit-progress-bar {\n",
       "        background: repeating-linear-gradient(45deg, #7e7e7e, #7e7e7e 10px, #5c5c5c 10px, #5c5c5c 20px);\n",
       "    }\n",
       "    .progress-bar-interrupted, .progress-bar-interrupted::-webkit-progress-bar {\n",
       "        background: #F44336;\n",
       "    }\n",
       "</style>\n"
      ],
      "text/plain": [
       "<IPython.core.display.HTML object>"
      ]
     },
     "metadata": {},
     "output_type": "display_data"
    },
    {
     "data": {
      "text/html": [
       "\n",
       "    <div>\n",
       "      <progress value='20000' class='' max='20000' style='width:300px; height:20px; vertical-align: middle;'></progress>\n",
       "      100.00% [20000/20000 00:05&lt;00:00]\n",
       "    </div>\n",
       "    "
      ],
      "text/plain": [
       "<IPython.core.display.HTML object>"
      ]
     },
     "metadata": {},
     "output_type": "display_data"
    }
   ],
   "source": [
    "with m_linear:\n",
    "    pm.set_data({\"X\": X_test, \"y\": y_test})\n",
    "    ppc_test = pm.sample_posterior_predictive(trace_linear) #, predictions=True)\n",
    "    y_pred_test = ppc_test.posterior_predictive.stack(sample=(\"chain\", \"draw\"))[\"age_of_tree\"].values.T.mean(axis=0)"
   ]
  },
  {
   "cell_type": "markdown",
   "id": "a0b41204-ff59-48e1-b82e-a4b1145a5aea",
   "metadata": {},
   "source": [
    "Second prediction for MSE after sampling again."
   ]
  },
  {
   "cell_type": "code",
   "execution_count": 40,
   "id": "1c787d22-ea1a-48fc-87d8-97474ba44fca",
   "metadata": {
    "tags": []
   },
   "outputs": [
    {
     "data": {
      "text/plain": [
       "0.2045"
      ]
     },
     "execution_count": 40,
     "metadata": {},
     "output_type": "execute_result"
    }
   ],
   "source": [
    "round(mean_squared_error(y_test, y_pred_test), 4)"
   ]
  },
  {
   "cell_type": "code",
   "execution_count": 41,
   "id": "eddba16d-d3e2-4eb8-9879-f54782b122e8",
   "metadata": {
    "tags": []
   },
   "outputs": [
    {
     "data": {
      "text/plain": [
       "[Text(0.5, 0, 'predicted'), Text(0, 0.5, 'actual')]"
      ]
     },
     "execution_count": 41,
     "metadata": {},
     "output_type": "execute_result"
    },
    {
     "data": {
      "image/png": "[encoded data removed]",
      "text/plain": [
       "<Figure size 640x480 with 1 Axes>"
      ]
     },
     "metadata": {},
     "output_type": "display_data"
    }
   ],
   "source": [
    "plot = sns.regplot(x=y_pred_test, y=y_test)\n",
    "plot.set(xlabel=\"predicted\", ylabel=\"actual\")"
   ]
  },
  {
   "cell_type": "code",
   "execution_count": 42,
   "id": "3733e17b-ed80-4b5b-9332-ab106a89422a",
   "metadata": {},
   "outputs": [
    {
     "name": "stdout",
     "output_type": "stream",
     "text": [
      "Linear model runtime: 938.54 seconds\n"
     ]
    }
   ],
   "source": [
    "print(f\"Linear model runtime: {round(time.time() - linear_start, 2)} seconds\")"
   ]
  },
  {
   "cell_type": "markdown",
   "id": "57327c7a-50e8-4d07-9717-f74e7d66bf0d",
   "metadata": {},
   "source": [
    "## Fit Neural Network Model"
   ]
  },
  {
   "cell_type": "markdown",
   "id": "0fb7a8eb-9b4f-4165-ae0f-8fcd023e5fc3",
   "metadata": {},
   "source": [
    "**Now let's try and build a simple neural network, with 3 neurons. We will keep it small to limit computational complexity.**"
   ]
  },
  {
   "cell_type": "code",
   "execution_count": 43,
   "id": "00f44a7e-b99e-4cf5-a4d0-3a01860f4aaa",
   "metadata": {},
   "outputs": [],
   "source": [
    "neural_start = time.time()"
   ]
  },
  {
   "cell_type": "code",
   "execution_count": 44,
   "id": "359152c7-f331-4810-96f5-cbafb133b6cf",
   "metadata": {},
   "outputs": [
    {
     "name": "stderr",
     "output_type": "stream",
     "text": [
      "Auto-assigning NUTS sampler...\n",
      "Initializing NUTS using jitter+adapt_diag...\n",
      "Multiprocess sampling (4 chains in 4 jobs)\n",
      "NUTS: [intercept_n10, coeffs_n10, sigma_n10, intercept_n11, coeffs_n11, sigma_n11, intercept_n12, coeffs_n12, sigma_n12, intercept_n20, coeff_n20_0, coeff_n20_1, coeff_n20_2, sigma_n20]\n"
     ]
    },
    {
     "data": {
      "text/html": [
       "\n",
       "<style>\n",
       "    /* Turns off some styling */\n",
       "    progress {\n",
       "        /* gets rid of default border in Firefox and Opera. */\n",
       "        border: none;\n",
       "        /* Needs to be in here for Safari polyfill so background images work as expected. */\n",
       "        background-size: auto;\n",
       "    }\n",
       "    progress:not([value]), progress:not([value])::-webkit-progress-bar {\n",
       "        background: repeating-linear-gradient(45deg, #7e7e7e, #7e7e7e 10px, #5c5c5c 10px, #5c5c5c 20px);\n",
       "    }\n",
       "    .progress-bar-interrupted, .progress-bar-interrupted::-webkit-progress-bar {\n",
       "        background: #F44336;\n",
       "    }\n",
       "</style>\n"
      ],
      "text/plain": [
       "<IPython.core.display.HTML object>"
      ]
     },
     "metadata": {},
     "output_type": "display_data"
    },
    {
     "data": {
      "text/html": [
       "\n",
       "    <div>\n",
       "      <progress value='24000' class='' max='24000' style='width:300px; height:20px; vertical-align: middle;'></progress>\n",
       "      100.00% [24000/24000 36:31&lt;00:00 Sampling 4 chains, 0 divergences]\n",
       "    </div>\n",
       "    "
      ],
      "text/plain": [
       "<IPython.core.display.HTML object>"
      ]
     },
     "metadata": {},
     "output_type": "display_data"
    },
    {
     "name": "stderr",
     "output_type": "stream",
     "text": [
      "Sampling 4 chains for 1_000 tune and 5_000 draw iterations (4_000 + 20_000 draws total) took 2191 seconds.\n",
      "The rhat statistic is larger than 1.01 for some parameters. This indicates problems during sampling. See https://arxiv.org/abs/1903.08008 for details\n",
      "The effective sample size per chain is smaller than 100 for some parameters.  A higher number is needed for reliable rhat and ess computation. See https://arxiv.org/abs/1903.08008 for details\n",
      "Chain 0 reached the maximum tree depth. Increase `max_treedepth`, increase `target_accept` or reparameterize.\n",
      "Chain 1 reached the maximum tree depth. Increase `max_treedepth`, increase `target_accept` or reparameterize.\n",
      "Chain 2 reached the maximum tree depth. Increase `max_treedepth`, increase `target_accept` or reparameterize.\n",
      "Sampling: [age_of_tree]\n"
     ]
    },
    {
     "data": {
      "text/html": [
       "\n",
       "<style>\n",
       "    /* Turns off some styling */\n",
       "    progress {\n",
       "        /* gets rid of default border in Firefox and Opera. */\n",
       "        border: none;\n",
       "        /* Needs to be in here for Safari polyfill so background images work as expected. */\n",
       "        background-size: auto;\n",
       "    }\n",
       "    progress:not([value]), progress:not([value])::-webkit-progress-bar {\n",
       "        background: repeating-linear-gradient(45deg, #7e7e7e, #7e7e7e 10px, #5c5c5c 10px, #5c5c5c 20px);\n",
       "    }\n",
       "    .progress-bar-interrupted, .progress-bar-interrupted::-webkit-progress-bar {\n",
       "        background: #F44336;\n",
       "    }\n",
       "</style>\n"
      ],
      "text/plain": [
       "<IPython.core.display.HTML object>"
      ]
     },
     "metadata": {},
     "output_type": "display_data"
    },
    {
     "data": {
      "text/html": [
       "\n",
       "    <div>\n",
       "      <progress value='20000' class='' max='20000' style='width:300px; height:20px; vertical-align: middle;'></progress>\n",
       "      100.00% [20000/20000 00:03&lt;00:00]\n",
       "    </div>\n",
       "    "
      ],
      "text/plain": [
       "<IPython.core.display.HTML object>"
      ]
     },
     "metadata": {},
     "output_type": "display_data"
    }
   ],
   "source": [
    "# naming convention. N for neuron. First number is layer. Second is neuron number in that layer. \n",
    "# So n21 is the first neuron in layer 2.\n",
    "\n",
    "with pm.Model() as m_neural:\n",
    "    # associate data with model (this makes prediction easier)\n",
    "    X_data_n = pm.Data(\"X\", X_train, mutable=True)\n",
    "    y_data_n = pm.Data(\"y\", y_train, mutable=True)\n",
    "    \n",
    "    # LAYER 1 - Input\n",
    "    \n",
    "    # NEURON 1-0\n",
    "    intercept_n10 = pm.StudentT(\"intercept_n10\", mu=0, sigma=5, nu=3)\n",
    "    coeffs_n10 = pm.StudentT(\"coeffs_n10\", mu=0, sigma=5, nu=3, shape=X_data_n.shape[1])\n",
    "    \n",
    "    mu_n10 = intercept_n10 + pm.math.dot(X_data_n, coeffs_n10)\n",
    "    \n",
    "    # ReLU function\n",
    "    out_n10 = pm.Deterministic(\"out_n10\", pm.math.maximum(0, mu_n10))\n",
    "        \n",
    "    sigma_n10 = pm.HalfCauchy(\"sigma_n10\", beta=10)\n",
    "    \n",
    "\n",
    "    # NEURON 1-1\n",
    "    intercept_n11 = pm.StudentT(\"intercept_n11\", mu=0, sigma=5, nu=3)\n",
    "    coeffs_n11 = pm.StudentT(\"coeffs_n11\", mu=0, sigma=5, nu=3, shape=X_data_n.shape[1])\n",
    "    \n",
    "    mu_n11 = intercept_n11 + pm.math.dot(X_data_n, coeffs_n11)\n",
    "    \n",
    "    # ReLU function\n",
    "    out_n11 = pm.Deterministic(\"out_n11\", pm.math.maximum(0, mu_n11))\n",
    "    sigma_n11 = pm.HalfCauchy(\"sigma_n11\", beta=10)\n",
    "\n",
    "    \n",
    "    # NEURON 1-2\n",
    "    intercept_n12 = pm.StudentT(\"intercept_n12\", mu=0, sigma=5, nu=3)\n",
    "    coeffs_n12 = pm.StudentT(\"coeffs_n12\", mu=0, sigma=5, nu=3, shape=X_data_n.shape[1])\n",
    "    \n",
    "    mu_n12 = intercept_n12 + pm.math.dot(X_data_n, coeffs_n12)\n",
    "    \n",
    "    # ReLU function\n",
    "    out_n12 = pm.Deterministic(\"out_n12\", pm.math.maximum(0, mu_n12))\n",
    "    \n",
    "    sigma_n12 = pm.HalfCauchy(\"sigma_n12\", beta=10)\n",
    "\n",
    "\n",
    "    # LAYER 2 - OUTPUT (no ReLU, just straight linear regression)\n",
    "    # NEURON 2-0\n",
    "    intercept_n20 = pm.StudentT(\"intercept_n20\", mu=0, sigma=5, nu=3)\n",
    "    coeff_n20_0 = pm.StudentT(\"coeff_n20_0\", mu=0, sigma=sigma_n10, nu=3) # input coeff for neron 10 output\n",
    "    coeff_n20_1 = pm.StudentT(\"coeff_n20_1\", mu=0, sigma=sigma_n11, nu=3) # input coeff for neron 11 output\n",
    "    coeff_n20_2 = pm.StudentT(\"coeff_n20_2\", mu=0, sigma=sigma_n12, nu=3) # input coeff for neron 12 output\n",
    "\n",
    "    # Had a hard time getting this to work as an array / dot product, so just do it manually\n",
    "    mu_n20 = (intercept_n20 \n",
    "              + out_n10 * coeff_n20_0 \n",
    "              + out_n11 * coeff_n20_1\n",
    "              + out_n12 * coeff_n20_2)\n",
    "\n",
    "    sigma_n20 = pm.HalfCauchy(\"sigma_n20\", beta=10)\n",
    "\n",
    "    # likelihood - just take linear combination as regression\n",
    "    pm.StudentT(\"age_of_tree\", mu=mu_n20, sigma=sigma_n20, nu=3, observed=y_data_n)\n",
    "\n",
    "    # start sampling\n",
    "    trace_neural = pm.sample(neural_model_n_samples)\n",
    "    ppc_neural = pm.sample_posterior_predictive(trace_neural)\n",
    "    \n",
    "    y_pred_neural = ppc_neural.posterior_predictive.stack(sample=(\"chain\", \"draw\"))[\"age_of_tree\"].values.T.mean(axis=0)"
   ]
  },
  {
   "cell_type": "code",
   "execution_count": 45,
   "id": "ca0ac1a2-e34c-4abf-89b5-4dbc5b8b5c21",
   "metadata": {},
   "outputs": [
    {
     "data": {
      "text/plain": [
       "(1500,)"
      ]
     },
     "execution_count": 45,
     "metadata": {},
     "output_type": "execute_result"
    }
   ],
   "source": [
    "y_pred_neural.shape"
   ]
  },
  {
   "cell_type": "code",
   "execution_count": 46,
   "id": "34300065-0bd0-4374-9629-d8432b599f0d",
   "metadata": {},
   "outputs": [],
   "source": [
    "# az.summary(trace_neural, hdi_prob=0.95) # prints a LOT of warnings, and hard to see full output due to so many coefficients"
   ]
  },
  {
   "cell_type": "markdown",
   "id": "bcdde164-f7a6-4175-bf5b-1993a10dd4a5",
   "metadata": {},
   "source": [
    "This below chart will sort of visualize our neural network structure (as a Markov Chain)\n"
   ]
  },
  {
   "cell_type": "code",
   "execution_count": 47,
   "id": "1de78004-d20c-4330-ab76-c3c728029458",
   "metadata": {},
   "outputs": [
    {
     "data": {
      "image/svg+xml": [
       "<?xml version=\"1.0\" encoding=\"UTF-8\" standalone=\"no\"?>\n",
       "<!DOCTYPE svg PUBLIC \"-//W3C//DTD SVG 1.1//EN\"\n",
       " \"http://www.w3.org/Graphics/SVG/1.1/DTD/svg11.dtd\">\n",
       "<!-- Generated by graphviz version 9.0.0 (20231125.0833)\n",
       " -->\n",
       "<!-- Pages: 1 -->\n",
       "<svg width=\"1307pt\" height=\"478pt\"\n",
       " viewBox=\"0.00 0.00 1306.90 478.45\" xmlns=\"http://www.w3.org/2000/svg\" xmlns:xlink=\"http://www.w3.org/1999/xlink\">\n",
       "<g id=\"graph0\" class=\"graph\" transform=\"scale(1 1) rotate(0) translate(4 474.45)\">\n",
       "<polygon fill=\"white\" stroke=\"none\" points=\"-4,4 -4,-474.45 1302.9,-474.45 1302.9,4 -4,4\"/>\n",
       "<g id=\"clust1\" class=\"cluster\">\n",
       "<title>cluster1500 x 10</title>\n",
       "<path fill=\"none\" stroke=\"black\" d=\"M136.45,-352.54C136.45,-352.54 216.45,-352.54 216.45,-352.54 222.45,-352.54 228.45,-358.54 228.45,-364.54 228.45,-364.54 228.45,-438.54 228.45,-438.54 228.45,-444.54 222.45,-450.54 216.45,-450.54 216.45,-450.54 136.45,-450.54 136.45,-450.54 130.45,-450.54 124.45,-444.54 124.45,-438.54 124.45,-438.54 124.45,-364.54 124.45,-364.54 124.45,-358.54 130.45,-352.54 136.45,-352.54\"/>\n",
       "<text text-anchor=\"middle\" x=\"193.08\" y=\"-359.74\" font-family=\"Times,serif\" font-size=\"14.00\">1500 x 10</text>\n",
       "</g>\n",
       "<g id=\"clust2\" class=\"cluster\">\n",
       "<title>cluster1500</title>\n",
       "<path fill=\"none\" stroke=\"black\" d=\"M317.45,-8C317.45,-8 615.45,-8 615.45,-8 621.45,-8 627.45,-14 627.45,-20 627.45,-20 627.45,-316.73 627.45,-316.73 627.45,-322.73 621.45,-328.73 615.45,-328.73 615.45,-328.73 317.45,-328.73 317.45,-328.73 311.45,-328.73 305.45,-322.73 305.45,-316.73 305.45,-316.73 305.45,-20 305.45,-20 305.45,-14 311.45,-8 317.45,-8\"/>\n",
       "<text text-anchor=\"middle\" x=\"605.95\" y=\"-15.2\" font-family=\"Times,serif\" font-size=\"14.00\">1500</text>\n",
       "</g>\n",
       "<g id=\"clust3\" class=\"cluster\">\n",
       "<title>cluster10</title>\n",
       "<path fill=\"none\" stroke=\"black\" d=\"M679.45,-340.63C679.45,-340.63 1029.45,-340.63 1029.45,-340.63 1035.45,-340.63 1041.45,-346.63 1041.45,-352.63 1041.45,-352.63 1041.45,-450.45 1041.45,-450.45 1041.45,-456.45 1035.45,-462.45 1029.45,-462.45 1029.45,-462.45 679.45,-462.45 679.45,-462.45 673.45,-462.45 667.45,-456.45 667.45,-450.45 667.45,-450.45 667.45,-352.63 667.45,-352.63 667.45,-346.63 673.45,-340.63 679.45,-340.63\"/>\n",
       "<text text-anchor=\"middle\" x=\"1026.7\" y=\"-347.83\" font-family=\"Times,serif\" font-size=\"14.00\">10</text>\n",
       "</g>\n",
       "<!-- X -->\n",
       "<g id=\"node1\" class=\"node\">\n",
       "<title>X</title>\n",
       "<path fill=\"lightgrey\" stroke=\"black\" d=\"M208.08,-442.54C208.08,-442.54 144.83,-442.54 144.83,-442.54 138.83,-442.54 132.83,-436.54 132.83,-430.54 132.83,-430.54 132.83,-397.04 132.83,-397.04 132.83,-391.04 138.83,-385.04 144.83,-385.04 144.83,-385.04 208.08,-385.04 208.08,-385.04 214.08,-385.04 220.08,-391.04 220.08,-397.04 220.08,-397.04 220.08,-430.54 220.08,-430.54 220.08,-436.54 214.08,-442.54 208.08,-442.54\"/>\n",
       "<text text-anchor=\"middle\" x=\"176.45\" y=\"-425.24\" font-family=\"Times,serif\" font-size=\"14.00\">X</text>\n",
       "<text text-anchor=\"middle\" x=\"176.45\" y=\"-408.74\" font-family=\"Times,serif\" font-size=\"14.00\">~</text>\n",
       "<text text-anchor=\"middle\" x=\"176.45\" y=\"-392.24\" font-family=\"Times,serif\" font-size=\"14.00\">MutableData</text>\n",
       "</g>\n",
       "<!-- out_n10 -->\n",
       "<g id=\"node2\" class=\"node\">\n",
       "<title>out_n10</title>\n",
       "<polygon fill=\"none\" stroke=\"black\" points=\"403.58,-320.73 313.33,-320.73 313.33,-263.23 403.58,-263.23 403.58,-320.73\"/>\n",
       "<text text-anchor=\"middle\" x=\"358.45\" y=\"-303.43\" font-family=\"Times,serif\" font-size=\"14.00\">out_n10</text>\n",
       "<text text-anchor=\"middle\" x=\"358.45\" y=\"-286.93\" font-family=\"Times,serif\" font-size=\"14.00\">~</text>\n",
       "<text text-anchor=\"middle\" x=\"358.45\" y=\"-270.43\" font-family=\"Times,serif\" font-size=\"14.00\">Deterministic</text>\n",
       "</g>\n",
       "<!-- X&#45;&gt;out_n10 -->\n",
       "<g id=\"edge4\" class=\"edge\">\n",
       "<title>X&#45;&gt;out_n10</title>\n",
       "<path fill=\"none\" stroke=\"black\" d=\"M191.29,-384.61C200.32,-369.78 213.07,-352.3 228.45,-340.63 250.04,-324.26 277.83,-313.06 302.17,-305.66\"/>\n",
       "<polygon fill=\"black\" stroke=\"black\" points=\"302.97,-309.07 311.62,-302.94 301.04,-302.34 302.97,-309.07\"/>\n",
       "</g>\n",
       "<!-- out_n11 -->\n",
       "<g id=\"node3\" class=\"node\">\n",
       "<title>out_n11</title>\n",
       "<polygon fill=\"none\" stroke=\"black\" points=\"511.58,-320.73 421.33,-320.73 421.33,-263.23 511.58,-263.23 511.58,-320.73\"/>\n",
       "<text text-anchor=\"middle\" x=\"466.45\" y=\"-303.43\" font-family=\"Times,serif\" font-size=\"14.00\">out_n11</text>\n",
       "<text text-anchor=\"middle\" x=\"466.45\" y=\"-286.93\" font-family=\"Times,serif\" font-size=\"14.00\">~</text>\n",
       "<text text-anchor=\"middle\" x=\"466.45\" y=\"-270.43\" font-family=\"Times,serif\" font-size=\"14.00\">Deterministic</text>\n",
       "</g>\n",
       "<!-- X&#45;&gt;out_n11 -->\n",
       "<g id=\"edge6\" class=\"edge\">\n",
       "<title>X&#45;&gt;out_n11</title>\n",
       "<path fill=\"none\" stroke=\"black\" d=\"M188.81,-384.85C197.45,-368.91 210.65,-350.24 228.45,-340.63 264.47,-321.2 373.85,-346.22 412.45,-332.63 416.65,-331.16 420.8,-329.23 424.83,-327.03\"/>\n",
       "<polygon fill=\"black\" stroke=\"black\" points=\"426.54,-330.09 433.23,-321.87 422.88,-324.12 426.54,-330.09\"/>\n",
       "</g>\n",
       "<!-- out_n12 -->\n",
       "<g id=\"node5\" class=\"node\">\n",
       "<title>out_n12</title>\n",
       "<polygon fill=\"none\" stroke=\"black\" points=\"619.58,-320.73 529.33,-320.73 529.33,-263.23 619.58,-263.23 619.58,-320.73\"/>\n",
       "<text text-anchor=\"middle\" x=\"574.45\" y=\"-303.43\" font-family=\"Times,serif\" font-size=\"14.00\">out_n12</text>\n",
       "<text text-anchor=\"middle\" x=\"574.45\" y=\"-286.93\" font-family=\"Times,serif\" font-size=\"14.00\">~</text>\n",
       "<text text-anchor=\"middle\" x=\"574.45\" y=\"-270.43\" font-family=\"Times,serif\" font-size=\"14.00\">Deterministic</text>\n",
       "</g>\n",
       "<!-- X&#45;&gt;out_n12 -->\n",
       "<g id=\"edge9\" class=\"edge\">\n",
       "<title>X&#45;&gt;out_n12</title>\n",
       "<path fill=\"none\" stroke=\"black\" d=\"M188.75,-384.75C197.38,-368.77 210.57,-350.1 228.45,-340.63 257.14,-325.45 489.75,-343.16 520.45,-332.63 524.66,-331.19 528.82,-329.29 532.85,-327.1\"/>\n",
       "<polygon fill=\"black\" stroke=\"black\" points=\"534.55,-330.17 541.26,-321.97 530.9,-324.19 534.55,-330.17\"/>\n",
       "</g>\n",
       "<!-- age_of_tree -->\n",
       "<g id=\"node4\" class=\"node\">\n",
       "<title>age_of_tree</title>\n",
       "<ellipse fill=\"lightgrey\" stroke=\"black\" cx=\"563.45\" cy=\"-174.66\" rx=\"56.39\" ry=\"40.66\"/>\n",
       "<text text-anchor=\"middle\" x=\"563.45\" y=\"-186.11\" font-family=\"Times,serif\" font-size=\"14.00\">age_of_tree</text>\n",
       "<text text-anchor=\"middle\" x=\"563.45\" y=\"-169.61\" font-family=\"Times,serif\" font-size=\"14.00\">~</text>\n",
       "<text text-anchor=\"middle\" x=\"563.45\" y=\"-153.11\" font-family=\"Times,serif\" font-size=\"14.00\">StudentT</text>\n",
       "</g>\n",
       "<!-- out_n10&#45;&gt;age_of_tree -->\n",
       "<g id=\"edge14\" class=\"edge\">\n",
       "<title>out_n10&#45;&gt;age_of_tree</title>\n",
       "<path fill=\"none\" stroke=\"black\" d=\"M395.06,-262.82C400.78,-258.8 406.7,-254.84 412.45,-251.32 442.19,-233.13 476.88,-215.51 505.5,-201.86\"/>\n",
       "<polygon fill=\"black\" stroke=\"black\" points=\"506.84,-205.1 514.39,-197.67 503.85,-198.77 506.84,-205.1\"/>\n",
       "</g>\n",
       "<!-- out_n11&#45;&gt;age_of_tree -->\n",
       "<g id=\"edge16\" class=\"edge\">\n",
       "<title>out_n11&#45;&gt;age_of_tree</title>\n",
       "<path fill=\"none\" stroke=\"black\" d=\"M490.18,-262.77C501.43,-249.39 515.12,-233.12 527.6,-218.28\"/>\n",
       "<polygon fill=\"black\" stroke=\"black\" points=\"530.05,-220.8 533.81,-210.9 524.69,-216.3 530.05,-220.8\"/>\n",
       "</g>\n",
       "<!-- y -->\n",
       "<g id=\"node6\" class=\"node\">\n",
       "<title>y</title>\n",
       "<path fill=\"lightgrey\" stroke=\"black\" d=\"M595.08,-98C595.08,-98 531.83,-98 531.83,-98 525.83,-98 519.83,-92 519.83,-86 519.83,-86 519.83,-52.5 519.83,-52.5 519.83,-46.5 525.83,-40.5 531.83,-40.5 531.83,-40.5 595.08,-40.5 595.08,-40.5 601.08,-40.5 607.08,-46.5 607.08,-52.5 607.08,-52.5 607.08,-86 607.08,-86 607.08,-92 601.08,-98 595.08,-98\"/>\n",
       "<text text-anchor=\"middle\" x=\"563.45\" y=\"-80.7\" font-family=\"Times,serif\" font-size=\"14.00\">y</text>\n",
       "<text text-anchor=\"middle\" x=\"563.45\" y=\"-64.2\" font-family=\"Times,serif\" font-size=\"14.00\">~</text>\n",
       "<text text-anchor=\"middle\" x=\"563.45\" y=\"-47.7\" font-family=\"Times,serif\" font-size=\"14.00\">MutableData</text>\n",
       "</g>\n",
       "<!-- age_of_tree&#45;&gt;y -->\n",
       "<g id=\"edge1\" class=\"edge\">\n",
       "<title>age_of_tree&#45;&gt;y</title>\n",
       "<path fill=\"none\" stroke=\"black\" d=\"M563.45,-133.68C563.45,-125.83 563.45,-117.6 563.45,-109.76\"/>\n",
       "<polygon fill=\"black\" stroke=\"black\" points=\"566.95,-109.79 563.45,-99.79 559.95,-109.79 566.95,-109.79\"/>\n",
       "</g>\n",
       "<!-- out_n12&#45;&gt;age_of_tree -->\n",
       "<g id=\"edge18\" class=\"edge\">\n",
       "<title>out_n12&#45;&gt;age_of_tree</title>\n",
       "<path fill=\"none\" stroke=\"black\" d=\"M571.76,-262.77C570.72,-251.84 569.49,-238.99 568.31,-226.56\"/>\n",
       "<polygon fill=\"black\" stroke=\"black\" points=\"571.81,-226.46 567.38,-216.84 564.85,-227.13 571.81,-226.46\"/>\n",
       "</g>\n",
       "<!-- intercept_n12 -->\n",
       "<g id=\"node7\" class=\"node\">\n",
       "<title>intercept_n12</title>\n",
       "<ellipse fill=\"none\" stroke=\"black\" cx=\"593.45\" cy=\"-413.79\" rx=\"63.82\" ry=\"40.66\"/>\n",
       "<text text-anchor=\"middle\" x=\"593.45\" y=\"-425.24\" font-family=\"Times,serif\" font-size=\"14.00\">intercept_n12</text>\n",
       "<text text-anchor=\"middle\" x=\"593.45\" y=\"-408.74\" font-family=\"Times,serif\" font-size=\"14.00\">~</text>\n",
       "<text text-anchor=\"middle\" x=\"593.45\" y=\"-392.24\" font-family=\"Times,serif\" font-size=\"14.00\">StudentT</text>\n",
       "</g>\n",
       "<!-- intercept_n12&#45;&gt;out_n12 -->\n",
       "<g id=\"edge8\" class=\"edge\">\n",
       "<title>intercept_n12&#45;&gt;out_n12</title>\n",
       "<path fill=\"none\" stroke=\"black\" d=\"M587.13,-372.9C585.04,-359.73 582.72,-345.11 580.64,-332.02\"/>\n",
       "<polygon fill=\"black\" stroke=\"black\" points=\"584.15,-331.79 579.13,-322.47 577.24,-332.89 584.15,-331.79\"/>\n",
       "</g>\n",
       "<!-- coeff_n20_1 -->\n",
       "<g id=\"node8\" class=\"node\">\n",
       "<title>coeff_n20_1</title>\n",
       "<ellipse fill=\"none\" stroke=\"black\" cx=\"156.45\" cy=\"-291.98\" rx=\"59.57\" ry=\"40.66\"/>\n",
       "<text text-anchor=\"middle\" x=\"156.45\" y=\"-303.43\" font-family=\"Times,serif\" font-size=\"14.00\">coeff_n20_1</text>\n",
       "<text text-anchor=\"middle\" x=\"156.45\" y=\"-286.93\" font-family=\"Times,serif\" font-size=\"14.00\">~</text>\n",
       "<text text-anchor=\"middle\" x=\"156.45\" y=\"-270.43\" font-family=\"Times,serif\" font-size=\"14.00\">StudentT</text>\n",
       "</g>\n",
       "<!-- coeff_n20_1&#45;&gt;age_of_tree -->\n",
       "<g id=\"edge21\" class=\"edge\">\n",
       "<title>coeff_n20_1&#45;&gt;age_of_tree</title>\n",
       "<path fill=\"none\" stroke=\"black\" d=\"M211.34,-275.42C286.46,-254.14 420.99,-216.02 500.24,-193.57\"/>\n",
       "<polygon fill=\"black\" stroke=\"black\" points=\"500.92,-197.02 509.58,-190.92 499.01,-190.28 500.92,-197.02\"/>\n",
       "</g>\n",
       "<!-- sigma_n11 -->\n",
       "<g id=\"node9\" class=\"node\">\n",
       "<title>sigma_n11</title>\n",
       "<ellipse fill=\"none\" stroke=\"black\" cx=\"57.45\" cy=\"-413.79\" rx=\"57.45\" ry=\"40.66\"/>\n",
       "<text text-anchor=\"middle\" x=\"57.45\" y=\"-425.24\" font-family=\"Times,serif\" font-size=\"14.00\">sigma_n11</text>\n",
       "<text text-anchor=\"middle\" x=\"57.45\" y=\"-408.74\" font-family=\"Times,serif\" font-size=\"14.00\">~</text>\n",
       "<text text-anchor=\"middle\" x=\"57.45\" y=\"-392.24\" font-family=\"Times,serif\" font-size=\"14.00\">HalfCauchy</text>\n",
       "</g>\n",
       "<!-- sigma_n11&#45;&gt;coeff_n20_1 -->\n",
       "<g id=\"edge12\" class=\"edge\">\n",
       "<title>sigma_n11&#45;&gt;coeff_n20_1</title>\n",
       "<path fill=\"none\" stroke=\"black\" d=\"M86.09,-378.14C96.77,-365.21 109.04,-350.36 120.3,-336.73\"/>\n",
       "<polygon fill=\"black\" stroke=\"black\" points=\"122.9,-339.07 126.57,-329.14 117.51,-334.62 122.9,-339.07\"/>\n",
       "</g>\n",
       "<!-- intercept_n20 -->\n",
       "<g id=\"node10\" class=\"node\">\n",
       "<title>intercept_n20</title>\n",
       "<ellipse fill=\"none\" stroke=\"black\" cx=\"701.45\" cy=\"-291.98\" rx=\"63.82\" ry=\"40.66\"/>\n",
       "<text text-anchor=\"middle\" x=\"701.45\" y=\"-303.43\" font-family=\"Times,serif\" font-size=\"14.00\">intercept_n20</text>\n",
       "<text text-anchor=\"middle\" x=\"701.45\" y=\"-286.93\" font-family=\"Times,serif\" font-size=\"14.00\">~</text>\n",
       "<text text-anchor=\"middle\" x=\"701.45\" y=\"-270.43\" font-family=\"Times,serif\" font-size=\"14.00\">StudentT</text>\n",
       "</g>\n",
       "<!-- intercept_n20&#45;&gt;age_of_tree -->\n",
       "<g id=\"edge15\" class=\"edge\">\n",
       "<title>intercept_n20&#45;&gt;age_of_tree</title>\n",
       "<path fill=\"none\" stroke=\"black\" d=\"M663.38,-259.16C646.37,-244.95 626.21,-228.1 608.47,-213.28\"/>\n",
       "<polygon fill=\"black\" stroke=\"black\" points=\"611.05,-210.88 601.14,-207.15 606.57,-216.25 611.05,-210.88\"/>\n",
       "</g>\n",
       "<!-- coeff_n20_0 -->\n",
       "<g id=\"node11\" class=\"node\">\n",
       "<title>coeff_n20_0</title>\n",
       "<ellipse fill=\"none\" stroke=\"black\" cx=\"842.45\" cy=\"-291.98\" rx=\"59.57\" ry=\"40.66\"/>\n",
       "<text text-anchor=\"middle\" x=\"842.45\" y=\"-303.43\" font-family=\"Times,serif\" font-size=\"14.00\">coeff_n20_0</text>\n",
       "<text text-anchor=\"middle\" x=\"842.45\" y=\"-286.93\" font-family=\"Times,serif\" font-size=\"14.00\">~</text>\n",
       "<text text-anchor=\"middle\" x=\"842.45\" y=\"-270.43\" font-family=\"Times,serif\" font-size=\"14.00\">StudentT</text>\n",
       "</g>\n",
       "<!-- coeff_n20_0&#45;&gt;age_of_tree -->\n",
       "<g id=\"edge17\" class=\"edge\">\n",
       "<title>coeff_n20_0&#45;&gt;age_of_tree</title>\n",
       "<path fill=\"none\" stroke=\"black\" d=\"M798.82,-263.96C790.85,-259.47 782.5,-255.07 774.45,-251.32 725.94,-228.71 668.66,-208.56 626.03,-194.75\"/>\n",
       "<polygon fill=\"black\" stroke=\"black\" points=\"627.27,-191.47 616.68,-191.75 625.14,-198.14 627.27,-191.47\"/>\n",
       "</g>\n",
       "<!-- sigma_n10 -->\n",
       "<g id=\"node12\" class=\"node\">\n",
       "<title>sigma_n10</title>\n",
       "<ellipse fill=\"none\" stroke=\"black\" cx=\"1108.45\" cy=\"-413.79\" rx=\"57.45\" ry=\"40.66\"/>\n",
       "<text text-anchor=\"middle\" x=\"1108.45\" y=\"-425.24\" font-family=\"Times,serif\" font-size=\"14.00\">sigma_n10</text>\n",
       "<text text-anchor=\"middle\" x=\"1108.45\" y=\"-408.74\" font-family=\"Times,serif\" font-size=\"14.00\">~</text>\n",
       "<text text-anchor=\"middle\" x=\"1108.45\" y=\"-392.24\" font-family=\"Times,serif\" font-size=\"14.00\">HalfCauchy</text>\n",
       "</g>\n",
       "<!-- sigma_n10&#45;&gt;coeff_n20_0 -->\n",
       "<g id=\"edge11\" class=\"edge\">\n",
       "<title>sigma_n10&#45;&gt;coeff_n20_0</title>\n",
       "<path fill=\"none\" stroke=\"black\" d=\"M1085.8,-376.26C1075.31,-362.63 1061.58,-348.55 1045.45,-340.63 1018.67,-327.49 940.03,-341.18 911.45,-332.63 905.74,-330.93 900,-328.67 894.4,-326.1\"/>\n",
       "<polygon fill=\"black\" stroke=\"black\" points=\"896.36,-323.16 885.85,-321.85 893.25,-329.43 896.36,-323.16\"/>\n",
       "</g>\n",
       "<!-- sigma_n20 -->\n",
       "<g id=\"node13\" class=\"node\">\n",
       "<title>sigma_n20</title>\n",
       "<ellipse fill=\"none\" stroke=\"black\" cx=\"977.45\" cy=\"-291.98\" rx=\"57.45\" ry=\"40.66\"/>\n",
       "<text text-anchor=\"middle\" x=\"977.45\" y=\"-303.43\" font-family=\"Times,serif\" font-size=\"14.00\">sigma_n20</text>\n",
       "<text text-anchor=\"middle\" x=\"977.45\" y=\"-286.93\" font-family=\"Times,serif\" font-size=\"14.00\">~</text>\n",
       "<text text-anchor=\"middle\" x=\"977.45\" y=\"-270.43\" font-family=\"Times,serif\" font-size=\"14.00\">HalfCauchy</text>\n",
       "</g>\n",
       "<!-- sigma_n20&#45;&gt;age_of_tree -->\n",
       "<g id=\"edge19\" class=\"edge\">\n",
       "<title>sigma_n20&#45;&gt;age_of_tree</title>\n",
       "<path fill=\"none\" stroke=\"black\" d=\"M936.26,-263.44C928.27,-258.91 919.78,-254.62 911.45,-251.32 817.62,-214.1 701.93,-193.58 630.42,-183.6\"/>\n",
       "<polygon fill=\"black\" stroke=\"black\" points=\"631.22,-180.18 620.84,-182.29 630.27,-187.11 631.22,-180.18\"/>\n",
       "</g>\n",
       "<!-- intercept_n10 -->\n",
       "<g id=\"node14\" class=\"node\">\n",
       "<title>intercept_n10</title>\n",
       "<ellipse fill=\"none\" stroke=\"black\" cx=\"301.45\" cy=\"-413.79\" rx=\"63.82\" ry=\"40.66\"/>\n",
       "<text text-anchor=\"middle\" x=\"301.45\" y=\"-425.24\" font-family=\"Times,serif\" font-size=\"14.00\">intercept_n10</text>\n",
       "<text text-anchor=\"middle\" x=\"301.45\" y=\"-408.74\" font-family=\"Times,serif\" font-size=\"14.00\">~</text>\n",
       "<text text-anchor=\"middle\" x=\"301.45\" y=\"-392.24\" font-family=\"Times,serif\" font-size=\"14.00\">StudentT</text>\n",
       "</g>\n",
       "<!-- intercept_n10&#45;&gt;out_n10 -->\n",
       "<g id=\"edge3\" class=\"edge\">\n",
       "<title>intercept_n10&#45;&gt;out_n10</title>\n",
       "<path fill=\"none\" stroke=\"black\" d=\"M319.64,-374.55C326.24,-360.69 333.68,-345.04 340.28,-331.18\"/>\n",
       "<polygon fill=\"black\" stroke=\"black\" points=\"343.34,-332.89 344.47,-322.36 337.02,-329.88 343.34,-332.89\"/>\n",
       "</g>\n",
       "<!-- sigma_n12 -->\n",
       "<g id=\"node15\" class=\"node\">\n",
       "<title>sigma_n12</title>\n",
       "<ellipse fill=\"none\" stroke=\"black\" cx=\"1241.45\" cy=\"-413.79\" rx=\"57.45\" ry=\"40.66\"/>\n",
       "<text text-anchor=\"middle\" x=\"1241.45\" y=\"-425.24\" font-family=\"Times,serif\" font-size=\"14.00\">sigma_n12</text>\n",
       "<text text-anchor=\"middle\" x=\"1241.45\" y=\"-408.74\" font-family=\"Times,serif\" font-size=\"14.00\">~</text>\n",
       "<text text-anchor=\"middle\" x=\"1241.45\" y=\"-392.24\" font-family=\"Times,serif\" font-size=\"14.00\">HalfCauchy</text>\n",
       "</g>\n",
       "<!-- coeff_n20_2 -->\n",
       "<g id=\"node16\" class=\"node\">\n",
       "<title>coeff_n20_2</title>\n",
       "<ellipse fill=\"none\" stroke=\"black\" cx=\"1186.45\" cy=\"-291.98\" rx=\"59.57\" ry=\"40.66\"/>\n",
       "<text text-anchor=\"middle\" x=\"1186.45\" y=\"-303.43\" font-family=\"Times,serif\" font-size=\"14.00\">coeff_n20_2</text>\n",
       "<text text-anchor=\"middle\" x=\"1186.45\" y=\"-286.93\" font-family=\"Times,serif\" font-size=\"14.00\">~</text>\n",
       "<text text-anchor=\"middle\" x=\"1186.45\" y=\"-270.43\" font-family=\"Times,serif\" font-size=\"14.00\">StudentT</text>\n",
       "</g>\n",
       "<!-- sigma_n12&#45;&gt;coeff_n20_2 -->\n",
       "<g id=\"edge13\" class=\"edge\">\n",
       "<title>sigma_n12&#45;&gt;coeff_n20_2</title>\n",
       "<path fill=\"none\" stroke=\"black\" d=\"M1224.05,-374.88C1219.18,-364.28 1213.83,-352.62 1208.72,-341.5\"/>\n",
       "<polygon fill=\"black\" stroke=\"black\" points=\"1211.91,-340.06 1204.56,-332.43 1205.55,-342.98 1211.91,-340.06\"/>\n",
       "</g>\n",
       "<!-- coeff_n20_2&#45;&gt;age_of_tree -->\n",
       "<g id=\"edge20\" class=\"edge\">\n",
       "<title>coeff_n20_2&#45;&gt;age_of_tree</title>\n",
       "<path fill=\"none\" stroke=\"black\" d=\"M1132.49,-274.44C1105.87,-266.69 1073.16,-257.76 1043.45,-251.32 897.43,-219.67 723.7,-195.6 630.5,-183.77\"/>\n",
       "<polygon fill=\"black\" stroke=\"black\" points=\"631.13,-180.32 620.77,-182.54 630.25,-187.26 631.13,-180.32\"/>\n",
       "</g>\n",
       "<!-- intercept_n11 -->\n",
       "<g id=\"node17\" class=\"node\">\n",
       "<title>intercept_n11</title>\n",
       "<ellipse fill=\"none\" stroke=\"black\" cx=\"447.45\" cy=\"-413.79\" rx=\"63.82\" ry=\"40.66\"/>\n",
       "<text text-anchor=\"middle\" x=\"447.45\" y=\"-425.24\" font-family=\"Times,serif\" font-size=\"14.00\">intercept_n11</text>\n",
       "<text text-anchor=\"middle\" x=\"447.45\" y=\"-408.74\" font-family=\"Times,serif\" font-size=\"14.00\">~</text>\n",
       "<text text-anchor=\"middle\" x=\"447.45\" y=\"-392.24\" font-family=\"Times,serif\" font-size=\"14.00\">StudentT</text>\n",
       "</g>\n",
       "<!-- intercept_n11&#45;&gt;out_n11 -->\n",
       "<g id=\"edge7\" class=\"edge\">\n",
       "<title>intercept_n11&#45;&gt;out_n11</title>\n",
       "<path fill=\"none\" stroke=\"black\" d=\"M453.78,-372.9C455.87,-359.73 458.18,-345.11 460.26,-332.02\"/>\n",
       "<polygon fill=\"black\" stroke=\"black\" points=\"463.67,-332.89 461.78,-322.47 456.75,-331.79 463.67,-332.89\"/>\n",
       "</g>\n",
       "<!-- coeffs_n11 -->\n",
       "<g id=\"node18\" class=\"node\">\n",
       "<title>coeffs_n11</title>\n",
       "<ellipse fill=\"none\" stroke=\"black\" cx=\"854.45\" cy=\"-413.79\" rx=\"53.74\" ry=\"40.66\"/>\n",
       "<text text-anchor=\"middle\" x=\"854.45\" y=\"-425.24\" font-family=\"Times,serif\" font-size=\"14.00\">coeffs_n11</text>\n",
       "<text text-anchor=\"middle\" x=\"854.45\" y=\"-408.74\" font-family=\"Times,serif\" font-size=\"14.00\">~</text>\n",
       "<text text-anchor=\"middle\" x=\"854.45\" y=\"-392.24\" font-family=\"Times,serif\" font-size=\"14.00\">StudentT</text>\n",
       "</g>\n",
       "<!-- coeffs_n11&#45;&gt;out_n11 -->\n",
       "<g id=\"edge5\" class=\"edge\">\n",
       "<title>coeffs_n11&#45;&gt;out_n11</title>\n",
       "<path fill=\"none\" stroke=\"black\" d=\"M832.67,-376.41C822.35,-362.62 808.7,-348.39 792.45,-340.63 765.16,-327.61 549.04,-342.47 520.45,-332.63 516.24,-331.19 512.08,-329.28 508.05,-327.1\"/>\n",
       "<polygon fill=\"black\" stroke=\"black\" points=\"510,-324.18 499.65,-321.95 506.35,-330.16 510,-324.18\"/>\n",
       "</g>\n",
       "<!-- coeffs_n10 -->\n",
       "<g id=\"node19\" class=\"node\">\n",
       "<title>coeffs_n10</title>\n",
       "<ellipse fill=\"none\" stroke=\"black\" cx=\"729.45\" cy=\"-413.79\" rx=\"53.74\" ry=\"40.66\"/>\n",
       "<text text-anchor=\"middle\" x=\"729.45\" y=\"-425.24\" font-family=\"Times,serif\" font-size=\"14.00\">coeffs_n10</text>\n",
       "<text text-anchor=\"middle\" x=\"729.45\" y=\"-408.74\" font-family=\"Times,serif\" font-size=\"14.00\">~</text>\n",
       "<text text-anchor=\"middle\" x=\"729.45\" y=\"-392.24\" font-family=\"Times,serif\" font-size=\"14.00\">StudentT</text>\n",
       "</g>\n",
       "<!-- coeffs_n10&#45;&gt;out_n10 -->\n",
       "<g id=\"edge2\" class=\"edge\">\n",
       "<title>coeffs_n10&#45;&gt;out_n10</title>\n",
       "<path fill=\"none\" stroke=\"black\" d=\"M707.2,-376.41C696.69,-362.63 682.84,-348.39 666.45,-340.63 640.93,-328.55 439.14,-341.85 412.45,-332.63 408.24,-331.18 404.09,-329.28 400.06,-327.09\"/>\n",
       "<polygon fill=\"black\" stroke=\"black\" points=\"402.01,-324.18 391.65,-321.94 398.35,-330.15 402.01,-324.18\"/>\n",
       "</g>\n",
       "<!-- coeffs_n12 -->\n",
       "<g id=\"node20\" class=\"node\">\n",
       "<title>coeffs_n12</title>\n",
       "<ellipse fill=\"none\" stroke=\"black\" cx=\"979.45\" cy=\"-413.79\" rx=\"53.74\" ry=\"40.66\"/>\n",
       "<text text-anchor=\"middle\" x=\"979.45\" y=\"-425.24\" font-family=\"Times,serif\" font-size=\"14.00\">coeffs_n12</text>\n",
       "<text text-anchor=\"middle\" x=\"979.45\" y=\"-408.74\" font-family=\"Times,serif\" font-size=\"14.00\">~</text>\n",
       "<text text-anchor=\"middle\" x=\"979.45\" y=\"-392.24\" font-family=\"Times,serif\" font-size=\"14.00\">StudentT</text>\n",
       "</g>\n",
       "<!-- coeffs_n12&#45;&gt;out_n12 -->\n",
       "<g id=\"edge10\" class=\"edge\">\n",
       "<title>coeffs_n12&#45;&gt;out_n12</title>\n",
       "<path fill=\"none\" stroke=\"black\" d=\"M957.68,-376.39C947.36,-362.6 933.71,-348.37 917.45,-340.63 888.45,-326.83 658.84,-343.06 628.45,-332.63 624.24,-331.19 620.08,-329.29 616.05,-327.1\"/>\n",
       "<polygon fill=\"black\" stroke=\"black\" points=\"618,-324.19 607.64,-321.96 614.35,-330.17 618,-324.19\"/>\n",
       "</g>\n",
       "</g>\n",
       "</svg>\n"
      ],
      "text/plain": [
       "<graphviz.graphs.Digraph at 0x7f32f337cfd0>"
      ]
     },
     "execution_count": 47,
     "metadata": {},
     "output_type": "execute_result"
    }
   ],
   "source": [
    "pm.model_to_graphviz(m_neural)"
   ]
  },
  {
   "cell_type": "markdown",
   "id": "f30a7fbe-9e5a-43f2-9628-600f19c14553",
   "metadata": {},
   "source": [
    "Get R2 score... not sure if this applies to a neural net, but we can see an improvement"
   ]
  },
  {
   "cell_type": "code",
   "execution_count": 48,
   "id": "d3ab8f6b-c3ed-4616-947c-90f6ae902ee8",
   "metadata": {},
   "outputs": [
    {
     "data": {
      "text/plain": [
       "r2        0.592585\n",
       "r2_std    0.000000\n",
       "dtype: float64"
      ]
     },
     "execution_count": 48,
     "metadata": {},
     "output_type": "execute_result"
    }
   ],
   "source": [
    "az.r2_score(y_train, y_pred_neural)"
   ]
  },
  {
   "cell_type": "markdown",
   "id": "310700ca-05fc-44c2-81c3-779d9ba7ed41",
   "metadata": {},
   "source": [
    "Calculate MSE... we get a lower value than the linear model, so that means this network is fitting the training set better... likely due to non-linearities."
   ]
  },
  {
   "cell_type": "code",
   "execution_count": 49,
   "id": "09128083-13ce-44f3-be54-68d247bfc1b8",
   "metadata": {},
   "outputs": [
    {
     "data": {
      "text/plain": [
       "0.0986"
      ]
     },
     "execution_count": 49,
     "metadata": {},
     "output_type": "execute_result"
    }
   ],
   "source": [
    "round(mean_squared_error(y_train, y_pred_neural), 4)"
   ]
  },
  {
   "cell_type": "markdown",
   "id": "e6e28614-90bb-4e12-a97a-a7bb26c5e643",
   "metadata": {},
   "source": [
    "Check correlation between predicted and actual response values, on the training dataset. Again, this chart looks pretty good."
   ]
  },
  {
   "cell_type": "code",
   "execution_count": 50,
   "id": "454be0e4-8a94-47d7-8eeb-d2b45fda53ef",
   "metadata": {},
   "outputs": [
    {
     "data": {
      "text/plain": [
       "[Text(0.5, 0, 'predicted'), Text(0, 0.5, 'actual')]"
      ]
     },
     "execution_count": 50,
     "metadata": {},
     "output_type": "execute_result"
    },
    {
     "data": {
      "image/png": "[encoded data removed]",
      "text/plain": [
       "<Figure size 640x480 with 1 Axes>"
      ]
     },
     "metadata": {},
     "output_type": "display_data"
    }
   ],
   "source": [
    "plot = sns.regplot(x=y_pred_neural, y=y_train)\n",
    "plot.set(xlabel=\"predicted\", ylabel=\"actual\")"
   ]
  },
  {
   "cell_type": "markdown",
   "id": "99c933a2-bfc2-43f1-9add-f69d602ece68",
   "metadata": {},
   "source": [
    "**Now lets predict the test set**"
   ]
  },
  {
   "cell_type": "markdown",
   "id": "e7fce062-5a84-4081-8f2e-0f0ce43cc4bc",
   "metadata": {},
   "source": [
    "First prediction without sampling... just use coefficients. Kind of a hassle to extract all these individually to recrate the neural network math... I'm trying to be careful.\n",
    "Hopefully no mistakes. :)\n",
    "\n",
    "With that said, given the problems with sampling the linear model, we want to try this to see if it provides better results."
   ]
  },
  {
   "cell_type": "code",
   "execution_count": 51,
   "id": "94b3cdf7-696f-43ab-aafc-94c5fbc97c62",
   "metadata": {},
   "outputs": [],
   "source": [
    "# LAYER 1\n",
    "pred_intercept_n10 = trace_neural.posterior.intercept_n10.mean().values.item()\n",
    "pred_intercept_n11 = trace_neural.posterior.intercept_n11.mean().values.item()\n",
    "pred_intercept_n12 = trace_neural.posterior.intercept_n12.mean().values.item()\n",
    "\n",
    "pred_coeffs_n10 = trace_neural.posterior.coeffs_n10.mean([\"chain\", \"draw\"]).values\n",
    "pred_coeffs_n11 = trace_neural.posterior.coeffs_n11.mean([\"chain\", \"draw\"]).values\n",
    "pred_coeffs_n12 = trace_neural.posterior.coeffs_n12.mean([\"chain\", \"draw\"]).values\n",
    "\n",
    "# Data X coefficients, then ReLU\n",
    "pred_out_n10 = np.maximum(0, pred_intercept_n10 + X_test @ pred_coeffs_n10)\n",
    "pred_out_n11 = np.maximum(0, pred_intercept_n11 + X_test @ pred_coeffs_n11)\n",
    "pred_out_n12 = np.maximum(0, pred_intercept_n12 + X_test @ pred_coeffs_n12)\n",
    "\n",
    "# LAYER 2\n",
    "pred_intercept_n20 = trace_neural.posterior.intercept_n20.mean().values.item()\n",
    "pred_coeff_n20_0 = trace_neural.posterior.coeff_n20_0.mean().values.item()\n",
    "pred_coeff_n20_1 = trace_neural.posterior.coeff_n20_1.mean().values.item()\n",
    "pred_coeff_n20_2 = trace_neural.posterior.coeff_n20_2.mean().values.item()\n",
    "\n",
    "y_pred_test_nosample_neural = (pred_intercept_n20 \n",
    "          + pred_out_n10 * pred_coeff_n20_0 \n",
    "          + pred_out_n11 * pred_coeff_n20_1\n",
    "          + pred_out_n12 * pred_coeff_n20_2)"
   ]
  },
  {
   "cell_type": "markdown",
   "id": "63f579eb-94a1-49e5-839f-ccee31403bfb",
   "metadata": {},
   "source": [
    "Get the MSE again."
   ]
  },
  {
   "cell_type": "code",
   "execution_count": 52,
   "id": "4a02a9fc-35b2-41f4-a6f8-24d4a81dc818",
   "metadata": {},
   "outputs": [
    {
     "data": {
      "text/plain": [
       "0.3827"
      ]
     },
     "execution_count": 52,
     "metadata": {},
     "output_type": "execute_result"
    }
   ],
   "source": [
    "round(mean_squared_error(y_test, y_pred_test_nosample_neural), 4)"
   ]
  },
  {
   "cell_type": "markdown",
   "id": "8811c4b7-517b-4a66-8f44-ce5e3c53db62",
   "metadata": {},
   "source": [
    "See how well predicted vs. actual response values align."
   ]
  },
  {
   "cell_type": "code",
   "execution_count": 53,
   "id": "d24eab29-cc8f-48ca-95a0-d89b71e33d7d",
   "metadata": {},
   "outputs": [
    {
     "data": {
      "text/plain": [
       "[Text(0.5, 0, 'predicted'), Text(0, 0.5, 'actual')]"
      ]
     },
     "execution_count": 53,
     "metadata": {},
     "output_type": "execute_result"
    },
    {
     "data": {
      "image/png": "[encoded data removed]",
      "text/plain": [
       "<Figure size 640x480 with 1 Axes>"
      ]
     },
     "metadata": {},
     "output_type": "display_data"
    }
   ],
   "source": [
    "plot = sns.regplot(x=y_pred_test_nosample_neural, y=y_test)\n",
    "plot.set(xlabel=\"predicted\", ylabel=\"actual\")"
   ]
  },
  {
   "cell_type": "markdown",
   "id": "1ce5b0ca-8eb0-45e5-b49b-305e16f0072a",
   "metadata": {},
   "source": [
    "Now predict using sampling  \n",
    "**We are now getting a much lower MSA values, and they seem more stable. The neural net seems to be much better at dealing with possible outliers and non-linearities than the linear model. It's still not perfect.**"
   ]
  },
  {
   "cell_type": "code",
   "execution_count": 54,
   "id": "70309047-8721-4834-9358-69f5fcfaa23c",
   "metadata": {},
   "outputs": [
    {
     "name": "stderr",
     "output_type": "stream",
     "text": [
      "Sampling: [age_of_tree, coeffs_n10, coeffs_n11, coeffs_n12]\n"
     ]
    },
    {
     "data": {
      "text/html": [
       "\n",
       "<style>\n",
       "    /* Turns off some styling */\n",
       "    progress {\n",
       "        /* gets rid of default border in Firefox and Opera. */\n",
       "        border: none;\n",
       "        /* Needs to be in here for Safari polyfill so background images work as expected. */\n",
       "        background-size: auto;\n",
       "    }\n",
       "    progress:not([value]), progress:not([value])::-webkit-progress-bar {\n",
       "        background: repeating-linear-gradient(45deg, #7e7e7e, #7e7e7e 10px, #5c5c5c 10px, #5c5c5c 20px);\n",
       "    }\n",
       "    .progress-bar-interrupted, .progress-bar-interrupted::-webkit-progress-bar {\n",
       "        background: #F44336;\n",
       "    }\n",
       "</style>\n"
      ],
      "text/plain": [
       "<IPython.core.display.HTML object>"
      ]
     },
     "metadata": {},
     "output_type": "display_data"
    },
    {
     "data": {
      "text/html": [
       "\n",
       "    <div>\n",
       "      <progress value='20000' class='' max='20000' style='width:300px; height:20px; vertical-align: middle;'></progress>\n",
       "      100.00% [20000/20000 00:08&lt;00:00]\n",
       "    </div>\n",
       "    "
      ],
      "text/plain": [
       "<IPython.core.display.HTML object>"
      ]
     },
     "metadata": {},
     "output_type": "display_data"
    }
   ],
   "source": [
    "with m_neural:\n",
    "    pm.set_data({\"X\": X_test, \"y\": y_test})\n",
    "    ppc_test_neural = pm.sample_posterior_predictive(trace_neural) #, predictions=True)\n",
    "    y_pred_test_neural = ppc_test_neural.posterior_predictive.stack(sample=(\"chain\", \"draw\"))[\"age_of_tree\"].values.T.mean(axis=0)"
   ]
  },
  {
   "cell_type": "code",
   "execution_count": 55,
   "id": "7f6b795c-84cf-41c6-9057-8713d1091946",
   "metadata": {
    "tags": []
   },
   "outputs": [
    {
     "data": {
      "text/plain": [
       "0.2496"
      ]
     },
     "execution_count": 55,
     "metadata": {},
     "output_type": "execute_result"
    }
   ],
   "source": [
    "round(mean_squared_error(y_test, y_pred_test_neural), 4)"
   ]
  },
  {
   "cell_type": "code",
   "execution_count": 56,
   "id": "fd18b5f4-3067-48a5-a4b4-b5691f6ef7b4",
   "metadata": {
    "tags": []
   },
   "outputs": [
    {
     "data": {
      "text/plain": [
       "[Text(0.5, 0, 'predicted'), Text(0, 0.5, 'actual')]"
      ]
     },
     "execution_count": 56,
     "metadata": {},
     "output_type": "execute_result"
    },
    {
     "data": {
      "image/png": "[encoded data removed]",
      "text/plain": [
       "<Figure size 640x480 with 1 Axes>"
      ]
     },
     "metadata": {},
     "output_type": "display_data"
    }
   ],
   "source": [
    "plot = sns.regplot(x=y_pred_test_neural, y=y_test)\n",
    "plot.set(xlabel=\"predicted\", ylabel=\"actual\")"
   ]
  },
  {
   "cell_type": "markdown",
   "id": "3f8fd398-1dd7-47dc-8522-b792efbacc0f",
   "metadata": {},
   "source": [
    "Try sampling again, to see how much result differs."
   ]
  },
  {
   "cell_type": "code",
   "execution_count": 57,
   "id": "b39c0e62-c622-4c6a-99ac-cca2091c28f5",
   "metadata": {},
   "outputs": [
    {
     "name": "stderr",
     "output_type": "stream",
     "text": [
      "Sampling: [age_of_tree, coeffs_n10, coeffs_n11, coeffs_n12]\n"
     ]
    },
    {
     "data": {
      "text/html": [
       "\n",
       "<style>\n",
       "    /* Turns off some styling */\n",
       "    progress {\n",
       "        /* gets rid of default border in Firefox and Opera. */\n",
       "        border: none;\n",
       "        /* Needs to be in here for Safari polyfill so background images work as expected. */\n",
       "        background-size: auto;\n",
       "    }\n",
       "    progress:not([value]), progress:not([value])::-webkit-progress-bar {\n",
       "        background: repeating-linear-gradient(45deg, #7e7e7e, #7e7e7e 10px, #5c5c5c 10px, #5c5c5c 20px);\n",
       "    }\n",
       "    .progress-bar-interrupted, .progress-bar-interrupted::-webkit-progress-bar {\n",
       "        background: #F44336;\n",
       "    }\n",
       "</style>\n"
      ],
      "text/plain": [
       "<IPython.core.display.HTML object>"
      ]
     },
     "metadata": {},
     "output_type": "display_data"
    },
    {
     "data": {
      "text/html": [
       "\n",
       "    <div>\n",
       "      <progress value='20000' class='' max='20000' style='width:300px; height:20px; vertical-align: middle;'></progress>\n",
       "      100.00% [20000/20000 00:09&lt;00:00]\n",
       "    </div>\n",
       "    "
      ],
      "text/plain": [
       "<IPython.core.display.HTML object>"
      ]
     },
     "metadata": {},
     "output_type": "display_data"
    }
   ],
   "source": [
    "with m_neural:\n",
    "    pm.set_data({\"X\": X_test, \"y\": y_test})\n",
    "    ppc_test_neural = pm.sample_posterior_predictive(trace_neural) #, predictions=True)\n",
    "    y_pred_test_neural = ppc_test_neural.posterior_predictive.stack(sample=(\"chain\", \"draw\"))[\"age_of_tree\"].values.T.mean(axis=0)"
   ]
  },
  {
   "cell_type": "markdown",
   "id": "f112e678-6948-4f7b-a841-bae25ba8e1f8",
   "metadata": {},
   "source": [
    "Second prediction for MSE after sampling again"
   ]
  },
  {
   "cell_type": "code",
   "execution_count": 58,
   "id": "9ed17ee0-6add-4aa5-ae8e-cdbfe63f434c",
   "metadata": {
    "tags": []
   },
   "outputs": [
    {
     "data": {
      "text/plain": [
       "0.2466"
      ]
     },
     "execution_count": 58,
     "metadata": {},
     "output_type": "execute_result"
    }
   ],
   "source": [
    "round(mean_squared_error(y_test, y_pred_test_neural), 4)"
   ]
  },
  {
   "cell_type": "code",
   "execution_count": 59,
   "id": "13c1f55e-3684-4030-895a-e13680994dfc",
   "metadata": {
    "tags": []
   },
   "outputs": [
    {
     "data": {
      "text/plain": [
       "[Text(0.5, 0, 'predicted'), Text(0, 0.5, 'actual')]"
      ]
     },
     "execution_count": 59,
     "metadata": {},
     "output_type": "execute_result"
    },
    {
     "data": {
      "image/png": "[encoded data removed]",
      "text/plain": [
       "<Figure size 640x480 with 1 Axes>"
      ]
     },
     "metadata": {},
     "output_type": "display_data"
    }
   ],
   "source": [
    "plot = sns.regplot(x=y_pred_test_neural, y=y_test)\n",
    "plot.set(xlabel=\"predicted\", ylabel=\"actual\")"
   ]
  },
  {
   "cell_type": "code",
   "execution_count": 60,
   "id": "b6cee149-e9a8-438a-9668-4fd5e8767987",
   "metadata": {},
   "outputs": [
    {
     "name": "stdout",
     "output_type": "stream",
     "text": [
      "Neural model runtime: 2230.04 seconds\n"
     ]
    }
   ],
   "source": [
    "print(f\"Neural model runtime: {round(time.time() - neural_start, 2)} seconds\")"
   ]
  },
  {
   "cell_type": "markdown",
   "id": "0f0f0e16-bb21-4e46-a42c-6895fc64cbd0",
   "metadata": {},
   "source": [
    "## Fit Deep Neural Network Model"
   ]
  },
  {
   "cell_type": "markdown",
   "id": "36c09a11-3cb7-4582-a18e-8dca3638a95e",
   "metadata": {},
   "source": [
    "**Now let's try to expand our neural network a bit, and add a hidden layer. We will keep it small to limit computational complexity.**"
   ]
  },
  {
   "cell_type": "code",
   "execution_count": 61,
   "id": "e7998b45-dd72-440e-bb23-7bb9322a4e29",
   "metadata": {},
   "outputs": [],
   "source": [
    "d_neural_start = time.time()"
   ]
  },
  {
   "cell_type": "code",
   "execution_count": 62,
   "id": "4c53855b-dd71-4721-8fd0-e3b9c7dd1970",
   "metadata": {},
   "outputs": [
    {
     "name": "stderr",
     "output_type": "stream",
     "text": [
      "Auto-assigning NUTS sampler...\n",
      "Initializing NUTS using jitter+adapt_diag...\n",
      "Multiprocess sampling (4 chains in 4 jobs)\n",
      "NUTS: [intercept_n10, coeffs_n10, sigma_n10, intercept_n11, coeffs_n11, sigma_n11, intercept_n12, coeffs_n12, sigma_n12, intercept_n13, coeffs_n13, sigma_n13, intercept_n20, coeff_n20_0, coeff_n20_1, coeff_n20_2, coeff_n20_3, sigma_n20, intercept_n21, coeff_n21_0, coeff_n21_1, coeff_n21_2, coeff_n21_3, sigma_n21, intercept_n22, coeff_n22_0, coeff_n22_1, coeff_n22_2, coeff_n22_3, sigma_n22, intercept_n30, coeff_n30_0, coeff_n30_1, coeff_n30_2, sigma_n30]\n"
     ]
    },
    {
     "data": {
      "text/html": [
       "\n",
       "<style>\n",
       "    /* Turns off some styling */\n",
       "    progress {\n",
       "        /* gets rid of default border in Firefox and Opera. */\n",
       "        border: none;\n",
       "        /* Needs to be in here for Safari polyfill so background images work as expected. */\n",
       "        background-size: auto;\n",
       "    }\n",
       "    progress:not([value]), progress:not([value])::-webkit-progress-bar {\n",
       "        background: repeating-linear-gradient(45deg, #7e7e7e, #7e7e7e 10px, #5c5c5c 10px, #5c5c5c 20px);\n",
       "    }\n",
       "    .progress-bar-interrupted, .progress-bar-interrupted::-webkit-progress-bar {\n",
       "        background: #F44336;\n",
       "    }\n",
       "</style>\n"
      ],
      "text/plain": [
       "<IPython.core.display.HTML object>"
      ]
     },
     "metadata": {},
     "output_type": "display_data"
    },
    {
     "data": {
      "text/html": [
       "\n",
       "    <div>\n",
       "      <progress value='24000' class='' max='24000' style='width:300px; height:20px; vertical-align: middle;'></progress>\n",
       "      100.00% [24000/24000 1:24:54&lt;00:00 Sampling 4 chains, 0 divergences]\n",
       "    </div>\n",
       "    "
      ],
      "text/plain": [
       "<IPython.core.display.HTML object>"
      ]
     },
     "metadata": {},
     "output_type": "display_data"
    },
    {
     "name": "stderr",
     "output_type": "stream",
     "text": [
      "Sampling 4 chains for 1_000 tune and 5_000 draw iterations (4_000 + 20_000 draws total) took 5095 seconds.\n",
      "The rhat statistic is larger than 1.01 for some parameters. This indicates problems during sampling. See https://arxiv.org/abs/1903.08008 for details\n",
      "The effective sample size per chain is smaller than 100 for some parameters.  A higher number is needed for reliable rhat and ess computation. See https://arxiv.org/abs/1903.08008 for details\n",
      "Chain 0 reached the maximum tree depth. Increase `max_treedepth`, increase `target_accept` or reparameterize.\n",
      "Chain 1 reached the maximum tree depth. Increase `max_treedepth`, increase `target_accept` or reparameterize.\n",
      "Chain 2 reached the maximum tree depth. Increase `max_treedepth`, increase `target_accept` or reparameterize.\n",
      "Chain 3 reached the maximum tree depth. Increase `max_treedepth`, increase `target_accept` or reparameterize.\n",
      "Sampling: [age_of_tree]\n"
     ]
    },
    {
     "data": {
      "text/html": [
       "\n",
       "<style>\n",
       "    /* Turns off some styling */\n",
       "    progress {\n",
       "        /* gets rid of default border in Firefox and Opera. */\n",
       "        border: none;\n",
       "        /* Needs to be in here for Safari polyfill so background images work as expected. */\n",
       "        background-size: auto;\n",
       "    }\n",
       "    progress:not([value]), progress:not([value])::-webkit-progress-bar {\n",
       "        background: repeating-linear-gradient(45deg, #7e7e7e, #7e7e7e 10px, #5c5c5c 10px, #5c5c5c 20px);\n",
       "    }\n",
       "    .progress-bar-interrupted, .progress-bar-interrupted::-webkit-progress-bar {\n",
       "        background: #F44336;\n",
       "    }\n",
       "</style>\n"
      ],
      "text/plain": [
       "<IPython.core.display.HTML object>"
      ]
     },
     "metadata": {},
     "output_type": "display_data"
    },
    {
     "data": {
      "text/html": [
       "\n",
       "    <div>\n",
       "      <progress value='20000' class='' max='20000' style='width:300px; height:20px; vertical-align: middle;'></progress>\n",
       "      100.00% [20000/20000 00:06&lt;00:00]\n",
       "    </div>\n",
       "    "
      ],
      "text/plain": [
       "<IPython.core.display.HTML object>"
      ]
     },
     "metadata": {},
     "output_type": "display_data"
    }
   ],
   "source": [
    "# naming convention. N for neuron. First number is layer. Second is neuron number in that layer. \n",
    "# So n21 is the first neuron in layer 2.\n",
    "with pm.Model() as m_d_neural:\n",
    "    # associate data with model (this makes prediction easier)\n",
    "    X_data_dn = pm.Data(\"X\", X_train, mutable=True)\n",
    "    y_data_dn = pm.Data(\"y\", y_train, mutable=True)\n",
    "    \n",
    "    # LAYER 1\n",
    "    \n",
    "    # NEURON 1-0\n",
    "    intercept_dn10 = pm.StudentT(\"intercept_n10\", mu=0, sigma=5, nu=3)\n",
    "    coeffs_dn10 = pm.StudentT(\"coeffs_n10\", mu=0, sigma=5, nu=3, shape=X_data_dn.shape[1])\n",
    "    \n",
    "    mu_dn10 = intercept_dn10 + pm.math.dot(X_data_dn, coeffs_dn10)\n",
    "    \n",
    "    # ReLU function\n",
    "    out_dn10 = pm.Deterministic(\"out_n10\", pm.math.maximum(0, mu_dn10))\n",
    "        \n",
    "    sigma_dn10 = pm.HalfCauchy(\"sigma_n10\", beta=10)\n",
    "    \n",
    "\n",
    "    # NEURON 1-1\n",
    "    intercept_dn11 = pm.StudentT(\"intercept_n11\", mu=0, sigma=5, nu=3)\n",
    "    coeffs_dn11 = pm.StudentT(\"coeffs_n11\", mu=0, sigma=5, nu=3, shape=X_data_dn.shape[1])\n",
    "    \n",
    "    mu_dn11 = intercept_dn11 + pm.math.dot(X_data_dn, coeffs_dn11)\n",
    "    \n",
    "    # ReLU function\n",
    "    out_dn11 = pm.Deterministic(\"out_n11\", pm.math.maximum(0, mu_dn11))\n",
    "    sigma_dn11 = pm.HalfCauchy(\"sigma_n11\", beta=10)\n",
    "\n",
    "    \n",
    "    # NEURON 1-2\n",
    "    intercept_dn12 = pm.StudentT(\"intercept_n12\", mu=0, sigma=5, nu=3)\n",
    "    coeffs_dn12 = pm.StudentT(\"coeffs_n12\", mu=0, sigma=5, nu=3, shape=X_data_dn.shape[1])\n",
    "    \n",
    "    mu_dn12 = intercept_dn12 + pm.math.dot(X_data_dn, coeffs_dn12)\n",
    "    \n",
    "    # ReLU function\n",
    "    out_dn12 = pm.Deterministic(\"out_n12\", pm.math.maximum(0, mu_dn12))\n",
    "    \n",
    "    sigma_dn12 = pm.HalfCauchy(\"sigma_n12\", beta=10)\n",
    "\n",
    "    \n",
    "    # NEURON 1-3\n",
    "    intercept_dn13 = pm.StudentT(\"intercept_n13\", mu=0, sigma=5, nu=3)\n",
    "    coeffs_dn13 = pm.StudentT(\"coeffs_n13\", mu=0, sigma=5, nu=3, shape=X_data_dn.shape[1])\n",
    "    \n",
    "    mu_dn13 = intercept_dn13 + pm.math.dot(X_data_dn, coeffs_dn13)\n",
    "    \n",
    "    # ReLU function\n",
    "    out_dn13 = pm.Deterministic(\"out_n13\", pm.math.maximum(0, mu_dn13))\n",
    "    \n",
    "    sigma_dn13 = pm.HalfCauchy(\"sigma_n13\", beta=10)\n",
    "\n",
    "    \n",
    "    # LAYER 2 - HIDDEN LAYER\n",
    "    # NEURON 2-0\n",
    "    intercept_dn20 = pm.StudentT(\"intercept_n20\", mu=0, sigma=5, nu=3)\n",
    "    coeff_dn20_0 = pm.StudentT(\"coeff_n20_0\", mu=0, sigma=sigma_dn10, nu=3) # input coeff for neron 10\n",
    "    coeff_dn20_1 = pm.StudentT(\"coeff_n20_1\", mu=0, sigma=sigma_dn11, nu=3) # input coeff for neron 11\n",
    "    coeff_dn20_2 = pm.StudentT(\"coeff_n20_2\", mu=0, sigma=sigma_dn12, nu=3) # input coeff for neron 12\n",
    "    coeff_dn20_3 = pm.StudentT(\"coeff_n20_3\", mu=0, sigma=sigma_dn13, nu=3) # input coeff for neron 13\n",
    "\n",
    "    \n",
    "    # Had a hard time getting this to work as an array / dot product, so just do it manually\n",
    "    mu_dn20 = (intercept_dn20 \n",
    "              + out_dn10 * coeff_dn20_0 \n",
    "              + out_dn11 * coeff_dn20_1\n",
    "              + out_dn12 * coeff_dn20_2\n",
    "              + out_dn13 * coeff_dn20_3\n",
    "              )\n",
    "    \n",
    "    # ReLU function\n",
    "    out_dn20 = pm.Deterministic(\"out_dn20\", pm.math.maximum(0, mu_dn20))\n",
    "\n",
    "    sigma_dn20 = pm.HalfCauchy(\"sigma_n20\", beta=10)\n",
    "    \n",
    "    \n",
    "    # NEURON 2-1\n",
    "    intercept_dn21 = pm.StudentT(\"intercept_n21\", mu=0, sigma=5, nu=3)\n",
    "    coeff_dn21_0 = pm.StudentT(\"coeff_n21_0\", mu=0, sigma=sigma_dn10, nu=3) # input coeff for neron 10\n",
    "    coeff_dn21_1 = pm.StudentT(\"coeff_n21_1\", mu=0, sigma=sigma_dn11, nu=3) # input coeff for neron 11\n",
    "    coeff_dn21_2 = pm.StudentT(\"coeff_n21_2\", mu=0, sigma=sigma_dn12, nu=3) # input coeff for neron 12\n",
    "    coeff_dn21_3 = pm.StudentT(\"coeff_n21_3\", mu=0, sigma=sigma_dn13, nu=3) # input coeff for neron 13\n",
    "\n",
    "    \n",
    "    # Had a hard time getting this to work as an array / dot product, so just do it manually\n",
    "    mu_dn21 = (intercept_dn21 \n",
    "              + out_dn10 * coeff_dn21_0 \n",
    "              + out_dn11 * coeff_dn21_1\n",
    "              + out_dn12 * coeff_dn21_2\n",
    "              + out_dn13 * coeff_dn21_3\n",
    "              )\n",
    "\n",
    "    # ReLU function\n",
    "    out_dn21 = pm.Deterministic(\"out_dn21\", pm.math.maximum(0, mu_dn21))\n",
    "    \n",
    "    sigma_dn21 = pm.HalfCauchy(\"sigma_n21\", beta=10)\n",
    "    \n",
    "    \n",
    "    # NEURON 2-2\n",
    "    intercept_dn22 = pm.StudentT(\"intercept_n22\", mu=0, sigma=5, nu=3)\n",
    "    coeff_dn22_0 = pm.StudentT(\"coeff_n22_0\", mu=0, sigma=sigma_dn10, nu=3) # input coeff for neron 10\n",
    "    coeff_dn22_1 = pm.StudentT(\"coeff_n22_1\", mu=0, sigma=sigma_dn11, nu=3) # input coeff for neron 11\n",
    "    coeff_dn22_2 = pm.StudentT(\"coeff_n22_2\", mu=0, sigma=sigma_dn12, nu=3) # input coeff for neron 12\n",
    "    coeff_dn22_3 = pm.StudentT(\"coeff_n22_3\", mu=0, sigma=sigma_dn13, nu=3) # input coeff for neron 13\n",
    "\n",
    "    \n",
    "    # Had a hard time getting this to work as an array / dot product, so just do it manually\n",
    "    mu_dn22 = (intercept_dn22 \n",
    "              + out_dn10 * coeff_dn22_0 \n",
    "              + out_dn11 * coeff_dn22_1\n",
    "              + out_dn12 * coeff_dn22_2\n",
    "              + out_dn13 * coeff_dn22_3\n",
    "              )\n",
    "    \n",
    "    # ReLU function\n",
    "    out_dn22 = pm.Deterministic(\"out_dn22\", pm.math.maximum(0, mu_dn22))\n",
    "    \n",
    "    sigma_dn22 = pm.HalfCauchy(\"sigma_n22\", beta=10)\n",
    "    \n",
    "    \n",
    "    # LAYER 3 - OUTPUT (no ReLU, just straight linear regression)\n",
    "    # NEURON 3-0\n",
    "    intercept_dn30 = pm.StudentT(\"intercept_n30\", mu=0, sigma=5, nu=3)\n",
    "    coeff_dn30_0 = pm.StudentT(\"coeff_n30_0\", mu=0, sigma=sigma_dn20, nu=3) # input coeff for neron 20\n",
    "    coeff_dn30_1 = pm.StudentT(\"coeff_n30_1\", mu=0, sigma=sigma_dn21, nu=3) # input coeff for neron 21\n",
    "    coeff_dn30_2 = pm.StudentT(\"coeff_n30_2\", mu=0, sigma=sigma_dn22, nu=3) # input coeff for neron 22\n",
    "\n",
    "    \n",
    "    # Had a hard time getting this to work as an array / dot product, so just do it manually\n",
    "    mu_dn30 = (intercept_dn30 \n",
    "              + out_dn20 * coeff_dn30_0 \n",
    "              + out_dn21 * coeff_dn30_1\n",
    "              + out_dn22 * coeff_dn30_2\n",
    "              )\n",
    "\n",
    "    sigma_dn30 = pm.HalfCauchy(\"sigma_n30\", beta=10)    \n",
    "\n",
    "    # likelihood - just take linear combination as regression\n",
    "    pm.StudentT(\"age_of_tree\", mu=mu_dn30, sigma=sigma_dn30, nu=3, observed=y_data_dn)\n",
    "\n",
    "    # start sampling\n",
    "    trace_d_neural = pm.sample(d_neural_model_n_samples)\n",
    "    ppc_d_neural = pm.sample_posterior_predictive(trace_d_neural)\n",
    "    \n",
    "    y_pred_d_neural = ppc_d_neural.posterior_predictive.stack(sample=(\"chain\", \"draw\"))[\"age_of_tree\"].values.T.mean(axis=0)"
   ]
  },
  {
   "cell_type": "code",
   "execution_count": 63,
   "id": "bf8cff4e-c914-4a0e-b18b-71149b29ad13",
   "metadata": {},
   "outputs": [
    {
     "data": {
      "text/plain": [
       "(1500,)"
      ]
     },
     "execution_count": 63,
     "metadata": {},
     "output_type": "execute_result"
    }
   ],
   "source": [
    "y_pred_d_neural.shape"
   ]
  },
  {
   "cell_type": "code",
   "execution_count": 64,
   "id": "a51ed285-83cd-456b-a85c-752ac2c7495a",
   "metadata": {},
   "outputs": [],
   "source": [
    "# az.summary(trace_d_neural, hdi_prob=0.95) # Lots of warnings, and too many coefficients to display"
   ]
  },
  {
   "cell_type": "markdown",
   "id": "d237ae49-ca7b-4d9b-a999-fda9fc84a50f",
   "metadata": {},
   "source": [
    "Again, we will visualize the Markov Chain. Notice how this is looks like a neural net."
   ]
  },
  {
   "cell_type": "code",
   "execution_count": 65,
   "id": "e4b2eeca-7a7c-4eca-8b46-1bbdc20cd19f",
   "metadata": {},
   "outputs": [
    {
     "data": {
      "image/svg+xml": [
       "<?xml version=\"1.0\" encoding=\"UTF-8\" standalone=\"no\"?>\n",
       "<!DOCTYPE svg PUBLIC \"-//W3C//DTD SVG 1.1//EN\"\n",
       " \"http://www.w3.org/Graphics/SVG/1.1/DTD/svg11.dtd\">\n",
       "<!-- Generated by graphviz version 9.0.0 (20231125.0833)\n",
       " -->\n",
       "<!-- Pages: 1 -->\n",
       "<svg width=\"3115pt\" height=\"596pt\"\n",
       " viewBox=\"0.00 0.00 3115.45 595.77\" xmlns=\"http://www.w3.org/2000/svg\" xmlns:xlink=\"http://www.w3.org/1999/xlink\">\n",
       "<g id=\"graph0\" class=\"graph\" transform=\"scale(1 1) rotate(0) translate(4 591.77)\">\n",
       "<polygon fill=\"white\" stroke=\"none\" points=\"-4,4 -4,-591.77 3111.45,-591.77 3111.45,4 -4,4\"/>\n",
       "<g id=\"clust1\" class=\"cluster\">\n",
       "<title>cluster1500 x 10</title>\n",
       "<path fill=\"none\" stroke=\"black\" d=\"M20,-469.86C20,-469.86 100,-469.86 100,-469.86 106,-469.86 112,-475.86 112,-481.86 112,-481.86 112,-555.86 112,-555.86 112,-561.86 106,-567.86 100,-567.86 100,-567.86 20,-567.86 20,-567.86 14,-567.86 8,-561.86 8,-555.86 8,-555.86 8,-481.86 8,-481.86 8,-475.86 14,-469.86 20,-469.86\"/>\n",
       "<text text-anchor=\"middle\" x=\"76.62\" y=\"-477.06\" font-family=\"Times,serif\" font-size=\"14.00\">1500 x 10</text>\n",
       "</g>\n",
       "<g id=\"clust2\" class=\"cluster\">\n",
       "<title>cluster1500</title>\n",
       "<path fill=\"none\" stroke=\"black\" d=\"M219,-8C219,-8 625,-8 625,-8 631,-8 637,-14 637,-20 637,-20 637,-434.04 637,-434.04 637,-440.04 631,-446.04 625,-446.04 625,-446.04 219,-446.04 219,-446.04 213,-446.04 207,-440.04 207,-434.04 207,-434.04 207,-20 207,-20 207,-14 213,-8 219,-8\"/>\n",
       "<text text-anchor=\"middle\" x=\"615.5\" y=\"-15.2\" font-family=\"Times,serif\" font-size=\"14.00\">1500</text>\n",
       "</g>\n",
       "<g id=\"clust3\" class=\"cluster\">\n",
       "<title>cluster10</title>\n",
       "<path fill=\"none\" stroke=\"black\" d=\"M709,-457.95C709,-457.95 1184,-457.95 1184,-457.95 1190,-457.95 1196,-463.95 1196,-469.95 1196,-469.95 1196,-567.77 1196,-567.77 1196,-573.77 1190,-579.77 1184,-579.77 1184,-579.77 709,-579.77 709,-579.77 703,-579.77 697,-573.77 697,-567.77 697,-567.77 697,-469.95 697,-469.95 697,-463.95 703,-457.95 709,-457.95\"/>\n",
       "<text text-anchor=\"middle\" x=\"1181.25\" y=\"-465.15\" font-family=\"Times,serif\" font-size=\"14.00\">10</text>\n",
       "</g>\n",
       "<!-- X -->\n",
       "<g id=\"node1\" class=\"node\">\n",
       "<title>X</title>\n",
       "<path fill=\"lightgrey\" stroke=\"black\" d=\"M91.62,-559.86C91.62,-559.86 28.38,-559.86 28.38,-559.86 22.38,-559.86 16.38,-553.86 16.38,-547.86 16.38,-547.86 16.38,-514.36 16.38,-514.36 16.38,-508.36 22.38,-502.36 28.38,-502.36 28.38,-502.36 91.62,-502.36 91.62,-502.36 97.62,-502.36 103.62,-508.36 103.62,-514.36 103.62,-514.36 103.62,-547.86 103.62,-547.86 103.62,-553.86 97.62,-559.86 91.62,-559.86\"/>\n",
       "<text text-anchor=\"middle\" x=\"60\" y=\"-542.56\" font-family=\"Times,serif\" font-size=\"14.00\">X</text>\n",
       "<text text-anchor=\"middle\" x=\"60\" y=\"-526.06\" font-family=\"Times,serif\" font-size=\"14.00\">~</text>\n",
       "<text text-anchor=\"middle\" x=\"60\" y=\"-509.56\" font-family=\"Times,serif\" font-size=\"14.00\">MutableData</text>\n",
       "</g>\n",
       "<!-- out_n10 -->\n",
       "<g id=\"node2\" class=\"node\">\n",
       "<title>out_n10</title>\n",
       "<polygon fill=\"none\" stroke=\"black\" points=\"521.12,-438.04 430.88,-438.04 430.88,-380.54 521.12,-380.54 521.12,-438.04\"/>\n",
       "<text text-anchor=\"middle\" x=\"476\" y=\"-420.74\" font-family=\"Times,serif\" font-size=\"14.00\">out_n10</text>\n",
       "<text text-anchor=\"middle\" x=\"476\" y=\"-404.24\" font-family=\"Times,serif\" font-size=\"14.00\">~</text>\n",
       "<text text-anchor=\"middle\" x=\"476\" y=\"-387.74\" font-family=\"Times,serif\" font-size=\"14.00\">Deterministic</text>\n",
       "</g>\n",
       "<!-- X&#45;&gt;out_n10 -->\n",
       "<g id=\"edge4\" class=\"edge\">\n",
       "<title>X&#45;&gt;out_n10</title>\n",
       "<path fill=\"none\" stroke=\"black\" d=\"M72.29,-502.06C80.92,-486.08 94.11,-467.4 112,-457.95 142.46,-441.86 389.4,-461.1 422,-449.95 426.21,-448.51 430.37,-446.61 434.4,-444.43\"/>\n",
       "<polygon fill=\"black\" stroke=\"black\" points=\"436.1,-447.49 442.81,-439.29 432.45,-441.52 436.1,-447.49\"/>\n",
       "</g>\n",
       "<!-- out_n11 -->\n",
       "<g id=\"node3\" class=\"node\">\n",
       "<title>out_n11</title>\n",
       "<polygon fill=\"none\" stroke=\"black\" points=\"629.12,-438.04 538.88,-438.04 538.88,-380.54 629.12,-380.54 629.12,-438.04\"/>\n",
       "<text text-anchor=\"middle\" x=\"584\" y=\"-420.74\" font-family=\"Times,serif\" font-size=\"14.00\">out_n11</text>\n",
       "<text text-anchor=\"middle\" x=\"584\" y=\"-404.24\" font-family=\"Times,serif\" font-size=\"14.00\">~</text>\n",
       "<text text-anchor=\"middle\" x=\"584\" y=\"-387.74\" font-family=\"Times,serif\" font-size=\"14.00\">Deterministic</text>\n",
       "</g>\n",
       "<!-- X&#45;&gt;out_n11 -->\n",
       "<g id=\"edge6\" class=\"edge\">\n",
       "<title>X&#45;&gt;out_n11</title>\n",
       "<path fill=\"none\" stroke=\"black\" d=\"M72.27,-502.02C80.89,-486.02 94.08,-467.34 112,-457.95 132.57,-447.17 508,-457.4 530,-449.95 534.4,-448.46 538.74,-446.47 542.94,-444.18\"/>\n",
       "<polygon fill=\"black\" stroke=\"black\" points=\"544.44,-447.36 551.12,-439.14 540.77,-441.4 544.44,-447.36\"/>\n",
       "</g>\n",
       "<!-- out_n12 -->\n",
       "<g id=\"node6\" class=\"node\">\n",
       "<title>out_n12</title>\n",
       "<polygon fill=\"none\" stroke=\"black\" points=\"413.12,-438.04 322.88,-438.04 322.88,-380.54 413.12,-380.54 413.12,-438.04\"/>\n",
       "<text text-anchor=\"middle\" x=\"368\" y=\"-420.74\" font-family=\"Times,serif\" font-size=\"14.00\">out_n12</text>\n",
       "<text text-anchor=\"middle\" x=\"368\" y=\"-404.24\" font-family=\"Times,serif\" font-size=\"14.00\">~</text>\n",
       "<text text-anchor=\"middle\" x=\"368\" y=\"-387.74\" font-family=\"Times,serif\" font-size=\"14.00\">Deterministic</text>\n",
       "</g>\n",
       "<!-- X&#45;&gt;out_n12 -->\n",
       "<g id=\"edge9\" class=\"edge\">\n",
       "<title>X&#45;&gt;out_n12</title>\n",
       "<path fill=\"none\" stroke=\"black\" d=\"M72.34,-502.15C80.98,-486.2 94.18,-467.52 112,-457.95 131.79,-447.32 292.8,-457.37 314,-449.95 318.2,-448.48 322.36,-446.56 326.38,-444.37\"/>\n",
       "<polygon fill=\"black\" stroke=\"black\" points=\"328.09,-447.42 334.79,-439.21 324.43,-441.46 328.09,-447.42\"/>\n",
       "</g>\n",
       "<!-- out_n13 -->\n",
       "<g id=\"node8\" class=\"node\">\n",
       "<title>out_n13</title>\n",
       "<polygon fill=\"none\" stroke=\"black\" points=\"305.12,-438.04 214.88,-438.04 214.88,-380.54 305.12,-380.54 305.12,-438.04\"/>\n",
       "<text text-anchor=\"middle\" x=\"260\" y=\"-420.74\" font-family=\"Times,serif\" font-size=\"14.00\">out_n13</text>\n",
       "<text text-anchor=\"middle\" x=\"260\" y=\"-404.24\" font-family=\"Times,serif\" font-size=\"14.00\">~</text>\n",
       "<text text-anchor=\"middle\" x=\"260\" y=\"-387.74\" font-family=\"Times,serif\" font-size=\"14.00\">Deterministic</text>\n",
       "</g>\n",
       "<!-- X&#45;&gt;out_n13 -->\n",
       "<g id=\"edge13\" class=\"edge\">\n",
       "<title>X&#45;&gt;out_n13</title>\n",
       "<path fill=\"none\" stroke=\"black\" d=\"M74.44,-502.04C83.42,-487.06 96.27,-469.4 112,-457.95 138.9,-438.38 174.21,-426.61 203.59,-419.66\"/>\n",
       "<polygon fill=\"black\" stroke=\"black\" points=\"204.05,-423.14 213.05,-417.55 202.53,-416.31 204.05,-423.14\"/>\n",
       "</g>\n",
       "<!-- out_dn22 -->\n",
       "<g id=\"node5\" class=\"node\">\n",
       "<title>out_dn22</title>\n",
       "<polygon fill=\"none\" stroke=\"black\" points=\"521.12,-320.73 430.88,-320.73 430.88,-263.23 521.12,-263.23 521.12,-320.73\"/>\n",
       "<text text-anchor=\"middle\" x=\"476\" y=\"-303.43\" font-family=\"Times,serif\" font-size=\"14.00\">out_dn22</text>\n",
       "<text text-anchor=\"middle\" x=\"476\" y=\"-286.93\" font-family=\"Times,serif\" font-size=\"14.00\">~</text>\n",
       "<text text-anchor=\"middle\" x=\"476\" y=\"-270.43\" font-family=\"Times,serif\" font-size=\"14.00\">Deterministic</text>\n",
       "</g>\n",
       "<!-- out_n10&#45;&gt;out_dn22 -->\n",
       "<g id=\"edge45\" class=\"edge\">\n",
       "<title>out_n10&#45;&gt;out_dn22</title>\n",
       "<path fill=\"none\" stroke=\"black\" d=\"M476,-380.08C476,-365.74 476,-348.07 476,-332.4\"/>\n",
       "<polygon fill=\"black\" stroke=\"black\" points=\"479.5,-332.41 476,-322.41 472.5,-332.41 479.5,-332.41\"/>\n",
       "</g>\n",
       "<!-- out_dn20 -->\n",
       "<g id=\"node9\" class=\"node\">\n",
       "<title>out_dn20</title>\n",
       "<polygon fill=\"none\" stroke=\"black\" points=\"629.12,-320.73 538.88,-320.73 538.88,-263.23 629.12,-263.23 629.12,-320.73\"/>\n",
       "<text text-anchor=\"middle\" x=\"584\" y=\"-303.43\" font-family=\"Times,serif\" font-size=\"14.00\">out_dn20</text>\n",
       "<text text-anchor=\"middle\" x=\"584\" y=\"-286.93\" font-family=\"Times,serif\" font-size=\"14.00\">~</text>\n",
       "<text text-anchor=\"middle\" x=\"584\" y=\"-270.43\" font-family=\"Times,serif\" font-size=\"14.00\">Deterministic</text>\n",
       "</g>\n",
       "<!-- out_n10&#45;&gt;out_dn20 -->\n",
       "<g id=\"edge18\" class=\"edge\">\n",
       "<title>out_n10&#45;&gt;out_dn20</title>\n",
       "<path fill=\"none\" stroke=\"black\" d=\"M502.42,-380.08C516.78,-364.75 534.69,-345.62 550.07,-329.2\"/>\n",
       "<polygon fill=\"black\" stroke=\"black\" points=\"552.54,-331.69 556.82,-322 547.43,-326.91 552.54,-331.69\"/>\n",
       "</g>\n",
       "<!-- out_dn21 -->\n",
       "<g id=\"node10\" class=\"node\">\n",
       "<title>out_dn21</title>\n",
       "<polygon fill=\"none\" stroke=\"black\" points=\"413.12,-320.73 322.88,-320.73 322.88,-263.23 413.12,-263.23 413.12,-320.73\"/>\n",
       "<text text-anchor=\"middle\" x=\"368\" y=\"-303.43\" font-family=\"Times,serif\" font-size=\"14.00\">out_dn21</text>\n",
       "<text text-anchor=\"middle\" x=\"368\" y=\"-286.93\" font-family=\"Times,serif\" font-size=\"14.00\">~</text>\n",
       "<text text-anchor=\"middle\" x=\"368\" y=\"-270.43\" font-family=\"Times,serif\" font-size=\"14.00\">Deterministic</text>\n",
       "</g>\n",
       "<!-- out_n10&#45;&gt;out_dn21 -->\n",
       "<g id=\"edge33\" class=\"edge\">\n",
       "<title>out_n10&#45;&gt;out_dn21</title>\n",
       "<path fill=\"none\" stroke=\"black\" d=\"M449.58,-380.08C435.22,-364.75 417.31,-345.62 401.93,-329.2\"/>\n",
       "<polygon fill=\"black\" stroke=\"black\" points=\"404.57,-326.91 395.18,-322 399.46,-331.69 404.57,-326.91\"/>\n",
       "</g>\n",
       "<!-- out_n11&#45;&gt;out_dn22 -->\n",
       "<g id=\"edge46\" class=\"edge\">\n",
       "<title>out_n11&#45;&gt;out_dn22</title>\n",
       "<path fill=\"none\" stroke=\"black\" d=\"M557.58,-380.08C543.22,-364.75 525.31,-345.62 509.93,-329.2\"/>\n",
       "<polygon fill=\"black\" stroke=\"black\" points=\"512.57,-326.91 503.18,-322 507.46,-331.69 512.57,-326.91\"/>\n",
       "</g>\n",
       "<!-- out_n11&#45;&gt;out_dn20 -->\n",
       "<g id=\"edge20\" class=\"edge\">\n",
       "<title>out_n11&#45;&gt;out_dn20</title>\n",
       "<path fill=\"none\" stroke=\"black\" d=\"M584,-380.08C584,-365.74 584,-348.07 584,-332.4\"/>\n",
       "<polygon fill=\"black\" stroke=\"black\" points=\"587.5,-332.41 584,-322.41 580.5,-332.41 587.5,-332.41\"/>\n",
       "</g>\n",
       "<!-- out_n11&#45;&gt;out_dn21 -->\n",
       "<g id=\"edge35\" class=\"edge\">\n",
       "<title>out_n11&#45;&gt;out_dn21</title>\n",
       "<path fill=\"none\" stroke=\"black\" d=\"M549,-380.2C542.87,-375.98 536.4,-371.95 530,-368.63 485.07,-345.38 466.93,-355.89 422,-332.63 418.8,-330.98 415.58,-329.14 412.4,-327.19\"/>\n",
       "<polygon fill=\"black\" stroke=\"black\" points=\"414.56,-324.42 404.27,-321.9 410.74,-330.29 414.56,-324.42\"/>\n",
       "</g>\n",
       "<!-- age_of_tree -->\n",
       "<g id=\"node4\" class=\"node\">\n",
       "<title>age_of_tree</title>\n",
       "<ellipse fill=\"lightgrey\" stroke=\"black\" cx=\"573\" cy=\"-174.66\" rx=\"56.39\" ry=\"40.66\"/>\n",
       "<text text-anchor=\"middle\" x=\"573\" y=\"-186.11\" font-family=\"Times,serif\" font-size=\"14.00\">age_of_tree</text>\n",
       "<text text-anchor=\"middle\" x=\"573\" y=\"-169.61\" font-family=\"Times,serif\" font-size=\"14.00\">~</text>\n",
       "<text text-anchor=\"middle\" x=\"573\" y=\"-153.11\" font-family=\"Times,serif\" font-size=\"14.00\">StudentT</text>\n",
       "</g>\n",
       "<!-- y -->\n",
       "<g id=\"node7\" class=\"node\">\n",
       "<title>y</title>\n",
       "<path fill=\"lightgrey\" stroke=\"black\" d=\"M604.62,-98C604.62,-98 541.38,-98 541.38,-98 535.38,-98 529.38,-92 529.38,-86 529.38,-86 529.38,-52.5 529.38,-52.5 529.38,-46.5 535.38,-40.5 541.38,-40.5 541.38,-40.5 604.62,-40.5 604.62,-40.5 610.62,-40.5 616.62,-46.5 616.62,-52.5 616.62,-52.5 616.62,-86 616.62,-86 616.62,-92 610.62,-98 604.62,-98\"/>\n",
       "<text text-anchor=\"middle\" x=\"573\" y=\"-80.7\" font-family=\"Times,serif\" font-size=\"14.00\">y</text>\n",
       "<text text-anchor=\"middle\" x=\"573\" y=\"-64.2\" font-family=\"Times,serif\" font-size=\"14.00\">~</text>\n",
       "<text text-anchor=\"middle\" x=\"573\" y=\"-47.7\" font-family=\"Times,serif\" font-size=\"14.00\">MutableData</text>\n",
       "</g>\n",
       "<!-- age_of_tree&#45;&gt;y -->\n",
       "<g id=\"edge1\" class=\"edge\">\n",
       "<title>age_of_tree&#45;&gt;y</title>\n",
       "<path fill=\"none\" stroke=\"black\" d=\"M573,-133.68C573,-125.83 573,-117.6 573,-109.76\"/>\n",
       "<polygon fill=\"black\" stroke=\"black\" points=\"576.5,-109.79 573,-99.79 569.5,-109.79 576.5,-109.79\"/>\n",
       "</g>\n",
       "<!-- out_dn22&#45;&gt;age_of_tree -->\n",
       "<g id=\"edge58\" class=\"edge\">\n",
       "<title>out_dn22&#45;&gt;age_of_tree</title>\n",
       "<path fill=\"none\" stroke=\"black\" d=\"M499.73,-262.77C510.98,-249.39 524.67,-233.12 537.15,-218.28\"/>\n",
       "<polygon fill=\"black\" stroke=\"black\" points=\"539.6,-220.8 543.36,-210.9 534.24,-216.3 539.6,-220.8\"/>\n",
       "</g>\n",
       "<!-- out_n12&#45;&gt;out_dn22 -->\n",
       "<g id=\"edge47\" class=\"edge\">\n",
       "<title>out_n12&#45;&gt;out_dn22</title>\n",
       "<path fill=\"none\" stroke=\"black\" d=\"M394.42,-380.08C408.78,-364.75 426.69,-345.62 442.07,-329.2\"/>\n",
       "<polygon fill=\"black\" stroke=\"black\" points=\"444.54,-331.69 448.82,-322 439.43,-326.91 444.54,-331.69\"/>\n",
       "</g>\n",
       "<!-- out_n12&#45;&gt;out_dn20 -->\n",
       "<g id=\"edge22\" class=\"edge\">\n",
       "<title>out_n12&#45;&gt;out_dn20</title>\n",
       "<path fill=\"none\" stroke=\"black\" d=\"M403,-380.2C409.13,-375.98 415.6,-371.95 422,-368.63 466.93,-345.38 485.07,-355.89 530,-332.63 533.2,-330.98 536.42,-329.14 539.6,-327.19\"/>\n",
       "<polygon fill=\"black\" stroke=\"black\" points=\"541.26,-330.29 547.73,-321.9 537.44,-324.42 541.26,-330.29\"/>\n",
       "</g>\n",
       "<!-- out_n12&#45;&gt;out_dn21 -->\n",
       "<g id=\"edge36\" class=\"edge\">\n",
       "<title>out_n12&#45;&gt;out_dn21</title>\n",
       "<path fill=\"none\" stroke=\"black\" d=\"M368,-380.08C368,-365.74 368,-348.07 368,-332.4\"/>\n",
       "<polygon fill=\"black\" stroke=\"black\" points=\"371.5,-332.41 368,-322.41 364.5,-332.41 371.5,-332.41\"/>\n",
       "</g>\n",
       "<!-- out_n13&#45;&gt;out_dn22 -->\n",
       "<g id=\"edge49\" class=\"edge\">\n",
       "<title>out_n13&#45;&gt;out_dn22</title>\n",
       "<path fill=\"none\" stroke=\"black\" d=\"M295,-380.2C301.13,-375.98 307.6,-371.95 314,-368.63 358.93,-345.38 377.07,-355.89 422,-332.63 425.2,-330.98 428.42,-329.14 431.6,-327.19\"/>\n",
       "<polygon fill=\"black\" stroke=\"black\" points=\"433.26,-330.29 439.73,-321.9 429.44,-324.42 433.26,-330.29\"/>\n",
       "</g>\n",
       "<!-- out_n13&#45;&gt;out_dn20 -->\n",
       "<g id=\"edge23\" class=\"edge\">\n",
       "<title>out_n13&#45;&gt;out_dn20</title>\n",
       "<path fill=\"none\" stroke=\"black\" d=\"M293.39,-380.12C299.91,-375.7 306.93,-371.62 314,-368.63 403.67,-330.8 440.33,-370.47 530,-332.63 533.76,-331.05 537.5,-329.15 541.16,-327.06\"/>\n",
       "<polygon fill=\"black\" stroke=\"black\" points=\"542.7,-330.23 549.32,-321.96 538.99,-324.29 542.7,-330.23\"/>\n",
       "</g>\n",
       "<!-- out_n13&#45;&gt;out_dn21 -->\n",
       "<g id=\"edge37\" class=\"edge\">\n",
       "<title>out_n13&#45;&gt;out_dn21</title>\n",
       "<path fill=\"none\" stroke=\"black\" d=\"M286.42,-380.08C300.78,-364.75 318.69,-345.62 334.07,-329.2\"/>\n",
       "<polygon fill=\"black\" stroke=\"black\" points=\"336.54,-331.69 340.82,-322 331.43,-326.91 336.54,-331.69\"/>\n",
       "</g>\n",
       "<!-- out_dn20&#45;&gt;age_of_tree -->\n",
       "<g id=\"edge60\" class=\"edge\">\n",
       "<title>out_dn20&#45;&gt;age_of_tree</title>\n",
       "<path fill=\"none\" stroke=\"black\" d=\"M581.31,-262.77C580.27,-251.84 579.04,-238.99 577.86,-226.56\"/>\n",
       "<polygon fill=\"black\" stroke=\"black\" points=\"581.36,-226.46 576.93,-216.84 574.39,-227.13 581.36,-226.46\"/>\n",
       "</g>\n",
       "<!-- out_dn21&#45;&gt;age_of_tree -->\n",
       "<g id=\"edge62\" class=\"edge\">\n",
       "<title>out_dn21&#45;&gt;age_of_tree</title>\n",
       "<path fill=\"none\" stroke=\"black\" d=\"M404.61,-262.82C410.33,-258.8 416.24,-254.84 422,-251.32 451.74,-233.13 486.43,-215.51 515.05,-201.86\"/>\n",
       "<polygon fill=\"black\" stroke=\"black\" points=\"516.39,-205.1 523.93,-197.67 513.4,-198.77 516.39,-205.1\"/>\n",
       "</g>\n",
       "<!-- coeff_n20_0 -->\n",
       "<g id=\"node11\" class=\"node\">\n",
       "<title>coeff_n20_0</title>\n",
       "<ellipse fill=\"none\" stroke=\"black\" cx=\"2649\" cy=\"-409.29\" rx=\"59.57\" ry=\"40.66\"/>\n",
       "<text text-anchor=\"middle\" x=\"2649\" y=\"-420.74\" font-family=\"Times,serif\" font-size=\"14.00\">coeff_n20_0</text>\n",
       "<text text-anchor=\"middle\" x=\"2649\" y=\"-404.24\" font-family=\"Times,serif\" font-size=\"14.00\">~</text>\n",
       "<text text-anchor=\"middle\" x=\"2649\" y=\"-387.74\" font-family=\"Times,serif\" font-size=\"14.00\">StudentT</text>\n",
       "</g>\n",
       "<!-- coeff_n20_0&#45;&gt;out_dn20 -->\n",
       "<g id=\"edge21\" class=\"edge\">\n",
       "<title>coeff_n20_0&#45;&gt;out_dn20</title>\n",
       "<path fill=\"none\" stroke=\"black\" d=\"M2607.69,-379.8C2599.21,-375.23 2590.08,-371.18 2581,-368.63 2373.09,-310.36 842.55,-401.78 638,-332.63 633.6,-331.15 629.26,-329.16 625.06,-326.86\"/>\n",
       "<polygon fill=\"black\" stroke=\"black\" points=\"627.23,-324.08 616.88,-321.82 623.56,-330.04 627.23,-324.08\"/>\n",
       "</g>\n",
       "<!-- intercept_n30 -->\n",
       "<g id=\"node12\" class=\"node\">\n",
       "<title>intercept_n30</title>\n",
       "<ellipse fill=\"none\" stroke=\"black\" cx=\"848\" cy=\"-291.98\" rx=\"63.82\" ry=\"40.66\"/>\n",
       "<text text-anchor=\"middle\" x=\"848\" y=\"-303.43\" font-family=\"Times,serif\" font-size=\"14.00\">intercept_n30</text>\n",
       "<text text-anchor=\"middle\" x=\"848\" y=\"-286.93\" font-family=\"Times,serif\" font-size=\"14.00\">~</text>\n",
       "<text text-anchor=\"middle\" x=\"848\" y=\"-270.43\" font-family=\"Times,serif\" font-size=\"14.00\">StudentT</text>\n",
       "</g>\n",
       "<!-- intercept_n30&#45;&gt;age_of_tree -->\n",
       "<g id=\"edge57\" class=\"edge\">\n",
       "<title>intercept_n30&#45;&gt;age_of_tree</title>\n",
       "<path fill=\"none\" stroke=\"black\" d=\"M801.26,-263.94C792.95,-259.51 784.3,-255.13 776,-251.32 729.65,-230.06 675.46,-210.1 634.74,-196.02\"/>\n",
       "<polygon fill=\"black\" stroke=\"black\" points=\"635.92,-192.72 625.32,-192.79 633.65,-199.35 635.92,-192.72\"/>\n",
       "</g>\n",
       "<!-- sigma_n21 -->\n",
       "<g id=\"node13\" class=\"node\">\n",
       "<title>sigma_n21</title>\n",
       "<ellipse fill=\"none\" stroke=\"black\" cx=\"3050\" cy=\"-409.29\" rx=\"57.45\" ry=\"40.66\"/>\n",
       "<text text-anchor=\"middle\" x=\"3050\" y=\"-420.74\" font-family=\"Times,serif\" font-size=\"14.00\">sigma_n21</text>\n",
       "<text text-anchor=\"middle\" x=\"3050\" y=\"-404.24\" font-family=\"Times,serif\" font-size=\"14.00\">~</text>\n",
       "<text text-anchor=\"middle\" x=\"3050\" y=\"-387.74\" font-family=\"Times,serif\" font-size=\"14.00\">HalfCauchy</text>\n",
       "</g>\n",
       "<!-- coeff_n30_1 -->\n",
       "<g id=\"node28\" class=\"node\">\n",
       "<title>coeff_n30_1</title>\n",
       "<ellipse fill=\"none\" stroke=\"black\" cx=\"2602\" cy=\"-291.98\" rx=\"59.57\" ry=\"40.66\"/>\n",
       "<text text-anchor=\"middle\" x=\"2602\" y=\"-303.43\" font-family=\"Times,serif\" font-size=\"14.00\">coeff_n30_1</text>\n",
       "<text text-anchor=\"middle\" x=\"2602\" y=\"-286.93\" font-family=\"Times,serif\" font-size=\"14.00\">~</text>\n",
       "<text text-anchor=\"middle\" x=\"2602\" y=\"-270.43\" font-family=\"Times,serif\" font-size=\"14.00\">StudentT</text>\n",
       "</g>\n",
       "<!-- sigma_n21&#45;&gt;coeff_n30_1 -->\n",
       "<g id=\"edge54\" class=\"edge\">\n",
       "<title>sigma_n21&#45;&gt;coeff_n30_1</title>\n",
       "<path fill=\"none\" stroke=\"black\" d=\"M3008.56,-380.85C3000.34,-376.25 2991.59,-371.92 2983,-368.63 2878.84,-328.8 2750.26,-308.86 2672.28,-299.73\"/>\n",
       "<polygon fill=\"black\" stroke=\"black\" points=\"2672.99,-296.29 2662.66,-298.63 2672.2,-303.25 2672.99,-296.29\"/>\n",
       "</g>\n",
       "<!-- sigma_n20 -->\n",
       "<g id=\"node14\" class=\"node\">\n",
       "<title>sigma_n20</title>\n",
       "<ellipse fill=\"none\" stroke=\"black\" cx=\"2917\" cy=\"-409.29\" rx=\"57.45\" ry=\"40.66\"/>\n",
       "<text text-anchor=\"middle\" x=\"2917\" y=\"-420.74\" font-family=\"Times,serif\" font-size=\"14.00\">sigma_n20</text>\n",
       "<text text-anchor=\"middle\" x=\"2917\" y=\"-404.24\" font-family=\"Times,serif\" font-size=\"14.00\">~</text>\n",
       "<text text-anchor=\"middle\" x=\"2917\" y=\"-387.74\" font-family=\"Times,serif\" font-size=\"14.00\">HalfCauchy</text>\n",
       "</g>\n",
       "<!-- coeff_n30_0 -->\n",
       "<g id=\"node22\" class=\"node\">\n",
       "<title>coeff_n30_0</title>\n",
       "<ellipse fill=\"none\" stroke=\"black\" cx=\"2017\" cy=\"-291.98\" rx=\"59.57\" ry=\"40.66\"/>\n",
       "<text text-anchor=\"middle\" x=\"2017\" y=\"-303.43\" font-family=\"Times,serif\" font-size=\"14.00\">coeff_n30_0</text>\n",
       "<text text-anchor=\"middle\" x=\"2017\" y=\"-286.93\" font-family=\"Times,serif\" font-size=\"14.00\">~</text>\n",
       "<text text-anchor=\"middle\" x=\"2017\" y=\"-270.43\" font-family=\"Times,serif\" font-size=\"14.00\">StudentT</text>\n",
       "</g>\n",
       "<!-- sigma_n20&#45;&gt;coeff_n30_0 -->\n",
       "<g id=\"edge53\" class=\"edge\">\n",
       "<title>sigma_n20&#45;&gt;coeff_n30_0</title>\n",
       "<path fill=\"none\" stroke=\"black\" d=\"M2876.18,-380.31C2867.83,-375.7 2858.87,-371.5 2850,-368.63 2813.93,-356.98 2282.35,-313.99 2087.72,-298.55\"/>\n",
       "<polygon fill=\"black\" stroke=\"black\" points=\"2088.25,-295.08 2078.01,-297.78 2087.7,-302.06 2088.25,-295.08\"/>\n",
       "</g>\n",
       "<!-- intercept_n21 -->\n",
       "<g id=\"node15\" class=\"node\">\n",
       "<title>intercept_n21</title>\n",
       "<ellipse fill=\"none\" stroke=\"black\" cx=\"1122\" cy=\"-409.29\" rx=\"63.82\" ry=\"40.66\"/>\n",
       "<text text-anchor=\"middle\" x=\"1122\" y=\"-420.74\" font-family=\"Times,serif\" font-size=\"14.00\">intercept_n21</text>\n",
       "<text text-anchor=\"middle\" x=\"1122\" y=\"-404.24\" font-family=\"Times,serif\" font-size=\"14.00\">~</text>\n",
       "<text text-anchor=\"middle\" x=\"1122\" y=\"-387.74\" font-family=\"Times,serif\" font-size=\"14.00\">StudentT</text>\n",
       "</g>\n",
       "<!-- intercept_n21&#45;&gt;out_dn21 -->\n",
       "<g id=\"edge38\" class=\"edge\">\n",
       "<title>intercept_n21&#45;&gt;out_dn21</title>\n",
       "<path fill=\"none\" stroke=\"black\" d=\"M1077.63,-379.89C1068.78,-375.38 1059.33,-371.32 1050,-368.63 781.35,-291.28 685.06,-427.28 422,-332.63 417.87,-331.15 413.78,-329.24 409.82,-327.06\"/>\n",
       "<polygon fill=\"black\" stroke=\"black\" points=\"411.9,-324.23 401.55,-321.99 408.24,-330.2 411.9,-324.23\"/>\n",
       "</g>\n",
       "<!-- coeff_n20_2 -->\n",
       "<g id=\"node16\" class=\"node\">\n",
       "<title>coeff_n20_2</title>\n",
       "<ellipse fill=\"none\" stroke=\"black\" cx=\"2093\" cy=\"-409.29\" rx=\"59.57\" ry=\"40.66\"/>\n",
       "<text text-anchor=\"middle\" x=\"2093\" y=\"-420.74\" font-family=\"Times,serif\" font-size=\"14.00\">coeff_n20_2</text>\n",
       "<text text-anchor=\"middle\" x=\"2093\" y=\"-404.24\" font-family=\"Times,serif\" font-size=\"14.00\">~</text>\n",
       "<text text-anchor=\"middle\" x=\"2093\" y=\"-387.74\" font-family=\"Times,serif\" font-size=\"14.00\">StudentT</text>\n",
       "</g>\n",
       "<!-- coeff_n20_2&#45;&gt;out_dn20 -->\n",
       "<g id=\"edge25\" class=\"edge\">\n",
       "<title>coeff_n20_2&#45;&gt;out_dn20</title>\n",
       "<path fill=\"none\" stroke=\"black\" d=\"M2051.68,-379.85C2043.19,-375.28 2034.07,-371.21 2025,-368.63 1876.71,-326.48 783.86,-382.55 638,-332.63 633.79,-331.19 629.63,-329.3 625.6,-327.11\"/>\n",
       "<polygon fill=\"black\" stroke=\"black\" points=\"627.55,-324.2 617.19,-321.97 623.9,-330.17 627.55,-324.2\"/>\n",
       "</g>\n",
       "<!-- coeff_n22_2 -->\n",
       "<g id=\"node17\" class=\"node\">\n",
       "<title>coeff_n22_2</title>\n",
       "<ellipse fill=\"none\" stroke=\"black\" cx=\"1400\" cy=\"-409.29\" rx=\"59.57\" ry=\"40.66\"/>\n",
       "<text text-anchor=\"middle\" x=\"1400\" y=\"-420.74\" font-family=\"Times,serif\" font-size=\"14.00\">coeff_n22_2</text>\n",
       "<text text-anchor=\"middle\" x=\"1400\" y=\"-404.24\" font-family=\"Times,serif\" font-size=\"14.00\">~</text>\n",
       "<text text-anchor=\"middle\" x=\"1400\" y=\"-387.74\" font-family=\"Times,serif\" font-size=\"14.00\">StudentT</text>\n",
       "</g>\n",
       "<!-- coeff_n22_2&#45;&gt;out_dn22 -->\n",
       "<g id=\"edge51\" class=\"edge\">\n",
       "<title>coeff_n22_2&#45;&gt;out_dn22</title>\n",
       "<path fill=\"none\" stroke=\"black\" d=\"M1358.27,-379.79C1349.89,-375.29 1340.91,-371.26 1332,-368.63 1160.87,-318.23 698.24,-391.99 530,-332.63 525.8,-331.15 521.65,-329.23 517.63,-327.02\"/>\n",
       "<polygon fill=\"black\" stroke=\"black\" points=\"519.58,-324.12 509.23,-321.86 515.91,-330.08 519.58,-324.12\"/>\n",
       "</g>\n",
       "<!-- sigma_n30 -->\n",
       "<g id=\"node18\" class=\"node\">\n",
       "<title>sigma_n30</title>\n",
       "<ellipse fill=\"none\" stroke=\"black\" cx=\"987\" cy=\"-291.98\" rx=\"57.45\" ry=\"40.66\"/>\n",
       "<text text-anchor=\"middle\" x=\"987\" y=\"-303.43\" font-family=\"Times,serif\" font-size=\"14.00\">sigma_n30</text>\n",
       "<text text-anchor=\"middle\" x=\"987\" y=\"-286.93\" font-family=\"Times,serif\" font-size=\"14.00\">~</text>\n",
       "<text text-anchor=\"middle\" x=\"987\" y=\"-270.43\" font-family=\"Times,serif\" font-size=\"14.00\">HalfCauchy</text>\n",
       "</g>\n",
       "<!-- sigma_n30&#45;&gt;age_of_tree -->\n",
       "<g id=\"edge56\" class=\"edge\">\n",
       "<title>sigma_n30&#45;&gt;age_of_tree</title>\n",
       "<path fill=\"none\" stroke=\"black\" d=\"M945.81,-263.44C937.81,-258.91 929.33,-254.62 921,-251.32 827.17,-214.1 711.48,-193.58 639.97,-183.6\"/>\n",
       "<polygon fill=\"black\" stroke=\"black\" points=\"640.77,-180.18 630.39,-182.29 639.82,-187.11 640.77,-180.18\"/>\n",
       "</g>\n",
       "<!-- coeff_n21_1 -->\n",
       "<g id=\"node19\" class=\"node\">\n",
       "<title>coeff_n21_1</title>\n",
       "<ellipse fill=\"none\" stroke=\"black\" cx=\"981\" cy=\"-409.29\" rx=\"59.57\" ry=\"40.66\"/>\n",
       "<text text-anchor=\"middle\" x=\"981\" y=\"-420.74\" font-family=\"Times,serif\" font-size=\"14.00\">coeff_n21_1</text>\n",
       "<text text-anchor=\"middle\" x=\"981\" y=\"-404.24\" font-family=\"Times,serif\" font-size=\"14.00\">~</text>\n",
       "<text text-anchor=\"middle\" x=\"981\" y=\"-387.74\" font-family=\"Times,serif\" font-size=\"14.00\">StudentT</text>\n",
       "</g>\n",
       "<!-- coeff_n21_1&#45;&gt;out_dn21 -->\n",
       "<g id=\"edge32\" class=\"edge\">\n",
       "<title>coeff_n21_1&#45;&gt;out_dn21</title>\n",
       "<path fill=\"none\" stroke=\"black\" d=\"M939.21,-379.99C930.84,-375.47 921.88,-371.39 913,-368.63 704,-303.85 627.29,-408.35 422,-332.63 417.88,-331.12 413.8,-329.18 409.85,-326.99\"/>\n",
       "<polygon fill=\"black\" stroke=\"black\" points=\"411.93,-324.16 401.58,-321.89 408.25,-330.12 411.93,-324.16\"/>\n",
       "</g>\n",
       "<!-- coeff_n21_0 -->\n",
       "<g id=\"node20\" class=\"node\">\n",
       "<title>coeff_n21_0</title>\n",
       "<ellipse fill=\"none\" stroke=\"black\" cx=\"1674\" cy=\"-409.29\" rx=\"59.57\" ry=\"40.66\"/>\n",
       "<text text-anchor=\"middle\" x=\"1674\" y=\"-420.74\" font-family=\"Times,serif\" font-size=\"14.00\">coeff_n21_0</text>\n",
       "<text text-anchor=\"middle\" x=\"1674\" y=\"-404.24\" font-family=\"Times,serif\" font-size=\"14.00\">~</text>\n",
       "<text text-anchor=\"middle\" x=\"1674\" y=\"-387.74\" font-family=\"Times,serif\" font-size=\"14.00\">StudentT</text>\n",
       "</g>\n",
       "<!-- coeff_n21_0&#45;&gt;out_dn21 -->\n",
       "<g id=\"edge34\" class=\"edge\">\n",
       "<title>coeff_n21_0&#45;&gt;out_dn21</title>\n",
       "<path fill=\"none\" stroke=\"black\" d=\"M1632.3,-379.69C1623.92,-375.19 1614.93,-371.2 1606,-368.63 1352.96,-296.09 670.86,-418.41 422,-332.63 417.79,-331.18 413.63,-329.28 409.6,-327.09\"/>\n",
       "<polygon fill=\"black\" stroke=\"black\" points=\"411.55,-324.18 401.2,-321.95 407.9,-330.15 411.55,-324.18\"/>\n",
       "</g>\n",
       "<!-- sigma_n11 -->\n",
       "<g id=\"node21\" class=\"node\">\n",
       "<title>sigma_n11</title>\n",
       "<ellipse fill=\"none\" stroke=\"black\" cx=\"1537\" cy=\"-531.11\" rx=\"57.45\" ry=\"40.66\"/>\n",
       "<text text-anchor=\"middle\" x=\"1537\" y=\"-542.56\" font-family=\"Times,serif\" font-size=\"14.00\">sigma_n11</text>\n",
       "<text text-anchor=\"middle\" x=\"1537\" y=\"-526.06\" font-family=\"Times,serif\" font-size=\"14.00\">~</text>\n",
       "<text text-anchor=\"middle\" x=\"1537\" y=\"-509.56\" font-family=\"Times,serif\" font-size=\"14.00\">HalfCauchy</text>\n",
       "</g>\n",
       "<!-- sigma_n11&#45;&gt;coeff_n21_1 -->\n",
       "<g id=\"edge28\" class=\"edge\">\n",
       "<title>sigma_n11&#45;&gt;coeff_n21_1</title>\n",
       "<path fill=\"none\" stroke=\"black\" d=\"M1511.72,-494.31C1499.65,-480.25 1483.92,-465.66 1466,-457.95 1423.43,-439.64 1093.62,-462.47 1049,-449.95 1043.47,-448.4 1037.92,-446.29 1032.51,-443.84\"/>\n",
       "<polygon fill=\"black\" stroke=\"black\" points=\"1034.18,-440.76 1023.67,-439.46 1031.07,-447.03 1034.18,-440.76\"/>\n",
       "</g>\n",
       "<!-- coeff_n20_1 -->\n",
       "<g id=\"node25\" class=\"node\">\n",
       "<title>coeff_n20_1</title>\n",
       "<ellipse fill=\"none\" stroke=\"black\" cx=\"2230\" cy=\"-409.29\" rx=\"59.57\" ry=\"40.66\"/>\n",
       "<text text-anchor=\"middle\" x=\"2230\" y=\"-420.74\" font-family=\"Times,serif\" font-size=\"14.00\">coeff_n20_1</text>\n",
       "<text text-anchor=\"middle\" x=\"2230\" y=\"-404.24\" font-family=\"Times,serif\" font-size=\"14.00\">~</text>\n",
       "<text text-anchor=\"middle\" x=\"2230\" y=\"-387.74\" font-family=\"Times,serif\" font-size=\"14.00\">StudentT</text>\n",
       "</g>\n",
       "<!-- sigma_n11&#45;&gt;coeff_n20_1 -->\n",
       "<g id=\"edge15\" class=\"edge\">\n",
       "<title>sigma_n11&#45;&gt;coeff_n20_1</title>\n",
       "<path fill=\"none\" stroke=\"black\" d=\"M1594.73,-530.3C1707.07,-529.02 1961.59,-518.1 2162,-449.95 2167.28,-448.16 2172.61,-445.92 2177.83,-443.44\"/>\n",
       "<polygon fill=\"black\" stroke=\"black\" points=\"2179.04,-446.75 2186.36,-439.09 2175.86,-440.52 2179.04,-446.75\"/>\n",
       "</g>\n",
       "<!-- coeff_n22_1 -->\n",
       "<g id=\"node37\" class=\"node\">\n",
       "<title>coeff_n22_1</title>\n",
       "<ellipse fill=\"none\" stroke=\"black\" cx=\"1537\" cy=\"-409.29\" rx=\"59.57\" ry=\"40.66\"/>\n",
       "<text text-anchor=\"middle\" x=\"1537\" y=\"-420.74\" font-family=\"Times,serif\" font-size=\"14.00\">coeff_n22_1</text>\n",
       "<text text-anchor=\"middle\" x=\"1537\" y=\"-404.24\" font-family=\"Times,serif\" font-size=\"14.00\">~</text>\n",
       "<text text-anchor=\"middle\" x=\"1537\" y=\"-387.74\" font-family=\"Times,serif\" font-size=\"14.00\">StudentT</text>\n",
       "</g>\n",
       "<!-- sigma_n11&#45;&gt;coeff_n22_1 -->\n",
       "<g id=\"edge41\" class=\"edge\">\n",
       "<title>sigma_n11&#45;&gt;coeff_n22_1</title>\n",
       "<path fill=\"none\" stroke=\"black\" d=\"M1537,-490.21C1537,-481.11 1537,-471.32 1537,-461.81\"/>\n",
       "<polygon fill=\"black\" stroke=\"black\" points=\"1540.5,-461.94 1537,-451.94 1533.5,-461.94 1540.5,-461.94\"/>\n",
       "</g>\n",
       "<!-- coeff_n30_0&#45;&gt;age_of_tree -->\n",
       "<g id=\"edge59\" class=\"edge\">\n",
       "<title>coeff_n30_0&#45;&gt;age_of_tree</title>\n",
       "<path fill=\"none\" stroke=\"black\" d=\"M1957.7,-286.24C1726.4,-267.77 885.53,-200.62 640.46,-181.05\"/>\n",
       "<polygon fill=\"black\" stroke=\"black\" points=\"641,-177.58 630.75,-180.27 640.44,-184.56 641,-177.58\"/>\n",
       "</g>\n",
       "<!-- coeff_n22_3 -->\n",
       "<g id=\"node23\" class=\"node\">\n",
       "<title>coeff_n22_3</title>\n",
       "<ellipse fill=\"none\" stroke=\"black\" cx=\"1263\" cy=\"-409.29\" rx=\"59.57\" ry=\"40.66\"/>\n",
       "<text text-anchor=\"middle\" x=\"1263\" y=\"-420.74\" font-family=\"Times,serif\" font-size=\"14.00\">coeff_n22_3</text>\n",
       "<text text-anchor=\"middle\" x=\"1263\" y=\"-404.24\" font-family=\"Times,serif\" font-size=\"14.00\">~</text>\n",
       "<text text-anchor=\"middle\" x=\"1263\" y=\"-387.74\" font-family=\"Times,serif\" font-size=\"14.00\">StudentT</text>\n",
       "</g>\n",
       "<!-- coeff_n22_3&#45;&gt;out_dn22 -->\n",
       "<g id=\"edge48\" class=\"edge\">\n",
       "<title>coeff_n22_3&#45;&gt;out_dn22</title>\n",
       "<path fill=\"none\" stroke=\"black\" d=\"M1221.25,-379.86C1212.87,-375.35 1203.9,-371.3 1195,-368.63 911.46,-283.7 808.67,-432.39 530,-332.63 525.87,-331.16 521.78,-329.25 517.81,-327.08\"/>\n",
       "<polygon fill=\"black\" stroke=\"black\" points=\"519.9,-324.25 509.54,-322.01 516.24,-330.22 519.9,-324.25\"/>\n",
       "</g>\n",
       "<!-- intercept_n10 -->\n",
       "<g id=\"node24\" class=\"node\">\n",
       "<title>intercept_n10</title>\n",
       "<ellipse fill=\"none\" stroke=\"black\" cx=\"477\" cy=\"-531.11\" rx=\"63.82\" ry=\"40.66\"/>\n",
       "<text text-anchor=\"middle\" x=\"477\" y=\"-542.56\" font-family=\"Times,serif\" font-size=\"14.00\">intercept_n10</text>\n",
       "<text text-anchor=\"middle\" x=\"477\" y=\"-526.06\" font-family=\"Times,serif\" font-size=\"14.00\">~</text>\n",
       "<text text-anchor=\"middle\" x=\"477\" y=\"-509.56\" font-family=\"Times,serif\" font-size=\"14.00\">StudentT</text>\n",
       "</g>\n",
       "<!-- intercept_n10&#45;&gt;out_n10 -->\n",
       "<g id=\"edge3\" class=\"edge\">\n",
       "<title>intercept_n10&#45;&gt;out_n10</title>\n",
       "<path fill=\"none\" stroke=\"black\" d=\"M476.67,-490.21C476.56,-477.18 476.44,-462.73 476.33,-449.73\"/>\n",
       "<polygon fill=\"black\" stroke=\"black\" points=\"479.83,-449.77 476.25,-439.8 472.83,-449.83 479.83,-449.77\"/>\n",
       "</g>\n",
       "<!-- coeff_n20_1&#45;&gt;out_dn20 -->\n",
       "<g id=\"edge26\" class=\"edge\">\n",
       "<title>coeff_n20_1&#45;&gt;out_dn20</title>\n",
       "<path fill=\"none\" stroke=\"black\" d=\"M2188.68,-379.84C2180.2,-375.27 2171.07,-371.2 2162,-368.63 1999.02,-322.51 798.32,-387.29 638,-332.63 633.79,-331.2 629.62,-329.3 625.59,-327.12\"/>\n",
       "<polygon fill=\"black\" stroke=\"black\" points=\"627.54,-324.21 617.18,-321.99 623.9,-330.19 627.54,-324.21\"/>\n",
       "</g>\n",
       "<!-- intercept_n11 -->\n",
       "<g id=\"node26\" class=\"node\">\n",
       "<title>intercept_n11</title>\n",
       "<ellipse fill=\"none\" stroke=\"black\" cx=\"623\" cy=\"-531.11\" rx=\"63.82\" ry=\"40.66\"/>\n",
       "<text text-anchor=\"middle\" x=\"623\" y=\"-542.56\" font-family=\"Times,serif\" font-size=\"14.00\">intercept_n11</text>\n",
       "<text text-anchor=\"middle\" x=\"623\" y=\"-526.06\" font-family=\"Times,serif\" font-size=\"14.00\">~</text>\n",
       "<text text-anchor=\"middle\" x=\"623\" y=\"-509.56\" font-family=\"Times,serif\" font-size=\"14.00\">StudentT</text>\n",
       "</g>\n",
       "<!-- intercept_n11&#45;&gt;out_n11 -->\n",
       "<g id=\"edge7\" class=\"edge\">\n",
       "<title>intercept_n11&#45;&gt;out_n11</title>\n",
       "<path fill=\"none\" stroke=\"black\" d=\"M610.23,-490.88C605.86,-477.44 600.97,-462.42 596.61,-449.03\"/>\n",
       "<polygon fill=\"black\" stroke=\"black\" points=\"599.98,-448.09 593.56,-439.66 593.33,-450.26 599.98,-448.09\"/>\n",
       "</g>\n",
       "<!-- coeff_n21_2 -->\n",
       "<g id=\"node27\" class=\"node\">\n",
       "<title>coeff_n21_2</title>\n",
       "<ellipse fill=\"none\" stroke=\"black\" cx=\"844\" cy=\"-409.29\" rx=\"59.57\" ry=\"40.66\"/>\n",
       "<text text-anchor=\"middle\" x=\"844\" y=\"-420.74\" font-family=\"Times,serif\" font-size=\"14.00\">coeff_n21_2</text>\n",
       "<text text-anchor=\"middle\" x=\"844\" y=\"-404.24\" font-family=\"Times,serif\" font-size=\"14.00\">~</text>\n",
       "<text text-anchor=\"middle\" x=\"844\" y=\"-387.74\" font-family=\"Times,serif\" font-size=\"14.00\">StudentT</text>\n",
       "</g>\n",
       "<!-- coeff_n21_2&#45;&gt;out_dn21 -->\n",
       "<g id=\"edge39\" class=\"edge\">\n",
       "<title>coeff_n21_2&#45;&gt;out_dn21</title>\n",
       "<path fill=\"none\" stroke=\"black\" d=\"M802.14,-380.2C793.78,-375.66 784.84,-371.51 776,-368.63 625.62,-319.69 569.59,-389.44 422,-332.63 418.08,-331.13 414.19,-329.25 410.4,-327.15\"/>\n",
       "<polygon fill=\"black\" stroke=\"black\" points=\"412.29,-324.2 401.94,-321.93 408.61,-330.16 412.29,-324.2\"/>\n",
       "</g>\n",
       "<!-- coeff_n30_1&#45;&gt;age_of_tree -->\n",
       "<g id=\"edge63\" class=\"edge\">\n",
       "<title>coeff_n30_1&#45;&gt;age_of_tree</title>\n",
       "<path fill=\"none\" stroke=\"black\" d=\"M2542.83,-285.91C2446.96,-277.82 2251.66,-261.82 2086,-251.32 1528.33,-215.95 854.16,-187.17 641,-178.41\"/>\n",
       "<polygon fill=\"black\" stroke=\"black\" points=\"641.35,-174.92 631.22,-178.01 641.07,-181.92 641.35,-174.92\"/>\n",
       "</g>\n",
       "<!-- intercept_n13 -->\n",
       "<g id=\"node29\" class=\"node\">\n",
       "<title>intercept_n13</title>\n",
       "<ellipse fill=\"none\" stroke=\"black\" cx=\"185\" cy=\"-531.11\" rx=\"63.82\" ry=\"40.66\"/>\n",
       "<text text-anchor=\"middle\" x=\"185\" y=\"-542.56\" font-family=\"Times,serif\" font-size=\"14.00\">intercept_n13</text>\n",
       "<text text-anchor=\"middle\" x=\"185\" y=\"-526.06\" font-family=\"Times,serif\" font-size=\"14.00\">~</text>\n",
       "<text text-anchor=\"middle\" x=\"185\" y=\"-509.56\" font-family=\"Times,serif\" font-size=\"14.00\">StudentT</text>\n",
       "</g>\n",
       "<!-- intercept_n13&#45;&gt;out_n13 -->\n",
       "<g id=\"edge11\" class=\"edge\">\n",
       "<title>intercept_n13&#45;&gt;out_n13</title>\n",
       "<path fill=\"none\" stroke=\"black\" d=\"M208.32,-492.86C217.26,-478.57 227.47,-462.26 236.44,-447.94\"/>\n",
       "<polygon fill=\"black\" stroke=\"black\" points=\"239.27,-450 241.61,-439.67 233.34,-446.29 239.27,-450\"/>\n",
       "</g>\n",
       "<!-- intercept_n12 -->\n",
       "<g id=\"node30\" class=\"node\">\n",
       "<title>intercept_n12</title>\n",
       "<ellipse fill=\"none\" stroke=\"black\" cx=\"331\" cy=\"-531.11\" rx=\"63.82\" ry=\"40.66\"/>\n",
       "<text text-anchor=\"middle\" x=\"331\" y=\"-542.56\" font-family=\"Times,serif\" font-size=\"14.00\">intercept_n12</text>\n",
       "<text text-anchor=\"middle\" x=\"331\" y=\"-526.06\" font-family=\"Times,serif\" font-size=\"14.00\">~</text>\n",
       "<text text-anchor=\"middle\" x=\"331\" y=\"-509.56\" font-family=\"Times,serif\" font-size=\"14.00\">StudentT</text>\n",
       "</g>\n",
       "<!-- intercept_n12&#45;&gt;out_n12 -->\n",
       "<g id=\"edge8\" class=\"edge\">\n",
       "<title>intercept_n12&#45;&gt;out_n12</title>\n",
       "<path fill=\"none\" stroke=\"black\" d=\"M343.12,-490.88C347.26,-477.44 351.9,-462.42 356.04,-449.03\"/>\n",
       "<polygon fill=\"black\" stroke=\"black\" points=\"359.32,-450.26 358.93,-439.67 352.63,-448.19 359.32,-450.26\"/>\n",
       "</g>\n",
       "<!-- sigma_n10 -->\n",
       "<g id=\"node31\" class=\"node\">\n",
       "<title>sigma_n10</title>\n",
       "<ellipse fill=\"none\" stroke=\"black\" cx=\"2367\" cy=\"-531.11\" rx=\"57.45\" ry=\"40.66\"/>\n",
       "<text text-anchor=\"middle\" x=\"2367\" y=\"-542.56\" font-family=\"Times,serif\" font-size=\"14.00\">sigma_n10</text>\n",
       "<text text-anchor=\"middle\" x=\"2367\" y=\"-526.06\" font-family=\"Times,serif\" font-size=\"14.00\">~</text>\n",
       "<text text-anchor=\"middle\" x=\"2367\" y=\"-509.56\" font-family=\"Times,serif\" font-size=\"14.00\">HalfCauchy</text>\n",
       "</g>\n",
       "<!-- sigma_n10&#45;&gt;coeff_n20_0 -->\n",
       "<g id=\"edge14\" class=\"edge\">\n",
       "<title>sigma_n10&#45;&gt;coeff_n20_0</title>\n",
       "<path fill=\"none\" stroke=\"black\" d=\"M2419.03,-513.39C2463.01,-498.61 2527.24,-475.47 2581,-449.95 2585.76,-447.69 2590.64,-445.21 2595.48,-442.63\"/>\n",
       "<polygon fill=\"black\" stroke=\"black\" points=\"2596.92,-445.83 2604,-437.95 2593.55,-439.69 2596.92,-445.83\"/>\n",
       "</g>\n",
       "<!-- sigma_n10&#45;&gt;coeff_n21_0 -->\n",
       "<g id=\"edge27\" class=\"edge\">\n",
       "<title>sigma_n10&#45;&gt;coeff_n21_0</title>\n",
       "<path fill=\"none\" stroke=\"black\" d=\"M2309.27,-530.3C2196.93,-529.02 1942.41,-518.1 1742,-449.95 1736.72,-448.16 1731.39,-445.92 1726.17,-443.44\"/>\n",
       "<polygon fill=\"black\" stroke=\"black\" points=\"1728.14,-440.52 1717.64,-439.09 1724.96,-446.75 1728.14,-440.52\"/>\n",
       "</g>\n",
       "<!-- coeff_n22_0 -->\n",
       "<g id=\"node39\" class=\"node\">\n",
       "<title>coeff_n22_0</title>\n",
       "<ellipse fill=\"none\" stroke=\"black\" cx=\"2367\" cy=\"-409.29\" rx=\"59.57\" ry=\"40.66\"/>\n",
       "<text text-anchor=\"middle\" x=\"2367\" y=\"-420.74\" font-family=\"Times,serif\" font-size=\"14.00\">coeff_n22_0</text>\n",
       "<text text-anchor=\"middle\" x=\"2367\" y=\"-404.24\" font-family=\"Times,serif\" font-size=\"14.00\">~</text>\n",
       "<text text-anchor=\"middle\" x=\"2367\" y=\"-387.74\" font-family=\"Times,serif\" font-size=\"14.00\">StudentT</text>\n",
       "</g>\n",
       "<!-- sigma_n10&#45;&gt;coeff_n22_0 -->\n",
       "<g id=\"edge40\" class=\"edge\">\n",
       "<title>sigma_n10&#45;&gt;coeff_n22_0</title>\n",
       "<path fill=\"none\" stroke=\"black\" d=\"M2367,-490.21C2367,-481.11 2367,-471.32 2367,-461.81\"/>\n",
       "<polygon fill=\"black\" stroke=\"black\" points=\"2370.5,-461.94 2367,-451.94 2363.5,-461.94 2370.5,-461.94\"/>\n",
       "</g>\n",
       "<!-- coeff_n20_3 -->\n",
       "<g id=\"node32\" class=\"node\">\n",
       "<title>coeff_n20_3</title>\n",
       "<ellipse fill=\"none\" stroke=\"black\" cx=\"1956\" cy=\"-409.29\" rx=\"59.57\" ry=\"40.66\"/>\n",
       "<text text-anchor=\"middle\" x=\"1956\" y=\"-420.74\" font-family=\"Times,serif\" font-size=\"14.00\">coeff_n20_3</text>\n",
       "<text text-anchor=\"middle\" x=\"1956\" y=\"-404.24\" font-family=\"Times,serif\" font-size=\"14.00\">~</text>\n",
       "<text text-anchor=\"middle\" x=\"1956\" y=\"-387.74\" font-family=\"Times,serif\" font-size=\"14.00\">StudentT</text>\n",
       "</g>\n",
       "<!-- coeff_n20_3&#45;&gt;out_dn20 -->\n",
       "<g id=\"edge24\" class=\"edge\">\n",
       "<title>coeff_n20_3&#45;&gt;out_dn20</title>\n",
       "<path fill=\"none\" stroke=\"black\" d=\"M1914.3,-379.67C1905.92,-375.18 1896.94,-371.19 1888,-368.63 1620.81,-292.27 900.8,-422.98 638,-332.63 633.79,-331.19 629.63,-329.29 625.6,-327.1\"/>\n",
       "<polygon fill=\"black\" stroke=\"black\" points=\"627.55,-324.19 617.19,-321.96 623.9,-330.16 627.55,-324.19\"/>\n",
       "</g>\n",
       "<!-- intercept_n22 -->\n",
       "<g id=\"node33\" class=\"node\">\n",
       "<title>intercept_n22</title>\n",
       "<ellipse fill=\"none\" stroke=\"black\" cx=\"1815\" cy=\"-409.29\" rx=\"63.82\" ry=\"40.66\"/>\n",
       "<text text-anchor=\"middle\" x=\"1815\" y=\"-420.74\" font-family=\"Times,serif\" font-size=\"14.00\">intercept_n22</text>\n",
       "<text text-anchor=\"middle\" x=\"1815\" y=\"-404.24\" font-family=\"Times,serif\" font-size=\"14.00\">~</text>\n",
       "<text text-anchor=\"middle\" x=\"1815\" y=\"-387.74\" font-family=\"Times,serif\" font-size=\"14.00\">StudentT</text>\n",
       "</g>\n",
       "<!-- intercept_n22&#45;&gt;out_dn22 -->\n",
       "<g id=\"edge50\" class=\"edge\">\n",
       "<title>intercept_n22&#45;&gt;out_dn22</title>\n",
       "<path fill=\"none\" stroke=\"black\" d=\"M1770.69,-379.68C1761.83,-375.19 1752.36,-371.19 1743,-368.63 1482.85,-297.6 784.99,-420.42 530,-332.63 525.79,-331.19 521.63,-329.28 517.6,-327.09\"/>\n",
       "<polygon fill=\"black\" stroke=\"black\" points=\"519.55,-324.18 509.19,-321.95 515.9,-330.16 519.55,-324.18\"/>\n",
       "</g>\n",
       "<!-- sigma_n12 -->\n",
       "<g id=\"node34\" class=\"node\">\n",
       "<title>sigma_n12</title>\n",
       "<ellipse fill=\"none\" stroke=\"black\" cx=\"1400\" cy=\"-531.11\" rx=\"57.45\" ry=\"40.66\"/>\n",
       "<text text-anchor=\"middle\" x=\"1400\" y=\"-542.56\" font-family=\"Times,serif\" font-size=\"14.00\">sigma_n12</text>\n",
       "<text text-anchor=\"middle\" x=\"1400\" y=\"-526.06\" font-family=\"Times,serif\" font-size=\"14.00\">~</text>\n",
       "<text text-anchor=\"middle\" x=\"1400\" y=\"-509.56\" font-family=\"Times,serif\" font-size=\"14.00\">HalfCauchy</text>\n",
       "</g>\n",
       "<!-- sigma_n12&#45;&gt;coeff_n20_2 -->\n",
       "<g id=\"edge16\" class=\"edge\">\n",
       "<title>sigma_n12&#45;&gt;coeff_n20_2</title>\n",
       "<path fill=\"none\" stroke=\"black\" d=\"M1425.27,-494.27C1437.33,-480.2 1453.06,-465.62 1471,-457.95 1499.3,-445.85 1995.34,-458.2 2025,-449.95 2030.54,-448.41 2036.09,-446.31 2041.5,-443.87\"/>\n",
       "<polygon fill=\"black\" stroke=\"black\" points=\"2042.94,-447.06 2050.34,-439.49 2039.83,-440.79 2042.94,-447.06\"/>\n",
       "</g>\n",
       "<!-- sigma_n12&#45;&gt;coeff_n22_2 -->\n",
       "<g id=\"edge42\" class=\"edge\">\n",
       "<title>sigma_n12&#45;&gt;coeff_n22_2</title>\n",
       "<path fill=\"none\" stroke=\"black\" d=\"M1400,-490.21C1400,-481.11 1400,-471.32 1400,-461.81\"/>\n",
       "<polygon fill=\"black\" stroke=\"black\" points=\"1403.5,-461.94 1400,-451.94 1396.5,-461.94 1403.5,-461.94\"/>\n",
       "</g>\n",
       "<!-- sigma_n12&#45;&gt;coeff_n21_2 -->\n",
       "<g id=\"edge29\" class=\"edge\">\n",
       "<title>sigma_n12&#45;&gt;coeff_n21_2</title>\n",
       "<path fill=\"none\" stroke=\"black\" d=\"M1374.72,-494.31C1362.65,-480.25 1346.92,-465.66 1329,-457.95 1286.43,-439.64 956.62,-462.47 912,-449.95 906.47,-448.4 900.92,-446.29 895.51,-443.84\"/>\n",
       "<polygon fill=\"black\" stroke=\"black\" points=\"897.18,-440.76 886.67,-439.46 894.07,-447.03 897.18,-440.76\"/>\n",
       "</g>\n",
       "<!-- sigma_n13 -->\n",
       "<g id=\"node35\" class=\"node\">\n",
       "<title>sigma_n13</title>\n",
       "<ellipse fill=\"none\" stroke=\"black\" cx=\"1263\" cy=\"-531.11\" rx=\"57.45\" ry=\"40.66\"/>\n",
       "<text text-anchor=\"middle\" x=\"1263\" y=\"-542.56\" font-family=\"Times,serif\" font-size=\"14.00\">sigma_n13</text>\n",
       "<text text-anchor=\"middle\" x=\"1263\" y=\"-526.06\" font-family=\"Times,serif\" font-size=\"14.00\">~</text>\n",
       "<text text-anchor=\"middle\" x=\"1263\" y=\"-509.56\" font-family=\"Times,serif\" font-size=\"14.00\">HalfCauchy</text>\n",
       "</g>\n",
       "<!-- sigma_n13&#45;&gt;coeff_n22_3 -->\n",
       "<g id=\"edge43\" class=\"edge\">\n",
       "<title>sigma_n13&#45;&gt;coeff_n22_3</title>\n",
       "<path fill=\"none\" stroke=\"black\" d=\"M1263,-490.21C1263,-481.11 1263,-471.32 1263,-461.81\"/>\n",
       "<polygon fill=\"black\" stroke=\"black\" points=\"1266.5,-461.94 1263,-451.94 1259.5,-461.94 1266.5,-461.94\"/>\n",
       "</g>\n",
       "<!-- sigma_n13&#45;&gt;coeff_n20_3 -->\n",
       "<g id=\"edge17\" class=\"edge\">\n",
       "<title>sigma_n13&#45;&gt;coeff_n20_3</title>\n",
       "<path fill=\"none\" stroke=\"black\" d=\"M1288.27,-494.27C1300.33,-480.2 1316.06,-465.62 1334,-457.95 1362.3,-445.85 1858.34,-458.2 1888,-449.95 1893.54,-448.41 1899.09,-446.31 1904.5,-443.87\"/>\n",
       "<polygon fill=\"black\" stroke=\"black\" points=\"1905.94,-447.06 1913.34,-439.49 1902.83,-440.79 1905.94,-447.06\"/>\n",
       "</g>\n",
       "<!-- coeff_n21_3 -->\n",
       "<g id=\"node38\" class=\"node\">\n",
       "<title>coeff_n21_3</title>\n",
       "<ellipse fill=\"none\" stroke=\"black\" cx=\"707\" cy=\"-409.29\" rx=\"59.57\" ry=\"40.66\"/>\n",
       "<text text-anchor=\"middle\" x=\"707\" y=\"-420.74\" font-family=\"Times,serif\" font-size=\"14.00\">coeff_n21_3</text>\n",
       "<text text-anchor=\"middle\" x=\"707\" y=\"-404.24\" font-family=\"Times,serif\" font-size=\"14.00\">~</text>\n",
       "<text text-anchor=\"middle\" x=\"707\" y=\"-387.74\" font-family=\"Times,serif\" font-size=\"14.00\">StudentT</text>\n",
       "</g>\n",
       "<!-- sigma_n13&#45;&gt;coeff_n21_3 -->\n",
       "<g id=\"edge30\" class=\"edge\">\n",
       "<title>sigma_n13&#45;&gt;coeff_n21_3</title>\n",
       "<path fill=\"none\" stroke=\"black\" d=\"M1240.5,-493.25C1230.04,-479.56 1216.28,-465.54 1200,-457.95 1178.59,-447.98 797.74,-456.33 775,-449.95 769.47,-448.4 763.92,-446.29 758.51,-443.84\"/>\n",
       "<polygon fill=\"black\" stroke=\"black\" points=\"760.18,-440.77 749.66,-439.46 757.07,-447.04 760.18,-440.77\"/>\n",
       "</g>\n",
       "<!-- coeff_n30_2 -->\n",
       "<g id=\"node36\" class=\"node\">\n",
       "<title>coeff_n30_2</title>\n",
       "<ellipse fill=\"none\" stroke=\"black\" cx=\"707\" cy=\"-291.98\" rx=\"59.57\" ry=\"40.66\"/>\n",
       "<text text-anchor=\"middle\" x=\"707\" y=\"-303.43\" font-family=\"Times,serif\" font-size=\"14.00\">coeff_n30_2</text>\n",
       "<text text-anchor=\"middle\" x=\"707\" y=\"-286.93\" font-family=\"Times,serif\" font-size=\"14.00\">~</text>\n",
       "<text text-anchor=\"middle\" x=\"707\" y=\"-270.43\" font-family=\"Times,serif\" font-size=\"14.00\">StudentT</text>\n",
       "</g>\n",
       "<!-- coeff_n30_2&#45;&gt;age_of_tree -->\n",
       "<g id=\"edge61\" class=\"edge\">\n",
       "<title>coeff_n30_2&#45;&gt;age_of_tree</title>\n",
       "<path fill=\"none\" stroke=\"black\" d=\"M670.38,-259.46C653.87,-245.25 634.23,-228.35 616.93,-213.46\"/>\n",
       "<polygon fill=\"black\" stroke=\"black\" points=\"619.66,-211.19 609.79,-207.32 615.09,-216.5 619.66,-211.19\"/>\n",
       "</g>\n",
       "<!-- coeff_n22_1&#45;&gt;out_dn22 -->\n",
       "<g id=\"edge52\" class=\"edge\">\n",
       "<title>coeff_n22_1&#45;&gt;out_dn22</title>\n",
       "<path fill=\"none\" stroke=\"black\" d=\"M1495.28,-379.74C1486.9,-375.25 1477.92,-371.23 1469,-368.63 1268.5,-310.29 727.15,-401.46 530,-332.63 525.8,-331.17 521.64,-329.25 517.62,-327.05\"/>\n",
       "<polygon fill=\"black\" stroke=\"black\" points=\"519.57,-324.14 509.21,-321.9 515.91,-330.11 519.57,-324.14\"/>\n",
       "</g>\n",
       "<!-- coeff_n21_3&#45;&gt;out_dn21 -->\n",
       "<g id=\"edge31\" class=\"edge\">\n",
       "<title>coeff_n21_3&#45;&gt;out_dn21</title>\n",
       "<path fill=\"none\" stroke=\"black\" d=\"M665.22,-380.01C657.43,-375.66 649.16,-371.63 641,-368.63 548.41,-334.63 512.92,-370.88 422,-332.63 418.24,-331.05 414.5,-329.16 410.84,-327.07\"/>\n",
       "<polygon fill=\"black\" stroke=\"black\" points=\"413.01,-324.3 402.67,-321.97 409.3,-330.24 413.01,-324.3\"/>\n",
       "</g>\n",
       "<!-- coeff_n22_0&#45;&gt;out_dn22 -->\n",
       "<g id=\"edge44\" class=\"edge\">\n",
       "<title>coeff_n22_0&#45;&gt;out_dn22</title>\n",
       "<path fill=\"none\" stroke=\"black\" d=\"M2325.69,-379.81C2317.2,-375.25 2308.08,-371.19 2299,-368.63 2109.75,-315.41 716.18,-395.76 530,-332.63 525.78,-331.2 521.62,-329.32 517.59,-327.14\"/>\n",
       "<polygon fill=\"black\" stroke=\"black\" points=\"519.54,-324.23 509.18,-322.01 515.89,-330.2 519.54,-324.23\"/>\n",
       "</g>\n",
       "<!-- intercept_n20 -->\n",
       "<g id=\"node40\" class=\"node\">\n",
       "<title>intercept_n20</title>\n",
       "<ellipse fill=\"none\" stroke=\"black\" cx=\"2508\" cy=\"-409.29\" rx=\"63.82\" ry=\"40.66\"/>\n",
       "<text text-anchor=\"middle\" x=\"2508\" y=\"-420.74\" font-family=\"Times,serif\" font-size=\"14.00\">intercept_n20</text>\n",
       "<text text-anchor=\"middle\" x=\"2508\" y=\"-404.24\" font-family=\"Times,serif\" font-size=\"14.00\">~</text>\n",
       "<text text-anchor=\"middle\" x=\"2508\" y=\"-387.74\" font-family=\"Times,serif\" font-size=\"14.00\">StudentT</text>\n",
       "</g>\n",
       "<!-- intercept_n20&#45;&gt;out_dn20 -->\n",
       "<g id=\"edge19\" class=\"edge\">\n",
       "<title>intercept_n20&#45;&gt;out_dn20</title>\n",
       "<path fill=\"none\" stroke=\"black\" d=\"M2463.71,-379.61C2454.85,-375.12 2445.37,-371.15 2436,-368.63 2242.99,-316.93 827.25,-396.77 638,-332.63 633.78,-331.21 629.62,-329.32 625.59,-327.14\"/>\n",
       "<polygon fill=\"black\" stroke=\"black\" points=\"627.54,-324.23 617.18,-322.01 623.89,-330.2 627.54,-324.23\"/>\n",
       "</g>\n",
       "<!-- sigma_n22 -->\n",
       "<g id=\"node41\" class=\"node\">\n",
       "<title>sigma_n22</title>\n",
       "<ellipse fill=\"none\" stroke=\"black\" cx=\"2784\" cy=\"-409.29\" rx=\"57.45\" ry=\"40.66\"/>\n",
       "<text text-anchor=\"middle\" x=\"2784\" y=\"-420.74\" font-family=\"Times,serif\" font-size=\"14.00\">sigma_n22</text>\n",
       "<text text-anchor=\"middle\" x=\"2784\" y=\"-404.24\" font-family=\"Times,serif\" font-size=\"14.00\">~</text>\n",
       "<text text-anchor=\"middle\" x=\"2784\" y=\"-387.74\" font-family=\"Times,serif\" font-size=\"14.00\">HalfCauchy</text>\n",
       "</g>\n",
       "<!-- sigma_n22&#45;&gt;coeff_n30_2 -->\n",
       "<g id=\"edge55\" class=\"edge\">\n",
       "<title>sigma_n22&#45;&gt;coeff_n30_2</title>\n",
       "<path fill=\"none\" stroke=\"black\" d=\"M2743.99,-379.8C2735.75,-375.24 2726.87,-371.18 2718,-368.63 2510.47,-309 982.91,-390.91 775,-332.63 769.47,-331.08 763.92,-328.97 758.5,-326.53\"/>\n",
       "<polygon fill=\"black\" stroke=\"black\" points=\"760.18,-323.45 749.66,-322.14 757.07,-329.72 760.18,-323.45\"/>\n",
       "</g>\n",
       "<!-- coeffs_n11 -->\n",
       "<g id=\"node42\" class=\"node\">\n",
       "<title>coeffs_n11</title>\n",
       "<ellipse fill=\"none\" stroke=\"black\" cx=\"1134\" cy=\"-531.11\" rx=\"53.74\" ry=\"40.66\"/>\n",
       "<text text-anchor=\"middle\" x=\"1134\" y=\"-542.56\" font-family=\"Times,serif\" font-size=\"14.00\">coeffs_n11</text>\n",
       "<text text-anchor=\"middle\" x=\"1134\" y=\"-526.06\" font-family=\"Times,serif\" font-size=\"14.00\">~</text>\n",
       "<text text-anchor=\"middle\" x=\"1134\" y=\"-509.56\" font-family=\"Times,serif\" font-size=\"14.00\">StudentT</text>\n",
       "</g>\n",
       "<!-- coeffs_n11&#45;&gt;out_n11 -->\n",
       "<g id=\"edge5\" class=\"edge\">\n",
       "<title>coeffs_n11&#45;&gt;out_n11</title>\n",
       "<path fill=\"none\" stroke=\"black\" d=\"M1112.26,-493.64C1101.95,-479.83 1088.29,-465.62 1072,-457.95 1028.36,-437.42 683.69,-465.4 638,-449.95 633.6,-448.46 629.26,-446.48 625.06,-444.18\"/>\n",
       "<polygon fill=\"black\" stroke=\"black\" points=\"627.23,-441.4 616.87,-439.14 623.56,-447.36 627.23,-441.4\"/>\n",
       "</g>\n",
       "<!-- coeffs_n10 -->\n",
       "<g id=\"node43\" class=\"node\">\n",
       "<title>coeffs_n10</title>\n",
       "<ellipse fill=\"none\" stroke=\"black\" cx=\"1009\" cy=\"-531.11\" rx=\"53.74\" ry=\"40.66\"/>\n",
       "<text text-anchor=\"middle\" x=\"1009\" y=\"-542.56\" font-family=\"Times,serif\" font-size=\"14.00\">coeffs_n10</text>\n",
       "<text text-anchor=\"middle\" x=\"1009\" y=\"-526.06\" font-family=\"Times,serif\" font-size=\"14.00\">~</text>\n",
       "<text text-anchor=\"middle\" x=\"1009\" y=\"-509.56\" font-family=\"Times,serif\" font-size=\"14.00\">StudentT</text>\n",
       "</g>\n",
       "<!-- coeffs_n10&#45;&gt;out_n10 -->\n",
       "<g id=\"edge2\" class=\"edge\">\n",
       "<title>coeffs_n10&#45;&gt;out_n10</title>\n",
       "<path fill=\"none\" stroke=\"black\" d=\"M987.26,-493.64C976.95,-479.84 963.29,-465.62 947,-457.95 905.07,-438.21 573.9,-464.81 530,-449.95 525.6,-448.46 521.26,-446.47 517.06,-444.18\"/>\n",
       "<polygon fill=\"black\" stroke=\"black\" points=\"519.23,-441.4 508.88,-439.14 515.56,-447.36 519.23,-441.4\"/>\n",
       "</g>\n",
       "<!-- coeffs_n13 -->\n",
       "<g id=\"node44\" class=\"node\">\n",
       "<title>coeffs_n13</title>\n",
       "<ellipse fill=\"none\" stroke=\"black\" cx=\"759\" cy=\"-531.11\" rx=\"53.74\" ry=\"40.66\"/>\n",
       "<text text-anchor=\"middle\" x=\"759\" y=\"-542.56\" font-family=\"Times,serif\" font-size=\"14.00\">coeffs_n13</text>\n",
       "<text text-anchor=\"middle\" x=\"759\" y=\"-526.06\" font-family=\"Times,serif\" font-size=\"14.00\">~</text>\n",
       "<text text-anchor=\"middle\" x=\"759\" y=\"-509.56\" font-family=\"Times,serif\" font-size=\"14.00\">StudentT</text>\n",
       "</g>\n",
       "<!-- coeffs_n13&#45;&gt;out_n13 -->\n",
       "<g id=\"edge12\" class=\"edge\">\n",
       "<title>coeffs_n13&#45;&gt;out_n13</title>\n",
       "<path fill=\"none\" stroke=\"black\" d=\"M736.78,-493.65C726.28,-479.84 712.42,-465.62 696,-457.95 657.54,-439.98 354.2,-463.6 314,-449.95 309.78,-448.52 305.62,-446.63 301.59,-444.45\"/>\n",
       "<polygon fill=\"black\" stroke=\"black\" points=\"303.54,-441.54 293.18,-439.32 299.89,-447.52 303.54,-441.54\"/>\n",
       "</g>\n",
       "<!-- coeffs_n12 -->\n",
       "<g id=\"node45\" class=\"node\">\n",
       "<title>coeffs_n12</title>\n",
       "<ellipse fill=\"none\" stroke=\"black\" cx=\"884\" cy=\"-531.11\" rx=\"53.74\" ry=\"40.66\"/>\n",
       "<text text-anchor=\"middle\" x=\"884\" y=\"-542.56\" font-family=\"Times,serif\" font-size=\"14.00\">coeffs_n12</text>\n",
       "<text text-anchor=\"middle\" x=\"884\" y=\"-526.06\" font-family=\"Times,serif\" font-size=\"14.00\">~</text>\n",
       "<text text-anchor=\"middle\" x=\"884\" y=\"-509.56\" font-family=\"Times,serif\" font-size=\"14.00\">StudentT</text>\n",
       "</g>\n",
       "<!-- coeffs_n12&#45;&gt;out_n12 -->\n",
       "<g id=\"edge10\" class=\"edge\">\n",
       "<title>coeffs_n12&#45;&gt;out_n12</title>\n",
       "<path fill=\"none\" stroke=\"black\" d=\"M862.26,-493.65C851.94,-479.85 838.28,-465.63 822,-457.95 781.79,-439 464.1,-464.22 422,-449.95 417.78,-448.52 413.62,-446.63 409.59,-444.46\"/>\n",
       "<polygon fill=\"black\" stroke=\"black\" points=\"411.54,-441.54 401.18,-439.33 407.89,-447.52 411.54,-441.54\"/>\n",
       "</g>\n",
       "</g>\n",
       "</svg>\n"
      ],
      "text/plain": [
       "<graphviz.graphs.Digraph at 0x7f32edddc790>"
      ]
     },
     "execution_count": 65,
     "metadata": {},
     "output_type": "execute_result"
    }
   ],
   "source": [
    "pm.model_to_graphviz(m_d_neural)"
   ]
  },
  {
   "cell_type": "markdown",
   "id": "6f0f1a9e-e37a-4064-b2c1-c2ffc7e3c187",
   "metadata": {},
   "source": [
    "Again, we get a higher R2 value."
   ]
  },
  {
   "cell_type": "code",
   "execution_count": 66,
   "id": "e9134924-e3f5-4f7a-8ff8-cd98843a4fd2",
   "metadata": {},
   "outputs": [
    {
     "data": {
      "text/plain": [
       "r2        0.640298\n",
       "r2_std    0.000000\n",
       "dtype: float64"
      ]
     },
     "execution_count": 66,
     "metadata": {},
     "output_type": "execute_result"
    }
   ],
   "source": [
    "az.r2_score(y_train, y_pred_d_neural)"
   ]
  },
  {
   "cell_type": "markdown",
   "id": "c666f8b8-b8be-4e5a-a11a-39b7337089ca",
   "metadata": {},
   "source": [
    "We also get the lowest training MSE value."
   ]
  },
  {
   "cell_type": "code",
   "execution_count": 67,
   "id": "32104ce2-2ad5-4858-b91c-94f03537eee4",
   "metadata": {},
   "outputs": [
    {
     "data": {
      "text/plain": [
       "0.0846"
      ]
     },
     "execution_count": 67,
     "metadata": {},
     "output_type": "execute_result"
    }
   ],
   "source": [
    "round(mean_squared_error(y_train, y_pred_d_neural), 4)"
   ]
  },
  {
   "cell_type": "markdown",
   "id": "27ed5846-9a59-4fac-84cf-0636ac4328fd",
   "metadata": {},
   "source": [
    "The below plot still shows predicted values align well with actual values."
   ]
  },
  {
   "cell_type": "code",
   "execution_count": 68,
   "id": "32eaa4a6-485e-42d2-9eba-0a8cf9383d54",
   "metadata": {},
   "outputs": [
    {
     "data": {
      "text/plain": [
       "[Text(0.5, 0, 'predicted'), Text(0, 0.5, 'actual')]"
      ]
     },
     "execution_count": 68,
     "metadata": {},
     "output_type": "execute_result"
    },
    {
     "data": {
      "image/png": "[encoded data removed]",
      "text/plain": [
       "<Figure size 640x480 with 1 Axes>"
      ]
     },
     "metadata": {},
     "output_type": "display_data"
    }
   ],
   "source": [
    "plot = sns.regplot(x=y_pred_d_neural, y=y_train)\n",
    "plot.set(xlabel=\"predicted\", ylabel=\"actual\")"
   ]
  },
  {
   "cell_type": "markdown",
   "id": "68c27bf4-3df1-4eba-a8e6-e72f4a7f6fc9",
   "metadata": {},
   "source": [
    "**Now lets predict the test set**"
   ]
  },
  {
   "cell_type": "markdown",
   "id": "42780061-2194-4449-b3eb-4a2d33bdcba0",
   "metadata": {},
   "source": [
    "First prediction without sampling... just use coefficients. Kind of a hassle to extract all these individually to recrate the neural network math... I'm trying to be careful.\n",
    "Hopefully no mistakes. :)\n",
    "\n",
    "Basically, this rewrites the neural network to get each coefficient, and multiply it by the appropriate inputs for each neuron."
   ]
  },
  {
   "cell_type": "code",
   "execution_count": 69,
   "id": "e885528f-4adc-4312-92a4-cbc9821e573e",
   "metadata": {},
   "outputs": [],
   "source": [
    "# LAYER 1 - Input\n",
    "pred_intercept_dn10 = trace_d_neural.posterior.intercept_n10.mean().values.item()\n",
    "pred_intercept_dn11 = trace_d_neural.posterior.intercept_n11.mean().values.item()\n",
    "pred_intercept_dn12 = trace_d_neural.posterior.intercept_n12.mean().values.item()\n",
    "pred_intercept_dn13 = trace_d_neural.posterior.intercept_n13.mean().values.item()\n",
    "\n",
    "\n",
    "pred_coeffs_dn10 = trace_d_neural.posterior.coeffs_n10.mean([\"chain\", \"draw\"]).values\n",
    "pred_coeffs_dn11 = trace_d_neural.posterior.coeffs_n11.mean([\"chain\", \"draw\"]).values\n",
    "pred_coeffs_dn12 = trace_d_neural.posterior.coeffs_n12.mean([\"chain\", \"draw\"]).values\n",
    "pred_coeffs_dn13 = trace_d_neural.posterior.coeffs_n13.mean([\"chain\", \"draw\"]).values\n",
    "\n",
    "\n",
    "# Data X coefficients, then ReLU\n",
    "pred_out_dn10 = np.maximum(0, pred_intercept_dn10 + X_test @ pred_coeffs_dn10)\n",
    "pred_out_dn11 = np.maximum(0, pred_intercept_dn11 + X_test @ pred_coeffs_dn11)\n",
    "pred_out_dn12 = np.maximum(0, pred_intercept_dn12 + X_test @ pred_coeffs_dn12)\n",
    "pred_out_dn13 = np.maximum(0, pred_intercept_dn13 + X_test @ pred_coeffs_dn13)\n",
    "\n",
    "\n",
    "# LAYER 2 - Hidden\n",
    "# Neuron 0\n",
    "pred_intercept_dn20 = trace_d_neural.posterior.intercept_n20.mean().values.item()\n",
    "pred_coeff_dn20_0 = trace_d_neural.posterior.coeff_n20_0.mean().values.item()\n",
    "pred_coeff_dn20_1 = trace_d_neural.posterior.coeff_n20_1.mean().values.item()\n",
    "pred_coeff_dn20_2 = trace_d_neural.posterior.coeff_n20_2.mean().values.item()\n",
    "pred_coeff_dn20_3 = trace_d_neural.posterior.coeff_n20_3.mean().values.item()\n",
    "\n",
    "pred_out_dn20 = np.maximum(0, pred_intercept_dn20 \n",
    "          + pred_out_dn10 * pred_coeff_dn20_0 \n",
    "          + pred_out_dn11 * pred_coeff_dn20_1\n",
    "          + pred_out_dn12 * pred_coeff_dn20_2\n",
    "          + pred_out_dn13 * pred_coeff_dn20_3\n",
    "          )\n",
    "\n",
    "# Neuron 1\n",
    "pred_intercept_dn21 = trace_d_neural.posterior.intercept_n21.mean().values.item()\n",
    "pred_coeff_dn21_0 = trace_d_neural.posterior.coeff_n21_0.mean().values.item()\n",
    "pred_coeff_dn21_1 = trace_d_neural.posterior.coeff_n21_1.mean().values.item()\n",
    "pred_coeff_dn21_2 = trace_d_neural.posterior.coeff_n21_2.mean().values.item()\n",
    "pred_coeff_dn21_3 = trace_d_neural.posterior.coeff_n21_3.mean().values.item()\n",
    "\n",
    "pred_out_dn21 = np.maximum(0, pred_intercept_dn21\n",
    "          + pred_out_dn10 * pred_coeff_dn21_0 \n",
    "          + pred_out_dn11 * pred_coeff_dn21_1\n",
    "          + pred_out_dn12 * pred_coeff_dn21_2\n",
    "          + pred_out_dn13 * pred_coeff_dn21_3\n",
    "          )\n",
    "\n",
    "\n",
    "# Neuron 2\n",
    "pred_intercept_dn22 = trace_d_neural.posterior.intercept_n22.mean().values.item()\n",
    "pred_coeff_dn22_0 = trace_d_neural.posterior.coeff_n22_0.mean().values.item()\n",
    "pred_coeff_dn22_1 = trace_d_neural.posterior.coeff_n22_1.mean().values.item()\n",
    "pred_coeff_dn22_2 = trace_d_neural.posterior.coeff_n22_2.mean().values.item()\n",
    "pred_coeff_dn22_3 = trace_d_neural.posterior.coeff_n22_3.mean().values.item()\n",
    "\n",
    "pred_out_dn22 = np.maximum(0, pred_intercept_dn22\n",
    "          + pred_out_dn10 * pred_coeff_dn22_0 \n",
    "          + pred_out_dn11 * pred_coeff_dn22_1\n",
    "          + pred_out_dn12 * pred_coeff_dn22_2\n",
    "          + pred_out_dn13 * pred_coeff_dn22_3\n",
    "          )\n",
    "\n",
    "# LAYER 3 - OUTPUT\n",
    "# Single Neuron\n",
    "pred_intercept_dn30 = trace_d_neural.posterior.intercept_n30.mean().values.item()\n",
    "pred_coeff_dn30_0 = trace_d_neural.posterior.coeff_n30_0.mean().values.item()\n",
    "pred_coeff_dn30_1 = trace_d_neural.posterior.coeff_n30_1.mean().values.item()\n",
    "pred_coeff_dn30_2 = trace_d_neural.posterior.coeff_n30_2.mean().values.item()                           \n",
    "\n",
    "y_pred_test_nosample_d_neural = (pred_intercept_dn30\n",
    "          + pred_out_dn20 * pred_coeff_dn30_0 \n",
    "          + pred_out_dn21 * pred_coeff_dn30_1\n",
    "          + pred_out_dn22 * pred_coeff_dn30_2\n",
    "        )"
   ]
  },
  {
   "cell_type": "markdown",
   "id": "aeabc38c-b8de-49df-90eb-5cf504861753",
   "metadata": {},
   "source": [
    "Below, we get a higher MSE value on the test set... so the deep neural network may be starting to overfit. This is why we used a test set for evaluation."
   ]
  },
  {
   "cell_type": "code",
   "execution_count": 70,
   "id": "79fb53d6-6b4f-4be7-9e40-55df85410350",
   "metadata": {},
   "outputs": [
    {
     "data": {
      "text/plain": [
       "3.8454"
      ]
     },
     "execution_count": 70,
     "metadata": {},
     "output_type": "execute_result"
    }
   ],
   "source": [
    "round(mean_squared_error(y_test, y_pred_test_nosample_d_neural), 4)"
   ]
  },
  {
   "cell_type": "markdown",
   "id": "af6eb25c-5879-4a96-babf-64561215cd60",
   "metadata": {},
   "source": [
    "Predicted values still don't seem to align as well to actual values."
   ]
  },
  {
   "cell_type": "code",
   "execution_count": 71,
   "id": "cca727f8-28a8-4ee2-a3ae-e532f1edd5af",
   "metadata": {},
   "outputs": [
    {
     "data": {
      "text/plain": [
       "[Text(0.5, 0, 'predicted'), Text(0, 0.5, 'actual')]"
      ]
     },
     "execution_count": 71,
     "metadata": {},
     "output_type": "execute_result"
    },
    {
     "data": {
      "image/png": "[encoded data removed]",
      "text/plain": [
       "<Figure size 640x480 with 1 Axes>"
      ]
     },
     "metadata": {},
     "output_type": "display_data"
    }
   ],
   "source": [
    "plot = sns.regplot(x=y_pred_test_nosample_d_neural, y=y_test)\n",
    "plot.set(xlabel=\"predicted\", ylabel=\"actual\")"
   ]
  },
  {
   "cell_type": "markdown",
   "id": "a856206e-fb53-496a-9db3-c72ffb0eebc3",
   "metadata": {},
   "source": [
    "Now predict using sampling  \n",
    "**We are now getting a much lower MSA values, and they seem more stable. The neural net seems to be much better at dealing with possible outliers and non-linearities than the linear model**"
   ]
  },
  {
   "cell_type": "code",
   "execution_count": 72,
   "id": "00a22493-05bc-4332-a95e-b04b81526ac9",
   "metadata": {},
   "outputs": [
    {
     "name": "stderr",
     "output_type": "stream",
     "text": [
      "Sampling: [age_of_tree, coeffs_n10, coeffs_n11, coeffs_n12, coeffs_n13]\n"
     ]
    },
    {
     "data": {
      "text/html": [
       "\n",
       "<style>\n",
       "    /* Turns off some styling */\n",
       "    progress {\n",
       "        /* gets rid of default border in Firefox and Opera. */\n",
       "        border: none;\n",
       "        /* Needs to be in here for Safari polyfill so background images work as expected. */\n",
       "        background-size: auto;\n",
       "    }\n",
       "    progress:not([value]), progress:not([value])::-webkit-progress-bar {\n",
       "        background: repeating-linear-gradient(45deg, #7e7e7e, #7e7e7e 10px, #5c5c5c 10px, #5c5c5c 20px);\n",
       "    }\n",
       "    .progress-bar-interrupted, .progress-bar-interrupted::-webkit-progress-bar {\n",
       "        background: #F44336;\n",
       "    }\n",
       "</style>\n"
      ],
      "text/plain": [
       "<IPython.core.display.HTML object>"
      ]
     },
     "metadata": {},
     "output_type": "display_data"
    },
    {
     "data": {
      "text/html": [
       "\n",
       "    <div>\n",
       "      <progress value='20000' class='' max='20000' style='width:300px; height:20px; vertical-align: middle;'></progress>\n",
       "      100.00% [20000/20000 00:12&lt;00:00]\n",
       "    </div>\n",
       "    "
      ],
      "text/plain": [
       "<IPython.core.display.HTML object>"
      ]
     },
     "metadata": {},
     "output_type": "display_data"
    }
   ],
   "source": [
    "with m_d_neural:\n",
    "    pm.set_data({\"X\": X_test, \"y\": y_test})\n",
    "    ppc_test_d_neural = pm.sample_posterior_predictive(trace_d_neural) #, predictions=True)\n",
    "    y_pred_test_d_neural = ppc_test_d_neural.posterior_predictive.stack(sample=(\"chain\", \"draw\"))[\"age_of_tree\"].values.T.mean(axis=0)"
   ]
  },
  {
   "cell_type": "markdown",
   "id": "c9236d58-29d3-4b10-887d-6356dfd5d4e6",
   "metadata": {},
   "source": [
    "Again, we get a fairly low MSE value, but it's higher than our non-deep neural network on the test dataset. Another piece of evidence that the model may be overfitting."
   ]
  },
  {
   "cell_type": "code",
   "execution_count": 73,
   "id": "baa38932-8eb2-4916-8901-8dab94a5aec2",
   "metadata": {
    "tags": []
   },
   "outputs": [
    {
     "data": {
      "text/plain": [
       "0.5959"
      ]
     },
     "execution_count": 73,
     "metadata": {},
     "output_type": "execute_result"
    }
   ],
   "source": [
    "round(mean_squared_error(y_test, y_pred_test_d_neural), 4)"
   ]
  },
  {
   "cell_type": "markdown",
   "id": "00f99e96-f2a0-4e57-89fa-d7bde249ca04",
   "metadata": {},
   "source": [
    "Plot of predicted vs. response values."
   ]
  },
  {
   "cell_type": "code",
   "execution_count": 74,
   "id": "fc9dedae-aced-4a74-9b88-154a4219622b",
   "metadata": {
    "tags": []
   },
   "outputs": [
    {
     "data": {
      "text/plain": [
       "[Text(0.5, 0, 'predicted'), Text(0, 0.5, 'actual')]"
      ]
     },
     "execution_count": 74,
     "metadata": {},
     "output_type": "execute_result"
    },
    {
     "data": {
      "image/png": "[encoded data removed]",
      "text/plain": [
       "<Figure size 640x480 with 1 Axes>"
      ]
     },
     "metadata": {},
     "output_type": "display_data"
    }
   ],
   "source": [
    "plot = sns.regplot(x=y_pred_test_d_neural, y=y_test)\n",
    "plot.set(xlabel=\"predicted\", ylabel=\"actual\")"
   ]
  },
  {
   "cell_type": "markdown",
   "id": "28740499-1810-4798-82f5-902181e43d86",
   "metadata": {},
   "source": [
    "The sampling on the test set seems very unstable. Note how we can get two very different results when we redraw the samples."
   ]
  },
  {
   "cell_type": "code",
   "execution_count": 75,
   "id": "5f98518d-4841-4d2c-ab0d-824d1db512db",
   "metadata": {},
   "outputs": [
    {
     "name": "stderr",
     "output_type": "stream",
     "text": [
      "Sampling: [age_of_tree, coeffs_n10, coeffs_n11, coeffs_n12, coeffs_n13]\n"
     ]
    },
    {
     "data": {
      "text/html": [
       "\n",
       "<style>\n",
       "    /* Turns off some styling */\n",
       "    progress {\n",
       "        /* gets rid of default border in Firefox and Opera. */\n",
       "        border: none;\n",
       "        /* Needs to be in here for Safari polyfill so background images work as expected. */\n",
       "        background-size: auto;\n",
       "    }\n",
       "    progress:not([value]), progress:not([value])::-webkit-progress-bar {\n",
       "        background: repeating-linear-gradient(45deg, #7e7e7e, #7e7e7e 10px, #5c5c5c 10px, #5c5c5c 20px);\n",
       "    }\n",
       "    .progress-bar-interrupted, .progress-bar-interrupted::-webkit-progress-bar {\n",
       "        background: #F44336;\n",
       "    }\n",
       "</style>\n"
      ],
      "text/plain": [
       "<IPython.core.display.HTML object>"
      ]
     },
     "metadata": {},
     "output_type": "display_data"
    },
    {
     "data": {
      "text/html": [
       "\n",
       "    <div>\n",
       "      <progress value='20000' class='' max='20000' style='width:300px; height:20px; vertical-align: middle;'></progress>\n",
       "      100.00% [20000/20000 00:13&lt;00:00]\n",
       "    </div>\n",
       "    "
      ],
      "text/plain": [
       "<IPython.core.display.HTML object>"
      ]
     },
     "metadata": {},
     "output_type": "display_data"
    }
   ],
   "source": [
    "with m_d_neural:\n",
    "    pm.set_data({\"X\": X_test, \"y\": y_test})\n",
    "    ppc_test_d_neural = pm.sample_posterior_predictive(trace_d_neural) #, predictions=True)\n",
    "    y_pred_test_d_neural = ppc_test_d_neural.posterior_predictive.stack(sample=(\"chain\", \"draw\"))[\"age_of_tree\"].values.T.mean(axis=0)"
   ]
  },
  {
   "cell_type": "markdown",
   "id": "e01eb340-9bbe-42e7-81ce-d52d1353e1f5",
   "metadata": {},
   "source": [
    "Second prediction of MSE for sampling"
   ]
  },
  {
   "cell_type": "code",
   "execution_count": 76,
   "id": "64e2a58b-c3c0-4c67-9074-929709a0df53",
   "metadata": {
    "tags": []
   },
   "outputs": [
    {
     "data": {
      "text/plain": [
       "0.5905"
      ]
     },
     "execution_count": 76,
     "metadata": {},
     "output_type": "execute_result"
    }
   ],
   "source": [
    "round(mean_squared_error(y_test, y_pred_test_d_neural), 4)"
   ]
  },
  {
   "cell_type": "code",
   "execution_count": 77,
   "id": "69bc5135-1495-46f6-bbcd-10a227c56537",
   "metadata": {
    "tags": []
   },
   "outputs": [
    {
     "data": {
      "text/plain": [
       "[Text(0.5, 0, 'predicted'), Text(0, 0.5, 'actual')]"
      ]
     },
     "execution_count": 77,
     "metadata": {},
     "output_type": "execute_result"
    },
    {
     "data": {
      "image/png": "[encoded data removed]",
      "text/plain": [
       "<Figure size 640x480 with 1 Axes>"
      ]
     },
     "metadata": {},
     "output_type": "display_data"
    }
   ],
   "source": [
    "plot = sns.regplot(x=y_pred_test_d_neural, y=y_test)\n",
    "plot.set(xlabel=\"predicted\", ylabel=\"actual\")"
   ]
  },
  {
   "cell_type": "code",
   "execution_count": 78,
   "id": "9c158928-04a6-45d4-b077-97ce5e799d9b",
   "metadata": {},
   "outputs": [
    {
     "name": "stdout",
     "output_type": "stream",
     "text": [
      "Deep Neural model runtime: 5157.86 seconds\n"
     ]
    }
   ],
   "source": [
    "print(f\"Deep Neural model runtime: {round(time.time() - d_neural_start, 2)} seconds\")"
   ]
  },
  {
   "cell_type": "code",
   "execution_count": 79,
   "id": "4dcbad1a-976d-4e33-9a12-8bdfd32cc454",
   "metadata": {},
   "outputs": [
    {
     "name": "stdout",
     "output_type": "stream",
     "text": [
      "Last updated: Sat Dec 02 2023\n",
      "\n",
      "Python implementation: CPython\n",
      "Python version       : 3.11.6\n",
      "IPython version      : 8.15.0\n",
      "\n",
      "pytensor: 2.17.3\n",
      "\n",
      "seaborn: 0.13.0\n",
      "numpy  : 1.25.2\n",
      "arviz  : 0.16.1\n",
      "pymc   : 5.9.1\n",
      "pandas : 2.1.3\n",
      "\n"
     ]
    }
   ],
   "source": [
    "%load_ext watermark\n",
    "%watermark -n -u -v -iv -p pytensor"
   ]
  },
  {
   "cell_type": "markdown",
   "id": "3cd35384-fd0b-42c5-8742-9b7f908fd194",
   "metadata": {},
   "source": [
    "# --------------------------------"
   ]
  },
  {
   "cell_type": "code",
   "execution_count": null,
   "id": "c66bd8ec-8975-45cf-806f-e1e06472edc8",
   "metadata": {},
   "outputs": [],
   "source": []
  }
 ],
 "metadata": {
  "kernelspec": {
   "display_name": "Python 3 (ipykernel)",
   "language": "python",
   "name": "python3"
  },
  "language_info": {
   "codemirror_mode": {
    "name": "ipython",
    "version": 3
   },
   "file_extension": ".py",
   "mimetype": "text/x-python",
   "name": "python",
   "nbconvert_exporter": "python",
   "pygments_lexer": "ipython3",
   "version": "3.11.6"
  }
 },
 "nbformat": 4,
 "nbformat_minor": 5
}
