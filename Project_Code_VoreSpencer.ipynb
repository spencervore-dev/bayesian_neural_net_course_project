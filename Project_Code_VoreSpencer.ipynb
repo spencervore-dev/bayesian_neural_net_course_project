{
 "cells": [
  {
   "cell_type": "markdown",
   "id": "982a100f-0d65-4ecd-aa7d-6aa22a57c19c",
   "metadata": {},
   "source": [
    "# Georgia Tech ISYE6420 Course Project"
   ]
  },
  {
   "cell_type": "markdown",
   "id": "e953394c-a314-497f-9ebd-979b2e625688",
   "metadata": {},
   "source": [
    "### Fall 2023  \n",
    "### Spencer Vore"
   ]
  },
  {
   "cell_type": "code",
   "execution_count": 45,
   "id": "14dfbfb6-7a56-45f1-86ec-1509e9ecf0fb",
   "metadata": {},
   "outputs": [],
   "source": [
    "import pymc as pm\n",
    "import pandas as pd\n",
    "from pandas.api.types import is_numeric_dtype\n",
    "import numpy as np\n",
    "\n",
    "import arviz as az\n",
    "from collections.abc import Sequence\n",
    "from typing import Optional\n",
    "\n",
    "from sklearn.model_selection import train_test_split\n",
    "from sklearn.metrics import mean_squared_error\n",
    "\n",
    "import seaborn as sns"
   ]
  },
  {
   "cell_type": "markdown",
   "id": "29c6b737-be5c-4ce9-b77c-efcd2824b3fa",
   "metadata": {
    "tags": []
   },
   "source": [
    "## Define adjustable Constants / Settings  \n",
    "Use this to adjust script settings / MCMC run. Sorry, didn't add it to a .env file or something fancier. Works for purpose of demo / tinkering."
   ]
  },
  {
   "cell_type": "code",
   "execution_count": 2,
   "id": "620e860d-e953-4e3f-8ac3-4266669a89fb",
   "metadata": {},
   "outputs": [],
   "source": [
    "n_all = 4000 # Size of data we want for MCMC. Randomly sample this many points from full dataset. Includes train and test sample size.\n",
    "n_seed = 42 # Random seed for down sampling n datapoints from full dataset\n",
    "\n",
    "n_test = 2500 # Size of test set we want to saomple from n_all.\n",
    "split_seed = 43 # Random seed used for train / test split\n",
    "\n",
    "path_to_datafile = \"abalone/abalone.data\"\n",
    "\n",
    "standardize = True # Controls whether to standardize numerical columns\n",
    "\n",
    "linear_model_n_samples = 50 # how many samples to draw from MCMC for linear model. Set lower for testing. Set higher for official results.\n",
    "neural_model_n_samples = 500 # how many samples to draw from MCMC for neural model."
   ]
  },
  {
   "cell_type": "markdown",
   "id": "17dacb81-6181-4d5b-aa22-09c5f6e011b4",
   "metadata": {},
   "source": [
    "## Prepare Dataset"
   ]
  },
  {
   "cell_type": "markdown",
   "id": "a0ad572e-fa93-4b6f-b61a-ad4d9ca80ead",
   "metadata": {},
   "source": [
    "**Load Dataset**"
   ]
  },
  {
   "cell_type": "code",
   "execution_count": 3,
   "id": "e5726059-0095-4165-b2a8-6f716d505115",
   "metadata": {},
   "outputs": [],
   "source": [
    "data = pd.read_csv(path_to_datafile, header=None)"
   ]
  },
  {
   "cell_type": "code",
   "execution_count": 4,
   "id": "8abb4b7a-fdfe-4ac8-a82b-e89ef2b7a074",
   "metadata": {},
   "outputs": [
    {
     "data": {
      "text/html": [
       "<div>\n",
       "<style scoped>\n",
       "    .dataframe tbody tr th:only-of-type {\n",
       "        vertical-align: middle;\n",
       "    }\n",
       "\n",
       "    .dataframe tbody tr th {\n",
       "        vertical-align: top;\n",
       "    }\n",
       "\n",
       "    .dataframe thead th {\n",
       "        text-align: right;\n",
       "    }\n",
       "</style>\n",
       "<table border=\"1\" class=\"dataframe\">\n",
       "  <thead>\n",
       "    <tr style=\"text-align: right;\">\n",
       "      <th></th>\n",
       "      <th>0</th>\n",
       "      <th>1</th>\n",
       "      <th>2</th>\n",
       "      <th>3</th>\n",
       "      <th>4</th>\n",
       "      <th>5</th>\n",
       "      <th>6</th>\n",
       "      <th>7</th>\n",
       "      <th>8</th>\n",
       "    </tr>\n",
       "  </thead>\n",
       "  <tbody>\n",
       "    <tr>\n",
       "      <th>0</th>\n",
       "      <td>M</td>\n",
       "      <td>0.455</td>\n",
       "      <td>0.365</td>\n",
       "      <td>0.095</td>\n",
       "      <td>0.5140</td>\n",
       "      <td>0.2245</td>\n",
       "      <td>0.1010</td>\n",
       "      <td>0.150</td>\n",
       "      <td>15</td>\n",
       "    </tr>\n",
       "    <tr>\n",
       "      <th>1</th>\n",
       "      <td>M</td>\n",
       "      <td>0.350</td>\n",
       "      <td>0.265</td>\n",
       "      <td>0.090</td>\n",
       "      <td>0.2255</td>\n",
       "      <td>0.0995</td>\n",
       "      <td>0.0485</td>\n",
       "      <td>0.070</td>\n",
       "      <td>7</td>\n",
       "    </tr>\n",
       "    <tr>\n",
       "      <th>2</th>\n",
       "      <td>F</td>\n",
       "      <td>0.530</td>\n",
       "      <td>0.420</td>\n",
       "      <td>0.135</td>\n",
       "      <td>0.6770</td>\n",
       "      <td>0.2565</td>\n",
       "      <td>0.1415</td>\n",
       "      <td>0.210</td>\n",
       "      <td>9</td>\n",
       "    </tr>\n",
       "    <tr>\n",
       "      <th>3</th>\n",
       "      <td>M</td>\n",
       "      <td>0.440</td>\n",
       "      <td>0.365</td>\n",
       "      <td>0.125</td>\n",
       "      <td>0.5160</td>\n",
       "      <td>0.2155</td>\n",
       "      <td>0.1140</td>\n",
       "      <td>0.155</td>\n",
       "      <td>10</td>\n",
       "    </tr>\n",
       "    <tr>\n",
       "      <th>4</th>\n",
       "      <td>I</td>\n",
       "      <td>0.330</td>\n",
       "      <td>0.255</td>\n",
       "      <td>0.080</td>\n",
       "      <td>0.2050</td>\n",
       "      <td>0.0895</td>\n",
       "      <td>0.0395</td>\n",
       "      <td>0.055</td>\n",
       "      <td>7</td>\n",
       "    </tr>\n",
       "  </tbody>\n",
       "</table>\n",
       "</div>"
      ],
      "text/plain": [
       "   0      1      2      3       4       5       6      7   8\n",
       "0  M  0.455  0.365  0.095  0.5140  0.2245  0.1010  0.150  15\n",
       "1  M  0.350  0.265  0.090  0.2255  0.0995  0.0485  0.070   7\n",
       "2  F  0.530  0.420  0.135  0.6770  0.2565  0.1415  0.210   9\n",
       "3  M  0.440  0.365  0.125  0.5160  0.2155  0.1140  0.155  10\n",
       "4  I  0.330  0.255  0.080  0.2050  0.0895  0.0395  0.055   7"
      ]
     },
     "execution_count": 4,
     "metadata": {},
     "output_type": "execute_result"
    }
   ],
   "source": [
    "data.head()"
   ]
  },
  {
   "cell_type": "code",
   "execution_count": 5,
   "id": "60bf06f2-17bd-4521-99bc-be01a8a6aad0",
   "metadata": {},
   "outputs": [
    {
     "data": {
      "text/plain": [
       "(4177, 9)"
      ]
     },
     "execution_count": 5,
     "metadata": {},
     "output_type": "execute_result"
    }
   ],
   "source": [
    "data.shape"
   ]
  },
  {
   "cell_type": "markdown",
   "id": "cb05078b-2a98-4603-a18f-df97c4abedb0",
   "metadata": {},
   "source": [
    "**Downsample dataset**  \n",
    "This will help the MCMC algorithm run faster... can adjust upward for better prediction accuracy, or downward for faster computation. Take random sample of data."
   ]
  },
  {
   "cell_type": "code",
   "execution_count": 6,
   "id": "688c2494-0a52-4937-9aa3-d83519774f1e",
   "metadata": {},
   "outputs": [],
   "source": [
    "# Uncomment this line to use full datasize\n",
    "# n = data.shape[0]"
   ]
  },
  {
   "cell_type": "code",
   "execution_count": 7,
   "id": "81ebf77f-1224-42e2-a7ef-73c78a33ceb4",
   "metadata": {},
   "outputs": [],
   "source": [
    "n = n_all\n",
    "assert n <= data.shape[0] # Can't chose more samples than size of data\n",
    "data = data.sample(n, random_state=n_seed)"
   ]
  },
  {
   "cell_type": "markdown",
   "id": "f5aa2a6d-f7d1-424f-af80-10958704e42a",
   "metadata": {},
   "source": [
    "**Split data into training and test sets**"
   ]
  },
  {
   "cell_type": "code",
   "execution_count": 8,
   "id": "fb54e041-bbb3-4ca1-b2a4-8ef6ca05e8f1",
   "metadata": {},
   "outputs": [
    {
     "data": {
      "text/plain": [
       "(4000, 9)"
      ]
     },
     "execution_count": 8,
     "metadata": {},
     "output_type": "execute_result"
    }
   ],
   "source": [
    "data.shape"
   ]
  },
  {
   "cell_type": "code",
   "execution_count": 9,
   "id": "b74d7e01-ee4b-4ac9-8486-ea15127c1d0c",
   "metadata": {},
   "outputs": [],
   "source": [
    "assert n_test < n_all # Test size should be smaller than full size\n",
    "train_data, test_data = train_test_split(data, test_size=n_test, random_state=split_seed)"
   ]
  },
  {
   "cell_type": "code",
   "execution_count": 10,
   "id": "72d15c10-55cc-4201-ac07-abb3a460e497",
   "metadata": {},
   "outputs": [
    {
     "data": {
      "text/plain": [
       "(1500, 9)"
      ]
     },
     "execution_count": 10,
     "metadata": {},
     "output_type": "execute_result"
    }
   ],
   "source": [
    "train_data.shape"
   ]
  },
  {
   "cell_type": "code",
   "execution_count": 11,
   "id": "69f2908b-83d5-4feb-8ae2-b741f208a770",
   "metadata": {},
   "outputs": [
    {
     "data": {
      "text/plain": [
       "(2500, 9)"
      ]
     },
     "execution_count": 11,
     "metadata": {},
     "output_type": "execute_result"
    }
   ],
   "source": [
    "test_data.shape"
   ]
  },
  {
   "cell_type": "markdown",
   "id": "2756917e-ea1e-4923-891d-8e47350eef18",
   "metadata": {},
   "source": [
    "**Standardize train dataset**  \n",
    "Not sure if this is nessecary, but doesn't hurt and could help."
   ]
  },
  {
   "cell_type": "code",
   "execution_count": 12,
   "id": "38cb434e-e16b-43c6-9d2d-2d9fda5f4872",
   "metadata": {},
   "outputs": [],
   "source": [
    "class DataPrep:\n",
    "    '''\n",
    "    Standardize the data. By writing this as an object, we can save the statistics calculated for the standardization\n",
    "    so we can use them later to predict new datapoints in our model.\n",
    "    '''\n",
    "    def __init__(self):\n",
    "        self.means = dict()\n",
    "        self.stdevs = dict()\n",
    "        \n",
    "    def prep(self, X_df: pd.DataFrame, X_df_all: Optional[pd.DataFrame] = None, \n",
    "             use_prev_standardization=False, standardize=True) -> pd.DataFrame:\n",
    "        \"\"\"\n",
    "        This takes a dataset, and prepares it. Numerical columns are standardized. Categorical columns \n",
    "        are one hot encoded so we can fit a numerical regression with a coefficient for each category.\n",
    "        \n",
    "        From TA's example github for numerical standardization\n",
    "        Standardize input variables by 2 std dev.\n",
    "\n",
    "        For standardization, see:\n",
    "        https://stat.columbia.edu/~gelman/research/published/standardizing7.pdf\n",
    "        https://areding.github.io/6420-pymc/unit7/Unit7-arrhythmia.html\n",
    "        \n",
    "        INPUTS:\n",
    "        X_df - The train or test dataset you want to standardize and one hot encode\n",
    "        X_df_all - The full dataset you sampled X_df from. Used to check that all categorical values in X_df_all are also in X_df. Otherwise,\n",
    "            you will get an output dataset that doesn't fully one hot encode the full dataset and your dimensions will be off. If this fails,\n",
    "            you will need to add more logic to this function to handle the edge case. Right now, it just throws and exception.\n",
    "        use_prev_standardization - Set this to true is X_df is a test set. This will use previously saved means and stdevs from training set \n",
    "            (saved in the object) to standardize the test dataset in the same way. If fasle, will recalculate the means and stdev from X_df.\n",
    "        \n",
    "        RETURNS:\n",
    "        Standardized and one hot encoded dataframe based on X_df input\n",
    "        \"\"\"\n",
    "        \n",
    "        X_standardized = pd.DataFrame()\n",
    "            \n",
    "        for colname in X_df.columns:\n",
    "            col = X_df[colname]\n",
    "            if is_numeric_dtype(col):\n",
    "                if standardize:\n",
    "                    if not use_prev_standardization:\n",
    "                        self.means[colname] = col.mean()\n",
    "                        self.stdevs[colname] = col.std()\n",
    "                    X_standardized[colname] = (col - self.means[colname]) / (2 * self.stdevs[colname])\n",
    "                else:\n",
    "                    if not use_prev_standardization:\n",
    "                        self.means[colname] = None\n",
    "                        self.stdevs[colname] = None\n",
    "                    X_standardized[colname] = col\n",
    "            else:\n",
    "                X_onehot = pd.get_dummies(X_df[colname], prefix=colname, dtype=int)\n",
    "                \n",
    "                # Make sure all categorical values are in subsample. If this breaks,\n",
    "                # add logic to handle this edge case, such as inserting missing column where \n",
    "                # everything is False\n",
    "                X_onehot_all = pd.get_dummies(X_df_all[colname], prefix=colname, dtype=int)\n",
    "                assert set(X_onehot.columns) == set(X_onehot_all.columns)\n",
    "                    \n",
    "                if X_standardized.empty:\n",
    "                    X_standardized = X_onehot\n",
    "                else:\n",
    "                    X_standardized = X_standardized.join(X_onehot)\n",
    "                if not use_prev_standardization:\n",
    "                    onehot_colnames = X_onehot.columns\n",
    "                    for o_colname in onehot_colnames:\n",
    "                        self.means[o_colname] = None\n",
    "                        self.stdevs[o_colname] = None\n",
    "\n",
    "        return X_standardized\n"
   ]
  },
  {
   "cell_type": "code",
   "execution_count": 13,
   "id": "cf25228b-7bc0-4fdb-bb62-a81cbe0c963b",
   "metadata": {},
   "outputs": [],
   "source": [
    "data_preper = DataPrep()\n",
    "train_data_std = data_preper.prep(X_df = train_data, X_df_all = data, standardize=standardize)"
   ]
  },
  {
   "cell_type": "code",
   "execution_count": 14,
   "id": "bfb78427-ef2a-4990-8533-cdcb22a78d68",
   "metadata": {},
   "outputs": [
    {
     "data": {
      "text/html": [
       "<div>\n",
       "<style scoped>\n",
       "    .dataframe tbody tr th:only-of-type {\n",
       "        vertical-align: middle;\n",
       "    }\n",
       "\n",
       "    .dataframe tbody tr th {\n",
       "        vertical-align: top;\n",
       "    }\n",
       "\n",
       "    .dataframe thead th {\n",
       "        text-align: right;\n",
       "    }\n",
       "</style>\n",
       "<table border=\"1\" class=\"dataframe\">\n",
       "  <thead>\n",
       "    <tr style=\"text-align: right;\">\n",
       "      <th></th>\n",
       "      <th>0_F</th>\n",
       "      <th>0_I</th>\n",
       "      <th>0_M</th>\n",
       "      <th>1</th>\n",
       "      <th>2</th>\n",
       "      <th>3</th>\n",
       "      <th>4</th>\n",
       "      <th>5</th>\n",
       "      <th>6</th>\n",
       "      <th>7</th>\n",
       "      <th>8</th>\n",
       "    </tr>\n",
       "  </thead>\n",
       "  <tbody>\n",
       "    <tr>\n",
       "      <th>1335</th>\n",
       "      <td>1</td>\n",
       "      <td>0</td>\n",
       "      <td>0</td>\n",
       "      <td>0.200543</td>\n",
       "      <td>0.349441</td>\n",
       "      <td>0.317187</td>\n",
       "      <td>0.234926</td>\n",
       "      <td>0.322179</td>\n",
       "      <td>0.113948</td>\n",
       "      <td>0.227865</td>\n",
       "      <td>-0.147831</td>\n",
       "    </tr>\n",
       "    <tr>\n",
       "      <th>2944</th>\n",
       "      <td>0</td>\n",
       "      <td>0</td>\n",
       "      <td>1</td>\n",
       "      <td>0.425458</td>\n",
       "      <td>0.498294</td>\n",
       "      <td>0.380956</td>\n",
       "      <td>0.346071</td>\n",
       "      <td>0.278599</td>\n",
       "      <td>0.552176</td>\n",
       "      <td>0.377577</td>\n",
       "      <td>-0.458618</td>\n",
       "    </tr>\n",
       "    <tr>\n",
       "      <th>542</th>\n",
       "      <td>0</td>\n",
       "      <td>0</td>\n",
       "      <td>1</td>\n",
       "      <td>-0.433309</td>\n",
       "      <td>-0.419634</td>\n",
       "      <td>-0.320503</td>\n",
       "      <td>-0.559187</td>\n",
       "      <td>-0.596337</td>\n",
       "      <td>-0.575018</td>\n",
       "      <td>-0.458314</td>\n",
       "      <td>0.784530</td>\n",
       "    </tr>\n",
       "    <tr>\n",
       "      <th>1128</th>\n",
       "      <td>1</td>\n",
       "      <td>0</td>\n",
       "      <td>0</td>\n",
       "      <td>0.139202</td>\n",
       "      <td>0.150970</td>\n",
       "      <td>0.189649</td>\n",
       "      <td>-0.205130</td>\n",
       "      <td>-0.068917</td>\n",
       "      <td>-0.035140</td>\n",
       "      <td>0.010426</td>\n",
       "      <td>-0.303224</td>\n",
       "    </tr>\n",
       "    <tr>\n",
       "      <th>1870</th>\n",
       "      <td>0</td>\n",
       "      <td>1</td>\n",
       "      <td>0</td>\n",
       "      <td>0.016521</td>\n",
       "      <td>0.101352</td>\n",
       "      <td>-0.001658</td>\n",
       "      <td>-0.168417</td>\n",
       "      <td>-0.153841</td>\n",
       "      <td>-0.396564</td>\n",
       "      <td>-0.043042</td>\n",
       "      <td>-0.303224</td>\n",
       "    </tr>\n",
       "  </tbody>\n",
       "</table>\n",
       "</div>"
      ],
      "text/plain": [
       "      0_F  0_I  0_M         1         2         3         4         5  \\\n",
       "1335    1    0    0  0.200543  0.349441  0.317187  0.234926  0.322179   \n",
       "2944    0    0    1  0.425458  0.498294  0.380956  0.346071  0.278599   \n",
       "542     0    0    1 -0.433309 -0.419634 -0.320503 -0.559187 -0.596337   \n",
       "1128    1    0    0  0.139202  0.150970  0.189649 -0.205130 -0.068917   \n",
       "1870    0    1    0  0.016521  0.101352 -0.001658 -0.168417 -0.153841   \n",
       "\n",
       "             6         7         8  \n",
       "1335  0.113948  0.227865 -0.147831  \n",
       "2944  0.552176  0.377577 -0.458618  \n",
       "542  -0.575018 -0.458314  0.784530  \n",
       "1128 -0.035140  0.010426 -0.303224  \n",
       "1870 -0.396564 -0.043042 -0.303224  "
      ]
     },
     "execution_count": 14,
     "metadata": {},
     "output_type": "execute_result"
    }
   ],
   "source": [
    "train_data_std.head()"
   ]
  },
  {
   "cell_type": "code",
   "execution_count": 15,
   "id": "c462f0bd-fca5-494d-a9b2-cfde83e43a79",
   "metadata": {},
   "outputs": [
    {
     "data": {
      "text/plain": [
       "(1500, 11)"
      ]
     },
     "execution_count": 15,
     "metadata": {},
     "output_type": "execute_result"
    }
   ],
   "source": [
    "train_data_std.shape"
   ]
  },
  {
   "cell_type": "code",
   "execution_count": 16,
   "id": "cccb3f63-aa3f-4044-adfa-076dc2d84df5",
   "metadata": {},
   "outputs": [
    {
     "data": {
      "text/plain": [
       "{'0_F': None,\n",
       " '0_I': None,\n",
       " '0_M': None,\n",
       " 1: 0.52596,\n",
       " 2: 0.4095733333333333,\n",
       " 3: 0.14013,\n",
       " 4: 0.8444386666666666,\n",
       " 5: 0.3668376666666666,\n",
       " 6: 0.18427800000000003,\n",
       " 7: 0.24207499999999996,\n",
       " 8: 9.951333333333332}"
      ]
     },
     "execution_count": 16,
     "metadata": {},
     "output_type": "execute_result"
    }
   ],
   "source": [
    "data_preper.means"
   ]
  },
  {
   "cell_type": "code",
   "execution_count": 17,
   "id": "ef06a4cf-93d6-4981-ad0e-660633a0d611",
   "metadata": {},
   "outputs": [
    {
     "data": {
      "text/plain": [
       "{'0_F': None,\n",
       " '0_I': None,\n",
       " '0_M': None,\n",
       " 1: 0.12226833099038954,\n",
       " 2: 0.10077047061211507,\n",
       " 3: 0.039204052577410005,\n",
       " 4: 0.49709575103329184,\n",
       " 5: 0.22373050315036502,\n",
       " 6: 0.1106730759300738,\n",
       " 7: 0.14026943674558362,\n",
       " 8: 3.217638941179192}"
      ]
     },
     "execution_count": 17,
     "metadata": {},
     "output_type": "execute_result"
    }
   ],
   "source": [
    "data_preper.stdevs"
   ]
  },
  {
   "cell_type": "code",
   "execution_count": 18,
   "id": "92b47480-2f70-4028-b06d-c5045ddbfe1e",
   "metadata": {},
   "outputs": [],
   "source": [
    "X_train = train_data_std.drop(8, axis=1).to_numpy()\n",
    "y_train = train_data_std[8].to_numpy()"
   ]
  },
  {
   "cell_type": "code",
   "execution_count": 19,
   "id": "ae95b51e-ed5e-4d8e-8014-536cef232e10",
   "metadata": {},
   "outputs": [
    {
     "data": {
      "text/plain": [
       "array([[ 1.        ,  0.        ,  0.        , ...,  0.32217854,\n",
       "         0.11394822,  0.22786503],\n",
       "       [ 0.        ,  0.        ,  1.        , ...,  0.27859932,\n",
       "         0.55217585,  0.37757691],\n",
       "       [ 0.        ,  0.        ,  1.        , ..., -0.59633725,\n",
       "        -0.5750179 , -0.45831438],\n",
       "       ...,\n",
       "       [ 1.        ,  0.        ,  0.        , ..., -0.50582657,\n",
       "        -0.38752876, -0.50643605],\n",
       "       [ 0.        ,  1.        ,  0.        , ..., -0.77735861,\n",
       "        -0.78283719, -0.8165535 ],\n",
       "       [ 0.        ,  1.        ,  0.        , ..., -0.62650748,\n",
       "        -0.64278506, -0.61337311]])"
      ]
     },
     "execution_count": 19,
     "metadata": {},
     "output_type": "execute_result"
    }
   ],
   "source": [
    "X_train"
   ]
  },
  {
   "cell_type": "markdown",
   "id": "bab08c31-35f9-417c-8ce9-b066783830cf",
   "metadata": {},
   "source": [
    "**Apply standardization to test dataset**"
   ]
  },
  {
   "cell_type": "code",
   "execution_count": 20,
   "id": "1ddfbd5e-d893-4de5-b907-fc1c8c2cd725",
   "metadata": {},
   "outputs": [],
   "source": [
    "test_data_std = data_preper.prep(X_df = test_data, X_df_all = data, use_prev_standardization=True, standardize=standardize)"
   ]
  },
  {
   "cell_type": "code",
   "execution_count": 21,
   "id": "4e492b6a-e6d8-464c-9891-a2eb49ecf7aa",
   "metadata": {},
   "outputs": [
    {
     "data": {
      "text/html": [
       "<div>\n",
       "<style scoped>\n",
       "    .dataframe tbody tr th:only-of-type {\n",
       "        vertical-align: middle;\n",
       "    }\n",
       "\n",
       "    .dataframe tbody tr th {\n",
       "        vertical-align: top;\n",
       "    }\n",
       "\n",
       "    .dataframe thead th {\n",
       "        text-align: right;\n",
       "    }\n",
       "</style>\n",
       "<table border=\"1\" class=\"dataframe\">\n",
       "  <thead>\n",
       "    <tr style=\"text-align: right;\">\n",
       "      <th></th>\n",
       "      <th>0_F</th>\n",
       "      <th>0_I</th>\n",
       "      <th>0_M</th>\n",
       "      <th>1</th>\n",
       "      <th>2</th>\n",
       "      <th>3</th>\n",
       "      <th>4</th>\n",
       "      <th>5</th>\n",
       "      <th>6</th>\n",
       "      <th>7</th>\n",
       "      <th>8</th>\n",
       "    </tr>\n",
       "  </thead>\n",
       "  <tbody>\n",
       "    <tr>\n",
       "      <th>2194</th>\n",
       "      <td>0</td>\n",
       "      <td>1</td>\n",
       "      <td>0</td>\n",
       "      <td>-0.392416</td>\n",
       "      <td>-0.419634</td>\n",
       "      <td>-0.384271</td>\n",
       "      <td>-0.479725</td>\n",
       "      <td>-0.517001</td>\n",
       "      <td>-0.410118</td>\n",
       "      <td>-0.435145</td>\n",
       "      <td>0.473743</td>\n",
       "    </tr>\n",
       "    <tr>\n",
       "      <th>2879</th>\n",
       "      <td>0</td>\n",
       "      <td>1</td>\n",
       "      <td>0</td>\n",
       "      <td>-0.228841</td>\n",
       "      <td>-0.121927</td>\n",
       "      <td>-0.129196</td>\n",
       "      <td>-0.258943</td>\n",
       "      <td>-0.229825</td>\n",
       "      <td>-0.303949</td>\n",
       "      <td>-0.242658</td>\n",
       "      <td>-0.303224</td>\n",
       "    </tr>\n",
       "    <tr>\n",
       "      <th>3320</th>\n",
       "      <td>1</td>\n",
       "      <td>0</td>\n",
       "      <td>0</td>\n",
       "      <td>0.036968</td>\n",
       "      <td>0.076544</td>\n",
       "      <td>0.189649</td>\n",
       "      <td>-0.068336</td>\n",
       "      <td>-0.144901</td>\n",
       "      <td>-0.125496</td>\n",
       "      <td>0.028249</td>\n",
       "      <td>0.939923</td>\n",
       "    </tr>\n",
       "    <tr>\n",
       "      <th>691</th>\n",
       "      <td>0</td>\n",
       "      <td>1</td>\n",
       "      <td>0</td>\n",
       "      <td>-1.108055</td>\n",
       "      <td>-1.089473</td>\n",
       "      <td>-0.830654</td>\n",
       "      <td>-0.762367</td>\n",
       "      <td>-0.742719</td>\n",
       "      <td>-0.739918</td>\n",
       "      <td>-0.773779</td>\n",
       "      <td>-0.769405</td>\n",
       "    </tr>\n",
       "    <tr>\n",
       "      <th>3415</th>\n",
       "      <td>1</td>\n",
       "      <td>0</td>\n",
       "      <td>0</td>\n",
       "      <td>0.139202</td>\n",
       "      <td>0.275014</td>\n",
       "      <td>0.253418</td>\n",
       "      <td>0.188154</td>\n",
       "      <td>0.145627</td>\n",
       "      <td>0.082324</td>\n",
       "      <td>0.338367</td>\n",
       "      <td>-0.147831</td>\n",
       "    </tr>\n",
       "  </tbody>\n",
       "</table>\n",
       "</div>"
      ],
      "text/plain": [
       "      0_F  0_I  0_M         1         2         3         4         5  \\\n",
       "2194    0    1    0 -0.392416 -0.419634 -0.384271 -0.479725 -0.517001   \n",
       "2879    0    1    0 -0.228841 -0.121927 -0.129196 -0.258943 -0.229825   \n",
       "3320    1    0    0  0.036968  0.076544  0.189649 -0.068336 -0.144901   \n",
       "691     0    1    0 -1.108055 -1.089473 -0.830654 -0.762367 -0.742719   \n",
       "3415    1    0    0  0.139202  0.275014  0.253418  0.188154  0.145627   \n",
       "\n",
       "             6         7         8  \n",
       "2194 -0.410118 -0.435145  0.473743  \n",
       "2879 -0.303949 -0.242658 -0.303224  \n",
       "3320 -0.125496  0.028249  0.939923  \n",
       "691  -0.739918 -0.773779 -0.769405  \n",
       "3415  0.082324  0.338367 -0.147831  "
      ]
     },
     "execution_count": 21,
     "metadata": {},
     "output_type": "execute_result"
    }
   ],
   "source": [
    "test_data_std.head()"
   ]
  },
  {
   "cell_type": "code",
   "execution_count": 22,
   "id": "a7ab3786-45de-4950-944b-f00c15b2b9e8",
   "metadata": {},
   "outputs": [
    {
     "data": {
      "text/plain": [
       "(2500, 11)"
      ]
     },
     "execution_count": 22,
     "metadata": {},
     "output_type": "execute_result"
    }
   ],
   "source": [
    "test_data_std.shape"
   ]
  },
  {
   "cell_type": "code",
   "execution_count": 23,
   "id": "b4d7e268-107d-4dbb-a8d2-8d776aee03e6",
   "metadata": {},
   "outputs": [],
   "source": [
    "X_test = test_data_std.drop(8, axis=1).to_numpy()\n",
    "y_test = test_data_std[8].to_numpy()"
   ]
  },
  {
   "cell_type": "code",
   "execution_count": 24,
   "id": "81f382f4-faf9-4578-9735-e0ce18c4cb22",
   "metadata": {},
   "outputs": [
    {
     "data": {
      "text/plain": [
       "array([ 0.47374282, -0.30322441,  0.93992315, -0.76940474, -0.14783096,\n",
       "        0.00756248, -0.14783096,  1.56149693, -0.14783096, -0.14783096,\n",
       "       -0.14783096, -0.14783096,  0.31834937,  0.16295593,  0.16295593,\n",
       "        0.00756248, -0.45861785, -0.45861785,  0.16295593,  0.31834937,\n",
       "        0.00756248, -0.6140113 ,  0.00756248,  0.00756248, -0.45861785,\n",
       "       -0.14783096,  0.00756248,  0.16295593, -0.14783096, -0.14783096,\n",
       "        0.00756248, -0.6140113 , -0.76940474,  0.16295593,  0.93992315,\n",
       "        0.31834937, -0.45861785, -0.30322441,  0.00756248,  0.16295593])"
      ]
     },
     "execution_count": 24,
     "metadata": {},
     "output_type": "execute_result"
    }
   ],
   "source": [
    "y_test[:40]"
   ]
  },
  {
   "cell_type": "markdown",
   "id": "6f34cf85-173c-43a6-bb7a-69ae0af16fee",
   "metadata": {},
   "source": [
    "## Fit linear regression model"
   ]
  },
  {
   "cell_type": "markdown",
   "id": "77c3bf09-d4f3-4536-8f9a-d16794a68435",
   "metadata": {},
   "source": [
    "Some examples that were referenced:  \n",
    "https://www.pymc.io/projects/examples/en/latest/generalized_linear_models/GLM-robust.html  \n",
    "https://www.pymc.io/projects/examples/en/latest/generalized_linear_models/GLM-out-of-sample-predictions.html  "
   ]
  },
  {
   "cell_type": "code",
   "execution_count": 25,
   "id": "1cdee0e0-6a89-4154-98df-1c80150d263b",
   "metadata": {},
   "outputs": [
    {
     "name": "stderr",
     "output_type": "stream",
     "text": [
      "Only 50 samples in chain.\n",
      "Auto-assigning NUTS sampler...\n",
      "Initializing NUTS using jitter+adapt_diag...\n",
      "Multiprocess sampling (4 chains in 4 jobs)\n",
      "NUTS: [intercept, coeffs, sigma]\n"
     ]
    },
    {
     "data": {
      "text/html": [
       "\n",
       "<style>\n",
       "    /* Turns off some styling */\n",
       "    progress {\n",
       "        /* gets rid of default border in Firefox and Opera. */\n",
       "        border: none;\n",
       "        /* Needs to be in here for Safari polyfill so background images work as expected. */\n",
       "        background-size: auto;\n",
       "    }\n",
       "    progress:not([value]), progress:not([value])::-webkit-progress-bar {\n",
       "        background: repeating-linear-gradient(45deg, #7e7e7e, #7e7e7e 10px, #5c5c5c 10px, #5c5c5c 20px);\n",
       "    }\n",
       "    .progress-bar-interrupted, .progress-bar-interrupted::-webkit-progress-bar {\n",
       "        background: #F44336;\n",
       "    }\n",
       "</style>\n"
      ],
      "text/plain": [
       "<IPython.core.display.HTML object>"
      ]
     },
     "metadata": {},
     "output_type": "display_data"
    },
    {
     "data": {
      "text/html": [
       "\n",
       "    <div>\n",
       "      <progress value='4200' class='' max='4200' style='width:300px; height:20px; vertical-align: middle;'></progress>\n",
       "      100.00% [4200/4200 02:17&lt;00:00 Sampling 4 chains, 0 divergences]\n",
       "    </div>\n",
       "    "
      ],
      "text/plain": [
       "<IPython.core.display.HTML object>"
      ]
     },
     "metadata": {},
     "output_type": "display_data"
    },
    {
     "name": "stderr",
     "output_type": "stream",
     "text": [
      "Sampling 4 chains for 1_000 tune and 50 draw iterations (4_000 + 200 draws total) took 137 seconds.\n",
      "The number of samples is too small to check convergence reliably.\n",
      "Sampling: [age_of_tree]\n"
     ]
    },
    {
     "data": {
      "text/html": [
       "\n",
       "<style>\n",
       "    /* Turns off some styling */\n",
       "    progress {\n",
       "        /* gets rid of default border in Firefox and Opera. */\n",
       "        border: none;\n",
       "        /* Needs to be in here for Safari polyfill so background images work as expected. */\n",
       "        background-size: auto;\n",
       "    }\n",
       "    progress:not([value]), progress:not([value])::-webkit-progress-bar {\n",
       "        background: repeating-linear-gradient(45deg, #7e7e7e, #7e7e7e 10px, #5c5c5c 10px, #5c5c5c 20px);\n",
       "    }\n",
       "    .progress-bar-interrupted, .progress-bar-interrupted::-webkit-progress-bar {\n",
       "        background: #F44336;\n",
       "    }\n",
       "</style>\n"
      ],
      "text/plain": [
       "<IPython.core.display.HTML object>"
      ]
     },
     "metadata": {},
     "output_type": "display_data"
    },
    {
     "data": {
      "text/html": [
       "\n",
       "    <div>\n",
       "      <progress value='200' class='' max='200' style='width:300px; height:20px; vertical-align: middle;'></progress>\n",
       "      100.00% [200/200 00:00&lt;00:00]\n",
       "    </div>\n",
       "    "
      ],
      "text/plain": [
       "<IPython.core.display.HTML object>"
      ]
     },
     "metadata": {},
     "output_type": "display_data"
    }
   ],
   "source": [
    "with pm.Model() as m_linear:\n",
    "    # associate data with model (this makes prediction easier)\n",
    "    X_data = pm.Data(\"X\", X_train, mutable=True)\n",
    "    y_data = pm.Data(\"y\", y_train, mutable=True)\n",
    "    \n",
    "    intercept = pm.StudentT(\"intercept\", mu=0, sigma=5, nu=3)\n",
    "    coeffs = pm.StudentT(\"coeffs\", mu=0, sigma=5, nu=3, shape=X_data.shape[1])\n",
    "    sigma = pm.HalfCauchy(\"sigma\", beta=10)\n",
    "\n",
    "    mu = intercept + pm.math.dot(X_data, coeffs)\n",
    "\n",
    "    # likelihood\n",
    "    pm.StudentT(\"age_of_tree\", mu=mu, sigma=sigma, nu=3, observed=y_data)\n",
    "\n",
    "    # start sampling\n",
    "    trace_linear = pm.sample(linear_model_n_samples)\n",
    "    ppc = pm.sample_posterior_predictive(trace_linear)\n",
    "    \n",
    "    y_pred = ppc.posterior_predictive.stack(sample=(\"chain\", \"draw\"))[\"age_of_tree\"].values.T.mean(axis=0)"
   ]
  },
  {
   "cell_type": "code",
   "execution_count": 26,
   "id": "2521611d-0dfb-43a5-8c21-9353d52eea8b",
   "metadata": {},
   "outputs": [
    {
     "data": {
      "text/plain": [
       "(1500,)"
      ]
     },
     "execution_count": 26,
     "metadata": {},
     "output_type": "execute_result"
    }
   ],
   "source": [
    "y_pred.shape"
   ]
  },
  {
   "cell_type": "code",
   "execution_count": 27,
   "id": "6ac19b0e-2698-45b1-990a-16fc6bb96cad",
   "metadata": {},
   "outputs": [
    {
     "data": {
      "text/html": [
       "<div>\n",
       "<style scoped>\n",
       "    .dataframe tbody tr th:only-of-type {\n",
       "        vertical-align: middle;\n",
       "    }\n",
       "\n",
       "    .dataframe tbody tr th {\n",
       "        vertical-align: top;\n",
       "    }\n",
       "\n",
       "    .dataframe thead th {\n",
       "        text-align: right;\n",
       "    }\n",
       "</style>\n",
       "<table border=\"1\" class=\"dataframe\">\n",
       "  <thead>\n",
       "    <tr style=\"text-align: right;\">\n",
       "      <th></th>\n",
       "      <th>mean</th>\n",
       "      <th>sd</th>\n",
       "      <th>hdi_2.5%</th>\n",
       "      <th>hdi_97.5%</th>\n",
       "      <th>mcse_mean</th>\n",
       "      <th>mcse_sd</th>\n",
       "      <th>ess_bulk</th>\n",
       "      <th>ess_tail</th>\n",
       "      <th>r_hat</th>\n",
       "    </tr>\n",
       "  </thead>\n",
       "  <tbody>\n",
       "    <tr>\n",
       "      <th>intercept</th>\n",
       "      <td>0.272</td>\n",
       "      <td>2.114</td>\n",
       "      <td>-3.557</td>\n",
       "      <td>4.293</td>\n",
       "      <td>0.261</td>\n",
       "      <td>0.186</td>\n",
       "      <td>67.0</td>\n",
       "      <td>136.0</td>\n",
       "      <td>1.04</td>\n",
       "    </tr>\n",
       "    <tr>\n",
       "      <th>coeffs[0]</th>\n",
       "      <td>-0.315</td>\n",
       "      <td>2.113</td>\n",
       "      <td>-4.334</td>\n",
       "      <td>3.511</td>\n",
       "      <td>0.262</td>\n",
       "      <td>0.186</td>\n",
       "      <td>66.0</td>\n",
       "      <td>136.0</td>\n",
       "      <td>1.04</td>\n",
       "    </tr>\n",
       "    <tr>\n",
       "      <th>coeffs[1]</th>\n",
       "      <td>-0.386</td>\n",
       "      <td>2.114</td>\n",
       "      <td>-4.400</td>\n",
       "      <td>3.455</td>\n",
       "      <td>0.261</td>\n",
       "      <td>0.185</td>\n",
       "      <td>67.0</td>\n",
       "      <td>136.0</td>\n",
       "      <td>1.04</td>\n",
       "    </tr>\n",
       "    <tr>\n",
       "      <th>coeffs[2]</th>\n",
       "      <td>-0.278</td>\n",
       "      <td>2.114</td>\n",
       "      <td>-4.303</td>\n",
       "      <td>3.544</td>\n",
       "      <td>0.261</td>\n",
       "      <td>0.185</td>\n",
       "      <td>67.0</td>\n",
       "      <td>136.0</td>\n",
       "      <td>1.04</td>\n",
       "    </tr>\n",
       "    <tr>\n",
       "      <th>coeffs[3]</th>\n",
       "      <td>0.009</td>\n",
       "      <td>0.092</td>\n",
       "      <td>-0.157</td>\n",
       "      <td>0.188</td>\n",
       "      <td>0.008</td>\n",
       "      <td>0.006</td>\n",
       "      <td>119.0</td>\n",
       "      <td>120.0</td>\n",
       "      <td>1.01</td>\n",
       "    </tr>\n",
       "    <tr>\n",
       "      <th>coeffs[4]</th>\n",
       "      <td>0.290</td>\n",
       "      <td>0.101</td>\n",
       "      <td>0.085</td>\n",
       "      <td>0.487</td>\n",
       "      <td>0.009</td>\n",
       "      <td>0.007</td>\n",
       "      <td>116.0</td>\n",
       "      <td>126.0</td>\n",
       "      <td>1.01</td>\n",
       "    </tr>\n",
       "    <tr>\n",
       "      <th>coeffs[5]</th>\n",
       "      <td>0.209</td>\n",
       "      <td>0.039</td>\n",
       "      <td>0.136</td>\n",
       "      <td>0.276</td>\n",
       "      <td>0.003</td>\n",
       "      <td>0.002</td>\n",
       "      <td>181.0</td>\n",
       "      <td>156.0</td>\n",
       "      <td>1.02</td>\n",
       "    </tr>\n",
       "    <tr>\n",
       "      <th>coeffs[6]</th>\n",
       "      <td>1.409</td>\n",
       "      <td>0.208</td>\n",
       "      <td>1.091</td>\n",
       "      <td>1.857</td>\n",
       "      <td>0.025</td>\n",
       "      <td>0.018</td>\n",
       "      <td>78.0</td>\n",
       "      <td>72.0</td>\n",
       "      <td>1.02</td>\n",
       "    </tr>\n",
       "    <tr>\n",
       "      <th>coeffs[7]</th>\n",
       "      <td>-1.268</td>\n",
       "      <td>0.111</td>\n",
       "      <td>-1.476</td>\n",
       "      <td>-1.081</td>\n",
       "      <td>0.013</td>\n",
       "      <td>0.009</td>\n",
       "      <td>74.0</td>\n",
       "      <td>109.0</td>\n",
       "      <td>1.03</td>\n",
       "    </tr>\n",
       "    <tr>\n",
       "      <th>coeffs[8]</th>\n",
       "      <td>-0.362</td>\n",
       "      <td>0.067</td>\n",
       "      <td>-0.485</td>\n",
       "      <td>-0.238</td>\n",
       "      <td>0.006</td>\n",
       "      <td>0.004</td>\n",
       "      <td>128.0</td>\n",
       "      <td>155.0</td>\n",
       "      <td>1.01</td>\n",
       "    </tr>\n",
       "    <tr>\n",
       "      <th>coeffs[9]</th>\n",
       "      <td>0.216</td>\n",
       "      <td>0.083</td>\n",
       "      <td>0.076</td>\n",
       "      <td>0.395</td>\n",
       "      <td>0.009</td>\n",
       "      <td>0.006</td>\n",
       "      <td>95.0</td>\n",
       "      <td>81.0</td>\n",
       "      <td>1.04</td>\n",
       "    </tr>\n",
       "    <tr>\n",
       "      <th>sigma</th>\n",
       "      <td>0.225</td>\n",
       "      <td>0.006</td>\n",
       "      <td>0.213</td>\n",
       "      <td>0.237</td>\n",
       "      <td>0.000</td>\n",
       "      <td>0.000</td>\n",
       "      <td>234.0</td>\n",
       "      <td>138.0</td>\n",
       "      <td>1.01</td>\n",
       "    </tr>\n",
       "  </tbody>\n",
       "</table>\n",
       "</div>"
      ],
      "text/plain": [
       "            mean     sd  hdi_2.5%  hdi_97.5%  mcse_mean  mcse_sd  ess_bulk  \\\n",
       "intercept  0.272  2.114    -3.557      4.293      0.261    0.186      67.0   \n",
       "coeffs[0] -0.315  2.113    -4.334      3.511      0.262    0.186      66.0   \n",
       "coeffs[1] -0.386  2.114    -4.400      3.455      0.261    0.185      67.0   \n",
       "coeffs[2] -0.278  2.114    -4.303      3.544      0.261    0.185      67.0   \n",
       "coeffs[3]  0.009  0.092    -0.157      0.188      0.008    0.006     119.0   \n",
       "coeffs[4]  0.290  0.101     0.085      0.487      0.009    0.007     116.0   \n",
       "coeffs[5]  0.209  0.039     0.136      0.276      0.003    0.002     181.0   \n",
       "coeffs[6]  1.409  0.208     1.091      1.857      0.025    0.018      78.0   \n",
       "coeffs[7] -1.268  0.111    -1.476     -1.081      0.013    0.009      74.0   \n",
       "coeffs[8] -0.362  0.067    -0.485     -0.238      0.006    0.004     128.0   \n",
       "coeffs[9]  0.216  0.083     0.076      0.395      0.009    0.006      95.0   \n",
       "sigma      0.225  0.006     0.213      0.237      0.000    0.000     234.0   \n",
       "\n",
       "           ess_tail  r_hat  \n",
       "intercept     136.0   1.04  \n",
       "coeffs[0]     136.0   1.04  \n",
       "coeffs[1]     136.0   1.04  \n",
       "coeffs[2]     136.0   1.04  \n",
       "coeffs[3]     120.0   1.01  \n",
       "coeffs[4]     126.0   1.01  \n",
       "coeffs[5]     156.0   1.02  \n",
       "coeffs[6]      72.0   1.02  \n",
       "coeffs[7]     109.0   1.03  \n",
       "coeffs[8]     155.0   1.01  \n",
       "coeffs[9]      81.0   1.04  \n",
       "sigma         138.0   1.01  "
      ]
     },
     "execution_count": 27,
     "metadata": {},
     "output_type": "execute_result"
    }
   ],
   "source": [
    "az.summary(trace_linear, hdi_prob=0.95)"
   ]
  },
  {
   "cell_type": "markdown",
   "id": "fc428473-bfed-4297-8e32-28661ab6c747",
   "metadata": {},
   "source": [
    "Above, coefficients 4, 5, 6, 7, 8, and 9 appear statistically significant as their CS doesn't contain zero. Maybe retry regression and drop these other variables."
   ]
  },
  {
   "cell_type": "code",
   "execution_count": 28,
   "id": "2b2a9ebd-986e-4f47-9ca3-ceec3d920c29",
   "metadata": {},
   "outputs": [
    {
     "data": {
      "image/svg+xml": [
       "<?xml version=\"1.0\" encoding=\"UTF-8\" standalone=\"no\"?>\n",
       "<!DOCTYPE svg PUBLIC \"-//W3C//DTD SVG 1.1//EN\"\n",
       " \"http://www.w3.org/Graphics/SVG/1.1/DTD/svg11.dtd\">\n",
       "<!-- Generated by graphviz version 9.0.0 (20231125.0833)\n",
       " -->\n",
       "<!-- Pages: 1 -->\n",
       "<svg width=\"482pt\" height=\"369pt\"\n",
       " viewBox=\"0.00 0.00 482.00 369.13\" xmlns=\"http://www.w3.org/2000/svg\" xmlns:xlink=\"http://www.w3.org/1999/xlink\">\n",
       "<g id=\"graph0\" class=\"graph\" transform=\"scale(1 1) rotate(0) translate(4 365.13)\">\n",
       "<polygon fill=\"white\" stroke=\"none\" points=\"-4,4 -4,-365.13 478,-365.13 478,4 -4,4\"/>\n",
       "<g id=\"clust1\" class=\"cluster\">\n",
       "<title>cluster1500 x 10</title>\n",
       "<path fill=\"none\" stroke=\"black\" d=\"M20,-243.23C20,-243.23 100,-243.23 100,-243.23 106,-243.23 112,-249.23 112,-255.23 112,-255.23 112,-329.23 112,-329.23 112,-335.23 106,-341.23 100,-341.23 100,-341.23 20,-341.23 20,-341.23 14,-341.23 8,-335.23 8,-329.23 8,-329.23 8,-255.23 8,-255.23 8,-249.23 14,-243.23 20,-243.23\"/>\n",
       "<text text-anchor=\"middle\" x=\"76.62\" y=\"-250.43\" font-family=\"Times,serif\" font-size=\"14.00\">1500 x 10</text>\n",
       "</g>\n",
       "<g id=\"clust2\" class=\"cluster\">\n",
       "<title>cluster1500</title>\n",
       "<path fill=\"none\" stroke=\"black\" d=\"M188,-8C188,-8 292,-8 292,-8 298,-8 304,-14 304,-20 304,-20 304,-211.32 304,-211.32 304,-217.32 298,-223.32 292,-223.32 292,-223.32 188,-223.32 188,-223.32 182,-223.32 176,-217.32 176,-211.32 176,-211.32 176,-20 176,-20 176,-14 182,-8 188,-8\"/>\n",
       "<text text-anchor=\"middle\" x=\"282.5\" y=\"-15.2\" font-family=\"Times,serif\" font-size=\"14.00\">1500</text>\n",
       "</g>\n",
       "<g id=\"clust3\" class=\"cluster\">\n",
       "<title>cluster10</title>\n",
       "<path fill=\"none\" stroke=\"black\" d=\"M370,-231.32C370,-231.32 454,-231.32 454,-231.32 460,-231.32 466,-237.32 466,-243.32 466,-243.32 466,-341.13 466,-341.13 466,-347.13 460,-353.13 454,-353.13 454,-353.13 370,-353.13 370,-353.13 364,-353.13 358,-347.13 358,-341.13 358,-341.13 358,-243.32 358,-243.32 358,-237.32 364,-231.32 370,-231.32\"/>\n",
       "<text text-anchor=\"middle\" x=\"451.25\" y=\"-238.52\" font-family=\"Times,serif\" font-size=\"14.00\">10</text>\n",
       "</g>\n",
       "<!-- X -->\n",
       "<g id=\"node1\" class=\"node\">\n",
       "<title>X</title>\n",
       "<path fill=\"lightgrey\" stroke=\"black\" d=\"M91.62,-333.23C91.62,-333.23 28.38,-333.23 28.38,-333.23 22.38,-333.23 16.38,-327.23 16.38,-321.23 16.38,-321.23 16.38,-287.73 16.38,-287.73 16.38,-281.73 22.38,-275.73 28.38,-275.73 28.38,-275.73 91.62,-275.73 91.62,-275.73 97.62,-275.73 103.62,-281.73 103.62,-287.73 103.62,-287.73 103.62,-321.23 103.62,-321.23 103.62,-327.23 97.62,-333.23 91.62,-333.23\"/>\n",
       "<text text-anchor=\"middle\" x=\"60\" y=\"-315.93\" font-family=\"Times,serif\" font-size=\"14.00\">X</text>\n",
       "<text text-anchor=\"middle\" x=\"60\" y=\"-299.43\" font-family=\"Times,serif\" font-size=\"14.00\">~</text>\n",
       "<text text-anchor=\"middle\" x=\"60\" y=\"-282.93\" font-family=\"Times,serif\" font-size=\"14.00\">MutableData</text>\n",
       "</g>\n",
       "<!-- age_of_tree -->\n",
       "<g id=\"node3\" class=\"node\">\n",
       "<title>age_of_tree</title>\n",
       "<ellipse fill=\"lightgrey\" stroke=\"black\" cx=\"240\" cy=\"-174.66\" rx=\"56.39\" ry=\"40.66\"/>\n",
       "<text text-anchor=\"middle\" x=\"240\" y=\"-186.11\" font-family=\"Times,serif\" font-size=\"14.00\">age_of_tree</text>\n",
       "<text text-anchor=\"middle\" x=\"240\" y=\"-169.61\" font-family=\"Times,serif\" font-size=\"14.00\">~</text>\n",
       "<text text-anchor=\"middle\" x=\"240\" y=\"-153.11\" font-family=\"Times,serif\" font-size=\"14.00\">StudentT</text>\n",
       "</g>\n",
       "<!-- X&#45;&gt;age_of_tree -->\n",
       "<g id=\"edge3\" class=\"edge\">\n",
       "<title>X&#45;&gt;age_of_tree</title>\n",
       "<path fill=\"none\" stroke=\"black\" d=\"M75.74,-275.31C85.05,-260.67 97.95,-243.36 113,-231.32 131.97,-216.12 155.74,-204.26 177.56,-195.46\"/>\n",
       "<polygon fill=\"black\" stroke=\"black\" points=\"178.62,-198.8 186.68,-191.93 176.09,-192.27 178.62,-198.8\"/>\n",
       "</g>\n",
       "<!-- y -->\n",
       "<g id=\"node2\" class=\"node\">\n",
       "<title>y</title>\n",
       "<path fill=\"lightgrey\" stroke=\"black\" d=\"M271.62,-98C271.62,-98 208.38,-98 208.38,-98 202.38,-98 196.38,-92 196.38,-86 196.38,-86 196.38,-52.5 196.38,-52.5 196.38,-46.5 202.38,-40.5 208.38,-40.5 208.38,-40.5 271.62,-40.5 271.62,-40.5 277.62,-40.5 283.62,-46.5 283.62,-52.5 283.62,-52.5 283.62,-86 283.62,-86 283.62,-92 277.62,-98 271.62,-98\"/>\n",
       "<text text-anchor=\"middle\" x=\"240\" y=\"-80.7\" font-family=\"Times,serif\" font-size=\"14.00\">y</text>\n",
       "<text text-anchor=\"middle\" x=\"240\" y=\"-64.2\" font-family=\"Times,serif\" font-size=\"14.00\">~</text>\n",
       "<text text-anchor=\"middle\" x=\"240\" y=\"-47.7\" font-family=\"Times,serif\" font-size=\"14.00\">MutableData</text>\n",
       "</g>\n",
       "<!-- age_of_tree&#45;&gt;y -->\n",
       "<g id=\"edge1\" class=\"edge\">\n",
       "<title>age_of_tree&#45;&gt;y</title>\n",
       "<path fill=\"none\" stroke=\"black\" d=\"M240,-133.68C240,-125.83 240,-117.6 240,-109.76\"/>\n",
       "<polygon fill=\"black\" stroke=\"black\" points=\"243.5,-109.79 240,-99.79 236.5,-109.79 243.5,-109.79\"/>\n",
       "</g>\n",
       "<!-- sigma -->\n",
       "<g id=\"node4\" class=\"node\">\n",
       "<title>sigma</title>\n",
       "<ellipse fill=\"none\" stroke=\"black\" cx=\"179\" cy=\"-304.48\" rx=\"57.45\" ry=\"40.66\"/>\n",
       "<text text-anchor=\"middle\" x=\"179\" y=\"-315.93\" font-family=\"Times,serif\" font-size=\"14.00\">sigma</text>\n",
       "<text text-anchor=\"middle\" x=\"179\" y=\"-299.43\" font-family=\"Times,serif\" font-size=\"14.00\">~</text>\n",
       "<text text-anchor=\"middle\" x=\"179\" y=\"-282.93\" font-family=\"Times,serif\" font-size=\"14.00\">HalfCauchy</text>\n",
       "</g>\n",
       "<!-- sigma&#45;&gt;age_of_tree -->\n",
       "<g id=\"edge4\" class=\"edge\">\n",
       "<title>sigma&#45;&gt;age_of_tree</title>\n",
       "<path fill=\"none\" stroke=\"black\" d=\"M197.14,-265.47C203.41,-252.34 210.51,-237.44 217.11,-223.62\"/>\n",
       "<polygon fill=\"black\" stroke=\"black\" points=\"220.24,-225.19 221.39,-214.66 213.92,-222.18 220.24,-225.19\"/>\n",
       "</g>\n",
       "<!-- intercept -->\n",
       "<g id=\"node5\" class=\"node\">\n",
       "<title>intercept</title>\n",
       "<ellipse fill=\"none\" stroke=\"black\" cx=\"301\" cy=\"-304.48\" rx=\"46.32\" ry=\"40.66\"/>\n",
       "<text text-anchor=\"middle\" x=\"301\" y=\"-315.93\" font-family=\"Times,serif\" font-size=\"14.00\">intercept</text>\n",
       "<text text-anchor=\"middle\" x=\"301\" y=\"-299.43\" font-family=\"Times,serif\" font-size=\"14.00\">~</text>\n",
       "<text text-anchor=\"middle\" x=\"301\" y=\"-282.93\" font-family=\"Times,serif\" font-size=\"14.00\">StudentT</text>\n",
       "</g>\n",
       "<!-- intercept&#45;&gt;age_of_tree -->\n",
       "<g id=\"edge5\" class=\"edge\">\n",
       "<title>intercept&#45;&gt;age_of_tree</title>\n",
       "<path fill=\"none\" stroke=\"black\" d=\"M283.36,-266.51C276.96,-253.1 269.63,-237.75 262.85,-223.54\"/>\n",
       "<polygon fill=\"black\" stroke=\"black\" points=\"266.15,-222.32 258.68,-214.8 259.83,-225.33 266.15,-222.32\"/>\n",
       "</g>\n",
       "<!-- coeffs -->\n",
       "<g id=\"node6\" class=\"node\">\n",
       "<title>coeffs</title>\n",
       "<ellipse fill=\"none\" stroke=\"black\" cx=\"412\" cy=\"-304.48\" rx=\"46.32\" ry=\"40.66\"/>\n",
       "<text text-anchor=\"middle\" x=\"412\" y=\"-315.93\" font-family=\"Times,serif\" font-size=\"14.00\">coeffs</text>\n",
       "<text text-anchor=\"middle\" x=\"412\" y=\"-299.43\" font-family=\"Times,serif\" font-size=\"14.00\">~</text>\n",
       "<text text-anchor=\"middle\" x=\"412\" y=\"-282.93\" font-family=\"Times,serif\" font-size=\"14.00\">StudentT</text>\n",
       "</g>\n",
       "<!-- coeffs&#45;&gt;age_of_tree -->\n",
       "<g id=\"edge2\" class=\"edge\">\n",
       "<title>coeffs&#45;&gt;age_of_tree</title>\n",
       "<path fill=\"none\" stroke=\"black\" d=\"M389.79,-268.32C380.48,-255.53 368.83,-241.68 356,-231.32 339.57,-218.06 319.47,-207.01 300.64,-198.33\"/>\n",
       "<polygon fill=\"black\" stroke=\"black\" points=\"302.28,-195.24 291.72,-194.38 299.44,-201.63 302.28,-195.24\"/>\n",
       "</g>\n",
       "</g>\n",
       "</svg>\n"
      ],
      "text/plain": [
       "<graphviz.graphs.Digraph at 0x7fd546357b50>"
      ]
     },
     "execution_count": 28,
     "metadata": {},
     "output_type": "execute_result"
    }
   ],
   "source": [
    "pm.model_to_graphviz(m_linear)"
   ]
  },
  {
   "cell_type": "code",
   "execution_count": 29,
   "id": "d7b5b1f1-5a54-4344-ba6b-631f4e8232ee",
   "metadata": {},
   "outputs": [
    {
     "data": {
      "text/plain": [
       "r2        0.518961\n",
       "r2_std    0.000000\n",
       "dtype: float64"
      ]
     },
     "execution_count": 29,
     "metadata": {},
     "output_type": "execute_result"
    }
   ],
   "source": [
    "az.r2_score(y_train, y_pred)"
   ]
  },
  {
   "cell_type": "code",
   "execution_count": 30,
   "id": "d0199330-3213-47e0-90ab-754ee7bcd807",
   "metadata": {},
   "outputs": [
    {
     "data": {
      "text/plain": [
       "0.1156"
      ]
     },
     "execution_count": 30,
     "metadata": {},
     "output_type": "execute_result"
    }
   ],
   "source": [
    "round(mean_squared_error(y_train, y_pred), 4)"
   ]
  },
  {
   "cell_type": "code",
   "execution_count": 31,
   "id": "023a2444-4933-4ee1-907c-39da18a64892",
   "metadata": {},
   "outputs": [
    {
     "data": {
      "text/plain": [
       "[Text(0.5, 0, 'predicted'), Text(0, 0.5, 'actual')]"
      ]
     },
     "execution_count": 31,
     "metadata": {},
     "output_type": "execute_result"
    },
    {
     "data": {
      "image/png": "[encoded data removed]",
      "text/plain": [
       "<Figure size 640x480 with 1 Axes>"
      ]
     },
     "metadata": {},
     "output_type": "display_data"
    }
   ],
   "source": [
    "plot = sns.regplot(x=y_pred, y=y_train)\n",
    "plot.set(xlabel=\"predicted\", ylabel=\"actual\")"
   ]
  },
  {
   "cell_type": "markdown",
   "id": "416d8299-6aae-450f-9d41-d99169e2785f",
   "metadata": {},
   "source": [
    "**Now lets predict the test set**"
   ]
  },
  {
   "cell_type": "markdown",
   "id": "e8379d12-6808-4e82-991e-64ca8557f188",
   "metadata": {},
   "source": [
    "First prediction without sampling... just use coefficients"
   ]
  },
  {
   "cell_type": "code",
   "execution_count": 32,
   "id": "9d9739b4-4e51-400c-a3e2-b4c1c669b647",
   "metadata": {},
   "outputs": [],
   "source": [
    "pred_intercept = trace_linear.posterior.intercept.mean().values.item()\n",
    "pred_coeffs = trace_linear.posterior.coeffs.mean([\"chain\", \"draw\"]).values\n",
    "y_pred_test_nosample = X_test @  pred_coeffs + pred_intercept"
   ]
  },
  {
   "cell_type": "code",
   "execution_count": 33,
   "id": "fb2f194a-d815-457e-aa41-95eaf69b603c",
   "metadata": {},
   "outputs": [
    {
     "data": {
      "text/plain": [
       "0.1246"
      ]
     },
     "execution_count": 33,
     "metadata": {},
     "output_type": "execute_result"
    }
   ],
   "source": [
    "round(mean_squared_error(y_test, y_pred_test_nosample), 4)"
   ]
  },
  {
   "cell_type": "code",
   "execution_count": 34,
   "id": "5400b1cc-420d-4d07-97f7-d5187f26f2aa",
   "metadata": {},
   "outputs": [
    {
     "data": {
      "text/plain": [
       "[Text(0.5, 0, 'predicted'), Text(0, 0.5, 'actual')]"
      ]
     },
     "execution_count": 34,
     "metadata": {},
     "output_type": "execute_result"
    },
    {
     "data": {
      "image/png": "[encoded data removed]",
      "text/plain": [
       "<Figure size 640x480 with 1 Axes>"
      ]
     },
     "metadata": {},
     "output_type": "display_data"
    }
   ],
   "source": [
    "plot = sns.regplot(x=y_pred_test_nosample, y=y_test)\n",
    "plot.set(xlabel=\"predicted\", ylabel=\"actual\")"
   ]
  },
  {
   "cell_type": "markdown",
   "id": "d5099b57-6dd8-45c8-9a44-7ac4c25a1a66",
   "metadata": {},
   "source": [
    "Now predict using sampling"
   ]
  },
  {
   "cell_type": "code",
   "execution_count": 35,
   "id": "18104f41-47cb-43b6-bef5-2789cfe669d8",
   "metadata": {},
   "outputs": [
    {
     "name": "stderr",
     "output_type": "stream",
     "text": [
      "Sampling: [age_of_tree, coeffs]\n"
     ]
    },
    {
     "data": {
      "text/html": [
       "\n",
       "<style>\n",
       "    /* Turns off some styling */\n",
       "    progress {\n",
       "        /* gets rid of default border in Firefox and Opera. */\n",
       "        border: none;\n",
       "        /* Needs to be in here for Safari polyfill so background images work as expected. */\n",
       "        background-size: auto;\n",
       "    }\n",
       "    progress:not([value]), progress:not([value])::-webkit-progress-bar {\n",
       "        background: repeating-linear-gradient(45deg, #7e7e7e, #7e7e7e 10px, #5c5c5c 10px, #5c5c5c 20px);\n",
       "    }\n",
       "    .progress-bar-interrupted, .progress-bar-interrupted::-webkit-progress-bar {\n",
       "        background: #F44336;\n",
       "    }\n",
       "</style>\n"
      ],
      "text/plain": [
       "<IPython.core.display.HTML object>"
      ]
     },
     "metadata": {},
     "output_type": "display_data"
    },
    {
     "data": {
      "text/html": [
       "\n",
       "    <div>\n",
       "      <progress value='200' class='' max='200' style='width:300px; height:20px; vertical-align: middle;'></progress>\n",
       "      100.00% [200/200 00:00&lt;00:00]\n",
       "    </div>\n",
       "    "
      ],
      "text/plain": [
       "<IPython.core.display.HTML object>"
      ]
     },
     "metadata": {},
     "output_type": "display_data"
    }
   ],
   "source": [
    "with m_linear:\n",
    "    pm.set_data({\"X\": X_test, \"y\": y_test})\n",
    "    ppc_test = pm.sample_posterior_predictive(trace_linear) #, predictions=True)\n",
    "    y_pred_test = ppc_test.posterior_predictive.stack(sample=(\"chain\", \"draw\"))[\"age_of_tree\"].values.T.mean(axis=0)"
   ]
  },
  {
   "cell_type": "code",
   "execution_count": 36,
   "id": "27a9e122-6df0-47f5-8f46-4ad8c5282eb9",
   "metadata": {
    "tags": []
   },
   "outputs": [
    {
     "data": {
      "text/plain": [
       "2.1736"
      ]
     },
     "execution_count": 36,
     "metadata": {},
     "output_type": "execute_result"
    }
   ],
   "source": [
    "round(mean_squared_error(y_test, y_pred_test), 4)"
   ]
  },
  {
   "cell_type": "code",
   "execution_count": 37,
   "id": "c24e28d3-0ef6-4c00-aa8f-d4532d9e8aa3",
   "metadata": {
    "tags": []
   },
   "outputs": [
    {
     "data": {
      "text/plain": [
       "[Text(0.5, 0, 'predicted'), Text(0, 0.5, 'actual')]"
      ]
     },
     "execution_count": 37,
     "metadata": {},
     "output_type": "execute_result"
    },
    {
     "data": {
      "image/png": "[encoded data removed]",
      "text/plain": [
       "<Figure size 640x480 with 1 Axes>"
      ]
     },
     "metadata": {},
     "output_type": "display_data"
    }
   ],
   "source": [
    "plot = sns.regplot(x=y_pred_test, y=y_test)\n",
    "plot.set(xlabel=\"predicted\", ylabel=\"actual\")"
   ]
  },
  {
   "cell_type": "markdown",
   "id": "da358330-0fd9-4485-9788-01825e3ccc2e",
   "metadata": {},
   "source": [
    "The sampling on the test set seems very unstable. Note how we can get two very different results when we redraw the samples."
   ]
  },
  {
   "cell_type": "code",
   "execution_count": 38,
   "id": "d3bc5921-3510-4a7a-8b2a-421c89b33ee8",
   "metadata": {},
   "outputs": [
    {
     "name": "stderr",
     "output_type": "stream",
     "text": [
      "Sampling: [age_of_tree, coeffs]\n"
     ]
    },
    {
     "data": {
      "text/html": [
       "\n",
       "<style>\n",
       "    /* Turns off some styling */\n",
       "    progress {\n",
       "        /* gets rid of default border in Firefox and Opera. */\n",
       "        border: none;\n",
       "        /* Needs to be in here for Safari polyfill so background images work as expected. */\n",
       "        background-size: auto;\n",
       "    }\n",
       "    progress:not([value]), progress:not([value])::-webkit-progress-bar {\n",
       "        background: repeating-linear-gradient(45deg, #7e7e7e, #7e7e7e 10px, #5c5c5c 10px, #5c5c5c 20px);\n",
       "    }\n",
       "    .progress-bar-interrupted, .progress-bar-interrupted::-webkit-progress-bar {\n",
       "        background: #F44336;\n",
       "    }\n",
       "</style>\n"
      ],
      "text/plain": [
       "<IPython.core.display.HTML object>"
      ]
     },
     "metadata": {},
     "output_type": "display_data"
    },
    {
     "data": {
      "text/html": [
       "\n",
       "    <div>\n",
       "      <progress value='200' class='' max='200' style='width:300px; height:20px; vertical-align: middle;'></progress>\n",
       "      100.00% [200/200 00:00&lt;00:00]\n",
       "    </div>\n",
       "    "
      ],
      "text/plain": [
       "<IPython.core.display.HTML object>"
      ]
     },
     "metadata": {},
     "output_type": "display_data"
    }
   ],
   "source": [
    "with m_linear:\n",
    "    pm.set_data({\"X\": X_test, \"y\": y_test})\n",
    "    ppc_test = pm.sample_posterior_predictive(trace_linear) #, predictions=True)\n",
    "    y_pred_test = ppc_test.posterior_predictive.stack(sample=(\"chain\", \"draw\"))[\"age_of_tree\"].values.T.mean(axis=0)"
   ]
  },
  {
   "cell_type": "code",
   "execution_count": 39,
   "id": "1c787d22-ea1a-48fc-87d8-97474ba44fca",
   "metadata": {
    "tags": []
   },
   "outputs": [
    {
     "data": {
      "text/plain": [
       "1.8171"
      ]
     },
     "execution_count": 39,
     "metadata": {},
     "output_type": "execute_result"
    }
   ],
   "source": [
    "round(mean_squared_error(y_test, y_pred_test), 4)"
   ]
  },
  {
   "cell_type": "code",
   "execution_count": 40,
   "id": "eddba16d-d3e2-4eb8-9879-f54782b122e8",
   "metadata": {
    "tags": []
   },
   "outputs": [
    {
     "data": {
      "text/plain": [
       "[Text(0.5, 0, 'predicted'), Text(0, 0.5, 'actual')]"
      ]
     },
     "execution_count": 40,
     "metadata": {},
     "output_type": "execute_result"
    },
    {
     "data": {
      "image/png": "[encoded data removed]",
      "text/plain": [
       "<Figure size 640x480 with 1 Axes>"
      ]
     },
     "metadata": {},
     "output_type": "display_data"
    }
   ],
   "source": [
    "plot = sns.regplot(x=y_pred_test, y=y_test)\n",
    "plot.set(xlabel=\"predicted\", ylabel=\"actual\")"
   ]
  },
  {
   "cell_type": "markdown",
   "id": "57327c7a-50e8-4d07-9717-f74e7d66bf0d",
   "metadata": {},
   "source": [
    "## Fit Neural Network Model"
   ]
  },
  {
   "cell_type": "markdown",
   "id": "0fb7a8eb-9b4f-4165-ae0f-8fcd023e5fc3",
   "metadata": {},
   "source": [
    "**Now let's try and build a simple neural network, with 3 neurons. We will keep it small to limit computational complexity.**"
   ]
  },
  {
   "cell_type": "code",
   "execution_count": 52,
   "id": "359152c7-f331-4810-96f5-cbafb133b6cf",
   "metadata": {},
   "outputs": [
    {
     "name": "stderr",
     "output_type": "stream",
     "text": [
      "Auto-assigning NUTS sampler...\n",
      "Initializing NUTS using jitter+adapt_diag...\n",
      "Multiprocess sampling (4 chains in 4 jobs)\n",
      "NUTS: [intercept_n10, coeffs_n10, sigma_n10, intercept_n11, coeffs_n11, sigma_n11, intercept_n12, coeffs_n12, sigma_n12, intercept_n20, coeff_n20_0, coeff_n20_1, coeff_n20_2, sigma_n20]\n"
     ]
    },
    {
     "data": {
      "text/html": [
       "\n",
       "<style>\n",
       "    /* Turns off some styling */\n",
       "    progress {\n",
       "        /* gets rid of default border in Firefox and Opera. */\n",
       "        border: none;\n",
       "        /* Needs to be in here for Safari polyfill so background images work as expected. */\n",
       "        background-size: auto;\n",
       "    }\n",
       "    progress:not([value]), progress:not([value])::-webkit-progress-bar {\n",
       "        background: repeating-linear-gradient(45deg, #7e7e7e, #7e7e7e 10px, #5c5c5c 10px, #5c5c5c 20px);\n",
       "    }\n",
       "    .progress-bar-interrupted, .progress-bar-interrupted::-webkit-progress-bar {\n",
       "        background: #F44336;\n",
       "    }\n",
       "</style>\n"
      ],
      "text/plain": [
       "<IPython.core.display.HTML object>"
      ]
     },
     "metadata": {},
     "output_type": "display_data"
    },
    {
     "data": {
      "text/html": [
       "\n",
       "    <div>\n",
       "      <progress value='6000' class='' max='6000' style='width:300px; height:20px; vertical-align: middle;'></progress>\n",
       "      100.00% [6000/6000 08:15&lt;00:00 Sampling 4 chains, 0 divergences]\n",
       "    </div>\n",
       "    "
      ],
      "text/plain": [
       "<IPython.core.display.HTML object>"
      ]
     },
     "metadata": {},
     "output_type": "display_data"
    },
    {
     "name": "stderr",
     "output_type": "stream",
     "text": [
      "Sampling 4 chains for 1_000 tune and 500 draw iterations (4_000 + 2_000 draws total) took 496 seconds.\n",
      "The rhat statistic is larger than 1.01 for some parameters. This indicates problems during sampling. See https://arxiv.org/abs/1903.08008 for details\n",
      "The effective sample size per chain is smaller than 100 for some parameters.  A higher number is needed for reliable rhat and ess computation. See https://arxiv.org/abs/1903.08008 for details\n",
      "Chain 1 reached the maximum tree depth. Increase `max_treedepth`, increase `target_accept` or reparameterize.\n",
      "Sampling: [age_of_tree]\n"
     ]
    },
    {
     "data": {
      "text/html": [
       "\n",
       "<style>\n",
       "    /* Turns off some styling */\n",
       "    progress {\n",
       "        /* gets rid of default border in Firefox and Opera. */\n",
       "        border: none;\n",
       "        /* Needs to be in here for Safari polyfill so background images work as expected. */\n",
       "        background-size: auto;\n",
       "    }\n",
       "    progress:not([value]), progress:not([value])::-webkit-progress-bar {\n",
       "        background: repeating-linear-gradient(45deg, #7e7e7e, #7e7e7e 10px, #5c5c5c 10px, #5c5c5c 20px);\n",
       "    }\n",
       "    .progress-bar-interrupted, .progress-bar-interrupted::-webkit-progress-bar {\n",
       "        background: #F44336;\n",
       "    }\n",
       "</style>\n"
      ],
      "text/plain": [
       "<IPython.core.display.HTML object>"
      ]
     },
     "metadata": {},
     "output_type": "display_data"
    },
    {
     "data": {
      "text/html": [
       "\n",
       "    <div>\n",
       "      <progress value='2000' class='' max='2000' style='width:300px; height:20px; vertical-align: middle;'></progress>\n",
       "      100.00% [2000/2000 00:00&lt;00:00]\n",
       "    </div>\n",
       "    "
      ],
      "text/plain": [
       "<IPython.core.display.HTML object>"
      ]
     },
     "metadata": {},
     "output_type": "display_data"
    }
   ],
   "source": [
    "# naming convention. N for neuron. First number is layer. Second is neuron number in that layer. \n",
    "# So n21 is the first neuron in layer 2.\n",
    "with pm.Model() as m_neural:\n",
    "    # associate data with model (this makes prediction easier)\n",
    "    X_data_n = pm.Data(\"X\", X_train, mutable=True)\n",
    "    y_data_n = pm.Data(\"y\", y_train, mutable=True)\n",
    "    \n",
    "    # LAYER 1\n",
    "    \n",
    "    # NEURON 1-0\n",
    "    intercept_n10 = pm.StudentT(\"intercept_n10\", mu=0, sigma=5, nu=3)\n",
    "    coeffs_n10 = pm.StudentT(\"coeffs_n10\", mu=0, sigma=5, nu=3, shape=X_data_n.shape[1])\n",
    "    \n",
    "    mu_n10 = intercept_n10 + pm.math.dot(X_data_n, coeffs_n10)\n",
    "    \n",
    "    # ReLU function\n",
    "    out_n10 = pm.Deterministic(\"out_n10\", pm.math.maximum(0, mu_n10))\n",
    "        \n",
    "    sigma_n10 = pm.HalfCauchy(\"sigma_n10\", beta=10)\n",
    "    \n",
    "\n",
    "    # NEURON 1-1\n",
    "    intercept_n11 = pm.StudentT(\"intercept_n11\", mu=0, sigma=5, nu=3)\n",
    "    coeffs_n11 = pm.StudentT(\"coeffs_n11\", mu=0, sigma=5, nu=3, shape=X_data_n.shape[1])\n",
    "    \n",
    "    mu_n11 = intercept_n11 + pm.math.dot(X_data_n, coeffs_n11)\n",
    "    \n",
    "    # ReLU function\n",
    "    out_n11 = pm.Deterministic(\"out_n11\", pm.math.maximum(0, mu_n11))\n",
    "    sigma_n11 = pm.HalfCauchy(\"sigma_n11\", beta=10)\n",
    "\n",
    "    \n",
    "    # NEURON 1-2\n",
    "    intercept_n12 = pm.StudentT(\"intercept_n12\", mu=0, sigma=5, nu=3)\n",
    "    coeffs_n12 = pm.StudentT(\"coeffs_n12\", mu=0, sigma=5, nu=3, shape=X_data_n.shape[1])\n",
    "    \n",
    "    mu_n12 = intercept_n12 + pm.math.dot(X_data_n, coeffs_n12)\n",
    "    \n",
    "    # ReLU function\n",
    "    out_n12 = pm.Deterministic(\"out_n12\", pm.math.maximum(0, mu_n12))\n",
    "    \n",
    "    sigma_n12 = pm.HalfCauchy(\"sigma_n12\", beta=10)\n",
    "\n",
    "\n",
    "    \n",
    "    # NEURON 2-0\n",
    "    intercept_n20 = pm.StudentT(\"intercept_n20\", mu=0, sigma=5, nu=3)\n",
    "    coeff_n20_0 = pm.StudentT(\"coeff_n20_0\", mu=0, sigma=sigma_n10, nu=3) # input coeff for neron 10\n",
    "    coeff_n20_1 = pm.StudentT(\"coeff_n20_1\", mu=0, sigma=sigma_n11, nu=3) # input coeff for neron 11\n",
    "    coeff_n20_2 = pm.StudentT(\"coeff_n20_2\", mu=0, sigma=sigma_n12, nu=3) # input coeff for neron 12\n",
    "\n",
    "    # Had a hard time getting this to work as an array / dot product, so just do it manually\n",
    "    mu_n20 = (intercept_n20 \n",
    "              + out_n10 * coeff_n20_0 \n",
    "              + out_n11 * coeff_n20_1\n",
    "              + out_n12 * coeff_n20_2)\n",
    "\n",
    "    sigma_n20 = pm.HalfCauchy(\"sigma_n20\", beta=10)\n",
    "\n",
    "    # likelihood - just take linear combination as regression\n",
    "    pm.StudentT(\"age_of_tree\", mu=mu_n20, sigma=sigma_n20, nu=3, observed=y_data_n)\n",
    "\n",
    "    # start sampling\n",
    "    trace_neural = pm.sample(neural_model_n_samples)\n",
    "    ppc_neural = pm.sample_posterior_predictive(trace_neural)\n",
    "    \n",
    "    y_pred_neural = ppc_neural.posterior_predictive.stack(sample=(\"chain\", \"draw\"))[\"age_of_tree\"].values.T.mean(axis=0)"
   ]
  },
  {
   "cell_type": "code",
   "execution_count": null,
   "id": "9143b10c-6e4e-4daa-8294-ebd5dba451b0",
   "metadata": {},
   "outputs": [],
   "source": []
  },
  {
   "cell_type": "code",
   "execution_count": 53,
   "id": "ca0ac1a2-e34c-4abf-89b5-4dbc5b8b5c21",
   "metadata": {},
   "outputs": [
    {
     "data": {
      "text/plain": [
       "(1500,)"
      ]
     },
     "execution_count": 53,
     "metadata": {},
     "output_type": "execute_result"
    }
   ],
   "source": [
    "y_pred_neural.shape"
   ]
  },
  {
   "cell_type": "code",
   "execution_count": 85,
   "id": "34300065-0bd0-4374-9629-d8432b599f0d",
   "metadata": {},
   "outputs": [
    {
     "data": {
      "text/html": [
       "<div>\n",
       "<style scoped>\n",
       "    .dataframe tbody tr th:only-of-type {\n",
       "        vertical-align: middle;\n",
       "    }\n",
       "\n",
       "    .dataframe tbody tr th {\n",
       "        vertical-align: top;\n",
       "    }\n",
       "\n",
       "    .dataframe thead th {\n",
       "        text-align: right;\n",
       "    }\n",
       "</style>\n",
       "<table border=\"1\" class=\"dataframe\">\n",
       "  <thead>\n",
       "    <tr style=\"text-align: right;\">\n",
       "      <th></th>\n",
       "      <th>mean</th>\n",
       "      <th>sd</th>\n",
       "      <th>hdi_2.5%</th>\n",
       "      <th>hdi_97.5%</th>\n",
       "      <th>mcse_mean</th>\n",
       "      <th>mcse_sd</th>\n",
       "      <th>ess_bulk</th>\n",
       "      <th>ess_tail</th>\n",
       "      <th>r_hat</th>\n",
       "    </tr>\n",
       "  </thead>\n",
       "  <tbody>\n",
       "    <tr>\n",
       "      <th>intercept_n10</th>\n",
       "      <td>2.095</td>\n",
       "      <td>6.788</td>\n",
       "      <td>-8.579</td>\n",
       "      <td>18.813</td>\n",
       "      <td>2.475</td>\n",
       "      <td>1.823</td>\n",
       "      <td>7.0</td>\n",
       "      <td>42.0</td>\n",
       "      <td>1.56</td>\n",
       "    </tr>\n",
       "    <tr>\n",
       "      <th>coeffs_n10[0]</th>\n",
       "      <td>0.242</td>\n",
       "      <td>2.955</td>\n",
       "      <td>-5.615</td>\n",
       "      <td>6.082</td>\n",
       "      <td>0.221</td>\n",
       "      <td>0.157</td>\n",
       "      <td>141.0</td>\n",
       "      <td>692.0</td>\n",
       "      <td>1.03</td>\n",
       "    </tr>\n",
       "    <tr>\n",
       "      <th>coeffs_n10[1]</th>\n",
       "      <td>2.651</td>\n",
       "      <td>6.192</td>\n",
       "      <td>-6.517</td>\n",
       "      <td>15.844</td>\n",
       "      <td>2.119</td>\n",
       "      <td>1.553</td>\n",
       "      <td>8.0</td>\n",
       "      <td>334.0</td>\n",
       "      <td>1.47</td>\n",
       "    </tr>\n",
       "    <tr>\n",
       "      <th>coeffs_n10[2]</th>\n",
       "      <td>-0.581</td>\n",
       "      <td>3.095</td>\n",
       "      <td>-6.097</td>\n",
       "      <td>5.892</td>\n",
       "      <td>0.540</td>\n",
       "      <td>0.385</td>\n",
       "      <td>32.0</td>\n",
       "      <td>420.0</td>\n",
       "      <td>1.09</td>\n",
       "    </tr>\n",
       "    <tr>\n",
       "      <th>coeffs_n10[3]</th>\n",
       "      <td>-4.614</td>\n",
       "      <td>6.078</td>\n",
       "      <td>-18.226</td>\n",
       "      <td>5.073</td>\n",
       "      <td>1.307</td>\n",
       "      <td>0.937</td>\n",
       "      <td>17.0</td>\n",
       "      <td>81.0</td>\n",
       "      <td>1.17</td>\n",
       "    </tr>\n",
       "    <tr>\n",
       "      <th>...</th>\n",
       "      <td>...</td>\n",
       "      <td>...</td>\n",
       "      <td>...</td>\n",
       "      <td>...</td>\n",
       "      <td>...</td>\n",
       "      <td>...</td>\n",
       "      <td>...</td>\n",
       "      <td>...</td>\n",
       "      <td>...</td>\n",
       "    </tr>\n",
       "    <tr>\n",
       "      <th>out_n12[1495]</th>\n",
       "      <td>4.546</td>\n",
       "      <td>5.261</td>\n",
       "      <td>0.000</td>\n",
       "      <td>14.060</td>\n",
       "      <td>2.273</td>\n",
       "      <td>1.704</td>\n",
       "      <td>5.0</td>\n",
       "      <td>5.0</td>\n",
       "      <td>2.07</td>\n",
       "    </tr>\n",
       "    <tr>\n",
       "      <th>out_n12[1496]</th>\n",
       "      <td>3.563</td>\n",
       "      <td>4.087</td>\n",
       "      <td>0.000</td>\n",
       "      <td>11.203</td>\n",
       "      <td>1.744</td>\n",
       "      <td>1.305</td>\n",
       "      <td>6.0</td>\n",
       "      <td>6.0</td>\n",
       "      <td>1.98</td>\n",
       "    </tr>\n",
       "    <tr>\n",
       "      <th>out_n12[1497]</th>\n",
       "      <td>12.097</td>\n",
       "      <td>10.221</td>\n",
       "      <td>0.657</td>\n",
       "      <td>31.364</td>\n",
       "      <td>4.125</td>\n",
       "      <td>3.068</td>\n",
       "      <td>6.0</td>\n",
       "      <td>156.0</td>\n",
       "      <td>1.74</td>\n",
       "    </tr>\n",
       "    <tr>\n",
       "      <th>out_n12[1498]</th>\n",
       "      <td>14.192</td>\n",
       "      <td>15.632</td>\n",
       "      <td>0.000</td>\n",
       "      <td>42.860</td>\n",
       "      <td>6.677</td>\n",
       "      <td>4.998</td>\n",
       "      <td>6.0</td>\n",
       "      <td>27.0</td>\n",
       "      <td>1.79</td>\n",
       "    </tr>\n",
       "    <tr>\n",
       "      <th>out_n12[1499]</th>\n",
       "      <td>10.610</td>\n",
       "      <td>11.688</td>\n",
       "      <td>0.000</td>\n",
       "      <td>32.141</td>\n",
       "      <td>5.005</td>\n",
       "      <td>3.748</td>\n",
       "      <td>6.0</td>\n",
       "      <td>32.0</td>\n",
       "      <td>1.80</td>\n",
       "    </tr>\n",
       "  </tbody>\n",
       "</table>\n",
       "<p>4541 rows × 9 columns</p>\n",
       "</div>"
      ],
      "text/plain": [
       "                 mean      sd  hdi_2.5%  hdi_97.5%  mcse_mean  mcse_sd  \\\n",
       "intercept_n10   2.095   6.788    -8.579     18.813      2.475    1.823   \n",
       "coeffs_n10[0]   0.242   2.955    -5.615      6.082      0.221    0.157   \n",
       "coeffs_n10[1]   2.651   6.192    -6.517     15.844      2.119    1.553   \n",
       "coeffs_n10[2]  -0.581   3.095    -6.097      5.892      0.540    0.385   \n",
       "coeffs_n10[3]  -4.614   6.078   -18.226      5.073      1.307    0.937   \n",
       "...               ...     ...       ...        ...        ...      ...   \n",
       "out_n12[1495]   4.546   5.261     0.000     14.060      2.273    1.704   \n",
       "out_n12[1496]   3.563   4.087     0.000     11.203      1.744    1.305   \n",
       "out_n12[1497]  12.097  10.221     0.657     31.364      4.125    3.068   \n",
       "out_n12[1498]  14.192  15.632     0.000     42.860      6.677    4.998   \n",
       "out_n12[1499]  10.610  11.688     0.000     32.141      5.005    3.748   \n",
       "\n",
       "               ess_bulk  ess_tail  r_hat  \n",
       "intercept_n10       7.0      42.0   1.56  \n",
       "coeffs_n10[0]     141.0     692.0   1.03  \n",
       "coeffs_n10[1]       8.0     334.0   1.47  \n",
       "coeffs_n10[2]      32.0     420.0   1.09  \n",
       "coeffs_n10[3]      17.0      81.0   1.17  \n",
       "...                 ...       ...    ...  \n",
       "out_n12[1495]       5.0       5.0   2.07  \n",
       "out_n12[1496]       6.0       6.0   1.98  \n",
       "out_n12[1497]       6.0     156.0   1.74  \n",
       "out_n12[1498]       6.0      27.0   1.79  \n",
       "out_n12[1499]       6.0      32.0   1.80  \n",
       "\n",
       "[4541 rows x 9 columns]"
      ]
     },
     "execution_count": 85,
     "metadata": {},
     "output_type": "execute_result"
    }
   ],
   "source": [
    "az.summary(trace_neural, hdi_prob=0.95)"
   ]
  },
  {
   "cell_type": "markdown",
   "id": "bcdde164-f7a6-4175-bf5b-1993a10dd4a5",
   "metadata": {},
   "source": [
    "Above, coefficients 4, 5, 6, 7, 8, and 9 appear statistically significant as their CS doesn't contain zero. Maybe retry regression and drop these other variables."
   ]
  },
  {
   "cell_type": "code",
   "execution_count": 55,
   "id": "1de78004-d20c-4330-ab76-c3c728029458",
   "metadata": {},
   "outputs": [
    {
     "data": {
      "image/svg+xml": [
       "<?xml version=\"1.0\" encoding=\"UTF-8\" standalone=\"no\"?>\n",
       "<!DOCTYPE svg PUBLIC \"-//W3C//DTD SVG 1.1//EN\"\n",
       " \"http://www.w3.org/Graphics/SVG/1.1/DTD/svg11.dtd\">\n",
       "<!-- Generated by graphviz version 9.0.0 (20231125.0833)\n",
       " -->\n",
       "<!-- Pages: 1 -->\n",
       "<svg width=\"1345pt\" height=\"478pt\"\n",
       " viewBox=\"0.00 0.00 1344.82 478.45\" xmlns=\"http://www.w3.org/2000/svg\" xmlns:xlink=\"http://www.w3.org/1999/xlink\">\n",
       "<g id=\"graph0\" class=\"graph\" transform=\"scale(1 1) rotate(0) translate(4 474.45)\">\n",
       "<polygon fill=\"white\" stroke=\"none\" points=\"-4,4 -4,-474.45 1340.82,-474.45 1340.82,4 -4,4\"/>\n",
       "<g id=\"clust1\" class=\"cluster\">\n",
       "<title>cluster1500 x 10</title>\n",
       "<path fill=\"none\" stroke=\"black\" d=\"M20,-352.54C20,-352.54 100,-352.54 100,-352.54 106,-352.54 112,-358.54 112,-364.54 112,-364.54 112,-438.54 112,-438.54 112,-444.54 106,-450.54 100,-450.54 100,-450.54 20,-450.54 20,-450.54 14,-450.54 8,-444.54 8,-438.54 8,-438.54 8,-364.54 8,-364.54 8,-358.54 14,-352.54 20,-352.54\"/>\n",
       "<text text-anchor=\"middle\" x=\"76.62\" y=\"-359.74\" font-family=\"Times,serif\" font-size=\"14.00\">1500 x 10</text>\n",
       "</g>\n",
       "<g id=\"clust2\" class=\"cluster\">\n",
       "<title>cluster1500</title>\n",
       "<path fill=\"none\" stroke=\"black\" d=\"M345,-8C345,-8 643,-8 643,-8 649,-8 655,-14 655,-20 655,-20 655,-316.73 655,-316.73 655,-322.73 649,-328.73 643,-328.73 643,-328.73 345,-328.73 345,-328.73 339,-328.73 333,-322.73 333,-316.73 333,-316.73 333,-20 333,-20 333,-14 339,-8 345,-8\"/>\n",
       "<text text-anchor=\"middle\" x=\"633.5\" y=\"-15.2\" font-family=\"Times,serif\" font-size=\"14.00\">1500</text>\n",
       "</g>\n",
       "<g id=\"clust3\" class=\"cluster\">\n",
       "<title>cluster10</title>\n",
       "<path fill=\"none\" stroke=\"black\" d=\"M563,-340.63C563,-340.63 913,-340.63 913,-340.63 919,-340.63 925,-346.63 925,-352.63 925,-352.63 925,-450.45 925,-450.45 925,-456.45 919,-462.45 913,-462.45 913,-462.45 563,-462.45 563,-462.45 557,-462.45 551,-456.45 551,-450.45 551,-450.45 551,-352.63 551,-352.63 551,-346.63 557,-340.63 563,-340.63\"/>\n",
       "<text text-anchor=\"middle\" x=\"910.25\" y=\"-347.83\" font-family=\"Times,serif\" font-size=\"14.00\">10</text>\n",
       "</g>\n",
       "<!-- X -->\n",
       "<g id=\"node1\" class=\"node\">\n",
       "<title>X</title>\n",
       "<path fill=\"lightgrey\" stroke=\"black\" d=\"M91.62,-442.54C91.62,-442.54 28.38,-442.54 28.38,-442.54 22.38,-442.54 16.38,-436.54 16.38,-430.54 16.38,-430.54 16.38,-397.04 16.38,-397.04 16.38,-391.04 22.38,-385.04 28.38,-385.04 28.38,-385.04 91.62,-385.04 91.62,-385.04 97.62,-385.04 103.62,-391.04 103.62,-397.04 103.62,-397.04 103.62,-430.54 103.62,-430.54 103.62,-436.54 97.62,-442.54 91.62,-442.54\"/>\n",
       "<text text-anchor=\"middle\" x=\"60\" y=\"-425.24\" font-family=\"Times,serif\" font-size=\"14.00\">X</text>\n",
       "<text text-anchor=\"middle\" x=\"60\" y=\"-408.74\" font-family=\"Times,serif\" font-size=\"14.00\">~</text>\n",
       "<text text-anchor=\"middle\" x=\"60\" y=\"-392.24\" font-family=\"Times,serif\" font-size=\"14.00\">MutableData</text>\n",
       "</g>\n",
       "<!-- out_n10 -->\n",
       "<g id=\"node2\" class=\"node\">\n",
       "<title>out_n10</title>\n",
       "<polygon fill=\"none\" stroke=\"black\" points=\"539.12,-320.73 448.88,-320.73 448.88,-263.23 539.12,-263.23 539.12,-320.73\"/>\n",
       "<text text-anchor=\"middle\" x=\"494\" y=\"-303.43\" font-family=\"Times,serif\" font-size=\"14.00\">out_n10</text>\n",
       "<text text-anchor=\"middle\" x=\"494\" y=\"-286.93\" font-family=\"Times,serif\" font-size=\"14.00\">~</text>\n",
       "<text text-anchor=\"middle\" x=\"494\" y=\"-270.43\" font-family=\"Times,serif\" font-size=\"14.00\">Deterministic</text>\n",
       "</g>\n",
       "<!-- X&#45;&gt;out_n10 -->\n",
       "<g id=\"edge4\" class=\"edge\">\n",
       "<title>X&#45;&gt;out_n10</title>\n",
       "<path fill=\"none\" stroke=\"black\" d=\"M72.29,-384.73C80.91,-368.75 94.11,-350.07 112,-340.63 144.24,-323.63 405.5,-344.41 440,-332.63 444.21,-331.2 448.38,-329.3 452.41,-327.12\"/>\n",
       "<polygon fill=\"black\" stroke=\"black\" points=\"454.1,-330.18 460.82,-321.98 450.46,-324.21 454.1,-330.18\"/>\n",
       "</g>\n",
       "<!-- out_n11 -->\n",
       "<g id=\"node4\" class=\"node\">\n",
       "<title>out_n11</title>\n",
       "<polygon fill=\"none\" stroke=\"black\" points=\"431.12,-320.73 340.88,-320.73 340.88,-263.23 431.12,-263.23 431.12,-320.73\"/>\n",
       "<text text-anchor=\"middle\" x=\"386\" y=\"-303.43\" font-family=\"Times,serif\" font-size=\"14.00\">out_n11</text>\n",
       "<text text-anchor=\"middle\" x=\"386\" y=\"-286.93\" font-family=\"Times,serif\" font-size=\"14.00\">~</text>\n",
       "<text text-anchor=\"middle\" x=\"386\" y=\"-270.43\" font-family=\"Times,serif\" font-size=\"14.00\">Deterministic</text>\n",
       "</g>\n",
       "<!-- X&#45;&gt;out_n11 -->\n",
       "<g id=\"edge5\" class=\"edge\">\n",
       "<title>X&#45;&gt;out_n11</title>\n",
       "<path fill=\"none\" stroke=\"black\" d=\"M73.43,-384.58C82.25,-369.16 95.25,-351.12 112,-340.63 147.38,-318.49 259.92,-304.52 329.28,-297.78\"/>\n",
       "<polygon fill=\"black\" stroke=\"black\" points=\"329.31,-301.3 338.94,-296.87 328.65,-294.33 329.31,-301.3\"/>\n",
       "</g>\n",
       "<!-- out_n12 -->\n",
       "<g id=\"node5\" class=\"node\">\n",
       "<title>out_n12</title>\n",
       "<polygon fill=\"none\" stroke=\"black\" points=\"647.12,-320.73 556.88,-320.73 556.88,-263.23 647.12,-263.23 647.12,-320.73\"/>\n",
       "<text text-anchor=\"middle\" x=\"602\" y=\"-303.43\" font-family=\"Times,serif\" font-size=\"14.00\">out_n12</text>\n",
       "<text text-anchor=\"middle\" x=\"602\" y=\"-286.93\" font-family=\"Times,serif\" font-size=\"14.00\">~</text>\n",
       "<text text-anchor=\"middle\" x=\"602\" y=\"-270.43\" font-family=\"Times,serif\" font-size=\"14.00\">Deterministic</text>\n",
       "</g>\n",
       "<!-- X&#45;&gt;out_n12 -->\n",
       "<g id=\"edge8\" class=\"edge\">\n",
       "<title>X&#45;&gt;out_n12</title>\n",
       "<path fill=\"none\" stroke=\"black\" d=\"M72.27,-384.69C80.88,-368.69 94.08,-350.02 112,-340.63 133.46,-329.4 525.05,-340.39 548,-332.63 552.4,-331.15 556.74,-329.16 560.94,-326.86\"/>\n",
       "<polygon fill=\"black\" stroke=\"black\" points=\"562.44,-330.05 569.13,-321.83 558.77,-324.08 562.44,-330.05\"/>\n",
       "</g>\n",
       "<!-- age_of_tree -->\n",
       "<g id=\"node6\" class=\"node\">\n",
       "<title>age_of_tree</title>\n",
       "<ellipse fill=\"lightgrey\" stroke=\"black\" cx=\"591\" cy=\"-174.66\" rx=\"56.39\" ry=\"40.66\"/>\n",
       "<text text-anchor=\"middle\" x=\"591\" y=\"-186.11\" font-family=\"Times,serif\" font-size=\"14.00\">age_of_tree</text>\n",
       "<text text-anchor=\"middle\" x=\"591\" y=\"-169.61\" font-family=\"Times,serif\" font-size=\"14.00\">~</text>\n",
       "<text text-anchor=\"middle\" x=\"591\" y=\"-153.11\" font-family=\"Times,serif\" font-size=\"14.00\">StudentT</text>\n",
       "</g>\n",
       "<!-- out_n10&#45;&gt;age_of_tree -->\n",
       "<g id=\"edge14\" class=\"edge\">\n",
       "<title>out_n10&#45;&gt;age_of_tree</title>\n",
       "<path fill=\"none\" stroke=\"black\" d=\"M517.73,-262.77C528.98,-249.39 542.67,-233.12 555.15,-218.28\"/>\n",
       "<polygon fill=\"black\" stroke=\"black\" points=\"557.6,-220.8 561.36,-210.9 552.24,-216.3 557.6,-220.8\"/>\n",
       "</g>\n",
       "<!-- y -->\n",
       "<g id=\"node3\" class=\"node\">\n",
       "<title>y</title>\n",
       "<path fill=\"lightgrey\" stroke=\"black\" d=\"M622.62,-98C622.62,-98 559.38,-98 559.38,-98 553.38,-98 547.38,-92 547.38,-86 547.38,-86 547.38,-52.5 547.38,-52.5 547.38,-46.5 553.38,-40.5 559.38,-40.5 559.38,-40.5 622.62,-40.5 622.62,-40.5 628.62,-40.5 634.62,-46.5 634.62,-52.5 634.62,-52.5 634.62,-86 634.62,-86 634.62,-92 628.62,-98 622.62,-98\"/>\n",
       "<text text-anchor=\"middle\" x=\"591\" y=\"-80.7\" font-family=\"Times,serif\" font-size=\"14.00\">y</text>\n",
       "<text text-anchor=\"middle\" x=\"591\" y=\"-64.2\" font-family=\"Times,serif\" font-size=\"14.00\">~</text>\n",
       "<text text-anchor=\"middle\" x=\"591\" y=\"-47.7\" font-family=\"Times,serif\" font-size=\"14.00\">MutableData</text>\n",
       "</g>\n",
       "<!-- out_n11&#45;&gt;age_of_tree -->\n",
       "<g id=\"edge20\" class=\"edge\">\n",
       "<title>out_n11&#45;&gt;age_of_tree</title>\n",
       "<path fill=\"none\" stroke=\"black\" d=\"M422.61,-262.82C428.33,-258.8 434.24,-254.84 440,-251.32 469.74,-233.13 504.43,-215.51 533.05,-201.86\"/>\n",
       "<polygon fill=\"black\" stroke=\"black\" points=\"534.39,-205.1 541.93,-197.67 531.4,-198.77 534.39,-205.1\"/>\n",
       "</g>\n",
       "<!-- out_n12&#45;&gt;age_of_tree -->\n",
       "<g id=\"edge21\" class=\"edge\">\n",
       "<title>out_n12&#45;&gt;age_of_tree</title>\n",
       "<path fill=\"none\" stroke=\"black\" d=\"M599.31,-262.77C598.27,-251.84 597.04,-238.99 595.86,-226.56\"/>\n",
       "<polygon fill=\"black\" stroke=\"black\" points=\"599.36,-226.46 594.93,-216.84 592.39,-227.13 599.36,-226.46\"/>\n",
       "</g>\n",
       "<!-- age_of_tree&#45;&gt;y -->\n",
       "<g id=\"edge1\" class=\"edge\">\n",
       "<title>age_of_tree&#45;&gt;y</title>\n",
       "<path fill=\"none\" stroke=\"black\" d=\"M591,-133.68C591,-125.83 591,-117.6 591,-109.76\"/>\n",
       "<polygon fill=\"black\" stroke=\"black\" points=\"594.5,-109.79 591,-99.79 587.5,-109.79 594.5,-109.79\"/>\n",
       "</g>\n",
       "<!-- intercept_n12 -->\n",
       "<g id=\"node7\" class=\"node\">\n",
       "<title>intercept_n12</title>\n",
       "<ellipse fill=\"none\" stroke=\"black\" cx=\"477\" cy=\"-413.79\" rx=\"63.82\" ry=\"40.66\"/>\n",
       "<text text-anchor=\"middle\" x=\"477\" y=\"-425.24\" font-family=\"Times,serif\" font-size=\"14.00\">intercept_n12</text>\n",
       "<text text-anchor=\"middle\" x=\"477\" y=\"-408.74\" font-family=\"Times,serif\" font-size=\"14.00\">~</text>\n",
       "<text text-anchor=\"middle\" x=\"477\" y=\"-392.24\" font-family=\"Times,serif\" font-size=\"14.00\">StudentT</text>\n",
       "</g>\n",
       "<!-- intercept_n12&#45;&gt;out_n12 -->\n",
       "<g id=\"edge9\" class=\"edge\">\n",
       "<title>intercept_n12&#45;&gt;out_n12</title>\n",
       "<path fill=\"none\" stroke=\"black\" d=\"M509.17,-378.42C520.86,-366.26 534.32,-352.62 547,-340.63 551.2,-336.67 555.65,-332.6 560.13,-328.59\"/>\n",
       "<polygon fill=\"black\" stroke=\"black\" points=\"562.41,-331.24 567.59,-322 557.78,-326 562.41,-331.24\"/>\n",
       "</g>\n",
       "<!-- intercept_n20 -->\n",
       "<g id=\"node8\" class=\"node\">\n",
       "<title>intercept_n20</title>\n",
       "<ellipse fill=\"none\" stroke=\"black\" cx=\"1273\" cy=\"-291.98\" rx=\"63.82\" ry=\"40.66\"/>\n",
       "<text text-anchor=\"middle\" x=\"1273\" y=\"-303.43\" font-family=\"Times,serif\" font-size=\"14.00\">intercept_n20</text>\n",
       "<text text-anchor=\"middle\" x=\"1273\" y=\"-286.93\" font-family=\"Times,serif\" font-size=\"14.00\">~</text>\n",
       "<text text-anchor=\"middle\" x=\"1273\" y=\"-270.43\" font-family=\"Times,serif\" font-size=\"14.00\">StudentT</text>\n",
       "</g>\n",
       "<!-- intercept_n20&#45;&gt;age_of_tree -->\n",
       "<g id=\"edge15\" class=\"edge\">\n",
       "<title>intercept_n20&#45;&gt;age_of_tree</title>\n",
       "<path fill=\"none\" stroke=\"black\" d=\"M1228.09,-262.87C1219.36,-258.39 1210.1,-254.27 1201,-251.32 1011.34,-189.84 773.61,-177.8 658.99,-175.78\"/>\n",
       "<polygon fill=\"black\" stroke=\"black\" points=\"659.19,-172.28 649.14,-175.63 659.08,-179.28 659.19,-172.28\"/>\n",
       "</g>\n",
       "<!-- coeff_n20_0 -->\n",
       "<g id=\"node9\" class=\"node\">\n",
       "<title>coeff_n20_0</title>\n",
       "<ellipse fill=\"none\" stroke=\"black\" cx=\"725\" cy=\"-291.98\" rx=\"59.57\" ry=\"40.66\"/>\n",
       "<text text-anchor=\"middle\" x=\"725\" y=\"-303.43\" font-family=\"Times,serif\" font-size=\"14.00\">coeff_n20_0</text>\n",
       "<text text-anchor=\"middle\" x=\"725\" y=\"-286.93\" font-family=\"Times,serif\" font-size=\"14.00\">~</text>\n",
       "<text text-anchor=\"middle\" x=\"725\" y=\"-270.43\" font-family=\"Times,serif\" font-size=\"14.00\">StudentT</text>\n",
       "</g>\n",
       "<!-- coeff_n20_0&#45;&gt;age_of_tree -->\n",
       "<g id=\"edge16\" class=\"edge\">\n",
       "<title>coeff_n20_0&#45;&gt;age_of_tree</title>\n",
       "<path fill=\"none\" stroke=\"black\" d=\"M688.38,-259.46C671.87,-245.25 652.23,-228.35 634.93,-213.46\"/>\n",
       "<polygon fill=\"black\" stroke=\"black\" points=\"637.66,-211.19 627.79,-207.32 633.09,-216.5 637.66,-211.19\"/>\n",
       "</g>\n",
       "<!-- coeff_n20_2 -->\n",
       "<g id=\"node10\" class=\"node\">\n",
       "<title>coeff_n20_2</title>\n",
       "<ellipse fill=\"none\" stroke=\"black\" cx=\"862\" cy=\"-291.98\" rx=\"59.57\" ry=\"40.66\"/>\n",
       "<text text-anchor=\"middle\" x=\"862\" y=\"-303.43\" font-family=\"Times,serif\" font-size=\"14.00\">coeff_n20_2</text>\n",
       "<text text-anchor=\"middle\" x=\"862\" y=\"-286.93\" font-family=\"Times,serif\" font-size=\"14.00\">~</text>\n",
       "<text text-anchor=\"middle\" x=\"862\" y=\"-270.43\" font-family=\"Times,serif\" font-size=\"14.00\">StudentT</text>\n",
       "</g>\n",
       "<!-- coeff_n20_2&#45;&gt;age_of_tree -->\n",
       "<g id=\"edge17\" class=\"edge\">\n",
       "<title>coeff_n20_2&#45;&gt;age_of_tree</title>\n",
       "<path fill=\"none\" stroke=\"black\" d=\"M818.33,-264.04C810.36,-259.55 802.03,-255.12 794,-251.32 748.07,-229.56 694.08,-209.7 653.33,-195.79\"/>\n",
       "<polygon fill=\"black\" stroke=\"black\" points=\"654.5,-192.49 643.9,-192.6 652.25,-199.12 654.5,-192.49\"/>\n",
       "</g>\n",
       "<!-- sigma_n12 -->\n",
       "<g id=\"node11\" class=\"node\">\n",
       "<title>sigma_n12</title>\n",
       "<ellipse fill=\"none\" stroke=\"black\" cx=\"1125\" cy=\"-413.79\" rx=\"57.45\" ry=\"40.66\"/>\n",
       "<text text-anchor=\"middle\" x=\"1125\" y=\"-425.24\" font-family=\"Times,serif\" font-size=\"14.00\">sigma_n12</text>\n",
       "<text text-anchor=\"middle\" x=\"1125\" y=\"-408.74\" font-family=\"Times,serif\" font-size=\"14.00\">~</text>\n",
       "<text text-anchor=\"middle\" x=\"1125\" y=\"-392.24\" font-family=\"Times,serif\" font-size=\"14.00\">HalfCauchy</text>\n",
       "</g>\n",
       "<!-- sigma_n12&#45;&gt;coeff_n20_2 -->\n",
       "<g id=\"edge13\" class=\"edge\">\n",
       "<title>sigma_n12&#45;&gt;coeff_n20_2</title>\n",
       "<path fill=\"none\" stroke=\"black\" d=\"M1100.75,-376.64C1089.48,-362.88 1074.84,-348.62 1058,-340.63 1032.45,-328.52 958.08,-340.78 931,-332.63 925.29,-330.92 919.55,-328.65 913.95,-326.08\"/>\n",
       "<polygon fill=\"black\" stroke=\"black\" points=\"915.92,-323.15 905.41,-321.82 912.8,-329.41 915.92,-323.15\"/>\n",
       "</g>\n",
       "<!-- sigma_n20 -->\n",
       "<g id=\"node12\" class=\"node\">\n",
       "<title>sigma_n20</title>\n",
       "<ellipse fill=\"none\" stroke=\"black\" cx=\"997\" cy=\"-291.98\" rx=\"57.45\" ry=\"40.66\"/>\n",
       "<text text-anchor=\"middle\" x=\"997\" y=\"-303.43\" font-family=\"Times,serif\" font-size=\"14.00\">sigma_n20</text>\n",
       "<text text-anchor=\"middle\" x=\"997\" y=\"-286.93\" font-family=\"Times,serif\" font-size=\"14.00\">~</text>\n",
       "<text text-anchor=\"middle\" x=\"997\" y=\"-270.43\" font-family=\"Times,serif\" font-size=\"14.00\">HalfCauchy</text>\n",
       "</g>\n",
       "<!-- sigma_n20&#45;&gt;age_of_tree -->\n",
       "<g id=\"edge18\" class=\"edge\">\n",
       "<title>sigma_n20&#45;&gt;age_of_tree</title>\n",
       "<path fill=\"none\" stroke=\"black\" d=\"M955.8,-263.48C947.8,-258.94 939.32,-254.64 931,-251.32 840.03,-214.98 728.06,-194.34 658.08,-184.08\"/>\n",
       "<polygon fill=\"black\" stroke=\"black\" points=\"658.69,-180.63 648.3,-182.67 657.7,-187.56 658.69,-180.63\"/>\n",
       "</g>\n",
       "<!-- coeff_n20_1 -->\n",
       "<g id=\"node13\" class=\"node\">\n",
       "<title>coeff_n20_1</title>\n",
       "<ellipse fill=\"none\" stroke=\"black\" cx=\"1132\" cy=\"-291.98\" rx=\"59.57\" ry=\"40.66\"/>\n",
       "<text text-anchor=\"middle\" x=\"1132\" y=\"-303.43\" font-family=\"Times,serif\" font-size=\"14.00\">coeff_n20_1</text>\n",
       "<text text-anchor=\"middle\" x=\"1132\" y=\"-286.93\" font-family=\"Times,serif\" font-size=\"14.00\">~</text>\n",
       "<text text-anchor=\"middle\" x=\"1132\" y=\"-270.43\" font-family=\"Times,serif\" font-size=\"14.00\">StudentT</text>\n",
       "</g>\n",
       "<!-- coeff_n20_1&#45;&gt;age_of_tree -->\n",
       "<g id=\"edge19\" class=\"edge\">\n",
       "<title>coeff_n20_1&#45;&gt;age_of_tree</title>\n",
       "<path fill=\"none\" stroke=\"black\" d=\"M1089.35,-263.3C1080.88,-258.72 1071.86,-254.45 1063,-251.32 924.63,-202.32 752.15,-184.91 658.75,-178.83\"/>\n",
       "<polygon fill=\"black\" stroke=\"black\" points=\"659.19,-175.35 648.99,-178.22 658.75,-182.34 659.19,-175.35\"/>\n",
       "</g>\n",
       "<!-- sigma_n11 -->\n",
       "<g id=\"node14\" class=\"node\">\n",
       "<title>sigma_n11</title>\n",
       "<ellipse fill=\"none\" stroke=\"black\" cx=\"1258\" cy=\"-413.79\" rx=\"57.45\" ry=\"40.66\"/>\n",
       "<text text-anchor=\"middle\" x=\"1258\" y=\"-425.24\" font-family=\"Times,serif\" font-size=\"14.00\">sigma_n11</text>\n",
       "<text text-anchor=\"middle\" x=\"1258\" y=\"-408.74\" font-family=\"Times,serif\" font-size=\"14.00\">~</text>\n",
       "<text text-anchor=\"middle\" x=\"1258\" y=\"-392.24\" font-family=\"Times,serif\" font-size=\"14.00\">HalfCauchy</text>\n",
       "</g>\n",
       "<!-- sigma_n11&#45;&gt;coeff_n20_1 -->\n",
       "<g id=\"edge12\" class=\"edge\">\n",
       "<title>sigma_n11&#45;&gt;coeff_n20_1</title>\n",
       "<path fill=\"none\" stroke=\"black\" d=\"M1228.27,-378.79C1216.97,-366.4 1203.75,-352.53 1191,-340.63 1187.38,-337.26 1183.56,-333.85 1179.66,-330.48\"/>\n",
       "<polygon fill=\"black\" stroke=\"black\" points=\"1182.13,-327.98 1172.23,-324.2 1177.61,-333.33 1182.13,-327.98\"/>\n",
       "</g>\n",
       "<!-- sigma_n10 -->\n",
       "<g id=\"node15\" class=\"node\">\n",
       "<title>sigma_n10</title>\n",
       "<ellipse fill=\"none\" stroke=\"black\" cx=\"992\" cy=\"-413.79\" rx=\"57.45\" ry=\"40.66\"/>\n",
       "<text text-anchor=\"middle\" x=\"992\" y=\"-425.24\" font-family=\"Times,serif\" font-size=\"14.00\">sigma_n10</text>\n",
       "<text text-anchor=\"middle\" x=\"992\" y=\"-408.74\" font-family=\"Times,serif\" font-size=\"14.00\">~</text>\n",
       "<text text-anchor=\"middle\" x=\"992\" y=\"-392.24\" font-family=\"Times,serif\" font-size=\"14.00\">HalfCauchy</text>\n",
       "</g>\n",
       "<!-- sigma_n10&#45;&gt;coeff_n20_0 -->\n",
       "<g id=\"edge11\" class=\"edge\">\n",
       "<title>sigma_n10&#45;&gt;coeff_n20_0</title>\n",
       "<path fill=\"none\" stroke=\"black\" d=\"M969.35,-376.26C958.86,-362.62 945.13,-348.54 929,-340.63 901.82,-327.31 821.98,-341.39 793,-332.63 787.58,-331 782.13,-328.85 776.81,-326.4\"/>\n",
       "<polygon fill=\"black\" stroke=\"black\" points=\"778.62,-323.4 768.12,-322.06 775.49,-329.66 778.62,-323.4\"/>\n",
       "</g>\n",
       "<!-- intercept_n11 -->\n",
       "<g id=\"node16\" class=\"node\">\n",
       "<title>intercept_n11</title>\n",
       "<ellipse fill=\"none\" stroke=\"black\" cx=\"185\" cy=\"-413.79\" rx=\"63.82\" ry=\"40.66\"/>\n",
       "<text text-anchor=\"middle\" x=\"185\" y=\"-425.24\" font-family=\"Times,serif\" font-size=\"14.00\">intercept_n11</text>\n",
       "<text text-anchor=\"middle\" x=\"185\" y=\"-408.74\" font-family=\"Times,serif\" font-size=\"14.00\">~</text>\n",
       "<text text-anchor=\"middle\" x=\"185\" y=\"-392.24\" font-family=\"Times,serif\" font-size=\"14.00\">StudentT</text>\n",
       "</g>\n",
       "<!-- intercept_n11&#45;&gt;out_n11 -->\n",
       "<g id=\"edge6\" class=\"edge\">\n",
       "<title>intercept_n11&#45;&gt;out_n11</title>\n",
       "<path fill=\"none\" stroke=\"black\" d=\"M214.77,-377.6C227.11,-364.65 242.23,-350.7 258,-340.63 279.92,-326.65 306.54,-315.9 329.81,-308.18\"/>\n",
       "<polygon fill=\"black\" stroke=\"black\" points=\"330.68,-311.58 339.15,-305.2 328.56,-304.91 330.68,-311.58\"/>\n",
       "</g>\n",
       "<!-- intercept_n10 -->\n",
       "<g id=\"node17\" class=\"node\">\n",
       "<title>intercept_n10</title>\n",
       "<ellipse fill=\"none\" stroke=\"black\" cx=\"331\" cy=\"-413.79\" rx=\"63.82\" ry=\"40.66\"/>\n",
       "<text text-anchor=\"middle\" x=\"331\" y=\"-425.24\" font-family=\"Times,serif\" font-size=\"14.00\">intercept_n10</text>\n",
       "<text text-anchor=\"middle\" x=\"331\" y=\"-408.74\" font-family=\"Times,serif\" font-size=\"14.00\">~</text>\n",
       "<text text-anchor=\"middle\" x=\"331\" y=\"-392.24\" font-family=\"Times,serif\" font-size=\"14.00\">StudentT</text>\n",
       "</g>\n",
       "<!-- intercept_n10&#45;&gt;out_n10 -->\n",
       "<g id=\"edge3\" class=\"edge\">\n",
       "<title>intercept_n10&#45;&gt;out_n10</title>\n",
       "<path fill=\"none\" stroke=\"black\" d=\"M359.39,-377.19C371.76,-363.86 387.26,-349.76 404,-340.63 418.39,-332.79 425.07,-339.41 440,-332.63 443.55,-331.02 447.1,-329.15 450.58,-327.12\"/>\n",
       "<polygon fill=\"black\" stroke=\"black\" points=\"452.32,-330.16 458.89,-321.85 448.57,-324.25 452.32,-330.16\"/>\n",
       "</g>\n",
       "<!-- coeffs_n10 -->\n",
       "<g id=\"node18\" class=\"node\">\n",
       "<title>coeffs_n10</title>\n",
       "<ellipse fill=\"none\" stroke=\"black\" cx=\"738\" cy=\"-413.79\" rx=\"53.74\" ry=\"40.66\"/>\n",
       "<text text-anchor=\"middle\" x=\"738\" y=\"-425.24\" font-family=\"Times,serif\" font-size=\"14.00\">coeffs_n10</text>\n",
       "<text text-anchor=\"middle\" x=\"738\" y=\"-408.74\" font-family=\"Times,serif\" font-size=\"14.00\">~</text>\n",
       "<text text-anchor=\"middle\" x=\"738\" y=\"-392.24\" font-family=\"Times,serif\" font-size=\"14.00\">StudentT</text>\n",
       "</g>\n",
       "<!-- coeffs_n10&#45;&gt;out_n10 -->\n",
       "<g id=\"edge2\" class=\"edge\">\n",
       "<title>coeffs_n10&#45;&gt;out_n10</title>\n",
       "<path fill=\"none\" stroke=\"black\" d=\"M715.81,-376.29C705.5,-362.67 691.97,-348.58 676,-340.63 650.48,-327.94 574.79,-342.35 548,-332.63 543.87,-331.14 539.79,-329.22 535.83,-327.04\"/>\n",
       "<polygon fill=\"black\" stroke=\"black\" points=\"537.91,-324.21 527.56,-321.96 534.24,-330.17 537.91,-324.21\"/>\n",
       "</g>\n",
       "<!-- coeffs_n11 -->\n",
       "<g id=\"node19\" class=\"node\">\n",
       "<title>coeffs_n11</title>\n",
       "<ellipse fill=\"none\" stroke=\"black\" cx=\"613\" cy=\"-413.79\" rx=\"53.74\" ry=\"40.66\"/>\n",
       "<text text-anchor=\"middle\" x=\"613\" y=\"-425.24\" font-family=\"Times,serif\" font-size=\"14.00\">coeffs_n11</text>\n",
       "<text text-anchor=\"middle\" x=\"613\" y=\"-408.74\" font-family=\"Times,serif\" font-size=\"14.00\">~</text>\n",
       "<text text-anchor=\"middle\" x=\"613\" y=\"-392.24\" font-family=\"Times,serif\" font-size=\"14.00\">StudentT</text>\n",
       "</g>\n",
       "<!-- coeffs_n11&#45;&gt;out_n11 -->\n",
       "<g id=\"edge7\" class=\"edge\">\n",
       "<title>coeffs_n11&#45;&gt;out_n11</title>\n",
       "<path fill=\"none\" stroke=\"black\" d=\"M590.58,-376.75C580.05,-363.01 566.22,-348.73 550,-340.63 528.07,-329.69 463,-341.11 440,-332.63 435.88,-331.12 431.8,-329.19 427.84,-326.99\"/>\n",
       "<polygon fill=\"black\" stroke=\"black\" points=\"429.93,-324.17 419.58,-321.9 426.25,-330.13 429.93,-324.17\"/>\n",
       "</g>\n",
       "<!-- coeffs_n12 -->\n",
       "<g id=\"node20\" class=\"node\">\n",
       "<title>coeffs_n12</title>\n",
       "<ellipse fill=\"none\" stroke=\"black\" cx=\"863\" cy=\"-413.79\" rx=\"53.74\" ry=\"40.66\"/>\n",
       "<text text-anchor=\"middle\" x=\"863\" y=\"-425.24\" font-family=\"Times,serif\" font-size=\"14.00\">coeffs_n12</text>\n",
       "<text text-anchor=\"middle\" x=\"863\" y=\"-408.74\" font-family=\"Times,serif\" font-size=\"14.00\">~</text>\n",
       "<text text-anchor=\"middle\" x=\"863\" y=\"-392.24\" font-family=\"Times,serif\" font-size=\"14.00\">StudentT</text>\n",
       "</g>\n",
       "<!-- coeffs_n12&#45;&gt;out_n12 -->\n",
       "<g id=\"edge10\" class=\"edge\">\n",
       "<title>coeffs_n12&#45;&gt;out_n12</title>\n",
       "<path fill=\"none\" stroke=\"black\" d=\"M840.84,-376.24C830.53,-362.6 817,-348.52 801,-340.63 772.06,-326.36 686.38,-343.53 656,-332.63 651.87,-331.15 647.78,-329.25 643.82,-327.07\"/>\n",
       "<polygon fill=\"black\" stroke=\"black\" points=\"645.9,-324.24 635.54,-322 642.24,-330.21 645.9,-324.24\"/>\n",
       "</g>\n",
       "</g>\n",
       "</svg>\n"
      ],
      "text/plain": [
       "<graphviz.graphs.Digraph at 0x7fd547502590>"
      ]
     },
     "execution_count": 55,
     "metadata": {},
     "output_type": "execute_result"
    }
   ],
   "source": [
    "# This chart will sort of visualize our neural network structure.\n",
    "pm.model_to_graphviz(m_neural)"
   ]
  },
  {
   "cell_type": "code",
   "execution_count": 56,
   "id": "d3ab8f6b-c3ed-4616-947c-90f6ae902ee8",
   "metadata": {},
   "outputs": [
    {
     "data": {
      "text/plain": [
       "r2        0.584756\n",
       "r2_std    0.000000\n",
       "dtype: float64"
      ]
     },
     "execution_count": 56,
     "metadata": {},
     "output_type": "execute_result"
    }
   ],
   "source": [
    "az.r2_score(y_train, y_pred_neural)"
   ]
  },
  {
   "cell_type": "code",
   "execution_count": 57,
   "id": "09128083-13ce-44f3-be54-68d247bfc1b8",
   "metadata": {},
   "outputs": [
    {
     "data": {
      "text/plain": [
       "0.1002"
      ]
     },
     "execution_count": 57,
     "metadata": {},
     "output_type": "execute_result"
    }
   ],
   "source": [
    "round(mean_squared_error(y_train, y_pred_neural), 4)"
   ]
  },
  {
   "cell_type": "code",
   "execution_count": 58,
   "id": "454be0e4-8a94-47d7-8eeb-d2b45fda53ef",
   "metadata": {},
   "outputs": [
    {
     "data": {
      "text/plain": [
       "[Text(0.5, 0, 'predicted'), Text(0, 0.5, 'actual')]"
      ]
     },
     "execution_count": 58,
     "metadata": {},
     "output_type": "execute_result"
    },
    {
     "data": {
      "image/png": "[encoded data removed]",
      "text/plain": [
       "<Figure size 640x480 with 1 Axes>"
      ]
     },
     "metadata": {},
     "output_type": "display_data"
    }
   ],
   "source": [
    "plot = sns.regplot(x=y_pred_neural, y=y_train)\n",
    "plot.set(xlabel=\"predicted\", ylabel=\"actual\")"
   ]
  },
  {
   "cell_type": "markdown",
   "id": "99c933a2-bfc2-43f1-9add-f69d602ece68",
   "metadata": {},
   "source": [
    "**Now lets predict the test set**"
   ]
  },
  {
   "cell_type": "markdown",
   "id": "e7fce062-5a84-4081-8f2e-0f0ce43cc4bc",
   "metadata": {},
   "source": [
    "First prediction without sampling... just use coefficients. Kind of a hassle to extract all these individually to recrate the neural network math... I'm trying to be careful.\n",
    "Hopefully no mistakes. :)"
   ]
  },
  {
   "cell_type": "code",
   "execution_count": 74,
   "id": "94b3cdf7-696f-43ab-aafc-94c5fbc97c62",
   "metadata": {},
   "outputs": [],
   "source": [
    "# LAYER 1\n",
    "pred_intercept_n10 = trace_neural.posterior.intercept_n10.mean().values.item()\n",
    "pred_intercept_n11 = trace_neural.posterior.intercept_n11.mean().values.item()\n",
    "pred_intercept_n12 = trace_neural.posterior.intercept_n12.mean().values.item()\n",
    "\n",
    "pred_coeffs_n10 = trace_neural.posterior.coeffs_n10.mean([\"chain\", \"draw\"]).values\n",
    "pred_coeffs_n11 = trace_neural.posterior.coeffs_n11.mean([\"chain\", \"draw\"]).values\n",
    "pred_coeffs_n12 = trace_neural.posterior.coeffs_n12.mean([\"chain\", \"draw\"]).values\n",
    "\n",
    "# Data X coefficients, then ReLU\n",
    "pred_out_n10 = np.maximum(0, pred_intercept_n10 + X_test @ pred_coeffs_n10)\n",
    "pred_out_n11 = np.maximum(0, pred_intercept_n11 + X_test @ pred_coeffs_n11)\n",
    "pred_out_n12 = np.maximum(0, pred_intercept_n12 + X_test @ pred_coeffs_n12)\n",
    "\n",
    "# LAYER 2\n",
    "pred_intercept_n20 = trace_neural.posterior.intercept_n20.mean().values.item()\n",
    "pred_coeff_n20_0 = trace_neural.posterior.coeff_n20_0.mean().values.item()\n",
    "pred_coeff_n20_1 = trace_neural.posterior.coeff_n20_1.mean().values.item()\n",
    "pred_coeff_n20_2 = trace_neural.posterior.coeff_n20_2.mean().values.item()\n",
    "\n",
    "y_pred_test_nosample_neural = (pred_intercept_n20 \n",
    "          + pred_out_n10 * pred_coeff_n20_0 \n",
    "          + pred_out_n11 * pred_coeff_n20_1\n",
    "          + pred_out_n12 * pred_coeff_n20_2)"
   ]
  },
  {
   "cell_type": "code",
   "execution_count": 75,
   "id": "4a02a9fc-35b2-41f4-a6f8-24d4a81dc818",
   "metadata": {},
   "outputs": [
    {
     "data": {
      "text/plain": [
       "0.3521"
      ]
     },
     "execution_count": 75,
     "metadata": {},
     "output_type": "execute_result"
    }
   ],
   "source": [
    "round(mean_squared_error(y_test, y_pred_test_nosample_neural), 4)"
   ]
  },
  {
   "cell_type": "code",
   "execution_count": 76,
   "id": "d24eab29-cc8f-48ca-95a0-d89b71e33d7d",
   "metadata": {},
   "outputs": [
    {
     "data": {
      "text/plain": [
       "[Text(0.5, 0, 'predicted'), Text(0, 0.5, 'actual')]"
      ]
     },
     "execution_count": 76,
     "metadata": {},
     "output_type": "execute_result"
    },
    {
     "data": {
      "image/png": "[encoded data removed]",
      "text/plain": [
       "<Figure size 640x480 with 1 Axes>"
      ]
     },
     "metadata": {},
     "output_type": "display_data"
    }
   ],
   "source": [
    "plot = sns.regplot(x=y_pred_test_nosample_neural, y=y_test)\n",
    "plot.set(xlabel=\"predicted\", ylabel=\"actual\")"
   ]
  },
  {
   "cell_type": "markdown",
   "id": "1ce5b0ca-8eb0-45e5-b49b-305e16f0072a",
   "metadata": {},
   "source": [
    "Now predict using sampling  \n",
    "**We are now getting a much lower MSA values, and they seem more stable. The neural net seems to be much better at dealing with possible outliers and non-linearities than the linear model**"
   ]
  },
  {
   "cell_type": "code",
   "execution_count": 77,
   "id": "70309047-8721-4834-9358-69f5fcfaa23c",
   "metadata": {},
   "outputs": [
    {
     "name": "stderr",
     "output_type": "stream",
     "text": [
      "Sampling: [age_of_tree, coeffs_n10, coeffs_n11, coeffs_n12]\n"
     ]
    },
    {
     "data": {
      "text/html": [
       "\n",
       "<style>\n",
       "    /* Turns off some styling */\n",
       "    progress {\n",
       "        /* gets rid of default border in Firefox and Opera. */\n",
       "        border: none;\n",
       "        /* Needs to be in here for Safari polyfill so background images work as expected. */\n",
       "        background-size: auto;\n",
       "    }\n",
       "    progress:not([value]), progress:not([value])::-webkit-progress-bar {\n",
       "        background: repeating-linear-gradient(45deg, #7e7e7e, #7e7e7e 10px, #5c5c5c 10px, #5c5c5c 20px);\n",
       "    }\n",
       "    .progress-bar-interrupted, .progress-bar-interrupted::-webkit-progress-bar {\n",
       "        background: #F44336;\n",
       "    }\n",
       "</style>\n"
      ],
      "text/plain": [
       "<IPython.core.display.HTML object>"
      ]
     },
     "metadata": {},
     "output_type": "display_data"
    },
    {
     "data": {
      "text/html": [
       "\n",
       "    <div>\n",
       "      <progress value='2000' class='' max='2000' style='width:300px; height:20px; vertical-align: middle;'></progress>\n",
       "      100.00% [2000/2000 00:00&lt;00:00]\n",
       "    </div>\n",
       "    "
      ],
      "text/plain": [
       "<IPython.core.display.HTML object>"
      ]
     },
     "metadata": {},
     "output_type": "display_data"
    }
   ],
   "source": [
    "with m_neural:\n",
    "    pm.set_data({\"X\": X_test, \"y\": y_test})\n",
    "    ppc_test_neural = pm.sample_posterior_predictive(trace_neural) #, predictions=True)\n",
    "    y_pred_test_neural = ppc_test_neural.posterior_predictive.stack(sample=(\"chain\", \"draw\"))[\"age_of_tree\"].values.T.mean(axis=0)"
   ]
  },
  {
   "cell_type": "code",
   "execution_count": 78,
   "id": "7f6b795c-84cf-41c6-9057-8713d1091946",
   "metadata": {
    "tags": []
   },
   "outputs": [
    {
     "data": {
      "text/plain": [
       "0.2736"
      ]
     },
     "execution_count": 78,
     "metadata": {},
     "output_type": "execute_result"
    }
   ],
   "source": [
    "round(mean_squared_error(y_test, y_pred_test_neural), 4)"
   ]
  },
  {
   "cell_type": "code",
   "execution_count": 79,
   "id": "fd18b5f4-3067-48a5-a4b4-b5691f6ef7b4",
   "metadata": {
    "tags": []
   },
   "outputs": [
    {
     "data": {
      "text/plain": [
       "[Text(0.5, 0, 'predicted'), Text(0, 0.5, 'actual')]"
      ]
     },
     "execution_count": 79,
     "metadata": {},
     "output_type": "execute_result"
    },
    {
     "data": {
      "image/png": "[encoded data removed]",
      "text/plain": [
       "<Figure size 640x480 with 1 Axes>"
      ]
     },
     "metadata": {},
     "output_type": "display_data"
    }
   ],
   "source": [
    "plot = sns.regplot(x=y_pred_test_neural, y=y_test)\n",
    "plot.set(xlabel=\"predicted\", ylabel=\"actual\")"
   ]
  },
  {
   "cell_type": "markdown",
   "id": "3f8fd398-1dd7-47dc-8522-b792efbacc0f",
   "metadata": {},
   "source": [
    "The sampling on the test set seems very unstable. Note how we can get two very different results when we redraw the samples."
   ]
  },
  {
   "cell_type": "code",
   "execution_count": 80,
   "id": "b39c0e62-c622-4c6a-99ac-cca2091c28f5",
   "metadata": {},
   "outputs": [
    {
     "name": "stderr",
     "output_type": "stream",
     "text": [
      "Sampling: [age_of_tree, coeffs_n10, coeffs_n11, coeffs_n12]\n"
     ]
    },
    {
     "data": {
      "text/html": [
       "\n",
       "<style>\n",
       "    /* Turns off some styling */\n",
       "    progress {\n",
       "        /* gets rid of default border in Firefox and Opera. */\n",
       "        border: none;\n",
       "        /* Needs to be in here for Safari polyfill so background images work as expected. */\n",
       "        background-size: auto;\n",
       "    }\n",
       "    progress:not([value]), progress:not([value])::-webkit-progress-bar {\n",
       "        background: repeating-linear-gradient(45deg, #7e7e7e, #7e7e7e 10px, #5c5c5c 10px, #5c5c5c 20px);\n",
       "    }\n",
       "    .progress-bar-interrupted, .progress-bar-interrupted::-webkit-progress-bar {\n",
       "        background: #F44336;\n",
       "    }\n",
       "</style>\n"
      ],
      "text/plain": [
       "<IPython.core.display.HTML object>"
      ]
     },
     "metadata": {},
     "output_type": "display_data"
    },
    {
     "data": {
      "text/html": [
       "\n",
       "    <div>\n",
       "      <progress value='2000' class='' max='2000' style='width:300px; height:20px; vertical-align: middle;'></progress>\n",
       "      100.00% [2000/2000 00:00&lt;00:00]\n",
       "    </div>\n",
       "    "
      ],
      "text/plain": [
       "<IPython.core.display.HTML object>"
      ]
     },
     "metadata": {},
     "output_type": "display_data"
    }
   ],
   "source": [
    "with m_neural:\n",
    "    pm.set_data({\"X\": X_test, \"y\": y_test})\n",
    "    ppc_test_neural = pm.sample_posterior_predictive(trace_neural) #, predictions=True)\n",
    "    y_pred_test_neural = ppc_test_neural.posterior_predictive.stack(sample=(\"chain\", \"draw\"))[\"age_of_tree\"].values.T.mean(axis=0)"
   ]
  },
  {
   "cell_type": "code",
   "execution_count": 81,
   "id": "9ed17ee0-6add-4aa5-ae8e-cdbfe63f434c",
   "metadata": {
    "tags": []
   },
   "outputs": [
    {
     "data": {
      "text/plain": [
       "0.2586"
      ]
     },
     "execution_count": 81,
     "metadata": {},
     "output_type": "execute_result"
    }
   ],
   "source": [
    "round(mean_squared_error(y_test, y_pred_test_neural), 4)"
   ]
  },
  {
   "cell_type": "code",
   "execution_count": 82,
   "id": "13c1f55e-3684-4030-895a-e13680994dfc",
   "metadata": {
    "tags": []
   },
   "outputs": [
    {
     "data": {
      "text/plain": [
       "[Text(0.5, 0, 'predicted'), Text(0, 0.5, 'actual')]"
      ]
     },
     "execution_count": 82,
     "metadata": {},
     "output_type": "execute_result"
    },
    {
     "data": {
      "image/png": "[encoded data removed]",
      "text/plain": [
       "<Figure size 640x480 with 1 Axes>"
      ]
     },
     "metadata": {},
     "output_type": "display_data"
    }
   ],
   "source": [
    "plot = sns.regplot(x=y_pred_test_neural, y=y_test)\n",
    "plot.set(xlabel=\"predicted\", ylabel=\"actual\")"
   ]
  },
  {
   "cell_type": "code",
   "execution_count": 66,
   "id": "4dcbad1a-976d-4e33-9a12-8bdfd32cc454",
   "metadata": {},
   "outputs": [
    {
     "name": "stdout",
     "output_type": "stream",
     "text": [
      "Last updated: Sat Dec 02 2023\n",
      "\n",
      "Python implementation: CPython\n",
      "Python version       : 3.11.6\n",
      "IPython version      : 8.15.0\n",
      "\n",
      "pytensor: 2.17.3\n",
      "\n",
      "numpy  : 1.25.2\n",
      "seaborn: 0.13.0\n",
      "pandas : 2.1.3\n",
      "arviz  : 0.16.1\n",
      "pymc   : 5.9.1\n",
      "\n"
     ]
    }
   ],
   "source": [
    "%load_ext watermark\n",
    "%watermark -n -u -v -iv -p pytensor"
   ]
  },
  {
   "cell_type": "markdown",
   "id": "3cd35384-fd0b-42c5-8742-9b7f908fd194",
   "metadata": {},
   "source": [
    "# --------------------------------"
   ]
  },
  {
   "cell_type": "code",
   "execution_count": null,
   "id": "5e5b3712-9d11-4e75-b670-d56ee689edc8",
   "metadata": {},
   "outputs": [],
   "source": []
  },
  {
   "cell_type": "code",
   "execution_count": null,
   "id": "c66bd8ec-8975-45cf-806f-e1e06472edc8",
   "metadata": {},
   "outputs": [],
   "source": []
  },
  {
   "cell_type": "code",
   "execution_count": null,
   "id": "c48f1b58-bd9e-4cda-bcab-d75e71540ad9",
   "metadata": {},
   "outputs": [],
   "source": []
  }
 ],
 "metadata": {
  "kernelspec": {
   "display_name": "Python 3 (ipykernel)",
   "language": "python",
   "name": "python3"
  },
  "language_info": {
   "codemirror_mode": {
    "name": "ipython",
    "version": 3
   },
   "file_extension": ".py",
   "mimetype": "text/x-python",
   "name": "python",
   "nbconvert_exporter": "python",
   "pygments_lexer": "ipython3",
   "version": "3.11.6"
  }
 },
 "nbformat": 4,
 "nbformat_minor": 5
}
