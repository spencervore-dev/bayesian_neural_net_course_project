{
 "cells": [
  {
   "cell_type": "markdown",
   "id": "982a100f-0d65-4ecd-aa7d-6aa22a57c19c",
   "metadata": {},
   "source": [
    "# Georgia Tech ISYE6420 Course Project"
   ]
  },
  {
   "cell_type": "markdown",
   "id": "e953394c-a314-497f-9ebd-979b2e625688",
   "metadata": {},
   "source": [
    "**Fall 2023  \n",
    "Spencer Vore**"
   ]
  },
  {
   "cell_type": "code",
   "execution_count": 1,
   "id": "14dfbfb6-7a56-45f1-86ec-1509e9ecf0fb",
   "metadata": {},
   "outputs": [],
   "source": [
    "import pymc as pm\n",
    "import pandas as pd\n",
    "from pandas.api.types import is_numeric_dtype\n",
    "\n",
    "import arviz as az\n",
    "from collections.abc import Sequence\n",
    "from typing import Optional\n",
    "\n",
    "from sklearn.model_selection import train_test_split\n",
    "from sklearn.metrics import mean_squared_error"
   ]
  },
  {
   "cell_type": "markdown",
   "id": "29c6b737-be5c-4ce9-b77c-efcd2824b3fa",
   "metadata": {
    "tags": []
   },
   "source": [
    "### Define adjustable Constants / Settings  \n",
    "Use this to adjust script settings / MCMC run. Sorry, didn't add it to a .env file or something fancier. Works for purpose of demo / tinkering."
   ]
  },
  {
   "cell_type": "code",
   "execution_count": 2,
   "id": "620e860d-e953-4e3f-8ac3-4266669a89fb",
   "metadata": {},
   "outputs": [],
   "source": [
    "n_all = 500 # Size of data we want for MCMC. Randomly sample this many points from full dataset. Includes train and test sample size.\n",
    "n_seed = 42 # Random seed for down sampling n datapoints from full dataset\n",
    "\n",
    "n_test = 50 # Size of test set we want to saomple from n_all.\n",
    "split_seed = 43 # Random seed used for train / test split\n",
    "\n",
    "path_to_datafile = \"abalone/abalone.data\""
   ]
  },
  {
   "cell_type": "markdown",
   "id": "17dacb81-6181-4d5b-aa22-09c5f6e011b4",
   "metadata": {},
   "source": [
    "### Prepare Dataset"
   ]
  },
  {
   "cell_type": "markdown",
   "id": "a0ad572e-fa93-4b6f-b61a-ad4d9ca80ead",
   "metadata": {},
   "source": [
    "**Load Dataset**"
   ]
  },
  {
   "cell_type": "code",
   "execution_count": 3,
   "id": "e5726059-0095-4165-b2a8-6f716d505115",
   "metadata": {},
   "outputs": [],
   "source": [
    "data = pd.read_csv(path_to_datafile, header=None)"
   ]
  },
  {
   "cell_type": "code",
   "execution_count": 4,
   "id": "8abb4b7a-fdfe-4ac8-a82b-e89ef2b7a074",
   "metadata": {},
   "outputs": [
    {
     "data": {
      "text/html": [
       "<div>\n",
       "<style scoped>\n",
       "    .dataframe tbody tr th:only-of-type {\n",
       "        vertical-align: middle;\n",
       "    }\n",
       "\n",
       "    .dataframe tbody tr th {\n",
       "        vertical-align: top;\n",
       "    }\n",
       "\n",
       "    .dataframe thead th {\n",
       "        text-align: right;\n",
       "    }\n",
       "</style>\n",
       "<table border=\"1\" class=\"dataframe\">\n",
       "  <thead>\n",
       "    <tr style=\"text-align: right;\">\n",
       "      <th></th>\n",
       "      <th>0</th>\n",
       "      <th>1</th>\n",
       "      <th>2</th>\n",
       "      <th>3</th>\n",
       "      <th>4</th>\n",
       "      <th>5</th>\n",
       "      <th>6</th>\n",
       "      <th>7</th>\n",
       "      <th>8</th>\n",
       "    </tr>\n",
       "  </thead>\n",
       "  <tbody>\n",
       "    <tr>\n",
       "      <th>0</th>\n",
       "      <td>M</td>\n",
       "      <td>0.455</td>\n",
       "      <td>0.365</td>\n",
       "      <td>0.095</td>\n",
       "      <td>0.5140</td>\n",
       "      <td>0.2245</td>\n",
       "      <td>0.1010</td>\n",
       "      <td>0.150</td>\n",
       "      <td>15</td>\n",
       "    </tr>\n",
       "    <tr>\n",
       "      <th>1</th>\n",
       "      <td>M</td>\n",
       "      <td>0.350</td>\n",
       "      <td>0.265</td>\n",
       "      <td>0.090</td>\n",
       "      <td>0.2255</td>\n",
       "      <td>0.0995</td>\n",
       "      <td>0.0485</td>\n",
       "      <td>0.070</td>\n",
       "      <td>7</td>\n",
       "    </tr>\n",
       "    <tr>\n",
       "      <th>2</th>\n",
       "      <td>F</td>\n",
       "      <td>0.530</td>\n",
       "      <td>0.420</td>\n",
       "      <td>0.135</td>\n",
       "      <td>0.6770</td>\n",
       "      <td>0.2565</td>\n",
       "      <td>0.1415</td>\n",
       "      <td>0.210</td>\n",
       "      <td>9</td>\n",
       "    </tr>\n",
       "    <tr>\n",
       "      <th>3</th>\n",
       "      <td>M</td>\n",
       "      <td>0.440</td>\n",
       "      <td>0.365</td>\n",
       "      <td>0.125</td>\n",
       "      <td>0.5160</td>\n",
       "      <td>0.2155</td>\n",
       "      <td>0.1140</td>\n",
       "      <td>0.155</td>\n",
       "      <td>10</td>\n",
       "    </tr>\n",
       "    <tr>\n",
       "      <th>4</th>\n",
       "      <td>I</td>\n",
       "      <td>0.330</td>\n",
       "      <td>0.255</td>\n",
       "      <td>0.080</td>\n",
       "      <td>0.2050</td>\n",
       "      <td>0.0895</td>\n",
       "      <td>0.0395</td>\n",
       "      <td>0.055</td>\n",
       "      <td>7</td>\n",
       "    </tr>\n",
       "  </tbody>\n",
       "</table>\n",
       "</div>"
      ],
      "text/plain": [
       "   0      1      2      3       4       5       6      7   8\n",
       "0  M  0.455  0.365  0.095  0.5140  0.2245  0.1010  0.150  15\n",
       "1  M  0.350  0.265  0.090  0.2255  0.0995  0.0485  0.070   7\n",
       "2  F  0.530  0.420  0.135  0.6770  0.2565  0.1415  0.210   9\n",
       "3  M  0.440  0.365  0.125  0.5160  0.2155  0.1140  0.155  10\n",
       "4  I  0.330  0.255  0.080  0.2050  0.0895  0.0395  0.055   7"
      ]
     },
     "execution_count": 4,
     "metadata": {},
     "output_type": "execute_result"
    }
   ],
   "source": [
    "data.head()"
   ]
  },
  {
   "cell_type": "code",
   "execution_count": 5,
   "id": "60bf06f2-17bd-4521-99bc-be01a8a6aad0",
   "metadata": {},
   "outputs": [
    {
     "data": {
      "text/plain": [
       "(4177, 9)"
      ]
     },
     "execution_count": 5,
     "metadata": {},
     "output_type": "execute_result"
    }
   ],
   "source": [
    "data.shape"
   ]
  },
  {
   "cell_type": "markdown",
   "id": "cb05078b-2a98-4603-a18f-df97c4abedb0",
   "metadata": {},
   "source": [
    "**Downsample dataset**  \n",
    "This will help the MCMC algorithm run faster... can adjust upward for better prediction accuracy, or downward for faster computation. Take random sample of data."
   ]
  },
  {
   "cell_type": "code",
   "execution_count": 6,
   "id": "688c2494-0a52-4937-9aa3-d83519774f1e",
   "metadata": {},
   "outputs": [],
   "source": [
    "# Uncomment this line to use full datasize\n",
    "# n = data.shape[0]"
   ]
  },
  {
   "cell_type": "code",
   "execution_count": 7,
   "id": "81ebf77f-1224-42e2-a7ef-73c78a33ceb4",
   "metadata": {},
   "outputs": [],
   "source": [
    "n = 500\n",
    "assert n <= data.shape[0] # Can't chose more samples than size of data\n",
    "data = data.sample(n, random_state=n_seed)"
   ]
  },
  {
   "cell_type": "markdown",
   "id": "f5aa2a6d-f7d1-424f-af80-10958704e42a",
   "metadata": {},
   "source": [
    "**Split data into training and test sets**"
   ]
  },
  {
   "cell_type": "code",
   "execution_count": 8,
   "id": "fb54e041-bbb3-4ca1-b2a4-8ef6ca05e8f1",
   "metadata": {},
   "outputs": [
    {
     "data": {
      "text/plain": [
       "(500, 9)"
      ]
     },
     "execution_count": 8,
     "metadata": {},
     "output_type": "execute_result"
    }
   ],
   "source": [
    "data.shape"
   ]
  },
  {
   "cell_type": "code",
   "execution_count": 9,
   "id": "b74d7e01-ee4b-4ac9-8486-ea15127c1d0c",
   "metadata": {},
   "outputs": [],
   "source": [
    "assert n_test < n_all # Test size should be smaller than full size\n",
    "train_data, test_data = train_test_split(data, test_size=n_test, random_state=split_seed)"
   ]
  },
  {
   "cell_type": "code",
   "execution_count": 10,
   "id": "72d15c10-55cc-4201-ac07-abb3a460e497",
   "metadata": {},
   "outputs": [
    {
     "data": {
      "text/plain": [
       "(450, 9)"
      ]
     },
     "execution_count": 10,
     "metadata": {},
     "output_type": "execute_result"
    }
   ],
   "source": [
    "train_data.shape"
   ]
  },
  {
   "cell_type": "code",
   "execution_count": 11,
   "id": "69f2908b-83d5-4feb-8ae2-b741f208a770",
   "metadata": {},
   "outputs": [
    {
     "data": {
      "text/plain": [
       "(50, 9)"
      ]
     },
     "execution_count": 11,
     "metadata": {},
     "output_type": "execute_result"
    }
   ],
   "source": [
    "test_data.shape"
   ]
  },
  {
   "cell_type": "markdown",
   "id": "2756917e-ea1e-4923-891d-8e47350eef18",
   "metadata": {},
   "source": [
    "**Standardize train dataset**  \n",
    "Not sure if this is nessecary, but doesn't hurt and could help."
   ]
  },
  {
   "cell_type": "code",
   "execution_count": 12,
   "id": "38cb434e-e16b-43c6-9d2d-2d9fda5f4872",
   "metadata": {},
   "outputs": [],
   "source": [
    "class DataPrep:\n",
    "    '''\n",
    "    Standardize the data. By writing this as an object, we can save the statistics calculated for the standardization\n",
    "    so we can use them later to predict new datapoints in our model.\n",
    "    '''\n",
    "    def __init__(self):\n",
    "        self.means = dict()\n",
    "        self.stdevs = dict()\n",
    "        \n",
    "    def prep(self, X_df: pd.DataFrame, X_df_all: Optional[pd.DataFrame] = None, use_prev_standardization=False) -> pd.DataFrame:\n",
    "        \"\"\"\n",
    "        This takes a dataset, and prepares it. Numerical columns are standardized. Categorical columns \n",
    "        are one hot encoded so we can fit a numerical regression with a coefficient for each category.\n",
    "        \n",
    "        From TA's example github for numerical standardization\n",
    "        Standardize input variables by 2 std dev.\n",
    "\n",
    "        For standardization, see:\n",
    "        https://stat.columbia.edu/~gelman/research/published/standardizing7.pdf\n",
    "        https://areding.github.io/6420-pymc/unit7/Unit7-arrhythmia.html\n",
    "        \n",
    "        INPUTS:\n",
    "        X_df - The train or test dataset you want to standardize and one hot encode\n",
    "        X_df_all - The full dataset you sampled X_df from. Used to check that all categorical values in X_df_all are also in X_df. Otherwise,\n",
    "            you will get an output dataset that doesn't fully one hot encode the full dataset and your dimensions will be off. If this fails,\n",
    "            you will need to add more logic to this function to handle the edge case. Right now, it just throws and exception.\n",
    "        use_prev_standardization - Set this to true is X_df is a test set. This will use previously saved means and stdevs from training set \n",
    "            (saved in the object) to standardize the test dataset in the same way. If fasle, will recalculate the means and stdev from X_df.\n",
    "        \n",
    "        RETURNS:\n",
    "        Standardized and one hot encoded dataframe based on X_df input\n",
    "        \"\"\"\n",
    "        \n",
    "        X_standardized = pd.DataFrame()\n",
    "            \n",
    "        for colname in X_df.columns:\n",
    "            col = X_df[colname]\n",
    "            if is_numeric_dtype(col):\n",
    "                if not use_prev_standardization:\n",
    "                    self.means[colname] = col.mean()\n",
    "                    self.stdevs[colname] = col.std()\n",
    "                X_standardized[colname] = (col - self.means[colname]) / (2 * self.stdevs[colname])\n",
    "            else:\n",
    "                X_onehot = pd.get_dummies(X_df[colname], prefix=colname, dtype=int)\n",
    "                \n",
    "                # Make sure all categorical values are in subsample. If this breaks,\n",
    "                # add logic to handle this edge case, such as inserting missing column where \n",
    "                # everything is False\n",
    "                X_onehot_all = pd.get_dummies(X_df_all[colname], prefix=colname, dtype=int)\n",
    "                assert set(X_onehot.columns) == set(X_onehot_all.columns)\n",
    "                    \n",
    "                if X_standardized.empty:\n",
    "                    X_standardized = X_onehot\n",
    "                else:\n",
    "                    X_standardized = X_standardized.join(X_onehot)\n",
    "                if not use_prev_standardization:\n",
    "                    onehot_colnames = X_onehot.columns\n",
    "                    for o_colname in onehot_colnames:\n",
    "                        self.means[o_colname] = None\n",
    "                        self.stdevs[o_colname] = None\n",
    "\n",
    "        return X_standardized\n"
   ]
  },
  {
   "cell_type": "code",
   "execution_count": 13,
   "id": "cf25228b-7bc0-4fdb-bb62-a81cbe0c963b",
   "metadata": {},
   "outputs": [],
   "source": [
    "data_preper = DataPrep()\n",
    "train_data_std = data_preper.prep(X_df = train_data, X_df_all = data)"
   ]
  },
  {
   "cell_type": "code",
   "execution_count": 14,
   "id": "bfb78427-ef2a-4990-8533-cdcb22a78d68",
   "metadata": {},
   "outputs": [
    {
     "data": {
      "text/html": [
       "<div>\n",
       "<style scoped>\n",
       "    .dataframe tbody tr th:only-of-type {\n",
       "        vertical-align: middle;\n",
       "    }\n",
       "\n",
       "    .dataframe tbody tr th {\n",
       "        vertical-align: top;\n",
       "    }\n",
       "\n",
       "    .dataframe thead th {\n",
       "        text-align: right;\n",
       "    }\n",
       "</style>\n",
       "<table border=\"1\" class=\"dataframe\">\n",
       "  <thead>\n",
       "    <tr style=\"text-align: right;\">\n",
       "      <th></th>\n",
       "      <th>0_F</th>\n",
       "      <th>0_I</th>\n",
       "      <th>0_M</th>\n",
       "      <th>1</th>\n",
       "      <th>2</th>\n",
       "      <th>3</th>\n",
       "      <th>4</th>\n",
       "      <th>5</th>\n",
       "      <th>6</th>\n",
       "      <th>7</th>\n",
       "      <th>8</th>\n",
       "    </tr>\n",
       "  </thead>\n",
       "  <tbody>\n",
       "    <tr>\n",
       "      <th>3027</th>\n",
       "      <td>0</td>\n",
       "      <td>1</td>\n",
       "      <td>0</td>\n",
       "      <td>-0.076052</td>\n",
       "      <td>-0.115511</td>\n",
       "      <td>-0.033604</td>\n",
       "      <td>-0.303016</td>\n",
       "      <td>-0.298127</td>\n",
       "      <td>-0.259225</td>\n",
       "      <td>-0.089660</td>\n",
       "      <td>-0.278476</td>\n",
       "    </tr>\n",
       "    <tr>\n",
       "      <th>2509</th>\n",
       "      <td>0</td>\n",
       "      <td>1</td>\n",
       "      <td>0</td>\n",
       "      <td>-0.423394</td>\n",
       "      <td>-0.436831</td>\n",
       "      <td>-0.625319</td>\n",
       "      <td>-0.480531</td>\n",
       "      <td>-0.421290</td>\n",
       "      <td>-0.442054</td>\n",
       "      <td>-0.528727</td>\n",
       "      <td>-0.587513</td>\n",
       "    </tr>\n",
       "    <tr>\n",
       "      <th>3186</th>\n",
       "      <td>1</td>\n",
       "      <td>0</td>\n",
       "      <td>0</td>\n",
       "      <td>-0.198644</td>\n",
       "      <td>-0.214378</td>\n",
       "      <td>-0.362334</td>\n",
       "      <td>-0.337236</td>\n",
       "      <td>-0.271562</td>\n",
       "      <td>-0.240711</td>\n",
       "      <td>-0.388679</td>\n",
       "      <td>-0.587513</td>\n",
       "    </tr>\n",
       "    <tr>\n",
       "      <th>166</th>\n",
       "      <td>1</td>\n",
       "      <td>0</td>\n",
       "      <td>0</td>\n",
       "      <td>0.843384</td>\n",
       "      <td>0.848451</td>\n",
       "      <td>0.492365</td>\n",
       "      <td>1.403161</td>\n",
       "      <td>1.003537</td>\n",
       "      <td>1.261258</td>\n",
       "      <td>2.336564</td>\n",
       "      <td>1.575742</td>\n",
       "    </tr>\n",
       "    <tr>\n",
       "      <th>2855</th>\n",
       "      <td>1</td>\n",
       "      <td>0</td>\n",
       "      <td>0</td>\n",
       "      <td>0.557337</td>\n",
       "      <td>0.551847</td>\n",
       "      <td>0.229381</td>\n",
       "      <td>0.531626</td>\n",
       "      <td>0.421531</td>\n",
       "      <td>0.772945</td>\n",
       "      <td>0.576511</td>\n",
       "      <td>0.185078</td>\n",
       "    </tr>\n",
       "  </tbody>\n",
       "</table>\n",
       "</div>"
      ],
      "text/plain": [
       "      0_F  0_I  0_M         1         2         3         4         5  \\\n",
       "3027    0    1    0 -0.076052 -0.115511 -0.033604 -0.303016 -0.298127   \n",
       "2509    0    1    0 -0.423394 -0.436831 -0.625319 -0.480531 -0.421290   \n",
       "3186    1    0    0 -0.198644 -0.214378 -0.362334 -0.337236 -0.271562   \n",
       "166     1    0    0  0.843384  0.848451  0.492365  1.403161  1.003537   \n",
       "2855    1    0    0  0.557337  0.551847  0.229381  0.531626  0.421531   \n",
       "\n",
       "             6         7         8  \n",
       "3027 -0.259225 -0.089660 -0.278476  \n",
       "2509 -0.442054 -0.528727 -0.587513  \n",
       "3186 -0.240711 -0.388679 -0.587513  \n",
       "166   1.261258  2.336564  1.575742  \n",
       "2855  0.772945  0.576511  0.185078  "
      ]
     },
     "execution_count": 14,
     "metadata": {},
     "output_type": "execute_result"
    }
   ],
   "source": [
    "train_data_std.head()"
   ]
  },
  {
   "cell_type": "code",
   "execution_count": 15,
   "id": "c462f0bd-fca5-494d-a9b2-cfde83e43a79",
   "metadata": {},
   "outputs": [
    {
     "data": {
      "text/plain": [
       "(450, 11)"
      ]
     },
     "execution_count": 15,
     "metadata": {},
     "output_type": "execute_result"
    }
   ],
   "source": [
    "train_data_std.shape"
   ]
  },
  {
   "cell_type": "code",
   "execution_count": 16,
   "id": "cccb3f63-aa3f-4044-adfa-076dc2d84df5",
   "metadata": {},
   "outputs": [
    {
     "data": {
      "text/plain": [
       "{'0_F': None,\n",
       " '0_I': None,\n",
       " '0_M': None,\n",
       " 1: 0.5186111111111111,\n",
       " 2: 0.4033666666666667,\n",
       " 3: 0.13755555555555554,\n",
       " 4: 0.81186,\n",
       " 5: 0.34945,\n",
       " 6: 0.17900555555555556,\n",
       " 7: 0.23268777777777777,\n",
       " 8: 9.802222222222222}"
      ]
     },
     "execution_count": 16,
     "metadata": {},
     "output_type": "execute_result"
    }
   ],
   "source": [
    "data_preper.means"
   ]
  },
  {
   "cell_type": "code",
   "execution_count": 17,
   "id": "ef06a4cf-93d6-4981-ad0e-660633a0d611",
   "metadata": {},
   "outputs": [
    {
     "data": {
      "text/plain": [
       "{'0_F': None,\n",
       " '0_I': None,\n",
       " '0_M': None,\n",
       " 1: 0.12235765735250845,\n",
       " 2: 0.10114516349285094,\n",
       " 3: 0.03802505067832697,\n",
       " 4: 0.4675656967761661,\n",
       " 5: 0.2070427375106454,\n",
       " 6: 0.10802485934416967,\n",
       " 7: 0.1320983164834733,\n",
       " 8: 3.2358645064622427}"
      ]
     },
     "execution_count": 17,
     "metadata": {},
     "output_type": "execute_result"
    }
   ],
   "source": [
    "data_preper.stdevs"
   ]
  },
  {
   "cell_type": "code",
   "execution_count": 18,
   "id": "92b47480-2f70-4028-b06d-c5045ddbfe1e",
   "metadata": {},
   "outputs": [],
   "source": [
    "X_train = train_data_std.drop(8, axis=1).to_numpy()\n",
    "y_train = train_data_std[8].to_numpy()"
   ]
  },
  {
   "cell_type": "code",
   "execution_count": 19,
   "id": "ae95b51e-ed5e-4d8e-8014-536cef232e10",
   "metadata": {},
   "outputs": [
    {
     "data": {
      "text/plain": [
       "array([[ 0.        ,  1.        ,  0.        , ..., -0.29812685,\n",
       "        -0.25922531, -0.08965965],\n",
       "       [ 0.        ,  1.        ,  0.        , ..., -0.42128983,\n",
       "        -0.4420536 , -0.52872656],\n",
       "       [ 1.        ,  0.        ,  0.        , ..., -0.27156229,\n",
       "        -0.24071105, -0.38867936],\n",
       "       ...,\n",
       "       [ 0.        ,  0.        ,  1.        , ...,  0.73547617,\n",
       "         0.91411572,  0.69006263],\n",
       "       [ 0.        ,  0.        ,  1.        , ..., -0.20756584,\n",
       "        -0.05093992,  0.04660249],\n",
       "       [ 0.        ,  0.        ,  1.        , ...,  0.05928728,\n",
       "        -0.04399707, -0.0101734 ]])"
      ]
     },
     "execution_count": 19,
     "metadata": {},
     "output_type": "execute_result"
    }
   ],
   "source": [
    "X_train"
   ]
  },
  {
   "cell_type": "markdown",
   "id": "bab08c31-35f9-417c-8ce9-b066783830cf",
   "metadata": {},
   "source": [
    "**Apply standardization to test dataset**"
   ]
  },
  {
   "cell_type": "code",
   "execution_count": 20,
   "id": "1ddfbd5e-d893-4de5-b907-fc1c8c2cd725",
   "metadata": {},
   "outputs": [],
   "source": [
    "test_data_std = data_preper.prep(X_df = test_data, X_df_all = data, use_prev_standardization=True)"
   ]
  },
  {
   "cell_type": "code",
   "execution_count": 21,
   "id": "4e492b6a-e6d8-464c-9891-a2eb49ecf7aa",
   "metadata": {},
   "outputs": [
    {
     "data": {
      "text/html": [
       "<div>\n",
       "<style scoped>\n",
       "    .dataframe tbody tr th:only-of-type {\n",
       "        vertical-align: middle;\n",
       "    }\n",
       "\n",
       "    .dataframe tbody tr th {\n",
       "        vertical-align: top;\n",
       "    }\n",
       "\n",
       "    .dataframe thead th {\n",
       "        text-align: right;\n",
       "    }\n",
       "</style>\n",
       "<table border=\"1\" class=\"dataframe\">\n",
       "  <thead>\n",
       "    <tr style=\"text-align: right;\">\n",
       "      <th></th>\n",
       "      <th>0_F</th>\n",
       "      <th>0_I</th>\n",
       "      <th>0_M</th>\n",
       "      <th>1</th>\n",
       "      <th>2</th>\n",
       "      <th>3</th>\n",
       "      <th>4</th>\n",
       "      <th>5</th>\n",
       "      <th>6</th>\n",
       "      <th>7</th>\n",
       "      <th>8</th>\n",
       "    </tr>\n",
       "  </thead>\n",
       "  <tbody>\n",
       "    <tr>\n",
       "      <th>308</th>\n",
       "      <td>0</td>\n",
       "      <td>0</td>\n",
       "      <td>1</td>\n",
       "      <td>0.128267</td>\n",
       "      <td>0.032791</td>\n",
       "      <td>-0.165096</td>\n",
       "      <td>-0.054923</td>\n",
       "      <td>-0.238960</td>\n",
       "      <td>-0.071768</td>\n",
       "      <td>-0.142650</td>\n",
       "      <td>0.648633</td>\n",
       "    </tr>\n",
       "    <tr>\n",
       "      <th>1034</th>\n",
       "      <td>1</td>\n",
       "      <td>0</td>\n",
       "      <td>0</td>\n",
       "      <td>0.557337</td>\n",
       "      <td>0.279961</td>\n",
       "      <td>0.295127</td>\n",
       "      <td>0.729459</td>\n",
       "      <td>0.821207</td>\n",
       "      <td>0.703516</td>\n",
       "      <td>-0.189964</td>\n",
       "      <td>-0.123958</td>\n",
       "    </tr>\n",
       "    <tr>\n",
       "      <th>3637</th>\n",
       "      <td>0</td>\n",
       "      <td>1</td>\n",
       "      <td>0</td>\n",
       "      <td>-0.341667</td>\n",
       "      <td>-0.387397</td>\n",
       "      <td>-0.493827</td>\n",
       "      <td>-0.502453</td>\n",
       "      <td>-0.521511</td>\n",
       "      <td>-0.442054</td>\n",
       "      <td>-0.483306</td>\n",
       "      <td>-0.587513</td>\n",
       "    </tr>\n",
       "    <tr>\n",
       "      <th>4139</th>\n",
       "      <td>1</td>\n",
       "      <td>0</td>\n",
       "      <td>0</td>\n",
       "      <td>0.475609</td>\n",
       "      <td>0.452979</td>\n",
       "      <td>0.492365</td>\n",
       "      <td>0.453027</td>\n",
       "      <td>0.413079</td>\n",
       "      <td>0.599373</td>\n",
       "      <td>0.432679</td>\n",
       "      <td>0.030560</td>\n",
       "    </tr>\n",
       "    <tr>\n",
       "      <th>865</th>\n",
       "      <td>1</td>\n",
       "      <td>0</td>\n",
       "      <td>0</td>\n",
       "      <td>0.353018</td>\n",
       "      <td>0.354112</td>\n",
       "      <td>0.492365</td>\n",
       "      <td>0.609690</td>\n",
       "      <td>0.626803</td>\n",
       "      <td>0.247602</td>\n",
       "      <td>0.627609</td>\n",
       "      <td>0.030560</td>\n",
       "    </tr>\n",
       "  </tbody>\n",
       "</table>\n",
       "</div>"
      ],
      "text/plain": [
       "      0_F  0_I  0_M         1         2         3         4         5  \\\n",
       "308     0    0    1  0.128267  0.032791 -0.165096 -0.054923 -0.238960   \n",
       "1034    1    0    0  0.557337  0.279961  0.295127  0.729459  0.821207   \n",
       "3637    0    1    0 -0.341667 -0.387397 -0.493827 -0.502453 -0.521511   \n",
       "4139    1    0    0  0.475609  0.452979  0.492365  0.453027  0.413079   \n",
       "865     1    0    0  0.353018  0.354112  0.492365  0.609690  0.626803   \n",
       "\n",
       "             6         7         8  \n",
       "308  -0.071768 -0.142650  0.648633  \n",
       "1034  0.703516 -0.189964 -0.123958  \n",
       "3637 -0.442054 -0.483306 -0.587513  \n",
       "4139  0.599373  0.432679  0.030560  \n",
       "865   0.247602  0.627609  0.030560  "
      ]
     },
     "execution_count": 21,
     "metadata": {},
     "output_type": "execute_result"
    }
   ],
   "source": [
    "test_data_std.head()"
   ]
  },
  {
   "cell_type": "code",
   "execution_count": 22,
   "id": "a7ab3786-45de-4950-944b-f00c15b2b9e8",
   "metadata": {},
   "outputs": [
    {
     "data": {
      "text/plain": [
       "(50, 11)"
      ]
     },
     "execution_count": 22,
     "metadata": {},
     "output_type": "execute_result"
    }
   ],
   "source": [
    "test_data_std.shape"
   ]
  },
  {
   "cell_type": "code",
   "execution_count": 23,
   "id": "b4d7e268-107d-4dbb-a8d2-8d776aee03e6",
   "metadata": {},
   "outputs": [],
   "source": [
    "X_test = test_data_std.drop(8, axis=1).to_numpy()\n",
    "y_test = test_data_std[8].to_numpy()"
   ]
  },
  {
   "cell_type": "markdown",
   "id": "6f34cf85-173c-43a6-bb7a-69ae0af16fee",
   "metadata": {},
   "source": [
    "### Fit linear regression model"
   ]
  },
  {
   "cell_type": "code",
   "execution_count": 24,
   "id": "1cdee0e0-6a89-4154-98df-1c80150d263b",
   "metadata": {},
   "outputs": [
    {
     "name": "stderr",
     "output_type": "stream",
     "text": [
      "Auto-assigning NUTS sampler...\n",
      "Initializing NUTS using jitter+adapt_diag...\n",
      "Multiprocess sampling (4 chains in 4 jobs)\n",
      "NUTS: [intercept, coeffs, tau]\n"
     ]
    },
    {
     "data": {
      "text/html": [
       "\n",
       "<style>\n",
       "    /* Turns off some styling */\n",
       "    progress {\n",
       "        /* gets rid of default border in Firefox and Opera. */\n",
       "        border: none;\n",
       "        /* Needs to be in here for Safari polyfill so background images work as expected. */\n",
       "        background-size: auto;\n",
       "    }\n",
       "    progress:not([value]), progress:not([value])::-webkit-progress-bar {\n",
       "        background: repeating-linear-gradient(45deg, #7e7e7e, #7e7e7e 10px, #5c5c5c 10px, #5c5c5c 20px);\n",
       "    }\n",
       "    .progress-bar-interrupted, .progress-bar-interrupted::-webkit-progress-bar {\n",
       "        background: #F44336;\n",
       "    }\n",
       "</style>\n"
      ],
      "text/plain": [
       "<IPython.core.display.HTML object>"
      ]
     },
     "metadata": {},
     "output_type": "display_data"
    },
    {
     "data": {
      "text/html": [
       "\n",
       "    <div>\n",
       "      <progress value='6000' class='' max='6000' style='width:300px; height:20px; vertical-align: middle;'></progress>\n",
       "      100.00% [6000/6000 02:43&lt;00:00 Sampling 4 chains, 0 divergences]\n",
       "    </div>\n",
       "    "
      ],
      "text/plain": [
       "<IPython.core.display.HTML object>"
      ]
     },
     "metadata": {},
     "output_type": "display_data"
    },
    {
     "name": "stderr",
     "output_type": "stream",
     "text": [
      "Sampling 4 chains for 1_000 tune and 500 draw iterations (4_000 + 2_000 draws total) took 164 seconds.\n",
      "The rhat statistic is larger than 1.01 for some parameters. This indicates problems during sampling. See https://arxiv.org/abs/1903.08008 for details\n",
      "The effective sample size per chain is smaller than 100 for some parameters.  A higher number is needed for reliable rhat and ess computation. See https://arxiv.org/abs/1903.08008 for details\n",
      "Chain 0 reached the maximum tree depth. Increase `max_treedepth`, increase `target_accept` or reparameterize.\n",
      "Chain 1 reached the maximum tree depth. Increase `max_treedepth`, increase `target_accept` or reparameterize.\n",
      "Chain 2 reached the maximum tree depth. Increase `max_treedepth`, increase `target_accept` or reparameterize.\n",
      "Chain 3 reached the maximum tree depth. Increase `max_treedepth`, increase `target_accept` or reparameterize.\n",
      "Sampling: [age_of_tree]\n"
     ]
    },
    {
     "data": {
      "text/html": [
       "\n",
       "<style>\n",
       "    /* Turns off some styling */\n",
       "    progress {\n",
       "        /* gets rid of default border in Firefox and Opera. */\n",
       "        border: none;\n",
       "        /* Needs to be in here for Safari polyfill so background images work as expected. */\n",
       "        background-size: auto;\n",
       "    }\n",
       "    progress:not([value]), progress:not([value])::-webkit-progress-bar {\n",
       "        background: repeating-linear-gradient(45deg, #7e7e7e, #7e7e7e 10px, #5c5c5c 10px, #5c5c5c 20px);\n",
       "    }\n",
       "    .progress-bar-interrupted, .progress-bar-interrupted::-webkit-progress-bar {\n",
       "        background: #F44336;\n",
       "    }\n",
       "</style>\n"
      ],
      "text/plain": [
       "<IPython.core.display.HTML object>"
      ]
     },
     "metadata": {},
     "output_type": "display_data"
    },
    {
     "data": {
      "text/html": [
       "\n",
       "    <div>\n",
       "      <progress value='2000' class='' max='2000' style='width:300px; height:20px; vertical-align: middle;'></progress>\n",
       "      100.00% [2000/2000 00:00&lt;00:00]\n",
       "    </div>\n",
       "    "
      ],
      "text/plain": [
       "<IPython.core.display.HTML object>"
      ]
     },
     "metadata": {},
     "output_type": "display_data"
    }
   ],
   "source": [
    "with pm.Model() as m_linear:\n",
    "    # associate data with model (this makes prediction easier)\n",
    "    X_data = pm.Data(\"X\", X_train, mutable=True)\n",
    "    y_data = pm.Data(\"y\", y_train, mutable=True)\n",
    "\n",
    "    # priors\n",
    "    intercept = pm.Normal(\"intercept\", mu=0, sigma=1000)\n",
    "    coeffs = pm.Normal(\"coeffs\", mu=0, sigma=1000, shape=X_data.shape[1])\n",
    "    tau = pm.Gamma(\"tau\", alpha=0.001, beta=0.001)\n",
    "    sigma = pm.Deterministic(\"sigma\", 1 / pm.math.sqrt(tau))\n",
    "\n",
    "    mu = intercept + pm.math.dot(X_data, coeffs)\n",
    "\n",
    "    # likelihood\n",
    "    pm.Normal(\"age_of_tree\", mu=mu, sigma=sigma, observed=y_data)\n",
    "\n",
    "    # start sampling\n",
    "    trace_linear = pm.sample(500, target_accept=0.95)\n",
    "    pm.sample_posterior_predictive(trace_linear, extend_inferencedata=True)"
   ]
  },
  {
   "cell_type": "code",
   "execution_count": 25,
   "id": "07ced715-e452-40b0-8cb1-6cfbbdae7fff",
   "metadata": {},
   "outputs": [
    {
     "data": {
      "image/svg+xml": [
       "<?xml version=\"1.0\" encoding=\"UTF-8\" standalone=\"no\"?>\n",
       "<!DOCTYPE svg PUBLIC \"-//W3C//DTD SVG 1.1//EN\"\n",
       " \"http://www.w3.org/Graphics/SVG/1.1/DTD/svg11.dtd\">\n",
       "<!-- Generated by graphviz version 9.0.0 (20231125.0833)\n",
       " -->\n",
       "<!-- Pages: 1 -->\n",
       "<svg width=\"443pt\" height=\"470pt\"\n",
       " viewBox=\"0.00 0.00 443.00 470.45\" xmlns=\"http://www.w3.org/2000/svg\" xmlns:xlink=\"http://www.w3.org/1999/xlink\">\n",
       "<g id=\"graph0\" class=\"graph\" transform=\"scale(1 1) rotate(0) translate(4 466.45)\">\n",
       "<polygon fill=\"white\" stroke=\"none\" points=\"-4,4 -4,-466.45 439,-466.45 439,4 -4,4\"/>\n",
       "<g id=\"clust1\" class=\"cluster\">\n",
       "<title>cluster450 x 10</title>\n",
       "<path fill=\"none\" stroke=\"black\" d=\"M20,-243.23C20,-243.23 100,-243.23 100,-243.23 106,-243.23 112,-249.23 112,-255.23 112,-255.23 112,-329.23 112,-329.23 112,-335.23 106,-341.23 100,-341.23 100,-341.23 20,-341.23 20,-341.23 14,-341.23 8,-335.23 8,-329.23 8,-329.23 8,-255.23 8,-255.23 8,-249.23 14,-243.23 20,-243.23\"/>\n",
       "<text text-anchor=\"middle\" x=\"80\" y=\"-250.43\" font-family=\"Times,serif\" font-size=\"14.00\">450 x 10</text>\n",
       "</g>\n",
       "<g id=\"clust2\" class=\"cluster\">\n",
       "<title>cluster450</title>\n",
       "<path fill=\"none\" stroke=\"black\" d=\"M168,-8C168,-8 272,-8 272,-8 278,-8 284,-14 284,-20 284,-20 284,-211.32 284,-211.32 284,-217.32 278,-223.32 272,-223.32 272,-223.32 168,-223.32 168,-223.32 162,-223.32 156,-217.32 156,-211.32 156,-211.32 156,-20 156,-20 156,-14 162,-8 168,-8\"/>\n",
       "<text text-anchor=\"middle\" x=\"265.88\" y=\"-15.2\" font-family=\"Times,serif\" font-size=\"14.00\">450</text>\n",
       "</g>\n",
       "<g id=\"clust3\" class=\"cluster\">\n",
       "<title>cluster10</title>\n",
       "<path fill=\"none\" stroke=\"black\" d=\"M341,-231.32C341,-231.32 415,-231.32 415,-231.32 421,-231.32 427,-237.32 427,-243.32 427,-243.32 427,-341.13 427,-341.13 427,-347.13 421,-353.13 415,-353.13 415,-353.13 341,-353.13 341,-353.13 335,-353.13 329,-347.13 329,-341.13 329,-341.13 329,-243.32 329,-243.32 329,-237.32 335,-231.32 341,-231.32\"/>\n",
       "<text text-anchor=\"middle\" x=\"412.25\" y=\"-238.52\" font-family=\"Times,serif\" font-size=\"14.00\">10</text>\n",
       "</g>\n",
       "<!-- X -->\n",
       "<g id=\"node1\" class=\"node\">\n",
       "<title>X</title>\n",
       "<path fill=\"lightgrey\" stroke=\"black\" d=\"M91.62,-333.23C91.62,-333.23 28.38,-333.23 28.38,-333.23 22.38,-333.23 16.38,-327.23 16.38,-321.23 16.38,-321.23 16.38,-287.73 16.38,-287.73 16.38,-281.73 22.38,-275.73 28.38,-275.73 28.38,-275.73 91.62,-275.73 91.62,-275.73 97.62,-275.73 103.62,-281.73 103.62,-287.73 103.62,-287.73 103.62,-321.23 103.62,-321.23 103.62,-327.23 97.62,-333.23 91.62,-333.23\"/>\n",
       "<text text-anchor=\"middle\" x=\"60\" y=\"-315.93\" font-family=\"Times,serif\" font-size=\"14.00\">X</text>\n",
       "<text text-anchor=\"middle\" x=\"60\" y=\"-299.43\" font-family=\"Times,serif\" font-size=\"14.00\">~</text>\n",
       "<text text-anchor=\"middle\" x=\"60\" y=\"-282.93\" font-family=\"Times,serif\" font-size=\"14.00\">MutableData</text>\n",
       "</g>\n",
       "<!-- age_of_tree -->\n",
       "<g id=\"node2\" class=\"node\">\n",
       "<title>age_of_tree</title>\n",
       "<ellipse fill=\"lightgrey\" stroke=\"black\" cx=\"220\" cy=\"-174.66\" rx=\"56.39\" ry=\"40.66\"/>\n",
       "<text text-anchor=\"middle\" x=\"220\" y=\"-186.11\" font-family=\"Times,serif\" font-size=\"14.00\">age_of_tree</text>\n",
       "<text text-anchor=\"middle\" x=\"220\" y=\"-169.61\" font-family=\"Times,serif\" font-size=\"14.00\">~</text>\n",
       "<text text-anchor=\"middle\" x=\"220\" y=\"-153.11\" font-family=\"Times,serif\" font-size=\"14.00\">Normal</text>\n",
       "</g>\n",
       "<!-- X&#45;&gt;age_of_tree -->\n",
       "<g id=\"edge6\" class=\"edge\">\n",
       "<title>X&#45;&gt;age_of_tree</title>\n",
       "<path fill=\"none\" stroke=\"black\" d=\"M75.87,-275.32C85.04,-260.86 97.61,-243.71 112,-231.32 126.29,-219 143.78,-208.5 160.49,-200.05\"/>\n",
       "<polygon fill=\"black\" stroke=\"black\" points=\"161.93,-203.24 169.39,-195.71 158.87,-196.94 161.93,-203.24\"/>\n",
       "</g>\n",
       "<!-- y -->\n",
       "<g id=\"node3\" class=\"node\">\n",
       "<title>y</title>\n",
       "<path fill=\"lightgrey\" stroke=\"black\" d=\"M251.62,-98C251.62,-98 188.38,-98 188.38,-98 182.38,-98 176.38,-92 176.38,-86 176.38,-86 176.38,-52.5 176.38,-52.5 176.38,-46.5 182.38,-40.5 188.38,-40.5 188.38,-40.5 251.62,-40.5 251.62,-40.5 257.62,-40.5 263.62,-46.5 263.62,-52.5 263.62,-52.5 263.62,-86 263.62,-86 263.62,-92 257.62,-98 251.62,-98\"/>\n",
       "<text text-anchor=\"middle\" x=\"220\" y=\"-80.7\" font-family=\"Times,serif\" font-size=\"14.00\">y</text>\n",
       "<text text-anchor=\"middle\" x=\"220\" y=\"-64.2\" font-family=\"Times,serif\" font-size=\"14.00\">~</text>\n",
       "<text text-anchor=\"middle\" x=\"220\" y=\"-47.7\" font-family=\"Times,serif\" font-size=\"14.00\">MutableData</text>\n",
       "</g>\n",
       "<!-- age_of_tree&#45;&gt;y -->\n",
       "<g id=\"edge1\" class=\"edge\">\n",
       "<title>age_of_tree&#45;&gt;y</title>\n",
       "<path fill=\"none\" stroke=\"black\" d=\"M220,-133.68C220,-125.83 220,-117.6 220,-109.76\"/>\n",
       "<polygon fill=\"black\" stroke=\"black\" points=\"223.5,-109.79 220,-99.79 216.5,-109.79 223.5,-109.79\"/>\n",
       "</g>\n",
       "<!-- intercept -->\n",
       "<g id=\"node4\" class=\"node\">\n",
       "<title>intercept</title>\n",
       "<ellipse fill=\"none\" stroke=\"black\" cx=\"166\" cy=\"-304.48\" rx=\"44.72\" ry=\"40.66\"/>\n",
       "<text text-anchor=\"middle\" x=\"166\" y=\"-315.93\" font-family=\"Times,serif\" font-size=\"14.00\">intercept</text>\n",
       "<text text-anchor=\"middle\" x=\"166\" y=\"-299.43\" font-family=\"Times,serif\" font-size=\"14.00\">~</text>\n",
       "<text text-anchor=\"middle\" x=\"166\" y=\"-282.93\" font-family=\"Times,serif\" font-size=\"14.00\">Normal</text>\n",
       "</g>\n",
       "<!-- intercept&#45;&gt;age_of_tree -->\n",
       "<g id=\"edge4\" class=\"edge\">\n",
       "<title>intercept&#45;&gt;age_of_tree</title>\n",
       "<path fill=\"none\" stroke=\"black\" d=\"M181.76,-266.16C187.32,-253.01 193.65,-238.03 199.54,-224.09\"/>\n",
       "<polygon fill=\"black\" stroke=\"black\" points=\"202.68,-225.65 203.35,-215.08 196.23,-222.93 202.68,-225.65\"/>\n",
       "</g>\n",
       "<!-- tau -->\n",
       "<g id=\"node5\" class=\"node\">\n",
       "<title>tau</title>\n",
       "<ellipse fill=\"none\" stroke=\"black\" cx=\"274\" cy=\"-421.79\" rx=\"42.6\" ry=\"40.66\"/>\n",
       "<text text-anchor=\"middle\" x=\"274\" y=\"-433.24\" font-family=\"Times,serif\" font-size=\"14.00\">tau</text>\n",
       "<text text-anchor=\"middle\" x=\"274\" y=\"-416.74\" font-family=\"Times,serif\" font-size=\"14.00\">~</text>\n",
       "<text text-anchor=\"middle\" x=\"274\" y=\"-400.24\" font-family=\"Times,serif\" font-size=\"14.00\">Gamma</text>\n",
       "</g>\n",
       "<!-- sigma -->\n",
       "<g id=\"node6\" class=\"node\">\n",
       "<title>sigma</title>\n",
       "<polygon fill=\"none\" stroke=\"black\" points=\"319.12,-333.23 228.88,-333.23 228.88,-275.73 319.12,-275.73 319.12,-333.23\"/>\n",
       "<text text-anchor=\"middle\" x=\"274\" y=\"-315.93\" font-family=\"Times,serif\" font-size=\"14.00\">sigma</text>\n",
       "<text text-anchor=\"middle\" x=\"274\" y=\"-299.43\" font-family=\"Times,serif\" font-size=\"14.00\">~</text>\n",
       "<text text-anchor=\"middle\" x=\"274\" y=\"-282.93\" font-family=\"Times,serif\" font-size=\"14.00\">Deterministic</text>\n",
       "</g>\n",
       "<!-- tau&#45;&gt;sigma -->\n",
       "<g id=\"edge2\" class=\"edge\">\n",
       "<title>tau&#45;&gt;sigma</title>\n",
       "<path fill=\"none\" stroke=\"black\" d=\"M274,-380.78C274,-369.08 274,-356.29 274,-344.64\"/>\n",
       "<polygon fill=\"black\" stroke=\"black\" points=\"277.5,-344.95 274,-334.95 270.5,-344.95 277.5,-344.95\"/>\n",
       "</g>\n",
       "<!-- sigma&#45;&gt;age_of_tree -->\n",
       "<g id=\"edge5\" class=\"edge\">\n",
       "<title>sigma&#45;&gt;age_of_tree</title>\n",
       "<path fill=\"none\" stroke=\"black\" d=\"M262.15,-275.43C255.82,-260.46 247.86,-241.6 240.56,-224.33\"/>\n",
       "<polygon fill=\"black\" stroke=\"black\" points=\"243.83,-223.07 236.71,-215.22 237.38,-225.79 243.83,-223.07\"/>\n",
       "</g>\n",
       "<!-- coeffs -->\n",
       "<g id=\"node7\" class=\"node\">\n",
       "<title>coeffs</title>\n",
       "<ellipse fill=\"none\" stroke=\"black\" cx=\"378\" cy=\"-304.48\" rx=\"41.01\" ry=\"40.66\"/>\n",
       "<text text-anchor=\"middle\" x=\"378\" y=\"-315.93\" font-family=\"Times,serif\" font-size=\"14.00\">coeffs</text>\n",
       "<text text-anchor=\"middle\" x=\"378\" y=\"-299.43\" font-family=\"Times,serif\" font-size=\"14.00\">~</text>\n",
       "<text text-anchor=\"middle\" x=\"378\" y=\"-282.93\" font-family=\"Times,serif\" font-size=\"14.00\">Normal</text>\n",
       "</g>\n",
       "<!-- coeffs&#45;&gt;age_of_tree -->\n",
       "<g id=\"edge3\" class=\"edge\">\n",
       "<title>coeffs&#45;&gt;age_of_tree</title>\n",
       "<path fill=\"none\" stroke=\"black\" d=\"M358.65,-268.43C350.4,-255.64 339.91,-241.77 328,-231.32 313.82,-218.87 296.37,-208.33 279.66,-199.88\"/>\n",
       "<polygon fill=\"black\" stroke=\"black\" points=\"281.27,-196.77 270.75,-195.55 278.21,-203.07 281.27,-196.77\"/>\n",
       "</g>\n",
       "</g>\n",
       "</svg>\n"
      ],
      "text/plain": [
       "<graphviz.graphs.Digraph at 0x7ff0189af910>"
      ]
     },
     "execution_count": 25,
     "metadata": {},
     "output_type": "execute_result"
    }
   ],
   "source": [
    "pm.model_to_graphviz(m_linear)"
   ]
  },
  {
   "cell_type": "code",
   "execution_count": 26,
   "id": "9f23c503-0d42-461b-9d94-6d2d7f57b7a5",
   "metadata": {},
   "outputs": [
    {
     "data": {
      "text/html": [
       "<div>\n",
       "<style scoped>\n",
       "    .dataframe tbody tr th:only-of-type {\n",
       "        vertical-align: middle;\n",
       "    }\n",
       "\n",
       "    .dataframe tbody tr th {\n",
       "        vertical-align: top;\n",
       "    }\n",
       "\n",
       "    .dataframe thead th {\n",
       "        text-align: right;\n",
       "    }\n",
       "</style>\n",
       "<table border=\"1\" class=\"dataframe\">\n",
       "  <thead>\n",
       "    <tr style=\"text-align: right;\">\n",
       "      <th></th>\n",
       "      <th>mean</th>\n",
       "      <th>sd</th>\n",
       "      <th>hdi_2.5%</th>\n",
       "      <th>hdi_97.5%</th>\n",
       "      <th>mcse_mean</th>\n",
       "      <th>mcse_sd</th>\n",
       "      <th>ess_bulk</th>\n",
       "      <th>ess_tail</th>\n",
       "      <th>r_hat</th>\n",
       "    </tr>\n",
       "  </thead>\n",
       "  <tbody>\n",
       "    <tr>\n",
       "      <th>intercept</th>\n",
       "      <td>-99.939</td>\n",
       "      <td>27.441</td>\n",
       "      <td>-150.577</td>\n",
       "      <td>-42.486</td>\n",
       "      <td>7.729</td>\n",
       "      <td>5.597</td>\n",
       "      <td>13.0</td>\n",
       "      <td>39.0</td>\n",
       "      <td>1.24</td>\n",
       "    </tr>\n",
       "    <tr>\n",
       "      <th>coeffs[0]</th>\n",
       "      <td>99.989</td>\n",
       "      <td>27.441</td>\n",
       "      <td>42.545</td>\n",
       "      <td>150.610</td>\n",
       "      <td>7.729</td>\n",
       "      <td>5.597</td>\n",
       "      <td>13.0</td>\n",
       "      <td>39.0</td>\n",
       "      <td>1.24</td>\n",
       "    </tr>\n",
       "    <tr>\n",
       "      <th>coeffs[1]</th>\n",
       "      <td>99.824</td>\n",
       "      <td>27.442</td>\n",
       "      <td>42.383</td>\n",
       "      <td>150.385</td>\n",
       "      <td>7.729</td>\n",
       "      <td>5.597</td>\n",
       "      <td>13.0</td>\n",
       "      <td>39.0</td>\n",
       "      <td>1.24</td>\n",
       "    </tr>\n",
       "    <tr>\n",
       "      <th>coeffs[2]</th>\n",
       "      <td>99.986</td>\n",
       "      <td>27.440</td>\n",
       "      <td>42.521</td>\n",
       "      <td>150.620</td>\n",
       "      <td>7.729</td>\n",
       "      <td>5.597</td>\n",
       "      <td>13.0</td>\n",
       "      <td>39.0</td>\n",
       "      <td>1.24</td>\n",
       "    </tr>\n",
       "    <tr>\n",
       "      <th>coeffs[3]</th>\n",
       "      <td>-0.170</td>\n",
       "      <td>0.193</td>\n",
       "      <td>-0.534</td>\n",
       "      <td>0.216</td>\n",
       "      <td>0.021</td>\n",
       "      <td>0.015</td>\n",
       "      <td>83.0</td>\n",
       "      <td>138.0</td>\n",
       "      <td>1.05</td>\n",
       "    </tr>\n",
       "    <tr>\n",
       "      <th>coeffs[4]</th>\n",
       "      <td>0.396</td>\n",
       "      <td>0.199</td>\n",
       "      <td>0.030</td>\n",
       "      <td>0.791</td>\n",
       "      <td>0.023</td>\n",
       "      <td>0.017</td>\n",
       "      <td>72.0</td>\n",
       "      <td>100.0</td>\n",
       "      <td>1.08</td>\n",
       "    </tr>\n",
       "    <tr>\n",
       "      <th>coeffs[5]</th>\n",
       "      <td>0.314</td>\n",
       "      <td>0.083</td>\n",
       "      <td>0.179</td>\n",
       "      <td>0.507</td>\n",
       "      <td>0.015</td>\n",
       "      <td>0.012</td>\n",
       "      <td>38.0</td>\n",
       "      <td>24.0</td>\n",
       "      <td>1.09</td>\n",
       "    </tr>\n",
       "    <tr>\n",
       "      <th>coeffs[6]</th>\n",
       "      <td>1.797</td>\n",
       "      <td>0.351</td>\n",
       "      <td>1.117</td>\n",
       "      <td>2.505</td>\n",
       "      <td>0.090</td>\n",
       "      <td>0.065</td>\n",
       "      <td>16.0</td>\n",
       "      <td>72.0</td>\n",
       "      <td>1.20</td>\n",
       "    </tr>\n",
       "    <tr>\n",
       "      <th>coeffs[7]</th>\n",
       "      <td>-1.509</td>\n",
       "      <td>0.163</td>\n",
       "      <td>-1.830</td>\n",
       "      <td>-1.178</td>\n",
       "      <td>0.037</td>\n",
       "      <td>0.026</td>\n",
       "      <td>20.0</td>\n",
       "      <td>77.0</td>\n",
       "      <td>1.16</td>\n",
       "    </tr>\n",
       "    <tr>\n",
       "      <th>coeffs[8]</th>\n",
       "      <td>-0.490</td>\n",
       "      <td>0.153</td>\n",
       "      <td>-0.794</td>\n",
       "      <td>-0.193</td>\n",
       "      <td>0.041</td>\n",
       "      <td>0.031</td>\n",
       "      <td>14.0</td>\n",
       "      <td>31.0</td>\n",
       "      <td>1.21</td>\n",
       "    </tr>\n",
       "    <tr>\n",
       "      <th>coeffs[9]</th>\n",
       "      <td>0.147</td>\n",
       "      <td>0.142</td>\n",
       "      <td>-0.134</td>\n",
       "      <td>0.413</td>\n",
       "      <td>0.021</td>\n",
       "      <td>0.015</td>\n",
       "      <td>47.0</td>\n",
       "      <td>139.0</td>\n",
       "      <td>1.06</td>\n",
       "    </tr>\n",
       "    <tr>\n",
       "      <th>tau</th>\n",
       "      <td>9.311</td>\n",
       "      <td>0.639</td>\n",
       "      <td>8.206</td>\n",
       "      <td>10.628</td>\n",
       "      <td>0.104</td>\n",
       "      <td>0.074</td>\n",
       "      <td>39.0</td>\n",
       "      <td>122.0</td>\n",
       "      <td>1.05</td>\n",
       "    </tr>\n",
       "    <tr>\n",
       "      <th>sigma</th>\n",
       "      <td>0.328</td>\n",
       "      <td>0.011</td>\n",
       "      <td>0.306</td>\n",
       "      <td>0.348</td>\n",
       "      <td>0.002</td>\n",
       "      <td>0.001</td>\n",
       "      <td>39.0</td>\n",
       "      <td>122.0</td>\n",
       "      <td>1.05</td>\n",
       "    </tr>\n",
       "  </tbody>\n",
       "</table>\n",
       "</div>"
      ],
      "text/plain": [
       "             mean      sd  hdi_2.5%  hdi_97.5%  mcse_mean  mcse_sd  ess_bulk  \\\n",
       "intercept -99.939  27.441  -150.577    -42.486      7.729    5.597      13.0   \n",
       "coeffs[0]  99.989  27.441    42.545    150.610      7.729    5.597      13.0   \n",
       "coeffs[1]  99.824  27.442    42.383    150.385      7.729    5.597      13.0   \n",
       "coeffs[2]  99.986  27.440    42.521    150.620      7.729    5.597      13.0   \n",
       "coeffs[3]  -0.170   0.193    -0.534      0.216      0.021    0.015      83.0   \n",
       "coeffs[4]   0.396   0.199     0.030      0.791      0.023    0.017      72.0   \n",
       "coeffs[5]   0.314   0.083     0.179      0.507      0.015    0.012      38.0   \n",
       "coeffs[6]   1.797   0.351     1.117      2.505      0.090    0.065      16.0   \n",
       "coeffs[7]  -1.509   0.163    -1.830     -1.178      0.037    0.026      20.0   \n",
       "coeffs[8]  -0.490   0.153    -0.794     -0.193      0.041    0.031      14.0   \n",
       "coeffs[9]   0.147   0.142    -0.134      0.413      0.021    0.015      47.0   \n",
       "tau         9.311   0.639     8.206     10.628      0.104    0.074      39.0   \n",
       "sigma       0.328   0.011     0.306      0.348      0.002    0.001      39.0   \n",
       "\n",
       "           ess_tail  r_hat  \n",
       "intercept      39.0   1.24  \n",
       "coeffs[0]      39.0   1.24  \n",
       "coeffs[1]      39.0   1.24  \n",
       "coeffs[2]      39.0   1.24  \n",
       "coeffs[3]     138.0   1.05  \n",
       "coeffs[4]     100.0   1.08  \n",
       "coeffs[5]      24.0   1.09  \n",
       "coeffs[6]      72.0   1.20  \n",
       "coeffs[7]      77.0   1.16  \n",
       "coeffs[8]      31.0   1.21  \n",
       "coeffs[9]     139.0   1.06  \n",
       "tau           122.0   1.05  \n",
       "sigma         122.0   1.05  "
      ]
     },
     "execution_count": 26,
     "metadata": {},
     "output_type": "execute_result"
    }
   ],
   "source": [
    "az.summary(trace_linear, hdi_prob=0.95)"
   ]
  },
  {
   "cell_type": "code",
   "execution_count": 27,
   "id": "84681c96-7b6b-4c17-9447-8a06b7a740f1",
   "metadata": {},
   "outputs": [
    {
     "data": {
      "text/plain": [
       "r2        0.540706\n",
       "r2_std    0.019288\n",
       "dtype: float64"
      ]
     },
     "execution_count": 27,
     "metadata": {},
     "output_type": "execute_result"
    }
   ],
   "source": [
    "y_pred = trace_linear.posterior_predictive.stack(sample=(\"chain\", \"draw\"))[\n",
    "    \"age_of_tree\"\n",
    "].values.T\n",
    "az.r2_score(y_train, y_pred)"
   ]
  },
  {
   "cell_type": "markdown",
   "id": "059f4725-eaa8-4622-a95a-a14d397fa169",
   "metadata": {},
   "source": [
    "Now predict test data, and compare MSE to actual.\n",
    "See example in PyMC docs: https://www.pymc.io/projects/examples/en/latest/generalized_linear_models/GLM-out-of-sample-predictions.html"
   ]
  },
  {
   "cell_type": "code",
   "execution_count": 28,
   "id": "164a80c2-12e5-4972-a4cd-b5a411ec056d",
   "metadata": {},
   "outputs": [
    {
     "name": "stderr",
     "output_type": "stream",
     "text": [
      "Sampling: [age_of_tree, coeffs]\n"
     ]
    },
    {
     "data": {
      "text/html": [
       "\n",
       "<style>\n",
       "    /* Turns off some styling */\n",
       "    progress {\n",
       "        /* gets rid of default border in Firefox and Opera. */\n",
       "        border: none;\n",
       "        /* Needs to be in here for Safari polyfill so background images work as expected. */\n",
       "        background-size: auto;\n",
       "    }\n",
       "    progress:not([value]), progress:not([value])::-webkit-progress-bar {\n",
       "        background: repeating-linear-gradient(45deg, #7e7e7e, #7e7e7e 10px, #5c5c5c 10px, #5c5c5c 20px);\n",
       "    }\n",
       "    .progress-bar-interrupted, .progress-bar-interrupted::-webkit-progress-bar {\n",
       "        background: #F44336;\n",
       "    }\n",
       "</style>\n"
      ],
      "text/plain": [
       "<IPython.core.display.HTML object>"
      ]
     },
     "metadata": {},
     "output_type": "display_data"
    },
    {
     "data": {
      "text/html": [
       "\n",
       "    <div>\n",
       "      <progress value='2000' class='' max='2000' style='width:300px; height:20px; vertical-align: middle;'></progress>\n",
       "      100.00% [2000/2000 00:00&lt;00:00]\n",
       "    </div>\n",
       "    "
      ],
      "text/plain": [
       "<IPython.core.display.HTML object>"
      ]
     },
     "metadata": {},
     "output_type": "display_data"
    }
   ],
   "source": [
    "pm.set_data({\"X\": X_test, \"y\": y_test}, model=m_linear)\n",
    "ppc = pm.sample_posterior_predictive(trace_linear, model=m_linear, predictions=True)"
   ]
  },
  {
   "cell_type": "code",
   "execution_count": 29,
   "id": "4c12d4d2-e65f-4e5c-afda-19f6f30cbe6b",
   "metadata": {},
   "outputs": [],
   "source": [
    "y_pred_test = ppc.predictions[\"age_of_tree\"].mean(dim=[\"chain\", \"draw\"]).values"
   ]
  },
  {
   "cell_type": "code",
   "execution_count": 30,
   "id": "41b0201b-6165-492a-8600-02d9bb229758",
   "metadata": {},
   "outputs": [
    {
     "data": {
      "text/plain": [
       "array([-111.97266428, -128.37107419,  -47.72177796, -106.44688811,\n",
       "       -100.61820531, -113.58292948, -122.33762218,  -77.18273271,\n",
       "        -60.8566979 ,  -36.11694572,  -58.85646943, -123.73088813,\n",
       "       -119.42606783, -113.21845013, -108.30109301, -142.22415554,\n",
       "        -56.88834042,  -75.23446826, -149.90889645, -124.44217234,\n",
       "       -114.64797033,  -71.20831489,  -50.7145696 ,  -43.34567715,\n",
       "       -114.31066463, -126.93097753,  -44.72826751, -113.50966266,\n",
       "       -105.66418505,  -27.36639646, -101.74232398,  -78.54655118,\n",
       "       -133.98980938,  -61.55892661,  -66.23128542, -130.58413745,\n",
       "       -114.75174477,  -74.40997052,  -81.66115494,  -68.40805236,\n",
       "       -150.36680691,  -48.60693632,  -66.74122074, -153.60399175,\n",
       "        -73.87226145,  -86.57236442, -100.92177246, -135.61992495,\n",
       "       -114.52441579,  -50.28596977])"
      ]
     },
     "execution_count": 30,
     "metadata": {},
     "output_type": "execute_result"
    }
   ],
   "source": [
    "y_pred_test"
   ]
  },
  {
   "cell_type": "code",
   "execution_count": 31,
   "id": "627e7549-9131-4164-b732-a2dc048a91db",
   "metadata": {},
   "outputs": [
    {
     "data": {
      "text/plain": [
       "(50,)"
      ]
     },
     "execution_count": 31,
     "metadata": {},
     "output_type": "execute_result"
    }
   ],
   "source": [
    "y_pred_test.shape"
   ]
  },
  {
   "cell_type": "code",
   "execution_count": 32,
   "id": "c576e99b-0434-423f-b81e-771c82938736",
   "metadata": {},
   "outputs": [
    {
     "data": {
      "text/plain": [
       "r2        0.49591\n",
       "r2_std    0.00000\n",
       "dtype: float64"
      ]
     },
     "execution_count": 32,
     "metadata": {},
     "output_type": "execute_result"
    }
   ],
   "source": [
    "y_pred = trace_linear.posterior_predictive.stack(sample=(\"chain\", \"draw\"))[\n",
    "    \"age_of_tree\"\n",
    "].values.T\n",
    "az.r2_score(y_test, y_pred_test)"
   ]
  },
  {
   "cell_type": "markdown",
   "id": "ce4b4296-687e-4728-85a1-02b322347897",
   "metadata": {},
   "source": [
    "**Calculate test set mean squared error. This is a better comparison than R2 once we start using non-linear models.**"
   ]
  },
  {
   "cell_type": "code",
   "execution_count": 33,
   "id": "f9bb83bc-dae3-47a2-84cf-39813f690026",
   "metadata": {},
   "outputs": [
    {
     "data": {
      "text/plain": [
       "9940.84"
      ]
     },
     "execution_count": 33,
     "metadata": {},
     "output_type": "execute_result"
    }
   ],
   "source": [
    "round(mean_squared_error(y_test, y_pred_test), 2)"
   ]
  },
  {
   "cell_type": "code",
   "execution_count": 34,
   "id": "4dcbad1a-976d-4e33-9a12-8bdfd32cc454",
   "metadata": {},
   "outputs": [
    {
     "name": "stdout",
     "output_type": "stream",
     "text": [
      "Last updated: Tue Nov 28 2023\n",
      "\n",
      "Python implementation: CPython\n",
      "Python version       : 3.11.6\n",
      "IPython version      : 8.15.0\n",
      "\n",
      "pytensor: 2.17.3\n",
      "\n",
      "arviz : 0.16.1\n",
      "pymc  : 5.9.1\n",
      "pandas: 2.1.3\n",
      "\n"
     ]
    }
   ],
   "source": [
    "%load_ext watermark\n",
    "%watermark -n -u -v -iv -p pytensor"
   ]
  },
  {
   "cell_type": "code",
   "execution_count": null,
   "id": "5e5b3712-9d11-4e75-b670-d56ee689edc8",
   "metadata": {},
   "outputs": [],
   "source": []
  },
  {
   "cell_type": "code",
   "execution_count": null,
   "id": "c66bd8ec-8975-45cf-806f-e1e06472edc8",
   "metadata": {},
   "outputs": [],
   "source": []
  }
 ],
 "metadata": {
  "kernelspec": {
   "display_name": "Python 3 (ipykernel)",
   "language": "python",
   "name": "python3"
  },
  "language_info": {
   "codemirror_mode": {
    "name": "ipython",
    "version": 3
   },
   "file_extension": ".py",
   "mimetype": "text/x-python",
   "name": "python",
   "nbconvert_exporter": "python",
   "pygments_lexer": "ipython3",
   "version": "3.11.6"
  }
 },
 "nbformat": 4,
 "nbformat_minor": 5
}
