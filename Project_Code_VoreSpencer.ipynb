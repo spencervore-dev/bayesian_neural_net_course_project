{
 "cells": [
  {
   "cell_type": "markdown",
   "id": "982a100f-0d65-4ecd-aa7d-6aa22a57c19c",
   "metadata": {},
   "source": [
    "# Georgia Tech ISYE6420 Course Project"
   ]
  },
  {
   "cell_type": "markdown",
   "id": "e953394c-a314-497f-9ebd-979b2e625688",
   "metadata": {},
   "source": [
    "### Fall 2023  \n",
    "### Spencer Vore"
   ]
  },
  {
   "cell_type": "code",
   "execution_count": 1,
   "id": "14dfbfb6-7a56-45f1-86ec-1509e9ecf0fb",
   "metadata": {},
   "outputs": [],
   "source": [
    "import pymc as pm\n",
    "import pandas as pd\n",
    "from pandas.api.types import is_numeric_dtype\n",
    "import numpy as np\n",
    "\n",
    "import arviz as az\n",
    "from collections.abc import Sequence\n",
    "from typing import Optional\n",
    "\n",
    "from sklearn.model_selection import train_test_split\n",
    "from sklearn.metrics import mean_squared_error\n",
    "\n",
    "import seaborn as sns\n",
    "import time"
   ]
  },
  {
   "cell_type": "markdown",
   "id": "29c6b737-be5c-4ce9-b77c-efcd2824b3fa",
   "metadata": {
    "tags": []
   },
   "source": [
    "## Define adjustable Constants / Settings  \n",
    "Use this to adjust script settings / MCMC run. I know, I didn't add it to a .env file or something fancier. Works for purpose of demo / tinkering."
   ]
  },
  {
   "cell_type": "code",
   "execution_count": 2,
   "id": "620e860d-e953-4e3f-8ac3-4266669a89fb",
   "metadata": {},
   "outputs": [],
   "source": [
    "n_all = 4000 # Size of data we want for MCMC. Randomly sample this many points from full dataset. Includes train and test sample size.\n",
    "n_seed = 42 # Random seed for down sampling n datapoints from full dataset\n",
    "\n",
    "n_test = 2500 # Size of test set we want to saomple from n_all.\n",
    "split_seed = 43 # Random seed used for train / test split\n",
    "\n",
    "path_to_datafile = \"abalone/abalone.data\"\n",
    "\n",
    "standardize = True # Controls whether to standardize numerical columns\n",
    "\n",
    "linear_model_n_samples = 500 # how many samples to draw from MCMC for linear model. Set lower for testing. Set higher for official results.\n",
    "neural_model_n_samples = 500 # how many samples to draw from MCMC for neural model.\n",
    "d_neural_model_n_samples = 500 # how many samples to draw from MCMC for the deep neural model"
   ]
  },
  {
   "cell_type": "markdown",
   "id": "6f5b9490-1da3-489e-9202-7f8c7ea8f92b",
   "metadata": {},
   "source": [
    "Notes:  \n",
    "1) If the training set is greater than around 1500, PyMC will not start sampling. I beleive it exceeds the capability of my hardware.  \n",
    "2) Since we have around 4100 samples, and we can't use them all for training, might as well use a large test set."
   ]
  },
  {
   "cell_type": "markdown",
   "id": "17dacb81-6181-4d5b-aa22-09c5f6e011b4",
   "metadata": {},
   "source": [
    "## Prepare Dataset"
   ]
  },
  {
   "cell_type": "markdown",
   "id": "a0ad572e-fa93-4b6f-b61a-ad4d9ca80ead",
   "metadata": {},
   "source": [
    "**Load Dataset**"
   ]
  },
  {
   "cell_type": "code",
   "execution_count": 3,
   "id": "e5726059-0095-4165-b2a8-6f716d505115",
   "metadata": {},
   "outputs": [],
   "source": [
    "data = pd.read_csv(path_to_datafile, header=None)"
   ]
  },
  {
   "cell_type": "markdown",
   "id": "ccff05c2-3757-41bd-ace6-e8f14eeecd11",
   "metadata": {},
   "source": [
    "Below, see that there are both numeric and categorical variables to deal with"
   ]
  },
  {
   "cell_type": "code",
   "execution_count": 4,
   "id": "8abb4b7a-fdfe-4ac8-a82b-e89ef2b7a074",
   "metadata": {},
   "outputs": [
    {
     "data": {
      "text/html": [
       "<div>\n",
       "<style scoped>\n",
       "    .dataframe tbody tr th:only-of-type {\n",
       "        vertical-align: middle;\n",
       "    }\n",
       "\n",
       "    .dataframe tbody tr th {\n",
       "        vertical-align: top;\n",
       "    }\n",
       "\n",
       "    .dataframe thead th {\n",
       "        text-align: right;\n",
       "    }\n",
       "</style>\n",
       "<table border=\"1\" class=\"dataframe\">\n",
       "  <thead>\n",
       "    <tr style=\"text-align: right;\">\n",
       "      <th></th>\n",
       "      <th>0</th>\n",
       "      <th>1</th>\n",
       "      <th>2</th>\n",
       "      <th>3</th>\n",
       "      <th>4</th>\n",
       "      <th>5</th>\n",
       "      <th>6</th>\n",
       "      <th>7</th>\n",
       "      <th>8</th>\n",
       "    </tr>\n",
       "  </thead>\n",
       "  <tbody>\n",
       "    <tr>\n",
       "      <th>0</th>\n",
       "      <td>M</td>\n",
       "      <td>0.455</td>\n",
       "      <td>0.365</td>\n",
       "      <td>0.095</td>\n",
       "      <td>0.5140</td>\n",
       "      <td>0.2245</td>\n",
       "      <td>0.1010</td>\n",
       "      <td>0.150</td>\n",
       "      <td>15</td>\n",
       "    </tr>\n",
       "    <tr>\n",
       "      <th>1</th>\n",
       "      <td>M</td>\n",
       "      <td>0.350</td>\n",
       "      <td>0.265</td>\n",
       "      <td>0.090</td>\n",
       "      <td>0.2255</td>\n",
       "      <td>0.0995</td>\n",
       "      <td>0.0485</td>\n",
       "      <td>0.070</td>\n",
       "      <td>7</td>\n",
       "    </tr>\n",
       "    <tr>\n",
       "      <th>2</th>\n",
       "      <td>F</td>\n",
       "      <td>0.530</td>\n",
       "      <td>0.420</td>\n",
       "      <td>0.135</td>\n",
       "      <td>0.6770</td>\n",
       "      <td>0.2565</td>\n",
       "      <td>0.1415</td>\n",
       "      <td>0.210</td>\n",
       "      <td>9</td>\n",
       "    </tr>\n",
       "    <tr>\n",
       "      <th>3</th>\n",
       "      <td>M</td>\n",
       "      <td>0.440</td>\n",
       "      <td>0.365</td>\n",
       "      <td>0.125</td>\n",
       "      <td>0.5160</td>\n",
       "      <td>0.2155</td>\n",
       "      <td>0.1140</td>\n",
       "      <td>0.155</td>\n",
       "      <td>10</td>\n",
       "    </tr>\n",
       "    <tr>\n",
       "      <th>4</th>\n",
       "      <td>I</td>\n",
       "      <td>0.330</td>\n",
       "      <td>0.255</td>\n",
       "      <td>0.080</td>\n",
       "      <td>0.2050</td>\n",
       "      <td>0.0895</td>\n",
       "      <td>0.0395</td>\n",
       "      <td>0.055</td>\n",
       "      <td>7</td>\n",
       "    </tr>\n",
       "  </tbody>\n",
       "</table>\n",
       "</div>"
      ],
      "text/plain": [
       "   0      1      2      3       4       5       6      7   8\n",
       "0  M  0.455  0.365  0.095  0.5140  0.2245  0.1010  0.150  15\n",
       "1  M  0.350  0.265  0.090  0.2255  0.0995  0.0485  0.070   7\n",
       "2  F  0.530  0.420  0.135  0.6770  0.2565  0.1415  0.210   9\n",
       "3  M  0.440  0.365  0.125  0.5160  0.2155  0.1140  0.155  10\n",
       "4  I  0.330  0.255  0.080  0.2050  0.0895  0.0395  0.055   7"
      ]
     },
     "execution_count": 4,
     "metadata": {},
     "output_type": "execute_result"
    }
   ],
   "source": [
    "data.head()"
   ]
  },
  {
   "cell_type": "code",
   "execution_count": 5,
   "id": "60bf06f2-17bd-4521-99bc-be01a8a6aad0",
   "metadata": {},
   "outputs": [
    {
     "data": {
      "text/plain": [
       "(4177, 9)"
      ]
     },
     "execution_count": 5,
     "metadata": {},
     "output_type": "execute_result"
    }
   ],
   "source": [
    "data.shape"
   ]
  },
  {
   "cell_type": "markdown",
   "id": "cb05078b-2a98-4603-a18f-df97c4abedb0",
   "metadata": {},
   "source": [
    "**Downsample dataset**  \n",
    "This will help the MCMC algorithm run faster... can adjust upward for better prediction accuracy, or downward for faster computation. Take random sample of data."
   ]
  },
  {
   "cell_type": "code",
   "execution_count": 6,
   "id": "688c2494-0a52-4937-9aa3-d83519774f1e",
   "metadata": {},
   "outputs": [],
   "source": [
    "# Uncomment this line to use full datasize\n",
    "# n = data.shape[0]"
   ]
  },
  {
   "cell_type": "code",
   "execution_count": 7,
   "id": "81ebf77f-1224-42e2-a7ef-73c78a33ceb4",
   "metadata": {},
   "outputs": [],
   "source": [
    "n = n_all\n",
    "assert n <= data.shape[0] # Can't chose more samples than size of data\n",
    "data = data.sample(n, random_state=n_seed)"
   ]
  },
  {
   "cell_type": "markdown",
   "id": "f5aa2a6d-f7d1-424f-af80-10958704e42a",
   "metadata": {},
   "source": [
    "**Split data into training and test sets**"
   ]
  },
  {
   "cell_type": "code",
   "execution_count": 8,
   "id": "fb54e041-bbb3-4ca1-b2a4-8ef6ca05e8f1",
   "metadata": {},
   "outputs": [
    {
     "data": {
      "text/plain": [
       "(4000, 9)"
      ]
     },
     "execution_count": 8,
     "metadata": {},
     "output_type": "execute_result"
    }
   ],
   "source": [
    "data.shape"
   ]
  },
  {
   "cell_type": "code",
   "execution_count": 9,
   "id": "b74d7e01-ee4b-4ac9-8486-ea15127c1d0c",
   "metadata": {},
   "outputs": [],
   "source": [
    "assert n_test < n_all # Test size should be smaller than full size\n",
    "train_data, test_data = train_test_split(data, test_size=n_test, random_state=split_seed)"
   ]
  },
  {
   "cell_type": "code",
   "execution_count": 10,
   "id": "72d15c10-55cc-4201-ac07-abb3a460e497",
   "metadata": {},
   "outputs": [
    {
     "data": {
      "text/plain": [
       "(1500, 9)"
      ]
     },
     "execution_count": 10,
     "metadata": {},
     "output_type": "execute_result"
    }
   ],
   "source": [
    "train_data.shape"
   ]
  },
  {
   "cell_type": "code",
   "execution_count": 11,
   "id": "69f2908b-83d5-4feb-8ae2-b741f208a770",
   "metadata": {},
   "outputs": [
    {
     "data": {
      "text/plain": [
       "(2500, 9)"
      ]
     },
     "execution_count": 11,
     "metadata": {},
     "output_type": "execute_result"
    }
   ],
   "source": [
    "test_data.shape"
   ]
  },
  {
   "cell_type": "markdown",
   "id": "2756917e-ea1e-4923-891d-8e47350eef18",
   "metadata": {},
   "source": [
    "**Standardize and one hot encode train dataset**  \n"
   ]
  },
  {
   "cell_type": "code",
   "execution_count": 12,
   "id": "38cb434e-e16b-43c6-9d2d-2d9fda5f4872",
   "metadata": {},
   "outputs": [],
   "source": [
    "class DataPrep:\n",
    "    \"\"\"\n",
    "    Standardize and one hot encode the data. By writing this as an object, we can save the statistics calculated for the standardization\n",
    "    so we can use them later to predict new datapoints in our model.\n",
    "    \"\"\"\n",
    "    def __init__(self):\n",
    "        self.means = dict()\n",
    "        self.stdevs = dict()\n",
    "        \n",
    "    def prep(self, X_df: pd.DataFrame, X_df_all: Optional[pd.DataFrame] = None, \n",
    "             use_prev_standardization=False, standardize=True) -> pd.DataFrame:\n",
    "        \"\"\"\n",
    "        This takes a dataset, and prepares it. Numerical columns are standardized. Categorical columns \n",
    "        are one hot encoded so we can fit a numerical regression with a coefficient for each category.\n",
    "        \n",
    "        From TA's example github for numerical standardization\n",
    "        Standardize input variables by 2 std dev.\n",
    "\n",
    "        For standardization, see:\n",
    "        https://stat.columbia.edu/~gelman/research/published/standardizing7.pdf\n",
    "        https://areding.github.io/6420-pymc/unit7/Unit7-arrhythmia.html\n",
    "        \n",
    "        INPUTS:\n",
    "        X_df - The train or test dataset you want to standardize and one hot encode\n",
    "        X_df_all - The full dataset you sampled X_df from. Used to check that all categorical values in X_df_all are also in X_df. Otherwise,\n",
    "            you will get an output dataset that doesn't fully one hot encode the full dataset and your dimensions will be off. If this fails,\n",
    "            you will need to add more logic to this function to handle the edge case. Right now, it just throws and exception.\n",
    "        use_prev_standardization - Set this to true is X_df is a test set. This will use previously saved means and stdevs from training set \n",
    "            (saved in the object) to standardize the test dataset in the same way. If fasle, will recalculate the means and stdev from X_df.\n",
    "        \n",
    "        RETURNS:\n",
    "        Standardized and one hot encoded dataframe based on X_df input\n",
    "        \"\"\"\n",
    "        \n",
    "        X_standardized = pd.DataFrame()\n",
    "            \n",
    "        for colname in X_df.columns:\n",
    "            col = X_df[colname]\n",
    "            if is_numeric_dtype(col):\n",
    "                if standardize:\n",
    "                    if not use_prev_standardization:\n",
    "                        self.means[colname] = col.mean()\n",
    "                        self.stdevs[colname] = col.std()\n",
    "                    X_standardized[colname] = (col - self.means[colname]) / (2 * self.stdevs[colname])\n",
    "                else:\n",
    "                    if not use_prev_standardization:\n",
    "                        self.means[colname] = None\n",
    "                        self.stdevs[colname] = None\n",
    "                    X_standardized[colname] = col\n",
    "            else:\n",
    "                X_onehot = pd.get_dummies(X_df[colname], prefix=colname, dtype=int)\n",
    "                \n",
    "                # Make sure all categorical values are in subsample. If this breaks,\n",
    "                # add logic to handle this edge case, such as inserting missing column where \n",
    "                # everything is False\n",
    "                X_onehot_all = pd.get_dummies(X_df_all[colname], prefix=colname, dtype=int)\n",
    "                assert set(X_onehot.columns) == set(X_onehot_all.columns)\n",
    "                    \n",
    "                if X_standardized.empty:\n",
    "                    X_standardized = X_onehot\n",
    "                else:\n",
    "                    X_standardized = X_standardized.join(X_onehot)\n",
    "                if not use_prev_standardization:\n",
    "                    onehot_colnames = X_onehot.columns\n",
    "                    for o_colname in onehot_colnames:\n",
    "                        self.means[o_colname] = None\n",
    "                        self.stdevs[o_colname] = None\n",
    "\n",
    "        return X_standardized\n"
   ]
  },
  {
   "cell_type": "code",
   "execution_count": 13,
   "id": "cf25228b-7bc0-4fdb-bb62-a81cbe0c963b",
   "metadata": {},
   "outputs": [],
   "source": [
    "data_preper = DataPrep()\n",
    "train_data_std = data_preper.prep(X_df = train_data, X_df_all = data, standardize=standardize)"
   ]
  },
  {
   "cell_type": "code",
   "execution_count": 14,
   "id": "bfb78427-ef2a-4990-8533-cdcb22a78d68",
   "metadata": {},
   "outputs": [
    {
     "data": {
      "text/html": [
       "<div>\n",
       "<style scoped>\n",
       "    .dataframe tbody tr th:only-of-type {\n",
       "        vertical-align: middle;\n",
       "    }\n",
       "\n",
       "    .dataframe tbody tr th {\n",
       "        vertical-align: top;\n",
       "    }\n",
       "\n",
       "    .dataframe thead th {\n",
       "        text-align: right;\n",
       "    }\n",
       "</style>\n",
       "<table border=\"1\" class=\"dataframe\">\n",
       "  <thead>\n",
       "    <tr style=\"text-align: right;\">\n",
       "      <th></th>\n",
       "      <th>0_F</th>\n",
       "      <th>0_I</th>\n",
       "      <th>0_M</th>\n",
       "      <th>1</th>\n",
       "      <th>2</th>\n",
       "      <th>3</th>\n",
       "      <th>4</th>\n",
       "      <th>5</th>\n",
       "      <th>6</th>\n",
       "      <th>7</th>\n",
       "      <th>8</th>\n",
       "    </tr>\n",
       "  </thead>\n",
       "  <tbody>\n",
       "    <tr>\n",
       "      <th>1335</th>\n",
       "      <td>1</td>\n",
       "      <td>0</td>\n",
       "      <td>0</td>\n",
       "      <td>0.200543</td>\n",
       "      <td>0.349441</td>\n",
       "      <td>0.317187</td>\n",
       "      <td>0.234926</td>\n",
       "      <td>0.322179</td>\n",
       "      <td>0.113948</td>\n",
       "      <td>0.227865</td>\n",
       "      <td>-0.147831</td>\n",
       "    </tr>\n",
       "    <tr>\n",
       "      <th>2944</th>\n",
       "      <td>0</td>\n",
       "      <td>0</td>\n",
       "      <td>1</td>\n",
       "      <td>0.425458</td>\n",
       "      <td>0.498294</td>\n",
       "      <td>0.380956</td>\n",
       "      <td>0.346071</td>\n",
       "      <td>0.278599</td>\n",
       "      <td>0.552176</td>\n",
       "      <td>0.377577</td>\n",
       "      <td>-0.458618</td>\n",
       "    </tr>\n",
       "    <tr>\n",
       "      <th>542</th>\n",
       "      <td>0</td>\n",
       "      <td>0</td>\n",
       "      <td>1</td>\n",
       "      <td>-0.433309</td>\n",
       "      <td>-0.419634</td>\n",
       "      <td>-0.320503</td>\n",
       "      <td>-0.559187</td>\n",
       "      <td>-0.596337</td>\n",
       "      <td>-0.575018</td>\n",
       "      <td>-0.458314</td>\n",
       "      <td>0.784530</td>\n",
       "    </tr>\n",
       "    <tr>\n",
       "      <th>1128</th>\n",
       "      <td>1</td>\n",
       "      <td>0</td>\n",
       "      <td>0</td>\n",
       "      <td>0.139202</td>\n",
       "      <td>0.150970</td>\n",
       "      <td>0.189649</td>\n",
       "      <td>-0.205130</td>\n",
       "      <td>-0.068917</td>\n",
       "      <td>-0.035140</td>\n",
       "      <td>0.010426</td>\n",
       "      <td>-0.303224</td>\n",
       "    </tr>\n",
       "    <tr>\n",
       "      <th>1870</th>\n",
       "      <td>0</td>\n",
       "      <td>1</td>\n",
       "      <td>0</td>\n",
       "      <td>0.016521</td>\n",
       "      <td>0.101352</td>\n",
       "      <td>-0.001658</td>\n",
       "      <td>-0.168417</td>\n",
       "      <td>-0.153841</td>\n",
       "      <td>-0.396564</td>\n",
       "      <td>-0.043042</td>\n",
       "      <td>-0.303224</td>\n",
       "    </tr>\n",
       "  </tbody>\n",
       "</table>\n",
       "</div>"
      ],
      "text/plain": [
       "      0_F  0_I  0_M         1         2         3         4         5  \\\n",
       "1335    1    0    0  0.200543  0.349441  0.317187  0.234926  0.322179   \n",
       "2944    0    0    1  0.425458  0.498294  0.380956  0.346071  0.278599   \n",
       "542     0    0    1 -0.433309 -0.419634 -0.320503 -0.559187 -0.596337   \n",
       "1128    1    0    0  0.139202  0.150970  0.189649 -0.205130 -0.068917   \n",
       "1870    0    1    0  0.016521  0.101352 -0.001658 -0.168417 -0.153841   \n",
       "\n",
       "             6         7         8  \n",
       "1335  0.113948  0.227865 -0.147831  \n",
       "2944  0.552176  0.377577 -0.458618  \n",
       "542  -0.575018 -0.458314  0.784530  \n",
       "1128 -0.035140  0.010426 -0.303224  \n",
       "1870 -0.396564 -0.043042 -0.303224  "
      ]
     },
     "execution_count": 14,
     "metadata": {},
     "output_type": "execute_result"
    }
   ],
   "source": [
    "train_data_std.head()"
   ]
  },
  {
   "cell_type": "code",
   "execution_count": 15,
   "id": "c462f0bd-fca5-494d-a9b2-cfde83e43a79",
   "metadata": {},
   "outputs": [
    {
     "data": {
      "text/plain": [
       "(1500, 11)"
      ]
     },
     "execution_count": 15,
     "metadata": {},
     "output_type": "execute_result"
    }
   ],
   "source": [
    "train_data_std.shape"
   ]
  },
  {
   "cell_type": "code",
   "execution_count": 16,
   "id": "cccb3f63-aa3f-4044-adfa-076dc2d84df5",
   "metadata": {},
   "outputs": [
    {
     "data": {
      "text/plain": [
       "{'0_F': None,\n",
       " '0_I': None,\n",
       " '0_M': None,\n",
       " 1: 0.52596,\n",
       " 2: 0.4095733333333333,\n",
       " 3: 0.14013,\n",
       " 4: 0.8444386666666666,\n",
       " 5: 0.3668376666666666,\n",
       " 6: 0.18427800000000003,\n",
       " 7: 0.24207499999999996,\n",
       " 8: 9.951333333333332}"
      ]
     },
     "execution_count": 16,
     "metadata": {},
     "output_type": "execute_result"
    }
   ],
   "source": [
    "data_preper.means"
   ]
  },
  {
   "cell_type": "code",
   "execution_count": 17,
   "id": "ef06a4cf-93d6-4981-ad0e-660633a0d611",
   "metadata": {},
   "outputs": [
    {
     "data": {
      "text/plain": [
       "{'0_F': None,\n",
       " '0_I': None,\n",
       " '0_M': None,\n",
       " 1: 0.12226833099038954,\n",
       " 2: 0.10077047061211507,\n",
       " 3: 0.039204052577410005,\n",
       " 4: 0.49709575103329184,\n",
       " 5: 0.22373050315036502,\n",
       " 6: 0.1106730759300738,\n",
       " 7: 0.14026943674558362,\n",
       " 8: 3.217638941179192}"
      ]
     },
     "execution_count": 17,
     "metadata": {},
     "output_type": "execute_result"
    }
   ],
   "source": [
    "data_preper.stdevs"
   ]
  },
  {
   "cell_type": "code",
   "execution_count": 18,
   "id": "92b47480-2f70-4028-b06d-c5045ddbfe1e",
   "metadata": {},
   "outputs": [],
   "source": [
    "X_train = train_data_std.drop(8, axis=1).to_numpy()\n",
    "y_train = train_data_std[8].to_numpy()"
   ]
  },
  {
   "cell_type": "code",
   "execution_count": 19,
   "id": "ae95b51e-ed5e-4d8e-8014-536cef232e10",
   "metadata": {},
   "outputs": [
    {
     "data": {
      "text/plain": [
       "array([[ 1.        ,  0.        ,  0.        , ...,  0.32217854,\n",
       "         0.11394822,  0.22786503],\n",
       "       [ 0.        ,  0.        ,  1.        , ...,  0.27859932,\n",
       "         0.55217585,  0.37757691],\n",
       "       [ 0.        ,  0.        ,  1.        , ..., -0.59633725,\n",
       "        -0.5750179 , -0.45831438],\n",
       "       ...,\n",
       "       [ 1.        ,  0.        ,  0.        , ..., -0.50582657,\n",
       "        -0.38752876, -0.50643605],\n",
       "       [ 0.        ,  1.        ,  0.        , ..., -0.77735861,\n",
       "        -0.78283719, -0.8165535 ],\n",
       "       [ 0.        ,  1.        ,  0.        , ..., -0.62650748,\n",
       "        -0.64278506, -0.61337311]])"
      ]
     },
     "execution_count": 19,
     "metadata": {},
     "output_type": "execute_result"
    }
   ],
   "source": [
    "X_train"
   ]
  },
  {
   "cell_type": "markdown",
   "id": "bab08c31-35f9-417c-8ce9-b066783830cf",
   "metadata": {},
   "source": [
    "**Apply standardization to test dataset**"
   ]
  },
  {
   "cell_type": "markdown",
   "id": "1bc99d81-344d-4206-8663-b5be389da16e",
   "metadata": {},
   "source": [
    "Use means and standard deviations from training dataset, so test has exact same standardization."
   ]
  },
  {
   "cell_type": "code",
   "execution_count": 20,
   "id": "1ddfbd5e-d893-4de5-b907-fc1c8c2cd725",
   "metadata": {},
   "outputs": [],
   "source": [
    "test_data_std = data_preper.prep(X_df = test_data, X_df_all = data, use_prev_standardization=True, standardize=standardize)"
   ]
  },
  {
   "cell_type": "code",
   "execution_count": 21,
   "id": "4e492b6a-e6d8-464c-9891-a2eb49ecf7aa",
   "metadata": {},
   "outputs": [
    {
     "data": {
      "text/html": [
       "<div>\n",
       "<style scoped>\n",
       "    .dataframe tbody tr th:only-of-type {\n",
       "        vertical-align: middle;\n",
       "    }\n",
       "\n",
       "    .dataframe tbody tr th {\n",
       "        vertical-align: top;\n",
       "    }\n",
       "\n",
       "    .dataframe thead th {\n",
       "        text-align: right;\n",
       "    }\n",
       "</style>\n",
       "<table border=\"1\" class=\"dataframe\">\n",
       "  <thead>\n",
       "    <tr style=\"text-align: right;\">\n",
       "      <th></th>\n",
       "      <th>0_F</th>\n",
       "      <th>0_I</th>\n",
       "      <th>0_M</th>\n",
       "      <th>1</th>\n",
       "      <th>2</th>\n",
       "      <th>3</th>\n",
       "      <th>4</th>\n",
       "      <th>5</th>\n",
       "      <th>6</th>\n",
       "      <th>7</th>\n",
       "      <th>8</th>\n",
       "    </tr>\n",
       "  </thead>\n",
       "  <tbody>\n",
       "    <tr>\n",
       "      <th>2194</th>\n",
       "      <td>0</td>\n",
       "      <td>1</td>\n",
       "      <td>0</td>\n",
       "      <td>-0.392416</td>\n",
       "      <td>-0.419634</td>\n",
       "      <td>-0.384271</td>\n",
       "      <td>-0.479725</td>\n",
       "      <td>-0.517001</td>\n",
       "      <td>-0.410118</td>\n",
       "      <td>-0.435145</td>\n",
       "      <td>0.473743</td>\n",
       "    </tr>\n",
       "    <tr>\n",
       "      <th>2879</th>\n",
       "      <td>0</td>\n",
       "      <td>1</td>\n",
       "      <td>0</td>\n",
       "      <td>-0.228841</td>\n",
       "      <td>-0.121927</td>\n",
       "      <td>-0.129196</td>\n",
       "      <td>-0.258943</td>\n",
       "      <td>-0.229825</td>\n",
       "      <td>-0.303949</td>\n",
       "      <td>-0.242658</td>\n",
       "      <td>-0.303224</td>\n",
       "    </tr>\n",
       "    <tr>\n",
       "      <th>3320</th>\n",
       "      <td>1</td>\n",
       "      <td>0</td>\n",
       "      <td>0</td>\n",
       "      <td>0.036968</td>\n",
       "      <td>0.076544</td>\n",
       "      <td>0.189649</td>\n",
       "      <td>-0.068336</td>\n",
       "      <td>-0.144901</td>\n",
       "      <td>-0.125496</td>\n",
       "      <td>0.028249</td>\n",
       "      <td>0.939923</td>\n",
       "    </tr>\n",
       "    <tr>\n",
       "      <th>691</th>\n",
       "      <td>0</td>\n",
       "      <td>1</td>\n",
       "      <td>0</td>\n",
       "      <td>-1.108055</td>\n",
       "      <td>-1.089473</td>\n",
       "      <td>-0.830654</td>\n",
       "      <td>-0.762367</td>\n",
       "      <td>-0.742719</td>\n",
       "      <td>-0.739918</td>\n",
       "      <td>-0.773779</td>\n",
       "      <td>-0.769405</td>\n",
       "    </tr>\n",
       "    <tr>\n",
       "      <th>3415</th>\n",
       "      <td>1</td>\n",
       "      <td>0</td>\n",
       "      <td>0</td>\n",
       "      <td>0.139202</td>\n",
       "      <td>0.275014</td>\n",
       "      <td>0.253418</td>\n",
       "      <td>0.188154</td>\n",
       "      <td>0.145627</td>\n",
       "      <td>0.082324</td>\n",
       "      <td>0.338367</td>\n",
       "      <td>-0.147831</td>\n",
       "    </tr>\n",
       "  </tbody>\n",
       "</table>\n",
       "</div>"
      ],
      "text/plain": [
       "      0_F  0_I  0_M         1         2         3         4         5  \\\n",
       "2194    0    1    0 -0.392416 -0.419634 -0.384271 -0.479725 -0.517001   \n",
       "2879    0    1    0 -0.228841 -0.121927 -0.129196 -0.258943 -0.229825   \n",
       "3320    1    0    0  0.036968  0.076544  0.189649 -0.068336 -0.144901   \n",
       "691     0    1    0 -1.108055 -1.089473 -0.830654 -0.762367 -0.742719   \n",
       "3415    1    0    0  0.139202  0.275014  0.253418  0.188154  0.145627   \n",
       "\n",
       "             6         7         8  \n",
       "2194 -0.410118 -0.435145  0.473743  \n",
       "2879 -0.303949 -0.242658 -0.303224  \n",
       "3320 -0.125496  0.028249  0.939923  \n",
       "691  -0.739918 -0.773779 -0.769405  \n",
       "3415  0.082324  0.338367 -0.147831  "
      ]
     },
     "execution_count": 21,
     "metadata": {},
     "output_type": "execute_result"
    }
   ],
   "source": [
    "test_data_std.head()"
   ]
  },
  {
   "cell_type": "code",
   "execution_count": 22,
   "id": "a7ab3786-45de-4950-944b-f00c15b2b9e8",
   "metadata": {},
   "outputs": [
    {
     "data": {
      "text/plain": [
       "(2500, 11)"
      ]
     },
     "execution_count": 22,
     "metadata": {},
     "output_type": "execute_result"
    }
   ],
   "source": [
    "test_data_std.shape"
   ]
  },
  {
   "cell_type": "code",
   "execution_count": 23,
   "id": "b4d7e268-107d-4dbb-a8d2-8d776aee03e6",
   "metadata": {},
   "outputs": [],
   "source": [
    "X_test = test_data_std.drop(8, axis=1).to_numpy()\n",
    "y_test = test_data_std[8].to_numpy()"
   ]
  },
  {
   "cell_type": "code",
   "execution_count": 24,
   "id": "81f382f4-faf9-4578-9735-e0ce18c4cb22",
   "metadata": {},
   "outputs": [
    {
     "data": {
      "text/plain": [
       "array([ 0.47374282, -0.30322441,  0.93992315, -0.76940474, -0.14783096,\n",
       "        0.00756248, -0.14783096,  1.56149693, -0.14783096, -0.14783096,\n",
       "       -0.14783096, -0.14783096,  0.31834937,  0.16295593,  0.16295593,\n",
       "        0.00756248, -0.45861785, -0.45861785,  0.16295593,  0.31834937,\n",
       "        0.00756248, -0.6140113 ,  0.00756248,  0.00756248, -0.45861785,\n",
       "       -0.14783096,  0.00756248,  0.16295593, -0.14783096, -0.14783096,\n",
       "        0.00756248, -0.6140113 , -0.76940474,  0.16295593,  0.93992315,\n",
       "        0.31834937, -0.45861785, -0.30322441,  0.00756248,  0.16295593])"
      ]
     },
     "execution_count": 24,
     "metadata": {},
     "output_type": "execute_result"
    }
   ],
   "source": [
    "y_test[:40]"
   ]
  },
  {
   "cell_type": "markdown",
   "id": "6f34cf85-173c-43a6-bb7a-69ae0af16fee",
   "metadata": {},
   "source": [
    "## Fit linear regression model"
   ]
  },
  {
   "cell_type": "markdown",
   "id": "77c3bf09-d4f3-4536-8f9a-d16794a68435",
   "metadata": {},
   "source": [
    "Some examples that were referenced:  \n",
    "https://www.pymc.io/projects/examples/en/latest/generalized_linear_models/GLM-robust.html  \n",
    "https://www.pymc.io/projects/examples/en/latest/generalized_linear_models/GLM-out-of-sample-predictions.html  \n",
    "\n",
    "Notes about linear regression model:  \n",
    "1) Through tinkering, it seems to provide better predictions with more informative priors. mu=0 and sigma=5 seem to be best.  \n",
    "2) Using the robust GLM example, it was found the predictons seemed to work better after replacing pm.Normal with pm.StudentT, and replacing HalfNormal with HalfCauchy."
   ]
  },
  {
   "cell_type": "code",
   "execution_count": 25,
   "id": "fe8c0368-3d24-46fe-a6b0-431eda3bd3cf",
   "metadata": {},
   "outputs": [],
   "source": [
    "linear_start = time.time()"
   ]
  },
  {
   "cell_type": "code",
   "execution_count": 26,
   "id": "1cdee0e0-6a89-4154-98df-1c80150d263b",
   "metadata": {},
   "outputs": [
    {
     "name": "stderr",
     "output_type": "stream",
     "text": [
      "Auto-assigning NUTS sampler...\n",
      "Initializing NUTS using jitter+adapt_diag...\n",
      "Multiprocess sampling (4 chains in 4 jobs)\n",
      "NUTS: [intercept, coeffs, sigma]\n"
     ]
    },
    {
     "data": {
      "text/html": [
       "\n",
       "<style>\n",
       "    /* Turns off some styling */\n",
       "    progress {\n",
       "        /* gets rid of default border in Firefox and Opera. */\n",
       "        border: none;\n",
       "        /* Needs to be in here for Safari polyfill so background images work as expected. */\n",
       "        background-size: auto;\n",
       "    }\n",
       "    progress:not([value]), progress:not([value])::-webkit-progress-bar {\n",
       "        background: repeating-linear-gradient(45deg, #7e7e7e, #7e7e7e 10px, #5c5c5c 10px, #5c5c5c 20px);\n",
       "    }\n",
       "    .progress-bar-interrupted, .progress-bar-interrupted::-webkit-progress-bar {\n",
       "        background: #F44336;\n",
       "    }\n",
       "</style>\n"
      ],
      "text/plain": [
       "<IPython.core.display.HTML object>"
      ]
     },
     "metadata": {},
     "output_type": "display_data"
    },
    {
     "data": {
      "text/html": [
       "\n",
       "    <div>\n",
       "      <progress value='6000' class='' max='6000' style='width:300px; height:20px; vertical-align: middle;'></progress>\n",
       "      100.00% [6000/6000 03:13&lt;00:00 Sampling 4 chains, 0 divergences]\n",
       "    </div>\n",
       "    "
      ],
      "text/plain": [
       "<IPython.core.display.HTML object>"
      ]
     },
     "metadata": {},
     "output_type": "display_data"
    },
    {
     "name": "stderr",
     "output_type": "stream",
     "text": [
      "Sampling 4 chains for 1_000 tune and 500 draw iterations (4_000 + 2_000 draws total) took 193 seconds.\n",
      "Chain 0 reached the maximum tree depth. Increase `max_treedepth`, increase `target_accept` or reparameterize.\n",
      "Chain 1 reached the maximum tree depth. Increase `max_treedepth`, increase `target_accept` or reparameterize.\n",
      "Chain 2 reached the maximum tree depth. Increase `max_treedepth`, increase `target_accept` or reparameterize.\n",
      "Chain 3 reached the maximum tree depth. Increase `max_treedepth`, increase `target_accept` or reparameterize.\n",
      "Sampling: [age_of_tree]\n"
     ]
    },
    {
     "data": {
      "text/html": [
       "\n",
       "<style>\n",
       "    /* Turns off some styling */\n",
       "    progress {\n",
       "        /* gets rid of default border in Firefox and Opera. */\n",
       "        border: none;\n",
       "        /* Needs to be in here for Safari polyfill so background images work as expected. */\n",
       "        background-size: auto;\n",
       "    }\n",
       "    progress:not([value]), progress:not([value])::-webkit-progress-bar {\n",
       "        background: repeating-linear-gradient(45deg, #7e7e7e, #7e7e7e 10px, #5c5c5c 10px, #5c5c5c 20px);\n",
       "    }\n",
       "    .progress-bar-interrupted, .progress-bar-interrupted::-webkit-progress-bar {\n",
       "        background: #F44336;\n",
       "    }\n",
       "</style>\n"
      ],
      "text/plain": [
       "<IPython.core.display.HTML object>"
      ]
     },
     "metadata": {},
     "output_type": "display_data"
    },
    {
     "data": {
      "text/html": [
       "\n",
       "    <div>\n",
       "      <progress value='2000' class='' max='2000' style='width:300px; height:20px; vertical-align: middle;'></progress>\n",
       "      100.00% [2000/2000 00:00&lt;00:00]\n",
       "    </div>\n",
       "    "
      ],
      "text/plain": [
       "<IPython.core.display.HTML object>"
      ]
     },
     "metadata": {},
     "output_type": "display_data"
    }
   ],
   "source": [
    "with pm.Model() as m_linear:\n",
    "    # associate data with model (this makes prediction easier)\n",
    "    X_data = pm.Data(\"X\", X_train, mutable=True)\n",
    "    y_data = pm.Data(\"y\", y_train, mutable=True)\n",
    "    \n",
    "    intercept = pm.StudentT(\"intercept\", mu=0, sigma=5, nu=3)\n",
    "    coeffs = pm.StudentT(\"coeffs\", mu=0, sigma=5, nu=3, shape=X_data.shape[1])\n",
    "    sigma = pm.HalfCauchy(\"sigma\", beta=10)\n",
    "\n",
    "    mu = intercept + pm.math.dot(X_data, coeffs)\n",
    "\n",
    "    # likelihood\n",
    "    pm.StudentT(\"age_of_tree\", mu=mu, sigma=sigma, nu=3, observed=y_data)\n",
    "\n",
    "    # start sampling\n",
    "    trace_linear = pm.sample(linear_model_n_samples)\n",
    "    ppc = pm.sample_posterior_predictive(trace_linear)\n",
    "    \n",
    "    y_pred = ppc.posterior_predictive.stack(sample=(\"chain\", \"draw\"))[\"age_of_tree\"].values.T.mean(axis=0)"
   ]
  },
  {
   "cell_type": "code",
   "execution_count": 27,
   "id": "2521611d-0dfb-43a5-8c21-9353d52eea8b",
   "metadata": {},
   "outputs": [
    {
     "data": {
      "text/plain": [
       "(1500,)"
      ]
     },
     "execution_count": 27,
     "metadata": {},
     "output_type": "execute_result"
    }
   ],
   "source": [
    "y_pred.shape"
   ]
  },
  {
   "cell_type": "code",
   "execution_count": 28,
   "id": "6ac19b0e-2698-45b1-990a-16fc6bb96cad",
   "metadata": {},
   "outputs": [
    {
     "data": {
      "text/html": [
       "<div>\n",
       "<style scoped>\n",
       "    .dataframe tbody tr th:only-of-type {\n",
       "        vertical-align: middle;\n",
       "    }\n",
       "\n",
       "    .dataframe tbody tr th {\n",
       "        vertical-align: top;\n",
       "    }\n",
       "\n",
       "    .dataframe thead th {\n",
       "        text-align: right;\n",
       "    }\n",
       "</style>\n",
       "<table border=\"1\" class=\"dataframe\">\n",
       "  <thead>\n",
       "    <tr style=\"text-align: right;\">\n",
       "      <th></th>\n",
       "      <th>mean</th>\n",
       "      <th>sd</th>\n",
       "      <th>hdi_2.5%</th>\n",
       "      <th>hdi_97.5%</th>\n",
       "      <th>mcse_mean</th>\n",
       "      <th>mcse_sd</th>\n",
       "      <th>ess_bulk</th>\n",
       "      <th>ess_tail</th>\n",
       "      <th>r_hat</th>\n",
       "    </tr>\n",
       "  </thead>\n",
       "  <tbody>\n",
       "    <tr>\n",
       "      <th>intercept</th>\n",
       "      <td>0.153</td>\n",
       "      <td>2.481</td>\n",
       "      <td>-4.927</td>\n",
       "      <td>4.839</td>\n",
       "      <td>0.095</td>\n",
       "      <td>0.067</td>\n",
       "      <td>680.0</td>\n",
       "      <td>777.0</td>\n",
       "      <td>1.00</td>\n",
       "    </tr>\n",
       "    <tr>\n",
       "      <th>coeffs[0]</th>\n",
       "      <td>-0.193</td>\n",
       "      <td>2.482</td>\n",
       "      <td>-4.820</td>\n",
       "      <td>4.948</td>\n",
       "      <td>0.095</td>\n",
       "      <td>0.067</td>\n",
       "      <td>680.0</td>\n",
       "      <td>777.0</td>\n",
       "      <td>1.00</td>\n",
       "    </tr>\n",
       "    <tr>\n",
       "      <th>coeffs[1]</th>\n",
       "      <td>-0.266</td>\n",
       "      <td>2.482</td>\n",
       "      <td>-4.959</td>\n",
       "      <td>4.821</td>\n",
       "      <td>0.095</td>\n",
       "      <td>0.067</td>\n",
       "      <td>680.0</td>\n",
       "      <td>804.0</td>\n",
       "      <td>1.00</td>\n",
       "    </tr>\n",
       "    <tr>\n",
       "      <th>coeffs[2]</th>\n",
       "      <td>-0.158</td>\n",
       "      <td>2.481</td>\n",
       "      <td>-4.785</td>\n",
       "      <td>4.979</td>\n",
       "      <td>0.095</td>\n",
       "      <td>0.067</td>\n",
       "      <td>681.0</td>\n",
       "      <td>777.0</td>\n",
       "      <td>1.00</td>\n",
       "    </tr>\n",
       "    <tr>\n",
       "      <th>coeffs[3]</th>\n",
       "      <td>0.019</td>\n",
       "      <td>0.100</td>\n",
       "      <td>-0.179</td>\n",
       "      <td>0.210</td>\n",
       "      <td>0.003</td>\n",
       "      <td>0.002</td>\n",
       "      <td>1024.0</td>\n",
       "      <td>1376.0</td>\n",
       "      <td>1.00</td>\n",
       "    </tr>\n",
       "    <tr>\n",
       "      <th>coeffs[4]</th>\n",
       "      <td>0.286</td>\n",
       "      <td>0.105</td>\n",
       "      <td>0.085</td>\n",
       "      <td>0.499</td>\n",
       "      <td>0.003</td>\n",
       "      <td>0.002</td>\n",
       "      <td>986.0</td>\n",
       "      <td>1119.0</td>\n",
       "      <td>1.00</td>\n",
       "    </tr>\n",
       "    <tr>\n",
       "      <th>coeffs[5]</th>\n",
       "      <td>0.209</td>\n",
       "      <td>0.043</td>\n",
       "      <td>0.125</td>\n",
       "      <td>0.289</td>\n",
       "      <td>0.001</td>\n",
       "      <td>0.001</td>\n",
       "      <td>1799.0</td>\n",
       "      <td>1386.0</td>\n",
       "      <td>1.00</td>\n",
       "    </tr>\n",
       "    <tr>\n",
       "      <th>coeffs[6]</th>\n",
       "      <td>1.462</td>\n",
       "      <td>0.211</td>\n",
       "      <td>1.055</td>\n",
       "      <td>1.872</td>\n",
       "      <td>0.008</td>\n",
       "      <td>0.006</td>\n",
       "      <td>638.0</td>\n",
       "      <td>888.0</td>\n",
       "      <td>1.00</td>\n",
       "    </tr>\n",
       "    <tr>\n",
       "      <th>coeffs[7]</th>\n",
       "      <td>-1.297</td>\n",
       "      <td>0.110</td>\n",
       "      <td>-1.517</td>\n",
       "      <td>-1.091</td>\n",
       "      <td>0.004</td>\n",
       "      <td>0.003</td>\n",
       "      <td>787.0</td>\n",
       "      <td>1222.0</td>\n",
       "      <td>1.00</td>\n",
       "    </tr>\n",
       "    <tr>\n",
       "      <th>coeffs[8]</th>\n",
       "      <td>-0.377</td>\n",
       "      <td>0.068</td>\n",
       "      <td>-0.508</td>\n",
       "      <td>-0.244</td>\n",
       "      <td>0.002</td>\n",
       "      <td>0.002</td>\n",
       "      <td>965.0</td>\n",
       "      <td>1087.0</td>\n",
       "      <td>1.00</td>\n",
       "    </tr>\n",
       "    <tr>\n",
       "      <th>coeffs[9]</th>\n",
       "      <td>0.199</td>\n",
       "      <td>0.089</td>\n",
       "      <td>0.021</td>\n",
       "      <td>0.369</td>\n",
       "      <td>0.003</td>\n",
       "      <td>0.002</td>\n",
       "      <td>878.0</td>\n",
       "      <td>1332.0</td>\n",
       "      <td>1.01</td>\n",
       "    </tr>\n",
       "    <tr>\n",
       "      <th>sigma</th>\n",
       "      <td>0.225</td>\n",
       "      <td>0.006</td>\n",
       "      <td>0.213</td>\n",
       "      <td>0.237</td>\n",
       "      <td>0.000</td>\n",
       "      <td>0.000</td>\n",
       "      <td>1846.0</td>\n",
       "      <td>1287.0</td>\n",
       "      <td>1.00</td>\n",
       "    </tr>\n",
       "  </tbody>\n",
       "</table>\n",
       "</div>"
      ],
      "text/plain": [
       "            mean     sd  hdi_2.5%  hdi_97.5%  mcse_mean  mcse_sd  ess_bulk  \\\n",
       "intercept  0.153  2.481    -4.927      4.839      0.095    0.067     680.0   \n",
       "coeffs[0] -0.193  2.482    -4.820      4.948      0.095    0.067     680.0   \n",
       "coeffs[1] -0.266  2.482    -4.959      4.821      0.095    0.067     680.0   \n",
       "coeffs[2] -0.158  2.481    -4.785      4.979      0.095    0.067     681.0   \n",
       "coeffs[3]  0.019  0.100    -0.179      0.210      0.003    0.002    1024.0   \n",
       "coeffs[4]  0.286  0.105     0.085      0.499      0.003    0.002     986.0   \n",
       "coeffs[5]  0.209  0.043     0.125      0.289      0.001    0.001    1799.0   \n",
       "coeffs[6]  1.462  0.211     1.055      1.872      0.008    0.006     638.0   \n",
       "coeffs[7] -1.297  0.110    -1.517     -1.091      0.004    0.003     787.0   \n",
       "coeffs[8] -0.377  0.068    -0.508     -0.244      0.002    0.002     965.0   \n",
       "coeffs[9]  0.199  0.089     0.021      0.369      0.003    0.002     878.0   \n",
       "sigma      0.225  0.006     0.213      0.237      0.000    0.000    1846.0   \n",
       "\n",
       "           ess_tail  r_hat  \n",
       "intercept     777.0   1.00  \n",
       "coeffs[0]     777.0   1.00  \n",
       "coeffs[1]     804.0   1.00  \n",
       "coeffs[2]     777.0   1.00  \n",
       "coeffs[3]    1376.0   1.00  \n",
       "coeffs[4]    1119.0   1.00  \n",
       "coeffs[5]    1386.0   1.00  \n",
       "coeffs[6]     888.0   1.00  \n",
       "coeffs[7]    1222.0   1.00  \n",
       "coeffs[8]    1087.0   1.00  \n",
       "coeffs[9]    1332.0   1.01  \n",
       "sigma        1287.0   1.00  "
      ]
     },
     "execution_count": 28,
     "metadata": {},
     "output_type": "execute_result"
    }
   ],
   "source": [
    "az.summary(trace_linear, hdi_prob=0.95)"
   ]
  },
  {
   "cell_type": "markdown",
   "id": "fc428473-bfed-4297-8e32-28661ab6c747",
   "metadata": {},
   "source": [
    "Above, coefficients 4, 5, 6, 7, 8, and 9 appear statistically significant as their CS doesn't contain zero. One could retry the regression and drop these other variables to see if it improves the linear prediction / fit.."
   ]
  },
  {
   "cell_type": "markdown",
   "id": "7da4d488-f0c0-4dd4-a004-2dcb13a1fe1c",
   "metadata": {},
   "source": [
    "Below, we can visualize the Markov Chain for this mode. Later, we can use this diagram when it gets more complex to try and understand it's flow:"
   ]
  },
  {
   "cell_type": "code",
   "execution_count": 29,
   "id": "2b2a9ebd-986e-4f47-9ca3-ceec3d920c29",
   "metadata": {},
   "outputs": [
    {
     "data": {
      "image/svg+xml": [
       "<?xml version=\"1.0\" encoding=\"UTF-8\" standalone=\"no\"?>\n",
       "<!DOCTYPE svg PUBLIC \"-//W3C//DTD SVG 1.1//EN\"\n",
       " \"http://www.w3.org/Graphics/SVG/1.1/DTD/svg11.dtd\">\n",
       "<!-- Generated by graphviz version 9.0.0 (20231125.0833)\n",
       " -->\n",
       "<!-- Pages: 1 -->\n",
       "<svg width=\"482pt\" height=\"369pt\"\n",
       " viewBox=\"0.00 0.00 482.00 369.13\" xmlns=\"http://www.w3.org/2000/svg\" xmlns:xlink=\"http://www.w3.org/1999/xlink\">\n",
       "<g id=\"graph0\" class=\"graph\" transform=\"scale(1 1) rotate(0) translate(4 365.13)\">\n",
       "<polygon fill=\"white\" stroke=\"none\" points=\"-4,4 -4,-365.13 478,-365.13 478,4 -4,4\"/>\n",
       "<g id=\"clust1\" class=\"cluster\">\n",
       "<title>cluster1500 x 10</title>\n",
       "<path fill=\"none\" stroke=\"black\" d=\"M20,-243.23C20,-243.23 100,-243.23 100,-243.23 106,-243.23 112,-249.23 112,-255.23 112,-255.23 112,-329.23 112,-329.23 112,-335.23 106,-341.23 100,-341.23 100,-341.23 20,-341.23 20,-341.23 14,-341.23 8,-335.23 8,-329.23 8,-329.23 8,-255.23 8,-255.23 8,-249.23 14,-243.23 20,-243.23\"/>\n",
       "<text text-anchor=\"middle\" x=\"76.62\" y=\"-250.43\" font-family=\"Times,serif\" font-size=\"14.00\">1500 x 10</text>\n",
       "</g>\n",
       "<g id=\"clust2\" class=\"cluster\">\n",
       "<title>cluster1500</title>\n",
       "<path fill=\"none\" stroke=\"black\" d=\"M188,-8C188,-8 292,-8 292,-8 298,-8 304,-14 304,-20 304,-20 304,-211.32 304,-211.32 304,-217.32 298,-223.32 292,-223.32 292,-223.32 188,-223.32 188,-223.32 182,-223.32 176,-217.32 176,-211.32 176,-211.32 176,-20 176,-20 176,-14 182,-8 188,-8\"/>\n",
       "<text text-anchor=\"middle\" x=\"282.5\" y=\"-15.2\" font-family=\"Times,serif\" font-size=\"14.00\">1500</text>\n",
       "</g>\n",
       "<g id=\"clust3\" class=\"cluster\">\n",
       "<title>cluster10</title>\n",
       "<path fill=\"none\" stroke=\"black\" d=\"M370,-231.32C370,-231.32 454,-231.32 454,-231.32 460,-231.32 466,-237.32 466,-243.32 466,-243.32 466,-341.13 466,-341.13 466,-347.13 460,-353.13 454,-353.13 454,-353.13 370,-353.13 370,-353.13 364,-353.13 358,-347.13 358,-341.13 358,-341.13 358,-243.32 358,-243.32 358,-237.32 364,-231.32 370,-231.32\"/>\n",
       "<text text-anchor=\"middle\" x=\"451.25\" y=\"-238.52\" font-family=\"Times,serif\" font-size=\"14.00\">10</text>\n",
       "</g>\n",
       "<!-- X -->\n",
       "<g id=\"node1\" class=\"node\">\n",
       "<title>X</title>\n",
       "<path fill=\"lightgrey\" stroke=\"black\" d=\"M91.62,-333.23C91.62,-333.23 28.38,-333.23 28.38,-333.23 22.38,-333.23 16.38,-327.23 16.38,-321.23 16.38,-321.23 16.38,-287.73 16.38,-287.73 16.38,-281.73 22.38,-275.73 28.38,-275.73 28.38,-275.73 91.62,-275.73 91.62,-275.73 97.62,-275.73 103.62,-281.73 103.62,-287.73 103.62,-287.73 103.62,-321.23 103.62,-321.23 103.62,-327.23 97.62,-333.23 91.62,-333.23\"/>\n",
       "<text text-anchor=\"middle\" x=\"60\" y=\"-315.93\" font-family=\"Times,serif\" font-size=\"14.00\">X</text>\n",
       "<text text-anchor=\"middle\" x=\"60\" y=\"-299.43\" font-family=\"Times,serif\" font-size=\"14.00\">~</text>\n",
       "<text text-anchor=\"middle\" x=\"60\" y=\"-282.93\" font-family=\"Times,serif\" font-size=\"14.00\">MutableData</text>\n",
       "</g>\n",
       "<!-- age_of_tree -->\n",
       "<g id=\"node3\" class=\"node\">\n",
       "<title>age_of_tree</title>\n",
       "<ellipse fill=\"lightgrey\" stroke=\"black\" cx=\"240\" cy=\"-174.66\" rx=\"56.39\" ry=\"40.66\"/>\n",
       "<text text-anchor=\"middle\" x=\"240\" y=\"-186.11\" font-family=\"Times,serif\" font-size=\"14.00\">age_of_tree</text>\n",
       "<text text-anchor=\"middle\" x=\"240\" y=\"-169.61\" font-family=\"Times,serif\" font-size=\"14.00\">~</text>\n",
       "<text text-anchor=\"middle\" x=\"240\" y=\"-153.11\" font-family=\"Times,serif\" font-size=\"14.00\">StudentT</text>\n",
       "</g>\n",
       "<!-- X&#45;&gt;age_of_tree -->\n",
       "<g id=\"edge4\" class=\"edge\">\n",
       "<title>X&#45;&gt;age_of_tree</title>\n",
       "<path fill=\"none\" stroke=\"black\" d=\"M75.74,-275.31C85.05,-260.67 97.95,-243.36 113,-231.32 131.97,-216.12 155.74,-204.26 177.56,-195.46\"/>\n",
       "<polygon fill=\"black\" stroke=\"black\" points=\"178.62,-198.8 186.68,-191.93 176.09,-192.27 178.62,-198.8\"/>\n",
       "</g>\n",
       "<!-- y -->\n",
       "<g id=\"node2\" class=\"node\">\n",
       "<title>y</title>\n",
       "<path fill=\"lightgrey\" stroke=\"black\" d=\"M271.62,-98C271.62,-98 208.38,-98 208.38,-98 202.38,-98 196.38,-92 196.38,-86 196.38,-86 196.38,-52.5 196.38,-52.5 196.38,-46.5 202.38,-40.5 208.38,-40.5 208.38,-40.5 271.62,-40.5 271.62,-40.5 277.62,-40.5 283.62,-46.5 283.62,-52.5 283.62,-52.5 283.62,-86 283.62,-86 283.62,-92 277.62,-98 271.62,-98\"/>\n",
       "<text text-anchor=\"middle\" x=\"240\" y=\"-80.7\" font-family=\"Times,serif\" font-size=\"14.00\">y</text>\n",
       "<text text-anchor=\"middle\" x=\"240\" y=\"-64.2\" font-family=\"Times,serif\" font-size=\"14.00\">~</text>\n",
       "<text text-anchor=\"middle\" x=\"240\" y=\"-47.7\" font-family=\"Times,serif\" font-size=\"14.00\">MutableData</text>\n",
       "</g>\n",
       "<!-- age_of_tree&#45;&gt;y -->\n",
       "<g id=\"edge1\" class=\"edge\">\n",
       "<title>age_of_tree&#45;&gt;y</title>\n",
       "<path fill=\"none\" stroke=\"black\" d=\"M240,-133.68C240,-125.83 240,-117.6 240,-109.76\"/>\n",
       "<polygon fill=\"black\" stroke=\"black\" points=\"243.5,-109.79 240,-99.79 236.5,-109.79 243.5,-109.79\"/>\n",
       "</g>\n",
       "<!-- sigma -->\n",
       "<g id=\"node4\" class=\"node\">\n",
       "<title>sigma</title>\n",
       "<ellipse fill=\"none\" stroke=\"black\" cx=\"179\" cy=\"-304.48\" rx=\"57.45\" ry=\"40.66\"/>\n",
       "<text text-anchor=\"middle\" x=\"179\" y=\"-315.93\" font-family=\"Times,serif\" font-size=\"14.00\">sigma</text>\n",
       "<text text-anchor=\"middle\" x=\"179\" y=\"-299.43\" font-family=\"Times,serif\" font-size=\"14.00\">~</text>\n",
       "<text text-anchor=\"middle\" x=\"179\" y=\"-282.93\" font-family=\"Times,serif\" font-size=\"14.00\">HalfCauchy</text>\n",
       "</g>\n",
       "<!-- sigma&#45;&gt;age_of_tree -->\n",
       "<g id=\"edge3\" class=\"edge\">\n",
       "<title>sigma&#45;&gt;age_of_tree</title>\n",
       "<path fill=\"none\" stroke=\"black\" d=\"M197.14,-265.47C203.41,-252.34 210.51,-237.44 217.11,-223.62\"/>\n",
       "<polygon fill=\"black\" stroke=\"black\" points=\"220.24,-225.19 221.39,-214.66 213.92,-222.18 220.24,-225.19\"/>\n",
       "</g>\n",
       "<!-- intercept -->\n",
       "<g id=\"node5\" class=\"node\">\n",
       "<title>intercept</title>\n",
       "<ellipse fill=\"none\" stroke=\"black\" cx=\"301\" cy=\"-304.48\" rx=\"46.32\" ry=\"40.66\"/>\n",
       "<text text-anchor=\"middle\" x=\"301\" y=\"-315.93\" font-family=\"Times,serif\" font-size=\"14.00\">intercept</text>\n",
       "<text text-anchor=\"middle\" x=\"301\" y=\"-299.43\" font-family=\"Times,serif\" font-size=\"14.00\">~</text>\n",
       "<text text-anchor=\"middle\" x=\"301\" y=\"-282.93\" font-family=\"Times,serif\" font-size=\"14.00\">StudentT</text>\n",
       "</g>\n",
       "<!-- intercept&#45;&gt;age_of_tree -->\n",
       "<g id=\"edge5\" class=\"edge\">\n",
       "<title>intercept&#45;&gt;age_of_tree</title>\n",
       "<path fill=\"none\" stroke=\"black\" d=\"M283.36,-266.51C276.96,-253.1 269.63,-237.75 262.85,-223.54\"/>\n",
       "<polygon fill=\"black\" stroke=\"black\" points=\"266.15,-222.32 258.68,-214.8 259.83,-225.33 266.15,-222.32\"/>\n",
       "</g>\n",
       "<!-- coeffs -->\n",
       "<g id=\"node6\" class=\"node\">\n",
       "<title>coeffs</title>\n",
       "<ellipse fill=\"none\" stroke=\"black\" cx=\"412\" cy=\"-304.48\" rx=\"46.32\" ry=\"40.66\"/>\n",
       "<text text-anchor=\"middle\" x=\"412\" y=\"-315.93\" font-family=\"Times,serif\" font-size=\"14.00\">coeffs</text>\n",
       "<text text-anchor=\"middle\" x=\"412\" y=\"-299.43\" font-family=\"Times,serif\" font-size=\"14.00\">~</text>\n",
       "<text text-anchor=\"middle\" x=\"412\" y=\"-282.93\" font-family=\"Times,serif\" font-size=\"14.00\">StudentT</text>\n",
       "</g>\n",
       "<!-- coeffs&#45;&gt;age_of_tree -->\n",
       "<g id=\"edge2\" class=\"edge\">\n",
       "<title>coeffs&#45;&gt;age_of_tree</title>\n",
       "<path fill=\"none\" stroke=\"black\" d=\"M389.79,-268.32C380.48,-255.53 368.83,-241.68 356,-231.32 339.57,-218.06 319.47,-207.01 300.64,-198.33\"/>\n",
       "<polygon fill=\"black\" stroke=\"black\" points=\"302.28,-195.24 291.72,-194.38 299.44,-201.63 302.28,-195.24\"/>\n",
       "</g>\n",
       "</g>\n",
       "</svg>\n"
      ],
      "text/plain": [
       "<graphviz.graphs.Digraph at 0x7fd2975aab50>"
      ]
     },
     "execution_count": 29,
     "metadata": {},
     "output_type": "execute_result"
    }
   ],
   "source": [
    "pm.model_to_graphviz(m_linear)"
   ]
  },
  {
   "cell_type": "markdown",
   "id": "61125ea0-67fa-4cdc-af55-7a00ab166aca",
   "metadata": {},
   "source": [
    "Compute the R2 score of the regression:"
   ]
  },
  {
   "cell_type": "code",
   "execution_count": 30,
   "id": "d7b5b1f1-5a54-4344-ba6b-631f4e8232ee",
   "metadata": {},
   "outputs": [
    {
     "data": {
      "text/plain": [
       "r2        0.520818\n",
       "r2_std    0.000000\n",
       "dtype: float64"
      ]
     },
     "execution_count": 30,
     "metadata": {},
     "output_type": "execute_result"
    }
   ],
   "source": [
    "az.r2_score(y_train, y_pred)"
   ]
  },
  {
   "cell_type": "markdown",
   "id": "485ee551-f3f8-4c1e-8005-944cf7588ae4",
   "metadata": {},
   "source": [
    "Compute the mean squared error of the regression. This is a better metric to compare this to the non-linear models later, as it doesn't have any assumptions of linearity."
   ]
  },
  {
   "cell_type": "code",
   "execution_count": 31,
   "id": "d0199330-3213-47e0-90ab-754ee7bcd807",
   "metadata": {},
   "outputs": [
    {
     "data": {
      "text/plain": [
       "0.1148"
      ]
     },
     "execution_count": 31,
     "metadata": {},
     "output_type": "execute_result"
    }
   ],
   "source": [
    "round(mean_squared_error(y_train, y_pred), 4)"
   ]
  },
  {
   "cell_type": "markdown",
   "id": "88a091a9-31d6-454d-b034-88961bfa1605",
   "metadata": {},
   "source": [
    "The plot below is a way to evaluate how well predicted values correlate to actual response values. The below graph should ideally have a slope of 1 and pass through 0."
   ]
  },
  {
   "cell_type": "code",
   "execution_count": 32,
   "id": "023a2444-4933-4ee1-907c-39da18a64892",
   "metadata": {},
   "outputs": [
    {
     "data": {
      "text/plain": [
       "[Text(0.5, 0, 'predicted'), Text(0, 0.5, 'actual')]"
      ]
     },
     "execution_count": 32,
     "metadata": {},
     "output_type": "execute_result"
    },
    {
     "data": {
      "image/png": "[encoded data removed]",
      "text/plain": [
       "<Figure size 640x480 with 1 Axes>"
      ]
     },
     "metadata": {},
     "output_type": "display_data"
    }
   ],
   "source": [
    "plot = sns.regplot(x=y_pred, y=y_train)\n",
    "plot.set(xlabel=\"predicted\", ylabel=\"actual\")"
   ]
  },
  {
   "cell_type": "markdown",
   "id": "416d8299-6aae-450f-9d41-d99169e2785f",
   "metadata": {},
   "source": [
    "**Now lets predict the test set**"
   ]
  },
  {
   "cell_type": "markdown",
   "id": "e8379d12-6808-4e82-991e-64ca8557f188",
   "metadata": {},
   "source": [
    "First prediction without sampling... just extract the coefficients, and multiply the test datapoints through them to get a predicted y value. Then, we will compare the predicted y to the known, actual y value."
   ]
  },
  {
   "cell_type": "code",
   "execution_count": 33,
   "id": "9d9739b4-4e51-400c-a3e2-b4c1c669b647",
   "metadata": {},
   "outputs": [],
   "source": [
    "pred_intercept = trace_linear.posterior.intercept.mean().values.item()\n",
    "pred_coeffs = trace_linear.posterior.coeffs.mean([\"chain\", \"draw\"]).values\n",
    "y_pred_test_nosample = X_test @  pred_coeffs + pred_intercept"
   ]
  },
  {
   "cell_type": "markdown",
   "id": "23ddc35c-363d-4bbc-9776-3a1850be2168",
   "metadata": {},
   "source": [
    "Take Mean Squared error on test set. We get a fairly low number, but slightly larger than training. This prediction method seems to be working well."
   ]
  },
  {
   "cell_type": "code",
   "execution_count": 34,
   "id": "fb2f194a-d815-457e-aa41-95eaf69b603c",
   "metadata": {},
   "outputs": [
    {
     "data": {
      "text/plain": [
       "0.1244"
      ]
     },
     "execution_count": 34,
     "metadata": {},
     "output_type": "execute_result"
    }
   ],
   "source": [
    "round(mean_squared_error(y_test, y_pred_test_nosample), 4)"
   ]
  },
  {
   "cell_type": "markdown",
   "id": "ba21b8e8-de10-45e7-899e-f09b37a4e008",
   "metadata": {},
   "source": [
    "Same plot. We can see the regression line between prediction and actual response values is at a positive 45 degree angle, which means predictions are on average similar to actual response values."
   ]
  },
  {
   "cell_type": "code",
   "execution_count": 35,
   "id": "5400b1cc-420d-4d07-97f7-d5187f26f2aa",
   "metadata": {},
   "outputs": [
    {
     "data": {
      "text/plain": [
       "[Text(0.5, 0, 'predicted'), Text(0, 0.5, 'actual')]"
      ]
     },
     "execution_count": 35,
     "metadata": {},
     "output_type": "execute_result"
    },
    {
     "data": {
      "image/png": "[encoded data removed]",
      "text/plain": [
       "<Figure size 640x480 with 1 Axes>"
      ]
     },
     "metadata": {},
     "output_type": "display_data"
    }
   ],
   "source": [
    "plot = sns.regplot(x=y_pred_test_nosample, y=y_test)\n",
    "plot.set(xlabel=\"predicted\", ylabel=\"actual\")"
   ]
  },
  {
   "cell_type": "markdown",
   "id": "d5099b57-6dd8-45c8-9a44-7ac4c25a1a66",
   "metadata": {},
   "source": [
    "Now predict using sampling"
   ]
  },
  {
   "cell_type": "code",
   "execution_count": 36,
   "id": "18104f41-47cb-43b6-bef5-2789cfe669d8",
   "metadata": {},
   "outputs": [
    {
     "name": "stderr",
     "output_type": "stream",
     "text": [
      "Sampling: [age_of_tree, coeffs]\n"
     ]
    },
    {
     "data": {
      "text/html": [
       "\n",
       "<style>\n",
       "    /* Turns off some styling */\n",
       "    progress {\n",
       "        /* gets rid of default border in Firefox and Opera. */\n",
       "        border: none;\n",
       "        /* Needs to be in here for Safari polyfill so background images work as expected. */\n",
       "        background-size: auto;\n",
       "    }\n",
       "    progress:not([value]), progress:not([value])::-webkit-progress-bar {\n",
       "        background: repeating-linear-gradient(45deg, #7e7e7e, #7e7e7e 10px, #5c5c5c 10px, #5c5c5c 20px);\n",
       "    }\n",
       "    .progress-bar-interrupted, .progress-bar-interrupted::-webkit-progress-bar {\n",
       "        background: #F44336;\n",
       "    }\n",
       "</style>\n"
      ],
      "text/plain": [
       "<IPython.core.display.HTML object>"
      ]
     },
     "metadata": {},
     "output_type": "display_data"
    },
    {
     "data": {
      "text/html": [
       "\n",
       "    <div>\n",
       "      <progress value='2000' class='' max='2000' style='width:300px; height:20px; vertical-align: middle;'></progress>\n",
       "      100.00% [2000/2000 00:00&lt;00:00]\n",
       "    </div>\n",
       "    "
      ],
      "text/plain": [
       "<IPython.core.display.HTML object>"
      ]
     },
     "metadata": {},
     "output_type": "display_data"
    }
   ],
   "source": [
    "with m_linear:\n",
    "    pm.set_data({\"X\": X_test, \"y\": y_test})\n",
    "    ppc_test = pm.sample_posterior_predictive(trace_linear) #, predictions=True)\n",
    "    y_pred_test = ppc_test.posterior_predictive.stack(sample=(\"chain\", \"draw\"))[\"age_of_tree\"].values.T.mean(axis=0)"
   ]
  },
  {
   "cell_type": "markdown",
   "id": "a3231f9c-1bc0-44a1-879e-4bd6086a54e1",
   "metadata": {},
   "source": [
    "Again, get the MSE. We get a much larger value... so sampling appears to be a much less reliable method. Considerable time was spent trying to improve sampling prediction, to no avail.  "
   ]
  },
  {
   "cell_type": "code",
   "execution_count": 37,
   "id": "27a9e122-6df0-47f5-8f46-4ad8c5282eb9",
   "metadata": {
    "tags": []
   },
   "outputs": [
    {
     "data": {
      "text/plain": [
       "0.3057"
      ]
     },
     "execution_count": 37,
     "metadata": {},
     "output_type": "execute_result"
    }
   ],
   "source": [
    "round(mean_squared_error(y_test, y_pred_test), 4)"
   ]
  },
  {
   "cell_type": "markdown",
   "id": "ca56da79-1ca1-40b7-97ba-4476606fac25",
   "metadata": {},
   "source": [
    "This plot does seem very sensitive to the priors in the model. The priors being used here produced the least bad plot below."
   ]
  },
  {
   "cell_type": "code",
   "execution_count": 38,
   "id": "c24e28d3-0ef6-4c00-aa8f-d4532d9e8aa3",
   "metadata": {
    "tags": []
   },
   "outputs": [
    {
     "data": {
      "text/plain": [
       "[Text(0.5, 0, 'predicted'), Text(0, 0.5, 'actual')]"
      ]
     },
     "execution_count": 38,
     "metadata": {},
     "output_type": "execute_result"
    },
    {
     "data": {
      "image/png": "[encoded data removed]",
      "text/plain": [
       "<Figure size 640x480 with 1 Axes>"
      ]
     },
     "metadata": {},
     "output_type": "display_data"
    }
   ],
   "source": [
    "plot = sns.regplot(x=y_pred_test, y=y_test)\n",
    "plot.set(xlabel=\"predicted\", ylabel=\"actual\")"
   ]
  },
  {
   "cell_type": "markdown",
   "id": "da358330-0fd9-4485-9788-01825e3ccc2e",
   "metadata": {},
   "source": [
    "The sampling on the test set seems very unstable. Note how we can get two very different results when we redraw the samples using the same method."
   ]
  },
  {
   "cell_type": "code",
   "execution_count": 39,
   "id": "d3bc5921-3510-4a7a-8b2a-421c89b33ee8",
   "metadata": {},
   "outputs": [
    {
     "name": "stderr",
     "output_type": "stream",
     "text": [
      "Sampling: [age_of_tree, coeffs]\n"
     ]
    },
    {
     "data": {
      "text/html": [
       "\n",
       "<style>\n",
       "    /* Turns off some styling */\n",
       "    progress {\n",
       "        /* gets rid of default border in Firefox and Opera. */\n",
       "        border: none;\n",
       "        /* Needs to be in here for Safari polyfill so background images work as expected. */\n",
       "        background-size: auto;\n",
       "    }\n",
       "    progress:not([value]), progress:not([value])::-webkit-progress-bar {\n",
       "        background: repeating-linear-gradient(45deg, #7e7e7e, #7e7e7e 10px, #5c5c5c 10px, #5c5c5c 20px);\n",
       "    }\n",
       "    .progress-bar-interrupted, .progress-bar-interrupted::-webkit-progress-bar {\n",
       "        background: #F44336;\n",
       "    }\n",
       "</style>\n"
      ],
      "text/plain": [
       "<IPython.core.display.HTML object>"
      ]
     },
     "metadata": {},
     "output_type": "display_data"
    },
    {
     "data": {
      "text/html": [
       "\n",
       "    <div>\n",
       "      <progress value='2000' class='' max='2000' style='width:300px; height:20px; vertical-align: middle;'></progress>\n",
       "      100.00% [2000/2000 00:00&lt;00:00]\n",
       "    </div>\n",
       "    "
      ],
      "text/plain": [
       "<IPython.core.display.HTML object>"
      ]
     },
     "metadata": {},
     "output_type": "display_data"
    }
   ],
   "source": [
    "with m_linear:\n",
    "    pm.set_data({\"X\": X_test, \"y\": y_test})\n",
    "    ppc_test = pm.sample_posterior_predictive(trace_linear) #, predictions=True)\n",
    "    y_pred_test = ppc_test.posterior_predictive.stack(sample=(\"chain\", \"draw\"))[\"age_of_tree\"].values.T.mean(axis=0)"
   ]
  },
  {
   "cell_type": "markdown",
   "id": "a0b41204-ff59-48e1-b82e-a4b1145a5aea",
   "metadata": {},
   "source": [
    "Second prediction for MSE after sampling again."
   ]
  },
  {
   "cell_type": "code",
   "execution_count": 40,
   "id": "1c787d22-ea1a-48fc-87d8-97474ba44fca",
   "metadata": {
    "tags": []
   },
   "outputs": [
    {
     "data": {
      "text/plain": [
       "0.2363"
      ]
     },
     "execution_count": 40,
     "metadata": {},
     "output_type": "execute_result"
    }
   ],
   "source": [
    "round(mean_squared_error(y_test, y_pred_test), 4)"
   ]
  },
  {
   "cell_type": "code",
   "execution_count": 41,
   "id": "eddba16d-d3e2-4eb8-9879-f54782b122e8",
   "metadata": {
    "tags": []
   },
   "outputs": [
    {
     "data": {
      "text/plain": [
       "[Text(0.5, 0, 'predicted'), Text(0, 0.5, 'actual')]"
      ]
     },
     "execution_count": 41,
     "metadata": {},
     "output_type": "execute_result"
    },
    {
     "data": {
      "image/png": "[encoded data removed]",
      "text/plain": [
       "<Figure size 640x480 with 1 Axes>"
      ]
     },
     "metadata": {},
     "output_type": "display_data"
    }
   ],
   "source": [
    "plot = sns.regplot(x=y_pred_test, y=y_test)\n",
    "plot.set(xlabel=\"predicted\", ylabel=\"actual\")"
   ]
  },
  {
   "cell_type": "code",
   "execution_count": 42,
   "id": "3733e17b-ed80-4b5b-9332-ab106a89422a",
   "metadata": {},
   "outputs": [
    {
     "name": "stdout",
     "output_type": "stream",
     "text": [
      "Linear model runtime: 200.07 seconds\n"
     ]
    }
   ],
   "source": [
    "print(f\"Linear model runtime: {round(time.time() - linear_start, 2)} seconds\")"
   ]
  },
  {
   "cell_type": "markdown",
   "id": "57327c7a-50e8-4d07-9717-f74e7d66bf0d",
   "metadata": {},
   "source": [
    "## Fit Neural Network Model"
   ]
  },
  {
   "cell_type": "markdown",
   "id": "0fb7a8eb-9b4f-4165-ae0f-8fcd023e5fc3",
   "metadata": {},
   "source": [
    "**Now let's try and build a simple neural network, with 3 neurons. We will keep it small to limit computational complexity.**"
   ]
  },
  {
   "cell_type": "code",
   "execution_count": 43,
   "id": "00f44a7e-b99e-4cf5-a4d0-3a01860f4aaa",
   "metadata": {},
   "outputs": [],
   "source": [
    "neural_start = time.time()"
   ]
  },
  {
   "cell_type": "code",
   "execution_count": 44,
   "id": "359152c7-f331-4810-96f5-cbafb133b6cf",
   "metadata": {},
   "outputs": [
    {
     "name": "stderr",
     "output_type": "stream",
     "text": [
      "Auto-assigning NUTS sampler...\n",
      "Initializing NUTS using jitter+adapt_diag...\n",
      "Multiprocess sampling (4 chains in 4 jobs)\n",
      "NUTS: [intercept_n10, coeffs_n10, sigma_n10, intercept_n11, coeffs_n11, sigma_n11, intercept_n12, coeffs_n12, sigma_n12, intercept_n20, coeff_n20_0, coeff_n20_1, coeff_n20_2, sigma_n20]\n"
     ]
    },
    {
     "data": {
      "text/html": [
       "\n",
       "<style>\n",
       "    /* Turns off some styling */\n",
       "    progress {\n",
       "        /* gets rid of default border in Firefox and Opera. */\n",
       "        border: none;\n",
       "        /* Needs to be in here for Safari polyfill so background images work as expected. */\n",
       "        background-size: auto;\n",
       "    }\n",
       "    progress:not([value]), progress:not([value])::-webkit-progress-bar {\n",
       "        background: repeating-linear-gradient(45deg, #7e7e7e, #7e7e7e 10px, #5c5c5c 10px, #5c5c5c 20px);\n",
       "    }\n",
       "    .progress-bar-interrupted, .progress-bar-interrupted::-webkit-progress-bar {\n",
       "        background: #F44336;\n",
       "    }\n",
       "</style>\n"
      ],
      "text/plain": [
       "<IPython.core.display.HTML object>"
      ]
     },
     "metadata": {},
     "output_type": "display_data"
    },
    {
     "data": {
      "text/html": [
       "\n",
       "    <div>\n",
       "      <progress value='6000' class='' max='6000' style='width:300px; height:20px; vertical-align: middle;'></progress>\n",
       "      100.00% [6000/6000 07:41&lt;00:00 Sampling 4 chains, 1 divergences]\n",
       "    </div>\n",
       "    "
      ],
      "text/plain": [
       "<IPython.core.display.HTML object>"
      ]
     },
     "metadata": {},
     "output_type": "display_data"
    },
    {
     "name": "stderr",
     "output_type": "stream",
     "text": [
      "Sampling 4 chains for 1_000 tune and 500 draw iterations (4_000 + 2_000 draws total) took 462 seconds.\n",
      "The rhat statistic is larger than 1.01 for some parameters. This indicates problems during sampling. See https://arxiv.org/abs/1903.08008 for details\n",
      "The effective sample size per chain is smaller than 100 for some parameters.  A higher number is needed for reliable rhat and ess computation. See https://arxiv.org/abs/1903.08008 for details\n",
      "There were 1 divergences after tuning. Increase `target_accept` or reparameterize.\n",
      "Chain 0 reached the maximum tree depth. Increase `max_treedepth`, increase `target_accept` or reparameterize.\n",
      "Chain 1 reached the maximum tree depth. Increase `max_treedepth`, increase `target_accept` or reparameterize.\n",
      "Chain 2 reached the maximum tree depth. Increase `max_treedepth`, increase `target_accept` or reparameterize.\n",
      "Chain 3 reached the maximum tree depth. Increase `max_treedepth`, increase `target_accept` or reparameterize.\n",
      "Sampling: [age_of_tree]\n"
     ]
    },
    {
     "data": {
      "text/html": [
       "\n",
       "<style>\n",
       "    /* Turns off some styling */\n",
       "    progress {\n",
       "        /* gets rid of default border in Firefox and Opera. */\n",
       "        border: none;\n",
       "        /* Needs to be in here for Safari polyfill so background images work as expected. */\n",
       "        background-size: auto;\n",
       "    }\n",
       "    progress:not([value]), progress:not([value])::-webkit-progress-bar {\n",
       "        background: repeating-linear-gradient(45deg, #7e7e7e, #7e7e7e 10px, #5c5c5c 10px, #5c5c5c 20px);\n",
       "    }\n",
       "    .progress-bar-interrupted, .progress-bar-interrupted::-webkit-progress-bar {\n",
       "        background: #F44336;\n",
       "    }\n",
       "</style>\n"
      ],
      "text/plain": [
       "<IPython.core.display.HTML object>"
      ]
     },
     "metadata": {},
     "output_type": "display_data"
    },
    {
     "data": {
      "text/html": [
       "\n",
       "    <div>\n",
       "      <progress value='2000' class='' max='2000' style='width:300px; height:20px; vertical-align: middle;'></progress>\n",
       "      100.00% [2000/2000 00:00&lt;00:00]\n",
       "    </div>\n",
       "    "
      ],
      "text/plain": [
       "<IPython.core.display.HTML object>"
      ]
     },
     "metadata": {},
     "output_type": "display_data"
    }
   ],
   "source": [
    "# naming convention. N for neuron. First number is layer. Second is neuron number in that layer. \n",
    "# So n21 is the first neuron in layer 2.\n",
    "\n",
    "with pm.Model() as m_neural:\n",
    "    # associate data with model (this makes prediction easier)\n",
    "    X_data_n = pm.Data(\"X\", X_train, mutable=True)\n",
    "    y_data_n = pm.Data(\"y\", y_train, mutable=True)\n",
    "    \n",
    "    # LAYER 1 - Input\n",
    "    \n",
    "    # NEURON 1-0\n",
    "    intercept_n10 = pm.StudentT(\"intercept_n10\", mu=0, sigma=5, nu=3)\n",
    "    coeffs_n10 = pm.StudentT(\"coeffs_n10\", mu=0, sigma=5, nu=3, shape=X_data_n.shape[1])\n",
    "    \n",
    "    mu_n10 = intercept_n10 + pm.math.dot(X_data_n, coeffs_n10)\n",
    "    \n",
    "    # ReLU function\n",
    "    out_n10 = pm.Deterministic(\"out_n10\", pm.math.maximum(0, mu_n10))\n",
    "        \n",
    "    sigma_n10 = pm.HalfCauchy(\"sigma_n10\", beta=10)\n",
    "    \n",
    "\n",
    "    # NEURON 1-1\n",
    "    intercept_n11 = pm.StudentT(\"intercept_n11\", mu=0, sigma=5, nu=3)\n",
    "    coeffs_n11 = pm.StudentT(\"coeffs_n11\", mu=0, sigma=5, nu=3, shape=X_data_n.shape[1])\n",
    "    \n",
    "    mu_n11 = intercept_n11 + pm.math.dot(X_data_n, coeffs_n11)\n",
    "    \n",
    "    # ReLU function\n",
    "    out_n11 = pm.Deterministic(\"out_n11\", pm.math.maximum(0, mu_n11))\n",
    "    sigma_n11 = pm.HalfCauchy(\"sigma_n11\", beta=10)\n",
    "\n",
    "    \n",
    "    # NEURON 1-2\n",
    "    intercept_n12 = pm.StudentT(\"intercept_n12\", mu=0, sigma=5, nu=3)\n",
    "    coeffs_n12 = pm.StudentT(\"coeffs_n12\", mu=0, sigma=5, nu=3, shape=X_data_n.shape[1])\n",
    "    \n",
    "    mu_n12 = intercept_n12 + pm.math.dot(X_data_n, coeffs_n12)\n",
    "    \n",
    "    # ReLU function\n",
    "    out_n12 = pm.Deterministic(\"out_n12\", pm.math.maximum(0, mu_n12))\n",
    "    \n",
    "    sigma_n12 = pm.HalfCauchy(\"sigma_n12\", beta=10)\n",
    "\n",
    "\n",
    "    # LAYER 2 - OUTPUT (no ReLU, just straight linear regression)\n",
    "    # NEURON 2-0\n",
    "    intercept_n20 = pm.StudentT(\"intercept_n20\", mu=0, sigma=5, nu=3)\n",
    "    coeff_n20_0 = pm.StudentT(\"coeff_n20_0\", mu=0, sigma=sigma_n10, nu=3) # input coeff for neron 10 output\n",
    "    coeff_n20_1 = pm.StudentT(\"coeff_n20_1\", mu=0, sigma=sigma_n11, nu=3) # input coeff for neron 11 output\n",
    "    coeff_n20_2 = pm.StudentT(\"coeff_n20_2\", mu=0, sigma=sigma_n12, nu=3) # input coeff for neron 12 output\n",
    "\n",
    "    # Had a hard time getting this to work as an array / dot product, so just do it manually\n",
    "    mu_n20 = (intercept_n20 \n",
    "              + out_n10 * coeff_n20_0 \n",
    "              + out_n11 * coeff_n20_1\n",
    "              + out_n12 * coeff_n20_2)\n",
    "\n",
    "    sigma_n20 = pm.HalfCauchy(\"sigma_n20\", beta=10)\n",
    "\n",
    "    # likelihood - just take linear combination as regression\n",
    "    pm.StudentT(\"age_of_tree\", mu=mu_n20, sigma=sigma_n20, nu=3, observed=y_data_n)\n",
    "\n",
    "    # start sampling\n",
    "    trace_neural = pm.sample(neural_model_n_samples)\n",
    "    ppc_neural = pm.sample_posterior_predictive(trace_neural)\n",
    "    \n",
    "    y_pred_neural = ppc_neural.posterior_predictive.stack(sample=(\"chain\", \"draw\"))[\"age_of_tree\"].values.T.mean(axis=0)"
   ]
  },
  {
   "cell_type": "code",
   "execution_count": 45,
   "id": "ca0ac1a2-e34c-4abf-89b5-4dbc5b8b5c21",
   "metadata": {},
   "outputs": [
    {
     "data": {
      "text/plain": [
       "(1500,)"
      ]
     },
     "execution_count": 45,
     "metadata": {},
     "output_type": "execute_result"
    }
   ],
   "source": [
    "y_pred_neural.shape"
   ]
  },
  {
   "cell_type": "code",
   "execution_count": 46,
   "id": "34300065-0bd0-4374-9629-d8432b599f0d",
   "metadata": {},
   "outputs": [],
   "source": [
    "# az.summary(trace_neural, hdi_prob=0.95) # prints a LOT of warnings, and hard to see full output due to so many coefficients"
   ]
  },
  {
   "cell_type": "markdown",
   "id": "bcdde164-f7a6-4175-bf5b-1993a10dd4a5",
   "metadata": {},
   "source": [
    "This below chart will sort of visualize our neural network structure (as a Markov Chain)\n"
   ]
  },
  {
   "cell_type": "code",
   "execution_count": 47,
   "id": "1de78004-d20c-4330-ab76-c3c728029458",
   "metadata": {},
   "outputs": [
    {
     "data": {
      "image/svg+xml": [
       "<?xml version=\"1.0\" encoding=\"UTF-8\" standalone=\"no\"?>\n",
       "<!DOCTYPE svg PUBLIC \"-//W3C//DTD SVG 1.1//EN\"\n",
       " \"http://www.w3.org/Graphics/SVG/1.1/DTD/svg11.dtd\">\n",
       "<!-- Generated by graphviz version 9.0.0 (20231125.0833)\n",
       " -->\n",
       "<!-- Pages: 1 -->\n",
       "<svg width=\"1307pt\" height=\"478pt\"\n",
       " viewBox=\"0.00 0.00 1306.90 478.45\" xmlns=\"http://www.w3.org/2000/svg\" xmlns:xlink=\"http://www.w3.org/1999/xlink\">\n",
       "<g id=\"graph0\" class=\"graph\" transform=\"scale(1 1) rotate(0) translate(4 474.45)\">\n",
       "<polygon fill=\"white\" stroke=\"none\" points=\"-4,4 -4,-474.45 1302.9,-474.45 1302.9,4 -4,4\"/>\n",
       "<g id=\"clust1\" class=\"cluster\">\n",
       "<title>cluster1500 x 10</title>\n",
       "<path fill=\"none\" stroke=\"black\" d=\"M269.45,-352.54C269.45,-352.54 349.45,-352.54 349.45,-352.54 355.45,-352.54 361.45,-358.54 361.45,-364.54 361.45,-364.54 361.45,-438.54 361.45,-438.54 361.45,-444.54 355.45,-450.54 349.45,-450.54 349.45,-450.54 269.45,-450.54 269.45,-450.54 263.45,-450.54 257.45,-444.54 257.45,-438.54 257.45,-438.54 257.45,-364.54 257.45,-364.54 257.45,-358.54 263.45,-352.54 269.45,-352.54\"/>\n",
       "<text text-anchor=\"middle\" x=\"326.08\" y=\"-359.74\" font-family=\"Times,serif\" font-size=\"14.00\">1500 x 10</text>\n",
       "</g>\n",
       "<g id=\"clust2\" class=\"cluster\">\n",
       "<title>cluster1500</title>\n",
       "<path fill=\"none\" stroke=\"black\" d=\"M412.45,-8C412.45,-8 710.45,-8 710.45,-8 716.45,-8 722.45,-14 722.45,-20 722.45,-20 722.45,-316.73 722.45,-316.73 722.45,-322.73 716.45,-328.73 710.45,-328.73 710.45,-328.73 412.45,-328.73 412.45,-328.73 406.45,-328.73 400.45,-322.73 400.45,-316.73 400.45,-316.73 400.45,-20 400.45,-20 400.45,-14 406.45,-8 412.45,-8\"/>\n",
       "<text text-anchor=\"middle\" x=\"700.95\" y=\"-15.2\" font-family=\"Times,serif\" font-size=\"14.00\">1500</text>\n",
       "</g>\n",
       "<g id=\"clust3\" class=\"cluster\">\n",
       "<title>cluster10</title>\n",
       "<path fill=\"none\" stroke=\"black\" d=\"M812.45,-340.63C812.45,-340.63 1162.45,-340.63 1162.45,-340.63 1168.45,-340.63 1174.45,-346.63 1174.45,-352.63 1174.45,-352.63 1174.45,-450.45 1174.45,-450.45 1174.45,-456.45 1168.45,-462.45 1162.45,-462.45 1162.45,-462.45 812.45,-462.45 812.45,-462.45 806.45,-462.45 800.45,-456.45 800.45,-450.45 800.45,-450.45 800.45,-352.63 800.45,-352.63 800.45,-346.63 806.45,-340.63 812.45,-340.63\"/>\n",
       "<text text-anchor=\"middle\" x=\"1159.7\" y=\"-347.83\" font-family=\"Times,serif\" font-size=\"14.00\">10</text>\n",
       "</g>\n",
       "<!-- X -->\n",
       "<g id=\"node1\" class=\"node\">\n",
       "<title>X</title>\n",
       "<path fill=\"lightgrey\" stroke=\"black\" d=\"M341.08,-442.54C341.08,-442.54 277.83,-442.54 277.83,-442.54 271.83,-442.54 265.83,-436.54 265.83,-430.54 265.83,-430.54 265.83,-397.04 265.83,-397.04 265.83,-391.04 271.83,-385.04 277.83,-385.04 277.83,-385.04 341.08,-385.04 341.08,-385.04 347.08,-385.04 353.08,-391.04 353.08,-397.04 353.08,-397.04 353.08,-430.54 353.08,-430.54 353.08,-436.54 347.08,-442.54 341.08,-442.54\"/>\n",
       "<text text-anchor=\"middle\" x=\"309.45\" y=\"-425.24\" font-family=\"Times,serif\" font-size=\"14.00\">X</text>\n",
       "<text text-anchor=\"middle\" x=\"309.45\" y=\"-408.74\" font-family=\"Times,serif\" font-size=\"14.00\">~</text>\n",
       "<text text-anchor=\"middle\" x=\"309.45\" y=\"-392.24\" font-family=\"Times,serif\" font-size=\"14.00\">MutableData</text>\n",
       "</g>\n",
       "<!-- out_n12 -->\n",
       "<g id=\"node3\" class=\"node\">\n",
       "<title>out_n12</title>\n",
       "<polygon fill=\"none\" stroke=\"black\" points=\"714.58,-320.73 624.33,-320.73 624.33,-263.23 714.58,-263.23 714.58,-320.73\"/>\n",
       "<text text-anchor=\"middle\" x=\"669.45\" y=\"-303.43\" font-family=\"Times,serif\" font-size=\"14.00\">out_n12</text>\n",
       "<text text-anchor=\"middle\" x=\"669.45\" y=\"-286.93\" font-family=\"Times,serif\" font-size=\"14.00\">~</text>\n",
       "<text text-anchor=\"middle\" x=\"669.45\" y=\"-270.43\" font-family=\"Times,serif\" font-size=\"14.00\">Deterministic</text>\n",
       "</g>\n",
       "<!-- X&#45;&gt;out_n12 -->\n",
       "<g id=\"edge10\" class=\"edge\">\n",
       "<title>X&#45;&gt;out_n12</title>\n",
       "<path fill=\"none\" stroke=\"black\" d=\"M321.77,-384.78C330.4,-368.81 343.59,-350.14 361.45,-340.63 386.38,-327.37 588.76,-341.85 615.45,-332.63 619.66,-331.18 623.82,-329.28 627.85,-327.09\"/>\n",
       "<polygon fill=\"black\" stroke=\"black\" points=\"629.55,-330.15 636.25,-321.94 625.9,-324.18 629.55,-330.15\"/>\n",
       "</g>\n",
       "<!-- out_n11 -->\n",
       "<g id=\"node4\" class=\"node\">\n",
       "<title>out_n11</title>\n",
       "<polygon fill=\"none\" stroke=\"black\" points=\"606.58,-320.73 516.33,-320.73 516.33,-263.23 606.58,-263.23 606.58,-320.73\"/>\n",
       "<text text-anchor=\"middle\" x=\"561.45\" y=\"-303.43\" font-family=\"Times,serif\" font-size=\"14.00\">out_n11</text>\n",
       "<text text-anchor=\"middle\" x=\"561.45\" y=\"-286.93\" font-family=\"Times,serif\" font-size=\"14.00\">~</text>\n",
       "<text text-anchor=\"middle\" x=\"561.45\" y=\"-270.43\" font-family=\"Times,serif\" font-size=\"14.00\">Deterministic</text>\n",
       "</g>\n",
       "<!-- X&#45;&gt;out_n11 -->\n",
       "<g id=\"edge7\" class=\"edge\">\n",
       "<title>X&#45;&gt;out_n11</title>\n",
       "<path fill=\"none\" stroke=\"black\" d=\"M322.04,-384.56C330.71,-368.73 343.84,-350.27 361.45,-340.63 389.96,-325.04 476.86,-343.6 507.45,-332.63 511.58,-331.15 515.67,-329.25 519.64,-327.07\"/>\n",
       "<polygon fill=\"black\" stroke=\"black\" points=\"521.22,-330.21 527.91,-322 517.56,-324.25 521.22,-330.21\"/>\n",
       "</g>\n",
       "<!-- out_n10 -->\n",
       "<g id=\"node6\" class=\"node\">\n",
       "<title>out_n10</title>\n",
       "<polygon fill=\"none\" stroke=\"black\" points=\"498.58,-320.73 408.33,-320.73 408.33,-263.23 498.58,-263.23 498.58,-320.73\"/>\n",
       "<text text-anchor=\"middle\" x=\"453.45\" y=\"-303.43\" font-family=\"Times,serif\" font-size=\"14.00\">out_n10</text>\n",
       "<text text-anchor=\"middle\" x=\"453.45\" y=\"-286.93\" font-family=\"Times,serif\" font-size=\"14.00\">~</text>\n",
       "<text text-anchor=\"middle\" x=\"453.45\" y=\"-270.43\" font-family=\"Times,serif\" font-size=\"14.00\">Deterministic</text>\n",
       "</g>\n",
       "<!-- X&#45;&gt;out_n10 -->\n",
       "<g id=\"edge3\" class=\"edge\">\n",
       "<title>X&#45;&gt;out_n10</title>\n",
       "<path fill=\"none\" stroke=\"black\" d=\"M325.33,-384.65C334.51,-370.19 347.08,-353.05 361.45,-340.63 372.3,-331.27 385.32,-323.11 398.09,-316.32\"/>\n",
       "<polygon fill=\"black\" stroke=\"black\" points=\"399.55,-319.51 406.89,-311.86 396.39,-313.26 399.55,-319.51\"/>\n",
       "</g>\n",
       "<!-- age_of_tree -->\n",
       "<g id=\"node2\" class=\"node\">\n",
       "<title>age_of_tree</title>\n",
       "<ellipse fill=\"lightgrey\" stroke=\"black\" cx=\"609.45\" cy=\"-174.66\" rx=\"56.39\" ry=\"40.66\"/>\n",
       "<text text-anchor=\"middle\" x=\"609.45\" y=\"-186.11\" font-family=\"Times,serif\" font-size=\"14.00\">age_of_tree</text>\n",
       "<text text-anchor=\"middle\" x=\"609.45\" y=\"-169.61\" font-family=\"Times,serif\" font-size=\"14.00\">~</text>\n",
       "<text text-anchor=\"middle\" x=\"609.45\" y=\"-153.11\" font-family=\"Times,serif\" font-size=\"14.00\">StudentT</text>\n",
       "</g>\n",
       "<!-- y -->\n",
       "<g id=\"node5\" class=\"node\">\n",
       "<title>y</title>\n",
       "<path fill=\"lightgrey\" stroke=\"black\" d=\"M641.08,-98C641.08,-98 577.83,-98 577.83,-98 571.83,-98 565.83,-92 565.83,-86 565.83,-86 565.83,-52.5 565.83,-52.5 565.83,-46.5 571.83,-40.5 577.83,-40.5 577.83,-40.5 641.08,-40.5 641.08,-40.5 647.08,-40.5 653.08,-46.5 653.08,-52.5 653.08,-52.5 653.08,-86 653.08,-86 653.08,-92 647.08,-98 641.08,-98\"/>\n",
       "<text text-anchor=\"middle\" x=\"609.45\" y=\"-80.7\" font-family=\"Times,serif\" font-size=\"14.00\">y</text>\n",
       "<text text-anchor=\"middle\" x=\"609.45\" y=\"-64.2\" font-family=\"Times,serif\" font-size=\"14.00\">~</text>\n",
       "<text text-anchor=\"middle\" x=\"609.45\" y=\"-47.7\" font-family=\"Times,serif\" font-size=\"14.00\">MutableData</text>\n",
       "</g>\n",
       "<!-- age_of_tree&#45;&gt;y -->\n",
       "<g id=\"edge1\" class=\"edge\">\n",
       "<title>age_of_tree&#45;&gt;y</title>\n",
       "<path fill=\"none\" stroke=\"black\" d=\"M609.45,-133.68C609.45,-125.83 609.45,-117.6 609.45,-109.76\"/>\n",
       "<polygon fill=\"black\" stroke=\"black\" points=\"612.95,-109.79 609.45,-99.79 605.95,-109.79 612.95,-109.79\"/>\n",
       "</g>\n",
       "<!-- out_n12&#45;&gt;age_of_tree -->\n",
       "<g id=\"edge16\" class=\"edge\">\n",
       "<title>out_n12&#45;&gt;age_of_tree</title>\n",
       "<path fill=\"none\" stroke=\"black\" d=\"M654.77,-262.77C648.58,-250.86 641.2,-236.67 634.21,-223.24\"/>\n",
       "<polygon fill=\"black\" stroke=\"black\" points=\"637.38,-221.76 629.66,-214.5 631.17,-224.99 637.38,-221.76\"/>\n",
       "</g>\n",
       "<!-- out_n11&#45;&gt;age_of_tree -->\n",
       "<g id=\"edge17\" class=\"edge\">\n",
       "<title>out_n11&#45;&gt;age_of_tree</title>\n",
       "<path fill=\"none\" stroke=\"black\" d=\"M573.19,-262.77C578.01,-251.19 583.73,-237.45 589.19,-224.35\"/>\n",
       "<polygon fill=\"black\" stroke=\"black\" points=\"592.29,-226 592.9,-215.42 585.83,-223.31 592.29,-226\"/>\n",
       "</g>\n",
       "<!-- out_n10&#45;&gt;age_of_tree -->\n",
       "<g id=\"edge20\" class=\"edge\">\n",
       "<title>out_n10&#45;&gt;age_of_tree</title>\n",
       "<path fill=\"none\" stroke=\"black\" d=\"M491.61,-262.77C512.7,-247.18 539.1,-227.66 561.56,-211.06\"/>\n",
       "<polygon fill=\"black\" stroke=\"black\" points=\"563.42,-214.04 569.38,-205.28 559.26,-208.41 563.42,-214.04\"/>\n",
       "</g>\n",
       "<!-- coeff_n20_0 -->\n",
       "<g id=\"node7\" class=\"node\">\n",
       "<title>coeff_n20_0</title>\n",
       "<ellipse fill=\"none\" stroke=\"black\" cx=\"106.45\" cy=\"-291.98\" rx=\"59.57\" ry=\"40.66\"/>\n",
       "<text text-anchor=\"middle\" x=\"106.45\" y=\"-303.43\" font-family=\"Times,serif\" font-size=\"14.00\">coeff_n20_0</text>\n",
       "<text text-anchor=\"middle\" x=\"106.45\" y=\"-286.93\" font-family=\"Times,serif\" font-size=\"14.00\">~</text>\n",
       "<text text-anchor=\"middle\" x=\"106.45\" y=\"-270.43\" font-family=\"Times,serif\" font-size=\"14.00\">StudentT</text>\n",
       "</g>\n",
       "<!-- coeff_n20_0&#45;&gt;age_of_tree -->\n",
       "<g id=\"edge14\" class=\"edge\">\n",
       "<title>coeff_n20_0&#45;&gt;age_of_tree</title>\n",
       "<path fill=\"none\" stroke=\"black\" d=\"M159.43,-272.92C181.81,-265.65 208.24,-257.54 232.45,-251.32 340.23,-223.63 467.49,-199.92 543.17,-186.75\"/>\n",
       "<polygon fill=\"black\" stroke=\"black\" points=\"543.66,-190.21 552.92,-185.06 542.47,-183.32 543.66,-190.21\"/>\n",
       "</g>\n",
       "<!-- sigma_n11 -->\n",
       "<g id=\"node8\" class=\"node\">\n",
       "<title>sigma_n11</title>\n",
       "<ellipse fill=\"none\" stroke=\"black\" cx=\"1241.45\" cy=\"-413.79\" rx=\"57.45\" ry=\"40.66\"/>\n",
       "<text text-anchor=\"middle\" x=\"1241.45\" y=\"-425.24\" font-family=\"Times,serif\" font-size=\"14.00\">sigma_n11</text>\n",
       "<text text-anchor=\"middle\" x=\"1241.45\" y=\"-408.74\" font-family=\"Times,serif\" font-size=\"14.00\">~</text>\n",
       "<text text-anchor=\"middle\" x=\"1241.45\" y=\"-392.24\" font-family=\"Times,serif\" font-size=\"14.00\">HalfCauchy</text>\n",
       "</g>\n",
       "<!-- coeff_n20_1 -->\n",
       "<g id=\"node17\" class=\"node\">\n",
       "<title>coeff_n20_1</title>\n",
       "<ellipse fill=\"none\" stroke=\"black\" cx=\"925.45\" cy=\"-291.98\" rx=\"59.57\" ry=\"40.66\"/>\n",
       "<text text-anchor=\"middle\" x=\"925.45\" y=\"-303.43\" font-family=\"Times,serif\" font-size=\"14.00\">coeff_n20_1</text>\n",
       "<text text-anchor=\"middle\" x=\"925.45\" y=\"-286.93\" font-family=\"Times,serif\" font-size=\"14.00\">~</text>\n",
       "<text text-anchor=\"middle\" x=\"925.45\" y=\"-270.43\" font-family=\"Times,serif\" font-size=\"14.00\">StudentT</text>\n",
       "</g>\n",
       "<!-- sigma_n11&#45;&gt;coeff_n20_1 -->\n",
       "<g id=\"edge12\" class=\"edge\">\n",
       "<title>sigma_n11&#45;&gt;coeff_n20_1</title>\n",
       "<path fill=\"none\" stroke=\"black\" d=\"M1218.86,-376.13C1208.38,-362.48 1194.64,-348.42 1178.45,-340.63 1141.37,-322.81 1032.94,-344.23 993.45,-332.63 988.02,-331.04 982.56,-328.92 977.23,-326.49\"/>\n",
       "<polygon fill=\"black\" stroke=\"black\" points=\"979.05,-323.49 968.54,-322.16 975.93,-329.75 979.05,-323.49\"/>\n",
       "</g>\n",
       "<!-- coeff_n20_2 -->\n",
       "<g id=\"node9\" class=\"node\">\n",
       "<title>coeff_n20_2</title>\n",
       "<ellipse fill=\"none\" stroke=\"black\" cx=\"301.45\" cy=\"-291.98\" rx=\"59.57\" ry=\"40.66\"/>\n",
       "<text text-anchor=\"middle\" x=\"301.45\" y=\"-303.43\" font-family=\"Times,serif\" font-size=\"14.00\">coeff_n20_2</text>\n",
       "<text text-anchor=\"middle\" x=\"301.45\" y=\"-286.93\" font-family=\"Times,serif\" font-size=\"14.00\">~</text>\n",
       "<text text-anchor=\"middle\" x=\"301.45\" y=\"-270.43\" font-family=\"Times,serif\" font-size=\"14.00\">StudentT</text>\n",
       "</g>\n",
       "<!-- coeff_n20_2&#45;&gt;age_of_tree -->\n",
       "<g id=\"edge18\" class=\"edge\">\n",
       "<title>coeff_n20_2&#45;&gt;age_of_tree</title>\n",
       "<path fill=\"none\" stroke=\"black\" d=\"M351.54,-269.47C365.97,-263.44 381.78,-256.98 396.45,-251.32 447.14,-231.75 505.3,-211.22 548.03,-196.49\"/>\n",
       "<polygon fill=\"black\" stroke=\"black\" points=\"549.07,-199.83 557.39,-193.27 546.79,-193.21 549.07,-199.83\"/>\n",
       "</g>\n",
       "<!-- sigma_n12 -->\n",
       "<g id=\"node10\" class=\"node\">\n",
       "<title>sigma_n12</title>\n",
       "<ellipse fill=\"none\" stroke=\"black\" cx=\"190.45\" cy=\"-413.79\" rx=\"57.45\" ry=\"40.66\"/>\n",
       "<text text-anchor=\"middle\" x=\"190.45\" y=\"-425.24\" font-family=\"Times,serif\" font-size=\"14.00\">sigma_n12</text>\n",
       "<text text-anchor=\"middle\" x=\"190.45\" y=\"-408.74\" font-family=\"Times,serif\" font-size=\"14.00\">~</text>\n",
       "<text text-anchor=\"middle\" x=\"190.45\" y=\"-392.24\" font-family=\"Times,serif\" font-size=\"14.00\">HalfCauchy</text>\n",
       "</g>\n",
       "<!-- sigma_n12&#45;&gt;coeff_n20_2 -->\n",
       "<g id=\"edge13\" class=\"edge\">\n",
       "<title>sigma_n12&#45;&gt;coeff_n20_2</title>\n",
       "<path fill=\"none\" stroke=\"black\" d=\"M219.45,-378.58C229.97,-366.43 242.08,-352.76 253.45,-340.63 255.6,-338.35 257.82,-336.02 260.08,-333.68\"/>\n",
       "<polygon fill=\"black\" stroke=\"black\" points=\"262.28,-336.43 266.77,-326.83 257.28,-331.53 262.28,-336.43\"/>\n",
       "</g>\n",
       "<!-- intercept_n12 -->\n",
       "<g id=\"node11\" class=\"node\">\n",
       "<title>intercept_n12</title>\n",
       "<ellipse fill=\"none\" stroke=\"black\" cx=\"726.45\" cy=\"-413.79\" rx=\"63.82\" ry=\"40.66\"/>\n",
       "<text text-anchor=\"middle\" x=\"726.45\" y=\"-425.24\" font-family=\"Times,serif\" font-size=\"14.00\">intercept_n12</text>\n",
       "<text text-anchor=\"middle\" x=\"726.45\" y=\"-408.74\" font-family=\"Times,serif\" font-size=\"14.00\">~</text>\n",
       "<text text-anchor=\"middle\" x=\"726.45\" y=\"-392.24\" font-family=\"Times,serif\" font-size=\"14.00\">StudentT</text>\n",
       "</g>\n",
       "<!-- intercept_n12&#45;&gt;out_n12 -->\n",
       "<g id=\"edge8\" class=\"edge\">\n",
       "<title>intercept_n12&#45;&gt;out_n12</title>\n",
       "<path fill=\"none\" stroke=\"black\" d=\"M708.26,-374.55C701.67,-360.69 694.22,-345.04 687.63,-331.18\"/>\n",
       "<polygon fill=\"black\" stroke=\"black\" points=\"690.89,-329.88 683.43,-322.36 684.57,-332.89 690.89,-329.88\"/>\n",
       "</g>\n",
       "<!-- intercept_n20 -->\n",
       "<g id=\"node12\" class=\"node\">\n",
       "<title>intercept_n20</title>\n",
       "<ellipse fill=\"none\" stroke=\"black\" cx=\"1066.45\" cy=\"-291.98\" rx=\"63.82\" ry=\"40.66\"/>\n",
       "<text text-anchor=\"middle\" x=\"1066.45\" y=\"-303.43\" font-family=\"Times,serif\" font-size=\"14.00\">intercept_n20</text>\n",
       "<text text-anchor=\"middle\" x=\"1066.45\" y=\"-286.93\" font-family=\"Times,serif\" font-size=\"14.00\">~</text>\n",
       "<text text-anchor=\"middle\" x=\"1066.45\" y=\"-270.43\" font-family=\"Times,serif\" font-size=\"14.00\">StudentT</text>\n",
       "</g>\n",
       "<!-- intercept_n20&#45;&gt;age_of_tree -->\n",
       "<g id=\"edge15\" class=\"edge\">\n",
       "<title>intercept_n20&#45;&gt;age_of_tree</title>\n",
       "<path fill=\"none\" stroke=\"black\" d=\"M1020.97,-263.19C1012.38,-258.73 1003.3,-254.54 994.45,-251.32 886.91,-212.21 754.72,-191.85 676.55,-182.47\"/>\n",
       "<polygon fill=\"black\" stroke=\"black\" points=\"677.26,-179.03 666.92,-181.34 676.44,-185.98 677.26,-179.03\"/>\n",
       "</g>\n",
       "<!-- sigma_n20 -->\n",
       "<g id=\"node13\" class=\"node\">\n",
       "<title>sigma_n20</title>\n",
       "<ellipse fill=\"none\" stroke=\"black\" cx=\"790.45\" cy=\"-291.98\" rx=\"57.45\" ry=\"40.66\"/>\n",
       "<text text-anchor=\"middle\" x=\"790.45\" y=\"-303.43\" font-family=\"Times,serif\" font-size=\"14.00\">sigma_n20</text>\n",
       "<text text-anchor=\"middle\" x=\"790.45\" y=\"-286.93\" font-family=\"Times,serif\" font-size=\"14.00\">~</text>\n",
       "<text text-anchor=\"middle\" x=\"790.45\" y=\"-270.43\" font-family=\"Times,serif\" font-size=\"14.00\">HalfCauchy</text>\n",
       "</g>\n",
       "<!-- sigma_n20&#45;&gt;age_of_tree -->\n",
       "<g id=\"edge19\" class=\"edge\">\n",
       "<title>sigma_n20&#45;&gt;age_of_tree</title>\n",
       "<path fill=\"none\" stroke=\"black\" d=\"M748.47,-264.23C722.32,-247.57 688.48,-226.01 660.74,-208.33\"/>\n",
       "<polygon fill=\"black\" stroke=\"black\" points=\"662.8,-205.49 652.48,-203.07 659.03,-211.4 662.8,-205.49\"/>\n",
       "</g>\n",
       "<!-- sigma_n10 -->\n",
       "<g id=\"node14\" class=\"node\">\n",
       "<title>sigma_n10</title>\n",
       "<ellipse fill=\"none\" stroke=\"black\" cx=\"57.45\" cy=\"-413.79\" rx=\"57.45\" ry=\"40.66\"/>\n",
       "<text text-anchor=\"middle\" x=\"57.45\" y=\"-425.24\" font-family=\"Times,serif\" font-size=\"14.00\">sigma_n10</text>\n",
       "<text text-anchor=\"middle\" x=\"57.45\" y=\"-408.74\" font-family=\"Times,serif\" font-size=\"14.00\">~</text>\n",
       "<text text-anchor=\"middle\" x=\"57.45\" y=\"-392.24\" font-family=\"Times,serif\" font-size=\"14.00\">HalfCauchy</text>\n",
       "</g>\n",
       "<!-- sigma_n10&#45;&gt;coeff_n20_0 -->\n",
       "<g id=\"edge11\" class=\"edge\">\n",
       "<title>sigma_n10&#45;&gt;coeff_n20_0</title>\n",
       "<path fill=\"none\" stroke=\"black\" d=\"M73.23,-374.22C77.42,-363.96 82.01,-352.74 86.4,-342\"/>\n",
       "<polygon fill=\"black\" stroke=\"black\" points=\"89.59,-343.46 90.14,-332.88 83.11,-340.81 89.59,-343.46\"/>\n",
       "</g>\n",
       "<!-- intercept_n10 -->\n",
       "<g id=\"node15\" class=\"node\">\n",
       "<title>intercept_n10</title>\n",
       "<ellipse fill=\"none\" stroke=\"black\" cx=\"434.45\" cy=\"-413.79\" rx=\"63.82\" ry=\"40.66\"/>\n",
       "<text text-anchor=\"middle\" x=\"434.45\" y=\"-425.24\" font-family=\"Times,serif\" font-size=\"14.00\">intercept_n10</text>\n",
       "<text text-anchor=\"middle\" x=\"434.45\" y=\"-408.74\" font-family=\"Times,serif\" font-size=\"14.00\">~</text>\n",
       "<text text-anchor=\"middle\" x=\"434.45\" y=\"-392.24\" font-family=\"Times,serif\" font-size=\"14.00\">StudentT</text>\n",
       "</g>\n",
       "<!-- intercept_n10&#45;&gt;out_n10 -->\n",
       "<g id=\"edge2\" class=\"edge\">\n",
       "<title>intercept_n10&#45;&gt;out_n10</title>\n",
       "<path fill=\"none\" stroke=\"black\" d=\"M440.78,-372.9C442.87,-359.73 445.18,-345.11 447.26,-332.02\"/>\n",
       "<polygon fill=\"black\" stroke=\"black\" points=\"450.67,-332.89 448.78,-322.47 443.75,-331.79 450.67,-332.89\"/>\n",
       "</g>\n",
       "<!-- intercept_n11 -->\n",
       "<g id=\"node16\" class=\"node\">\n",
       "<title>intercept_n11</title>\n",
       "<ellipse fill=\"none\" stroke=\"black\" cx=\"580.45\" cy=\"-413.79\" rx=\"63.82\" ry=\"40.66\"/>\n",
       "<text text-anchor=\"middle\" x=\"580.45\" y=\"-425.24\" font-family=\"Times,serif\" font-size=\"14.00\">intercept_n11</text>\n",
       "<text text-anchor=\"middle\" x=\"580.45\" y=\"-408.74\" font-family=\"Times,serif\" font-size=\"14.00\">~</text>\n",
       "<text text-anchor=\"middle\" x=\"580.45\" y=\"-392.24\" font-family=\"Times,serif\" font-size=\"14.00\">StudentT</text>\n",
       "</g>\n",
       "<!-- intercept_n11&#45;&gt;out_n11 -->\n",
       "<g id=\"edge5\" class=\"edge\">\n",
       "<title>intercept_n11&#45;&gt;out_n11</title>\n",
       "<path fill=\"none\" stroke=\"black\" d=\"M574.13,-372.9C572.04,-359.73 569.72,-345.11 567.64,-332.02\"/>\n",
       "<polygon fill=\"black\" stroke=\"black\" points=\"571.15,-331.79 566.13,-322.47 564.24,-332.89 571.15,-331.79\"/>\n",
       "</g>\n",
       "<!-- coeff_n20_1&#45;&gt;age_of_tree -->\n",
       "<g id=\"edge21\" class=\"edge\">\n",
       "<title>coeff_n20_1&#45;&gt;age_of_tree</title>\n",
       "<path fill=\"none\" stroke=\"black\" d=\"M881.67,-263.87C873.46,-259.34 864.82,-254.95 856.45,-251.32 796.4,-225.26 724.53,-204.32 673.84,-191.13\"/>\n",
       "<polygon fill=\"black\" stroke=\"black\" points=\"674.74,-187.75 664.19,-188.65 673,-194.53 674.74,-187.75\"/>\n",
       "</g>\n",
       "<!-- coeffs_n12 -->\n",
       "<g id=\"node18\" class=\"node\">\n",
       "<title>coeffs_n12</title>\n",
       "<ellipse fill=\"none\" stroke=\"black\" cx=\"1112.45\" cy=\"-413.79\" rx=\"53.74\" ry=\"40.66\"/>\n",
       "<text text-anchor=\"middle\" x=\"1112.45\" y=\"-425.24\" font-family=\"Times,serif\" font-size=\"14.00\">coeffs_n12</text>\n",
       "<text text-anchor=\"middle\" x=\"1112.45\" y=\"-408.74\" font-family=\"Times,serif\" font-size=\"14.00\">~</text>\n",
       "<text text-anchor=\"middle\" x=\"1112.45\" y=\"-392.24\" font-family=\"Times,serif\" font-size=\"14.00\">StudentT</text>\n",
       "</g>\n",
       "<!-- coeffs_n12&#45;&gt;out_n12 -->\n",
       "<g id=\"edge9\" class=\"edge\">\n",
       "<title>coeffs_n12&#45;&gt;out_n12</title>\n",
       "<path fill=\"none\" stroke=\"black\" d=\"M1090.69,-376.37C1080.37,-362.57 1066.72,-348.35 1050.45,-340.63 1017.71,-325.11 758.79,-344.19 724.45,-332.63 720.18,-331.2 715.96,-329.3 711.86,-327.12\"/>\n",
       "<polygon fill=\"black\" stroke=\"black\" points=\"713.67,-324.12 703.29,-321.98 710.07,-330.12 713.67,-324.12\"/>\n",
       "</g>\n",
       "<!-- coeffs_n11 -->\n",
       "<g id=\"node19\" class=\"node\">\n",
       "<title>coeffs_n11</title>\n",
       "<ellipse fill=\"none\" stroke=\"black\" cx=\"987.45\" cy=\"-413.79\" rx=\"53.74\" ry=\"40.66\"/>\n",
       "<text text-anchor=\"middle\" x=\"987.45\" y=\"-425.24\" font-family=\"Times,serif\" font-size=\"14.00\">coeffs_n11</text>\n",
       "<text text-anchor=\"middle\" x=\"987.45\" y=\"-408.74\" font-family=\"Times,serif\" font-size=\"14.00\">~</text>\n",
       "<text text-anchor=\"middle\" x=\"987.45\" y=\"-392.24\" font-family=\"Times,serif\" font-size=\"14.00\">StudentT</text>\n",
       "</g>\n",
       "<!-- coeffs_n11&#45;&gt;out_n11 -->\n",
       "<g id=\"edge6\" class=\"edge\">\n",
       "<title>coeffs_n11&#45;&gt;out_n11</title>\n",
       "<path fill=\"none\" stroke=\"black\" d=\"M965.69,-376.38C955.37,-362.59 941.71,-348.36 925.45,-340.63 894.33,-325.85 648.05,-343.79 615.45,-332.63 611.24,-331.19 607.08,-329.3 603.05,-327.11\"/>\n",
       "<polygon fill=\"black\" stroke=\"black\" points=\"605,-324.2 594.64,-321.98 601.35,-330.17 605,-324.2\"/>\n",
       "</g>\n",
       "<!-- coeffs_n10 -->\n",
       "<g id=\"node20\" class=\"node\">\n",
       "<title>coeffs_n10</title>\n",
       "<ellipse fill=\"none\" stroke=\"black\" cx=\"862.45\" cy=\"-413.79\" rx=\"53.74\" ry=\"40.66\"/>\n",
       "<text text-anchor=\"middle\" x=\"862.45\" y=\"-425.24\" font-family=\"Times,serif\" font-size=\"14.00\">coeffs_n10</text>\n",
       "<text text-anchor=\"middle\" x=\"862.45\" y=\"-408.74\" font-family=\"Times,serif\" font-size=\"14.00\">~</text>\n",
       "<text text-anchor=\"middle\" x=\"862.45\" y=\"-392.24\" font-family=\"Times,serif\" font-size=\"14.00\">StudentT</text>\n",
       "</g>\n",
       "<!-- coeffs_n10&#45;&gt;out_n10 -->\n",
       "<g id=\"edge4\" class=\"edge\">\n",
       "<title>coeffs_n10&#45;&gt;out_n10</title>\n",
       "<path fill=\"none\" stroke=\"black\" d=\"M840.21,-376.38C829.71,-362.59 815.85,-348.36 799.45,-340.63 770.09,-326.8 538.15,-343.16 507.45,-332.63 503.24,-331.19 499.08,-329.29 495.05,-327.1\"/>\n",
       "<polygon fill=\"black\" stroke=\"black\" points=\"497,-324.19 486.64,-321.97 493.35,-330.17 497,-324.19\"/>\n",
       "</g>\n",
       "</g>\n",
       "</svg>\n"
      ],
      "text/plain": [
       "<graphviz.graphs.Digraph at 0x7fd27fe9f110>"
      ]
     },
     "execution_count": 47,
     "metadata": {},
     "output_type": "execute_result"
    }
   ],
   "source": [
    "pm.model_to_graphviz(m_neural)"
   ]
  },
  {
   "cell_type": "markdown",
   "id": "f30a7fbe-9e5a-43f2-9628-600f19c14553",
   "metadata": {},
   "source": [
    "Get R2 score... not sure if this applies to a neural net, but we can see an improvement"
   ]
  },
  {
   "cell_type": "code",
   "execution_count": 48,
   "id": "d3ab8f6b-c3ed-4616-947c-90f6ae902ee8",
   "metadata": {},
   "outputs": [
    {
     "data": {
      "text/plain": [
       "r2        0.591745\n",
       "r2_std    0.000000\n",
       "dtype: float64"
      ]
     },
     "execution_count": 48,
     "metadata": {},
     "output_type": "execute_result"
    }
   ],
   "source": [
    "az.r2_score(y_train, y_pred_neural)"
   ]
  },
  {
   "cell_type": "markdown",
   "id": "310700ca-05fc-44c2-81c3-779d9ba7ed41",
   "metadata": {},
   "source": [
    "Calculate MSE... we get a lower value than the linear model, so that means this network is fitting the training set better... likely due to non-linearities."
   ]
  },
  {
   "cell_type": "code",
   "execution_count": 49,
   "id": "09128083-13ce-44f3-be54-68d247bfc1b8",
   "metadata": {},
   "outputs": [
    {
     "data": {
      "text/plain": [
       "0.0988"
      ]
     },
     "execution_count": 49,
     "metadata": {},
     "output_type": "execute_result"
    }
   ],
   "source": [
    "round(mean_squared_error(y_train, y_pred_neural), 4)"
   ]
  },
  {
   "cell_type": "markdown",
   "id": "e6e28614-90bb-4e12-a97a-a7bb26c5e643",
   "metadata": {},
   "source": [
    "Check correlation between predicted and actual response values, on the training dataset. Again, this chart looks pretty good."
   ]
  },
  {
   "cell_type": "code",
   "execution_count": 50,
   "id": "454be0e4-8a94-47d7-8eeb-d2b45fda53ef",
   "metadata": {},
   "outputs": [
    {
     "data": {
      "text/plain": [
       "[Text(0.5, 0, 'predicted'), Text(0, 0.5, 'actual')]"
      ]
     },
     "execution_count": 50,
     "metadata": {},
     "output_type": "execute_result"
    },
    {
     "data": {
      "image/png": "[encoded data removed]",
      "text/plain": [
       "<Figure size 640x480 with 1 Axes>"
      ]
     },
     "metadata": {},
     "output_type": "display_data"
    }
   ],
   "source": [
    "plot = sns.regplot(x=y_pred_neural, y=y_train)\n",
    "plot.set(xlabel=\"predicted\", ylabel=\"actual\")"
   ]
  },
  {
   "cell_type": "markdown",
   "id": "99c933a2-bfc2-43f1-9add-f69d602ece68",
   "metadata": {},
   "source": [
    "**Now lets predict the test set**"
   ]
  },
  {
   "cell_type": "markdown",
   "id": "e7fce062-5a84-4081-8f2e-0f0ce43cc4bc",
   "metadata": {},
   "source": [
    "First prediction without sampling... just use coefficients. Kind of a hassle to extract all these individually to recrate the neural network math... I'm trying to be careful.\n",
    "Hopefully no mistakes. :)\n",
    "\n",
    "With that said, given the problems with sampling the linear model, we want to try this to see if it provides better results."
   ]
  },
  {
   "cell_type": "code",
   "execution_count": 51,
   "id": "94b3cdf7-696f-43ab-aafc-94c5fbc97c62",
   "metadata": {},
   "outputs": [],
   "source": [
    "# LAYER 1\n",
    "pred_intercept_n10 = trace_neural.posterior.intercept_n10.mean().values.item()\n",
    "pred_intercept_n11 = trace_neural.posterior.intercept_n11.mean().values.item()\n",
    "pred_intercept_n12 = trace_neural.posterior.intercept_n12.mean().values.item()\n",
    "\n",
    "pred_coeffs_n10 = trace_neural.posterior.coeffs_n10.mean([\"chain\", \"draw\"]).values\n",
    "pred_coeffs_n11 = trace_neural.posterior.coeffs_n11.mean([\"chain\", \"draw\"]).values\n",
    "pred_coeffs_n12 = trace_neural.posterior.coeffs_n12.mean([\"chain\", \"draw\"]).values\n",
    "\n",
    "# Data X coefficients, then ReLU\n",
    "pred_out_n10 = np.maximum(0, pred_intercept_n10 + X_test @ pred_coeffs_n10)\n",
    "pred_out_n11 = np.maximum(0, pred_intercept_n11 + X_test @ pred_coeffs_n11)\n",
    "pred_out_n12 = np.maximum(0, pred_intercept_n12 + X_test @ pred_coeffs_n12)\n",
    "\n",
    "# LAYER 2\n",
    "pred_intercept_n20 = trace_neural.posterior.intercept_n20.mean().values.item()\n",
    "pred_coeff_n20_0 = trace_neural.posterior.coeff_n20_0.mean().values.item()\n",
    "pred_coeff_n20_1 = trace_neural.posterior.coeff_n20_1.mean().values.item()\n",
    "pred_coeff_n20_2 = trace_neural.posterior.coeff_n20_2.mean().values.item()\n",
    "\n",
    "y_pred_test_nosample_neural = (pred_intercept_n20 \n",
    "          + pred_out_n10 * pred_coeff_n20_0 \n",
    "          + pred_out_n11 * pred_coeff_n20_1\n",
    "          + pred_out_n12 * pred_coeff_n20_2)"
   ]
  },
  {
   "cell_type": "markdown",
   "id": "63f579eb-94a1-49e5-839f-ccee31403bfb",
   "metadata": {},
   "source": [
    "Get the MSE again."
   ]
  },
  {
   "cell_type": "code",
   "execution_count": 52,
   "id": "4a02a9fc-35b2-41f4-a6f8-24d4a81dc818",
   "metadata": {},
   "outputs": [
    {
     "data": {
      "text/plain": [
       "0.2357"
      ]
     },
     "execution_count": 52,
     "metadata": {},
     "output_type": "execute_result"
    }
   ],
   "source": [
    "round(mean_squared_error(y_test, y_pred_test_nosample_neural), 4)"
   ]
  },
  {
   "cell_type": "markdown",
   "id": "8811c4b7-517b-4a66-8f44-ce5e3c53db62",
   "metadata": {},
   "source": [
    "See how well predicted vs. actual response values align."
   ]
  },
  {
   "cell_type": "code",
   "execution_count": 53,
   "id": "d24eab29-cc8f-48ca-95a0-d89b71e33d7d",
   "metadata": {},
   "outputs": [
    {
     "data": {
      "text/plain": [
       "[Text(0.5, 0, 'predicted'), Text(0, 0.5, 'actual')]"
      ]
     },
     "execution_count": 53,
     "metadata": {},
     "output_type": "execute_result"
    },
    {
     "data": {
      "image/png": "[encoded data removed]",
      "text/plain": [
       "<Figure size 640x480 with 1 Axes>"
      ]
     },
     "metadata": {},
     "output_type": "display_data"
    }
   ],
   "source": [
    "plot = sns.regplot(x=y_pred_test_nosample_neural, y=y_test)\n",
    "plot.set(xlabel=\"predicted\", ylabel=\"actual\")"
   ]
  },
  {
   "cell_type": "markdown",
   "id": "1ce5b0ca-8eb0-45e5-b49b-305e16f0072a",
   "metadata": {},
   "source": [
    "Now predict using sampling  \n",
    "**We are now getting a much lower MSA values, and they seem more stable. The neural net seems to be much better at dealing with possible outliers and non-linearities than the linear model. It's still not perfect.**"
   ]
  },
  {
   "cell_type": "code",
   "execution_count": 54,
   "id": "70309047-8721-4834-9358-69f5fcfaa23c",
   "metadata": {},
   "outputs": [
    {
     "name": "stderr",
     "output_type": "stream",
     "text": [
      "Sampling: [age_of_tree, coeffs_n10, coeffs_n11, coeffs_n12]\n"
     ]
    },
    {
     "data": {
      "text/html": [
       "\n",
       "<style>\n",
       "    /* Turns off some styling */\n",
       "    progress {\n",
       "        /* gets rid of default border in Firefox and Opera. */\n",
       "        border: none;\n",
       "        /* Needs to be in here for Safari polyfill so background images work as expected. */\n",
       "        background-size: auto;\n",
       "    }\n",
       "    progress:not([value]), progress:not([value])::-webkit-progress-bar {\n",
       "        background: repeating-linear-gradient(45deg, #7e7e7e, #7e7e7e 10px, #5c5c5c 10px, #5c5c5c 20px);\n",
       "    }\n",
       "    .progress-bar-interrupted, .progress-bar-interrupted::-webkit-progress-bar {\n",
       "        background: #F44336;\n",
       "    }\n",
       "</style>\n"
      ],
      "text/plain": [
       "<IPython.core.display.HTML object>"
      ]
     },
     "metadata": {},
     "output_type": "display_data"
    },
    {
     "data": {
      "text/html": [
       "\n",
       "    <div>\n",
       "      <progress value='2000' class='' max='2000' style='width:300px; height:20px; vertical-align: middle;'></progress>\n",
       "      100.00% [2000/2000 00:00&lt;00:00]\n",
       "    </div>\n",
       "    "
      ],
      "text/plain": [
       "<IPython.core.display.HTML object>"
      ]
     },
     "metadata": {},
     "output_type": "display_data"
    }
   ],
   "source": [
    "with m_neural:\n",
    "    pm.set_data({\"X\": X_test, \"y\": y_test})\n",
    "    ppc_test_neural = pm.sample_posterior_predictive(trace_neural) #, predictions=True)\n",
    "    y_pred_test_neural = ppc_test_neural.posterior_predictive.stack(sample=(\"chain\", \"draw\"))[\"age_of_tree\"].values.T.mean(axis=0)"
   ]
  },
  {
   "cell_type": "code",
   "execution_count": 55,
   "id": "7f6b795c-84cf-41c6-9057-8713d1091946",
   "metadata": {
    "tags": []
   },
   "outputs": [
    {
     "data": {
      "text/plain": [
       "0.2797"
      ]
     },
     "execution_count": 55,
     "metadata": {},
     "output_type": "execute_result"
    }
   ],
   "source": [
    "round(mean_squared_error(y_test, y_pred_test_neural), 4)"
   ]
  },
  {
   "cell_type": "code",
   "execution_count": 56,
   "id": "fd18b5f4-3067-48a5-a4b4-b5691f6ef7b4",
   "metadata": {
    "tags": []
   },
   "outputs": [
    {
     "data": {
      "text/plain": [
       "[Text(0.5, 0, 'predicted'), Text(0, 0.5, 'actual')]"
      ]
     },
     "execution_count": 56,
     "metadata": {},
     "output_type": "execute_result"
    },
    {
     "data": {
      "image/png": "[encoded data removed]",
      "text/plain": [
       "<Figure size 640x480 with 1 Axes>"
      ]
     },
     "metadata": {},
     "output_type": "display_data"
    }
   ],
   "source": [
    "plot = sns.regplot(x=y_pred_test_neural, y=y_test)\n",
    "plot.set(xlabel=\"predicted\", ylabel=\"actual\")"
   ]
  },
  {
   "cell_type": "markdown",
   "id": "3f8fd398-1dd7-47dc-8522-b792efbacc0f",
   "metadata": {},
   "source": [
    "Try sampling again, to see how much result differs."
   ]
  },
  {
   "cell_type": "code",
   "execution_count": 57,
   "id": "b39c0e62-c622-4c6a-99ac-cca2091c28f5",
   "metadata": {},
   "outputs": [
    {
     "name": "stderr",
     "output_type": "stream",
     "text": [
      "Sampling: [age_of_tree, coeffs_n10, coeffs_n11, coeffs_n12]\n"
     ]
    },
    {
     "data": {
      "text/html": [
       "\n",
       "<style>\n",
       "    /* Turns off some styling */\n",
       "    progress {\n",
       "        /* gets rid of default border in Firefox and Opera. */\n",
       "        border: none;\n",
       "        /* Needs to be in here for Safari polyfill so background images work as expected. */\n",
       "        background-size: auto;\n",
       "    }\n",
       "    progress:not([value]), progress:not([value])::-webkit-progress-bar {\n",
       "        background: repeating-linear-gradient(45deg, #7e7e7e, #7e7e7e 10px, #5c5c5c 10px, #5c5c5c 20px);\n",
       "    }\n",
       "    .progress-bar-interrupted, .progress-bar-interrupted::-webkit-progress-bar {\n",
       "        background: #F44336;\n",
       "    }\n",
       "</style>\n"
      ],
      "text/plain": [
       "<IPython.core.display.HTML object>"
      ]
     },
     "metadata": {},
     "output_type": "display_data"
    },
    {
     "data": {
      "text/html": [
       "\n",
       "    <div>\n",
       "      <progress value='2000' class='' max='2000' style='width:300px; height:20px; vertical-align: middle;'></progress>\n",
       "      100.00% [2000/2000 00:00&lt;00:00]\n",
       "    </div>\n",
       "    "
      ],
      "text/plain": [
       "<IPython.core.display.HTML object>"
      ]
     },
     "metadata": {},
     "output_type": "display_data"
    }
   ],
   "source": [
    "with m_neural:\n",
    "    pm.set_data({\"X\": X_test, \"y\": y_test})\n",
    "    ppc_test_neural = pm.sample_posterior_predictive(trace_neural) #, predictions=True)\n",
    "    y_pred_test_neural = ppc_test_neural.posterior_predictive.stack(sample=(\"chain\", \"draw\"))[\"age_of_tree\"].values.T.mean(axis=0)"
   ]
  },
  {
   "cell_type": "markdown",
   "id": "f112e678-6948-4f7b-a841-bae25ba8e1f8",
   "metadata": {},
   "source": [
    "Second prediction for MSE after sampling again"
   ]
  },
  {
   "cell_type": "code",
   "execution_count": 58,
   "id": "9ed17ee0-6add-4aa5-ae8e-cdbfe63f434c",
   "metadata": {
    "tags": []
   },
   "outputs": [
    {
     "data": {
      "text/plain": [
       "0.2651"
      ]
     },
     "execution_count": 58,
     "metadata": {},
     "output_type": "execute_result"
    }
   ],
   "source": [
    "round(mean_squared_error(y_test, y_pred_test_neural), 4)"
   ]
  },
  {
   "cell_type": "code",
   "execution_count": 59,
   "id": "13c1f55e-3684-4030-895a-e13680994dfc",
   "metadata": {
    "tags": []
   },
   "outputs": [
    {
     "data": {
      "text/plain": [
       "[Text(0.5, 0, 'predicted'), Text(0, 0.5, 'actual')]"
      ]
     },
     "execution_count": 59,
     "metadata": {},
     "output_type": "execute_result"
    },
    {
     "data": {
      "image/png": "[encoded data removed]",
      "text/plain": [
       "<Figure size 640x480 with 1 Axes>"
      ]
     },
     "metadata": {},
     "output_type": "display_data"
    }
   ],
   "source": [
    "plot = sns.regplot(x=y_pred_test_neural, y=y_test)\n",
    "plot.set(xlabel=\"predicted\", ylabel=\"actual\")"
   ]
  },
  {
   "cell_type": "code",
   "execution_count": 60,
   "id": "b6cee149-e9a8-438a-9668-4fd5e8767987",
   "metadata": {},
   "outputs": [
    {
     "name": "stdout",
     "output_type": "stream",
     "text": [
      "Neural model runtime: 475.91 seconds\n"
     ]
    }
   ],
   "source": [
    "print(f\"Neural model runtime: {round(time.time() - neural_start, 2)} seconds\")"
   ]
  },
  {
   "cell_type": "markdown",
   "id": "0f0f0e16-bb21-4e46-a42c-6895fc64cbd0",
   "metadata": {},
   "source": [
    "## Fit Deep Neural Network Model"
   ]
  },
  {
   "cell_type": "markdown",
   "id": "36c09a11-3cb7-4582-a18e-8dca3638a95e",
   "metadata": {},
   "source": [
    "**Now let's try to expand our neural network a bit, and add a hidden layer. We will keep it small to limit computational complexity.**"
   ]
  },
  {
   "cell_type": "code",
   "execution_count": 61,
   "id": "e7998b45-dd72-440e-bb23-7bb9322a4e29",
   "metadata": {},
   "outputs": [],
   "source": [
    "d_neural_start = time.time()"
   ]
  },
  {
   "cell_type": "code",
   "execution_count": 62,
   "id": "4c53855b-dd71-4721-8fd0-e3b9c7dd1970",
   "metadata": {},
   "outputs": [
    {
     "name": "stderr",
     "output_type": "stream",
     "text": [
      "Auto-assigning NUTS sampler...\n",
      "Initializing NUTS using jitter+adapt_diag...\n",
      "Multiprocess sampling (4 chains in 4 jobs)\n",
      "NUTS: [intercept_n10, coeffs_n10, sigma_n10, intercept_n11, coeffs_n11, sigma_n11, intercept_n12, coeffs_n12, sigma_n12, intercept_n13, coeffs_n13, sigma_n13, intercept_n20, coeff_n20_0, coeff_n20_1, coeff_n20_2, coeff_n20_3, sigma_n20, intercept_n21, coeff_n21_0, coeff_n21_1, coeff_n21_2, coeff_n21_3, sigma_n21, intercept_n22, coeff_n22_0, coeff_n22_1, coeff_n22_2, coeff_n22_3, sigma_n22, intercept_n30, coeff_n30_0, coeff_n30_1, coeff_n30_2, sigma_n30]\n"
     ]
    },
    {
     "data": {
      "text/html": [
       "\n",
       "<style>\n",
       "    /* Turns off some styling */\n",
       "    progress {\n",
       "        /* gets rid of default border in Firefox and Opera. */\n",
       "        border: none;\n",
       "        /* Needs to be in here for Safari polyfill so background images work as expected. */\n",
       "        background-size: auto;\n",
       "    }\n",
       "    progress:not([value]), progress:not([value])::-webkit-progress-bar {\n",
       "        background: repeating-linear-gradient(45deg, #7e7e7e, #7e7e7e 10px, #5c5c5c 10px, #5c5c5c 20px);\n",
       "    }\n",
       "    .progress-bar-interrupted, .progress-bar-interrupted::-webkit-progress-bar {\n",
       "        background: #F44336;\n",
       "    }\n",
       "</style>\n"
      ],
      "text/plain": [
       "<IPython.core.display.HTML object>"
      ]
     },
     "metadata": {},
     "output_type": "display_data"
    },
    {
     "data": {
      "text/html": [
       "\n",
       "    <div>\n",
       "      <progress value='6000' class='' max='6000' style='width:300px; height:20px; vertical-align: middle;'></progress>\n",
       "      100.00% [6000/6000 19:19&lt;00:00 Sampling 4 chains, 0 divergences]\n",
       "    </div>\n",
       "    "
      ],
      "text/plain": [
       "<IPython.core.display.HTML object>"
      ]
     },
     "metadata": {},
     "output_type": "display_data"
    },
    {
     "name": "stderr",
     "output_type": "stream",
     "text": [
      "Sampling 4 chains for 1_000 tune and 500 draw iterations (4_000 + 2_000 draws total) took 1160 seconds.\n",
      "The rhat statistic is larger than 1.01 for some parameters. This indicates problems during sampling. See https://arxiv.org/abs/1903.08008 for details\n",
      "The effective sample size per chain is smaller than 100 for some parameters.  A higher number is needed for reliable rhat and ess computation. See https://arxiv.org/abs/1903.08008 for details\n",
      "Chain 0 reached the maximum tree depth. Increase `max_treedepth`, increase `target_accept` or reparameterize.\n",
      "Chain 1 reached the maximum tree depth. Increase `max_treedepth`, increase `target_accept` or reparameterize.\n",
      "Chain 2 reached the maximum tree depth. Increase `max_treedepth`, increase `target_accept` or reparameterize.\n",
      "Chain 3 reached the maximum tree depth. Increase `max_treedepth`, increase `target_accept` or reparameterize.\n",
      "Sampling: [age_of_tree]\n"
     ]
    },
    {
     "data": {
      "text/html": [
       "\n",
       "<style>\n",
       "    /* Turns off some styling */\n",
       "    progress {\n",
       "        /* gets rid of default border in Firefox and Opera. */\n",
       "        border: none;\n",
       "        /* Needs to be in here for Safari polyfill so background images work as expected. */\n",
       "        background-size: auto;\n",
       "    }\n",
       "    progress:not([value]), progress:not([value])::-webkit-progress-bar {\n",
       "        background: repeating-linear-gradient(45deg, #7e7e7e, #7e7e7e 10px, #5c5c5c 10px, #5c5c5c 20px);\n",
       "    }\n",
       "    .progress-bar-interrupted, .progress-bar-interrupted::-webkit-progress-bar {\n",
       "        background: #F44336;\n",
       "    }\n",
       "</style>\n"
      ],
      "text/plain": [
       "<IPython.core.display.HTML object>"
      ]
     },
     "metadata": {},
     "output_type": "display_data"
    },
    {
     "data": {
      "text/html": [
       "\n",
       "    <div>\n",
       "      <progress value='2000' class='' max='2000' style='width:300px; height:20px; vertical-align: middle;'></progress>\n",
       "      100.00% [2000/2000 00:00&lt;00:00]\n",
       "    </div>\n",
       "    "
      ],
      "text/plain": [
       "<IPython.core.display.HTML object>"
      ]
     },
     "metadata": {},
     "output_type": "display_data"
    }
   ],
   "source": [
    "# naming convention. N for neuron. First number is layer. Second is neuron number in that layer. \n",
    "# So n21 is the first neuron in layer 2.\n",
    "with pm.Model() as m_d_neural:\n",
    "    # associate data with model (this makes prediction easier)\n",
    "    X_data_dn = pm.Data(\"X\", X_train, mutable=True)\n",
    "    y_data_dn = pm.Data(\"y\", y_train, mutable=True)\n",
    "    \n",
    "    # LAYER 1\n",
    "    \n",
    "    # NEURON 1-0\n",
    "    intercept_dn10 = pm.StudentT(\"intercept_n10\", mu=0, sigma=5, nu=3)\n",
    "    coeffs_dn10 = pm.StudentT(\"coeffs_n10\", mu=0, sigma=5, nu=3, shape=X_data_dn.shape[1])\n",
    "    \n",
    "    mu_dn10 = intercept_dn10 + pm.math.dot(X_data_dn, coeffs_dn10)\n",
    "    \n",
    "    # ReLU function\n",
    "    out_dn10 = pm.Deterministic(\"out_n10\", pm.math.maximum(0, mu_dn10))\n",
    "        \n",
    "    sigma_dn10 = pm.HalfCauchy(\"sigma_n10\", beta=10)\n",
    "    \n",
    "\n",
    "    # NEURON 1-1\n",
    "    intercept_dn11 = pm.StudentT(\"intercept_n11\", mu=0, sigma=5, nu=3)\n",
    "    coeffs_dn11 = pm.StudentT(\"coeffs_n11\", mu=0, sigma=5, nu=3, shape=X_data_dn.shape[1])\n",
    "    \n",
    "    mu_dn11 = intercept_dn11 + pm.math.dot(X_data_dn, coeffs_dn11)\n",
    "    \n",
    "    # ReLU function\n",
    "    out_dn11 = pm.Deterministic(\"out_n11\", pm.math.maximum(0, mu_dn11))\n",
    "    sigma_dn11 = pm.HalfCauchy(\"sigma_n11\", beta=10)\n",
    "\n",
    "    \n",
    "    # NEURON 1-2\n",
    "    intercept_dn12 = pm.StudentT(\"intercept_n12\", mu=0, sigma=5, nu=3)\n",
    "    coeffs_dn12 = pm.StudentT(\"coeffs_n12\", mu=0, sigma=5, nu=3, shape=X_data_dn.shape[1])\n",
    "    \n",
    "    mu_dn12 = intercept_dn12 + pm.math.dot(X_data_dn, coeffs_dn12)\n",
    "    \n",
    "    # ReLU function\n",
    "    out_dn12 = pm.Deterministic(\"out_n12\", pm.math.maximum(0, mu_dn12))\n",
    "    \n",
    "    sigma_dn12 = pm.HalfCauchy(\"sigma_n12\", beta=10)\n",
    "\n",
    "    \n",
    "    # NEURON 1-3\n",
    "    intercept_dn13 = pm.StudentT(\"intercept_n13\", mu=0, sigma=5, nu=3)\n",
    "    coeffs_dn13 = pm.StudentT(\"coeffs_n13\", mu=0, sigma=5, nu=3, shape=X_data_dn.shape[1])\n",
    "    \n",
    "    mu_dn13 = intercept_dn13 + pm.math.dot(X_data_dn, coeffs_dn13)\n",
    "    \n",
    "    # ReLU function\n",
    "    out_dn13 = pm.Deterministic(\"out_n13\", pm.math.maximum(0, mu_dn13))\n",
    "    \n",
    "    sigma_dn13 = pm.HalfCauchy(\"sigma_n13\", beta=10)\n",
    "\n",
    "    \n",
    "    # LAYER 2 - HIDDEN LAYER\n",
    "    # NEURON 2-0\n",
    "    intercept_dn20 = pm.StudentT(\"intercept_n20\", mu=0, sigma=5, nu=3)\n",
    "    coeff_dn20_0 = pm.StudentT(\"coeff_n20_0\", mu=0, sigma=sigma_dn10, nu=3) # input coeff for neron 10\n",
    "    coeff_dn20_1 = pm.StudentT(\"coeff_n20_1\", mu=0, sigma=sigma_dn11, nu=3) # input coeff for neron 11\n",
    "    coeff_dn20_2 = pm.StudentT(\"coeff_n20_2\", mu=0, sigma=sigma_dn12, nu=3) # input coeff for neron 12\n",
    "    coeff_dn20_3 = pm.StudentT(\"coeff_n20_3\", mu=0, sigma=sigma_dn13, nu=3) # input coeff for neron 13\n",
    "\n",
    "    \n",
    "    # Had a hard time getting this to work as an array / dot product, so just do it manually\n",
    "    mu_dn20 = (intercept_dn20 \n",
    "              + out_dn10 * coeff_dn20_0 \n",
    "              + out_dn11 * coeff_dn20_1\n",
    "              + out_dn12 * coeff_dn20_2\n",
    "              + out_dn13 * coeff_dn20_3\n",
    "              )\n",
    "    \n",
    "    # ReLU function\n",
    "    out_dn20 = pm.Deterministic(\"out_dn20\", pm.math.maximum(0, mu_dn20))\n",
    "\n",
    "    sigma_dn20 = pm.HalfCauchy(\"sigma_n20\", beta=10)\n",
    "    \n",
    "    \n",
    "    # NEURON 2-1\n",
    "    intercept_dn21 = pm.StudentT(\"intercept_n21\", mu=0, sigma=5, nu=3)\n",
    "    coeff_dn21_0 = pm.StudentT(\"coeff_n21_0\", mu=0, sigma=sigma_dn10, nu=3) # input coeff for neron 10\n",
    "    coeff_dn21_1 = pm.StudentT(\"coeff_n21_1\", mu=0, sigma=sigma_dn11, nu=3) # input coeff for neron 11\n",
    "    coeff_dn21_2 = pm.StudentT(\"coeff_n21_2\", mu=0, sigma=sigma_dn12, nu=3) # input coeff for neron 12\n",
    "    coeff_dn21_3 = pm.StudentT(\"coeff_n21_3\", mu=0, sigma=sigma_dn13, nu=3) # input coeff for neron 13\n",
    "\n",
    "    \n",
    "    # Had a hard time getting this to work as an array / dot product, so just do it manually\n",
    "    mu_dn21 = (intercept_dn21 \n",
    "              + out_dn10 * coeff_dn21_0 \n",
    "              + out_dn11 * coeff_dn21_1\n",
    "              + out_dn12 * coeff_dn21_2\n",
    "              + out_dn13 * coeff_dn21_3\n",
    "              )\n",
    "\n",
    "    # ReLU function\n",
    "    out_dn21 = pm.Deterministic(\"out_dn21\", pm.math.maximum(0, mu_dn21))\n",
    "    \n",
    "    sigma_dn21 = pm.HalfCauchy(\"sigma_n21\", beta=10)\n",
    "    \n",
    "    \n",
    "    # NEURON 2-2\n",
    "    intercept_dn22 = pm.StudentT(\"intercept_n22\", mu=0, sigma=5, nu=3)\n",
    "    coeff_dn22_0 = pm.StudentT(\"coeff_n22_0\", mu=0, sigma=sigma_dn10, nu=3) # input coeff for neron 10\n",
    "    coeff_dn22_1 = pm.StudentT(\"coeff_n22_1\", mu=0, sigma=sigma_dn11, nu=3) # input coeff for neron 11\n",
    "    coeff_dn22_2 = pm.StudentT(\"coeff_n22_2\", mu=0, sigma=sigma_dn12, nu=3) # input coeff for neron 12\n",
    "    coeff_dn22_3 = pm.StudentT(\"coeff_n22_3\", mu=0, sigma=sigma_dn13, nu=3) # input coeff for neron 13\n",
    "\n",
    "    \n",
    "    # Had a hard time getting this to work as an array / dot product, so just do it manually\n",
    "    mu_dn22 = (intercept_dn22 \n",
    "              + out_dn10 * coeff_dn22_0 \n",
    "              + out_dn11 * coeff_dn22_1\n",
    "              + out_dn12 * coeff_dn22_2\n",
    "              + out_dn13 * coeff_dn22_3\n",
    "              )\n",
    "    \n",
    "    # ReLU function\n",
    "    out_dn22 = pm.Deterministic(\"out_dn22\", pm.math.maximum(0, mu_dn22))\n",
    "    \n",
    "    sigma_dn22 = pm.HalfCauchy(\"sigma_n22\", beta=10)\n",
    "    \n",
    "    \n",
    "    # LAYER 3 - OUTPUT (no ReLU, just straight linear regression)\n",
    "    # NEURON 3-0\n",
    "    intercept_dn30 = pm.StudentT(\"intercept_n30\", mu=0, sigma=5, nu=3)\n",
    "    coeff_dn30_0 = pm.StudentT(\"coeff_n30_0\", mu=0, sigma=sigma_dn20, nu=3) # input coeff for neron 20\n",
    "    coeff_dn30_1 = pm.StudentT(\"coeff_n30_1\", mu=0, sigma=sigma_dn21, nu=3) # input coeff for neron 21\n",
    "    coeff_dn30_2 = pm.StudentT(\"coeff_n30_2\", mu=0, sigma=sigma_dn22, nu=3) # input coeff for neron 22\n",
    "\n",
    "    \n",
    "    # Had a hard time getting this to work as an array / dot product, so just do it manually\n",
    "    mu_dn30 = (intercept_dn30 \n",
    "              + out_dn20 * coeff_dn30_0 \n",
    "              + out_dn21 * coeff_dn30_1\n",
    "              + out_dn22 * coeff_dn30_2\n",
    "              )\n",
    "\n",
    "    sigma_dn30 = pm.HalfCauchy(\"sigma_n30\", beta=10)    \n",
    "\n",
    "    # likelihood - just take linear combination as regression\n",
    "    pm.StudentT(\"age_of_tree\", mu=mu_dn30, sigma=sigma_dn30, nu=3, observed=y_data_dn)\n",
    "\n",
    "    # start sampling\n",
    "    trace_d_neural = pm.sample(d_neural_model_n_samples)\n",
    "    ppc_d_neural = pm.sample_posterior_predictive(trace_d_neural)\n",
    "    \n",
    "    y_pred_d_neural = ppc_d_neural.posterior_predictive.stack(sample=(\"chain\", \"draw\"))[\"age_of_tree\"].values.T.mean(axis=0)"
   ]
  },
  {
   "cell_type": "code",
   "execution_count": 63,
   "id": "bf8cff4e-c914-4a0e-b18b-71149b29ad13",
   "metadata": {},
   "outputs": [
    {
     "data": {
      "text/plain": [
       "(1500,)"
      ]
     },
     "execution_count": 63,
     "metadata": {},
     "output_type": "execute_result"
    }
   ],
   "source": [
    "y_pred_d_neural.shape"
   ]
  },
  {
   "cell_type": "code",
   "execution_count": 64,
   "id": "a51ed285-83cd-456b-a85c-752ac2c7495a",
   "metadata": {},
   "outputs": [],
   "source": [
    "# az.summary(trace_d_neural, hdi_prob=0.95) # Lots of warnings, and too many coefficients to display"
   ]
  },
  {
   "cell_type": "markdown",
   "id": "d237ae49-ca7b-4d9b-a999-fda9fc84a50f",
   "metadata": {},
   "source": [
    "Again, we will visualize the Markov Chain. Notice how this is looks like a neural net."
   ]
  },
  {
   "cell_type": "code",
   "execution_count": 65,
   "id": "e4b2eeca-7a7c-4eca-8b46-1bbdc20cd19f",
   "metadata": {},
   "outputs": [
    {
     "data": {
      "image/svg+xml": [
       "<?xml version=\"1.0\" encoding=\"UTF-8\" standalone=\"no\"?>\n",
       "<!DOCTYPE svg PUBLIC \"-//W3C//DTD SVG 1.1//EN\"\n",
       " \"http://www.w3.org/Graphics/SVG/1.1/DTD/svg11.dtd\">\n",
       "<!-- Generated by graphviz version 9.0.0 (20231125.0833)\n",
       " -->\n",
       "<!-- Pages: 1 -->\n",
       "<svg width=\"3097pt\" height=\"596pt\"\n",
       " viewBox=\"0.00 0.00 3097.45 595.77\" xmlns=\"http://www.w3.org/2000/svg\" xmlns:xlink=\"http://www.w3.org/1999/xlink\">\n",
       "<g id=\"graph0\" class=\"graph\" transform=\"scale(1 1) rotate(0) translate(4 591.77)\">\n",
       "<polygon fill=\"white\" stroke=\"none\" points=\"-4,4 -4,-591.77 3093.45,-591.77 3093.45,4 -4,4\"/>\n",
       "<g id=\"clust1\" class=\"cluster\">\n",
       "<title>cluster1500 x 10</title>\n",
       "<path fill=\"none\" stroke=\"black\" d=\"M20,-469.86C20,-469.86 100,-469.86 100,-469.86 106,-469.86 112,-475.86 112,-481.86 112,-481.86 112,-555.86 112,-555.86 112,-561.86 106,-567.86 100,-567.86 100,-567.86 20,-567.86 20,-567.86 14,-567.86 8,-561.86 8,-555.86 8,-555.86 8,-481.86 8,-481.86 8,-475.86 14,-469.86 20,-469.86\"/>\n",
       "<text text-anchor=\"middle\" x=\"76.62\" y=\"-477.06\" font-family=\"Times,serif\" font-size=\"14.00\">1500 x 10</text>\n",
       "</g>\n",
       "<g id=\"clust2\" class=\"cluster\">\n",
       "<title>cluster1500</title>\n",
       "<path fill=\"none\" stroke=\"black\" d=\"M201,-8C201,-8 607,-8 607,-8 613,-8 619,-14 619,-20 619,-20 619,-434.04 619,-434.04 619,-440.04 613,-446.04 607,-446.04 607,-446.04 201,-446.04 201,-446.04 195,-446.04 189,-440.04 189,-434.04 189,-434.04 189,-20 189,-20 189,-14 195,-8 201,-8\"/>\n",
       "<text text-anchor=\"middle\" x=\"597.5\" y=\"-15.2\" font-family=\"Times,serif\" font-size=\"14.00\">1500</text>\n",
       "</g>\n",
       "<g id=\"clust3\" class=\"cluster\">\n",
       "<title>cluster10</title>\n",
       "<path fill=\"none\" stroke=\"black\" d=\"M709,-457.95C709,-457.95 1184,-457.95 1184,-457.95 1190,-457.95 1196,-463.95 1196,-469.95 1196,-469.95 1196,-567.77 1196,-567.77 1196,-573.77 1190,-579.77 1184,-579.77 1184,-579.77 709,-579.77 709,-579.77 703,-579.77 697,-573.77 697,-567.77 697,-567.77 697,-469.95 697,-469.95 697,-463.95 703,-457.95 709,-457.95\"/>\n",
       "<text text-anchor=\"middle\" x=\"1181.25\" y=\"-465.15\" font-family=\"Times,serif\" font-size=\"14.00\">10</text>\n",
       "</g>\n",
       "<!-- X -->\n",
       "<g id=\"node1\" class=\"node\">\n",
       "<title>X</title>\n",
       "<path fill=\"lightgrey\" stroke=\"black\" d=\"M91.62,-559.86C91.62,-559.86 28.38,-559.86 28.38,-559.86 22.38,-559.86 16.38,-553.86 16.38,-547.86 16.38,-547.86 16.38,-514.36 16.38,-514.36 16.38,-508.36 22.38,-502.36 28.38,-502.36 28.38,-502.36 91.62,-502.36 91.62,-502.36 97.62,-502.36 103.62,-508.36 103.62,-514.36 103.62,-514.36 103.62,-547.86 103.62,-547.86 103.62,-553.86 97.62,-559.86 91.62,-559.86\"/>\n",
       "<text text-anchor=\"middle\" x=\"60\" y=\"-542.56\" font-family=\"Times,serif\" font-size=\"14.00\">X</text>\n",
       "<text text-anchor=\"middle\" x=\"60\" y=\"-526.06\" font-family=\"Times,serif\" font-size=\"14.00\">~</text>\n",
       "<text text-anchor=\"middle\" x=\"60\" y=\"-509.56\" font-family=\"Times,serif\" font-size=\"14.00\">MutableData</text>\n",
       "</g>\n",
       "<!-- out_n13 -->\n",
       "<g id=\"node2\" class=\"node\">\n",
       "<title>out_n13</title>\n",
       "<polygon fill=\"none\" stroke=\"black\" points=\"395.12,-438.04 304.88,-438.04 304.88,-380.54 395.12,-380.54 395.12,-438.04\"/>\n",
       "<text text-anchor=\"middle\" x=\"350\" y=\"-420.74\" font-family=\"Times,serif\" font-size=\"14.00\">out_n13</text>\n",
       "<text text-anchor=\"middle\" x=\"350\" y=\"-404.24\" font-family=\"Times,serif\" font-size=\"14.00\">~</text>\n",
       "<text text-anchor=\"middle\" x=\"350\" y=\"-387.74\" font-family=\"Times,serif\" font-size=\"14.00\">Deterministic</text>\n",
       "</g>\n",
       "<!-- X&#45;&gt;out_n13 -->\n",
       "<g id=\"edge12\" class=\"edge\">\n",
       "<title>X&#45;&gt;out_n13</title>\n",
       "<path fill=\"none\" stroke=\"black\" d=\"M72.35,-502.17C81,-486.23 94.2,-467.56 112,-457.95 148.02,-438.51 257.39,-463.54 296,-449.95 300.2,-448.47 304.35,-446.55 308.38,-444.35\"/>\n",
       "<polygon fill=\"black\" stroke=\"black\" points=\"310.09,-447.4 316.78,-439.19 306.42,-441.44 310.09,-447.4\"/>\n",
       "</g>\n",
       "<!-- out_n12 -->\n",
       "<g id=\"node6\" class=\"node\">\n",
       "<title>out_n12</title>\n",
       "<polygon fill=\"none\" stroke=\"black\" points=\"503.12,-438.04 412.88,-438.04 412.88,-380.54 503.12,-380.54 503.12,-438.04\"/>\n",
       "<text text-anchor=\"middle\" x=\"458\" y=\"-420.74\" font-family=\"Times,serif\" font-size=\"14.00\">out_n12</text>\n",
       "<text text-anchor=\"middle\" x=\"458\" y=\"-404.24\" font-family=\"Times,serif\" font-size=\"14.00\">~</text>\n",
       "<text text-anchor=\"middle\" x=\"458\" y=\"-387.74\" font-family=\"Times,serif\" font-size=\"14.00\">Deterministic</text>\n",
       "</g>\n",
       "<!-- X&#45;&gt;out_n12 -->\n",
       "<g id=\"edge10\" class=\"edge\">\n",
       "<title>X&#45;&gt;out_n12</title>\n",
       "<path fill=\"none\" stroke=\"black\" d=\"M72.3,-502.07C80.92,-486.09 94.12,-467.42 112,-457.95 140.69,-442.77 373.3,-460.48 404,-449.95 408.21,-448.51 412.37,-446.61 416.4,-444.42\"/>\n",
       "<polygon fill=\"black\" stroke=\"black\" points=\"418.1,-447.48 424.81,-439.28 414.45,-441.51 418.1,-447.48\"/>\n",
       "</g>\n",
       "<!-- out_n11 -->\n",
       "<g id=\"node7\" class=\"node\">\n",
       "<title>out_n11</title>\n",
       "<polygon fill=\"none\" stroke=\"black\" points=\"611.12,-438.04 520.88,-438.04 520.88,-380.54 611.12,-380.54 611.12,-438.04\"/>\n",
       "<text text-anchor=\"middle\" x=\"566\" y=\"-420.74\" font-family=\"Times,serif\" font-size=\"14.00\">out_n11</text>\n",
       "<text text-anchor=\"middle\" x=\"566\" y=\"-404.24\" font-family=\"Times,serif\" font-size=\"14.00\">~</text>\n",
       "<text text-anchor=\"middle\" x=\"566\" y=\"-387.74\" font-family=\"Times,serif\" font-size=\"14.00\">Deterministic</text>\n",
       "</g>\n",
       "<!-- X&#45;&gt;out_n11 -->\n",
       "<g id=\"edge7\" class=\"edge\">\n",
       "<title>X&#45;&gt;out_n11</title>\n",
       "<path fill=\"none\" stroke=\"black\" d=\"M72.27,-502.02C80.89,-486.02 94.09,-467.35 112,-457.95 131.68,-447.63 490.95,-457.09 512,-449.95 516.22,-448.52 520.38,-446.63 524.41,-444.46\"/>\n",
       "<polygon fill=\"black\" stroke=\"black\" points=\"526.11,-447.52 532.82,-439.33 522.46,-441.54 526.11,-447.52\"/>\n",
       "</g>\n",
       "<!-- out_n10 -->\n",
       "<g id=\"node9\" class=\"node\">\n",
       "<title>out_n10</title>\n",
       "<polygon fill=\"none\" stroke=\"black\" points=\"287.12,-438.04 196.88,-438.04 196.88,-380.54 287.12,-380.54 287.12,-438.04\"/>\n",
       "<text text-anchor=\"middle\" x=\"242\" y=\"-420.74\" font-family=\"Times,serif\" font-size=\"14.00\">out_n10</text>\n",
       "<text text-anchor=\"middle\" x=\"242\" y=\"-404.24\" font-family=\"Times,serif\" font-size=\"14.00\">~</text>\n",
       "<text text-anchor=\"middle\" x=\"242\" y=\"-387.74\" font-family=\"Times,serif\" font-size=\"14.00\">Deterministic</text>\n",
       "</g>\n",
       "<!-- X&#45;&gt;out_n10 -->\n",
       "<g id=\"edge3\" class=\"edge\">\n",
       "<title>X&#45;&gt;out_n10</title>\n",
       "<path fill=\"none\" stroke=\"black\" d=\"M74.83,-501.93C83.86,-487.09 96.62,-469.62 112,-457.95 133.59,-441.58 161.38,-430.38 185.71,-422.98\"/>\n",
       "<polygon fill=\"black\" stroke=\"black\" points=\"186.52,-426.39 195.16,-420.26 184.59,-419.66 186.52,-426.39\"/>\n",
       "</g>\n",
       "<!-- out_dn20 -->\n",
       "<g id=\"node3\" class=\"node\">\n",
       "<title>out_dn20</title>\n",
       "<polygon fill=\"none\" stroke=\"black\" points=\"395.12,-320.73 304.88,-320.73 304.88,-263.23 395.12,-263.23 395.12,-320.73\"/>\n",
       "<text text-anchor=\"middle\" x=\"350\" y=\"-303.43\" font-family=\"Times,serif\" font-size=\"14.00\">out_dn20</text>\n",
       "<text text-anchor=\"middle\" x=\"350\" y=\"-286.93\" font-family=\"Times,serif\" font-size=\"14.00\">~</text>\n",
       "<text text-anchor=\"middle\" x=\"350\" y=\"-270.43\" font-family=\"Times,serif\" font-size=\"14.00\">Deterministic</text>\n",
       "</g>\n",
       "<!-- out_n13&#45;&gt;out_dn20 -->\n",
       "<g id=\"edge19\" class=\"edge\">\n",
       "<title>out_n13&#45;&gt;out_dn20</title>\n",
       "<path fill=\"none\" stroke=\"black\" d=\"M350,-380.08C350,-365.74 350,-348.07 350,-332.4\"/>\n",
       "<polygon fill=\"black\" stroke=\"black\" points=\"353.5,-332.41 350,-322.41 346.5,-332.41 353.5,-332.41\"/>\n",
       "</g>\n",
       "<!-- out_dn22 -->\n",
       "<g id=\"node5\" class=\"node\">\n",
       "<title>out_dn22</title>\n",
       "<polygon fill=\"none\" stroke=\"black\" points=\"503.12,-320.73 412.88,-320.73 412.88,-263.23 503.12,-263.23 503.12,-320.73\"/>\n",
       "<text text-anchor=\"middle\" x=\"458\" y=\"-303.43\" font-family=\"Times,serif\" font-size=\"14.00\">out_dn22</text>\n",
       "<text text-anchor=\"middle\" x=\"458\" y=\"-286.93\" font-family=\"Times,serif\" font-size=\"14.00\">~</text>\n",
       "<text text-anchor=\"middle\" x=\"458\" y=\"-270.43\" font-family=\"Times,serif\" font-size=\"14.00\">Deterministic</text>\n",
       "</g>\n",
       "<!-- out_n13&#45;&gt;out_dn22 -->\n",
       "<g id=\"edge45\" class=\"edge\">\n",
       "<title>out_n13&#45;&gt;out_dn22</title>\n",
       "<path fill=\"none\" stroke=\"black\" d=\"M376.42,-380.08C390.78,-364.75 408.69,-345.62 424.07,-329.2\"/>\n",
       "<polygon fill=\"black\" stroke=\"black\" points=\"426.54,-331.69 430.82,-322 421.43,-326.91 426.54,-331.69\"/>\n",
       "</g>\n",
       "<!-- out_dn21 -->\n",
       "<g id=\"node10\" class=\"node\">\n",
       "<title>out_dn21</title>\n",
       "<polygon fill=\"none\" stroke=\"black\" points=\"611.12,-320.73 520.88,-320.73 520.88,-263.23 611.12,-263.23 611.12,-320.73\"/>\n",
       "<text text-anchor=\"middle\" x=\"566\" y=\"-303.43\" font-family=\"Times,serif\" font-size=\"14.00\">out_dn21</text>\n",
       "<text text-anchor=\"middle\" x=\"566\" y=\"-286.93\" font-family=\"Times,serif\" font-size=\"14.00\">~</text>\n",
       "<text text-anchor=\"middle\" x=\"566\" y=\"-270.43\" font-family=\"Times,serif\" font-size=\"14.00\">Deterministic</text>\n",
       "</g>\n",
       "<!-- out_n13&#45;&gt;out_dn21 -->\n",
       "<g id=\"edge33\" class=\"edge\">\n",
       "<title>out_n13&#45;&gt;out_dn21</title>\n",
       "<path fill=\"none\" stroke=\"black\" d=\"M385,-380.2C391.13,-375.98 397.6,-371.95 404,-368.63 448.93,-345.38 467.07,-355.89 512,-332.63 515.2,-330.98 518.42,-329.14 521.6,-327.19\"/>\n",
       "<polygon fill=\"black\" stroke=\"black\" points=\"523.26,-330.29 529.73,-321.9 519.44,-324.42 523.26,-330.29\"/>\n",
       "</g>\n",
       "<!-- age_of_tree -->\n",
       "<g id=\"node4\" class=\"node\">\n",
       "<title>age_of_tree</title>\n",
       "<ellipse fill=\"lightgrey\" stroke=\"black\" cx=\"555\" cy=\"-174.66\" rx=\"56.39\" ry=\"40.66\"/>\n",
       "<text text-anchor=\"middle\" x=\"555\" y=\"-186.11\" font-family=\"Times,serif\" font-size=\"14.00\">age_of_tree</text>\n",
       "<text text-anchor=\"middle\" x=\"555\" y=\"-169.61\" font-family=\"Times,serif\" font-size=\"14.00\">~</text>\n",
       "<text text-anchor=\"middle\" x=\"555\" y=\"-153.11\" font-family=\"Times,serif\" font-size=\"14.00\">StudentT</text>\n",
       "</g>\n",
       "<!-- out_dn20&#45;&gt;age_of_tree -->\n",
       "<g id=\"edge59\" class=\"edge\">\n",
       "<title>out_dn20&#45;&gt;age_of_tree</title>\n",
       "<path fill=\"none\" stroke=\"black\" d=\"M386.61,-262.82C392.33,-258.8 398.24,-254.84 404,-251.32 433.74,-233.13 468.43,-215.51 497.05,-201.86\"/>\n",
       "<polygon fill=\"black\" stroke=\"black\" points=\"498.39,-205.1 505.93,-197.67 495.4,-198.77 498.39,-205.1\"/>\n",
       "</g>\n",
       "<!-- y -->\n",
       "<g id=\"node8\" class=\"node\">\n",
       "<title>y</title>\n",
       "<path fill=\"lightgrey\" stroke=\"black\" d=\"M586.62,-98C586.62,-98 523.38,-98 523.38,-98 517.38,-98 511.38,-92 511.38,-86 511.38,-86 511.38,-52.5 511.38,-52.5 511.38,-46.5 517.38,-40.5 523.38,-40.5 523.38,-40.5 586.62,-40.5 586.62,-40.5 592.62,-40.5 598.62,-46.5 598.62,-52.5 598.62,-52.5 598.62,-86 598.62,-86 598.62,-92 592.62,-98 586.62,-98\"/>\n",
       "<text text-anchor=\"middle\" x=\"555\" y=\"-80.7\" font-family=\"Times,serif\" font-size=\"14.00\">y</text>\n",
       "<text text-anchor=\"middle\" x=\"555\" y=\"-64.2\" font-family=\"Times,serif\" font-size=\"14.00\">~</text>\n",
       "<text text-anchor=\"middle\" x=\"555\" y=\"-47.7\" font-family=\"Times,serif\" font-size=\"14.00\">MutableData</text>\n",
       "</g>\n",
       "<!-- age_of_tree&#45;&gt;y -->\n",
       "<g id=\"edge1\" class=\"edge\">\n",
       "<title>age_of_tree&#45;&gt;y</title>\n",
       "<path fill=\"none\" stroke=\"black\" d=\"M555,-133.68C555,-125.83 555,-117.6 555,-109.76\"/>\n",
       "<polygon fill=\"black\" stroke=\"black\" points=\"558.5,-109.79 555,-99.79 551.5,-109.79 558.5,-109.79\"/>\n",
       "</g>\n",
       "<!-- out_dn22&#45;&gt;age_of_tree -->\n",
       "<g id=\"edge60\" class=\"edge\">\n",
       "<title>out_dn22&#45;&gt;age_of_tree</title>\n",
       "<path fill=\"none\" stroke=\"black\" d=\"M481.73,-262.77C492.98,-249.39 506.67,-233.12 519.15,-218.28\"/>\n",
       "<polygon fill=\"black\" stroke=\"black\" points=\"521.6,-220.8 525.36,-210.9 516.24,-216.3 521.6,-220.8\"/>\n",
       "</g>\n",
       "<!-- out_n12&#45;&gt;out_dn20 -->\n",
       "<g id=\"edge22\" class=\"edge\">\n",
       "<title>out_n12&#45;&gt;out_dn20</title>\n",
       "<path fill=\"none\" stroke=\"black\" d=\"M431.58,-380.08C417.22,-364.75 399.31,-345.62 383.93,-329.2\"/>\n",
       "<polygon fill=\"black\" stroke=\"black\" points=\"386.57,-326.91 377.18,-322 381.46,-331.69 386.57,-326.91\"/>\n",
       "</g>\n",
       "<!-- out_n12&#45;&gt;out_dn22 -->\n",
       "<g id=\"edge49\" class=\"edge\">\n",
       "<title>out_n12&#45;&gt;out_dn22</title>\n",
       "<path fill=\"none\" stroke=\"black\" d=\"M458,-380.08C458,-365.74 458,-348.07 458,-332.4\"/>\n",
       "<polygon fill=\"black\" stroke=\"black\" points=\"461.5,-332.41 458,-322.41 454.5,-332.41 461.5,-332.41\"/>\n",
       "</g>\n",
       "<!-- out_n12&#45;&gt;out_dn21 -->\n",
       "<g id=\"edge35\" class=\"edge\">\n",
       "<title>out_n12&#45;&gt;out_dn21</title>\n",
       "<path fill=\"none\" stroke=\"black\" d=\"M484.42,-380.08C498.78,-364.75 516.69,-345.62 532.07,-329.2\"/>\n",
       "<polygon fill=\"black\" stroke=\"black\" points=\"534.54,-331.69 538.82,-322 529.43,-326.91 534.54,-331.69\"/>\n",
       "</g>\n",
       "<!-- out_n11&#45;&gt;out_dn20 -->\n",
       "<g id=\"edge23\" class=\"edge\">\n",
       "<title>out_n11&#45;&gt;out_dn20</title>\n",
       "<path fill=\"none\" stroke=\"black\" d=\"M531,-380.2C524.87,-375.98 518.4,-371.95 512,-368.63 467.07,-345.38 448.93,-355.89 404,-332.63 400.8,-330.98 397.58,-329.14 394.4,-327.19\"/>\n",
       "<polygon fill=\"black\" stroke=\"black\" points=\"396.56,-324.42 386.27,-321.9 392.74,-330.29 396.56,-324.42\"/>\n",
       "</g>\n",
       "<!-- out_n11&#45;&gt;out_dn22 -->\n",
       "<g id=\"edge50\" class=\"edge\">\n",
       "<title>out_n11&#45;&gt;out_dn22</title>\n",
       "<path fill=\"none\" stroke=\"black\" d=\"M539.58,-380.08C525.22,-364.75 507.31,-345.62 491.93,-329.2\"/>\n",
       "<polygon fill=\"black\" stroke=\"black\" points=\"494.57,-326.91 485.18,-322 489.46,-331.69 494.57,-326.91\"/>\n",
       "</g>\n",
       "<!-- out_n11&#45;&gt;out_dn21 -->\n",
       "<g id=\"edge36\" class=\"edge\">\n",
       "<title>out_n11&#45;&gt;out_dn21</title>\n",
       "<path fill=\"none\" stroke=\"black\" d=\"M566,-380.08C566,-365.74 566,-348.07 566,-332.4\"/>\n",
       "<polygon fill=\"black\" stroke=\"black\" points=\"569.5,-332.41 566,-322.41 562.5,-332.41 569.5,-332.41\"/>\n",
       "</g>\n",
       "<!-- out_n10&#45;&gt;out_dn20 -->\n",
       "<g id=\"edge25\" class=\"edge\">\n",
       "<title>out_n10&#45;&gt;out_dn20</title>\n",
       "<path fill=\"none\" stroke=\"black\" d=\"M268.42,-380.08C282.78,-364.75 300.69,-345.62 316.07,-329.2\"/>\n",
       "<polygon fill=\"black\" stroke=\"black\" points=\"318.54,-331.69 322.82,-322 313.43,-326.91 318.54,-331.69\"/>\n",
       "</g>\n",
       "<!-- out_n10&#45;&gt;out_dn22 -->\n",
       "<g id=\"edge51\" class=\"edge\">\n",
       "<title>out_n10&#45;&gt;out_dn22</title>\n",
       "<path fill=\"none\" stroke=\"black\" d=\"M277,-380.2C283.13,-375.98 289.6,-371.95 296,-368.63 340.93,-345.38 359.07,-355.89 404,-332.63 407.2,-330.98 410.42,-329.14 413.6,-327.19\"/>\n",
       "<polygon fill=\"black\" stroke=\"black\" points=\"415.26,-330.29 421.73,-321.9 411.44,-324.42 415.26,-330.29\"/>\n",
       "</g>\n",
       "<!-- out_n10&#45;&gt;out_dn21 -->\n",
       "<g id=\"edge38\" class=\"edge\">\n",
       "<title>out_n10&#45;&gt;out_dn21</title>\n",
       "<path fill=\"none\" stroke=\"black\" d=\"M275.39,-380.12C281.91,-375.7 288.93,-371.62 296,-368.63 385.67,-330.8 422.33,-370.47 512,-332.63 515.76,-331.05 519.5,-329.15 523.16,-327.06\"/>\n",
       "<polygon fill=\"black\" stroke=\"black\" points=\"524.7,-330.23 531.32,-321.96 520.99,-324.29 524.7,-330.23\"/>\n",
       "</g>\n",
       "<!-- out_dn21&#45;&gt;age_of_tree -->\n",
       "<g id=\"edge62\" class=\"edge\">\n",
       "<title>out_dn21&#45;&gt;age_of_tree</title>\n",
       "<path fill=\"none\" stroke=\"black\" d=\"M563.31,-262.77C562.27,-251.84 561.04,-238.99 559.86,-226.56\"/>\n",
       "<polygon fill=\"black\" stroke=\"black\" points=\"563.36,-226.46 558.93,-216.84 556.39,-227.13 563.36,-226.46\"/>\n",
       "</g>\n",
       "<!-- intercept_n30 -->\n",
       "<g id=\"node11\" class=\"node\">\n",
       "<title>intercept_n30</title>\n",
       "<ellipse fill=\"none\" stroke=\"black\" cx=\"1237\" cy=\"-291.98\" rx=\"63.82\" ry=\"40.66\"/>\n",
       "<text text-anchor=\"middle\" x=\"1237\" y=\"-303.43\" font-family=\"Times,serif\" font-size=\"14.00\">intercept_n30</text>\n",
       "<text text-anchor=\"middle\" x=\"1237\" y=\"-286.93\" font-family=\"Times,serif\" font-size=\"14.00\">~</text>\n",
       "<text text-anchor=\"middle\" x=\"1237\" y=\"-270.43\" font-family=\"Times,serif\" font-size=\"14.00\">StudentT</text>\n",
       "</g>\n",
       "<!-- intercept_n30&#45;&gt;age_of_tree -->\n",
       "<g id=\"edge57\" class=\"edge\">\n",
       "<title>intercept_n30&#45;&gt;age_of_tree</title>\n",
       "<path fill=\"none\" stroke=\"black\" d=\"M1192.09,-262.87C1183.36,-258.39 1174.1,-254.27 1165,-251.32 975.34,-189.84 737.61,-177.8 622.99,-175.78\"/>\n",
       "<polygon fill=\"black\" stroke=\"black\" points=\"623.19,-172.28 613.14,-175.63 623.08,-179.28 623.19,-172.28\"/>\n",
       "</g>\n",
       "<!-- coeff_n22_0 -->\n",
       "<g id=\"node12\" class=\"node\">\n",
       "<title>coeff_n22_0</title>\n",
       "<ellipse fill=\"none\" stroke=\"black\" cx=\"1801\" cy=\"-409.29\" rx=\"59.57\" ry=\"40.66\"/>\n",
       "<text text-anchor=\"middle\" x=\"1801\" y=\"-420.74\" font-family=\"Times,serif\" font-size=\"14.00\">coeff_n22_0</text>\n",
       "<text text-anchor=\"middle\" x=\"1801\" y=\"-404.24\" font-family=\"Times,serif\" font-size=\"14.00\">~</text>\n",
       "<text text-anchor=\"middle\" x=\"1801\" y=\"-387.74\" font-family=\"Times,serif\" font-size=\"14.00\">StudentT</text>\n",
       "</g>\n",
       "<!-- coeff_n22_0&#45;&gt;out_dn22 -->\n",
       "<g id=\"edge47\" class=\"edge\">\n",
       "<title>coeff_n22_0&#45;&gt;out_dn22</title>\n",
       "<path fill=\"none\" stroke=\"black\" d=\"M1759.3,-379.68C1750.92,-375.19 1741.93,-371.19 1733,-368.63 1472.03,-293.95 768.68,-420.97 512,-332.63 507.79,-331.19 503.63,-329.28 499.6,-327.1\"/>\n",
       "<polygon fill=\"black\" stroke=\"black\" points=\"501.55,-324.18 491.19,-321.95 497.9,-330.16 501.55,-324.18\"/>\n",
       "</g>\n",
       "<!-- coeff_n20_3 -->\n",
       "<g id=\"node13\" class=\"node\">\n",
       "<title>coeff_n20_3</title>\n",
       "<ellipse fill=\"none\" stroke=\"black\" cx=\"971\" cy=\"-409.29\" rx=\"59.57\" ry=\"40.66\"/>\n",
       "<text text-anchor=\"middle\" x=\"971\" y=\"-420.74\" font-family=\"Times,serif\" font-size=\"14.00\">coeff_n20_3</text>\n",
       "<text text-anchor=\"middle\" x=\"971\" y=\"-404.24\" font-family=\"Times,serif\" font-size=\"14.00\">~</text>\n",
       "<text text-anchor=\"middle\" x=\"971\" y=\"-387.74\" font-family=\"Times,serif\" font-size=\"14.00\">StudentT</text>\n",
       "</g>\n",
       "<!-- coeff_n20_3&#45;&gt;out_dn20 -->\n",
       "<g id=\"edge21\" class=\"edge\">\n",
       "<title>coeff_n20_3&#45;&gt;out_dn20</title>\n",
       "<path fill=\"none\" stroke=\"black\" d=\"M929.21,-379.99C920.84,-375.47 911.88,-371.38 903,-368.63 690.58,-302.92 612.66,-409.45 404,-332.63 399.88,-331.12 395.8,-329.19 391.84,-327\"/>\n",
       "<polygon fill=\"black\" stroke=\"black\" points=\"393.93,-324.17 383.58,-321.9 390.25,-330.13 393.93,-324.17\"/>\n",
       "</g>\n",
       "<!-- intercept_n10 -->\n",
       "<g id=\"node14\" class=\"node\">\n",
       "<title>intercept_n10</title>\n",
       "<ellipse fill=\"none\" stroke=\"black\" cx=\"185\" cy=\"-531.11\" rx=\"63.82\" ry=\"40.66\"/>\n",
       "<text text-anchor=\"middle\" x=\"185\" y=\"-542.56\" font-family=\"Times,serif\" font-size=\"14.00\">intercept_n10</text>\n",
       "<text text-anchor=\"middle\" x=\"185\" y=\"-526.06\" font-family=\"Times,serif\" font-size=\"14.00\">~</text>\n",
       "<text text-anchor=\"middle\" x=\"185\" y=\"-509.56\" font-family=\"Times,serif\" font-size=\"14.00\">StudentT</text>\n",
       "</g>\n",
       "<!-- intercept_n10&#45;&gt;out_n10 -->\n",
       "<g id=\"edge2\" class=\"edge\">\n",
       "<title>intercept_n10&#45;&gt;out_n10</title>\n",
       "<path fill=\"none\" stroke=\"black\" d=\"M203.19,-491.87C209.79,-478.01 217.23,-462.36 223.83,-448.5\"/>\n",
       "<polygon fill=\"black\" stroke=\"black\" points=\"226.89,-450.21 228.02,-439.67 220.57,-447.2 226.89,-450.21\"/>\n",
       "</g>\n",
       "<!-- intercept_n13 -->\n",
       "<g id=\"node15\" class=\"node\">\n",
       "<title>intercept_n13</title>\n",
       "<ellipse fill=\"none\" stroke=\"black\" cx=\"331\" cy=\"-531.11\" rx=\"63.82\" ry=\"40.66\"/>\n",
       "<text text-anchor=\"middle\" x=\"331\" y=\"-542.56\" font-family=\"Times,serif\" font-size=\"14.00\">intercept_n13</text>\n",
       "<text text-anchor=\"middle\" x=\"331\" y=\"-526.06\" font-family=\"Times,serif\" font-size=\"14.00\">~</text>\n",
       "<text text-anchor=\"middle\" x=\"331\" y=\"-509.56\" font-family=\"Times,serif\" font-size=\"14.00\">StudentT</text>\n",
       "</g>\n",
       "<!-- intercept_n13&#45;&gt;out_n13 -->\n",
       "<g id=\"edge13\" class=\"edge\">\n",
       "<title>intercept_n13&#45;&gt;out_n13</title>\n",
       "<path fill=\"none\" stroke=\"black\" d=\"M337.33,-490.21C339.41,-477.05 341.73,-462.43 343.81,-449.33\"/>\n",
       "<polygon fill=\"black\" stroke=\"black\" points=\"347.21,-450.21 345.32,-439.78 340.3,-449.11 347.21,-450.21\"/>\n",
       "</g>\n",
       "<!-- coeff_n21_1 -->\n",
       "<g id=\"node16\" class=\"node\">\n",
       "<title>coeff_n21_1</title>\n",
       "<ellipse fill=\"none\" stroke=\"black\" cx=\"1938\" cy=\"-409.29\" rx=\"59.57\" ry=\"40.66\"/>\n",
       "<text text-anchor=\"middle\" x=\"1938\" y=\"-420.74\" font-family=\"Times,serif\" font-size=\"14.00\">coeff_n21_1</text>\n",
       "<text text-anchor=\"middle\" x=\"1938\" y=\"-404.24\" font-family=\"Times,serif\" font-size=\"14.00\">~</text>\n",
       "<text text-anchor=\"middle\" x=\"1938\" y=\"-387.74\" font-family=\"Times,serif\" font-size=\"14.00\">StudentT</text>\n",
       "</g>\n",
       "<!-- coeff_n21_1&#45;&gt;out_dn21 -->\n",
       "<g id=\"edge39\" class=\"edge\">\n",
       "<title>coeff_n21_1&#45;&gt;out_dn21</title>\n",
       "<path fill=\"none\" stroke=\"black\" d=\"M1896.3,-379.67C1887.92,-375.18 1878.94,-371.19 1870,-368.63 1603.02,-292.33 883.98,-421.76 621,-332.63 616.73,-331.19 612.51,-329.29 608.42,-327.1\"/>\n",
       "<polygon fill=\"black\" stroke=\"black\" points=\"610.22,-324.1 599.85,-321.95 606.62,-330.1 610.22,-324.1\"/>\n",
       "</g>\n",
       "<!-- coeff_n20_1 -->\n",
       "<g id=\"node17\" class=\"node\">\n",
       "<title>coeff_n20_1</title>\n",
       "<ellipse fill=\"none\" stroke=\"black\" cx=\"834\" cy=\"-409.29\" rx=\"59.57\" ry=\"40.66\"/>\n",
       "<text text-anchor=\"middle\" x=\"834\" y=\"-420.74\" font-family=\"Times,serif\" font-size=\"14.00\">coeff_n20_1</text>\n",
       "<text text-anchor=\"middle\" x=\"834\" y=\"-404.24\" font-family=\"Times,serif\" font-size=\"14.00\">~</text>\n",
       "<text text-anchor=\"middle\" x=\"834\" y=\"-387.74\" font-family=\"Times,serif\" font-size=\"14.00\">StudentT</text>\n",
       "</g>\n",
       "<!-- coeff_n20_1&#45;&gt;out_dn20 -->\n",
       "<g id=\"edge26\" class=\"edge\">\n",
       "<title>coeff_n20_1&#45;&gt;out_dn20</title>\n",
       "<path fill=\"none\" stroke=\"black\" d=\"M792.15,-380.18C783.78,-375.64 774.84,-371.5 766,-368.63 612.2,-318.76 554.96,-390.54 404,-332.63 400.08,-331.13 396.19,-329.26 392.4,-327.16\"/>\n",
       "<polygon fill=\"black\" stroke=\"black\" points=\"394.28,-324.21 383.93,-321.94 390.61,-330.17 394.28,-324.21\"/>\n",
       "</g>\n",
       "<!-- sigma_n11 -->\n",
       "<g id=\"node18\" class=\"node\">\n",
       "<title>sigma_n11</title>\n",
       "<ellipse fill=\"none\" stroke=\"black\" cx=\"1527\" cy=\"-531.11\" rx=\"57.45\" ry=\"40.66\"/>\n",
       "<text text-anchor=\"middle\" x=\"1527\" y=\"-542.56\" font-family=\"Times,serif\" font-size=\"14.00\">sigma_n11</text>\n",
       "<text text-anchor=\"middle\" x=\"1527\" y=\"-526.06\" font-family=\"Times,serif\" font-size=\"14.00\">~</text>\n",
       "<text text-anchor=\"middle\" x=\"1527\" y=\"-509.56\" font-family=\"Times,serif\" font-size=\"14.00\">HalfCauchy</text>\n",
       "</g>\n",
       "<!-- sigma_n11&#45;&gt;coeff_n21_1 -->\n",
       "<g id=\"edge28\" class=\"edge\">\n",
       "<title>sigma_n11&#45;&gt;coeff_n21_1</title>\n",
       "<path fill=\"none\" stroke=\"black\" d=\"M1552.32,-494.39C1564.4,-480.36 1580.12,-465.75 1598,-457.95 1625.71,-445.86 1840.93,-458.27 1870,-449.95 1875.44,-448.39 1880.91,-446.3 1886.24,-443.89\"/>\n",
       "<polygon fill=\"black\" stroke=\"black\" points=\"1887.54,-447.15 1894.94,-439.58 1884.43,-440.88 1887.54,-447.15\"/>\n",
       "</g>\n",
       "<!-- sigma_n11&#45;&gt;coeff_n20_1 -->\n",
       "<g id=\"edge15\" class=\"edge\">\n",
       "<title>sigma_n11&#45;&gt;coeff_n20_1</title>\n",
       "<path fill=\"none\" stroke=\"black\" d=\"M1473.73,-515.07C1409.45,-497.69 1297.81,-469.95 1200,-457.95 1167.12,-453.92 933.86,-459.02 902,-449.95 896.47,-448.38 890.93,-446.25 885.52,-443.8\"/>\n",
       "<polygon fill=\"black\" stroke=\"black\" points=\"887.19,-440.72 876.68,-439.4 884.08,-446.99 887.19,-440.72\"/>\n",
       "</g>\n",
       "<!-- coeff_n22_1 -->\n",
       "<g id=\"node39\" class=\"node\">\n",
       "<title>coeff_n22_1</title>\n",
       "<ellipse fill=\"none\" stroke=\"black\" cx=\"1527\" cy=\"-409.29\" rx=\"59.57\" ry=\"40.66\"/>\n",
       "<text text-anchor=\"middle\" x=\"1527\" y=\"-420.74\" font-family=\"Times,serif\" font-size=\"14.00\">coeff_n22_1</text>\n",
       "<text text-anchor=\"middle\" x=\"1527\" y=\"-404.24\" font-family=\"Times,serif\" font-size=\"14.00\">~</text>\n",
       "<text text-anchor=\"middle\" x=\"1527\" y=\"-387.74\" font-family=\"Times,serif\" font-size=\"14.00\">StudentT</text>\n",
       "</g>\n",
       "<!-- sigma_n11&#45;&gt;coeff_n22_1 -->\n",
       "<g id=\"edge41\" class=\"edge\">\n",
       "<title>sigma_n11&#45;&gt;coeff_n22_1</title>\n",
       "<path fill=\"none\" stroke=\"black\" d=\"M1527,-490.21C1527,-481.11 1527,-471.32 1527,-461.81\"/>\n",
       "<polygon fill=\"black\" stroke=\"black\" points=\"1530.5,-461.94 1527,-451.94 1523.5,-461.94 1530.5,-461.94\"/>\n",
       "</g>\n",
       "<!-- coeff_n21_0 -->\n",
       "<g id=\"node19\" class=\"node\">\n",
       "<title>coeff_n21_0</title>\n",
       "<ellipse fill=\"none\" stroke=\"black\" cx=\"2631\" cy=\"-409.29\" rx=\"59.57\" ry=\"40.66\"/>\n",
       "<text text-anchor=\"middle\" x=\"2631\" y=\"-420.74\" font-family=\"Times,serif\" font-size=\"14.00\">coeff_n21_0</text>\n",
       "<text text-anchor=\"middle\" x=\"2631\" y=\"-404.24\" font-family=\"Times,serif\" font-size=\"14.00\">~</text>\n",
       "<text text-anchor=\"middle\" x=\"2631\" y=\"-387.74\" font-family=\"Times,serif\" font-size=\"14.00\">StudentT</text>\n",
       "</g>\n",
       "<!-- coeff_n21_0&#45;&gt;out_dn21 -->\n",
       "<g id=\"edge32\" class=\"edge\">\n",
       "<title>coeff_n21_0&#45;&gt;out_dn21</title>\n",
       "<path fill=\"none\" stroke=\"black\" d=\"M2589.69,-379.8C2581.21,-375.23 2572.08,-371.18 2563,-368.63 2355.19,-310.39 825.75,-400.86 621,-332.63 616.54,-331.15 612.13,-329.16 607.87,-326.86\"/>\n",
       "<polygon fill=\"black\" stroke=\"black\" points=\"609.9,-324 599.53,-321.82 606.27,-329.99 609.9,-324\"/>\n",
       "</g>\n",
       "<!-- sigma_n21 -->\n",
       "<g id=\"node20\" class=\"node\">\n",
       "<title>sigma_n21</title>\n",
       "<ellipse fill=\"none\" stroke=\"black\" cx=\"2766\" cy=\"-409.29\" rx=\"57.45\" ry=\"40.66\"/>\n",
       "<text text-anchor=\"middle\" x=\"2766\" y=\"-420.74\" font-family=\"Times,serif\" font-size=\"14.00\">sigma_n21</text>\n",
       "<text text-anchor=\"middle\" x=\"2766\" y=\"-404.24\" font-family=\"Times,serif\" font-size=\"14.00\">~</text>\n",
       "<text text-anchor=\"middle\" x=\"2766\" y=\"-387.74\" font-family=\"Times,serif\" font-size=\"14.00\">HalfCauchy</text>\n",
       "</g>\n",
       "<!-- coeff_n30_1 -->\n",
       "<g id=\"node27\" class=\"node\">\n",
       "<title>coeff_n30_1</title>\n",
       "<ellipse fill=\"none\" stroke=\"black\" cx=\"822\" cy=\"-291.98\" rx=\"59.57\" ry=\"40.66\"/>\n",
       "<text text-anchor=\"middle\" x=\"822\" y=\"-303.43\" font-family=\"Times,serif\" font-size=\"14.00\">coeff_n30_1</text>\n",
       "<text text-anchor=\"middle\" x=\"822\" y=\"-286.93\" font-family=\"Times,serif\" font-size=\"14.00\">~</text>\n",
       "<text text-anchor=\"middle\" x=\"822\" y=\"-270.43\" font-family=\"Times,serif\" font-size=\"14.00\">StudentT</text>\n",
       "</g>\n",
       "<!-- sigma_n21&#45;&gt;coeff_n30_1 -->\n",
       "<g id=\"edge54\" class=\"edge\">\n",
       "<title>sigma_n21&#45;&gt;coeff_n30_1</title>\n",
       "<path fill=\"none\" stroke=\"black\" d=\"M2725.99,-379.81C2717.74,-375.25 2708.86,-371.19 2700,-368.63 2506.71,-312.95 1083.65,-387.05 890,-332.63 884.47,-331.08 878.92,-328.97 873.51,-326.52\"/>\n",
       "<polygon fill=\"black\" stroke=\"black\" points=\"875.18,-323.44 864.67,-322.13 872.07,-329.71 875.18,-323.44\"/>\n",
       "</g>\n",
       "<!-- sigma_n10 -->\n",
       "<g id=\"node21\" class=\"node\">\n",
       "<title>sigma_n10</title>\n",
       "<ellipse fill=\"none\" stroke=\"black\" cx=\"1801\" cy=\"-531.11\" rx=\"57.45\" ry=\"40.66\"/>\n",
       "<text text-anchor=\"middle\" x=\"1801\" y=\"-542.56\" font-family=\"Times,serif\" font-size=\"14.00\">sigma_n10</text>\n",
       "<text text-anchor=\"middle\" x=\"1801\" y=\"-526.06\" font-family=\"Times,serif\" font-size=\"14.00\">~</text>\n",
       "<text text-anchor=\"middle\" x=\"1801\" y=\"-509.56\" font-family=\"Times,serif\" font-size=\"14.00\">HalfCauchy</text>\n",
       "</g>\n",
       "<!-- sigma_n10&#45;&gt;coeff_n22_0 -->\n",
       "<g id=\"edge40\" class=\"edge\">\n",
       "<title>sigma_n10&#45;&gt;coeff_n22_0</title>\n",
       "<path fill=\"none\" stroke=\"black\" d=\"M1801,-490.21C1801,-481.11 1801,-471.32 1801,-461.81\"/>\n",
       "<polygon fill=\"black\" stroke=\"black\" points=\"1804.5,-461.94 1801,-451.94 1797.5,-461.94 1804.5,-461.94\"/>\n",
       "</g>\n",
       "<!-- sigma_n10&#45;&gt;coeff_n21_0 -->\n",
       "<g id=\"edge27\" class=\"edge\">\n",
       "<title>sigma_n10&#45;&gt;coeff_n21_0</title>\n",
       "<path fill=\"none\" stroke=\"black\" d=\"M1854.57,-515.65C1921.98,-498.21 2041.57,-469.77 2146,-457.95 2192.05,-452.74 2518.38,-462.47 2563,-449.95 2568.53,-448.4 2574.08,-446.29 2579.49,-443.84\"/>\n",
       "<polygon fill=\"black\" stroke=\"black\" points=\"2580.93,-447.03 2588.33,-439.46 2577.82,-440.76 2580.93,-447.03\"/>\n",
       "</g>\n",
       "<!-- coeff_n20_0 -->\n",
       "<g id=\"node26\" class=\"node\">\n",
       "<title>coeff_n20_0</title>\n",
       "<ellipse fill=\"none\" stroke=\"black\" cx=\"1108\" cy=\"-409.29\" rx=\"59.57\" ry=\"40.66\"/>\n",
       "<text text-anchor=\"middle\" x=\"1108\" y=\"-420.74\" font-family=\"Times,serif\" font-size=\"14.00\">coeff_n20_0</text>\n",
       "<text text-anchor=\"middle\" x=\"1108\" y=\"-404.24\" font-family=\"Times,serif\" font-size=\"14.00\">~</text>\n",
       "<text text-anchor=\"middle\" x=\"1108\" y=\"-387.74\" font-family=\"Times,serif\" font-size=\"14.00\">StudentT</text>\n",
       "</g>\n",
       "<!-- sigma_n10&#45;&gt;coeff_n20_0 -->\n",
       "<g id=\"edge14\" class=\"edge\">\n",
       "<title>sigma_n10&#45;&gt;coeff_n20_0</title>\n",
       "<path fill=\"none\" stroke=\"black\" d=\"M1775.73,-494.27C1763.67,-480.2 1747.94,-465.62 1730,-457.95 1701.7,-445.85 1205.66,-458.2 1176,-449.95 1170.46,-448.41 1164.91,-446.31 1159.5,-443.87\"/>\n",
       "<polygon fill=\"black\" stroke=\"black\" points=\"1161.17,-440.79 1150.66,-439.49 1158.06,-447.06 1161.17,-440.79\"/>\n",
       "</g>\n",
       "<!-- sigma_n13 -->\n",
       "<g id=\"node22\" class=\"node\">\n",
       "<title>sigma_n13</title>\n",
       "<ellipse fill=\"none\" stroke=\"black\" cx=\"1664\" cy=\"-531.11\" rx=\"57.45\" ry=\"40.66\"/>\n",
       "<text text-anchor=\"middle\" x=\"1664\" y=\"-542.56\" font-family=\"Times,serif\" font-size=\"14.00\">sigma_n13</text>\n",
       "<text text-anchor=\"middle\" x=\"1664\" y=\"-526.06\" font-family=\"Times,serif\" font-size=\"14.00\">~</text>\n",
       "<text text-anchor=\"middle\" x=\"1664\" y=\"-509.56\" font-family=\"Times,serif\" font-size=\"14.00\">HalfCauchy</text>\n",
       "</g>\n",
       "<!-- sigma_n13&#45;&gt;coeff_n20_3 -->\n",
       "<g id=\"edge17\" class=\"edge\">\n",
       "<title>sigma_n13&#45;&gt;coeff_n20_3</title>\n",
       "<path fill=\"none\" stroke=\"black\" d=\"M1638.73,-494.27C1626.67,-480.2 1610.94,-465.62 1593,-457.95 1564.7,-445.85 1068.66,-458.2 1039,-449.95 1033.46,-448.41 1027.91,-446.31 1022.5,-443.87\"/>\n",
       "<polygon fill=\"black\" stroke=\"black\" points=\"1024.17,-440.79 1013.66,-439.49 1021.06,-447.06 1024.17,-440.79\"/>\n",
       "</g>\n",
       "<!-- coeff_n22_3 -->\n",
       "<g id=\"node30\" class=\"node\">\n",
       "<title>coeff_n22_3</title>\n",
       "<ellipse fill=\"none\" stroke=\"black\" cx=\"1664\" cy=\"-409.29\" rx=\"59.57\" ry=\"40.66\"/>\n",
       "<text text-anchor=\"middle\" x=\"1664\" y=\"-420.74\" font-family=\"Times,serif\" font-size=\"14.00\">coeff_n22_3</text>\n",
       "<text text-anchor=\"middle\" x=\"1664\" y=\"-404.24\" font-family=\"Times,serif\" font-size=\"14.00\">~</text>\n",
       "<text text-anchor=\"middle\" x=\"1664\" y=\"-387.74\" font-family=\"Times,serif\" font-size=\"14.00\">StudentT</text>\n",
       "</g>\n",
       "<!-- sigma_n13&#45;&gt;coeff_n22_3 -->\n",
       "<g id=\"edge43\" class=\"edge\">\n",
       "<title>sigma_n13&#45;&gt;coeff_n22_3</title>\n",
       "<path fill=\"none\" stroke=\"black\" d=\"M1664,-490.21C1664,-481.11 1664,-471.32 1664,-461.81\"/>\n",
       "<polygon fill=\"black\" stroke=\"black\" points=\"1667.5,-461.94 1664,-451.94 1660.5,-461.94 1667.5,-461.94\"/>\n",
       "</g>\n",
       "<!-- coeff_n21_3 -->\n",
       "<g id=\"node34\" class=\"node\">\n",
       "<title>coeff_n21_3</title>\n",
       "<ellipse fill=\"none\" stroke=\"black\" cx=\"2075\" cy=\"-409.29\" rx=\"59.57\" ry=\"40.66\"/>\n",
       "<text text-anchor=\"middle\" x=\"2075\" y=\"-420.74\" font-family=\"Times,serif\" font-size=\"14.00\">coeff_n21_3</text>\n",
       "<text text-anchor=\"middle\" x=\"2075\" y=\"-404.24\" font-family=\"Times,serif\" font-size=\"14.00\">~</text>\n",
       "<text text-anchor=\"middle\" x=\"2075\" y=\"-387.74\" font-family=\"Times,serif\" font-size=\"14.00\">StudentT</text>\n",
       "</g>\n",
       "<!-- sigma_n13&#45;&gt;coeff_n21_3 -->\n",
       "<g id=\"edge30\" class=\"edge\">\n",
       "<title>sigma_n13&#45;&gt;coeff_n21_3</title>\n",
       "<path fill=\"none\" stroke=\"black\" d=\"M1689.32,-494.39C1701.4,-480.36 1717.12,-465.75 1735,-457.95 1762.71,-445.86 1977.93,-458.27 2007,-449.95 2012.44,-448.39 2017.91,-446.3 2023.24,-443.89\"/>\n",
       "<polygon fill=\"black\" stroke=\"black\" points=\"2024.54,-447.15 2031.94,-439.58 2021.43,-440.88 2024.54,-447.15\"/>\n",
       "</g>\n",
       "<!-- coeff_n20_2 -->\n",
       "<g id=\"node23\" class=\"node\">\n",
       "<title>coeff_n20_2</title>\n",
       "<ellipse fill=\"none\" stroke=\"black\" cx=\"1245\" cy=\"-409.29\" rx=\"59.57\" ry=\"40.66\"/>\n",
       "<text text-anchor=\"middle\" x=\"1245\" y=\"-420.74\" font-family=\"Times,serif\" font-size=\"14.00\">coeff_n20_2</text>\n",
       "<text text-anchor=\"middle\" x=\"1245\" y=\"-404.24\" font-family=\"Times,serif\" font-size=\"14.00\">~</text>\n",
       "<text text-anchor=\"middle\" x=\"1245\" y=\"-387.74\" font-family=\"Times,serif\" font-size=\"14.00\">StudentT</text>\n",
       "</g>\n",
       "<!-- coeff_n20_2&#45;&gt;out_dn20 -->\n",
       "<g id=\"edge24\" class=\"edge\">\n",
       "<title>coeff_n20_2&#45;&gt;out_dn20</title>\n",
       "<path fill=\"none\" stroke=\"black\" d=\"M1203.26,-379.8C1194.89,-375.3 1185.91,-371.27 1177,-368.63 1012.08,-319.91 566.12,-389.98 404,-332.63 399.8,-331.15 395.65,-329.22 391.63,-327.02\"/>\n",
       "<polygon fill=\"black\" stroke=\"black\" points=\"393.58,-324.11 383.23,-321.85 389.91,-330.07 393.58,-324.11\"/>\n",
       "</g>\n",
       "<!-- sigma_n30 -->\n",
       "<g id=\"node24\" class=\"node\">\n",
       "<title>sigma_n30</title>\n",
       "<ellipse fill=\"none\" stroke=\"black\" cx=\"687\" cy=\"-291.98\" rx=\"57.45\" ry=\"40.66\"/>\n",
       "<text text-anchor=\"middle\" x=\"687\" y=\"-303.43\" font-family=\"Times,serif\" font-size=\"14.00\">sigma_n30</text>\n",
       "<text text-anchor=\"middle\" x=\"687\" y=\"-286.93\" font-family=\"Times,serif\" font-size=\"14.00\">~</text>\n",
       "<text text-anchor=\"middle\" x=\"687\" y=\"-270.43\" font-family=\"Times,serif\" font-size=\"14.00\">HalfCauchy</text>\n",
       "</g>\n",
       "<!-- sigma_n30&#45;&gt;age_of_tree -->\n",
       "<g id=\"edge61\" class=\"edge\">\n",
       "<title>sigma_n30&#45;&gt;age_of_tree</title>\n",
       "<path fill=\"none\" stroke=\"black\" d=\"M651.28,-259.77C635.15,-245.68 615.95,-228.91 598.95,-214.06\"/>\n",
       "<polygon fill=\"black\" stroke=\"black\" points=\"601.27,-211.43 591.43,-207.49 596.66,-216.7 601.27,-211.43\"/>\n",
       "</g>\n",
       "<!-- coeff_n21_2 -->\n",
       "<g id=\"node25\" class=\"node\">\n",
       "<title>coeff_n21_2</title>\n",
       "<ellipse fill=\"none\" stroke=\"black\" cx=\"2349\" cy=\"-409.29\" rx=\"59.57\" ry=\"40.66\"/>\n",
       "<text text-anchor=\"middle\" x=\"2349\" y=\"-420.74\" font-family=\"Times,serif\" font-size=\"14.00\">coeff_n21_2</text>\n",
       "<text text-anchor=\"middle\" x=\"2349\" y=\"-404.24\" font-family=\"Times,serif\" font-size=\"14.00\">~</text>\n",
       "<text text-anchor=\"middle\" x=\"2349\" y=\"-387.74\" font-family=\"Times,serif\" font-size=\"14.00\">StudentT</text>\n",
       "</g>\n",
       "<!-- coeff_n21_2&#45;&gt;out_dn21 -->\n",
       "<g id=\"edge37\" class=\"edge\">\n",
       "<title>coeff_n21_2&#45;&gt;out_dn21</title>\n",
       "<path fill=\"none\" stroke=\"black\" d=\"M2307.69,-379.82C2299.2,-375.25 2290.08,-371.19 2281,-368.63 2103.44,-318.57 795.94,-391.23 621,-332.63 616.73,-331.2 612.5,-329.31 608.41,-327.13\"/>\n",
       "<polygon fill=\"black\" stroke=\"black\" points=\"610.21,-324.14 599.84,-321.99 606.61,-330.14 610.21,-324.14\"/>\n",
       "</g>\n",
       "<!-- coeff_n20_0&#45;&gt;out_dn20 -->\n",
       "<g id=\"edge18\" class=\"edge\">\n",
       "<title>coeff_n20_0&#45;&gt;out_dn20</title>\n",
       "<path fill=\"none\" stroke=\"black\" d=\"M1066.24,-379.87C1057.87,-375.37 1048.9,-371.31 1040,-368.63 768.89,-287.06 670.44,-428.38 404,-332.63 399.87,-331.15 395.78,-329.24 391.82,-327.07\"/>\n",
       "<polygon fill=\"black\" stroke=\"black\" points=\"393.9,-324.24 383.55,-321.99 390.24,-330.2 393.9,-324.24\"/>\n",
       "</g>\n",
       "<!-- coeff_n30_1&#45;&gt;age_of_tree -->\n",
       "<g id=\"edge56\" class=\"edge\">\n",
       "<title>coeff_n30_1&#45;&gt;age_of_tree</title>\n",
       "<path fill=\"none\" stroke=\"black\" d=\"M778.01,-264.33C769.81,-259.76 761.24,-255.23 753,-251.32 708.49,-230.18 656.36,-210.45 616.77,-196.45\"/>\n",
       "<polygon fill=\"black\" stroke=\"black\" points=\"617.98,-193.16 607.39,-193.15 615.66,-199.77 617.98,-193.16\"/>\n",
       "</g>\n",
       "<!-- intercept_n12 -->\n",
       "<g id=\"node28\" class=\"node\">\n",
       "<title>intercept_n12</title>\n",
       "<ellipse fill=\"none\" stroke=\"black\" cx=\"477\" cy=\"-531.11\" rx=\"63.82\" ry=\"40.66\"/>\n",
       "<text text-anchor=\"middle\" x=\"477\" y=\"-542.56\" font-family=\"Times,serif\" font-size=\"14.00\">intercept_n12</text>\n",
       "<text text-anchor=\"middle\" x=\"477\" y=\"-526.06\" font-family=\"Times,serif\" font-size=\"14.00\">~</text>\n",
       "<text text-anchor=\"middle\" x=\"477\" y=\"-509.56\" font-family=\"Times,serif\" font-size=\"14.00\">StudentT</text>\n",
       "</g>\n",
       "<!-- intercept_n12&#45;&gt;out_n12 -->\n",
       "<g id=\"edge8\" class=\"edge\">\n",
       "<title>intercept_n12&#45;&gt;out_n12</title>\n",
       "<path fill=\"none\" stroke=\"black\" d=\"M470.67,-490.21C468.59,-477.05 466.27,-462.43 464.19,-449.33\"/>\n",
       "<polygon fill=\"black\" stroke=\"black\" points=\"467.7,-449.11 462.68,-439.78 460.79,-450.21 467.7,-449.11\"/>\n",
       "</g>\n",
       "<!-- intercept_n20 -->\n",
       "<g id=\"node29\" class=\"node\">\n",
       "<title>intercept_n20</title>\n",
       "<ellipse fill=\"none\" stroke=\"black\" cx=\"693\" cy=\"-409.29\" rx=\"63.82\" ry=\"40.66\"/>\n",
       "<text text-anchor=\"middle\" x=\"693\" y=\"-420.74\" font-family=\"Times,serif\" font-size=\"14.00\">intercept_n20</text>\n",
       "<text text-anchor=\"middle\" x=\"693\" y=\"-404.24\" font-family=\"Times,serif\" font-size=\"14.00\">~</text>\n",
       "<text text-anchor=\"middle\" x=\"693\" y=\"-387.74\" font-family=\"Times,serif\" font-size=\"14.00\">StudentT</text>\n",
       "</g>\n",
       "<!-- intercept_n20&#45;&gt;out_dn20 -->\n",
       "<g id=\"edge20\" class=\"edge\">\n",
       "<title>intercept_n20&#45;&gt;out_dn20</title>\n",
       "<path fill=\"none\" stroke=\"black\" d=\"M648.16,-379.85C640.02,-375.57 631.43,-371.61 623,-368.63 529.98,-335.81 494.92,-370.88 404,-332.63 400.24,-331.05 396.5,-329.16 392.84,-327.07\"/>\n",
       "<polygon fill=\"black\" stroke=\"black\" points=\"395.01,-324.3 384.67,-321.97 391.3,-330.24 395.01,-324.3\"/>\n",
       "</g>\n",
       "<!-- coeff_n22_3&#45;&gt;out_dn22 -->\n",
       "<g id=\"edge48\" class=\"edge\">\n",
       "<title>coeff_n22_3&#45;&gt;out_dn22</title>\n",
       "<path fill=\"none\" stroke=\"black\" d=\"M1622.29,-379.71C1613.91,-375.21 1604.93,-371.21 1596,-368.63 1364.4,-301.89 739.76,-411.49 512,-332.63 507.79,-331.18 503.64,-329.27 499.61,-327.08\"/>\n",
       "<polygon fill=\"black\" stroke=\"black\" points=\"501.56,-324.17 491.2,-321.93 497.9,-330.14 501.56,-324.17\"/>\n",
       "</g>\n",
       "<!-- sigma_n22 -->\n",
       "<g id=\"node31\" class=\"node\">\n",
       "<title>sigma_n22</title>\n",
       "<ellipse fill=\"none\" stroke=\"black\" cx=\"2899\" cy=\"-409.29\" rx=\"57.45\" ry=\"40.66\"/>\n",
       "<text text-anchor=\"middle\" x=\"2899\" y=\"-420.74\" font-family=\"Times,serif\" font-size=\"14.00\">sigma_n22</text>\n",
       "<text text-anchor=\"middle\" x=\"2899\" y=\"-404.24\" font-family=\"Times,serif\" font-size=\"14.00\">~</text>\n",
       "<text text-anchor=\"middle\" x=\"2899\" y=\"-387.74\" font-family=\"Times,serif\" font-size=\"14.00\">HalfCauchy</text>\n",
       "</g>\n",
       "<!-- coeff_n30_2 -->\n",
       "<g id=\"node33\" class=\"node\">\n",
       "<title>coeff_n30_2</title>\n",
       "<ellipse fill=\"none\" stroke=\"black\" cx=\"959\" cy=\"-291.98\" rx=\"59.57\" ry=\"40.66\"/>\n",
       "<text text-anchor=\"middle\" x=\"959\" y=\"-303.43\" font-family=\"Times,serif\" font-size=\"14.00\">coeff_n30_2</text>\n",
       "<text text-anchor=\"middle\" x=\"959\" y=\"-286.93\" font-family=\"Times,serif\" font-size=\"14.00\">~</text>\n",
       "<text text-anchor=\"middle\" x=\"959\" y=\"-270.43\" font-family=\"Times,serif\" font-size=\"14.00\">StudentT</text>\n",
       "</g>\n",
       "<!-- sigma_n22&#45;&gt;coeff_n30_2 -->\n",
       "<g id=\"edge55\" class=\"edge\">\n",
       "<title>sigma_n22&#45;&gt;coeff_n30_2</title>\n",
       "<path fill=\"none\" stroke=\"black\" d=\"M2858.7,-380.01C2850.23,-375.36 2841.1,-371.22 2832,-368.63 2639.06,-313.74 1220.11,-386.91 1027,-332.63 1021.47,-331.08 1015.92,-328.97 1010.51,-326.52\"/>\n",
       "<polygon fill=\"black\" stroke=\"black\" points=\"1012.18,-323.44 1001.67,-322.13 1009.07,-329.71 1012.18,-323.44\"/>\n",
       "</g>\n",
       "<!-- intercept_n11 -->\n",
       "<g id=\"node32\" class=\"node\">\n",
       "<title>intercept_n11</title>\n",
       "<ellipse fill=\"none\" stroke=\"black\" cx=\"623\" cy=\"-531.11\" rx=\"63.82\" ry=\"40.66\"/>\n",
       "<text text-anchor=\"middle\" x=\"623\" y=\"-542.56\" font-family=\"Times,serif\" font-size=\"14.00\">intercept_n11</text>\n",
       "<text text-anchor=\"middle\" x=\"623\" y=\"-526.06\" font-family=\"Times,serif\" font-size=\"14.00\">~</text>\n",
       "<text text-anchor=\"middle\" x=\"623\" y=\"-509.56\" font-family=\"Times,serif\" font-size=\"14.00\">StudentT</text>\n",
       "</g>\n",
       "<!-- intercept_n11&#45;&gt;out_n11 -->\n",
       "<g id=\"edge5\" class=\"edge\">\n",
       "<title>intercept_n11&#45;&gt;out_n11</title>\n",
       "<path fill=\"none\" stroke=\"black\" d=\"M604.81,-491.87C598.21,-478.01 590.77,-462.36 584.17,-448.5\"/>\n",
       "<polygon fill=\"black\" stroke=\"black\" points=\"587.43,-447.2 579.98,-439.67 581.11,-450.21 587.43,-447.2\"/>\n",
       "</g>\n",
       "<!-- coeff_n30_2&#45;&gt;age_of_tree -->\n",
       "<g id=\"edge63\" class=\"edge\">\n",
       "<title>coeff_n30_2&#45;&gt;age_of_tree</title>\n",
       "<path fill=\"none\" stroke=\"black\" d=\"M916.1,-263.32C907.98,-258.85 899.39,-254.62 891,-251.32 801.13,-215.97 690.92,-195.11 621.8,-184.53\"/>\n",
       "<polygon fill=\"black\" stroke=\"black\" points=\"622.56,-181.1 612.15,-183.08 621.52,-188.02 622.56,-181.1\"/>\n",
       "</g>\n",
       "<!-- coeff_n21_3&#45;&gt;out_dn21 -->\n",
       "<g id=\"edge31\" class=\"edge\">\n",
       "<title>coeff_n21_3&#45;&gt;out_dn21</title>\n",
       "<path fill=\"none\" stroke=\"black\" d=\"M2033.68,-379.85C2025.19,-375.28 2016.07,-371.21 2007,-368.63 1710.64,-284.38 912.94,-431.12 621,-332.63 616.73,-331.19 612.51,-329.3 608.41,-327.11\"/>\n",
       "<polygon fill=\"black\" stroke=\"black\" points=\"610.22,-324.12 599.84,-321.97 606.62,-330.12 610.22,-324.12\"/>\n",
       "</g>\n",
       "<!-- coeff_n22_2 -->\n",
       "<g id=\"node35\" class=\"node\">\n",
       "<title>coeff_n22_2</title>\n",
       "<ellipse fill=\"none\" stroke=\"black\" cx=\"2212\" cy=\"-409.29\" rx=\"59.57\" ry=\"40.66\"/>\n",
       "<text text-anchor=\"middle\" x=\"2212\" y=\"-420.74\" font-family=\"Times,serif\" font-size=\"14.00\">coeff_n22_2</text>\n",
       "<text text-anchor=\"middle\" x=\"2212\" y=\"-404.24\" font-family=\"Times,serif\" font-size=\"14.00\">~</text>\n",
       "<text text-anchor=\"middle\" x=\"2212\" y=\"-387.74\" font-family=\"Times,serif\" font-size=\"14.00\">StudentT</text>\n",
       "</g>\n",
       "<!-- coeff_n22_2&#45;&gt;out_dn22 -->\n",
       "<g id=\"edge44\" class=\"edge\">\n",
       "<title>coeff_n22_2&#45;&gt;out_dn22</title>\n",
       "<path fill=\"none\" stroke=\"black\" d=\"M2170.68,-379.82C2162.2,-375.26 2153.08,-371.2 2144,-368.63 1969.44,-319.38 683.72,-391.02 512,-332.63 507.78,-331.2 503.62,-329.31 499.59,-327.13\"/>\n",
       "<polygon fill=\"black\" stroke=\"black\" points=\"501.54,-324.22 491.18,-322 497.89,-330.19 501.54,-324.22\"/>\n",
       "</g>\n",
       "<!-- sigma_n12 -->\n",
       "<g id=\"node36\" class=\"node\">\n",
       "<title>sigma_n12</title>\n",
       "<ellipse fill=\"none\" stroke=\"black\" cx=\"2212\" cy=\"-531.11\" rx=\"57.45\" ry=\"40.66\"/>\n",
       "<text text-anchor=\"middle\" x=\"2212\" y=\"-542.56\" font-family=\"Times,serif\" font-size=\"14.00\">sigma_n12</text>\n",
       "<text text-anchor=\"middle\" x=\"2212\" y=\"-526.06\" font-family=\"Times,serif\" font-size=\"14.00\">~</text>\n",
       "<text text-anchor=\"middle\" x=\"2212\" y=\"-509.56\" font-family=\"Times,serif\" font-size=\"14.00\">HalfCauchy</text>\n",
       "</g>\n",
       "<!-- sigma_n12&#45;&gt;coeff_n20_2 -->\n",
       "<g id=\"edge16\" class=\"edge\">\n",
       "<title>sigma_n12&#45;&gt;coeff_n20_2</title>\n",
       "<path fill=\"none\" stroke=\"black\" d=\"M2158.44,-515.57C2091.04,-498.05 1971.46,-469.52 1867,-457.95 1805.81,-451.17 1372.31,-466.44 1313,-449.95 1307.46,-448.41 1301.91,-446.31 1296.5,-443.87\"/>\n",
       "<polygon fill=\"black\" stroke=\"black\" points=\"1298.17,-440.79 1287.66,-439.49 1295.06,-447.06 1298.17,-440.79\"/>\n",
       "</g>\n",
       "<!-- sigma_n12&#45;&gt;coeff_n21_2 -->\n",
       "<g id=\"edge29\" class=\"edge\">\n",
       "<title>sigma_n12&#45;&gt;coeff_n21_2</title>\n",
       "<path fill=\"none\" stroke=\"black\" d=\"M2247.64,-498.94C2265.02,-483.74 2286.11,-465.3 2304.53,-449.18\"/>\n",
       "<polygon fill=\"black\" stroke=\"black\" points=\"2306.7,-451.94 2311.93,-442.72 2302.09,-446.67 2306.7,-451.94\"/>\n",
       "</g>\n",
       "<!-- sigma_n12&#45;&gt;coeff_n22_2 -->\n",
       "<g id=\"edge42\" class=\"edge\">\n",
       "<title>sigma_n12&#45;&gt;coeff_n22_2</title>\n",
       "<path fill=\"none\" stroke=\"black\" d=\"M2212,-490.21C2212,-481.11 2212,-471.32 2212,-461.81\"/>\n",
       "<polygon fill=\"black\" stroke=\"black\" points=\"2215.5,-461.94 2212,-451.94 2208.5,-461.94 2215.5,-461.94\"/>\n",
       "</g>\n",
       "<!-- intercept_n21 -->\n",
       "<g id=\"node37\" class=\"node\">\n",
       "<title>intercept_n21</title>\n",
       "<ellipse fill=\"none\" stroke=\"black\" cx=\"2490\" cy=\"-409.29\" rx=\"63.82\" ry=\"40.66\"/>\n",
       "<text text-anchor=\"middle\" x=\"2490\" y=\"-420.74\" font-family=\"Times,serif\" font-size=\"14.00\">intercept_n21</text>\n",
       "<text text-anchor=\"middle\" x=\"2490\" y=\"-404.24\" font-family=\"Times,serif\" font-size=\"14.00\">~</text>\n",
       "<text text-anchor=\"middle\" x=\"2490\" y=\"-387.74\" font-family=\"Times,serif\" font-size=\"14.00\">StudentT</text>\n",
       "</g>\n",
       "<!-- intercept_n21&#45;&gt;out_dn21 -->\n",
       "<g id=\"edge34\" class=\"edge\">\n",
       "<title>intercept_n21&#45;&gt;out_dn21</title>\n",
       "<path fill=\"none\" stroke=\"black\" d=\"M2445.71,-379.61C2436.85,-375.12 2427.37,-371.15 2418,-368.63 2225.1,-316.96 810.42,-395.91 621,-332.63 616.54,-331.15 612.13,-329.16 607.87,-326.86\"/>\n",
       "<polygon fill=\"black\" stroke=\"black\" points=\"609.9,-323.99 599.53,-321.81 606.27,-329.98 609.9,-323.99\"/>\n",
       "</g>\n",
       "<!-- coeff_n30_0 -->\n",
       "<g id=\"node38\" class=\"node\">\n",
       "<title>coeff_n30_0</title>\n",
       "<ellipse fill=\"none\" stroke=\"black\" cx=\"1096\" cy=\"-291.98\" rx=\"59.57\" ry=\"40.66\"/>\n",
       "<text text-anchor=\"middle\" x=\"1096\" y=\"-303.43\" font-family=\"Times,serif\" font-size=\"14.00\">coeff_n30_0</text>\n",
       "<text text-anchor=\"middle\" x=\"1096\" y=\"-286.93\" font-family=\"Times,serif\" font-size=\"14.00\">~</text>\n",
       "<text text-anchor=\"middle\" x=\"1096\" y=\"-270.43\" font-family=\"Times,serif\" font-size=\"14.00\">StudentT</text>\n",
       "</g>\n",
       "<!-- coeff_n30_0&#45;&gt;age_of_tree -->\n",
       "<g id=\"edge58\" class=\"edge\">\n",
       "<title>coeff_n30_0&#45;&gt;age_of_tree</title>\n",
       "<path fill=\"none\" stroke=\"black\" d=\"M1053.63,-263.08C1045.39,-258.58 1036.62,-254.4 1028,-251.32 889.49,-201.81 716.59,-184.59 622.93,-178.68\"/>\n",
       "<polygon fill=\"black\" stroke=\"black\" points=\"623.34,-175.2 613.15,-178.09 622.92,-182.19 623.34,-175.2\"/>\n",
       "</g>\n",
       "<!-- coeff_n22_1&#45;&gt;out_dn22 -->\n",
       "<g id=\"edge46\" class=\"edge\">\n",
       "<title>coeff_n22_1&#45;&gt;out_dn22</title>\n",
       "<path fill=\"none\" stroke=\"black\" d=\"M1485.28,-379.74C1476.9,-375.24 1467.92,-371.23 1459,-368.63 1256.78,-309.83 710.84,-402.02 512,-332.63 507.8,-331.17 503.64,-329.25 499.62,-327.06\"/>\n",
       "<polygon fill=\"black\" stroke=\"black\" points=\"501.57,-324.15 491.21,-321.9 497.91,-330.11 501.57,-324.15\"/>\n",
       "</g>\n",
       "<!-- sigma_n20 -->\n",
       "<g id=\"node40\" class=\"node\">\n",
       "<title>sigma_n20</title>\n",
       "<ellipse fill=\"none\" stroke=\"black\" cx=\"3032\" cy=\"-409.29\" rx=\"57.45\" ry=\"40.66\"/>\n",
       "<text text-anchor=\"middle\" x=\"3032\" y=\"-420.74\" font-family=\"Times,serif\" font-size=\"14.00\">sigma_n20</text>\n",
       "<text text-anchor=\"middle\" x=\"3032\" y=\"-404.24\" font-family=\"Times,serif\" font-size=\"14.00\">~</text>\n",
       "<text text-anchor=\"middle\" x=\"3032\" y=\"-387.74\" font-family=\"Times,serif\" font-size=\"14.00\">HalfCauchy</text>\n",
       "</g>\n",
       "<!-- sigma_n20&#45;&gt;coeff_n30_0 -->\n",
       "<g id=\"edge53\" class=\"edge\">\n",
       "<title>sigma_n20&#45;&gt;coeff_n30_0</title>\n",
       "<path fill=\"none\" stroke=\"black\" d=\"M2991.7,-380.01C2983.23,-375.36 2974.1,-371.22 2965,-368.63 2772.49,-313.86 1356.69,-386.79 1164,-332.63 1158.47,-331.08 1152.92,-328.97 1147.51,-326.52\"/>\n",
       "<polygon fill=\"black\" stroke=\"black\" points=\"1149.18,-323.44 1138.67,-322.13 1146.07,-329.71 1149.18,-323.44\"/>\n",
       "</g>\n",
       "<!-- intercept_n22 -->\n",
       "<g id=\"node41\" class=\"node\">\n",
       "<title>intercept_n22</title>\n",
       "<ellipse fill=\"none\" stroke=\"black\" cx=\"1386\" cy=\"-409.29\" rx=\"63.82\" ry=\"40.66\"/>\n",
       "<text text-anchor=\"middle\" x=\"1386\" y=\"-420.74\" font-family=\"Times,serif\" font-size=\"14.00\">intercept_n22</text>\n",
       "<text text-anchor=\"middle\" x=\"1386\" y=\"-404.24\" font-family=\"Times,serif\" font-size=\"14.00\">~</text>\n",
       "<text text-anchor=\"middle\" x=\"1386\" y=\"-387.74\" font-family=\"Times,serif\" font-size=\"14.00\">StudentT</text>\n",
       "</g>\n",
       "<!-- intercept_n22&#45;&gt;out_dn22 -->\n",
       "<g id=\"edge52\" class=\"edge\">\n",
       "<title>intercept_n22&#45;&gt;out_dn22</title>\n",
       "<path fill=\"none\" stroke=\"black\" d=\"M1341.66,-379.79C1332.8,-375.29 1323.34,-371.26 1314,-368.63 1142.26,-320.33 680.24,-391.99 512,-332.63 507.8,-331.15 503.65,-329.23 499.63,-327.02\"/>\n",
       "<polygon fill=\"black\" stroke=\"black\" points=\"501.58,-324.12 491.23,-321.86 497.91,-330.08 501.58,-324.12\"/>\n",
       "</g>\n",
       "<!-- coeffs_n13 -->\n",
       "<g id=\"node42\" class=\"node\">\n",
       "<title>coeffs_n13</title>\n",
       "<ellipse fill=\"none\" stroke=\"black\" cx=\"884\" cy=\"-531.11\" rx=\"53.74\" ry=\"40.66\"/>\n",
       "<text text-anchor=\"middle\" x=\"884\" y=\"-542.56\" font-family=\"Times,serif\" font-size=\"14.00\">coeffs_n13</text>\n",
       "<text text-anchor=\"middle\" x=\"884\" y=\"-526.06\" font-family=\"Times,serif\" font-size=\"14.00\">~</text>\n",
       "<text text-anchor=\"middle\" x=\"884\" y=\"-509.56\" font-family=\"Times,serif\" font-size=\"14.00\">StudentT</text>\n",
       "</g>\n",
       "<!-- coeffs_n13&#45;&gt;out_n13 -->\n",
       "<g id=\"edge11\" class=\"edge\">\n",
       "<title>coeffs_n13&#45;&gt;out_n13</title>\n",
       "<path fill=\"none\" stroke=\"black\" d=\"M862.26,-493.64C851.95,-479.84 838.29,-465.62 822,-457.95 779.97,-438.16 448,-464.84 404,-449.95 399.6,-448.46 395.26,-446.47 391.06,-444.18\"/>\n",
       "<polygon fill=\"black\" stroke=\"black\" points=\"393.23,-441.4 382.88,-439.14 389.56,-447.36 393.23,-441.4\"/>\n",
       "</g>\n",
       "<!-- coeffs_n12 -->\n",
       "<g id=\"node43\" class=\"node\">\n",
       "<title>coeffs_n12</title>\n",
       "<ellipse fill=\"none\" stroke=\"black\" cx=\"1009\" cy=\"-531.11\" rx=\"53.74\" ry=\"40.66\"/>\n",
       "<text text-anchor=\"middle\" x=\"1009\" y=\"-542.56\" font-family=\"Times,serif\" font-size=\"14.00\">coeffs_n12</text>\n",
       "<text text-anchor=\"middle\" x=\"1009\" y=\"-526.06\" font-family=\"Times,serif\" font-size=\"14.00\">~</text>\n",
       "<text text-anchor=\"middle\" x=\"1009\" y=\"-509.56\" font-family=\"Times,serif\" font-size=\"14.00\">StudentT</text>\n",
       "</g>\n",
       "<!-- coeffs_n12&#45;&gt;out_n12 -->\n",
       "<g id=\"edge9\" class=\"edge\">\n",
       "<title>coeffs_n12&#45;&gt;out_n12</title>\n",
       "<path fill=\"none\" stroke=\"black\" d=\"M987.26,-493.64C976.95,-479.83 963.29,-465.61 947,-457.95 903.26,-437.38 557.8,-465.43 512,-449.95 507.6,-448.46 503.26,-446.48 499.06,-444.18\"/>\n",
       "<polygon fill=\"black\" stroke=\"black\" points=\"501.23,-441.4 490.87,-439.14 497.56,-447.36 501.23,-441.4\"/>\n",
       "</g>\n",
       "<!-- coeffs_n11 -->\n",
       "<g id=\"node44\" class=\"node\">\n",
       "<title>coeffs_n11</title>\n",
       "<ellipse fill=\"none\" stroke=\"black\" cx=\"1134\" cy=\"-531.11\" rx=\"53.74\" ry=\"40.66\"/>\n",
       "<text text-anchor=\"middle\" x=\"1134\" y=\"-542.56\" font-family=\"Times,serif\" font-size=\"14.00\">coeffs_n11</text>\n",
       "<text text-anchor=\"middle\" x=\"1134\" y=\"-526.06\" font-family=\"Times,serif\" font-size=\"14.00\">~</text>\n",
       "<text text-anchor=\"middle\" x=\"1134\" y=\"-509.56\" font-family=\"Times,serif\" font-size=\"14.00\">StudentT</text>\n",
       "</g>\n",
       "<!-- coeffs_n11&#45;&gt;out_n11 -->\n",
       "<g id=\"edge6\" class=\"edge\">\n",
       "<title>coeffs_n11&#45;&gt;out_n11</title>\n",
       "<path fill=\"none\" stroke=\"black\" d=\"M1112.27,-493.63C1101.95,-479.83 1088.29,-465.61 1072,-457.95 1049.27,-447.27 643.8,-457.99 620,-449.95 615.6,-448.47 611.26,-446.48 607.06,-444.18\"/>\n",
       "<polygon fill=\"black\" stroke=\"black\" points=\"609.23,-441.4 598.87,-439.15 605.56,-447.37 609.23,-441.4\"/>\n",
       "</g>\n",
       "<!-- coeffs_n10 -->\n",
       "<g id=\"node45\" class=\"node\">\n",
       "<title>coeffs_n10</title>\n",
       "<ellipse fill=\"none\" stroke=\"black\" cx=\"759\" cy=\"-531.11\" rx=\"53.74\" ry=\"40.66\"/>\n",
       "<text text-anchor=\"middle\" x=\"759\" y=\"-542.56\" font-family=\"Times,serif\" font-size=\"14.00\">coeffs_n10</text>\n",
       "<text text-anchor=\"middle\" x=\"759\" y=\"-526.06\" font-family=\"Times,serif\" font-size=\"14.00\">~</text>\n",
       "<text text-anchor=\"middle\" x=\"759\" y=\"-509.56\" font-family=\"Times,serif\" font-size=\"14.00\">StudentT</text>\n",
       "</g>\n",
       "<!-- coeffs_n10&#45;&gt;out_n10 -->\n",
       "<g id=\"edge4\" class=\"edge\">\n",
       "<title>coeffs_n10&#45;&gt;out_n10</title>\n",
       "<path fill=\"none\" stroke=\"black\" d=\"M736.79,-493.64C726.29,-479.84 712.43,-465.62 696,-457.95 655.72,-439.16 338.1,-464.22 296,-449.95 291.78,-448.52 287.62,-446.63 283.59,-444.46\"/>\n",
       "<polygon fill=\"black\" stroke=\"black\" points=\"285.54,-441.54 275.18,-439.33 281.89,-447.52 285.54,-441.54\"/>\n",
       "</g>\n",
       "</g>\n",
       "</svg>\n"
      ],
      "text/plain": [
       "<graphviz.graphs.Digraph at 0x7fd27ea9edd0>"
      ]
     },
     "execution_count": 65,
     "metadata": {},
     "output_type": "execute_result"
    }
   ],
   "source": [
    "pm.model_to_graphviz(m_d_neural)"
   ]
  },
  {
   "cell_type": "markdown",
   "id": "6f0f1a9e-e37a-4064-b2c1-c2ffc7e3c187",
   "metadata": {},
   "source": [
    "Again, we get a higher R2 value."
   ]
  },
  {
   "cell_type": "code",
   "execution_count": 66,
   "id": "e9134924-e3f5-4f7a-8ff8-cd98843a4fd2",
   "metadata": {},
   "outputs": [
    {
     "data": {
      "text/plain": [
       "r2        0.635668\n",
       "r2_std    0.000000\n",
       "dtype: float64"
      ]
     },
     "execution_count": 66,
     "metadata": {},
     "output_type": "execute_result"
    }
   ],
   "source": [
    "az.r2_score(y_train, y_pred_d_neural)"
   ]
  },
  {
   "cell_type": "markdown",
   "id": "c666f8b8-b8be-4e5a-a11a-39b7337089ca",
   "metadata": {},
   "source": [
    "We also get the lowest training MSE value."
   ]
  },
  {
   "cell_type": "code",
   "execution_count": 67,
   "id": "32104ce2-2ad5-4858-b91c-94f03537eee4",
   "metadata": {},
   "outputs": [
    {
     "data": {
      "text/plain": [
       "0.085"
      ]
     },
     "execution_count": 67,
     "metadata": {},
     "output_type": "execute_result"
    }
   ],
   "source": [
    "round(mean_squared_error(y_train, y_pred_d_neural), 4)"
   ]
  },
  {
   "cell_type": "markdown",
   "id": "27ed5846-9a59-4fac-84cf-0636ac4328fd",
   "metadata": {},
   "source": [
    "The below plot still shows predicted values align well with actual values."
   ]
  },
  {
   "cell_type": "code",
   "execution_count": 68,
   "id": "32eaa4a6-485e-42d2-9eba-0a8cf9383d54",
   "metadata": {},
   "outputs": [
    {
     "data": {
      "text/plain": [
       "[Text(0.5, 0, 'predicted'), Text(0, 0.5, 'actual')]"
      ]
     },
     "execution_count": 68,
     "metadata": {},
     "output_type": "execute_result"
    },
    {
     "data": {
      "image/png": "[encoded data removed]",
      "text/plain": [
       "<Figure size 640x480 with 1 Axes>"
      ]
     },
     "metadata": {},
     "output_type": "display_data"
    }
   ],
   "source": [
    "plot = sns.regplot(x=y_pred_d_neural, y=y_train)\n",
    "plot.set(xlabel=\"predicted\", ylabel=\"actual\")"
   ]
  },
  {
   "cell_type": "markdown",
   "id": "68c27bf4-3df1-4eba-a8e6-e72f4a7f6fc9",
   "metadata": {},
   "source": [
    "**Now lets predict the test set**"
   ]
  },
  {
   "cell_type": "markdown",
   "id": "42780061-2194-4449-b3eb-4a2d33bdcba0",
   "metadata": {},
   "source": [
    "First prediction without sampling... just use coefficients. Kind of a hassle to extract all these individually to recrate the neural network math... I'm trying to be careful.\n",
    "Hopefully no mistakes. :)\n",
    "\n",
    "Basically, this rewrites the neural network to get each coefficient, and multiply it by the appropriate inputs for each neuron."
   ]
  },
  {
   "cell_type": "code",
   "execution_count": 69,
   "id": "e885528f-4adc-4312-92a4-cbc9821e573e",
   "metadata": {},
   "outputs": [],
   "source": [
    "# LAYER 1 - Input\n",
    "pred_intercept_dn10 = trace_d_neural.posterior.intercept_n10.mean().values.item()\n",
    "pred_intercept_dn11 = trace_d_neural.posterior.intercept_n11.mean().values.item()\n",
    "pred_intercept_dn12 = trace_d_neural.posterior.intercept_n12.mean().values.item()\n",
    "pred_intercept_dn13 = trace_d_neural.posterior.intercept_n13.mean().values.item()\n",
    "\n",
    "\n",
    "pred_coeffs_dn10 = trace_d_neural.posterior.coeffs_n10.mean([\"chain\", \"draw\"]).values\n",
    "pred_coeffs_dn11 = trace_d_neural.posterior.coeffs_n11.mean([\"chain\", \"draw\"]).values\n",
    "pred_coeffs_dn12 = trace_d_neural.posterior.coeffs_n12.mean([\"chain\", \"draw\"]).values\n",
    "pred_coeffs_dn13 = trace_d_neural.posterior.coeffs_n13.mean([\"chain\", \"draw\"]).values\n",
    "\n",
    "\n",
    "# Data X coefficients, then ReLU\n",
    "pred_out_dn10 = np.maximum(0, pred_intercept_dn10 + X_test @ pred_coeffs_dn10)\n",
    "pred_out_dn11 = np.maximum(0, pred_intercept_dn11 + X_test @ pred_coeffs_dn11)\n",
    "pred_out_dn12 = np.maximum(0, pred_intercept_dn12 + X_test @ pred_coeffs_dn12)\n",
    "pred_out_dn13 = np.maximum(0, pred_intercept_dn13 + X_test @ pred_coeffs_dn13)\n",
    "\n",
    "\n",
    "# LAYER 2 - Hidden\n",
    "# Neuron 0\n",
    "pred_intercept_dn20 = trace_d_neural.posterior.intercept_n20.mean().values.item()\n",
    "pred_coeff_dn20_0 = trace_d_neural.posterior.coeff_n20_0.mean().values.item()\n",
    "pred_coeff_dn20_1 = trace_d_neural.posterior.coeff_n20_1.mean().values.item()\n",
    "pred_coeff_dn20_2 = trace_d_neural.posterior.coeff_n20_2.mean().values.item()\n",
    "pred_coeff_dn20_3 = trace_d_neural.posterior.coeff_n20_3.mean().values.item()\n",
    "\n",
    "pred_out_dn20 = np.maximum(0, pred_intercept_dn20 \n",
    "          + pred_out_dn10 * pred_coeff_dn20_0 \n",
    "          + pred_out_dn11 * pred_coeff_dn20_1\n",
    "          + pred_out_dn12 * pred_coeff_dn20_2\n",
    "          + pred_out_dn13 * pred_coeff_dn20_3\n",
    "          )\n",
    "\n",
    "# Neuron 1\n",
    "pred_intercept_dn21 = trace_d_neural.posterior.intercept_n21.mean().values.item()\n",
    "pred_coeff_dn21_0 = trace_d_neural.posterior.coeff_n21_0.mean().values.item()\n",
    "pred_coeff_dn21_1 = trace_d_neural.posterior.coeff_n21_1.mean().values.item()\n",
    "pred_coeff_dn21_2 = trace_d_neural.posterior.coeff_n21_2.mean().values.item()\n",
    "pred_coeff_dn21_3 = trace_d_neural.posterior.coeff_n21_3.mean().values.item()\n",
    "\n",
    "pred_out_dn21 = np.maximum(0, pred_intercept_dn21\n",
    "          + pred_out_dn10 * pred_coeff_dn21_0 \n",
    "          + pred_out_dn11 * pred_coeff_dn21_1\n",
    "          + pred_out_dn12 * pred_coeff_dn21_2\n",
    "          + pred_out_dn13 * pred_coeff_dn21_3\n",
    "          )\n",
    "\n",
    "\n",
    "# Neuron 2\n",
    "pred_intercept_dn22 = trace_d_neural.posterior.intercept_n22.mean().values.item()\n",
    "pred_coeff_dn22_0 = trace_d_neural.posterior.coeff_n22_0.mean().values.item()\n",
    "pred_coeff_dn22_1 = trace_d_neural.posterior.coeff_n22_1.mean().values.item()\n",
    "pred_coeff_dn22_2 = trace_d_neural.posterior.coeff_n22_2.mean().values.item()\n",
    "pred_coeff_dn22_3 = trace_d_neural.posterior.coeff_n22_3.mean().values.item()\n",
    "\n",
    "pred_out_dn22 = np.maximum(0, pred_intercept_dn22\n",
    "          + pred_out_dn10 * pred_coeff_dn22_0 \n",
    "          + pred_out_dn11 * pred_coeff_dn22_1\n",
    "          + pred_out_dn12 * pred_coeff_dn22_2\n",
    "          + pred_out_dn13 * pred_coeff_dn22_3\n",
    "          )\n",
    "\n",
    "# LAYER 3 - OUTPUT\n",
    "# Single Neuron\n",
    "pred_intercept_dn30 = trace_d_neural.posterior.intercept_n30.mean().values.item()\n",
    "pred_coeff_dn30_0 = trace_d_neural.posterior.coeff_n30_0.mean().values.item()\n",
    "pred_coeff_dn30_1 = trace_d_neural.posterior.coeff_n30_1.mean().values.item()\n",
    "pred_coeff_dn30_2 = trace_d_neural.posterior.coeff_n30_2.mean().values.item()                           \n",
    "\n",
    "y_pred_test_nosample_d_neural = (pred_intercept_dn30\n",
    "          + pred_out_dn20 * pred_coeff_dn30_0 \n",
    "          + pred_out_dn21 * pred_coeff_dn30_1\n",
    "          + pred_out_dn22 * pred_coeff_dn30_2\n",
    "        )"
   ]
  },
  {
   "cell_type": "markdown",
   "id": "aeabc38c-b8de-49df-90eb-5cf504861753",
   "metadata": {},
   "source": [
    "Below, we get a higher MSE value on the test set... so the deep neural network may be starting to overfit. This is why we used a test set for evaluation."
   ]
  },
  {
   "cell_type": "code",
   "execution_count": 70,
   "id": "79fb53d6-6b4f-4be7-9e40-55df85410350",
   "metadata": {},
   "outputs": [
    {
     "data": {
      "text/plain": [
       "1.3495"
      ]
     },
     "execution_count": 70,
     "metadata": {},
     "output_type": "execute_result"
    }
   ],
   "source": [
    "round(mean_squared_error(y_test, y_pred_test_nosample_d_neural), 4)"
   ]
  },
  {
   "cell_type": "markdown",
   "id": "af6eb25c-5879-4a96-babf-64561215cd60",
   "metadata": {},
   "source": [
    "Predicted values still don't seem to align as well to actual values."
   ]
  },
  {
   "cell_type": "code",
   "execution_count": 71,
   "id": "cca727f8-28a8-4ee2-a3ae-e532f1edd5af",
   "metadata": {},
   "outputs": [
    {
     "data": {
      "text/plain": [
       "[Text(0.5, 0, 'predicted'), Text(0, 0.5, 'actual')]"
      ]
     },
     "execution_count": 71,
     "metadata": {},
     "output_type": "execute_result"
    },
    {
     "data": {
      "image/png": "[encoded data removed]",
      "text/plain": [
       "<Figure size 640x480 with 1 Axes>"
      ]
     },
     "metadata": {},
     "output_type": "display_data"
    }
   ],
   "source": [
    "plot = sns.regplot(x=y_pred_test_nosample_d_neural, y=y_test)\n",
    "plot.set(xlabel=\"predicted\", ylabel=\"actual\")"
   ]
  },
  {
   "cell_type": "markdown",
   "id": "a856206e-fb53-496a-9db3-c72ffb0eebc3",
   "metadata": {},
   "source": [
    "Now predict using sampling  \n",
    "**We are now getting a much lower MSA values, and they seem more stable. The neural net seems to be much better at dealing with possible outliers and non-linearities than the linear model**"
   ]
  },
  {
   "cell_type": "code",
   "execution_count": 72,
   "id": "00a22493-05bc-4332-a95e-b04b81526ac9",
   "metadata": {},
   "outputs": [
    {
     "name": "stderr",
     "output_type": "stream",
     "text": [
      "Sampling: [age_of_tree, coeffs_n10, coeffs_n11, coeffs_n12, coeffs_n13]\n"
     ]
    },
    {
     "data": {
      "text/html": [
       "\n",
       "<style>\n",
       "    /* Turns off some styling */\n",
       "    progress {\n",
       "        /* gets rid of default border in Firefox and Opera. */\n",
       "        border: none;\n",
       "        /* Needs to be in here for Safari polyfill so background images work as expected. */\n",
       "        background-size: auto;\n",
       "    }\n",
       "    progress:not([value]), progress:not([value])::-webkit-progress-bar {\n",
       "        background: repeating-linear-gradient(45deg, #7e7e7e, #7e7e7e 10px, #5c5c5c 10px, #5c5c5c 20px);\n",
       "    }\n",
       "    .progress-bar-interrupted, .progress-bar-interrupted::-webkit-progress-bar {\n",
       "        background: #F44336;\n",
       "    }\n",
       "</style>\n"
      ],
      "text/plain": [
       "<IPython.core.display.HTML object>"
      ]
     },
     "metadata": {},
     "output_type": "display_data"
    },
    {
     "data": {
      "text/html": [
       "\n",
       "    <div>\n",
       "      <progress value='2000' class='' max='2000' style='width:300px; height:20px; vertical-align: middle;'></progress>\n",
       "      100.00% [2000/2000 00:01&lt;00:00]\n",
       "    </div>\n",
       "    "
      ],
      "text/plain": [
       "<IPython.core.display.HTML object>"
      ]
     },
     "metadata": {},
     "output_type": "display_data"
    }
   ],
   "source": [
    "with m_d_neural:\n",
    "    pm.set_data({\"X\": X_test, \"y\": y_test})\n",
    "    ppc_test_d_neural = pm.sample_posterior_predictive(trace_d_neural) #, predictions=True)\n",
    "    y_pred_test_d_neural = ppc_test_d_neural.posterior_predictive.stack(sample=(\"chain\", \"draw\"))[\"age_of_tree\"].values.T.mean(axis=0)"
   ]
  },
  {
   "cell_type": "markdown",
   "id": "c9236d58-29d3-4b10-887d-6356dfd5d4e6",
   "metadata": {},
   "source": [
    "Again, we get a fairly low MSE value, but it's higher than our non-deep neural network on the test dataset. Another piece of evidence that the model may be overfitting."
   ]
  },
  {
   "cell_type": "code",
   "execution_count": 73,
   "id": "baa38932-8eb2-4916-8901-8dab94a5aec2",
   "metadata": {
    "tags": []
   },
   "outputs": [
    {
     "data": {
      "text/plain": [
       "0.4514"
      ]
     },
     "execution_count": 73,
     "metadata": {},
     "output_type": "execute_result"
    }
   ],
   "source": [
    "round(mean_squared_error(y_test, y_pred_test_d_neural), 4)"
   ]
  },
  {
   "cell_type": "markdown",
   "id": "00f99e96-f2a0-4e57-89fa-d7bde249ca04",
   "metadata": {},
   "source": [
    "Plot of predicted vs. response values."
   ]
  },
  {
   "cell_type": "code",
   "execution_count": 74,
   "id": "fc9dedae-aced-4a74-9b88-154a4219622b",
   "metadata": {
    "tags": []
   },
   "outputs": [
    {
     "data": {
      "text/plain": [
       "[Text(0.5, 0, 'predicted'), Text(0, 0.5, 'actual')]"
      ]
     },
     "execution_count": 74,
     "metadata": {},
     "output_type": "execute_result"
    },
    {
     "data": {
      "image/png": "[encoded data removed]",
      "text/plain": [
       "<Figure size 640x480 with 1 Axes>"
      ]
     },
     "metadata": {},
     "output_type": "display_data"
    }
   ],
   "source": [
    "plot = sns.regplot(x=y_pred_test_d_neural, y=y_test)\n",
    "plot.set(xlabel=\"predicted\", ylabel=\"actual\")"
   ]
  },
  {
   "cell_type": "markdown",
   "id": "28740499-1810-4798-82f5-902181e43d86",
   "metadata": {},
   "source": [
    "The sampling on the test set seems very unstable. Note how we can get two very different results when we redraw the samples."
   ]
  },
  {
   "cell_type": "code",
   "execution_count": 75,
   "id": "5f98518d-4841-4d2c-ab0d-824d1db512db",
   "metadata": {},
   "outputs": [
    {
     "name": "stderr",
     "output_type": "stream",
     "text": [
      "Sampling: [age_of_tree, coeffs_n10, coeffs_n11, coeffs_n12, coeffs_n13]\n"
     ]
    },
    {
     "data": {
      "text/html": [
       "\n",
       "<style>\n",
       "    /* Turns off some styling */\n",
       "    progress {\n",
       "        /* gets rid of default border in Firefox and Opera. */\n",
       "        border: none;\n",
       "        /* Needs to be in here for Safari polyfill so background images work as expected. */\n",
       "        background-size: auto;\n",
       "    }\n",
       "    progress:not([value]), progress:not([value])::-webkit-progress-bar {\n",
       "        background: repeating-linear-gradient(45deg, #7e7e7e, #7e7e7e 10px, #5c5c5c 10px, #5c5c5c 20px);\n",
       "    }\n",
       "    .progress-bar-interrupted, .progress-bar-interrupted::-webkit-progress-bar {\n",
       "        background: #F44336;\n",
       "    }\n",
       "</style>\n"
      ],
      "text/plain": [
       "<IPython.core.display.HTML object>"
      ]
     },
     "metadata": {},
     "output_type": "display_data"
    },
    {
     "data": {
      "text/html": [
       "\n",
       "    <div>\n",
       "      <progress value='2000' class='' max='2000' style='width:300px; height:20px; vertical-align: middle;'></progress>\n",
       "      100.00% [2000/2000 00:01&lt;00:00]\n",
       "    </div>\n",
       "    "
      ],
      "text/plain": [
       "<IPython.core.display.HTML object>"
      ]
     },
     "metadata": {},
     "output_type": "display_data"
    }
   ],
   "source": [
    "with m_d_neural:\n",
    "    pm.set_data({\"X\": X_test, \"y\": y_test})\n",
    "    ppc_test_d_neural = pm.sample_posterior_predictive(trace_d_neural) #, predictions=True)\n",
    "    y_pred_test_d_neural = ppc_test_d_neural.posterior_predictive.stack(sample=(\"chain\", \"draw\"))[\"age_of_tree\"].values.T.mean(axis=0)"
   ]
  },
  {
   "cell_type": "markdown",
   "id": "e01eb340-9bbe-42e7-81ce-d52d1353e1f5",
   "metadata": {},
   "source": [
    "Second prediction of MSE for sampling"
   ]
  },
  {
   "cell_type": "code",
   "execution_count": 76,
   "id": "64e2a58b-c3c0-4c67-9074-929709a0df53",
   "metadata": {
    "tags": []
   },
   "outputs": [
    {
     "data": {
      "text/plain": [
       "0.5543"
      ]
     },
     "execution_count": 76,
     "metadata": {},
     "output_type": "execute_result"
    }
   ],
   "source": [
    "round(mean_squared_error(y_test, y_pred_test_d_neural), 4)"
   ]
  },
  {
   "cell_type": "code",
   "execution_count": 77,
   "id": "69bc5135-1495-46f6-bbcd-10a227c56537",
   "metadata": {
    "tags": []
   },
   "outputs": [
    {
     "data": {
      "text/plain": [
       "[Text(0.5, 0, 'predicted'), Text(0, 0.5, 'actual')]"
      ]
     },
     "execution_count": 77,
     "metadata": {},
     "output_type": "execute_result"
    },
    {
     "data": {
      "image/png": "[encoded data removed]",
      "text/plain": [
       "<Figure size 640x480 with 1 Axes>"
      ]
     },
     "metadata": {},
     "output_type": "display_data"
    }
   ],
   "source": [
    "plot = sns.regplot(x=y_pred_test_d_neural, y=y_test)\n",
    "plot.set(xlabel=\"predicted\", ylabel=\"actual\")"
   ]
  },
  {
   "cell_type": "code",
   "execution_count": 78,
   "id": "9c158928-04a6-45d4-b077-97ce5e799d9b",
   "metadata": {},
   "outputs": [
    {
     "name": "stdout",
     "output_type": "stream",
     "text": [
      "Deep Neural model runtime: 1187.46 seconds\n"
     ]
    }
   ],
   "source": [
    "print(f\"Deep Neural model runtime: {round(time.time() - d_neural_start, 2)} seconds\")"
   ]
  },
  {
   "cell_type": "code",
   "execution_count": 79,
   "id": "4dcbad1a-976d-4e33-9a12-8bdfd32cc454",
   "metadata": {},
   "outputs": [
    {
     "name": "stdout",
     "output_type": "stream",
     "text": [
      "Last updated: Sat Dec 02 2023\n",
      "\n",
      "Python implementation: CPython\n",
      "Python version       : 3.11.6\n",
      "IPython version      : 8.15.0\n",
      "\n",
      "pytensor: 2.17.3\n",
      "\n",
      "seaborn: 0.13.0\n",
      "arviz  : 0.16.1\n",
      "pymc   : 5.9.1\n",
      "numpy  : 1.25.2\n",
      "pandas : 2.1.3\n",
      "\n"
     ]
    }
   ],
   "source": [
    "%load_ext watermark\n",
    "%watermark -n -u -v -iv -p pytensor"
   ]
  },
  {
   "cell_type": "markdown",
   "id": "3cd35384-fd0b-42c5-8742-9b7f908fd194",
   "metadata": {},
   "source": [
    "# --------------------------------"
   ]
  },
  {
   "cell_type": "code",
   "execution_count": null,
   "id": "c66bd8ec-8975-45cf-806f-e1e06472edc8",
   "metadata": {},
   "outputs": [],
   "source": []
  }
 ],
 "metadata": {
  "kernelspec": {
   "display_name": "Python 3 (ipykernel)",
   "language": "python",
   "name": "python3"
  },
  "language_info": {
   "codemirror_mode": {
    "name": "ipython",
    "version": 3
   },
   "file_extension": ".py",
   "mimetype": "text/x-python",
   "name": "python",
   "nbconvert_exporter": "python",
   "pygments_lexer": "ipython3",
   "version": "3.11.6"
  }
 },
 "nbformat": 4,
 "nbformat_minor": 5
}
