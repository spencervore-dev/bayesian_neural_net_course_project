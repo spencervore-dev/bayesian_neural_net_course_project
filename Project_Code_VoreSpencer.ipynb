{
 "cells": [
  {
   "cell_type": "markdown",
   "id": "982a100f-0d65-4ecd-aa7d-6aa22a57c19c",
   "metadata": {},
   "source": [
    "# Georgia Tech ISYE6420 Course Project"
   ]
  },
  {
   "cell_type": "markdown",
   "id": "e953394c-a314-497f-9ebd-979b2e625688",
   "metadata": {},
   "source": [
    "Fall 2023\n",
    "Spencer Vore"
   ]
  },
  {
   "cell_type": "code",
   "execution_count": 1,
   "id": "14dfbfb6-7a56-45f1-86ec-1509e9ecf0fb",
   "metadata": {},
   "outputs": [],
   "source": [
    "import pymc\n",
    "import pandas as pd\n",
    "from pandas.api.types import is_numeric_dtype\n",
    "\n",
    "import arviz as az\n",
    "from collections.abc import Sequence\n",
    "from typing import Optional"
   ]
  },
  {
   "cell_type": "markdown",
   "id": "17dacb81-6181-4d5b-aa22-09c5f6e011b4",
   "metadata": {},
   "source": [
    "### Prepare Dataset"
   ]
  },
  {
   "cell_type": "markdown",
   "id": "a0ad572e-fa93-4b6f-b61a-ad4d9ca80ead",
   "metadata": {},
   "source": [
    "Load Dataset"
   ]
  },
  {
   "cell_type": "code",
   "execution_count": 2,
   "id": "e5726059-0095-4165-b2a8-6f716d505115",
   "metadata": {},
   "outputs": [],
   "source": [
    "data = pd.read_csv(\"abalone/abalone.data\", header=None)"
   ]
  },
  {
   "cell_type": "code",
   "execution_count": 3,
   "id": "8abb4b7a-fdfe-4ac8-a82b-e89ef2b7a074",
   "metadata": {},
   "outputs": [
    {
     "data": {
      "text/html": [
       "<div>\n",
       "<style scoped>\n",
       "    .dataframe tbody tr th:only-of-type {\n",
       "        vertical-align: middle;\n",
       "    }\n",
       "\n",
       "    .dataframe tbody tr th {\n",
       "        vertical-align: top;\n",
       "    }\n",
       "\n",
       "    .dataframe thead th {\n",
       "        text-align: right;\n",
       "    }\n",
       "</style>\n",
       "<table border=\"1\" class=\"dataframe\">\n",
       "  <thead>\n",
       "    <tr style=\"text-align: right;\">\n",
       "      <th></th>\n",
       "      <th>0</th>\n",
       "      <th>1</th>\n",
       "      <th>2</th>\n",
       "      <th>3</th>\n",
       "      <th>4</th>\n",
       "      <th>5</th>\n",
       "      <th>6</th>\n",
       "      <th>7</th>\n",
       "      <th>8</th>\n",
       "    </tr>\n",
       "  </thead>\n",
       "  <tbody>\n",
       "    <tr>\n",
       "      <th>0</th>\n",
       "      <td>M</td>\n",
       "      <td>0.455</td>\n",
       "      <td>0.365</td>\n",
       "      <td>0.095</td>\n",
       "      <td>0.5140</td>\n",
       "      <td>0.2245</td>\n",
       "      <td>0.1010</td>\n",
       "      <td>0.150</td>\n",
       "      <td>15</td>\n",
       "    </tr>\n",
       "    <tr>\n",
       "      <th>1</th>\n",
       "      <td>M</td>\n",
       "      <td>0.350</td>\n",
       "      <td>0.265</td>\n",
       "      <td>0.090</td>\n",
       "      <td>0.2255</td>\n",
       "      <td>0.0995</td>\n",
       "      <td>0.0485</td>\n",
       "      <td>0.070</td>\n",
       "      <td>7</td>\n",
       "    </tr>\n",
       "    <tr>\n",
       "      <th>2</th>\n",
       "      <td>F</td>\n",
       "      <td>0.530</td>\n",
       "      <td>0.420</td>\n",
       "      <td>0.135</td>\n",
       "      <td>0.6770</td>\n",
       "      <td>0.2565</td>\n",
       "      <td>0.1415</td>\n",
       "      <td>0.210</td>\n",
       "      <td>9</td>\n",
       "    </tr>\n",
       "    <tr>\n",
       "      <th>3</th>\n",
       "      <td>M</td>\n",
       "      <td>0.440</td>\n",
       "      <td>0.365</td>\n",
       "      <td>0.125</td>\n",
       "      <td>0.5160</td>\n",
       "      <td>0.2155</td>\n",
       "      <td>0.1140</td>\n",
       "      <td>0.155</td>\n",
       "      <td>10</td>\n",
       "    </tr>\n",
       "    <tr>\n",
       "      <th>4</th>\n",
       "      <td>I</td>\n",
       "      <td>0.330</td>\n",
       "      <td>0.255</td>\n",
       "      <td>0.080</td>\n",
       "      <td>0.2050</td>\n",
       "      <td>0.0895</td>\n",
       "      <td>0.0395</td>\n",
       "      <td>0.055</td>\n",
       "      <td>7</td>\n",
       "    </tr>\n",
       "  </tbody>\n",
       "</table>\n",
       "</div>"
      ],
      "text/plain": [
       "   0      1      2      3       4       5       6      7   8\n",
       "0  M  0.455  0.365  0.095  0.5140  0.2245  0.1010  0.150  15\n",
       "1  M  0.350  0.265  0.090  0.2255  0.0995  0.0485  0.070   7\n",
       "2  F  0.530  0.420  0.135  0.6770  0.2565  0.1415  0.210   9\n",
       "3  M  0.440  0.365  0.125  0.5160  0.2155  0.1140  0.155  10\n",
       "4  I  0.330  0.255  0.080  0.2050  0.0895  0.0395  0.055   7"
      ]
     },
     "execution_count": 3,
     "metadata": {},
     "output_type": "execute_result"
    }
   ],
   "source": [
    "data.head()"
   ]
  },
  {
   "cell_type": "markdown",
   "id": "2756917e-ea1e-4923-891d-8e47350eef18",
   "metadata": {},
   "source": [
    "Standardize dataset - Not sure if this is nessecary, but doesn't hurt and could help."
   ]
  },
  {
   "cell_type": "code",
   "execution_count": 18,
   "id": "38cb434e-e16b-43c6-9d2d-2d9fda5f4872",
   "metadata": {},
   "outputs": [],
   "source": [
    "class DataPrep:\n",
    "    '''\n",
    "    Standardize the data. By writing this as an object, we can save the statistics calculated for the standardization\n",
    "    so we can use them later to predict new datapoints in our model.\n",
    "    '''\n",
    "    def __init__(self):\n",
    "        self.means = dict()\n",
    "        self.stdevs = dict()\n",
    "        \n",
    "    def prep(self, X_df: pd.DataFrame) -> pd.DataFrame:\n",
    "        \"\"\"\n",
    "        This takes a dataset, and prepares it. Numerical columns are standardized. Categorical columns \n",
    "        are one hot encoded so we can fit a numerical regression with a coefficient for each category.\n",
    "        \n",
    "        From TA's example github for numerical standardization\n",
    "        Standardize input variables by 2 std dev.\n",
    "\n",
    "        For standardization, see:\n",
    "        https://stat.columbia.edu/~gelman/research/published/standardizing7.pdf\n",
    "        https://areding.github.io/6420-pymc/unit7/Unit7-arrhythmia.html\n",
    "        \"\"\"\n",
    "        \n",
    "        X_standardized = pd.DataFrame()\n",
    "            \n",
    "        for colname in X_df.columns:\n",
    "            col = X_df[colname]\n",
    "            if is_numeric_dtype(col):\n",
    "                self.means[colname] = col.mean()\n",
    "                self.stdevs[colname] = col.std()\n",
    "                X_standardized[colname] = (col - self.means[colname]) / (2 * self.stdevs[colname])\n",
    "            else:\n",
    "                X_onehot = pd.get_dummies(X_df[colname], prefix=colname)\n",
    "                print(X_onehot)\n",
    "                if X_standardized.empty:\n",
    "                    X_standardized = X_onehot\n",
    "                else:\n",
    "                    X_standardized = X_standardized.join(X_onehot)\n",
    "                print(X_standardized)\n",
    "                onehot_colnames = X_onehot.columns\n",
    "                for o_colname in onehot_colnames:\n",
    "                    self.means[o_colname] = None\n",
    "                    self.stdevs[o_colname] = None\n",
    "                # X_standardized[colname] = X_df[colname]\n",
    "            \n",
    "        # # find and store means and std, then standardize\n",
    "        # self.means = X_df.mean(axis=0, numeric_only=True)\n",
    "        # self.stdevs = X_df.std(axis=0, numeric_only=True)\n",
    "        # X_standardized = (X_df - self.means) / (2 * self.stdevs)\n",
    "\n",
    "        return X_standardized\n",
    "    \n",
    "    def prep_point(self, x: float) -> float:\n",
    "        # TODO: Get this working for categorical data and differences in prep function\n",
    "        return (x - self.means) / (2 * self.stdevs)"
   ]
  },
  {
   "cell_type": "code",
   "execution_count": 14,
   "id": "cf25228b-7bc0-4fdb-bb62-a81cbe0c963b",
   "metadata": {},
   "outputs": [
    {
     "name": "stdout",
     "output_type": "stream",
     "text": [
      "0\n",
      "        0_F    0_I    0_M\n",
      "0     False  False   True\n",
      "1     False  False   True\n",
      "2      True  False  False\n",
      "3     False  False   True\n",
      "4     False   True  False\n",
      "...     ...    ...    ...\n",
      "4172   True  False  False\n",
      "4173  False  False   True\n",
      "4174  False  False   True\n",
      "4175   True  False  False\n",
      "4176  False  False   True\n",
      "\n",
      "[4177 rows x 3 columns]\n",
      "        0_F    0_I    0_M\n",
      "0     False  False   True\n",
      "1     False  False   True\n",
      "2      True  False  False\n",
      "3     False  False   True\n",
      "4     False   True  False\n",
      "...     ...    ...    ...\n",
      "4172   True  False  False\n",
      "4173  False  False   True\n",
      "4174  False  False   True\n",
      "4175   True  False  False\n",
      "4176  False  False   True\n",
      "\n",
      "[4177 rows x 3 columns]\n",
      "1\n",
      "num\n",
      "2\n",
      "num\n",
      "3\n",
      "num\n",
      "4\n",
      "num\n",
      "5\n",
      "num\n",
      "6\n",
      "num\n",
      "7\n",
      "num\n",
      "8\n",
      "num\n"
     ]
    }
   ],
   "source": [
    "data_preper = DataPrep()\n",
    "data_std = data_preper.prep(data)"
   ]
  },
  {
   "cell_type": "code",
   "execution_count": 15,
   "id": "bfb78427-ef2a-4990-8533-cdcb22a78d68",
   "metadata": {},
   "outputs": [
    {
     "data": {
      "text/html": [
       "<div>\n",
       "<style scoped>\n",
       "    .dataframe tbody tr th:only-of-type {\n",
       "        vertical-align: middle;\n",
       "    }\n",
       "\n",
       "    .dataframe tbody tr th {\n",
       "        vertical-align: top;\n",
       "    }\n",
       "\n",
       "    .dataframe thead th {\n",
       "        text-align: right;\n",
       "    }\n",
       "</style>\n",
       "<table border=\"1\" class=\"dataframe\">\n",
       "  <thead>\n",
       "    <tr style=\"text-align: right;\">\n",
       "      <th></th>\n",
       "      <th>0_F</th>\n",
       "      <th>0_I</th>\n",
       "      <th>0_M</th>\n",
       "      <th>1</th>\n",
       "      <th>2</th>\n",
       "      <th>3</th>\n",
       "      <th>4</th>\n",
       "      <th>5</th>\n",
       "      <th>6</th>\n",
       "      <th>7</th>\n",
       "      <th>8</th>\n",
       "    </tr>\n",
       "  </thead>\n",
       "  <tbody>\n",
       "    <tr>\n",
       "      <th>0</th>\n",
       "      <td>False</td>\n",
       "      <td>False</td>\n",
       "      <td>True</td>\n",
       "      <td>-0.287245</td>\n",
       "      <td>-0.216049</td>\n",
       "      <td>-0.532148</td>\n",
       "      <td>-0.320911</td>\n",
       "      <td>-0.303806</td>\n",
       "      <td>-0.363062</td>\n",
       "      <td>-0.319070</td>\n",
       "      <td>0.785678</td>\n",
       "    </tr>\n",
       "    <tr>\n",
       "      <th>1</th>\n",
       "      <td>False</td>\n",
       "      <td>False</td>\n",
       "      <td>True</td>\n",
       "      <td>-0.724406</td>\n",
       "      <td>-0.719878</td>\n",
       "      <td>-0.591918</td>\n",
       "      <td>-0.615065</td>\n",
       "      <td>-0.585385</td>\n",
       "      <td>-0.602538</td>\n",
       "      <td>-0.606421</td>\n",
       "      <td>-0.454952</td>\n",
       "    </tr>\n",
       "    <tr>\n",
       "      <th>2</th>\n",
       "      <td>True</td>\n",
       "      <td>False</td>\n",
       "      <td>False</td>\n",
       "      <td>0.025014</td>\n",
       "      <td>0.061058</td>\n",
       "      <td>-0.053989</td>\n",
       "      <td>-0.154716</td>\n",
       "      <td>-0.231722</td>\n",
       "      <td>-0.178324</td>\n",
       "      <td>-0.103557</td>\n",
       "      <td>-0.144795</td>\n",
       "    </tr>\n",
       "    <tr>\n",
       "      <th>3</th>\n",
       "      <td>False</td>\n",
       "      <td>False</td>\n",
       "      <td>True</td>\n",
       "      <td>-0.349696</td>\n",
       "      <td>-0.216049</td>\n",
       "      <td>-0.173529</td>\n",
       "      <td>-0.318871</td>\n",
       "      <td>-0.324080</td>\n",
       "      <td>-0.303763</td>\n",
       "      <td>-0.301111</td>\n",
       "      <td>0.010284</td>\n",
       "    </tr>\n",
       "    <tr>\n",
       "      <th>4</th>\n",
       "      <td>False</td>\n",
       "      <td>True</td>\n",
       "      <td>False</td>\n",
       "      <td>-0.807675</td>\n",
       "      <td>-0.770261</td>\n",
       "      <td>-0.711458</td>\n",
       "      <td>-0.635967</td>\n",
       "      <td>-0.607911</td>\n",
       "      <td>-0.643592</td>\n",
       "      <td>-0.660299</td>\n",
       "      <td>-0.454952</td>\n",
       "    </tr>\n",
       "  </tbody>\n",
       "</table>\n",
       "</div>"
      ],
      "text/plain": [
       "     0_F    0_I    0_M         1         2         3         4         5  \\\n",
       "0  False  False   True -0.287245 -0.216049 -0.532148 -0.320911 -0.303806   \n",
       "1  False  False   True -0.724406 -0.719878 -0.591918 -0.615065 -0.585385   \n",
       "2   True  False  False  0.025014  0.061058 -0.053989 -0.154716 -0.231722   \n",
       "3  False  False   True -0.349696 -0.216049 -0.173529 -0.318871 -0.324080   \n",
       "4  False   True  False -0.807675 -0.770261 -0.711458 -0.635967 -0.607911   \n",
       "\n",
       "          6         7         8  \n",
       "0 -0.363062 -0.319070  0.785678  \n",
       "1 -0.602538 -0.606421 -0.454952  \n",
       "2 -0.178324 -0.103557 -0.144795  \n",
       "3 -0.303763 -0.301111  0.010284  \n",
       "4 -0.643592 -0.660299 -0.454952  "
      ]
     },
     "execution_count": 15,
     "metadata": {},
     "output_type": "execute_result"
    }
   ],
   "source": [
    "data_std.head()"
   ]
  },
  {
   "cell_type": "code",
   "execution_count": 16,
   "id": "cccb3f63-aa3f-4044-adfa-076dc2d84df5",
   "metadata": {},
   "outputs": [
    {
     "data": {
      "text/plain": [
       "{'0_F': None,\n",
       " '0_I': None,\n",
       " '0_M': None,\n",
       " 1: 0.5239920995930094,\n",
       " 2: 0.40788125448886764,\n",
       " 3: 0.13951639932966242,\n",
       " 4: 0.8287421594445774,\n",
       " 5: 0.35936748862820206,\n",
       " 6: 0.1805936078525257,\n",
       " 7: 0.23883085946851804,\n",
       " 8: 9.933684462532918}"
      ]
     },
     "execution_count": 16,
     "metadata": {},
     "output_type": "execute_result"
    }
   ],
   "source": [
    "data_preper.means"
   ]
  },
  {
   "cell_type": "code",
   "execution_count": 17,
   "id": "ef06a4cf-93d6-4981-ad0e-660633a0d611",
   "metadata": {},
   "outputs": [
    {
     "data": {
      "text/plain": [
       "{'0_F': None,\n",
       " '0_I': None,\n",
       " '0_M': None,\n",
       " 1: 0.12009291256479956,\n",
       " 2: 0.09923986613365945,\n",
       " 3: 0.041827056607257274,\n",
       " 4: 0.4903890182309977,\n",
       " 5: 0.22196294903322014,\n",
       " 6: 0.10961425025968446,\n",
       " 7: 0.1392026695223861,\n",
       " 8: 3.2241690320681284}"
      ]
     },
     "execution_count": 17,
     "metadata": {},
     "output_type": "execute_result"
    }
   ],
   "source": [
    "data_preper.stdevs"
   ]
  },
  {
   "cell_type": "markdown",
   "id": "6f34cf85-173c-43a6-bb7a-69ae0af16fee",
   "metadata": {},
   "source": [
    "### Fit linear regression model"
   ]
  },
  {
   "cell_type": "code",
   "execution_count": null,
   "id": "1cdee0e0-6a89-4154-98df-1c80150d263b",
   "metadata": {},
   "outputs": [],
   "source": []
  },
  {
   "cell_type": "code",
   "execution_count": null,
   "id": "9f23c503-0d42-461b-9d94-6d2d7f57b7a5",
   "metadata": {},
   "outputs": [],
   "source": []
  },
  {
   "cell_type": "code",
   "execution_count": null,
   "id": "84681c96-7b6b-4c17-9447-8a06b7a740f1",
   "metadata": {},
   "outputs": [],
   "source": []
  },
  {
   "cell_type": "code",
   "execution_count": null,
   "id": "4dcbad1a-976d-4e33-9a12-8bdfd32cc454",
   "metadata": {},
   "outputs": [],
   "source": [
    "%load_ext watermark\n",
    "%watermark -n -u -v -iv -p pytensor"
   ]
  },
  {
   "cell_type": "code",
   "execution_count": null,
   "id": "5e5b3712-9d11-4e75-b670-d56ee689edc8",
   "metadata": {},
   "outputs": [],
   "source": []
  }
 ],
 "metadata": {
  "kernelspec": {
   "display_name": "Python 3 (ipykernel)",
   "language": "python",
   "name": "python3"
  },
  "language_info": {
   "codemirror_mode": {
    "name": "ipython",
    "version": 3
   },
   "file_extension": ".py",
   "mimetype": "text/x-python",
   "name": "python",
   "nbconvert_exporter": "python",
   "pygments_lexer": "ipython3",
   "version": "3.11.6"
  }
 },
 "nbformat": 4,
 "nbformat_minor": 5
}
