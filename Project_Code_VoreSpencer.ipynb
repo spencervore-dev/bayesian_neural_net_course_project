{
 "cells": [
  {
   "cell_type": "markdown",
   "id": "982a100f-0d65-4ecd-aa7d-6aa22a57c19c",
   "metadata": {},
   "source": [
    "# Georgia Tech ISYE6420 Course Project"
   ]
  },
  {
   "cell_type": "markdown",
   "id": "e953394c-a314-497f-9ebd-979b2e625688",
   "metadata": {},
   "source": [
    "**Fall 2023  \n",
    "Spencer Vore**"
   ]
  },
  {
   "cell_type": "code",
   "execution_count": 1,
   "id": "14dfbfb6-7a56-45f1-86ec-1509e9ecf0fb",
   "metadata": {},
   "outputs": [],
   "source": [
    "import pymc as pm\n",
    "import pandas as pd\n",
    "from pandas.api.types import is_numeric_dtype\n",
    "\n",
    "import arviz as az\n",
    "from collections.abc import Sequence\n",
    "from typing import Optional\n",
    "\n",
    "from sklearn.model_selection import train_test_split\n",
    "from sklearn.metrics import mean_squared_error\n",
    "\n",
    "import seaborn as sns"
   ]
  },
  {
   "cell_type": "markdown",
   "id": "29c6b737-be5c-4ce9-b77c-efcd2824b3fa",
   "metadata": {
    "tags": []
   },
   "source": [
    "### Define adjustable Constants / Settings  \n",
    "Use this to adjust script settings / MCMC run. Sorry, didn't add it to a .env file or something fancier. Works for purpose of demo / tinkering."
   ]
  },
  {
   "cell_type": "code",
   "execution_count": 2,
   "id": "620e860d-e953-4e3f-8ac3-4266669a89fb",
   "metadata": {},
   "outputs": [],
   "source": [
    "n_all = 4000 # Size of data we want for MCMC. Randomly sample this many points from full dataset. Includes train and test sample size.\n",
    "n_seed = 42 # Random seed for down sampling n datapoints from full dataset\n",
    "\n",
    "n_test = 2500 # Size of test set we want to saomple from n_all.\n",
    "split_seed = 43 # Random seed used for train / test split\n",
    "\n",
    "path_to_datafile = \"abalone/abalone.data\"\n",
    "\n",
    "standardize = True # Controls whether to standardize numerical columns\n",
    "\n",
    "linear_model_n_samples = 500 # how many samples to draw from MCMC for linear model. Set lower for testing. Set higher for official results.\n",
    "neural_model_n_samples = 500 # how many samples to draw from MCMC for neural model."
   ]
  },
  {
   "cell_type": "markdown",
   "id": "17dacb81-6181-4d5b-aa22-09c5f6e011b4",
   "metadata": {},
   "source": [
    "### Prepare Dataset"
   ]
  },
  {
   "cell_type": "markdown",
   "id": "a0ad572e-fa93-4b6f-b61a-ad4d9ca80ead",
   "metadata": {},
   "source": [
    "**Load Dataset**"
   ]
  },
  {
   "cell_type": "code",
   "execution_count": 3,
   "id": "e5726059-0095-4165-b2a8-6f716d505115",
   "metadata": {},
   "outputs": [],
   "source": [
    "data = pd.read_csv(path_to_datafile, header=None)"
   ]
  },
  {
   "cell_type": "code",
   "execution_count": 4,
   "id": "8abb4b7a-fdfe-4ac8-a82b-e89ef2b7a074",
   "metadata": {},
   "outputs": [
    {
     "data": {
      "text/html": [
       "<div>\n",
       "<style scoped>\n",
       "    .dataframe tbody tr th:only-of-type {\n",
       "        vertical-align: middle;\n",
       "    }\n",
       "\n",
       "    .dataframe tbody tr th {\n",
       "        vertical-align: top;\n",
       "    }\n",
       "\n",
       "    .dataframe thead th {\n",
       "        text-align: right;\n",
       "    }\n",
       "</style>\n",
       "<table border=\"1\" class=\"dataframe\">\n",
       "  <thead>\n",
       "    <tr style=\"text-align: right;\">\n",
       "      <th></th>\n",
       "      <th>0</th>\n",
       "      <th>1</th>\n",
       "      <th>2</th>\n",
       "      <th>3</th>\n",
       "      <th>4</th>\n",
       "      <th>5</th>\n",
       "      <th>6</th>\n",
       "      <th>7</th>\n",
       "      <th>8</th>\n",
       "    </tr>\n",
       "  </thead>\n",
       "  <tbody>\n",
       "    <tr>\n",
       "      <th>0</th>\n",
       "      <td>M</td>\n",
       "      <td>0.455</td>\n",
       "      <td>0.365</td>\n",
       "      <td>0.095</td>\n",
       "      <td>0.5140</td>\n",
       "      <td>0.2245</td>\n",
       "      <td>0.1010</td>\n",
       "      <td>0.150</td>\n",
       "      <td>15</td>\n",
       "    </tr>\n",
       "    <tr>\n",
       "      <th>1</th>\n",
       "      <td>M</td>\n",
       "      <td>0.350</td>\n",
       "      <td>0.265</td>\n",
       "      <td>0.090</td>\n",
       "      <td>0.2255</td>\n",
       "      <td>0.0995</td>\n",
       "      <td>0.0485</td>\n",
       "      <td>0.070</td>\n",
       "      <td>7</td>\n",
       "    </tr>\n",
       "    <tr>\n",
       "      <th>2</th>\n",
       "      <td>F</td>\n",
       "      <td>0.530</td>\n",
       "      <td>0.420</td>\n",
       "      <td>0.135</td>\n",
       "      <td>0.6770</td>\n",
       "      <td>0.2565</td>\n",
       "      <td>0.1415</td>\n",
       "      <td>0.210</td>\n",
       "      <td>9</td>\n",
       "    </tr>\n",
       "    <tr>\n",
       "      <th>3</th>\n",
       "      <td>M</td>\n",
       "      <td>0.440</td>\n",
       "      <td>0.365</td>\n",
       "      <td>0.125</td>\n",
       "      <td>0.5160</td>\n",
       "      <td>0.2155</td>\n",
       "      <td>0.1140</td>\n",
       "      <td>0.155</td>\n",
       "      <td>10</td>\n",
       "    </tr>\n",
       "    <tr>\n",
       "      <th>4</th>\n",
       "      <td>I</td>\n",
       "      <td>0.330</td>\n",
       "      <td>0.255</td>\n",
       "      <td>0.080</td>\n",
       "      <td>0.2050</td>\n",
       "      <td>0.0895</td>\n",
       "      <td>0.0395</td>\n",
       "      <td>0.055</td>\n",
       "      <td>7</td>\n",
       "    </tr>\n",
       "  </tbody>\n",
       "</table>\n",
       "</div>"
      ],
      "text/plain": [
       "   0      1      2      3       4       5       6      7   8\n",
       "0  M  0.455  0.365  0.095  0.5140  0.2245  0.1010  0.150  15\n",
       "1  M  0.350  0.265  0.090  0.2255  0.0995  0.0485  0.070   7\n",
       "2  F  0.530  0.420  0.135  0.6770  0.2565  0.1415  0.210   9\n",
       "3  M  0.440  0.365  0.125  0.5160  0.2155  0.1140  0.155  10\n",
       "4  I  0.330  0.255  0.080  0.2050  0.0895  0.0395  0.055   7"
      ]
     },
     "execution_count": 4,
     "metadata": {},
     "output_type": "execute_result"
    }
   ],
   "source": [
    "data.head()"
   ]
  },
  {
   "cell_type": "code",
   "execution_count": 5,
   "id": "60bf06f2-17bd-4521-99bc-be01a8a6aad0",
   "metadata": {},
   "outputs": [
    {
     "data": {
      "text/plain": [
       "(4177, 9)"
      ]
     },
     "execution_count": 5,
     "metadata": {},
     "output_type": "execute_result"
    }
   ],
   "source": [
    "data.shape"
   ]
  },
  {
   "cell_type": "markdown",
   "id": "cb05078b-2a98-4603-a18f-df97c4abedb0",
   "metadata": {},
   "source": [
    "**Downsample dataset**  \n",
    "This will help the MCMC algorithm run faster... can adjust upward for better prediction accuracy, or downward for faster computation. Take random sample of data."
   ]
  },
  {
   "cell_type": "code",
   "execution_count": 6,
   "id": "688c2494-0a52-4937-9aa3-d83519774f1e",
   "metadata": {},
   "outputs": [],
   "source": [
    "# Uncomment this line to use full datasize\n",
    "# n = data.shape[0]"
   ]
  },
  {
   "cell_type": "code",
   "execution_count": 7,
   "id": "81ebf77f-1224-42e2-a7ef-73c78a33ceb4",
   "metadata": {},
   "outputs": [],
   "source": [
    "n = n_all\n",
    "assert n <= data.shape[0] # Can't chose more samples than size of data\n",
    "data = data.sample(n, random_state=n_seed)"
   ]
  },
  {
   "cell_type": "markdown",
   "id": "f5aa2a6d-f7d1-424f-af80-10958704e42a",
   "metadata": {},
   "source": [
    "**Split data into training and test sets**"
   ]
  },
  {
   "cell_type": "code",
   "execution_count": 8,
   "id": "fb54e041-bbb3-4ca1-b2a4-8ef6ca05e8f1",
   "metadata": {},
   "outputs": [
    {
     "data": {
      "text/plain": [
       "(4000, 9)"
      ]
     },
     "execution_count": 8,
     "metadata": {},
     "output_type": "execute_result"
    }
   ],
   "source": [
    "data.shape"
   ]
  },
  {
   "cell_type": "code",
   "execution_count": 9,
   "id": "b74d7e01-ee4b-4ac9-8486-ea15127c1d0c",
   "metadata": {},
   "outputs": [],
   "source": [
    "assert n_test < n_all # Test size should be smaller than full size\n",
    "train_data, test_data = train_test_split(data, test_size=n_test, random_state=split_seed)"
   ]
  },
  {
   "cell_type": "code",
   "execution_count": 10,
   "id": "72d15c10-55cc-4201-ac07-abb3a460e497",
   "metadata": {},
   "outputs": [
    {
     "data": {
      "text/plain": [
       "(1500, 9)"
      ]
     },
     "execution_count": 10,
     "metadata": {},
     "output_type": "execute_result"
    }
   ],
   "source": [
    "train_data.shape"
   ]
  },
  {
   "cell_type": "code",
   "execution_count": 11,
   "id": "69f2908b-83d5-4feb-8ae2-b741f208a770",
   "metadata": {},
   "outputs": [
    {
     "data": {
      "text/plain": [
       "(2500, 9)"
      ]
     },
     "execution_count": 11,
     "metadata": {},
     "output_type": "execute_result"
    }
   ],
   "source": [
    "test_data.shape"
   ]
  },
  {
   "cell_type": "markdown",
   "id": "2756917e-ea1e-4923-891d-8e47350eef18",
   "metadata": {},
   "source": [
    "**Standardize train dataset**  \n",
    "Not sure if this is nessecary, but doesn't hurt and could help."
   ]
  },
  {
   "cell_type": "code",
   "execution_count": 12,
   "id": "38cb434e-e16b-43c6-9d2d-2d9fda5f4872",
   "metadata": {},
   "outputs": [],
   "source": [
    "class DataPrep:\n",
    "    '''\n",
    "    Standardize the data. By writing this as an object, we can save the statistics calculated for the standardization\n",
    "    so we can use them later to predict new datapoints in our model.\n",
    "    '''\n",
    "    def __init__(self):\n",
    "        self.means = dict()\n",
    "        self.stdevs = dict()\n",
    "        \n",
    "    def prep(self, X_df: pd.DataFrame, X_df_all: Optional[pd.DataFrame] = None, \n",
    "             use_prev_standardization=False, standardize=True) -> pd.DataFrame:\n",
    "        \"\"\"\n",
    "        This takes a dataset, and prepares it. Numerical columns are standardized. Categorical columns \n",
    "        are one hot encoded so we can fit a numerical regression with a coefficient for each category.\n",
    "        \n",
    "        From TA's example github for numerical standardization\n",
    "        Standardize input variables by 2 std dev.\n",
    "\n",
    "        For standardization, see:\n",
    "        https://stat.columbia.edu/~gelman/research/published/standardizing7.pdf\n",
    "        https://areding.github.io/6420-pymc/unit7/Unit7-arrhythmia.html\n",
    "        \n",
    "        INPUTS:\n",
    "        X_df - The train or test dataset you want to standardize and one hot encode\n",
    "        X_df_all - The full dataset you sampled X_df from. Used to check that all categorical values in X_df_all are also in X_df. Otherwise,\n",
    "            you will get an output dataset that doesn't fully one hot encode the full dataset and your dimensions will be off. If this fails,\n",
    "            you will need to add more logic to this function to handle the edge case. Right now, it just throws and exception.\n",
    "        use_prev_standardization - Set this to true is X_df is a test set. This will use previously saved means and stdevs from training set \n",
    "            (saved in the object) to standardize the test dataset in the same way. If fasle, will recalculate the means and stdev from X_df.\n",
    "        \n",
    "        RETURNS:\n",
    "        Standardized and one hot encoded dataframe based on X_df input\n",
    "        \"\"\"\n",
    "        \n",
    "        X_standardized = pd.DataFrame()\n",
    "            \n",
    "        for colname in X_df.columns:\n",
    "            col = X_df[colname]\n",
    "            if is_numeric_dtype(col):\n",
    "                if standardize:\n",
    "                    if not use_prev_standardization:\n",
    "                        self.means[colname] = col.mean()\n",
    "                        self.stdevs[colname] = col.std()\n",
    "                    X_standardized[colname] = (col - self.means[colname]) / (2 * self.stdevs[colname])\n",
    "                else:\n",
    "                    if not use_prev_standardization:\n",
    "                        self.means[colname] = None\n",
    "                        self.stdevs[colname] = None\n",
    "                    X_standardized[colname] = col\n",
    "            else:\n",
    "                X_onehot = pd.get_dummies(X_df[colname], prefix=colname, dtype=int)\n",
    "                \n",
    "                # Make sure all categorical values are in subsample. If this breaks,\n",
    "                # add logic to handle this edge case, such as inserting missing column where \n",
    "                # everything is False\n",
    "                X_onehot_all = pd.get_dummies(X_df_all[colname], prefix=colname, dtype=int)\n",
    "                assert set(X_onehot.columns) == set(X_onehot_all.columns)\n",
    "                    \n",
    "                if X_standardized.empty:\n",
    "                    X_standardized = X_onehot\n",
    "                else:\n",
    "                    X_standardized = X_standardized.join(X_onehot)\n",
    "                if not use_prev_standardization:\n",
    "                    onehot_colnames = X_onehot.columns\n",
    "                    for o_colname in onehot_colnames:\n",
    "                        self.means[o_colname] = None\n",
    "                        self.stdevs[o_colname] = None\n",
    "\n",
    "        return X_standardized\n"
   ]
  },
  {
   "cell_type": "code",
   "execution_count": 13,
   "id": "cf25228b-7bc0-4fdb-bb62-a81cbe0c963b",
   "metadata": {},
   "outputs": [],
   "source": [
    "data_preper = DataPrep()\n",
    "train_data_std = data_preper.prep(X_df = train_data, X_df_all = data, standardize=standardize)"
   ]
  },
  {
   "cell_type": "code",
   "execution_count": 14,
   "id": "bfb78427-ef2a-4990-8533-cdcb22a78d68",
   "metadata": {},
   "outputs": [
    {
     "data": {
      "text/html": [
       "<div>\n",
       "<style scoped>\n",
       "    .dataframe tbody tr th:only-of-type {\n",
       "        vertical-align: middle;\n",
       "    }\n",
       "\n",
       "    .dataframe tbody tr th {\n",
       "        vertical-align: top;\n",
       "    }\n",
       "\n",
       "    .dataframe thead th {\n",
       "        text-align: right;\n",
       "    }\n",
       "</style>\n",
       "<table border=\"1\" class=\"dataframe\">\n",
       "  <thead>\n",
       "    <tr style=\"text-align: right;\">\n",
       "      <th></th>\n",
       "      <th>0_F</th>\n",
       "      <th>0_I</th>\n",
       "      <th>0_M</th>\n",
       "      <th>1</th>\n",
       "      <th>2</th>\n",
       "      <th>3</th>\n",
       "      <th>4</th>\n",
       "      <th>5</th>\n",
       "      <th>6</th>\n",
       "      <th>7</th>\n",
       "      <th>8</th>\n",
       "    </tr>\n",
       "  </thead>\n",
       "  <tbody>\n",
       "    <tr>\n",
       "      <th>1335</th>\n",
       "      <td>1</td>\n",
       "      <td>0</td>\n",
       "      <td>0</td>\n",
       "      <td>0.200543</td>\n",
       "      <td>0.349441</td>\n",
       "      <td>0.317187</td>\n",
       "      <td>0.234926</td>\n",
       "      <td>0.322179</td>\n",
       "      <td>0.113948</td>\n",
       "      <td>0.227865</td>\n",
       "      <td>-0.147831</td>\n",
       "    </tr>\n",
       "    <tr>\n",
       "      <th>2944</th>\n",
       "      <td>0</td>\n",
       "      <td>0</td>\n",
       "      <td>1</td>\n",
       "      <td>0.425458</td>\n",
       "      <td>0.498294</td>\n",
       "      <td>0.380956</td>\n",
       "      <td>0.346071</td>\n",
       "      <td>0.278599</td>\n",
       "      <td>0.552176</td>\n",
       "      <td>0.377577</td>\n",
       "      <td>-0.458618</td>\n",
       "    </tr>\n",
       "    <tr>\n",
       "      <th>542</th>\n",
       "      <td>0</td>\n",
       "      <td>0</td>\n",
       "      <td>1</td>\n",
       "      <td>-0.433309</td>\n",
       "      <td>-0.419634</td>\n",
       "      <td>-0.320503</td>\n",
       "      <td>-0.559187</td>\n",
       "      <td>-0.596337</td>\n",
       "      <td>-0.575018</td>\n",
       "      <td>-0.458314</td>\n",
       "      <td>0.784530</td>\n",
       "    </tr>\n",
       "    <tr>\n",
       "      <th>1128</th>\n",
       "      <td>1</td>\n",
       "      <td>0</td>\n",
       "      <td>0</td>\n",
       "      <td>0.139202</td>\n",
       "      <td>0.150970</td>\n",
       "      <td>0.189649</td>\n",
       "      <td>-0.205130</td>\n",
       "      <td>-0.068917</td>\n",
       "      <td>-0.035140</td>\n",
       "      <td>0.010426</td>\n",
       "      <td>-0.303224</td>\n",
       "    </tr>\n",
       "    <tr>\n",
       "      <th>1870</th>\n",
       "      <td>0</td>\n",
       "      <td>1</td>\n",
       "      <td>0</td>\n",
       "      <td>0.016521</td>\n",
       "      <td>0.101352</td>\n",
       "      <td>-0.001658</td>\n",
       "      <td>-0.168417</td>\n",
       "      <td>-0.153841</td>\n",
       "      <td>-0.396564</td>\n",
       "      <td>-0.043042</td>\n",
       "      <td>-0.303224</td>\n",
       "    </tr>\n",
       "  </tbody>\n",
       "</table>\n",
       "</div>"
      ],
      "text/plain": [
       "      0_F  0_I  0_M         1         2         3         4         5  \\\n",
       "1335    1    0    0  0.200543  0.349441  0.317187  0.234926  0.322179   \n",
       "2944    0    0    1  0.425458  0.498294  0.380956  0.346071  0.278599   \n",
       "542     0    0    1 -0.433309 -0.419634 -0.320503 -0.559187 -0.596337   \n",
       "1128    1    0    0  0.139202  0.150970  0.189649 -0.205130 -0.068917   \n",
       "1870    0    1    0  0.016521  0.101352 -0.001658 -0.168417 -0.153841   \n",
       "\n",
       "             6         7         8  \n",
       "1335  0.113948  0.227865 -0.147831  \n",
       "2944  0.552176  0.377577 -0.458618  \n",
       "542  -0.575018 -0.458314  0.784530  \n",
       "1128 -0.035140  0.010426 -0.303224  \n",
       "1870 -0.396564 -0.043042 -0.303224  "
      ]
     },
     "execution_count": 14,
     "metadata": {},
     "output_type": "execute_result"
    }
   ],
   "source": [
    "train_data_std.head()"
   ]
  },
  {
   "cell_type": "code",
   "execution_count": 15,
   "id": "c462f0bd-fca5-494d-a9b2-cfde83e43a79",
   "metadata": {},
   "outputs": [
    {
     "data": {
      "text/plain": [
       "(1500, 11)"
      ]
     },
     "execution_count": 15,
     "metadata": {},
     "output_type": "execute_result"
    }
   ],
   "source": [
    "train_data_std.shape"
   ]
  },
  {
   "cell_type": "code",
   "execution_count": 16,
   "id": "cccb3f63-aa3f-4044-adfa-076dc2d84df5",
   "metadata": {},
   "outputs": [
    {
     "data": {
      "text/plain": [
       "{'0_F': None,\n",
       " '0_I': None,\n",
       " '0_M': None,\n",
       " 1: 0.52596,\n",
       " 2: 0.4095733333333333,\n",
       " 3: 0.14013,\n",
       " 4: 0.8444386666666666,\n",
       " 5: 0.3668376666666666,\n",
       " 6: 0.18427800000000003,\n",
       " 7: 0.24207499999999996,\n",
       " 8: 9.951333333333332}"
      ]
     },
     "execution_count": 16,
     "metadata": {},
     "output_type": "execute_result"
    }
   ],
   "source": [
    "data_preper.means"
   ]
  },
  {
   "cell_type": "code",
   "execution_count": 17,
   "id": "ef06a4cf-93d6-4981-ad0e-660633a0d611",
   "metadata": {},
   "outputs": [
    {
     "data": {
      "text/plain": [
       "{'0_F': None,\n",
       " '0_I': None,\n",
       " '0_M': None,\n",
       " 1: 0.12226833099038954,\n",
       " 2: 0.10077047061211507,\n",
       " 3: 0.039204052577410005,\n",
       " 4: 0.49709575103329184,\n",
       " 5: 0.22373050315036502,\n",
       " 6: 0.1106730759300738,\n",
       " 7: 0.14026943674558362,\n",
       " 8: 3.217638941179192}"
      ]
     },
     "execution_count": 17,
     "metadata": {},
     "output_type": "execute_result"
    }
   ],
   "source": [
    "data_preper.stdevs"
   ]
  },
  {
   "cell_type": "code",
   "execution_count": 18,
   "id": "92b47480-2f70-4028-b06d-c5045ddbfe1e",
   "metadata": {},
   "outputs": [],
   "source": [
    "X_train = train_data_std.drop(8, axis=1).to_numpy()\n",
    "y_train = train_data_std[8].to_numpy()"
   ]
  },
  {
   "cell_type": "code",
   "execution_count": 19,
   "id": "ae95b51e-ed5e-4d8e-8014-536cef232e10",
   "metadata": {},
   "outputs": [
    {
     "data": {
      "text/plain": [
       "array([[ 1.        ,  0.        ,  0.        , ...,  0.32217854,\n",
       "         0.11394822,  0.22786503],\n",
       "       [ 0.        ,  0.        ,  1.        , ...,  0.27859932,\n",
       "         0.55217585,  0.37757691],\n",
       "       [ 0.        ,  0.        ,  1.        , ..., -0.59633725,\n",
       "        -0.5750179 , -0.45831438],\n",
       "       ...,\n",
       "       [ 1.        ,  0.        ,  0.        , ..., -0.50582657,\n",
       "        -0.38752876, -0.50643605],\n",
       "       [ 0.        ,  1.        ,  0.        , ..., -0.77735861,\n",
       "        -0.78283719, -0.8165535 ],\n",
       "       [ 0.        ,  1.        ,  0.        , ..., -0.62650748,\n",
       "        -0.64278506, -0.61337311]])"
      ]
     },
     "execution_count": 19,
     "metadata": {},
     "output_type": "execute_result"
    }
   ],
   "source": [
    "X_train"
   ]
  },
  {
   "cell_type": "markdown",
   "id": "bab08c31-35f9-417c-8ce9-b066783830cf",
   "metadata": {},
   "source": [
    "**Apply standardization to test dataset**"
   ]
  },
  {
   "cell_type": "code",
   "execution_count": 20,
   "id": "1ddfbd5e-d893-4de5-b907-fc1c8c2cd725",
   "metadata": {},
   "outputs": [],
   "source": [
    "test_data_std = data_preper.prep(X_df = test_data, X_df_all = data, use_prev_standardization=True, standardize=standardize)"
   ]
  },
  {
   "cell_type": "code",
   "execution_count": 21,
   "id": "4e492b6a-e6d8-464c-9891-a2eb49ecf7aa",
   "metadata": {},
   "outputs": [
    {
     "data": {
      "text/html": [
       "<div>\n",
       "<style scoped>\n",
       "    .dataframe tbody tr th:only-of-type {\n",
       "        vertical-align: middle;\n",
       "    }\n",
       "\n",
       "    .dataframe tbody tr th {\n",
       "        vertical-align: top;\n",
       "    }\n",
       "\n",
       "    .dataframe thead th {\n",
       "        text-align: right;\n",
       "    }\n",
       "</style>\n",
       "<table border=\"1\" class=\"dataframe\">\n",
       "  <thead>\n",
       "    <tr style=\"text-align: right;\">\n",
       "      <th></th>\n",
       "      <th>0_F</th>\n",
       "      <th>0_I</th>\n",
       "      <th>0_M</th>\n",
       "      <th>1</th>\n",
       "      <th>2</th>\n",
       "      <th>3</th>\n",
       "      <th>4</th>\n",
       "      <th>5</th>\n",
       "      <th>6</th>\n",
       "      <th>7</th>\n",
       "      <th>8</th>\n",
       "    </tr>\n",
       "  </thead>\n",
       "  <tbody>\n",
       "    <tr>\n",
       "      <th>2194</th>\n",
       "      <td>0</td>\n",
       "      <td>1</td>\n",
       "      <td>0</td>\n",
       "      <td>-0.392416</td>\n",
       "      <td>-0.419634</td>\n",
       "      <td>-0.384271</td>\n",
       "      <td>-0.479725</td>\n",
       "      <td>-0.517001</td>\n",
       "      <td>-0.410118</td>\n",
       "      <td>-0.435145</td>\n",
       "      <td>0.473743</td>\n",
       "    </tr>\n",
       "    <tr>\n",
       "      <th>2879</th>\n",
       "      <td>0</td>\n",
       "      <td>1</td>\n",
       "      <td>0</td>\n",
       "      <td>-0.228841</td>\n",
       "      <td>-0.121927</td>\n",
       "      <td>-0.129196</td>\n",
       "      <td>-0.258943</td>\n",
       "      <td>-0.229825</td>\n",
       "      <td>-0.303949</td>\n",
       "      <td>-0.242658</td>\n",
       "      <td>-0.303224</td>\n",
       "    </tr>\n",
       "    <tr>\n",
       "      <th>3320</th>\n",
       "      <td>1</td>\n",
       "      <td>0</td>\n",
       "      <td>0</td>\n",
       "      <td>0.036968</td>\n",
       "      <td>0.076544</td>\n",
       "      <td>0.189649</td>\n",
       "      <td>-0.068336</td>\n",
       "      <td>-0.144901</td>\n",
       "      <td>-0.125496</td>\n",
       "      <td>0.028249</td>\n",
       "      <td>0.939923</td>\n",
       "    </tr>\n",
       "    <tr>\n",
       "      <th>691</th>\n",
       "      <td>0</td>\n",
       "      <td>1</td>\n",
       "      <td>0</td>\n",
       "      <td>-1.108055</td>\n",
       "      <td>-1.089473</td>\n",
       "      <td>-0.830654</td>\n",
       "      <td>-0.762367</td>\n",
       "      <td>-0.742719</td>\n",
       "      <td>-0.739918</td>\n",
       "      <td>-0.773779</td>\n",
       "      <td>-0.769405</td>\n",
       "    </tr>\n",
       "    <tr>\n",
       "      <th>3415</th>\n",
       "      <td>1</td>\n",
       "      <td>0</td>\n",
       "      <td>0</td>\n",
       "      <td>0.139202</td>\n",
       "      <td>0.275014</td>\n",
       "      <td>0.253418</td>\n",
       "      <td>0.188154</td>\n",
       "      <td>0.145627</td>\n",
       "      <td>0.082324</td>\n",
       "      <td>0.338367</td>\n",
       "      <td>-0.147831</td>\n",
       "    </tr>\n",
       "  </tbody>\n",
       "</table>\n",
       "</div>"
      ],
      "text/plain": [
       "      0_F  0_I  0_M         1         2         3         4         5  \\\n",
       "2194    0    1    0 -0.392416 -0.419634 -0.384271 -0.479725 -0.517001   \n",
       "2879    0    1    0 -0.228841 -0.121927 -0.129196 -0.258943 -0.229825   \n",
       "3320    1    0    0  0.036968  0.076544  0.189649 -0.068336 -0.144901   \n",
       "691     0    1    0 -1.108055 -1.089473 -0.830654 -0.762367 -0.742719   \n",
       "3415    1    0    0  0.139202  0.275014  0.253418  0.188154  0.145627   \n",
       "\n",
       "             6         7         8  \n",
       "2194 -0.410118 -0.435145  0.473743  \n",
       "2879 -0.303949 -0.242658 -0.303224  \n",
       "3320 -0.125496  0.028249  0.939923  \n",
       "691  -0.739918 -0.773779 -0.769405  \n",
       "3415  0.082324  0.338367 -0.147831  "
      ]
     },
     "execution_count": 21,
     "metadata": {},
     "output_type": "execute_result"
    }
   ],
   "source": [
    "test_data_std.head()"
   ]
  },
  {
   "cell_type": "code",
   "execution_count": 22,
   "id": "a7ab3786-45de-4950-944b-f00c15b2b9e8",
   "metadata": {},
   "outputs": [
    {
     "data": {
      "text/plain": [
       "(2500, 11)"
      ]
     },
     "execution_count": 22,
     "metadata": {},
     "output_type": "execute_result"
    }
   ],
   "source": [
    "test_data_std.shape"
   ]
  },
  {
   "cell_type": "code",
   "execution_count": 23,
   "id": "b4d7e268-107d-4dbb-a8d2-8d776aee03e6",
   "metadata": {},
   "outputs": [],
   "source": [
    "X_test = test_data_std.drop(8, axis=1).to_numpy()\n",
    "y_test = test_data_std[8].to_numpy()"
   ]
  },
  {
   "cell_type": "code",
   "execution_count": 24,
   "id": "81f382f4-faf9-4578-9735-e0ce18c4cb22",
   "metadata": {},
   "outputs": [
    {
     "data": {
      "text/plain": [
       "array([ 0.47374282, -0.30322441,  0.93992315, -0.76940474, -0.14783096,\n",
       "        0.00756248, -0.14783096,  1.56149693, -0.14783096, -0.14783096,\n",
       "       -0.14783096, -0.14783096,  0.31834937,  0.16295593,  0.16295593,\n",
       "        0.00756248, -0.45861785, -0.45861785,  0.16295593,  0.31834937,\n",
       "        0.00756248, -0.6140113 ,  0.00756248,  0.00756248, -0.45861785,\n",
       "       -0.14783096,  0.00756248,  0.16295593, -0.14783096, -0.14783096,\n",
       "        0.00756248, -0.6140113 , -0.76940474,  0.16295593,  0.93992315,\n",
       "        0.31834937, -0.45861785, -0.30322441,  0.00756248,  0.16295593])"
      ]
     },
     "execution_count": 24,
     "metadata": {},
     "output_type": "execute_result"
    }
   ],
   "source": [
    "y_test[:40]"
   ]
  },
  {
   "cell_type": "markdown",
   "id": "6f34cf85-173c-43a6-bb7a-69ae0af16fee",
   "metadata": {},
   "source": [
    "### Fit linear regression model"
   ]
  },
  {
   "cell_type": "markdown",
   "id": "77c3bf09-d4f3-4536-8f9a-d16794a68435",
   "metadata": {},
   "source": [
    "Some examples that were referenced:  \n",
    "https://www.pymc.io/projects/examples/en/latest/generalized_linear_models/GLM-robust.html  \n",
    "https://www.pymc.io/projects/examples/en/latest/generalized_linear_models/GLM-out-of-sample-predictions.html  "
   ]
  },
  {
   "cell_type": "code",
   "execution_count": 25,
   "id": "1cdee0e0-6a89-4154-98df-1c80150d263b",
   "metadata": {},
   "outputs": [
    {
     "name": "stderr",
     "output_type": "stream",
     "text": [
      "Auto-assigning NUTS sampler...\n",
      "Initializing NUTS using jitter+adapt_diag...\n",
      "Multiprocess sampling (4 chains in 4 jobs)\n",
      "NUTS: [intercept, coeffs, sigma]\n"
     ]
    },
    {
     "data": {
      "text/html": [
       "\n",
       "<style>\n",
       "    /* Turns off some styling */\n",
       "    progress {\n",
       "        /* gets rid of default border in Firefox and Opera. */\n",
       "        border: none;\n",
       "        /* Needs to be in here for Safari polyfill so background images work as expected. */\n",
       "        background-size: auto;\n",
       "    }\n",
       "    progress:not([value]), progress:not([value])::-webkit-progress-bar {\n",
       "        background: repeating-linear-gradient(45deg, #7e7e7e, #7e7e7e 10px, #5c5c5c 10px, #5c5c5c 20px);\n",
       "    }\n",
       "    .progress-bar-interrupted, .progress-bar-interrupted::-webkit-progress-bar {\n",
       "        background: #F44336;\n",
       "    }\n",
       "</style>\n"
      ],
      "text/plain": [
       "<IPython.core.display.HTML object>"
      ]
     },
     "metadata": {},
     "output_type": "display_data"
    },
    {
     "data": {
      "text/html": [
       "\n",
       "    <div>\n",
       "      <progress value='6000' class='' max='6000' style='width:300px; height:20px; vertical-align: middle;'></progress>\n",
       "      100.00% [6000/6000 03:35&lt;00:00 Sampling 4 chains, 0 divergences]\n",
       "    </div>\n",
       "    "
      ],
      "text/plain": [
       "<IPython.core.display.HTML object>"
      ]
     },
     "metadata": {},
     "output_type": "display_data"
    },
    {
     "name": "stderr",
     "output_type": "stream",
     "text": [
      "Sampling 4 chains for 1_000 tune and 500 draw iterations (4_000 + 2_000 draws total) took 216 seconds.\n",
      "Chain 0 reached the maximum tree depth. Increase `max_treedepth`, increase `target_accept` or reparameterize.\n",
      "Chain 1 reached the maximum tree depth. Increase `max_treedepth`, increase `target_accept` or reparameterize.\n",
      "Chain 2 reached the maximum tree depth. Increase `max_treedepth`, increase `target_accept` or reparameterize.\n",
      "Chain 3 reached the maximum tree depth. Increase `max_treedepth`, increase `target_accept` or reparameterize.\n",
      "Sampling: [age_of_tree]\n"
     ]
    },
    {
     "data": {
      "text/html": [
       "\n",
       "<style>\n",
       "    /* Turns off some styling */\n",
       "    progress {\n",
       "        /* gets rid of default border in Firefox and Opera. */\n",
       "        border: none;\n",
       "        /* Needs to be in here for Safari polyfill so background images work as expected. */\n",
       "        background-size: auto;\n",
       "    }\n",
       "    progress:not([value]), progress:not([value])::-webkit-progress-bar {\n",
       "        background: repeating-linear-gradient(45deg, #7e7e7e, #7e7e7e 10px, #5c5c5c 10px, #5c5c5c 20px);\n",
       "    }\n",
       "    .progress-bar-interrupted, .progress-bar-interrupted::-webkit-progress-bar {\n",
       "        background: #F44336;\n",
       "    }\n",
       "</style>\n"
      ],
      "text/plain": [
       "<IPython.core.display.HTML object>"
      ]
     },
     "metadata": {},
     "output_type": "display_data"
    },
    {
     "data": {
      "text/html": [
       "\n",
       "    <div>\n",
       "      <progress value='2000' class='' max='2000' style='width:300px; height:20px; vertical-align: middle;'></progress>\n",
       "      100.00% [2000/2000 00:00&lt;00:00]\n",
       "    </div>\n",
       "    "
      ],
      "text/plain": [
       "<IPython.core.display.HTML object>"
      ]
     },
     "metadata": {},
     "output_type": "display_data"
    }
   ],
   "source": [
    "with pm.Model() as m_linear:\n",
    "    # associate data with model (this makes prediction easier)\n",
    "    X_data = pm.Data(\"X\", X_train, mutable=True)\n",
    "    y_data = pm.Data(\"y\", y_train, mutable=True)\n",
    "    \n",
    "    intercept = pm.StudentT(\"intercept\", mu=0, sigma=5, nu=3)\n",
    "    coeffs = pm.StudentT(\"coeffs\", mu=0, sigma=5, nu=3, shape=X_data.shape[1])\n",
    "    sigma = pm.HalfCauchy(\"sigma\", beta=10)\n",
    "\n",
    "    mu = intercept + pm.math.dot(X_data, coeffs)\n",
    "\n",
    "    # likelihood\n",
    "    pm.StudentT(\"age_of_tree\", mu=mu, sigma=sigma, nu=3, observed=y_data)\n",
    "\n",
    "    # start sampling\n",
    "    trace_linear = pm.sample(linear_model_n_samples)\n",
    "    ppc = pm.sample_posterior_predictive(trace_linear)\n",
    "    \n",
    "    y_pred = ppc.posterior_predictive.stack(sample=(\"chain\", \"draw\"))[\"age_of_tree\"].values.T.mean(axis=0)"
   ]
  },
  {
   "cell_type": "code",
   "execution_count": 26,
   "id": "2521611d-0dfb-43a5-8c21-9353d52eea8b",
   "metadata": {},
   "outputs": [
    {
     "data": {
      "text/plain": [
       "(1500,)"
      ]
     },
     "execution_count": 26,
     "metadata": {},
     "output_type": "execute_result"
    }
   ],
   "source": [
    "y_pred.shape"
   ]
  },
  {
   "cell_type": "code",
   "execution_count": 27,
   "id": "6ac19b0e-2698-45b1-990a-16fc6bb96cad",
   "metadata": {},
   "outputs": [
    {
     "data": {
      "text/html": [
       "<div>\n",
       "<style scoped>\n",
       "    .dataframe tbody tr th:only-of-type {\n",
       "        vertical-align: middle;\n",
       "    }\n",
       "\n",
       "    .dataframe tbody tr th {\n",
       "        vertical-align: top;\n",
       "    }\n",
       "\n",
       "    .dataframe thead th {\n",
       "        text-align: right;\n",
       "    }\n",
       "</style>\n",
       "<table border=\"1\" class=\"dataframe\">\n",
       "  <thead>\n",
       "    <tr style=\"text-align: right;\">\n",
       "      <th></th>\n",
       "      <th>mean</th>\n",
       "      <th>sd</th>\n",
       "      <th>hdi_2.5%</th>\n",
       "      <th>hdi_97.5%</th>\n",
       "      <th>mcse_mean</th>\n",
       "      <th>mcse_sd</th>\n",
       "      <th>ess_bulk</th>\n",
       "      <th>ess_tail</th>\n",
       "      <th>r_hat</th>\n",
       "    </tr>\n",
       "  </thead>\n",
       "  <tbody>\n",
       "    <tr>\n",
       "      <th>intercept</th>\n",
       "      <td>0.055</td>\n",
       "      <td>2.365</td>\n",
       "      <td>-4.607</td>\n",
       "      <td>4.923</td>\n",
       "      <td>0.100</td>\n",
       "      <td>0.071</td>\n",
       "      <td>566.0</td>\n",
       "      <td>714.0</td>\n",
       "      <td>1.00</td>\n",
       "    </tr>\n",
       "    <tr>\n",
       "      <th>coeffs[0]</th>\n",
       "      <td>-0.096</td>\n",
       "      <td>2.365</td>\n",
       "      <td>-4.941</td>\n",
       "      <td>4.597</td>\n",
       "      <td>0.100</td>\n",
       "      <td>0.071</td>\n",
       "      <td>565.0</td>\n",
       "      <td>711.0</td>\n",
       "      <td>1.00</td>\n",
       "    </tr>\n",
       "    <tr>\n",
       "      <th>coeffs[1]</th>\n",
       "      <td>-0.168</td>\n",
       "      <td>2.365</td>\n",
       "      <td>-5.014</td>\n",
       "      <td>4.494</td>\n",
       "      <td>0.100</td>\n",
       "      <td>0.071</td>\n",
       "      <td>565.0</td>\n",
       "      <td>765.0</td>\n",
       "      <td>1.00</td>\n",
       "    </tr>\n",
       "    <tr>\n",
       "      <th>coeffs[2]</th>\n",
       "      <td>-0.061</td>\n",
       "      <td>2.365</td>\n",
       "      <td>-4.906</td>\n",
       "      <td>4.633</td>\n",
       "      <td>0.100</td>\n",
       "      <td>0.071</td>\n",
       "      <td>566.0</td>\n",
       "      <td>710.0</td>\n",
       "      <td>1.00</td>\n",
       "    </tr>\n",
       "    <tr>\n",
       "      <th>coeffs[3]</th>\n",
       "      <td>0.013</td>\n",
       "      <td>0.096</td>\n",
       "      <td>-0.172</td>\n",
       "      <td>0.207</td>\n",
       "      <td>0.003</td>\n",
       "      <td>0.002</td>\n",
       "      <td>1274.0</td>\n",
       "      <td>1283.0</td>\n",
       "      <td>1.00</td>\n",
       "    </tr>\n",
       "    <tr>\n",
       "      <th>coeffs[4]</th>\n",
       "      <td>0.290</td>\n",
       "      <td>0.099</td>\n",
       "      <td>0.092</td>\n",
       "      <td>0.485</td>\n",
       "      <td>0.003</td>\n",
       "      <td>0.002</td>\n",
       "      <td>1298.0</td>\n",
       "      <td>1138.0</td>\n",
       "      <td>1.00</td>\n",
       "    </tr>\n",
       "    <tr>\n",
       "      <th>coeffs[5]</th>\n",
       "      <td>0.209</td>\n",
       "      <td>0.042</td>\n",
       "      <td>0.129</td>\n",
       "      <td>0.289</td>\n",
       "      <td>0.001</td>\n",
       "      <td>0.001</td>\n",
       "      <td>1524.0</td>\n",
       "      <td>1248.0</td>\n",
       "      <td>1.00</td>\n",
       "    </tr>\n",
       "    <tr>\n",
       "      <th>coeffs[6]</th>\n",
       "      <td>1.451</td>\n",
       "      <td>0.198</td>\n",
       "      <td>1.097</td>\n",
       "      <td>1.881</td>\n",
       "      <td>0.007</td>\n",
       "      <td>0.005</td>\n",
       "      <td>768.0</td>\n",
       "      <td>1018.0</td>\n",
       "      <td>1.01</td>\n",
       "    </tr>\n",
       "    <tr>\n",
       "      <th>coeffs[7]</th>\n",
       "      <td>-1.291</td>\n",
       "      <td>0.104</td>\n",
       "      <td>-1.495</td>\n",
       "      <td>-1.089</td>\n",
       "      <td>0.004</td>\n",
       "      <td>0.003</td>\n",
       "      <td>866.0</td>\n",
       "      <td>1356.0</td>\n",
       "      <td>1.00</td>\n",
       "    </tr>\n",
       "    <tr>\n",
       "      <th>coeffs[8]</th>\n",
       "      <td>-0.373</td>\n",
       "      <td>0.069</td>\n",
       "      <td>-0.517</td>\n",
       "      <td>-0.248</td>\n",
       "      <td>0.002</td>\n",
       "      <td>0.001</td>\n",
       "      <td>1191.0</td>\n",
       "      <td>1337.0</td>\n",
       "      <td>1.01</td>\n",
       "    </tr>\n",
       "    <tr>\n",
       "      <th>coeffs[9]</th>\n",
       "      <td>0.202</td>\n",
       "      <td>0.083</td>\n",
       "      <td>0.037</td>\n",
       "      <td>0.361</td>\n",
       "      <td>0.003</td>\n",
       "      <td>0.002</td>\n",
       "      <td>1013.0</td>\n",
       "      <td>1517.0</td>\n",
       "      <td>1.00</td>\n",
       "    </tr>\n",
       "    <tr>\n",
       "      <th>sigma</th>\n",
       "      <td>0.225</td>\n",
       "      <td>0.006</td>\n",
       "      <td>0.214</td>\n",
       "      <td>0.236</td>\n",
       "      <td>0.000</td>\n",
       "      <td>0.000</td>\n",
       "      <td>1770.0</td>\n",
       "      <td>1358.0</td>\n",
       "      <td>1.00</td>\n",
       "    </tr>\n",
       "  </tbody>\n",
       "</table>\n",
       "</div>"
      ],
      "text/plain": [
       "            mean     sd  hdi_2.5%  hdi_97.5%  mcse_mean  mcse_sd  ess_bulk  \\\n",
       "intercept  0.055  2.365    -4.607      4.923      0.100    0.071     566.0   \n",
       "coeffs[0] -0.096  2.365    -4.941      4.597      0.100    0.071     565.0   \n",
       "coeffs[1] -0.168  2.365    -5.014      4.494      0.100    0.071     565.0   \n",
       "coeffs[2] -0.061  2.365    -4.906      4.633      0.100    0.071     566.0   \n",
       "coeffs[3]  0.013  0.096    -0.172      0.207      0.003    0.002    1274.0   \n",
       "coeffs[4]  0.290  0.099     0.092      0.485      0.003    0.002    1298.0   \n",
       "coeffs[5]  0.209  0.042     0.129      0.289      0.001    0.001    1524.0   \n",
       "coeffs[6]  1.451  0.198     1.097      1.881      0.007    0.005     768.0   \n",
       "coeffs[7] -1.291  0.104    -1.495     -1.089      0.004    0.003     866.0   \n",
       "coeffs[8] -0.373  0.069    -0.517     -0.248      0.002    0.001    1191.0   \n",
       "coeffs[9]  0.202  0.083     0.037      0.361      0.003    0.002    1013.0   \n",
       "sigma      0.225  0.006     0.214      0.236      0.000    0.000    1770.0   \n",
       "\n",
       "           ess_tail  r_hat  \n",
       "intercept     714.0   1.00  \n",
       "coeffs[0]     711.0   1.00  \n",
       "coeffs[1]     765.0   1.00  \n",
       "coeffs[2]     710.0   1.00  \n",
       "coeffs[3]    1283.0   1.00  \n",
       "coeffs[4]    1138.0   1.00  \n",
       "coeffs[5]    1248.0   1.00  \n",
       "coeffs[6]    1018.0   1.01  \n",
       "coeffs[7]    1356.0   1.00  \n",
       "coeffs[8]    1337.0   1.01  \n",
       "coeffs[9]    1517.0   1.00  \n",
       "sigma        1358.0   1.00  "
      ]
     },
     "execution_count": 27,
     "metadata": {},
     "output_type": "execute_result"
    }
   ],
   "source": [
    "az.summary(trace_linear, hdi_prob=0.95)"
   ]
  },
  {
   "cell_type": "markdown",
   "id": "fc428473-bfed-4297-8e32-28661ab6c747",
   "metadata": {},
   "source": [
    "Above, coefficients 4, 5, 6, 7, 8, and 9 appear statistically significant as their CS doesn't contain zero. Maybe retry regression and drop these other variables."
   ]
  },
  {
   "cell_type": "code",
   "execution_count": 28,
   "id": "2b2a9ebd-986e-4f47-9ca3-ceec3d920c29",
   "metadata": {},
   "outputs": [
    {
     "data": {
      "image/svg+xml": [
       "<?xml version=\"1.0\" encoding=\"UTF-8\" standalone=\"no\"?>\n",
       "<!DOCTYPE svg PUBLIC \"-//W3C//DTD SVG 1.1//EN\"\n",
       " \"http://www.w3.org/Graphics/SVG/1.1/DTD/svg11.dtd\">\n",
       "<!-- Generated by graphviz version 9.0.0 (20231125.0833)\n",
       " -->\n",
       "<!-- Pages: 1 -->\n",
       "<svg width=\"482pt\" height=\"369pt\"\n",
       " viewBox=\"0.00 0.00 482.00 369.13\" xmlns=\"http://www.w3.org/2000/svg\" xmlns:xlink=\"http://www.w3.org/1999/xlink\">\n",
       "<g id=\"graph0\" class=\"graph\" transform=\"scale(1 1) rotate(0) translate(4 365.13)\">\n",
       "<polygon fill=\"white\" stroke=\"none\" points=\"-4,4 -4,-365.13 478,-365.13 478,4 -4,4\"/>\n",
       "<g id=\"clust1\" class=\"cluster\">\n",
       "<title>cluster1500 x 10</title>\n",
       "<path fill=\"none\" stroke=\"black\" d=\"M20,-243.23C20,-243.23 100,-243.23 100,-243.23 106,-243.23 112,-249.23 112,-255.23 112,-255.23 112,-329.23 112,-329.23 112,-335.23 106,-341.23 100,-341.23 100,-341.23 20,-341.23 20,-341.23 14,-341.23 8,-335.23 8,-329.23 8,-329.23 8,-255.23 8,-255.23 8,-249.23 14,-243.23 20,-243.23\"/>\n",
       "<text text-anchor=\"middle\" x=\"76.62\" y=\"-250.43\" font-family=\"Times,serif\" font-size=\"14.00\">1500 x 10</text>\n",
       "</g>\n",
       "<g id=\"clust2\" class=\"cluster\">\n",
       "<title>cluster1500</title>\n",
       "<path fill=\"none\" stroke=\"black\" d=\"M177,-8C177,-8 281,-8 281,-8 287,-8 293,-14 293,-20 293,-20 293,-211.32 293,-211.32 293,-217.32 287,-223.32 281,-223.32 281,-223.32 177,-223.32 177,-223.32 171,-223.32 165,-217.32 165,-211.32 165,-211.32 165,-20 165,-20 165,-14 171,-8 177,-8\"/>\n",
       "<text text-anchor=\"middle\" x=\"271.5\" y=\"-15.2\" font-family=\"Times,serif\" font-size=\"14.00\">1500</text>\n",
       "</g>\n",
       "<g id=\"clust3\" class=\"cluster\">\n",
       "<title>cluster10</title>\n",
       "<path fill=\"none\" stroke=\"black\" d=\"M370,-231.32C370,-231.32 454,-231.32 454,-231.32 460,-231.32 466,-237.32 466,-243.32 466,-243.32 466,-341.13 466,-341.13 466,-347.13 460,-353.13 454,-353.13 454,-353.13 370,-353.13 370,-353.13 364,-353.13 358,-347.13 358,-341.13 358,-341.13 358,-243.32 358,-243.32 358,-237.32 364,-231.32 370,-231.32\"/>\n",
       "<text text-anchor=\"middle\" x=\"451.25\" y=\"-238.52\" font-family=\"Times,serif\" font-size=\"14.00\">10</text>\n",
       "</g>\n",
       "<!-- X -->\n",
       "<g id=\"node1\" class=\"node\">\n",
       "<title>X</title>\n",
       "<path fill=\"lightgrey\" stroke=\"black\" d=\"M91.62,-333.23C91.62,-333.23 28.38,-333.23 28.38,-333.23 22.38,-333.23 16.38,-327.23 16.38,-321.23 16.38,-321.23 16.38,-287.73 16.38,-287.73 16.38,-281.73 22.38,-275.73 28.38,-275.73 28.38,-275.73 91.62,-275.73 91.62,-275.73 97.62,-275.73 103.62,-281.73 103.62,-287.73 103.62,-287.73 103.62,-321.23 103.62,-321.23 103.62,-327.23 97.62,-333.23 91.62,-333.23\"/>\n",
       "<text text-anchor=\"middle\" x=\"60\" y=\"-315.93\" font-family=\"Times,serif\" font-size=\"14.00\">X</text>\n",
       "<text text-anchor=\"middle\" x=\"60\" y=\"-299.43\" font-family=\"Times,serif\" font-size=\"14.00\">~</text>\n",
       "<text text-anchor=\"middle\" x=\"60\" y=\"-282.93\" font-family=\"Times,serif\" font-size=\"14.00\">MutableData</text>\n",
       "</g>\n",
       "<!-- age_of_tree -->\n",
       "<g id=\"node2\" class=\"node\">\n",
       "<title>age_of_tree</title>\n",
       "<ellipse fill=\"lightgrey\" stroke=\"black\" cx=\"229\" cy=\"-174.66\" rx=\"56.39\" ry=\"40.66\"/>\n",
       "<text text-anchor=\"middle\" x=\"229\" y=\"-186.11\" font-family=\"Times,serif\" font-size=\"14.00\">age_of_tree</text>\n",
       "<text text-anchor=\"middle\" x=\"229\" y=\"-169.61\" font-family=\"Times,serif\" font-size=\"14.00\">~</text>\n",
       "<text text-anchor=\"middle\" x=\"229\" y=\"-153.11\" font-family=\"Times,serif\" font-size=\"14.00\">StudentT</text>\n",
       "</g>\n",
       "<!-- X&#45;&gt;age_of_tree -->\n",
       "<g id=\"edge5\" class=\"edge\">\n",
       "<title>X&#45;&gt;age_of_tree</title>\n",
       "<path fill=\"none\" stroke=\"black\" d=\"M75.91,-275.52C85.27,-260.93 98.16,-243.62 113,-231.32 129.25,-217.84 149.31,-206.73 168.15,-198.08\"/>\n",
       "<polygon fill=\"black\" stroke=\"black\" points=\"169.34,-201.37 177.08,-194.13 166.52,-194.97 169.34,-201.37\"/>\n",
       "</g>\n",
       "<!-- y -->\n",
       "<g id=\"node3\" class=\"node\">\n",
       "<title>y</title>\n",
       "<path fill=\"lightgrey\" stroke=\"black\" d=\"M260.62,-98C260.62,-98 197.38,-98 197.38,-98 191.38,-98 185.38,-92 185.38,-86 185.38,-86 185.38,-52.5 185.38,-52.5 185.38,-46.5 191.38,-40.5 197.38,-40.5 197.38,-40.5 260.62,-40.5 260.62,-40.5 266.62,-40.5 272.62,-46.5 272.62,-52.5 272.62,-52.5 272.62,-86 272.62,-86 272.62,-92 266.62,-98 260.62,-98\"/>\n",
       "<text text-anchor=\"middle\" x=\"229\" y=\"-80.7\" font-family=\"Times,serif\" font-size=\"14.00\">y</text>\n",
       "<text text-anchor=\"middle\" x=\"229\" y=\"-64.2\" font-family=\"Times,serif\" font-size=\"14.00\">~</text>\n",
       "<text text-anchor=\"middle\" x=\"229\" y=\"-47.7\" font-family=\"Times,serif\" font-size=\"14.00\">MutableData</text>\n",
       "</g>\n",
       "<!-- age_of_tree&#45;&gt;y -->\n",
       "<g id=\"edge1\" class=\"edge\">\n",
       "<title>age_of_tree&#45;&gt;y</title>\n",
       "<path fill=\"none\" stroke=\"black\" d=\"M229,-133.68C229,-125.83 229,-117.6 229,-109.76\"/>\n",
       "<polygon fill=\"black\" stroke=\"black\" points=\"232.5,-109.79 229,-99.79 225.5,-109.79 232.5,-109.79\"/>\n",
       "</g>\n",
       "<!-- intercept -->\n",
       "<g id=\"node4\" class=\"node\">\n",
       "<title>intercept</title>\n",
       "<ellipse fill=\"none\" stroke=\"black\" cx=\"168\" cy=\"-304.48\" rx=\"46.32\" ry=\"40.66\"/>\n",
       "<text text-anchor=\"middle\" x=\"168\" y=\"-315.93\" font-family=\"Times,serif\" font-size=\"14.00\">intercept</text>\n",
       "<text text-anchor=\"middle\" x=\"168\" y=\"-299.43\" font-family=\"Times,serif\" font-size=\"14.00\">~</text>\n",
       "<text text-anchor=\"middle\" x=\"168\" y=\"-282.93\" font-family=\"Times,serif\" font-size=\"14.00\">StudentT</text>\n",
       "</g>\n",
       "<!-- intercept&#45;&gt;age_of_tree -->\n",
       "<g id=\"edge3\" class=\"edge\">\n",
       "<title>intercept&#45;&gt;age_of_tree</title>\n",
       "<path fill=\"none\" stroke=\"black\" d=\"M185.64,-266.51C192.04,-253.1 199.37,-237.75 206.15,-223.54\"/>\n",
       "<polygon fill=\"black\" stroke=\"black\" points=\"209.17,-225.33 210.32,-214.8 202.85,-222.32 209.17,-225.33\"/>\n",
       "</g>\n",
       "<!-- sigma -->\n",
       "<g id=\"node5\" class=\"node\">\n",
       "<title>sigma</title>\n",
       "<ellipse fill=\"none\" stroke=\"black\" cx=\"290\" cy=\"-304.48\" rx=\"57.45\" ry=\"40.66\"/>\n",
       "<text text-anchor=\"middle\" x=\"290\" y=\"-315.93\" font-family=\"Times,serif\" font-size=\"14.00\">sigma</text>\n",
       "<text text-anchor=\"middle\" x=\"290\" y=\"-299.43\" font-family=\"Times,serif\" font-size=\"14.00\">~</text>\n",
       "<text text-anchor=\"middle\" x=\"290\" y=\"-282.93\" font-family=\"Times,serif\" font-size=\"14.00\">HalfCauchy</text>\n",
       "</g>\n",
       "<!-- sigma&#45;&gt;age_of_tree -->\n",
       "<g id=\"edge2\" class=\"edge\">\n",
       "<title>sigma&#45;&gt;age_of_tree</title>\n",
       "<path fill=\"none\" stroke=\"black\" d=\"M271.86,-265.47C265.59,-252.34 258.49,-237.44 251.89,-223.62\"/>\n",
       "<polygon fill=\"black\" stroke=\"black\" points=\"255.08,-222.18 247.61,-214.66 248.76,-225.19 255.08,-222.18\"/>\n",
       "</g>\n",
       "<!-- coeffs -->\n",
       "<g id=\"node6\" class=\"node\">\n",
       "<title>coeffs</title>\n",
       "<ellipse fill=\"none\" stroke=\"black\" cx=\"412\" cy=\"-304.48\" rx=\"46.32\" ry=\"40.66\"/>\n",
       "<text text-anchor=\"middle\" x=\"412\" y=\"-315.93\" font-family=\"Times,serif\" font-size=\"14.00\">coeffs</text>\n",
       "<text text-anchor=\"middle\" x=\"412\" y=\"-299.43\" font-family=\"Times,serif\" font-size=\"14.00\">~</text>\n",
       "<text text-anchor=\"middle\" x=\"412\" y=\"-282.93\" font-family=\"Times,serif\" font-size=\"14.00\">StudentT</text>\n",
       "</g>\n",
       "<!-- coeffs&#45;&gt;age_of_tree -->\n",
       "<g id=\"edge4\" class=\"edge\">\n",
       "<title>coeffs&#45;&gt;age_of_tree</title>\n",
       "<path fill=\"none\" stroke=\"black\" d=\"M390.24,-268.46C380.91,-255.53 369.13,-241.55 356,-231.32 336.83,-216.38 313.02,-204.56 291.22,-195.73\"/>\n",
       "<polygon fill=\"black\" stroke=\"black\" points=\"292.7,-192.56 282.11,-192.19 290.16,-199.08 292.7,-192.56\"/>\n",
       "</g>\n",
       "</g>\n",
       "</svg>\n"
      ],
      "text/plain": [
       "<graphviz.graphs.Digraph at 0x7fb355103d90>"
      ]
     },
     "execution_count": 28,
     "metadata": {},
     "output_type": "execute_result"
    }
   ],
   "source": [
    "pm.model_to_graphviz(m_linear)"
   ]
  },
  {
   "cell_type": "code",
   "execution_count": 29,
   "id": "d7b5b1f1-5a54-4344-ba6b-631f4e8232ee",
   "metadata": {},
   "outputs": [
    {
     "data": {
      "text/plain": [
       "r2        0.519162\n",
       "r2_std    0.000000\n",
       "dtype: float64"
      ]
     },
     "execution_count": 29,
     "metadata": {},
     "output_type": "execute_result"
    }
   ],
   "source": [
    "az.r2_score(y_train, y_pred)"
   ]
  },
  {
   "cell_type": "code",
   "execution_count": 30,
   "id": "d0199330-3213-47e0-90ab-754ee7bcd807",
   "metadata": {},
   "outputs": [
    {
     "data": {
      "text/plain": [
       "0.1149"
      ]
     },
     "execution_count": 30,
     "metadata": {},
     "output_type": "execute_result"
    }
   ],
   "source": [
    "round(mean_squared_error(y_train, y_pred), 4)"
   ]
  },
  {
   "cell_type": "code",
   "execution_count": 31,
   "id": "023a2444-4933-4ee1-907c-39da18a64892",
   "metadata": {},
   "outputs": [
    {
     "data": {
      "text/plain": [
       "[Text(0.5, 0, 'predicted'), Text(0, 0.5, 'actual')]"
      ]
     },
     "execution_count": 31,
     "metadata": {},
     "output_type": "execute_result"
    },
    {
     "data": {
      "image/png": "[encoded data removed]",
      "text/plain": [
       "<Figure size 640x480 with 1 Axes>"
      ]
     },
     "metadata": {},
     "output_type": "display_data"
    }
   ],
   "source": [
    "plot = sns.regplot(x=y_pred, y=y_train)\n",
    "plot.set(xlabel=\"predicted\", ylabel=\"actual\")"
   ]
  },
  {
   "cell_type": "markdown",
   "id": "416d8299-6aae-450f-9d41-d99169e2785f",
   "metadata": {},
   "source": [
    "**Now lets predict the test set**"
   ]
  },
  {
   "cell_type": "markdown",
   "id": "e8379d12-6808-4e82-991e-64ca8557f188",
   "metadata": {},
   "source": [
    "First prediction without sampling... just use coefficients"
   ]
  },
  {
   "cell_type": "code",
   "execution_count": 32,
   "id": "9d9739b4-4e51-400c-a3e2-b4c1c669b647",
   "metadata": {},
   "outputs": [],
   "source": [
    "pred_intercept = trace_linear.posterior.intercept.mean().values.item()\n",
    "pred_coeffs = trace_linear.posterior.coeffs.mean([\"chain\", \"draw\"]).values\n",
    "y_pred_test_nosample = X_test @  pred_coeffs + pred_intercept"
   ]
  },
  {
   "cell_type": "code",
   "execution_count": 33,
   "id": "fb2f194a-d815-457e-aa41-95eaf69b603c",
   "metadata": {},
   "outputs": [
    {
     "data": {
      "text/plain": [
       "0.1245"
      ]
     },
     "execution_count": 33,
     "metadata": {},
     "output_type": "execute_result"
    }
   ],
   "source": [
    "round(mean_squared_error(y_test, y_pred_test_nosample), 4)"
   ]
  },
  {
   "cell_type": "code",
   "execution_count": 34,
   "id": "5400b1cc-420d-4d07-97f7-d5187f26f2aa",
   "metadata": {},
   "outputs": [
    {
     "data": {
      "text/plain": [
       "[Text(0.5, 0, 'predicted'), Text(0, 0.5, 'actual')]"
      ]
     },
     "execution_count": 34,
     "metadata": {},
     "output_type": "execute_result"
    },
    {
     "data": {
      "image/png": "[encoded data removed]",
      "text/plain": [
       "<Figure size 640x480 with 1 Axes>"
      ]
     },
     "metadata": {},
     "output_type": "display_data"
    }
   ],
   "source": [
    "plot = sns.regplot(x=y_pred_test_nosample, y=y_test)\n",
    "plot.set(xlabel=\"predicted\", ylabel=\"actual\")"
   ]
  },
  {
   "cell_type": "markdown",
   "id": "d5099b57-6dd8-45c8-9a44-7ac4c25a1a66",
   "metadata": {},
   "source": [
    "Now predict using sampling"
   ]
  },
  {
   "cell_type": "code",
   "execution_count": 35,
   "id": "18104f41-47cb-43b6-bef5-2789cfe669d8",
   "metadata": {},
   "outputs": [
    {
     "name": "stderr",
     "output_type": "stream",
     "text": [
      "Sampling: [age_of_tree, coeffs]\n"
     ]
    },
    {
     "data": {
      "text/html": [
       "\n",
       "<style>\n",
       "    /* Turns off some styling */\n",
       "    progress {\n",
       "        /* gets rid of default border in Firefox and Opera. */\n",
       "        border: none;\n",
       "        /* Needs to be in here for Safari polyfill so background images work as expected. */\n",
       "        background-size: auto;\n",
       "    }\n",
       "    progress:not([value]), progress:not([value])::-webkit-progress-bar {\n",
       "        background: repeating-linear-gradient(45deg, #7e7e7e, #7e7e7e 10px, #5c5c5c 10px, #5c5c5c 20px);\n",
       "    }\n",
       "    .progress-bar-interrupted, .progress-bar-interrupted::-webkit-progress-bar {\n",
       "        background: #F44336;\n",
       "    }\n",
       "</style>\n"
      ],
      "text/plain": [
       "<IPython.core.display.HTML object>"
      ]
     },
     "metadata": {},
     "output_type": "display_data"
    },
    {
     "data": {
      "text/html": [
       "\n",
       "    <div>\n",
       "      <progress value='2000' class='' max='2000' style='width:300px; height:20px; vertical-align: middle;'></progress>\n",
       "      100.00% [2000/2000 00:00&lt;00:00]\n",
       "    </div>\n",
       "    "
      ],
      "text/plain": [
       "<IPython.core.display.HTML object>"
      ]
     },
     "metadata": {},
     "output_type": "display_data"
    }
   ],
   "source": [
    "with m_linear:\n",
    "    pm.set_data({\"X\": X_test, \"y\": y_test})\n",
    "    ppc_test = pm.sample_posterior_predictive(trace_linear) #, predictions=True)\n",
    "    y_pred_test = ppc_test.posterior_predictive.stack(sample=(\"chain\", \"draw\"))[\"age_of_tree\"].values.T.mean(axis=0)"
   ]
  },
  {
   "cell_type": "code",
   "execution_count": 36,
   "id": "27a9e122-6df0-47f5-8f46-4ad8c5282eb9",
   "metadata": {
    "tags": []
   },
   "outputs": [
    {
     "data": {
      "text/plain": [
       "0.2746"
      ]
     },
     "execution_count": 36,
     "metadata": {},
     "output_type": "execute_result"
    }
   ],
   "source": [
    "round(mean_squared_error(y_test, y_pred_test), 4)"
   ]
  },
  {
   "cell_type": "code",
   "execution_count": 37,
   "id": "c24e28d3-0ef6-4c00-aa8f-d4532d9e8aa3",
   "metadata": {
    "tags": []
   },
   "outputs": [
    {
     "data": {
      "text/plain": [
       "[Text(0.5, 0, 'predicted'), Text(0, 0.5, 'actual')]"
      ]
     },
     "execution_count": 37,
     "metadata": {},
     "output_type": "execute_result"
    },
    {
     "data": {
      "image/png": "[encoded data removed]",
      "text/plain": [
       "<Figure size 640x480 with 1 Axes>"
      ]
     },
     "metadata": {},
     "output_type": "display_data"
    }
   ],
   "source": [
    "plot = sns.regplot(x=y_pred_test, y=y_test)\n",
    "plot.set(xlabel=\"predicted\", ylabel=\"actual\")"
   ]
  },
  {
   "cell_type": "markdown",
   "id": "da358330-0fd9-4485-9788-01825e3ccc2e",
   "metadata": {},
   "source": [
    "The sampling on the test set seems very unstable. Note how we can get two very different results when we redraw the samples."
   ]
  },
  {
   "cell_type": "code",
   "execution_count": 38,
   "id": "d3bc5921-3510-4a7a-8b2a-421c89b33ee8",
   "metadata": {},
   "outputs": [
    {
     "name": "stderr",
     "output_type": "stream",
     "text": [
      "Sampling: [age_of_tree, coeffs]\n"
     ]
    },
    {
     "data": {
      "text/html": [
       "\n",
       "<style>\n",
       "    /* Turns off some styling */\n",
       "    progress {\n",
       "        /* gets rid of default border in Firefox and Opera. */\n",
       "        border: none;\n",
       "        /* Needs to be in here for Safari polyfill so background images work as expected. */\n",
       "        background-size: auto;\n",
       "    }\n",
       "    progress:not([value]), progress:not([value])::-webkit-progress-bar {\n",
       "        background: repeating-linear-gradient(45deg, #7e7e7e, #7e7e7e 10px, #5c5c5c 10px, #5c5c5c 20px);\n",
       "    }\n",
       "    .progress-bar-interrupted, .progress-bar-interrupted::-webkit-progress-bar {\n",
       "        background: #F44336;\n",
       "    }\n",
       "</style>\n"
      ],
      "text/plain": [
       "<IPython.core.display.HTML object>"
      ]
     },
     "metadata": {},
     "output_type": "display_data"
    },
    {
     "data": {
      "text/html": [
       "\n",
       "    <div>\n",
       "      <progress value='2000' class='' max='2000' style='width:300px; height:20px; vertical-align: middle;'></progress>\n",
       "      100.00% [2000/2000 00:00&lt;00:00]\n",
       "    </div>\n",
       "    "
      ],
      "text/plain": [
       "<IPython.core.display.HTML object>"
      ]
     },
     "metadata": {},
     "output_type": "display_data"
    }
   ],
   "source": [
    "with m_linear:\n",
    "    pm.set_data({\"X\": X_test, \"y\": y_test})\n",
    "    ppc_test = pm.sample_posterior_predictive(trace_linear) #, predictions=True)\n",
    "    y_pred_test = ppc_test.posterior_predictive.stack(sample=(\"chain\", \"draw\"))[\"age_of_tree\"].values.T.mean(axis=0)"
   ]
  },
  {
   "cell_type": "code",
   "execution_count": 39,
   "id": "1c787d22-ea1a-48fc-87d8-97474ba44fca",
   "metadata": {
    "jupyter": {
     "source_hidden": true
    },
    "tags": []
   },
   "outputs": [
    {
     "data": {
      "text/plain": [
       "0.4446"
      ]
     },
     "execution_count": 39,
     "metadata": {},
     "output_type": "execute_result"
    }
   ],
   "source": [
    "round(mean_squared_error(y_test, y_pred_test), 4)"
   ]
  },
  {
   "cell_type": "code",
   "execution_count": 44,
   "id": "eddba16d-d3e2-4eb8-9879-f54782b122e8",
   "metadata": {
    "tags": []
   },
   "outputs": [
    {
     "data": {
      "text/plain": [
       "[Text(0.5, 0, 'predicted'), Text(0, 0.5, 'actual')]"
      ]
     },
     "execution_count": 44,
     "metadata": {},
     "output_type": "execute_result"
    },
    {
     "data": {
      "image/png": "[encoded data removed]",
      "text/plain": [
       "<Figure size 640x480 with 1 Axes>"
      ]
     },
     "metadata": {},
     "output_type": "display_data"
    }
   ],
   "source": [
    "plot = sns.regplot(x=y_pred_test, y=y_test)\n",
    "plot.set(xlabel=\"predicted\", ylabel=\"actual\")"
   ]
  },
  {
   "cell_type": "markdown",
   "id": "0fb7a8eb-9b4f-4165-ae0f-8fcd023e5fc3",
   "metadata": {},
   "source": [
    "**Now let's try and build a simple neural network, with 3 neurons. We will keep it small to limit computational complexity.**"
   ]
  },
  {
   "cell_type": "code",
   "execution_count": null,
   "id": "359152c7-f331-4810-96f5-cbafb133b6cf",
   "metadata": {},
   "outputs": [],
   "source": [
    "with pm.Model() as m_neural:\n",
    "    # associate data with model (this makes prediction easier)\n",
    "    X_data = pm.Data(\"X\", X_train, mutable=True)\n",
    "    y_data = pm.Data(\"y\", y_train, mutable=True)\n",
    "    \n",
    "    intercept = pm.StudentT(\"intercept\", mu=0, sigma=5, nu=3)\n",
    "    coeffs = pm.StudentT(\"coeffs\", mu=0, sigma=5, nu=3, shape=X_data.shape[1])\n",
    "    sigma = pm.HalfCauchy(\"sigma\", beta=10)\n",
    "\n",
    "    mu = intercept + pm.math.dot(X_data, coeffs)\n",
    "\n",
    "    # likelihood\n",
    "    pm.StudentT(\"age_of_tree\", mu=mu, sigma=sigma, nu=3, observed=y_data)\n",
    "\n",
    "    # start sampling\n",
    "    trace_neural = pm.sample(neural_model_n_samples)\n",
    "    ppc_neural = pm.sample_posterior_predictive(trace_linear)\n",
    "    \n",
    "    y_pred_neural = ppc.posterior_predictive.stack(sample=(\"chain\", \"draw\"))[\"age_of_tree\"].values.T.mean(axis=0)"
   ]
  },
  {
   "cell_type": "markdown",
   "id": "3cd35384-fd0b-42c5-8742-9b7f908fd194",
   "metadata": {},
   "source": [
    "# --------------------------------"
   ]
  },
  {
   "cell_type": "code",
   "execution_count": 41,
   "id": "07ced715-e452-40b0-8cb1-6cfbbdae7fff",
   "metadata": {},
   "outputs": [
    {
     "data": {
      "image/svg+xml": [
       "<?xml version=\"1.0\" encoding=\"UTF-8\" standalone=\"no\"?>\n",
       "<!DOCTYPE svg PUBLIC \"-//W3C//DTD SVG 1.1//EN\"\n",
       " \"http://www.w3.org/Graphics/SVG/1.1/DTD/svg11.dtd\">\n",
       "<!-- Generated by graphviz version 9.0.0 (20231125.0833)\n",
       " -->\n",
       "<!-- Pages: 1 -->\n",
       "<svg width=\"482pt\" height=\"369pt\"\n",
       " viewBox=\"0.00 0.00 482.00 369.13\" xmlns=\"http://www.w3.org/2000/svg\" xmlns:xlink=\"http://www.w3.org/1999/xlink\">\n",
       "<g id=\"graph0\" class=\"graph\" transform=\"scale(1 1) rotate(0) translate(4 365.13)\">\n",
       "<polygon fill=\"white\" stroke=\"none\" points=\"-4,4 -4,-365.13 478,-365.13 478,4 -4,4\"/>\n",
       "<g id=\"clust1\" class=\"cluster\">\n",
       "<title>cluster2500 x 10</title>\n",
       "<path fill=\"none\" stroke=\"black\" d=\"M20,-243.23C20,-243.23 100,-243.23 100,-243.23 106,-243.23 112,-249.23 112,-255.23 112,-255.23 112,-329.23 112,-329.23 112,-335.23 106,-341.23 100,-341.23 100,-341.23 20,-341.23 20,-341.23 14,-341.23 8,-335.23 8,-329.23 8,-329.23 8,-255.23 8,-255.23 8,-249.23 14,-243.23 20,-243.23\"/>\n",
       "<text text-anchor=\"middle\" x=\"76.62\" y=\"-250.43\" font-family=\"Times,serif\" font-size=\"14.00\">2500 x 10</text>\n",
       "</g>\n",
       "<g id=\"clust2\" class=\"cluster\">\n",
       "<title>cluster2500</title>\n",
       "<path fill=\"none\" stroke=\"black\" d=\"M177,-8C177,-8 281,-8 281,-8 287,-8 293,-14 293,-20 293,-20 293,-211.32 293,-211.32 293,-217.32 287,-223.32 281,-223.32 281,-223.32 177,-223.32 177,-223.32 171,-223.32 165,-217.32 165,-211.32 165,-211.32 165,-20 165,-20 165,-14 171,-8 177,-8\"/>\n",
       "<text text-anchor=\"middle\" x=\"271.5\" y=\"-15.2\" font-family=\"Times,serif\" font-size=\"14.00\">2500</text>\n",
       "</g>\n",
       "<g id=\"clust3\" class=\"cluster\">\n",
       "<title>cluster10</title>\n",
       "<path fill=\"none\" stroke=\"black\" d=\"M370,-231.32C370,-231.32 454,-231.32 454,-231.32 460,-231.32 466,-237.32 466,-243.32 466,-243.32 466,-341.13 466,-341.13 466,-347.13 460,-353.13 454,-353.13 454,-353.13 370,-353.13 370,-353.13 364,-353.13 358,-347.13 358,-341.13 358,-341.13 358,-243.32 358,-243.32 358,-237.32 364,-231.32 370,-231.32\"/>\n",
       "<text text-anchor=\"middle\" x=\"451.25\" y=\"-238.52\" font-family=\"Times,serif\" font-size=\"14.00\">10</text>\n",
       "</g>\n",
       "<!-- X -->\n",
       "<g id=\"node1\" class=\"node\">\n",
       "<title>X</title>\n",
       "<path fill=\"lightgrey\" stroke=\"black\" d=\"M91.62,-333.23C91.62,-333.23 28.38,-333.23 28.38,-333.23 22.38,-333.23 16.38,-327.23 16.38,-321.23 16.38,-321.23 16.38,-287.73 16.38,-287.73 16.38,-281.73 22.38,-275.73 28.38,-275.73 28.38,-275.73 91.62,-275.73 91.62,-275.73 97.62,-275.73 103.62,-281.73 103.62,-287.73 103.62,-287.73 103.62,-321.23 103.62,-321.23 103.62,-327.23 97.62,-333.23 91.62,-333.23\"/>\n",
       "<text text-anchor=\"middle\" x=\"60\" y=\"-315.93\" font-family=\"Times,serif\" font-size=\"14.00\">X</text>\n",
       "<text text-anchor=\"middle\" x=\"60\" y=\"-299.43\" font-family=\"Times,serif\" font-size=\"14.00\">~</text>\n",
       "<text text-anchor=\"middle\" x=\"60\" y=\"-282.93\" font-family=\"Times,serif\" font-size=\"14.00\">MutableData</text>\n",
       "</g>\n",
       "<!-- age_of_tree -->\n",
       "<g id=\"node2\" class=\"node\">\n",
       "<title>age_of_tree</title>\n",
       "<ellipse fill=\"lightgrey\" stroke=\"black\" cx=\"229\" cy=\"-174.66\" rx=\"56.39\" ry=\"40.66\"/>\n",
       "<text text-anchor=\"middle\" x=\"229\" y=\"-186.11\" font-family=\"Times,serif\" font-size=\"14.00\">age_of_tree</text>\n",
       "<text text-anchor=\"middle\" x=\"229\" y=\"-169.61\" font-family=\"Times,serif\" font-size=\"14.00\">~</text>\n",
       "<text text-anchor=\"middle\" x=\"229\" y=\"-153.11\" font-family=\"Times,serif\" font-size=\"14.00\">StudentT</text>\n",
       "</g>\n",
       "<!-- X&#45;&gt;age_of_tree -->\n",
       "<g id=\"edge5\" class=\"edge\">\n",
       "<title>X&#45;&gt;age_of_tree</title>\n",
       "<path fill=\"none\" stroke=\"black\" d=\"M75.91,-275.52C85.27,-260.93 98.16,-243.62 113,-231.32 129.25,-217.84 149.31,-206.73 168.15,-198.08\"/>\n",
       "<polygon fill=\"black\" stroke=\"black\" points=\"169.34,-201.37 177.08,-194.13 166.52,-194.97 169.34,-201.37\"/>\n",
       "</g>\n",
       "<!-- y -->\n",
       "<g id=\"node3\" class=\"node\">\n",
       "<title>y</title>\n",
       "<path fill=\"lightgrey\" stroke=\"black\" d=\"M260.62,-98C260.62,-98 197.38,-98 197.38,-98 191.38,-98 185.38,-92 185.38,-86 185.38,-86 185.38,-52.5 185.38,-52.5 185.38,-46.5 191.38,-40.5 197.38,-40.5 197.38,-40.5 260.62,-40.5 260.62,-40.5 266.62,-40.5 272.62,-46.5 272.62,-52.5 272.62,-52.5 272.62,-86 272.62,-86 272.62,-92 266.62,-98 260.62,-98\"/>\n",
       "<text text-anchor=\"middle\" x=\"229\" y=\"-80.7\" font-family=\"Times,serif\" font-size=\"14.00\">y</text>\n",
       "<text text-anchor=\"middle\" x=\"229\" y=\"-64.2\" font-family=\"Times,serif\" font-size=\"14.00\">~</text>\n",
       "<text text-anchor=\"middle\" x=\"229\" y=\"-47.7\" font-family=\"Times,serif\" font-size=\"14.00\">MutableData</text>\n",
       "</g>\n",
       "<!-- age_of_tree&#45;&gt;y -->\n",
       "<g id=\"edge1\" class=\"edge\">\n",
       "<title>age_of_tree&#45;&gt;y</title>\n",
       "<path fill=\"none\" stroke=\"black\" d=\"M229,-133.68C229,-125.83 229,-117.6 229,-109.76\"/>\n",
       "<polygon fill=\"black\" stroke=\"black\" points=\"232.5,-109.79 229,-99.79 225.5,-109.79 232.5,-109.79\"/>\n",
       "</g>\n",
       "<!-- intercept -->\n",
       "<g id=\"node4\" class=\"node\">\n",
       "<title>intercept</title>\n",
       "<ellipse fill=\"none\" stroke=\"black\" cx=\"168\" cy=\"-304.48\" rx=\"46.32\" ry=\"40.66\"/>\n",
       "<text text-anchor=\"middle\" x=\"168\" y=\"-315.93\" font-family=\"Times,serif\" font-size=\"14.00\">intercept</text>\n",
       "<text text-anchor=\"middle\" x=\"168\" y=\"-299.43\" font-family=\"Times,serif\" font-size=\"14.00\">~</text>\n",
       "<text text-anchor=\"middle\" x=\"168\" y=\"-282.93\" font-family=\"Times,serif\" font-size=\"14.00\">StudentT</text>\n",
       "</g>\n",
       "<!-- intercept&#45;&gt;age_of_tree -->\n",
       "<g id=\"edge3\" class=\"edge\">\n",
       "<title>intercept&#45;&gt;age_of_tree</title>\n",
       "<path fill=\"none\" stroke=\"black\" d=\"M185.64,-266.51C192.04,-253.1 199.37,-237.75 206.15,-223.54\"/>\n",
       "<polygon fill=\"black\" stroke=\"black\" points=\"209.17,-225.33 210.32,-214.8 202.85,-222.32 209.17,-225.33\"/>\n",
       "</g>\n",
       "<!-- sigma -->\n",
       "<g id=\"node5\" class=\"node\">\n",
       "<title>sigma</title>\n",
       "<ellipse fill=\"none\" stroke=\"black\" cx=\"290\" cy=\"-304.48\" rx=\"57.45\" ry=\"40.66\"/>\n",
       "<text text-anchor=\"middle\" x=\"290\" y=\"-315.93\" font-family=\"Times,serif\" font-size=\"14.00\">sigma</text>\n",
       "<text text-anchor=\"middle\" x=\"290\" y=\"-299.43\" font-family=\"Times,serif\" font-size=\"14.00\">~</text>\n",
       "<text text-anchor=\"middle\" x=\"290\" y=\"-282.93\" font-family=\"Times,serif\" font-size=\"14.00\">HalfCauchy</text>\n",
       "</g>\n",
       "<!-- sigma&#45;&gt;age_of_tree -->\n",
       "<g id=\"edge2\" class=\"edge\">\n",
       "<title>sigma&#45;&gt;age_of_tree</title>\n",
       "<path fill=\"none\" stroke=\"black\" d=\"M271.86,-265.47C265.59,-252.34 258.49,-237.44 251.89,-223.62\"/>\n",
       "<polygon fill=\"black\" stroke=\"black\" points=\"255.08,-222.18 247.61,-214.66 248.76,-225.19 255.08,-222.18\"/>\n",
       "</g>\n",
       "<!-- coeffs -->\n",
       "<g id=\"node6\" class=\"node\">\n",
       "<title>coeffs</title>\n",
       "<ellipse fill=\"none\" stroke=\"black\" cx=\"412\" cy=\"-304.48\" rx=\"46.32\" ry=\"40.66\"/>\n",
       "<text text-anchor=\"middle\" x=\"412\" y=\"-315.93\" font-family=\"Times,serif\" font-size=\"14.00\">coeffs</text>\n",
       "<text text-anchor=\"middle\" x=\"412\" y=\"-299.43\" font-family=\"Times,serif\" font-size=\"14.00\">~</text>\n",
       "<text text-anchor=\"middle\" x=\"412\" y=\"-282.93\" font-family=\"Times,serif\" font-size=\"14.00\">StudentT</text>\n",
       "</g>\n",
       "<!-- coeffs&#45;&gt;age_of_tree -->\n",
       "<g id=\"edge4\" class=\"edge\">\n",
       "<title>coeffs&#45;&gt;age_of_tree</title>\n",
       "<path fill=\"none\" stroke=\"black\" d=\"M390.24,-268.46C380.91,-255.53 369.13,-241.55 356,-231.32 336.83,-216.38 313.02,-204.56 291.22,-195.73\"/>\n",
       "<polygon fill=\"black\" stroke=\"black\" points=\"292.7,-192.56 282.11,-192.19 290.16,-199.08 292.7,-192.56\"/>\n",
       "</g>\n",
       "</g>\n",
       "</svg>\n"
      ],
      "text/plain": [
       "<graphviz.graphs.Digraph at 0x7fb2d1cdf090>"
      ]
     },
     "execution_count": 41,
     "metadata": {},
     "output_type": "execute_result"
    }
   ],
   "source": [
    "pm.model_to_graphviz(m_linear)"
   ]
  },
  {
   "cell_type": "code",
   "execution_count": 42,
   "id": "9f23c503-0d42-461b-9d94-6d2d7f57b7a5",
   "metadata": {},
   "outputs": [
    {
     "data": {
      "text/html": [
       "<div>\n",
       "<style scoped>\n",
       "    .dataframe tbody tr th:only-of-type {\n",
       "        vertical-align: middle;\n",
       "    }\n",
       "\n",
       "    .dataframe tbody tr th {\n",
       "        vertical-align: top;\n",
       "    }\n",
       "\n",
       "    .dataframe thead th {\n",
       "        text-align: right;\n",
       "    }\n",
       "</style>\n",
       "<table border=\"1\" class=\"dataframe\">\n",
       "  <thead>\n",
       "    <tr style=\"text-align: right;\">\n",
       "      <th></th>\n",
       "      <th>mean</th>\n",
       "      <th>sd</th>\n",
       "      <th>hdi_2.5%</th>\n",
       "      <th>hdi_97.5%</th>\n",
       "      <th>mcse_mean</th>\n",
       "      <th>mcse_sd</th>\n",
       "      <th>ess_bulk</th>\n",
       "      <th>ess_tail</th>\n",
       "      <th>r_hat</th>\n",
       "    </tr>\n",
       "  </thead>\n",
       "  <tbody>\n",
       "    <tr>\n",
       "      <th>intercept</th>\n",
       "      <td>0.055</td>\n",
       "      <td>2.365</td>\n",
       "      <td>-4.607</td>\n",
       "      <td>4.923</td>\n",
       "      <td>0.100</td>\n",
       "      <td>0.071</td>\n",
       "      <td>566.0</td>\n",
       "      <td>714.0</td>\n",
       "      <td>1.00</td>\n",
       "    </tr>\n",
       "    <tr>\n",
       "      <th>coeffs[0]</th>\n",
       "      <td>-0.096</td>\n",
       "      <td>2.365</td>\n",
       "      <td>-4.941</td>\n",
       "      <td>4.597</td>\n",
       "      <td>0.100</td>\n",
       "      <td>0.071</td>\n",
       "      <td>565.0</td>\n",
       "      <td>711.0</td>\n",
       "      <td>1.00</td>\n",
       "    </tr>\n",
       "    <tr>\n",
       "      <th>coeffs[1]</th>\n",
       "      <td>-0.168</td>\n",
       "      <td>2.365</td>\n",
       "      <td>-5.014</td>\n",
       "      <td>4.494</td>\n",
       "      <td>0.100</td>\n",
       "      <td>0.071</td>\n",
       "      <td>565.0</td>\n",
       "      <td>765.0</td>\n",
       "      <td>1.00</td>\n",
       "    </tr>\n",
       "    <tr>\n",
       "      <th>coeffs[2]</th>\n",
       "      <td>-0.061</td>\n",
       "      <td>2.365</td>\n",
       "      <td>-4.906</td>\n",
       "      <td>4.633</td>\n",
       "      <td>0.100</td>\n",
       "      <td>0.071</td>\n",
       "      <td>566.0</td>\n",
       "      <td>710.0</td>\n",
       "      <td>1.00</td>\n",
       "    </tr>\n",
       "    <tr>\n",
       "      <th>coeffs[3]</th>\n",
       "      <td>0.013</td>\n",
       "      <td>0.096</td>\n",
       "      <td>-0.172</td>\n",
       "      <td>0.207</td>\n",
       "      <td>0.003</td>\n",
       "      <td>0.002</td>\n",
       "      <td>1274.0</td>\n",
       "      <td>1283.0</td>\n",
       "      <td>1.00</td>\n",
       "    </tr>\n",
       "    <tr>\n",
       "      <th>coeffs[4]</th>\n",
       "      <td>0.290</td>\n",
       "      <td>0.099</td>\n",
       "      <td>0.092</td>\n",
       "      <td>0.485</td>\n",
       "      <td>0.003</td>\n",
       "      <td>0.002</td>\n",
       "      <td>1298.0</td>\n",
       "      <td>1138.0</td>\n",
       "      <td>1.00</td>\n",
       "    </tr>\n",
       "    <tr>\n",
       "      <th>coeffs[5]</th>\n",
       "      <td>0.209</td>\n",
       "      <td>0.042</td>\n",
       "      <td>0.129</td>\n",
       "      <td>0.289</td>\n",
       "      <td>0.001</td>\n",
       "      <td>0.001</td>\n",
       "      <td>1524.0</td>\n",
       "      <td>1248.0</td>\n",
       "      <td>1.00</td>\n",
       "    </tr>\n",
       "    <tr>\n",
       "      <th>coeffs[6]</th>\n",
       "      <td>1.451</td>\n",
       "      <td>0.198</td>\n",
       "      <td>1.097</td>\n",
       "      <td>1.881</td>\n",
       "      <td>0.007</td>\n",
       "      <td>0.005</td>\n",
       "      <td>768.0</td>\n",
       "      <td>1018.0</td>\n",
       "      <td>1.01</td>\n",
       "    </tr>\n",
       "    <tr>\n",
       "      <th>coeffs[7]</th>\n",
       "      <td>-1.291</td>\n",
       "      <td>0.104</td>\n",
       "      <td>-1.495</td>\n",
       "      <td>-1.089</td>\n",
       "      <td>0.004</td>\n",
       "      <td>0.003</td>\n",
       "      <td>866.0</td>\n",
       "      <td>1356.0</td>\n",
       "      <td>1.00</td>\n",
       "    </tr>\n",
       "    <tr>\n",
       "      <th>coeffs[8]</th>\n",
       "      <td>-0.373</td>\n",
       "      <td>0.069</td>\n",
       "      <td>-0.517</td>\n",
       "      <td>-0.248</td>\n",
       "      <td>0.002</td>\n",
       "      <td>0.001</td>\n",
       "      <td>1191.0</td>\n",
       "      <td>1337.0</td>\n",
       "      <td>1.01</td>\n",
       "    </tr>\n",
       "    <tr>\n",
       "      <th>coeffs[9]</th>\n",
       "      <td>0.202</td>\n",
       "      <td>0.083</td>\n",
       "      <td>0.037</td>\n",
       "      <td>0.361</td>\n",
       "      <td>0.003</td>\n",
       "      <td>0.002</td>\n",
       "      <td>1013.0</td>\n",
       "      <td>1517.0</td>\n",
       "      <td>1.00</td>\n",
       "    </tr>\n",
       "    <tr>\n",
       "      <th>sigma</th>\n",
       "      <td>0.225</td>\n",
       "      <td>0.006</td>\n",
       "      <td>0.214</td>\n",
       "      <td>0.236</td>\n",
       "      <td>0.000</td>\n",
       "      <td>0.000</td>\n",
       "      <td>1770.0</td>\n",
       "      <td>1358.0</td>\n",
       "      <td>1.00</td>\n",
       "    </tr>\n",
       "  </tbody>\n",
       "</table>\n",
       "</div>"
      ],
      "text/plain": [
       "            mean     sd  hdi_2.5%  hdi_97.5%  mcse_mean  mcse_sd  ess_bulk  \\\n",
       "intercept  0.055  2.365    -4.607      4.923      0.100    0.071     566.0   \n",
       "coeffs[0] -0.096  2.365    -4.941      4.597      0.100    0.071     565.0   \n",
       "coeffs[1] -0.168  2.365    -5.014      4.494      0.100    0.071     565.0   \n",
       "coeffs[2] -0.061  2.365    -4.906      4.633      0.100    0.071     566.0   \n",
       "coeffs[3]  0.013  0.096    -0.172      0.207      0.003    0.002    1274.0   \n",
       "coeffs[4]  0.290  0.099     0.092      0.485      0.003    0.002    1298.0   \n",
       "coeffs[5]  0.209  0.042     0.129      0.289      0.001    0.001    1524.0   \n",
       "coeffs[6]  1.451  0.198     1.097      1.881      0.007    0.005     768.0   \n",
       "coeffs[7] -1.291  0.104    -1.495     -1.089      0.004    0.003     866.0   \n",
       "coeffs[8] -0.373  0.069    -0.517     -0.248      0.002    0.001    1191.0   \n",
       "coeffs[9]  0.202  0.083     0.037      0.361      0.003    0.002    1013.0   \n",
       "sigma      0.225  0.006     0.214      0.236      0.000    0.000    1770.0   \n",
       "\n",
       "           ess_tail  r_hat  \n",
       "intercept     714.0   1.00  \n",
       "coeffs[0]     711.0   1.00  \n",
       "coeffs[1]     765.0   1.00  \n",
       "coeffs[2]     710.0   1.00  \n",
       "coeffs[3]    1283.0   1.00  \n",
       "coeffs[4]    1138.0   1.00  \n",
       "coeffs[5]    1248.0   1.00  \n",
       "coeffs[6]    1018.0   1.01  \n",
       "coeffs[7]    1356.0   1.00  \n",
       "coeffs[8]    1337.0   1.01  \n",
       "coeffs[9]    1517.0   1.00  \n",
       "sigma        1358.0   1.00  "
      ]
     },
     "execution_count": 42,
     "metadata": {},
     "output_type": "execute_result"
    }
   ],
   "source": [
    "az.summary(trace_linear, hdi_prob=0.95)"
   ]
  },
  {
   "cell_type": "code",
   "execution_count": 43,
   "id": "84681c96-7b6b-4c17-9447-8a06b7a740f1",
   "metadata": {},
   "outputs": [
    {
     "ename": "AttributeError",
     "evalue": "'InferenceData' object has no attribute 'posterior_predictive'",
     "output_type": "error",
     "traceback": [
      "\u001b[0;31m---------------------------------------------------------------------------\u001b[0m",
      "\u001b[0;31mAttributeError\u001b[0m                            Traceback (most recent call last)",
      "Cell \u001b[0;32mIn[43], line 1\u001b[0m\n\u001b[0;32m----> 1\u001b[0m y_pred \u001b[38;5;241m=\u001b[39m trace_linear\u001b[38;5;241m.\u001b[39mposterior_predictive\u001b[38;5;241m.\u001b[39mstack(sample\u001b[38;5;241m=\u001b[39m(\u001b[38;5;124m\"\u001b[39m\u001b[38;5;124mchain\u001b[39m\u001b[38;5;124m\"\u001b[39m, \u001b[38;5;124m\"\u001b[39m\u001b[38;5;124mdraw\u001b[39m\u001b[38;5;124m\"\u001b[39m))[\n\u001b[1;32m      2\u001b[0m     \u001b[38;5;124m\"\u001b[39m\u001b[38;5;124mage_of_tree\u001b[39m\u001b[38;5;124m\"\u001b[39m\n\u001b[1;32m      3\u001b[0m ]\u001b[38;5;241m.\u001b[39mvalues\u001b[38;5;241m.\u001b[39mT\n\u001b[1;32m      4\u001b[0m az\u001b[38;5;241m.\u001b[39mr2_score(y_train, y_pred)\n",
      "\u001b[0;31mAttributeError\u001b[0m: 'InferenceData' object has no attribute 'posterior_predictive'"
     ]
    }
   ],
   "source": [
    "y_pred = trace_linear.posterior_predictive.stack(sample=(\"chain\", \"draw\"))[\n",
    "    \"age_of_tree\"\n",
    "].values.T\n",
    "az.r2_score(y_train, y_pred)"
   ]
  },
  {
   "cell_type": "code",
   "execution_count": null,
   "id": "b3c1ca51-1e4d-42c4-9176-2bc9df17258a",
   "metadata": {},
   "outputs": [],
   "source": [
    "y_pred"
   ]
  },
  {
   "cell_type": "code",
   "execution_count": null,
   "id": "8bbc2b63-71f3-4cbd-af96-d17cd384d543",
   "metadata": {},
   "outputs": [],
   "source": [
    "y_pred.shape"
   ]
  },
  {
   "cell_type": "markdown",
   "id": "059f4725-eaa8-4622-a95a-a14d397fa169",
   "metadata": {},
   "source": [
    "Now predict test data, and compare MSE to actual.\n",
    "See example in PyMC docs: https://www.pymc.io/projects/examples/en/latest/generalized_linear_models/GLM-out-of-sample-predictions.html"
   ]
  },
  {
   "cell_type": "code",
   "execution_count": null,
   "id": "164a80c2-12e5-4972-a4cd-b5a411ec056d",
   "metadata": {},
   "outputs": [],
   "source": [
    "with m_linear:\n",
    "    pm.set_data({\"X\": X_test, \"y\": y_test})\n",
    "    ppc = pm.sample_posterior_predictive(trace_linear, predictions=True)"
   ]
  },
  {
   "cell_type": "code",
   "execution_count": null,
   "id": "d740f88b-e38f-4367-b029-bfef81151961",
   "metadata": {},
   "outputs": [],
   "source": [
    "az.summary(ppc.predictions).mean()"
   ]
  },
  {
   "cell_type": "markdown",
   "id": "44380593-e141-404b-b931-74598ae7e5cc",
   "metadata": {},
   "source": [
    "When I add in the y_test dataset to get the dimensions matching, I get values that are way off. Let's try predicting one at a time... not as efficient, but maybe effective and accurate"
   ]
  },
  {
   "cell_type": "code",
   "execution_count": null,
   "id": "400a861e-4967-439e-baf8-6b7d2071866d",
   "metadata": {},
   "outputs": [],
   "source": [
    "X_test[:5, :]"
   ]
  },
  {
   "cell_type": "code",
   "execution_count": null,
   "id": "78023349-6bd5-4c6a-a0bf-e9af576a1149",
   "metadata": {},
   "outputs": [],
   "source": [
    "output = []\n",
    "\n",
    "for x_pt_test in X_test:\n",
    "    # print(x_pt_test.shape)\n",
    "    # print(type(x_pt_test))\n",
    "    # print(x_pt_test.reshape((1, -1)))\n",
    "    with m_linear:\n",
    "        pm.set_data({\"X\": x_pt_test.reshape((1, -1)) })\n",
    "        ppc_i = pm.sample_posterior_predictive(trace_linear, predictions=True)\n",
    "    output.append(ppc_i.predictions.mean().values)\n"
   ]
  },
  {
   "cell_type": "code",
   "execution_count": null,
   "id": "97c26bb3-0b18-441f-beb7-cd1877fd7726",
   "metadata": {},
   "outputs": [],
   "source": [
    "output[:5]"
   ]
  },
  {
   "cell_type": "code",
   "execution_count": null,
   "id": "fb82fde9-2ec1-449b-89ef-14efd8cdad8c",
   "metadata": {},
   "outputs": [],
   "source": [
    "ppc.predictions.isel(age_of_tree_dim_2=0, chain=0).values"
   ]
  },
  {
   "cell_type": "code",
   "execution_count": null,
   "id": "4c12d4d2-e65f-4e5c-afda-19f6f30cbe6b",
   "metadata": {},
   "outputs": [],
   "source": [
    "y_pred_test = ppc.predictions[\"age_of_tree\"].mean(dim=[\"chain\", \"draw\"]).values"
   ]
  },
  {
   "cell_type": "code",
   "execution_count": null,
   "id": "41b0201b-6165-492a-8600-02d9bb229758",
   "metadata": {},
   "outputs": [],
   "source": [
    "y_pred_test[:50]"
   ]
  },
  {
   "cell_type": "code",
   "execution_count": null,
   "id": "3663c153-bf63-4481-b5ac-cbe508435467",
   "metadata": {},
   "outputs": [],
   "source": []
  },
  {
   "cell_type": "code",
   "execution_count": null,
   "id": "627e7549-9131-4164-b732-a2dc048a91db",
   "metadata": {},
   "outputs": [],
   "source": [
    "y_pred_test.shape"
   ]
  },
  {
   "cell_type": "code",
   "execution_count": null,
   "id": "45ee97e7-c83c-4e9a-98ca-259d3db42eb9",
   "metadata": {},
   "outputs": [],
   "source": [
    "y_pred2 = trace_linear.posterior_predictive.stack(sample=(\"chain\", \"draw\"))[\n",
    "    \"age_of_tree\"\n",
    "].values.T\n",
    "y_pred2"
   ]
  },
  {
   "cell_type": "code",
   "execution_count": null,
   "id": "12171f2b-c294-4256-b0c3-5be1bc8d892c",
   "metadata": {},
   "outputs": [],
   "source": [
    "y_pred2.shape"
   ]
  },
  {
   "cell_type": "code",
   "execution_count": null,
   "id": "5ce4e67a-0bf5-4169-af01-20afeda37442",
   "metadata": {},
   "outputs": [],
   "source": [
    "y_test[:50]"
   ]
  },
  {
   "cell_type": "code",
   "execution_count": null,
   "id": "419a7521-56d3-4e7e-9729-949dda6ed967",
   "metadata": {},
   "outputs": [],
   "source": [
    "y_train[:50]"
   ]
  },
  {
   "cell_type": "code",
   "execution_count": null,
   "id": "c576e99b-0434-423f-b81e-771c82938736",
   "metadata": {},
   "outputs": [],
   "source": [
    "y_pred = trace_linear.posterior_predictive.stack(sample=(\"chain\", \"draw\"))[\n",
    "    \"age_of_tree\"\n",
    "].values.T\n",
    "az.r2_score(y_test, y_pred_test)"
   ]
  },
  {
   "cell_type": "code",
   "execution_count": null,
   "id": "c8e262ad-f161-498a-825b-f08c49f05127",
   "metadata": {},
   "outputs": [],
   "source": [
    "y_pred.shape"
   ]
  },
  {
   "cell_type": "markdown",
   "id": "ce4b4296-687e-4728-85a1-02b322347897",
   "metadata": {},
   "source": [
    "**Calculate test set mean squared error. This is a better comparison than R2 once we start using non-linear models.**"
   ]
  },
  {
   "cell_type": "code",
   "execution_count": null,
   "id": "f9bb83bc-dae3-47a2-84cf-39813f690026",
   "metadata": {},
   "outputs": [],
   "source": [
    "round(mean_squared_error(y_test, y_pred_test), 2)"
   ]
  },
  {
   "cell_type": "markdown",
   "id": "632c2d3b-7582-4b42-a17a-3676549a6fac",
   "metadata": {},
   "source": [
    "The below plot shows there's a large discrepency between the predicted and actual known values. These should be somewhat similar."
   ]
  },
  {
   "cell_type": "code",
   "execution_count": null,
   "id": "9acf426b-663a-418a-a82e-ede56506978f",
   "metadata": {},
   "outputs": [],
   "source": [
    "plot = sns.regplot(x=y_pred_test, y=y_test)\n",
    "plot.set(xlabel=\"predicted\", ylabel=\"actual\")"
   ]
  },
  {
   "cell_type": "code",
   "execution_count": null,
   "id": "a8e3ea30-d829-47fd-8972-7a1ccf69703f",
   "metadata": {},
   "outputs": [],
   "source": [
    "pred_intercept = trace_linear.posterior.intercept.mean().values.item()"
   ]
  },
  {
   "cell_type": "code",
   "execution_count": null,
   "id": "b8ce93e5-05a9-47e5-ab50-c162e13d6068",
   "metadata": {},
   "outputs": [],
   "source": [
    "pred_coeffs = trace_linear.posterior.coeffs.mean([\"chain\", \"draw\"]).values"
   ]
  },
  {
   "cell_type": "code",
   "execution_count": null,
   "id": "752860ee-9199-46e1-85fb-9f474d156fd5",
   "metadata": {},
   "outputs": [],
   "source": [
    "pred_coeffs.shape"
   ]
  },
  {
   "cell_type": "code",
   "execution_count": null,
   "id": "4b38bfcb-3d40-4bbe-ad28-e4e2602ffaca",
   "metadata": {},
   "outputs": [],
   "source": [
    "X_test.shape"
   ]
  },
  {
   "cell_type": "code",
   "execution_count": null,
   "id": "cf72e9a6-e305-44c7-8546-e52a1b2acc92",
   "metadata": {},
   "outputs": [],
   "source": [
    "y_pred3 = X_test @  pred_coeffs + pred_intercept"
   ]
  },
  {
   "cell_type": "code",
   "execution_count": null,
   "id": "d1ae3caf-436c-445e-a2b3-8e8bbee9ae78",
   "metadata": {},
   "outputs": [],
   "source": [
    "y_pred3"
   ]
  },
  {
   "cell_type": "code",
   "execution_count": null,
   "id": "317d51de-d3d9-4622-a3f8-ecf4a7d6619a",
   "metadata": {},
   "outputs": [],
   "source": [
    "round(mean_squared_error(y_test, y_pred3), 2)"
   ]
  },
  {
   "cell_type": "code",
   "execution_count": null,
   "id": "2603a437-9373-48ee-9a15-d9cd8b450be7",
   "metadata": {},
   "outputs": [],
   "source": [
    "plot = sns.regplot(x=y_pred3, y=y_test)\n",
    "plot.set(xlabel=\"predicted\", ylabel=\"actual\")"
   ]
  },
  {
   "cell_type": "code",
   "execution_count": null,
   "id": "4dcbad1a-976d-4e33-9a12-8bdfd32cc454",
   "metadata": {},
   "outputs": [],
   "source": [
    "%load_ext watermark\n",
    "%watermark -n -u -v -iv -p pytensor"
   ]
  },
  {
   "cell_type": "code",
   "execution_count": null,
   "id": "5e5b3712-9d11-4e75-b670-d56ee689edc8",
   "metadata": {},
   "outputs": [],
   "source": []
  },
  {
   "cell_type": "code",
   "execution_count": null,
   "id": "c66bd8ec-8975-45cf-806f-e1e06472edc8",
   "metadata": {},
   "outputs": [],
   "source": []
  },
  {
   "cell_type": "code",
   "execution_count": null,
   "id": "c48f1b58-bd9e-4cda-bcab-d75e71540ad9",
   "metadata": {},
   "outputs": [],
   "source": []
  }
 ],
 "metadata": {
  "kernelspec": {
   "display_name": "Python 3 (ipykernel)",
   "language": "python",
   "name": "python3"
  },
  "language_info": {
   "codemirror_mode": {
    "name": "ipython",
    "version": 3
   },
   "file_extension": ".py",
   "mimetype": "text/x-python",
   "name": "python",
   "nbconvert_exporter": "python",
   "pygments_lexer": "ipython3",
   "version": "3.11.6"
  }
 },
 "nbformat": 4,
 "nbformat_minor": 5
}
